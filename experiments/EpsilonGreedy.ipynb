{
 "cells": [
  {
   "cell_type": "code",
   "execution_count": 35,
   "metadata": {},
   "outputs": [
    {
     "name": "stdout",
     "output_type": "stream",
     "text": [
      "The autoreload extension is already loaded. To reload it, use:\n",
      "  %reload_ext autoreload\n"
     ]
    }
   ],
   "source": [
    "%load_ext autoreload\n",
    "%autoreload 2\n",
    "import sys\n",
    "sys.path.insert(0, '..')\n",
    "\n",
    "from sim.LoadBalancer import LoadBalancer\n",
    "from sim.Source import ArrivalSchedule, Source\n",
    "from sim.Environment import Environment\n",
    "from sim.GELoadBalancer import GreedyEpsilonLoadBalancer\n",
    "import numpy as np\n",
    "import random\n",
    "import matplotlib.pyplot as plt\n",
    "import math"
   ]
  },
  {
   "attachments": {},
   "cell_type": "markdown",
   "metadata": {},
   "source": [
    "### Test for fixed rate"
   ]
  },
  {
   "cell_type": "code",
   "execution_count": 17,
   "metadata": {},
   "outputs": [
    {
     "name": "stdout",
     "output_type": "stream",
     "text": [
      "17\n"
     ]
    }
   ],
   "source": [
    "from BinarySearch import binaryServerSearch\n",
    "\n",
    "opt = binaryServerSearch(10,[0,40])\n",
    "print(opt)"
   ]
  },
  {
   "cell_type": "code",
   "execution_count": 21,
   "metadata": {},
   "outputs": [],
   "source": [
    "def sigmoid(x):\n",
    "      return 1 / (1 + np.exp(-x))"
   ]
  },
  {
   "cell_type": "code",
   "execution_count": 36,
   "metadata": {},
   "outputs": [
    {
     "name": "stdout",
     "output_type": "stream",
     "text": [
      "17920 1056 10 5860.0\n",
      "26\n",
      "18044 1 26 14134.0\n",
      "nan\n",
      "(1, 8) (1, 1)\n",
      "22\n"
     ]
    },
    {
     "name": "stderr",
     "output_type": "stream",
     "text": [
      "../sim/GELoadBalancer.py:90: DataConversionWarning: A column-vector y was passed when a 1d array was expected. Please change the shape of y to (n_samples,), for example using ravel().\n",
      "  #print(self.X.shape,self.y.shape)\n",
      "/Users/julianvanmeggelen/opt/anaconda3/lib/python3.8/site-packages/sklearn/metrics/_regression.py:682: UndefinedMetricWarning: R^2 score is not well-defined with less than two samples.\n",
      "  warnings.warn(msg, UndefinedMetricWarning)\n"
     ]
    },
    {
     "name": "stdout",
     "output_type": "stream",
     "text": [
      "18047 0.0 22 14747.0\n",
      "0.5999999999999976\n",
      "(2, 8) (2, 1)\n",
      "24\n"
     ]
    },
    {
     "name": "stderr",
     "output_type": "stream",
     "text": [
      "../sim/GELoadBalancer.py:90: DataConversionWarning: A column-vector y was passed when a 1d array was expected. Please change the shape of y to (n_samples,), for example using ravel().\n",
      "  #print(self.X.shape,self.y.shape)\n"
     ]
    },
    {
     "name": "stdout",
     "output_type": "stream",
     "text": [
      "18122 0.0 24 14522.0\n",
      "0.7389405447379079\n",
      "(3, 8) (3, 1)\n",
      "23\n"
     ]
    },
    {
     "name": "stderr",
     "output_type": "stream",
     "text": [
      "../sim/GELoadBalancer.py:90: DataConversionWarning: A column-vector y was passed when a 1d array was expected. Please change the shape of y to (n_samples,), for example using ravel().\n",
      "  #print(self.X.shape,self.y.shape)\n"
     ]
    },
    {
     "name": "stdout",
     "output_type": "stream",
     "text": [
      "18138 0.0 23 14688.0\n",
      "0.8048639674015812\n",
      "(4, 8) (4, 1)\n",
      "29\n"
     ]
    },
    {
     "name": "stderr",
     "output_type": "stream",
     "text": [
      "../sim/GELoadBalancer.py:90: DataConversionWarning: A column-vector y was passed when a 1d array was expected. Please change the shape of y to (n_samples,), for example using ravel().\n",
      "  #print(self.X.shape,self.y.shape)\n"
     ]
    },
    {
     "name": "stdout",
     "output_type": "stream",
     "text": [
      "17959 0.0 29 13609.0\n",
      "0.736073221705993\n",
      "(5, 8) (5, 1)\n",
      "21\n"
     ]
    },
    {
     "name": "stderr",
     "output_type": "stream",
     "text": [
      "../sim/GELoadBalancer.py:90: DataConversionWarning: A column-vector y was passed when a 1d array was expected. Please change the shape of y to (n_samples,), for example using ravel().\n",
      "  #print(self.X.shape,self.y.shape)\n"
     ]
    },
    {
     "name": "stdout",
     "output_type": "stream",
     "text": [
      "18035 0.0 21 14885.0\n",
      "0.7937772631671562\n",
      "(6, 8) (6, 1)\n",
      "15\n"
     ]
    },
    {
     "name": "stderr",
     "output_type": "stream",
     "text": [
      "../sim/GELoadBalancer.py:90: DataConversionWarning: A column-vector y was passed when a 1d array was expected. Please change the shape of y to (n_samples,), for example using ravel().\n",
      "  #print(self.X.shape,self.y.shape)\n"
     ]
    },
    {
     "name": "stdout",
     "output_type": "stream",
     "text": [
      "17895 87 15 14775.0\n",
      "0.7235328291017915\n",
      "(7, 8) (7, 1)\n",
      "12\n"
     ]
    },
    {
     "name": "stderr",
     "output_type": "stream",
     "text": [
      "../sim/GELoadBalancer.py:90: DataConversionWarning: A column-vector y was passed when a 1d array was expected. Please change the shape of y to (n_samples,), for example using ravel().\n",
      "  #print(self.X.shape,self.y.shape)\n"
     ]
    },
    {
     "name": "stdout",
     "output_type": "stream",
     "text": [
      "18205 780 12 8605.0\n",
      "0.5634489176747719\n",
      "(8, 8) (8, 1)\n",
      "27\n"
     ]
    },
    {
     "name": "stderr",
     "output_type": "stream",
     "text": [
      "../sim/GELoadBalancer.py:90: DataConversionWarning: A column-vector y was passed when a 1d array was expected. Please change the shape of y to (n_samples,), for example using ravel().\n",
      "  #print(self.X.shape,self.y.shape)\n"
     ]
    },
    {
     "name": "stdout",
     "output_type": "stream",
     "text": [
      "17912 2 27 13842.0\n",
      "0.6998904917070503\n",
      "(9, 8) (9, 1)\n",
      "10\n"
     ]
    },
    {
     "name": "stderr",
     "output_type": "stream",
     "text": [
      "../sim/GELoadBalancer.py:90: DataConversionWarning: A column-vector y was passed when a 1d array was expected. Please change the shape of y to (n_samples,), for example using ravel().\n",
      "  #print(self.X.shape,self.y.shape)\n"
     ]
    },
    {
     "name": "stdout",
     "output_type": "stream",
     "text": [
      "18088 1088 10 5708.0\n",
      "0.9360361684711945\n",
      "(10, 8) (10, 1)\n",
      "Max reward for 13973.5 14\n",
      "14\n"
     ]
    },
    {
     "name": "stderr",
     "output_type": "stream",
     "text": [
      "../sim/GELoadBalancer.py:90: DataConversionWarning: A column-vector y was passed when a 1d array was expected. Please change the shape of y to (n_samples,), for example using ravel().\n",
      "  #print(self.X.shape,self.y.shape)\n"
     ]
    },
    {
     "name": "stdout",
     "output_type": "stream",
     "text": [
      "18023 348 14 12443.0\n",
      "0.9632827279882086\n",
      "(11, 8) (11, 1)\n",
      "10\n"
     ]
    },
    {
     "name": "stderr",
     "output_type": "stream",
     "text": [
      "../sim/GELoadBalancer.py:90: DataConversionWarning: A column-vector y was passed when a 1d array was expected. Please change the shape of y to (n_samples,), for example using ravel().\n",
      "  #print(self.X.shape,self.y.shape)\n"
     ]
    },
    {
     "name": "stdout",
     "output_type": "stream",
     "text": [
      "17895 1034 10 6055.0\n",
      "0.850012969888283\n",
      "(12, 8) (12, 1)\n",
      "Max reward for 10655.7 14\n",
      "14\n"
     ]
    },
    {
     "name": "stderr",
     "output_type": "stream",
     "text": [
      "../sim/GELoadBalancer.py:90: DataConversionWarning: A column-vector y was passed when a 1d array was expected. Please change the shape of y to (n_samples,), for example using ravel().\n",
      "  #print(self.X.shape,self.y.shape)\n"
     ]
    },
    {
     "name": "stdout",
     "output_type": "stream",
     "text": [
      "17979 317 14 12709.0\n",
      "0.9143337189638265\n",
      "(13, 8) (13, 1)\n",
      "22\n"
     ]
    },
    {
     "name": "stderr",
     "output_type": "stream",
     "text": [
      "../sim/GELoadBalancer.py:90: DataConversionWarning: A column-vector y was passed when a 1d array was expected. Please change the shape of y to (n_samples,), for example using ravel().\n",
      "  #print(self.X.shape,self.y.shape)\n"
     ]
    },
    {
     "name": "stdout",
     "output_type": "stream",
     "text": [
      "17907 2 22 14587.0\n",
      "0.909693401060255\n",
      "(14, 8) (14, 1)\n",
      "Max reward for 12077.6 18\n",
      "18\n"
     ]
    },
    {
     "name": "stderr",
     "output_type": "stream",
     "text": [
      "../sim/GELoadBalancer.py:90: DataConversionWarning: A column-vector y was passed when a 1d array was expected. Please change the shape of y to (n_samples,), for example using ravel().\n",
      "  #print(self.X.shape,self.y.shape)\n"
     ]
    },
    {
     "name": "stdout",
     "output_type": "stream",
     "text": [
      "18119 0.0 18 15419.0\n",
      "0.9080765129623439\n",
      "(15, 8) (15, 1)\n",
      "Max reward for 13740.2 17\n",
      "17\n"
     ]
    },
    {
     "name": "stderr",
     "output_type": "stream",
     "text": [
      "../sim/GELoadBalancer.py:90: DataConversionWarning: A column-vector y was passed when a 1d array was expected. Please change the shape of y to (n_samples,), for example using ravel().\n",
      "  #print(self.X.shape,self.y.shape)\n"
     ]
    },
    {
     "name": "stdout",
     "output_type": "stream",
     "text": [
      "18083 0.0 17 15533.0\n",
      "0.9106751342306785\n",
      "(16, 8) (16, 1)\n",
      "28\n"
     ]
    },
    {
     "name": "stderr",
     "output_type": "stream",
     "text": [
      "../sim/GELoadBalancer.py:90: DataConversionWarning: A column-vector y was passed when a 1d array was expected. Please change the shape of y to (n_samples,), for example using ravel().\n",
      "  #print(self.X.shape,self.y.shape)\n"
     ]
    },
    {
     "name": "stdout",
     "output_type": "stream",
     "text": [
      "17927 0.0 28 13727.0\n",
      "0.9374447519361536\n",
      "(17, 8) (17, 1)\n",
      "14\n"
     ]
    },
    {
     "name": "stderr",
     "output_type": "stream",
     "text": [
      "../sim/GELoadBalancer.py:90: DataConversionWarning: A column-vector y was passed when a 1d array was expected. Please change the shape of y to (n_samples,), for example using ravel().\n",
      "  #print(self.X.shape,self.y.shape)\n"
     ]
    },
    {
     "name": "stdout",
     "output_type": "stream",
     "text": [
      "18035 337 14 12565.0\n",
      "0.9487708842706546\n",
      "(18, 8) (18, 1)\n",
      "29\n"
     ]
    },
    {
     "name": "stderr",
     "output_type": "stream",
     "text": [
      "../sim/GELoadBalancer.py:90: DataConversionWarning: A column-vector y was passed when a 1d array was expected. Please change the shape of y to (n_samples,), for example using ravel().\n",
      "  #print(self.X.shape,self.y.shape)\n"
     ]
    },
    {
     "name": "stdout",
     "output_type": "stream",
     "text": [
      "18059 6 29 13649.0\n",
      "0.9664101534066999\n",
      "(19, 8) (19, 1)\n",
      "11\n"
     ]
    },
    {
     "name": "stderr",
     "output_type": "stream",
     "text": [
      "../sim/GELoadBalancer.py:90: DataConversionWarning: A column-vector y was passed when a 1d array was expected. Please change the shape of y to (n_samples,), for example using ravel().\n",
      "  #print(self.X.shape,self.y.shape)\n"
     ]
    },
    {
     "name": "stdout",
     "output_type": "stream",
     "text": [
      "17849 898 11 7219.0\n",
      "0.9655388562835534\n",
      "(20, 8) (20, 1)\n",
      "11\n"
     ]
    },
    {
     "name": "stderr",
     "output_type": "stream",
     "text": [
      "../sim/GELoadBalancer.py:90: DataConversionWarning: A column-vector y was passed when a 1d array was expected. Please change the shape of y to (n_samples,), for example using ravel().\n",
      "  #print(self.X.shape,self.y.shape)\n"
     ]
    },
    {
     "name": "stdout",
     "output_type": "stream",
     "text": [
      "18012 926 11 7102.0\n",
      "0.9906336644631328\n",
      "(21, 8) (21, 1)\n",
      "30\n"
     ]
    },
    {
     "name": "stderr",
     "output_type": "stream",
     "text": [
      "../sim/GELoadBalancer.py:90: DataConversionWarning: A column-vector y was passed when a 1d array was expected. Please change the shape of y to (n_samples,), for example using ravel().\n",
      "  #print(self.X.shape,self.y.shape)\n"
     ]
    },
    {
     "name": "stdout",
     "output_type": "stream",
     "text": [
      "17918 4 30 13378.0\n",
      "0.965063121339271\n",
      "(22, 8) (22, 1)\n",
      "Max reward for 13770.5 18\n",
      "18\n"
     ]
    },
    {
     "name": "stderr",
     "output_type": "stream",
     "text": [
      "../sim/GELoadBalancer.py:90: DataConversionWarning: A column-vector y was passed when a 1d array was expected. Please change the shape of y to (n_samples,), for example using ravel().\n",
      "  #print(self.X.shape,self.y.shape)\n"
     ]
    },
    {
     "name": "stdout",
     "output_type": "stream",
     "text": [
      "18013 0.0 18 15313.0\n",
      "0.9932645901860246\n",
      "(23, 8) (23, 1)\n",
      "27\n"
     ]
    },
    {
     "name": "stderr",
     "output_type": "stream",
     "text": [
      "../sim/GELoadBalancer.py:90: DataConversionWarning: A column-vector y was passed when a 1d array was expected. Please change the shape of y to (n_samples,), for example using ravel().\n",
      "  #print(self.X.shape,self.y.shape)\n"
     ]
    },
    {
     "name": "stdout",
     "output_type": "stream",
     "text": [
      "17942 0.0 27 13892.0\n",
      "0.9827956175496001\n",
      "(24, 8) (24, 1)\n",
      "13\n"
     ]
    },
    {
     "name": "stderr",
     "output_type": "stream",
     "text": [
      "../sim/GELoadBalancer.py:90: DataConversionWarning: A column-vector y was passed when a 1d array was expected. Please change the shape of y to (n_samples,), for example using ravel().\n",
      "  #print(self.X.shape,self.y.shape)\n"
     ]
    },
    {
     "name": "stdout",
     "output_type": "stream",
     "text": [
      "17902 545 13 10502.0\n",
      "0.9911338035230136\n",
      "(25, 8) (25, 1)\n",
      "24\n"
     ]
    },
    {
     "name": "stderr",
     "output_type": "stream",
     "text": [
      "../sim/GELoadBalancer.py:90: DataConversionWarning: A column-vector y was passed when a 1d array was expected. Please change the shape of y to (n_samples,), for example using ravel().\n",
      "  #print(self.X.shape,self.y.shape)\n"
     ]
    },
    {
     "name": "stdout",
     "output_type": "stream",
     "text": [
      "18029 3 24 14399.0\n",
      "0.9933362075752014\n",
      "(26, 8) (26, 1)\n",
      "27\n"
     ]
    },
    {
     "name": "stderr",
     "output_type": "stream",
     "text": [
      "../sim/GELoadBalancer.py:90: DataConversionWarning: A column-vector y was passed when a 1d array was expected. Please change the shape of y to (n_samples,), for example using ravel().\n",
      "  #print(self.X.shape,self.y.shape)\n"
     ]
    },
    {
     "name": "stdout",
     "output_type": "stream",
     "text": [
      "18060 0.0 27 14010.0\n",
      "0.9912362625555469\n",
      "(27, 8) (27, 1)\n",
      "Max reward for 13728.6 17\n",
      "17\n"
     ]
    },
    {
     "name": "stderr",
     "output_type": "stream",
     "text": [
      "../sim/GELoadBalancer.py:90: DataConversionWarning: A column-vector y was passed when a 1d array was expected. Please change the shape of y to (n_samples,), for example using ravel().\n",
      "  #print(self.X.shape,self.y.shape)\n"
     ]
    },
    {
     "name": "stdout",
     "output_type": "stream",
     "text": [
      "18003 0.0 17 15453.0\n",
      "0.9856662542292346\n",
      "(28, 8) (28, 1)\n",
      "29\n"
     ]
    },
    {
     "name": "stderr",
     "output_type": "stream",
     "text": [
      "../sim/GELoadBalancer.py:90: DataConversionWarning: A column-vector y was passed when a 1d array was expected. Please change the shape of y to (n_samples,), for example using ravel().\n",
      "  #print(self.X.shape,self.y.shape)\n"
     ]
    },
    {
     "name": "stdout",
     "output_type": "stream",
     "text": [
      "17953 0.0 29 13603.0\n",
      "0.9767360345029206\n",
      "(29, 8) (29, 1)\n",
      "16\n"
     ]
    },
    {
     "name": "stderr",
     "output_type": "stream",
     "text": [
      "../sim/GELoadBalancer.py:90: DataConversionWarning: A column-vector y was passed when a 1d array was expected. Please change the shape of y to (n_samples,), for example using ravel().\n",
      "  #print(self.X.shape,self.y.shape)\n"
     ]
    },
    {
     "name": "stdout",
     "output_type": "stream",
     "text": [
      "18089 17 16 15519.0\n",
      "0.9745151525863911\n",
      "(30, 8) (30, 1)\n",
      "10\n"
     ]
    },
    {
     "name": "stderr",
     "output_type": "stream",
     "text": [
      "../sim/GELoadBalancer.py:90: DataConversionWarning: A column-vector y was passed when a 1d array was expected. Please change the shape of y to (n_samples,), for example using ravel().\n",
      "  #print(self.X.shape,self.y.shape)\n"
     ]
    },
    {
     "name": "stdout",
     "output_type": "stream",
     "text": [
      "17827 1043 10 5897.0\n",
      "0.9771714481551317\n",
      "(31, 8) (31, 1)\n",
      "17\n"
     ]
    },
    {
     "name": "stderr",
     "output_type": "stream",
     "text": [
      "../sim/GELoadBalancer.py:90: DataConversionWarning: A column-vector y was passed when a 1d array was expected. Please change the shape of y to (n_samples,), for example using ravel().\n",
      "  #print(self.X.shape,self.y.shape)\n"
     ]
    },
    {
     "name": "stdout",
     "output_type": "stream",
     "text": [
      "18068 1 17 15508.0\n",
      "0.9932498237758296\n",
      "(32, 8) (32, 1)\n",
      "15\n"
     ]
    },
    {
     "name": "stderr",
     "output_type": "stream",
     "text": [
      "../sim/GELoadBalancer.py:90: DataConversionWarning: A column-vector y was passed when a 1d array was expected. Please change the shape of y to (n_samples,), for example using ravel().\n",
      "  #print(self.X.shape,self.y.shape)\n"
     ]
    },
    {
     "name": "stdout",
     "output_type": "stream",
     "text": [
      "17865 84 15 14775.0\n",
      "0.9897502816267656\n",
      "(33, 8) (33, 1)\n",
      "30\n"
     ]
    },
    {
     "name": "stderr",
     "output_type": "stream",
     "text": [
      "../sim/GELoadBalancer.py:90: DataConversionWarning: A column-vector y was passed when a 1d array was expected. Please change the shape of y to (n_samples,), for example using ravel().\n",
      "  #print(self.X.shape,self.y.shape)\n"
     ]
    },
    {
     "name": "stdout",
     "output_type": "stream",
     "text": [
      "18110 0.0 30 13610.0\n",
      "0.9822861146964178\n",
      "(34, 8) (34, 1)\n",
      "16\n"
     ]
    },
    {
     "name": "stderr",
     "output_type": "stream",
     "text": [
      "../sim/GELoadBalancer.py:90: DataConversionWarning: A column-vector y was passed when a 1d array was expected. Please change the shape of y to (n_samples,), for example using ravel().\n",
      "  #print(self.X.shape,self.y.shape)\n"
     ]
    },
    {
     "name": "stdout",
     "output_type": "stream",
     "text": [
      "18004 13 16 15474.0\n",
      "0.9979144605188371\n",
      "(35, 8) (35, 1)\n",
      "12\n"
     ]
    },
    {
     "name": "stderr",
     "output_type": "stream",
     "text": [
      "../sim/GELoadBalancer.py:90: DataConversionWarning: A column-vector y was passed when a 1d array was expected. Please change the shape of y to (n_samples,), for example using ravel().\n",
      "  #print(self.X.shape,self.y.shape)\n"
     ]
    },
    {
     "name": "stdout",
     "output_type": "stream",
     "text": [
      "18004 725 12 8954.0\n",
      "0.9918882475882808\n",
      "(36, 8) (36, 1)\n",
      "Max reward for 13485.7 17\n",
      "17\n"
     ]
    },
    {
     "name": "stderr",
     "output_type": "stream",
     "text": [
      "../sim/GELoadBalancer.py:90: DataConversionWarning: A column-vector y was passed when a 1d array was expected. Please change the shape of y to (n_samples,), for example using ravel().\n",
      "  #print(self.X.shape,self.y.shape)\n"
     ]
    },
    {
     "name": "stdout",
     "output_type": "stream",
     "text": [
      "17869 8 17 15239.0\n",
      "0.9930932870787638\n",
      "(37, 8) (37, 1)\n",
      "10\n"
     ]
    },
    {
     "name": "stderr",
     "output_type": "stream",
     "text": [
      "../sim/GELoadBalancer.py:90: DataConversionWarning: A column-vector y was passed when a 1d array was expected. Please change the shape of y to (n_samples,), for example using ravel().\n",
      "  #print(self.X.shape,self.y.shape)\n"
     ]
    },
    {
     "name": "stdout",
     "output_type": "stream",
     "text": [
      "18002 1066 10 5842.0\n",
      "0.9938103334038183\n",
      "(38, 8) (38, 1)\n",
      "24\n"
     ]
    },
    {
     "name": "stderr",
     "output_type": "stream",
     "text": [
      "../sim/GELoadBalancer.py:90: DataConversionWarning: A column-vector y was passed when a 1d array was expected. Please change the shape of y to (n_samples,), for example using ravel().\n",
      "  #print(self.X.shape,self.y.shape)\n"
     ]
    },
    {
     "name": "stdout",
     "output_type": "stream",
     "text": [
      "17993 7 24 14323.0\n",
      "0.994094161190132\n",
      "(39, 8) (39, 1)\n",
      "10\n"
     ]
    },
    {
     "name": "stderr",
     "output_type": "stream",
     "text": [
      "../sim/GELoadBalancer.py:90: DataConversionWarning: A column-vector y was passed when a 1d array was expected. Please change the shape of y to (n_samples,), for example using ravel().\n",
      "  #print(self.X.shape,self.y.shape)\n"
     ]
    },
    {
     "name": "stdout",
     "output_type": "stream",
     "text": [
      "18159 1072 10 5939.0\n",
      "0.9946721204936826\n",
      "(40, 8) (40, 1)\n",
      "Max reward for 13627.2 18\n",
      "18\n"
     ]
    },
    {
     "name": "stderr",
     "output_type": "stream",
     "text": [
      "../sim/GELoadBalancer.py:90: DataConversionWarning: A column-vector y was passed when a 1d array was expected. Please change the shape of y to (n_samples,), for example using ravel().\n",
      "  #print(self.X.shape,self.y.shape)\n"
     ]
    },
    {
     "name": "stdout",
     "output_type": "stream",
     "text": [
      "17993 5 18 15243.0\n",
      "0.9944196716841709\n",
      "(41, 8) (41, 1)\n",
      "21\n"
     ]
    },
    {
     "name": "stderr",
     "output_type": "stream",
     "text": [
      "../sim/GELoadBalancer.py:90: DataConversionWarning: A column-vector y was passed when a 1d array was expected. Please change the shape of y to (n_samples,), for example using ravel().\n",
      "  #print(self.X.shape,self.y.shape)\n"
     ]
    },
    {
     "name": "stdout",
     "output_type": "stream",
     "text": [
      "17966 0.0 21 14816.0\n",
      "0.9962088482848687\n",
      "(42, 8) (42, 1)\n",
      "19\n"
     ]
    },
    {
     "name": "stderr",
     "output_type": "stream",
     "text": [
      "../sim/GELoadBalancer.py:90: DataConversionWarning: A column-vector y was passed when a 1d array was expected. Please change the shape of y to (n_samples,), for example using ravel().\n",
      "  #print(self.X.shape,self.y.shape)\n"
     ]
    },
    {
     "name": "stdout",
     "output_type": "stream",
     "text": [
      "17930 0.0 19 15080.0\n",
      "0.9933882900472096\n",
      "(43, 8) (43, 1)\n",
      "26\n"
     ]
    },
    {
     "name": "stderr",
     "output_type": "stream",
     "text": [
      "../sim/GELoadBalancer.py:90: DataConversionWarning: A column-vector y was passed when a 1d array was expected. Please change the shape of y to (n_samples,), for example using ravel().\n",
      "  #print(self.X.shape,self.y.shape)\n"
     ]
    },
    {
     "name": "stdout",
     "output_type": "stream",
     "text": [
      "18209 0.0 26 14309.0\n",
      "0.9955752937983803\n",
      "(44, 8) (44, 1)\n",
      "10\n"
     ]
    },
    {
     "name": "stderr",
     "output_type": "stream",
     "text": [
      "../sim/GELoadBalancer.py:90: DataConversionWarning: A column-vector y was passed when a 1d array was expected. Please change the shape of y to (n_samples,), for example using ravel().\n",
      "  #print(self.X.shape,self.y.shape)\n"
     ]
    },
    {
     "name": "stdout",
     "output_type": "stream",
     "text": [
      "18042 1079 10 5752.0\n",
      "0.9978175960984259\n",
      "(45, 8) (45, 1)\n",
      "27\n"
     ]
    },
    {
     "name": "stderr",
     "output_type": "stream",
     "text": [
      "../sim/GELoadBalancer.py:90: DataConversionWarning: A column-vector y was passed when a 1d array was expected. Please change the shape of y to (n_samples,), for example using ravel().\n",
      "  #print(self.X.shape,self.y.shape)\n"
     ]
    },
    {
     "name": "stdout",
     "output_type": "stream",
     "text": [
      "18022 0.0 27 13972.0\n",
      "0.9938326423049944\n",
      "(46, 8) (46, 1)\n"
     ]
    },
    {
     "name": "stderr",
     "output_type": "stream",
     "text": [
      "../sim/GELoadBalancer.py:90: DataConversionWarning: A column-vector y was passed when a 1d array was expected. Please change the shape of y to (n_samples,), for example using ravel().\n",
      "  #print(self.X.shape,self.y.shape)\n"
     ]
    },
    {
     "name": "stdout",
     "output_type": "stream",
     "text": [
      "Max reward for 13637.7 16\n",
      "16\n",
      "17904 13 16 15374.0\n",
      "0.996711057321577\n",
      "(47, 8) (47, 1)\n",
      "17\n"
     ]
    },
    {
     "name": "stderr",
     "output_type": "stream",
     "text": [
      "../sim/GELoadBalancer.py:90: DataConversionWarning: A column-vector y was passed when a 1d array was expected. Please change the shape of y to (n_samples,), for example using ravel().\n",
      "  #print(self.X.shape,self.y.shape)\n"
     ]
    },
    {
     "name": "stdout",
     "output_type": "stream",
     "text": [
      "18130 3 17 15550.0\n",
      "0.9971181582433837\n",
      "(48, 8) (48, 1)\n",
      "13\n"
     ]
    },
    {
     "name": "stderr",
     "output_type": "stream",
     "text": [
      "../sim/GELoadBalancer.py:90: DataConversionWarning: A column-vector y was passed when a 1d array was expected. Please change the shape of y to (n_samples,), for example using ravel().\n",
      "  #print(self.X.shape,self.y.shape)\n"
     ]
    },
    {
     "name": "stdout",
     "output_type": "stream",
     "text": [
      "18032 567 13 10412.0\n",
      "0.9958241248369039\n",
      "(49, 8) (49, 1)\n",
      "23\n"
     ]
    },
    {
     "name": "stderr",
     "output_type": "stream",
     "text": [
      "../sim/GELoadBalancer.py:90: DataConversionWarning: A column-vector y was passed when a 1d array was expected. Please change the shape of y to (n_samples,), for example using ravel().\n",
      "  #print(self.X.shape,self.y.shape)\n"
     ]
    },
    {
     "name": "stdout",
     "output_type": "stream",
     "text": [
      "18010 2 23 14540.0\n",
      "0.9909682252292794\n",
      "(50, 8) (50, 1)\n",
      "Max reward for 13711.7 17\n",
      "17\n"
     ]
    },
    {
     "name": "stderr",
     "output_type": "stream",
     "text": [
      "../sim/GELoadBalancer.py:90: DataConversionWarning: A column-vector y was passed when a 1d array was expected. Please change the shape of y to (n_samples,), for example using ravel().\n",
      "  #print(self.X.shape,self.y.shape)\n"
     ]
    },
    {
     "name": "stdout",
     "output_type": "stream",
     "text": [
      "18116 0.0 17 15566.0\n",
      "0.9974381637156273\n",
      "(51, 8) (51, 1)\n",
      "27\n"
     ]
    },
    {
     "name": "stderr",
     "output_type": "stream",
     "text": [
      "../sim/GELoadBalancer.py:90: DataConversionWarning: A column-vector y was passed when a 1d array was expected. Please change the shape of y to (n_samples,), for example using ravel().\n",
      "  #print(self.X.shape,self.y.shape)\n"
     ]
    },
    {
     "name": "stdout",
     "output_type": "stream",
     "text": [
      "18008 0.0 27 13958.0\n",
      "0.9973920336550913\n",
      "(52, 8) (52, 1)\n",
      "Max reward for 13635.6 16\n",
      "16\n"
     ]
    },
    {
     "name": "stderr",
     "output_type": "stream",
     "text": [
      "../sim/GELoadBalancer.py:90: DataConversionWarning: A column-vector y was passed when a 1d array was expected. Please change the shape of y to (n_samples,), for example using ravel().\n",
      "  #print(self.X.shape,self.y.shape)\n"
     ]
    },
    {
     "name": "stdout",
     "output_type": "stream",
     "text": [
      "17846 6 16 15386.0\n",
      "0.9934568040289692\n",
      "(53, 8) (53, 1)\n",
      "23\n"
     ]
    },
    {
     "name": "stderr",
     "output_type": "stream",
     "text": [
      "../sim/GELoadBalancer.py:90: DataConversionWarning: A column-vector y was passed when a 1d array was expected. Please change the shape of y to (n_samples,), for example using ravel().\n",
      "  #print(self.X.shape,self.y.shape)\n"
     ]
    },
    {
     "name": "stdout",
     "output_type": "stream",
     "text": [
      "18169 0.0 23 14719.0\n",
      "0.9978894368544796\n",
      "(54, 8) (54, 1)\n",
      "10\n"
     ]
    },
    {
     "name": "stderr",
     "output_type": "stream",
     "text": [
      "../sim/GELoadBalancer.py:90: DataConversionWarning: A column-vector y was passed when a 1d array was expected. Please change the shape of y to (n_samples,), for example using ravel().\n",
      "  #print(self.X.shape,self.y.shape)\n"
     ]
    },
    {
     "name": "stdout",
     "output_type": "stream",
     "text": [
      "17868 1063 10 5738.0\n",
      "0.9986477695875773\n",
      "(55, 8) (55, 1)\n",
      "20\n"
     ]
    },
    {
     "name": "stderr",
     "output_type": "stream",
     "text": [
      "../sim/GELoadBalancer.py:90: DataConversionWarning: A column-vector y was passed when a 1d array was expected. Please change the shape of y to (n_samples,), for example using ravel().\n",
      "  #print(self.X.shape,self.y.shape)\n"
     ]
    },
    {
     "name": "stdout",
     "output_type": "stream",
     "text": [
      "17943 8 20 14863.0\n",
      "0.9990246659400212\n",
      "(56, 8) (56, 1)\n",
      "18\n"
     ]
    },
    {
     "name": "stderr",
     "output_type": "stream",
     "text": [
      "../sim/GELoadBalancer.py:90: DataConversionWarning: A column-vector y was passed when a 1d array was expected. Please change the shape of y to (n_samples,), for example using ravel().\n",
      "  #print(self.X.shape,self.y.shape)\n"
     ]
    },
    {
     "name": "stdout",
     "output_type": "stream",
     "text": [
      "17960 0.0 18 15260.0\n",
      "0.9957718219454895\n",
      "(57, 8) (57, 1)\n",
      "26\n"
     ]
    },
    {
     "name": "stderr",
     "output_type": "stream",
     "text": [
      "../sim/GELoadBalancer.py:90: DataConversionWarning: A column-vector y was passed when a 1d array was expected. Please change the shape of y to (n_samples,), for example using ravel().\n",
      "  #print(self.X.shape,self.y.shape)\n"
     ]
    },
    {
     "name": "stdout",
     "output_type": "stream",
     "text": [
      "18073 0.0 26 14173.0\n",
      "0.9968272849491863\n",
      "(58, 8) (58, 1)\n",
      "25\n"
     ]
    },
    {
     "name": "stderr",
     "output_type": "stream",
     "text": [
      "../sim/GELoadBalancer.py:90: DataConversionWarning: A column-vector y was passed when a 1d array was expected. Please change the shape of y to (n_samples,), for example using ravel().\n",
      "  #print(self.X.shape,self.y.shape)\n"
     ]
    },
    {
     "name": "stdout",
     "output_type": "stream",
     "text": [
      "17939 0.0 25 14189.0\n",
      "0.9975409811724714\n",
      "(59, 8) (59, 1)\n",
      "17\n"
     ]
    },
    {
     "name": "stderr",
     "output_type": "stream",
     "text": [
      "../sim/GELoadBalancer.py:90: DataConversionWarning: A column-vector y was passed when a 1d array was expected. Please change the shape of y to (n_samples,), for example using ravel().\n",
      "  #print(self.X.shape,self.y.shape)\n"
     ]
    },
    {
     "name": "stdout",
     "output_type": "stream",
     "text": [
      "17875 0.0 17 15325.0\n",
      "0.993731408047019\n",
      "(60, 8) (60, 1)\n",
      "24\n"
     ]
    },
    {
     "name": "stderr",
     "output_type": "stream",
     "text": [
      "../sim/GELoadBalancer.py:90: DataConversionWarning: A column-vector y was passed when a 1d array was expected. Please change the shape of y to (n_samples,), for example using ravel().\n",
      "  #print(self.X.shape,self.y.shape)\n"
     ]
    },
    {
     "name": "stdout",
     "output_type": "stream",
     "text": [
      "18143 0.0 24 14543.0\n",
      "0.9981709577174952\n",
      "(61, 8) (61, 1)\n",
      "13\n"
     ]
    },
    {
     "name": "stderr",
     "output_type": "stream",
     "text": [
      "../sim/GELoadBalancer.py:90: DataConversionWarning: A column-vector y was passed when a 1d array was expected. Please change the shape of y to (n_samples,), for example using ravel().\n",
      "  #print(self.X.shape,self.y.shape)\n"
     ]
    },
    {
     "name": "stdout",
     "output_type": "stream",
     "text": [
      "17880 517 13 10760.0\n",
      "0.997677675004908\n",
      "(62, 8) (62, 1)\n",
      "27\n"
     ]
    },
    {
     "name": "stderr",
     "output_type": "stream",
     "text": [
      "../sim/GELoadBalancer.py:90: DataConversionWarning: A column-vector y was passed when a 1d array was expected. Please change the shape of y to (n_samples,), for example using ravel().\n",
      "  #print(self.X.shape,self.y.shape)\n"
     ]
    },
    {
     "name": "stdout",
     "output_type": "stream",
     "text": [
      "18064 3 27 13984.0\n",
      "0.9962312111076973\n",
      "(63, 8) (63, 1)\n",
      "30\n"
     ]
    },
    {
     "name": "stderr",
     "output_type": "stream",
     "text": [
      "../sim/GELoadBalancer.py:90: DataConversionWarning: A column-vector y was passed when a 1d array was expected. Please change the shape of y to (n_samples,), for example using ravel().\n",
      "  #print(self.X.shape,self.y.shape)\n"
     ]
    },
    {
     "name": "stdout",
     "output_type": "stream",
     "text": [
      "18003 0.0 30 13503.0\n",
      "0.9925552524952147\n",
      "(64, 8) (64, 1)\n",
      "19\n"
     ]
    },
    {
     "name": "stderr",
     "output_type": "stream",
     "text": [
      "../sim/GELoadBalancer.py:90: DataConversionWarning: A column-vector y was passed when a 1d array was expected. Please change the shape of y to (n_samples,), for example using ravel().\n",
      "  #print(self.X.shape,self.y.shape)\n"
     ]
    },
    {
     "name": "stdout",
     "output_type": "stream",
     "text": [
      "17791 0.0 19 14941.0\n",
      "0.9985753511383193\n",
      "(65, 8) (65, 1)\n",
      "17\n"
     ]
    },
    {
     "name": "stderr",
     "output_type": "stream",
     "text": [
      "../sim/GELoadBalancer.py:90: DataConversionWarning: A column-vector y was passed when a 1d array was expected. Please change the shape of y to (n_samples,), for example using ravel().\n",
      "  #print(self.X.shape,self.y.shape)\n"
     ]
    },
    {
     "name": "stdout",
     "output_type": "stream",
     "text": [
      "17916 0.0 17 15366.0\n",
      "0.9988244682800677\n",
      "(66, 8) (66, 1)\n",
      "30\n"
     ]
    },
    {
     "name": "stderr",
     "output_type": "stream",
     "text": [
      "../sim/GELoadBalancer.py:90: DataConversionWarning: A column-vector y was passed when a 1d array was expected. Please change the shape of y to (n_samples,), for example using ravel().\n",
      "  #print(self.X.shape,self.y.shape)\n"
     ]
    },
    {
     "name": "stdout",
     "output_type": "stream",
     "text": [
      "18104 0.0 30 13604.0\n",
      "0.9972413262724161\n",
      "(67, 8) (67, 1)\n",
      "28\n"
     ]
    },
    {
     "name": "stderr",
     "output_type": "stream",
     "text": [
      "../sim/GELoadBalancer.py:90: DataConversionWarning: A column-vector y was passed when a 1d array was expected. Please change the shape of y to (n_samples,), for example using ravel().\n",
      "  #print(self.X.shape,self.y.shape)\n"
     ]
    },
    {
     "name": "stdout",
     "output_type": "stream",
     "text": [
      "17952 0.0 28 13752.0\n",
      "0.9990447439174054\n",
      "(68, 8) (68, 1)\n",
      "25\n"
     ]
    },
    {
     "name": "stderr",
     "output_type": "stream",
     "text": [
      "../sim/GELoadBalancer.py:90: DataConversionWarning: A column-vector y was passed when a 1d array was expected. Please change the shape of y to (n_samples,), for example using ravel().\n",
      "  #print(self.X.shape,self.y.shape)\n"
     ]
    },
    {
     "name": "stdout",
     "output_type": "stream",
     "text": [
      "18158 0.0 25 14408.0\n",
      "0.9973510763228742\n",
      "(69, 8) (69, 1)\n",
      "29\n"
     ]
    },
    {
     "name": "stderr",
     "output_type": "stream",
     "text": [
      "../sim/GELoadBalancer.py:90: DataConversionWarning: A column-vector y was passed when a 1d array was expected. Please change the shape of y to (n_samples,), for example using ravel().\n",
      "  #print(self.X.shape,self.y.shape)\n"
     ]
    },
    {
     "name": "stdout",
     "output_type": "stream",
     "text": [
      "18012 0.0 29 13662.0\n",
      "0.9985015662170705\n",
      "(70, 8) (70, 1)\n",
      "17\n"
     ]
    },
    {
     "name": "stderr",
     "output_type": "stream",
     "text": [
      "../sim/GELoadBalancer.py:90: DataConversionWarning: A column-vector y was passed when a 1d array was expected. Please change the shape of y to (n_samples,), for example using ravel().\n",
      "  #print(self.X.shape,self.y.shape)\n"
     ]
    },
    {
     "name": "stdout",
     "output_type": "stream",
     "text": [
      "18155 0.0 17 15605.0\n",
      "0.9978268070650771\n",
      "(71, 8) (71, 1)\n",
      "16\n"
     ]
    },
    {
     "name": "stderr",
     "output_type": "stream",
     "text": [
      "../sim/GELoadBalancer.py:90: DataConversionWarning: A column-vector y was passed when a 1d array was expected. Please change the shape of y to (n_samples,), for example using ravel().\n",
      "  #print(self.X.shape,self.y.shape)\n"
     ]
    },
    {
     "name": "stdout",
     "output_type": "stream",
     "text": [
      "18078 7 16 15608.0\n",
      "0.9963206866333526\n",
      "(72, 8) (72, 1)\n",
      "Max reward for 13617.1 17\n",
      "17\n"
     ]
    },
    {
     "name": "stderr",
     "output_type": "stream",
     "text": [
      "../sim/GELoadBalancer.py:90: DataConversionWarning: A column-vector y was passed when a 1d array was expected. Please change the shape of y to (n_samples,), for example using ravel().\n",
      "  #print(self.X.shape,self.y.shape)\n"
     ]
    },
    {
     "name": "stdout",
     "output_type": "stream",
     "text": [
      "18015 0.0 17 15465.0\n",
      "0.9983313562164573\n",
      "(73, 8) (73, 1)\n",
      "29\n"
     ]
    },
    {
     "name": "stderr",
     "output_type": "stream",
     "text": [
      "../sim/GELoadBalancer.py:90: DataConversionWarning: A column-vector y was passed when a 1d array was expected. Please change the shape of y to (n_samples,), for example using ravel().\n",
      "  #print(self.X.shape,self.y.shape)\n"
     ]
    },
    {
     "name": "stdout",
     "output_type": "stream",
     "text": [
      "18097 0.0 29 13747.0\n",
      "0.9976906615356315\n",
      "(74, 8) (74, 1)\n",
      "Max reward for 13616.4 16\n",
      "16\n"
     ]
    },
    {
     "name": "stderr",
     "output_type": "stream",
     "text": [
      "../sim/GELoadBalancer.py:90: DataConversionWarning: A column-vector y was passed when a 1d array was expected. Please change the shape of y to (n_samples,), for example using ravel().\n",
      "  #print(self.X.shape,self.y.shape)\n"
     ]
    },
    {
     "name": "stdout",
     "output_type": "stream",
     "text": [
      "18036 6 16 15576.0\n",
      "0.9967051445011443\n",
      "(75, 8) (75, 1)\n",
      "21\n"
     ]
    },
    {
     "name": "stderr",
     "output_type": "stream",
     "text": [
      "../sim/GELoadBalancer.py:90: DataConversionWarning: A column-vector y was passed when a 1d array was expected. Please change the shape of y to (n_samples,), for example using ravel().\n",
      "  #print(self.X.shape,self.y.shape)\n"
     ]
    },
    {
     "name": "stdout",
     "output_type": "stream",
     "text": [
      "18270 1 21 15110.0\n",
      "0.9982090375755207\n",
      "(76, 8) (76, 1)\n",
      "Max reward for 13632.6 16\n",
      "16\n"
     ]
    },
    {
     "name": "stderr",
     "output_type": "stream",
     "text": [
      "../sim/GELoadBalancer.py:90: DataConversionWarning: A column-vector y was passed when a 1d array was expected. Please change the shape of y to (n_samples,), for example using ravel().\n",
      "  #print(self.X.shape,self.y.shape)\n"
     ]
    },
    {
     "name": "stdout",
     "output_type": "stream",
     "text": [
      "17919 11 16 15409.0\n",
      "0.9982171168851509\n",
      "(77, 8) (77, 1)\n",
      "10\n"
     ]
    },
    {
     "name": "stderr",
     "output_type": "stream",
     "text": [
      "../sim/GELoadBalancer.py:90: DataConversionWarning: A column-vector y was passed when a 1d array was expected. Please change the shape of y to (n_samples,), for example using ravel().\n",
      "  #print(self.X.shape,self.y.shape)\n"
     ]
    },
    {
     "name": "stdout",
     "output_type": "stream",
     "text": [
      "17958 1034 10 6118.0\n",
      "0.9984482949770718\n",
      "(78, 8) (78, 1)\n",
      "22\n"
     ]
    },
    {
     "name": "stderr",
     "output_type": "stream",
     "text": [
      "../sim/GELoadBalancer.py:90: DataConversionWarning: A column-vector y was passed when a 1d array was expected. Please change the shape of y to (n_samples,), for example using ravel().\n",
      "  #print(self.X.shape,self.y.shape)\n"
     ]
    },
    {
     "name": "stdout",
     "output_type": "stream",
     "text": [
      "18073 7 22 14703.0\n",
      "0.9985905927443559\n",
      "(79, 8) (79, 1)\n",
      "17\n"
     ]
    },
    {
     "name": "stderr",
     "output_type": "stream",
     "text": [
      "../sim/GELoadBalancer.py:90: DataConversionWarning: A column-vector y was passed when a 1d array was expected. Please change the shape of y to (n_samples,), for example using ravel().\n",
      "  #print(self.X.shape,self.y.shape)\n"
     ]
    },
    {
     "name": "stdout",
     "output_type": "stream",
     "text": [
      "17929 0.0 17 15379.0\n",
      "0.9985398650589195\n",
      "(80, 8) (80, 1)\n",
      "21\n"
     ]
    },
    {
     "name": "stderr",
     "output_type": "stream",
     "text": [
      "../sim/GELoadBalancer.py:90: DataConversionWarning: A column-vector y was passed when a 1d array was expected. Please change the shape of y to (n_samples,), for example using ravel().\n",
      "  #print(self.X.shape,self.y.shape)\n"
     ]
    },
    {
     "name": "stdout",
     "output_type": "stream",
     "text": [
      "17865 0.0 21 14715.0\n",
      "0.9993053121859723\n",
      "(81, 8) (81, 1)\n",
      "Max reward for 13677.5 18\n",
      "18\n"
     ]
    },
    {
     "name": "stderr",
     "output_type": "stream",
     "text": [
      "../sim/GELoadBalancer.py:90: DataConversionWarning: A column-vector y was passed when a 1d array was expected. Please change the shape of y to (n_samples,), for example using ravel().\n",
      "  #print(self.X.shape,self.y.shape)\n"
     ]
    },
    {
     "name": "stdout",
     "output_type": "stream",
     "text": [
      "17935 0.0 18 15235.0\n",
      "0.9979831690445664\n",
      "(82, 8) (82, 1)\n",
      "14\n"
     ]
    },
    {
     "name": "stderr",
     "output_type": "stream",
     "text": [
      "../sim/GELoadBalancer.py:90: DataConversionWarning: A column-vector y was passed when a 1d array was expected. Please change the shape of y to (n_samples,), for example using ravel().\n",
      "  #print(self.X.shape,self.y.shape)\n"
     ]
    },
    {
     "name": "stdout",
     "output_type": "stream",
     "text": [
      "18161 347 14 12591.0\n",
      "0.9988714353037036\n",
      "(83, 8) (83, 1)\n",
      "26\n"
     ]
    },
    {
     "name": "stderr",
     "output_type": "stream",
     "text": [
      "../sim/GELoadBalancer.py:90: DataConversionWarning: A column-vector y was passed when a 1d array was expected. Please change the shape of y to (n_samples,), for example using ravel().\n",
      "  #print(self.X.shape,self.y.shape)\n"
     ]
    },
    {
     "name": "stdout",
     "output_type": "stream",
     "text": [
      "17994 3 26 14064.0\n",
      "0.9990320284170787\n",
      "(84, 8) (84, 1)\n",
      "14\n"
     ]
    },
    {
     "name": "stderr",
     "output_type": "stream",
     "text": [
      "../sim/GELoadBalancer.py:90: DataConversionWarning: A column-vector y was passed when a 1d array was expected. Please change the shape of y to (n_samples,), for example using ravel().\n",
      "  #print(self.X.shape,self.y.shape)\n"
     ]
    },
    {
     "name": "stdout",
     "output_type": "stream",
     "text": [
      "17786 297 14 12716.0\n",
      "0.9986861244695584\n",
      "(85, 8) (85, 1)\n",
      "24\n"
     ]
    },
    {
     "name": "stderr",
     "output_type": "stream",
     "text": [
      "../sim/GELoadBalancer.py:90: DataConversionWarning: A column-vector y was passed when a 1d array was expected. Please change the shape of y to (n_samples,), for example using ravel().\n",
      "  #print(self.X.shape,self.y.shape)\n"
     ]
    },
    {
     "name": "stdout",
     "output_type": "stream",
     "text": [
      "17946 0.0 24 14346.0\n",
      "0.9991820361299798\n",
      "(86, 8) (86, 1)\n",
      "23\n"
     ]
    },
    {
     "name": "stderr",
     "output_type": "stream",
     "text": [
      "../sim/GELoadBalancer.py:90: DataConversionWarning: A column-vector y was passed when a 1d array was expected. Please change the shape of y to (n_samples,), for example using ravel().\n",
      "  #print(self.X.shape,self.y.shape)\n"
     ]
    },
    {
     "name": "stdout",
     "output_type": "stream",
     "text": [
      "18127 0.0 23 14677.0\n",
      "0.9987886957626602\n",
      "(87, 8) (87, 1)\n",
      "24\n"
     ]
    },
    {
     "name": "stderr",
     "output_type": "stream",
     "text": [
      "../sim/GELoadBalancer.py:90: DataConversionWarning: A column-vector y was passed when a 1d array was expected. Please change the shape of y to (n_samples,), for example using ravel().\n",
      "  #print(self.X.shape,self.y.shape)\n"
     ]
    },
    {
     "name": "stdout",
     "output_type": "stream",
     "text": [
      "18018 0.0 24 14418.0\n",
      "0.998133510126734\n",
      "(88, 8) (88, 1)\n",
      "13\n"
     ]
    },
    {
     "name": "stderr",
     "output_type": "stream",
     "text": [
      "../sim/GELoadBalancer.py:90: DataConversionWarning: A column-vector y was passed when a 1d array was expected. Please change the shape of y to (n_samples,), for example using ravel().\n",
      "  #print(self.X.shape,self.y.shape)\n"
     ]
    },
    {
     "name": "stdout",
     "output_type": "stream",
     "text": [
      "17909 539 13 10569.0\n",
      "0.99901608484376\n",
      "(89, 8) (89, 1)\n",
      "Max reward for 13630.1 16\n",
      "16\n"
     ]
    },
    {
     "name": "stderr",
     "output_type": "stream",
     "text": [
      "../sim/GELoadBalancer.py:90: DataConversionWarning: A column-vector y was passed when a 1d array was expected. Please change the shape of y to (n_samples,), for example using ravel().\n",
      "  #print(self.X.shape,self.y.shape)\n"
     ]
    },
    {
     "name": "stdout",
     "output_type": "stream",
     "text": [
      "17837 15 16 15287.0\n",
      "0.9969281231122941\n",
      "(90, 8) (90, 1)\n",
      "Max reward for 13595.4 16\n",
      "16\n"
     ]
    },
    {
     "name": "stderr",
     "output_type": "stream",
     "text": [
      "../sim/GELoadBalancer.py:90: DataConversionWarning: A column-vector y was passed when a 1d array was expected. Please change the shape of y to (n_samples,), for example using ravel().\n",
      "  #print(self.X.shape,self.y.shape)\n"
     ]
    },
    {
     "name": "stdout",
     "output_type": "stream",
     "text": [
      "17985 3 16 15555.0\n",
      "0.9980966088905487\n",
      "(91, 8) (91, 1)\n",
      "30\n"
     ]
    },
    {
     "name": "stderr",
     "output_type": "stream",
     "text": [
      "../sim/GELoadBalancer.py:90: DataConversionWarning: A column-vector y was passed when a 1d array was expected. Please change the shape of y to (n_samples,), for example using ravel().\n",
      "  #print(self.X.shape,self.y.shape)\n"
     ]
    },
    {
     "name": "stdout",
     "output_type": "stream",
     "text": [
      "18057 0.0 30 13557.0\n",
      "0.9983180540250709\n",
      "(92, 8) (92, 1)\n",
      "15\n"
     ]
    },
    {
     "name": "stderr",
     "output_type": "stream",
     "text": [
      "../sim/GELoadBalancer.py:90: DataConversionWarning: A column-vector y was passed when a 1d array was expected. Please change the shape of y to (n_samples,), for example using ravel().\n",
      "  #print(self.X.shape,self.y.shape)\n"
     ]
    },
    {
     "name": "stdout",
     "output_type": "stream",
     "text": [
      "17867 98 15 14637.0\n",
      "0.9986214872400413\n",
      "(93, 8) (93, 1)\n",
      "20\n"
     ]
    },
    {
     "name": "stderr",
     "output_type": "stream",
     "text": [
      "../sim/GELoadBalancer.py:90: DataConversionWarning: A column-vector y was passed when a 1d array was expected. Please change the shape of y to (n_samples,), for example using ravel().\n",
      "  #print(self.X.shape,self.y.shape)\n"
     ]
    },
    {
     "name": "stdout",
     "output_type": "stream",
     "text": [
      "17896 0.0 20 14896.0\n",
      "0.9994245065997113\n",
      "(94, 8) (94, 1)\n",
      "27\n"
     ]
    },
    {
     "name": "stderr",
     "output_type": "stream",
     "text": [
      "../sim/GELoadBalancer.py:90: DataConversionWarning: A column-vector y was passed when a 1d array was expected. Please change the shape of y to (n_samples,), for example using ravel().\n",
      "  #print(self.X.shape,self.y.shape)\n"
     ]
    },
    {
     "name": "stdout",
     "output_type": "stream",
     "text": [
      "18125 0.0 27 14075.0\n",
      "0.9986645141007807\n",
      "(95, 8) (95, 1)\n",
      "12\n"
     ]
    },
    {
     "name": "stderr",
     "output_type": "stream",
     "text": [
      "../sim/GELoadBalancer.py:90: DataConversionWarning: A column-vector y was passed when a 1d array was expected. Please change the shape of y to (n_samples,), for example using ravel().\n",
      "  #print(self.X.shape,self.y.shape)\n"
     ]
    },
    {
     "name": "stdout",
     "output_type": "stream",
     "text": [
      "18044 730 12 8944.0\n",
      "0.9981770668767836\n",
      "(96, 8) (96, 1)\n",
      "12\n"
     ]
    },
    {
     "name": "stderr",
     "output_type": "stream",
     "text": [
      "../sim/GELoadBalancer.py:90: DataConversionWarning: A column-vector y was passed when a 1d array was expected. Please change the shape of y to (n_samples,), for example using ravel().\n",
      "  #print(self.X.shape,self.y.shape)\n"
     ]
    },
    {
     "name": "stdout",
     "output_type": "stream",
     "text": [
      "18089 733 12 8959.0\n",
      "0.9987638068983159\n",
      "(97, 8) (97, 1)\n",
      "24\n"
     ]
    },
    {
     "name": "stderr",
     "output_type": "stream",
     "text": [
      "../sim/GELoadBalancer.py:90: DataConversionWarning: A column-vector y was passed when a 1d array was expected. Please change the shape of y to (n_samples,), for example using ravel().\n",
      "  #print(self.X.shape,self.y.shape)\n"
     ]
    },
    {
     "name": "stdout",
     "output_type": "stream",
     "text": [
      "18018 6 24 14358.0\n",
      "0.9981698467130214\n",
      "(98, 8) (98, 1)\n",
      "25\n"
     ]
    },
    {
     "name": "stderr",
     "output_type": "stream",
     "text": [
      "../sim/GELoadBalancer.py:90: DataConversionWarning: A column-vector y was passed when a 1d array was expected. Please change the shape of y to (n_samples,), for example using ravel().\n",
      "  #print(self.X.shape,self.y.shape)\n"
     ]
    },
    {
     "name": "stdout",
     "output_type": "stream",
     "text": [
      "18090 0.0 25 14340.0\n",
      "0.9979118275234575\n",
      "(99, 8) (99, 1)\n",
      "Max reward for 13605.5 16\n",
      "16\n"
     ]
    },
    {
     "name": "stderr",
     "output_type": "stream",
     "text": [
      "../sim/GELoadBalancer.py:90: DataConversionWarning: A column-vector y was passed when a 1d array was expected. Please change the shape of y to (n_samples,), for example using ravel().\n",
      "  #print(self.X.shape,self.y.shape)\n"
     ]
    },
    {
     "name": "stdout",
     "output_type": "stream",
     "text": [
      "17994 11 16 15484.0\n",
      "0.998236285353999\n",
      "(100, 8) (100, 1)\n",
      "13\n"
     ]
    },
    {
     "name": "stderr",
     "output_type": "stream",
     "text": [
      "../sim/GELoadBalancer.py:90: DataConversionWarning: A column-vector y was passed when a 1d array was expected. Please change the shape of y to (n_samples,), for example using ravel().\n",
      "  #print(self.X.shape,self.y.shape)\n"
     ]
    },
    {
     "name": "stdout",
     "output_type": "stream",
     "text": [
      "18090 553 13 10610.0\n",
      "0.9989196611665743\n",
      "(101, 8) (101, 1)\n",
      "Max reward for 13490.2 17\n",
      "17\n"
     ]
    },
    {
     "name": "stderr",
     "output_type": "stream",
     "text": [
      "../sim/GELoadBalancer.py:90: DataConversionWarning: A column-vector y was passed when a 1d array was expected. Please change the shape of y to (n_samples,), for example using ravel().\n",
      "  #print(self.X.shape,self.y.shape)\n"
     ]
    },
    {
     "name": "stdout",
     "output_type": "stream",
     "text": [
      "18019 5 17 15419.0\n",
      "0.9990287486665811\n",
      "(102, 8) (102, 1)\n",
      "Max reward for 13691.9 16\n",
      "16\n"
     ]
    },
    {
     "name": "stderr",
     "output_type": "stream",
     "text": [
      "../sim/GELoadBalancer.py:90: DataConversionWarning: A column-vector y was passed when a 1d array was expected. Please change the shape of y to (n_samples,), for example using ravel().\n",
      "  #print(self.X.shape,self.y.shape)\n"
     ]
    },
    {
     "name": "stdout",
     "output_type": "stream",
     "text": [
      "18031 8 16 15551.0\n",
      "0.9987922879081367\n",
      "(103, 8) (103, 1)\n",
      "20\n"
     ]
    },
    {
     "name": "stderr",
     "output_type": "stream",
     "text": [
      "../sim/GELoadBalancer.py:90: DataConversionWarning: A column-vector y was passed when a 1d array was expected. Please change the shape of y to (n_samples,), for example using ravel().\n",
      "  #print(self.X.shape,self.y.shape)\n"
     ]
    },
    {
     "name": "stdout",
     "output_type": "stream",
     "text": [
      "18121 0.0 20 15121.0\n",
      "0.9986824485471714\n",
      "(104, 8) (104, 1)\n",
      "10\n"
     ]
    },
    {
     "name": "stderr",
     "output_type": "stream",
     "text": [
      "../sim/GELoadBalancer.py:90: DataConversionWarning: A column-vector y was passed when a 1d array was expected. Please change the shape of y to (n_samples,), for example using ravel().\n",
      "  #print(self.X.shape,self.y.shape)\n"
     ]
    },
    {
     "name": "stdout",
     "output_type": "stream",
     "text": [
      "18058 1101 10 5548.0\n",
      "0.9986852894929248\n",
      "(105, 8) (105, 1)\n",
      "28\n"
     ]
    },
    {
     "name": "stderr",
     "output_type": "stream",
     "text": [
      "../sim/GELoadBalancer.py:90: DataConversionWarning: A column-vector y was passed when a 1d array was expected. Please change the shape of y to (n_samples,), for example using ravel().\n",
      "  #print(self.X.shape,self.y.shape)\n"
     ]
    },
    {
     "name": "stdout",
     "output_type": "stream",
     "text": [
      "18072 10 28 13772.0\n",
      "0.9992580906302682\n",
      "(106, 8) (106, 1)\n",
      "24\n"
     ]
    },
    {
     "name": "stderr",
     "output_type": "stream",
     "text": [
      "../sim/GELoadBalancer.py:90: DataConversionWarning: A column-vector y was passed when a 1d array was expected. Please change the shape of y to (n_samples,), for example using ravel().\n",
      "  #print(self.X.shape,self.y.shape)\n"
     ]
    },
    {
     "name": "stdout",
     "output_type": "stream",
     "text": [
      "17995 0.0 24 14395.0\n",
      "0.9988027485968857\n",
      "(107, 8) (107, 1)\n",
      "23\n"
     ]
    },
    {
     "name": "stderr",
     "output_type": "stream",
     "text": [
      "../sim/GELoadBalancer.py:90: DataConversionWarning: A column-vector y was passed when a 1d array was expected. Please change the shape of y to (n_samples,), for example using ravel().\n",
      "  #print(self.X.shape,self.y.shape)\n"
     ]
    },
    {
     "name": "stdout",
     "output_type": "stream",
     "text": [
      "17910 0.0 23 14460.0\n",
      "0.9986821336262658\n",
      "(108, 8) (108, 1)\n",
      "24\n"
     ]
    },
    {
     "name": "stderr",
     "output_type": "stream",
     "text": [
      "../sim/GELoadBalancer.py:90: DataConversionWarning: A column-vector y was passed when a 1d array was expected. Please change the shape of y to (n_samples,), for example using ravel().\n",
      "  #print(self.X.shape,self.y.shape)\n"
     ]
    },
    {
     "name": "stdout",
     "output_type": "stream",
     "text": [
      "18091 0.0 24 14491.0\n",
      "0.998045071516212\n",
      "(109, 8) (109, 1)\n",
      "18\n"
     ]
    },
    {
     "name": "stderr",
     "output_type": "stream",
     "text": [
      "../sim/GELoadBalancer.py:90: DataConversionWarning: A column-vector y was passed when a 1d array was expected. Please change the shape of y to (n_samples,), for example using ravel().\n",
      "  #print(self.X.shape,self.y.shape)\n"
     ]
    },
    {
     "name": "stdout",
     "output_type": "stream",
     "text": [
      "18061 0.0 18 15361.0\n",
      "0.9992938413929423\n",
      "(110, 8) (110, 1)\n",
      "Max reward for 13653.2 16\n",
      "16\n"
     ]
    },
    {
     "name": "stderr",
     "output_type": "stream",
     "text": [
      "../sim/GELoadBalancer.py:90: DataConversionWarning: A column-vector y was passed when a 1d array was expected. Please change the shape of y to (n_samples,), for example using ravel().\n",
      "  #print(self.X.shape,self.y.shape)\n"
     ]
    },
    {
     "name": "stdout",
     "output_type": "stream",
     "text": [
      "17853 6 16 15393.0\n",
      "0.9978907455640322\n",
      "(111, 8) (111, 1)\n",
      "24\n"
     ]
    },
    {
     "name": "stderr",
     "output_type": "stream",
     "text": [
      "../sim/GELoadBalancer.py:90: DataConversionWarning: A column-vector y was passed when a 1d array was expected. Please change the shape of y to (n_samples,), for example using ravel().\n",
      "  #print(self.X.shape,self.y.shape)\n"
     ]
    },
    {
     "name": "stdout",
     "output_type": "stream",
     "text": [
      "17877 0.0 24 14277.0\n",
      "0.9991052076762217\n",
      "(112, 8) (112, 1)\n",
      "28\n"
     ]
    },
    {
     "name": "stderr",
     "output_type": "stream",
     "text": [
      "../sim/GELoadBalancer.py:90: DataConversionWarning: A column-vector y was passed when a 1d array was expected. Please change the shape of y to (n_samples,), for example using ravel().\n",
      "  #print(self.X.shape,self.y.shape)\n"
     ]
    },
    {
     "name": "stdout",
     "output_type": "stream",
     "text": [
      "17998 0.0 28 13798.0\n",
      "0.9987751932872532\n",
      "(113, 8) (113, 1)\n",
      "14\n"
     ]
    },
    {
     "name": "stderr",
     "output_type": "stream",
     "text": [
      "../sim/GELoadBalancer.py:90: DataConversionWarning: A column-vector y was passed when a 1d array was expected. Please change the shape of y to (n_samples,), for example using ravel().\n",
      "  #print(self.X.shape,self.y.shape)\n"
     ]
    },
    {
     "name": "stdout",
     "output_type": "stream",
     "text": [
      "17902 322 14 12582.0\n",
      "0.9980050159471056\n",
      "(114, 8) (114, 1)\n",
      "24\n"
     ]
    },
    {
     "name": "stderr",
     "output_type": "stream",
     "text": [
      "../sim/GELoadBalancer.py:90: DataConversionWarning: A column-vector y was passed when a 1d array was expected. Please change the shape of y to (n_samples,), for example using ravel().\n",
      "  #print(self.X.shape,self.y.shape)\n"
     ]
    },
    {
     "name": "stdout",
     "output_type": "stream",
     "text": [
      "18133 4 24 14493.0\n",
      "0.9991177583749242\n",
      "(115, 8) (115, 1)\n",
      "24\n"
     ]
    },
    {
     "name": "stderr",
     "output_type": "stream",
     "text": [
      "../sim/GELoadBalancer.py:90: DataConversionWarning: A column-vector y was passed when a 1d array was expected. Please change the shape of y to (n_samples,), for example using ravel().\n",
      "  #print(self.X.shape,self.y.shape)\n"
     ]
    },
    {
     "name": "stdout",
     "output_type": "stream",
     "text": [
      "18133 0.0 24 14533.0\n",
      "0.9983499865090838\n",
      "(116, 8) (116, 1)\n",
      "25\n"
     ]
    },
    {
     "name": "stderr",
     "output_type": "stream",
     "text": [
      "../sim/GELoadBalancer.py:90: DataConversionWarning: A column-vector y was passed when a 1d array was expected. Please change the shape of y to (n_samples,), for example using ravel().\n",
      "  #print(self.X.shape,self.y.shape)\n"
     ]
    },
    {
     "name": "stdout",
     "output_type": "stream",
     "text": [
      "18169 0.0 25 14419.0\n",
      "0.9988018125489145\n",
      "(117, 8) (117, 1)\n",
      "23\n"
     ]
    },
    {
     "name": "stderr",
     "output_type": "stream",
     "text": [
      "../sim/GELoadBalancer.py:90: DataConversionWarning: A column-vector y was passed when a 1d array was expected. Please change the shape of y to (n_samples,), for example using ravel().\n",
      "  #print(self.X.shape,self.y.shape)\n"
     ]
    },
    {
     "name": "stdout",
     "output_type": "stream",
     "text": [
      "18119 0.0 23 14669.0\n",
      "0.9991950111706868\n",
      "(118, 8) (118, 1)\n",
      "14\n"
     ]
    },
    {
     "name": "stderr",
     "output_type": "stream",
     "text": [
      "../sim/GELoadBalancer.py:90: DataConversionWarning: A column-vector y was passed when a 1d array was expected. Please change the shape of y to (n_samples,), for example using ravel().\n",
      "  #print(self.X.shape,self.y.shape)\n"
     ]
    },
    {
     "name": "stdout",
     "output_type": "stream",
     "text": [
      "17718 271 14 12908.0\n",
      "0.999180377276825\n",
      "(119, 8) (119, 1)\n",
      "Max reward for 13612.5 17\n",
      "17\n"
     ]
    },
    {
     "name": "stderr",
     "output_type": "stream",
     "text": [
      "../sim/GELoadBalancer.py:90: DataConversionWarning: A column-vector y was passed when a 1d array was expected. Please change the shape of y to (n_samples,), for example using ravel().\n",
      "  #print(self.X.shape,self.y.shape)\n"
     ]
    },
    {
     "name": "stdout",
     "output_type": "stream",
     "text": [
      "18153 4 17 15563.0\n",
      "0.9992832451567945\n",
      "(120, 8) (120, 1)\n",
      "15\n"
     ]
    },
    {
     "name": "stderr",
     "output_type": "stream",
     "text": [
      "../sim/GELoadBalancer.py:90: DataConversionWarning: A column-vector y was passed when a 1d array was expected. Please change the shape of y to (n_samples,), for example using ravel().\n",
      "  #print(self.X.shape,self.y.shape)\n"
     ]
    },
    {
     "name": "stdout",
     "output_type": "stream",
     "text": [
      "18101 130 15 14551.0\n",
      "0.9988855528596612\n",
      "(121, 8) (121, 1)\n",
      "13\n"
     ]
    },
    {
     "name": "stderr",
     "output_type": "stream",
     "text": [
      "../sim/GELoadBalancer.py:90: DataConversionWarning: A column-vector y was passed when a 1d array was expected. Please change the shape of y to (n_samples,), for example using ravel().\n",
      "  #print(self.X.shape,self.y.shape)\n"
     ]
    },
    {
     "name": "stdout",
     "output_type": "stream",
     "text": [
      "17996 540 13 10646.0\n",
      "0.9991222472875534\n",
      "(122, 8) (122, 1)\n",
      "25\n"
     ]
    },
    {
     "name": "stderr",
     "output_type": "stream",
     "text": [
      "../sim/GELoadBalancer.py:90: DataConversionWarning: A column-vector y was passed when a 1d array was expected. Please change the shape of y to (n_samples,), for example using ravel().\n",
      "  #print(self.X.shape,self.y.shape)\n"
     ]
    },
    {
     "name": "stdout",
     "output_type": "stream",
     "text": [
      "18040 5 25 14240.0\n",
      "0.9989189880251701\n",
      "(123, 8) (123, 1)\n",
      "23\n"
     ]
    },
    {
     "name": "stderr",
     "output_type": "stream",
     "text": [
      "../sim/GELoadBalancer.py:90: DataConversionWarning: A column-vector y was passed when a 1d array was expected. Please change the shape of y to (n_samples,), for example using ravel().\n",
      "  #print(self.X.shape,self.y.shape)\n"
     ]
    },
    {
     "name": "stdout",
     "output_type": "stream",
     "text": [
      "18066 0.0 23 14616.0\n",
      "0.9986155303234383\n",
      "(124, 8) (124, 1)\n",
      "21\n"
     ]
    },
    {
     "name": "stderr",
     "output_type": "stream",
     "text": [
      "../sim/GELoadBalancer.py:90: DataConversionWarning: A column-vector y was passed when a 1d array was expected. Please change the shape of y to (n_samples,), for example using ravel().\n",
      "  #print(self.X.shape,self.y.shape)\n"
     ]
    },
    {
     "name": "stdout",
     "output_type": "stream",
     "text": [
      "18091 0.0 21 14941.0\n",
      "0.9985842395963955\n",
      "(125, 8) (125, 1)\n",
      "16\n"
     ]
    },
    {
     "name": "stderr",
     "output_type": "stream",
     "text": [
      "../sim/GELoadBalancer.py:90: DataConversionWarning: A column-vector y was passed when a 1d array was expected. Please change the shape of y to (n_samples,), for example using ravel().\n",
      "  #print(self.X.shape,self.y.shape)\n"
     ]
    },
    {
     "name": "stdout",
     "output_type": "stream",
     "text": [
      "18039 14 16 15499.0\n",
      "0.9988950381308631\n",
      "(126, 8) (126, 1)\n",
      "Max reward for 13648.4 17\n",
      "17\n"
     ]
    },
    {
     "name": "stderr",
     "output_type": "stream",
     "text": [
      "../sim/GELoadBalancer.py:90: DataConversionWarning: A column-vector y was passed when a 1d array was expected. Please change the shape of y to (n_samples,), for example using ravel().\n",
      "  #print(self.X.shape,self.y.shape)\n"
     ]
    },
    {
     "name": "stdout",
     "output_type": "stream",
     "text": [
      "18134 0.0 17 15584.0\n",
      "0.9993119141152701\n",
      "(127, 8) (127, 1)\n",
      "Max reward for 13616.5 17\n",
      "17\n"
     ]
    },
    {
     "name": "stderr",
     "output_type": "stream",
     "text": [
      "../sim/GELoadBalancer.py:90: DataConversionWarning: A column-vector y was passed when a 1d array was expected. Please change the shape of y to (n_samples,), for example using ravel().\n",
      "  #print(self.X.shape,self.y.shape)\n"
     ]
    },
    {
     "name": "stdout",
     "output_type": "stream",
     "text": [
      "17934 0.0 17 15384.0\n",
      "0.9992557791854279\n",
      "(128, 8) (128, 1)\n",
      "Max reward for 13661.6 16\n",
      "16\n"
     ]
    },
    {
     "name": "stderr",
     "output_type": "stream",
     "text": [
      "../sim/GELoadBalancer.py:90: DataConversionWarning: A column-vector y was passed when a 1d array was expected. Please change the shape of y to (n_samples,), for example using ravel().\n",
      "  #print(self.X.shape,self.y.shape)\n"
     ]
    },
    {
     "name": "stdout",
     "output_type": "stream",
     "text": [
      "18139 19 16 15549.0\n",
      "0.9989797827910616\n",
      "(129, 8) (129, 1)\n",
      "29\n"
     ]
    },
    {
     "name": "stderr",
     "output_type": "stream",
     "text": [
      "../sim/GELoadBalancer.py:90: DataConversionWarning: A column-vector y was passed when a 1d array was expected. Please change the shape of y to (n_samples,), for example using ravel().\n",
      "  #print(self.X.shape,self.y.shape)\n"
     ]
    },
    {
     "name": "stdout",
     "output_type": "stream",
     "text": [
      "18092 0.0 29 13742.0\n",
      "0.9994757549655002\n",
      "(130, 8) (130, 1)\n",
      "10\n"
     ]
    },
    {
     "name": "stderr",
     "output_type": "stream",
     "text": [
      "../sim/GELoadBalancer.py:90: DataConversionWarning: A column-vector y was passed when a 1d array was expected. Please change the shape of y to (n_samples,), for example using ravel().\n",
      "  #print(self.X.shape,self.y.shape)\n"
     ]
    },
    {
     "name": "stdout",
     "output_type": "stream",
     "text": [
      "17965 1094 10 5525.0\n",
      "0.9984173497289449\n",
      "(131, 8) (131, 1)\n",
      "29\n"
     ]
    },
    {
     "name": "stderr",
     "output_type": "stream",
     "text": [
      "../sim/GELoadBalancer.py:90: DataConversionWarning: A column-vector y was passed when a 1d array was expected. Please change the shape of y to (n_samples,), for example using ravel().\n",
      "  #print(self.X.shape,self.y.shape)\n"
     ]
    },
    {
     "name": "stdout",
     "output_type": "stream",
     "text": [
      "17946 5 29 13546.0\n",
      "0.9986901932949103\n",
      "(132, 8) (132, 1)\n",
      "23\n"
     ]
    },
    {
     "name": "stderr",
     "output_type": "stream",
     "text": [
      "../sim/GELoadBalancer.py:90: DataConversionWarning: A column-vector y was passed when a 1d array was expected. Please change the shape of y to (n_samples,), for example using ravel().\n",
      "  #print(self.X.shape,self.y.shape)\n"
     ]
    },
    {
     "name": "stdout",
     "output_type": "stream",
     "text": [
      "17960 0.0 23 14510.0\n",
      "0.9992137651974645\n",
      "(133, 8) (133, 1)\n",
      "21\n"
     ]
    },
    {
     "name": "stderr",
     "output_type": "stream",
     "text": [
      "../sim/GELoadBalancer.py:90: DataConversionWarning: A column-vector y was passed when a 1d array was expected. Please change the shape of y to (n_samples,), for example using ravel().\n",
      "  #print(self.X.shape,self.y.shape)\n"
     ]
    },
    {
     "name": "stdout",
     "output_type": "stream",
     "text": [
      "18022 0.0 21 14872.0\n",
      "0.9988257456983822\n",
      "(134, 8) (134, 1)\n",
      "24\n"
     ]
    },
    {
     "name": "stderr",
     "output_type": "stream",
     "text": [
      "../sim/GELoadBalancer.py:90: DataConversionWarning: A column-vector y was passed when a 1d array was expected. Please change the shape of y to (n_samples,), for example using ravel().\n",
      "  #print(self.X.shape,self.y.shape)\n"
     ]
    },
    {
     "name": "stdout",
     "output_type": "stream",
     "text": [
      "18069 0.0 24 14469.0\n",
      "0.9989247546520043\n",
      "(135, 8) (135, 1)\n",
      "Max reward for 13666.1 17\n",
      "17\n"
     ]
    },
    {
     "name": "stderr",
     "output_type": "stream",
     "text": [
      "../sim/GELoadBalancer.py:90: DataConversionWarning: A column-vector y was passed when a 1d array was expected. Please change the shape of y to (n_samples,), for example using ravel().\n",
      "  #print(self.X.shape,self.y.shape)\n"
     ]
    },
    {
     "name": "stdout",
     "output_type": "stream",
     "text": [
      "18182 1 17 15622.0\n",
      "0.99936396909947\n",
      "(136, 8) (136, 1)\n",
      "21\n"
     ]
    },
    {
     "name": "stderr",
     "output_type": "stream",
     "text": [
      "../sim/GELoadBalancer.py:90: DataConversionWarning: A column-vector y was passed when a 1d array was expected. Please change the shape of y to (n_samples,), for example using ravel().\n",
      "  #print(self.X.shape,self.y.shape)\n"
     ]
    },
    {
     "name": "stdout",
     "output_type": "stream",
     "text": [
      "17954 0.0 21 14804.0\n",
      "0.9994309865153487\n",
      "(137, 8) (137, 1)\n",
      "Max reward for 13573.1 16\n",
      "16\n"
     ]
    },
    {
     "name": "stderr",
     "output_type": "stream",
     "text": [
      "../sim/GELoadBalancer.py:90: DataConversionWarning: A column-vector y was passed when a 1d array was expected. Please change the shape of y to (n_samples,), for example using ravel().\n",
      "  #print(self.X.shape,self.y.shape)\n"
     ]
    },
    {
     "name": "stdout",
     "output_type": "stream",
     "text": [
      "18090 10 16 15590.0\n",
      "0.9990147546598392\n",
      "(138, 8) (138, 1)\n",
      "Max reward for 13688.9 16\n",
      "16\n"
     ]
    },
    {
     "name": "stderr",
     "output_type": "stream",
     "text": [
      "../sim/GELoadBalancer.py:90: DataConversionWarning: A column-vector y was passed when a 1d array was expected. Please change the shape of y to (n_samples,), for example using ravel().\n",
      "  #print(self.X.shape,self.y.shape)\n"
     ]
    },
    {
     "name": "stdout",
     "output_type": "stream",
     "text": [
      "18001 4 16 15561.0\n",
      "0.9982545644055544\n",
      "(139, 8) (139, 1)\n",
      "Max reward for 13616.5 16\n",
      "16\n"
     ]
    },
    {
     "name": "stderr",
     "output_type": "stream",
     "text": [
      "../sim/GELoadBalancer.py:90: DataConversionWarning: A column-vector y was passed when a 1d array was expected. Please change the shape of y to (n_samples,), for example using ravel().\n",
      "  #print(self.X.shape,self.y.shape)\n"
     ]
    },
    {
     "name": "stdout",
     "output_type": "stream",
     "text": [
      "17930 1 16 15520.0\n",
      "0.9993771074268206\n",
      "(140, 8) (140, 1)\n",
      "29\n"
     ]
    },
    {
     "name": "stderr",
     "output_type": "stream",
     "text": [
      "../sim/GELoadBalancer.py:90: DataConversionWarning: A column-vector y was passed when a 1d array was expected. Please change the shape of y to (n_samples,), for example using ravel().\n",
      "  #print(self.X.shape,self.y.shape)\n"
     ]
    },
    {
     "name": "stdout",
     "output_type": "stream",
     "text": [
      "18139 0.0 29 13789.0\n",
      "0.9977935801262586\n",
      "(141, 8) (141, 1)\n",
      "24\n"
     ]
    },
    {
     "name": "stderr",
     "output_type": "stream",
     "text": [
      "../sim/GELoadBalancer.py:90: DataConversionWarning: A column-vector y was passed when a 1d array was expected. Please change the shape of y to (n_samples,), for example using ravel().\n",
      "  #print(self.X.shape,self.y.shape)\n"
     ]
    },
    {
     "name": "stdout",
     "output_type": "stream",
     "text": [
      "18184 0.0 24 14584.0\n",
      "0.9988317879521723\n",
      "(142, 8) (142, 1)\n",
      "13\n"
     ]
    },
    {
     "name": "stderr",
     "output_type": "stream",
     "text": [
      "../sim/GELoadBalancer.py:90: DataConversionWarning: A column-vector y was passed when a 1d array was expected. Please change the shape of y to (n_samples,), for example using ravel().\n",
      "  #print(self.X.shape,self.y.shape)\n"
     ]
    },
    {
     "name": "stdout",
     "output_type": "stream",
     "text": [
      "17983 542 13 10613.0\n",
      "0.9990080556131349\n",
      "(143, 8) (143, 1)\n",
      "28\n"
     ]
    },
    {
     "name": "stderr",
     "output_type": "stream",
     "text": [
      "../sim/GELoadBalancer.py:90: DataConversionWarning: A column-vector y was passed when a 1d array was expected. Please change the shape of y to (n_samples,), for example using ravel().\n",
      "  #print(self.X.shape,self.y.shape)\n"
     ]
    },
    {
     "name": "stdout",
     "output_type": "stream",
     "text": [
      "18113 2 28 13893.0\n",
      "0.998594015429961\n",
      "(144, 8) (144, 1)\n",
      "25\n"
     ]
    },
    {
     "name": "stderr",
     "output_type": "stream",
     "text": [
      "../sim/GELoadBalancer.py:90: DataConversionWarning: A column-vector y was passed when a 1d array was expected. Please change the shape of y to (n_samples,), for example using ravel().\n",
      "  #print(self.X.shape,self.y.shape)\n"
     ]
    },
    {
     "name": "stdout",
     "output_type": "stream",
     "text": [
      "17952 0.0 25 14202.0\n",
      "0.9990793972272334\n",
      "(145, 8) (145, 1)\n",
      "Max reward for 13689.8 16\n",
      "16\n"
     ]
    },
    {
     "name": "stderr",
     "output_type": "stream",
     "text": [
      "../sim/GELoadBalancer.py:90: DataConversionWarning: A column-vector y was passed when a 1d array was expected. Please change the shape of y to (n_samples,), for example using ravel().\n",
      "  #print(self.X.shape,self.y.shape)\n"
     ]
    },
    {
     "name": "stdout",
     "output_type": "stream",
     "text": [
      "17973 3 16 15543.0\n",
      "0.9992955435797656\n",
      "(146, 8) (146, 1)\n",
      "22\n"
     ]
    },
    {
     "name": "stderr",
     "output_type": "stream",
     "text": [
      "../sim/GELoadBalancer.py:90: DataConversionWarning: A column-vector y was passed when a 1d array was expected. Please change the shape of y to (n_samples,), for example using ravel().\n",
      "  #print(self.X.shape,self.y.shape)\n"
     ]
    },
    {
     "name": "stdout",
     "output_type": "stream",
     "text": [
      "18006 0.0 22 14706.0\n",
      "0.9989477748039245\n",
      "(147, 8) (147, 1)\n",
      "Max reward for 13615.3 17\n",
      "17\n"
     ]
    },
    {
     "name": "stderr",
     "output_type": "stream",
     "text": [
      "../sim/GELoadBalancer.py:90: DataConversionWarning: A column-vector y was passed when a 1d array was expected. Please change the shape of y to (n_samples,), for example using ravel().\n",
      "  #print(self.X.shape,self.y.shape)\n"
     ]
    },
    {
     "name": "stdout",
     "output_type": "stream",
     "text": [
      "18092 2 17 15522.0\n",
      "0.999513182840011\n",
      "(148, 8) (148, 1)\n",
      "Max reward for 13730.4 16\n",
      "16\n"
     ]
    },
    {
     "name": "stderr",
     "output_type": "stream",
     "text": [
      "../sim/GELoadBalancer.py:90: DataConversionWarning: A column-vector y was passed when a 1d array was expected. Please change the shape of y to (n_samples,), for example using ravel().\n",
      "  #print(self.X.shape,self.y.shape)\n"
     ]
    },
    {
     "name": "stdout",
     "output_type": "stream",
     "text": [
      "18086 20 16 15486.0\n",
      "0.9993321190137147\n",
      "(149, 8) (149, 1)\n",
      "28\n"
     ]
    },
    {
     "name": "stderr",
     "output_type": "stream",
     "text": [
      "../sim/GELoadBalancer.py:90: DataConversionWarning: A column-vector y was passed when a 1d array was expected. Please change the shape of y to (n_samples,), for example using ravel().\n",
      "  #print(self.X.shape,self.y.shape)\n"
     ]
    },
    {
     "name": "stdout",
     "output_type": "stream",
     "text": [
      "17945 0.0 28 13745.0\n",
      "0.9994317923074648\n",
      "(150, 8) (150, 1)\n",
      "12\n"
     ]
    },
    {
     "name": "stderr",
     "output_type": "stream",
     "text": [
      "../sim/GELoadBalancer.py:90: DataConversionWarning: A column-vector y was passed when a 1d array was expected. Please change the shape of y to (n_samples,), for example using ravel().\n",
      "  #print(self.X.shape,self.y.shape)\n"
     ]
    },
    {
     "name": "stdout",
     "output_type": "stream",
     "text": [
      "17977 745 12 8727.0\n",
      "0.9995103923056323\n",
      "(151, 8) (151, 1)\n",
      "21\n"
     ]
    },
    {
     "name": "stderr",
     "output_type": "stream",
     "text": [
      "../sim/GELoadBalancer.py:90: DataConversionWarning: A column-vector y was passed when a 1d array was expected. Please change the shape of y to (n_samples,), for example using ravel().\n",
      "  #print(self.X.shape,self.y.shape)\n"
     ]
    },
    {
     "name": "stdout",
     "output_type": "stream",
     "text": [
      "18069 2 21 14899.0\n",
      "0.9991160691796549\n",
      "(152, 8) (152, 1)\n",
      "Max reward for 13660.2 16\n",
      "16\n"
     ]
    },
    {
     "name": "stderr",
     "output_type": "stream",
     "text": [
      "../sim/GELoadBalancer.py:90: DataConversionWarning: A column-vector y was passed when a 1d array was expected. Please change the shape of y to (n_samples,), for example using ravel().\n",
      "  #print(self.X.shape,self.y.shape)\n"
     ]
    },
    {
     "name": "stdout",
     "output_type": "stream",
     "text": [
      "17958 4 16 15518.0\n",
      "0.9992866416728355\n",
      "(153, 8) (153, 1)\n",
      "12\n"
     ]
    },
    {
     "name": "stderr",
     "output_type": "stream",
     "text": [
      "../sim/GELoadBalancer.py:90: DataConversionWarning: A column-vector y was passed when a 1d array was expected. Please change the shape of y to (n_samples,), for example using ravel().\n",
      "  #print(self.X.shape,self.y.shape)\n"
     ]
    },
    {
     "name": "stdout",
     "output_type": "stream",
     "text": [
      "18168 777 12 8598.0\n",
      "0.9994945584439646\n",
      "(154, 8) (154, 1)\n",
      "21\n"
     ]
    },
    {
     "name": "stderr",
     "output_type": "stream",
     "text": [
      "../sim/GELoadBalancer.py:90: DataConversionWarning: A column-vector y was passed when a 1d array was expected. Please change the shape of y to (n_samples,), for example using ravel().\n",
      "  #print(self.X.shape,self.y.shape)\n"
     ]
    },
    {
     "name": "stdout",
     "output_type": "stream",
     "text": [
      "18045 10 21 14795.0\n",
      "0.9994041331328873\n",
      "(155, 8) (155, 1)\n"
     ]
    },
    {
     "name": "stderr",
     "output_type": "stream",
     "text": [
      "../sim/GELoadBalancer.py:90: DataConversionWarning: A column-vector y was passed when a 1d array was expected. Please change the shape of y to (n_samples,), for example using ravel().\n",
      "  #print(self.X.shape,self.y.shape)\n"
     ]
    },
    {
     "name": "stdout",
     "output_type": "stream",
     "text": [
      "Max reward for 13644.1 16\n",
      "16\n",
      "17910 7 16 15440.0\n",
      "0.9994916530707377\n",
      "(156, 8) (156, 1)\n",
      "25\n"
     ]
    },
    {
     "name": "stderr",
     "output_type": "stream",
     "text": [
      "../sim/GELoadBalancer.py:90: DataConversionWarning: A column-vector y was passed when a 1d array was expected. Please change the shape of y to (n_samples,), for example using ravel().\n",
      "  #print(self.X.shape,self.y.shape)\n"
     ]
    },
    {
     "name": "stdout",
     "output_type": "stream",
     "text": [
      "18094 0.0 25 14344.0\n",
      "0.9993188451459579\n",
      "(157, 8) (157, 1)\n",
      "22\n"
     ]
    },
    {
     "name": "stderr",
     "output_type": "stream",
     "text": [
      "../sim/GELoadBalancer.py:90: DataConversionWarning: A column-vector y was passed when a 1d array was expected. Please change the shape of y to (n_samples,), for example using ravel().\n",
      "  #print(self.X.shape,self.y.shape)\n"
     ]
    },
    {
     "name": "stdout",
     "output_type": "stream",
     "text": [
      "17830 0.0 22 14530.0\n",
      "0.9994951645113515\n",
      "(158, 8) (158, 1)\n",
      "23\n"
     ]
    },
    {
     "name": "stderr",
     "output_type": "stream",
     "text": [
      "../sim/GELoadBalancer.py:90: DataConversionWarning: A column-vector y was passed when a 1d array was expected. Please change the shape of y to (n_samples,), for example using ravel().\n",
      "  #print(self.X.shape,self.y.shape)\n"
     ]
    },
    {
     "name": "stdout",
     "output_type": "stream",
     "text": [
      "17984 0.0 23 14534.0\n",
      "0.999311971963839\n",
      "(159, 8) (159, 1)\n",
      "28\n"
     ]
    },
    {
     "name": "stderr",
     "output_type": "stream",
     "text": [
      "../sim/GELoadBalancer.py:90: DataConversionWarning: A column-vector y was passed when a 1d array was expected. Please change the shape of y to (n_samples,), for example using ravel().\n",
      "  #print(self.X.shape,self.y.shape)\n"
     ]
    },
    {
     "name": "stdout",
     "output_type": "stream",
     "text": [
      "17939 0.0 28 13739.0\n",
      "0.9993228626957735\n",
      "(160, 8) (160, 1)\n",
      "12\n"
     ]
    },
    {
     "name": "stderr",
     "output_type": "stream",
     "text": [
      "../sim/GELoadBalancer.py:90: DataConversionWarning: A column-vector y was passed when a 1d array was expected. Please change the shape of y to (n_samples,), for example using ravel().\n",
      "  #print(self.X.shape,self.y.shape)\n"
     ]
    },
    {
     "name": "stdout",
     "output_type": "stream",
     "text": [
      "18177 779 12 8587.0\n",
      "0.9994475238758037\n",
      "(161, 8) (161, 1)\n",
      "Max reward for 13676.4 16\n",
      "16\n"
     ]
    },
    {
     "name": "stderr",
     "output_type": "stream",
     "text": [
      "../sim/GELoadBalancer.py:90: DataConversionWarning: A column-vector y was passed when a 1d array was expected. Please change the shape of y to (n_samples,), for example using ravel().\n",
      "  #print(self.X.shape,self.y.shape)\n"
     ]
    },
    {
     "name": "stdout",
     "output_type": "stream",
     "text": [
      "18118 18 16 15538.0\n",
      "0.9994899373870808\n",
      "(162, 8) (162, 1)\n",
      "Max reward for 13696.1 16\n",
      "16\n"
     ]
    },
    {
     "name": "stderr",
     "output_type": "stream",
     "text": [
      "../sim/GELoadBalancer.py:90: DataConversionWarning: A column-vector y was passed when a 1d array was expected. Please change the shape of y to (n_samples,), for example using ravel().\n",
      "  #print(self.X.shape,self.y.shape)\n"
     ]
    },
    {
     "name": "stdout",
     "output_type": "stream",
     "text": [
      "17924 5 16 15474.0\n",
      "0.9995010625801962\n",
      "(163, 8) (163, 1)\n",
      "23\n"
     ]
    },
    {
     "name": "stderr",
     "output_type": "stream",
     "text": [
      "../sim/GELoadBalancer.py:90: DataConversionWarning: A column-vector y was passed when a 1d array was expected. Please change the shape of y to (n_samples,), for example using ravel().\n",
      "  #print(self.X.shape,self.y.shape)\n"
     ]
    },
    {
     "name": "stdout",
     "output_type": "stream",
     "text": [
      "17901 0.0 23 14451.0\n",
      "0.9996459619802063\n",
      "(164, 8) (164, 1)\n",
      "25\n"
     ]
    },
    {
     "name": "stderr",
     "output_type": "stream",
     "text": [
      "../sim/GELoadBalancer.py:90: DataConversionWarning: A column-vector y was passed when a 1d array was expected. Please change the shape of y to (n_samples,), for example using ravel().\n",
      "  #print(self.X.shape,self.y.shape)\n"
     ]
    },
    {
     "name": "stdout",
     "output_type": "stream",
     "text": [
      "17963 0.0 25 14213.0\n",
      "0.9993437160778786\n",
      "(165, 8) (165, 1)\n",
      "23\n"
     ]
    },
    {
     "name": "stderr",
     "output_type": "stream",
     "text": [
      "../sim/GELoadBalancer.py:90: DataConversionWarning: A column-vector y was passed when a 1d array was expected. Please change the shape of y to (n_samples,), for example using ravel().\n",
      "  #print(self.X.shape,self.y.shape)\n"
     ]
    },
    {
     "name": "stdout",
     "output_type": "stream",
     "text": [
      "18083 0.0 23 14633.0\n",
      "0.9991800339532819\n",
      "(166, 8) (166, 1)\n",
      "Max reward for 13628.6 17\n",
      "17\n"
     ]
    },
    {
     "name": "stderr",
     "output_type": "stream",
     "text": [
      "../sim/GELoadBalancer.py:90: DataConversionWarning: A column-vector y was passed when a 1d array was expected. Please change the shape of y to (n_samples,), for example using ravel().\n",
      "  #print(self.X.shape,self.y.shape)\n"
     ]
    },
    {
     "name": "stdout",
     "output_type": "stream",
     "text": [
      "17969 0.0 17 15419.0\n",
      "0.9993937031934812\n",
      "(167, 8) (167, 1)\n",
      "Max reward for 13679.7 16\n",
      "16\n"
     ]
    },
    {
     "name": "stderr",
     "output_type": "stream",
     "text": [
      "../sim/GELoadBalancer.py:90: DataConversionWarning: A column-vector y was passed when a 1d array was expected. Please change the shape of y to (n_samples,), for example using ravel().\n",
      "  #print(self.X.shape,self.y.shape)\n"
     ]
    },
    {
     "name": "stdout",
     "output_type": "stream",
     "text": [
      "18058 5 16 15608.0\n",
      "0.9988313414950916\n",
      "(168, 8) (168, 1)\n",
      "14\n"
     ]
    },
    {
     "name": "stderr",
     "output_type": "stream",
     "text": [
      "../sim/GELoadBalancer.py:90: DataConversionWarning: A column-vector y was passed when a 1d array was expected. Please change the shape of y to (n_samples,), for example using ravel().\n",
      "  #print(self.X.shape,self.y.shape)\n"
     ]
    },
    {
     "name": "stdout",
     "output_type": "stream",
     "text": [
      "17996 306 14 12836.0\n",
      "0.9995306559593834\n",
      "(169, 8) (169, 1)\n",
      "24\n"
     ]
    },
    {
     "name": "stderr",
     "output_type": "stream",
     "text": [
      "../sim/GELoadBalancer.py:90: DataConversionWarning: A column-vector y was passed when a 1d array was expected. Please change the shape of y to (n_samples,), for example using ravel().\n",
      "  #print(self.X.shape,self.y.shape)\n"
     ]
    },
    {
     "name": "stdout",
     "output_type": "stream",
     "text": [
      "17988 5 24 14338.0\n",
      "0.9993822906722241\n",
      "(170, 8) (170, 1)\n",
      "Max reward for 13657.2 16\n",
      "16\n"
     ]
    },
    {
     "name": "stderr",
     "output_type": "stream",
     "text": [
      "../sim/GELoadBalancer.py:90: DataConversionWarning: A column-vector y was passed when a 1d array was expected. Please change the shape of y to (n_samples,), for example using ravel().\n",
      "  #print(self.X.shape,self.y.shape)\n"
     ]
    },
    {
     "name": "stdout",
     "output_type": "stream",
     "text": [
      "17955 7 16 15485.0\n",
      "0.9993369861605556\n",
      "(171, 8) (171, 1)\n",
      "Max reward for 13715.5 17\n",
      "17\n"
     ]
    },
    {
     "name": "stderr",
     "output_type": "stream",
     "text": [
      "../sim/GELoadBalancer.py:90: DataConversionWarning: A column-vector y was passed when a 1d array was expected. Please change the shape of y to (n_samples,), for example using ravel().\n",
      "  #print(self.X.shape,self.y.shape)\n"
     ]
    },
    {
     "name": "stdout",
     "output_type": "stream",
     "text": [
      "18127 3 17 15547.0\n",
      "0.9990989539079335\n",
      "(172, 8) (172, 1)\n",
      "Max reward for 13709.2 16\n",
      "16\n"
     ]
    },
    {
     "name": "stderr",
     "output_type": "stream",
     "text": [
      "../sim/GELoadBalancer.py:90: DataConversionWarning: A column-vector y was passed when a 1d array was expected. Please change the shape of y to (n_samples,), for example using ravel().\n",
      "  #print(self.X.shape,self.y.shape)\n"
     ]
    },
    {
     "name": "stdout",
     "output_type": "stream",
     "text": [
      "17969 9 16 15479.0\n",
      "0.9994825602356482\n",
      "(173, 8) (173, 1)\n",
      "26\n"
     ]
    },
    {
     "name": "stderr",
     "output_type": "stream",
     "text": [
      "../sim/GELoadBalancer.py:90: DataConversionWarning: A column-vector y was passed when a 1d array was expected. Please change the shape of y to (n_samples,), for example using ravel().\n",
      "  #print(self.X.shape,self.y.shape)\n"
     ]
    },
    {
     "name": "stdout",
     "output_type": "stream",
     "text": [
      "17845 0.0 26 13945.0\n",
      "0.9991485363876479\n",
      "(174, 8) (174, 1)\n",
      "23\n"
     ]
    },
    {
     "name": "stderr",
     "output_type": "stream",
     "text": [
      "../sim/GELoadBalancer.py:90: DataConversionWarning: A column-vector y was passed when a 1d array was expected. Please change the shape of y to (n_samples,), for example using ravel().\n",
      "  #print(self.X.shape,self.y.shape)\n"
     ]
    },
    {
     "name": "stdout",
     "output_type": "stream",
     "text": [
      "18049 0.0 23 14599.0\n",
      "0.9993482629060282\n",
      "(175, 8) (175, 1)\n",
      "29\n"
     ]
    },
    {
     "name": "stderr",
     "output_type": "stream",
     "text": [
      "../sim/GELoadBalancer.py:90: DataConversionWarning: A column-vector y was passed when a 1d array was expected. Please change the shape of y to (n_samples,), for example using ravel().\n",
      "  #print(self.X.shape,self.y.shape)\n"
     ]
    },
    {
     "name": "stdout",
     "output_type": "stream",
     "text": [
      "18004 0.0 29 13654.0\n",
      "0.999501642841452\n",
      "(176, 8) (176, 1)\n",
      "15\n"
     ]
    },
    {
     "name": "stderr",
     "output_type": "stream",
     "text": [
      "../sim/GELoadBalancer.py:90: DataConversionWarning: A column-vector y was passed when a 1d array was expected. Please change the shape of y to (n_samples,), for example using ravel().\n",
      "  #print(self.X.shape,self.y.shape)\n"
     ]
    },
    {
     "name": "stdout",
     "output_type": "stream",
     "text": [
      "17863 83 15 14783.0\n",
      "0.9993617545831639\n",
      "(177, 8) (177, 1)\n",
      "15\n"
     ]
    },
    {
     "name": "stderr",
     "output_type": "stream",
     "text": [
      "../sim/GELoadBalancer.py:90: DataConversionWarning: A column-vector y was passed when a 1d array was expected. Please change the shape of y to (n_samples,), for example using ravel().\n",
      "  #print(self.X.shape,self.y.shape)\n"
     ]
    },
    {
     "name": "stdout",
     "output_type": "stream",
     "text": [
      "17946 100 15 14696.0\n",
      "0.9990862053110504\n",
      "(178, 8) (178, 1)\n",
      "Max reward for 13603.3 17\n",
      "17\n"
     ]
    },
    {
     "name": "stderr",
     "output_type": "stream",
     "text": [
      "../sim/GELoadBalancer.py:90: DataConversionWarning: A column-vector y was passed when a 1d array was expected. Please change the shape of y to (n_samples,), for example using ravel().\n",
      "  #print(self.X.shape,self.y.shape)\n"
     ]
    },
    {
     "name": "stdout",
     "output_type": "stream",
     "text": [
      "18057 0.0 17 15507.0\n",
      "0.9994509349879338\n",
      "(179, 8) (179, 1)\n",
      "21\n"
     ]
    },
    {
     "name": "stderr",
     "output_type": "stream",
     "text": [
      "../sim/GELoadBalancer.py:90: DataConversionWarning: A column-vector y was passed when a 1d array was expected. Please change the shape of y to (n_samples,), for example using ravel().\n",
      "  #print(self.X.shape,self.y.shape)\n"
     ]
    },
    {
     "name": "stdout",
     "output_type": "stream",
     "text": [
      "17902 0.0 21 14752.0\n",
      "0.9990697130820992\n",
      "(180, 8) (180, 1)\n",
      "Max reward for 13682.4 16\n",
      "16\n"
     ]
    },
    {
     "name": "stderr",
     "output_type": "stream",
     "text": [
      "../sim/GELoadBalancer.py:90: DataConversionWarning: A column-vector y was passed when a 1d array was expected. Please change the shape of y to (n_samples,), for example using ravel().\n",
      "  #print(self.X.shape,self.y.shape)\n"
     ]
    },
    {
     "name": "stdout",
     "output_type": "stream",
     "text": [
      "17938 8 16 15458.0\n",
      "0.9986233399143114\n",
      "(181, 8) (181, 1)\n",
      "15\n"
     ]
    },
    {
     "name": "stderr",
     "output_type": "stream",
     "text": [
      "../sim/GELoadBalancer.py:90: DataConversionWarning: A column-vector y was passed when a 1d array was expected. Please change the shape of y to (n_samples,), for example using ravel().\n",
      "  #print(self.X.shape,self.y.shape)\n"
     ]
    },
    {
     "name": "stdout",
     "output_type": "stream",
     "text": [
      "18005 111 15 14645.0\n",
      "0.9992851623486475\n",
      "(182, 8) (182, 1)\n",
      "16\n"
     ]
    },
    {
     "name": "stderr",
     "output_type": "stream",
     "text": [
      "../sim/GELoadBalancer.py:90: DataConversionWarning: A column-vector y was passed when a 1d array was expected. Please change the shape of y to (n_samples,), for example using ravel().\n",
      "  #print(self.X.shape,self.y.shape)\n"
     ]
    },
    {
     "name": "stdout",
     "output_type": "stream",
     "text": [
      "17879 11 16 15369.0\n",
      "0.9994404076410474\n",
      "(183, 8) (183, 1)\n",
      "Max reward for 13701.3 17\n",
      "17\n"
     ]
    },
    {
     "name": "stderr",
     "output_type": "stream",
     "text": [
      "../sim/GELoadBalancer.py:90: DataConversionWarning: A column-vector y was passed when a 1d array was expected. Please change the shape of y to (n_samples,), for example using ravel().\n",
      "  #print(self.X.shape,self.y.shape)\n"
     ]
    },
    {
     "name": "stdout",
     "output_type": "stream",
     "text": [
      "17972 0.0 17 15422.0\n",
      "0.9995053789434916\n",
      "(184, 8) (184, 1)\n",
      "19\n"
     ]
    },
    {
     "name": "stderr",
     "output_type": "stream",
     "text": [
      "../sim/GELoadBalancer.py:90: DataConversionWarning: A column-vector y was passed when a 1d array was expected. Please change the shape of y to (n_samples,), for example using ravel().\n",
      "  #print(self.X.shape,self.y.shape)\n"
     ]
    },
    {
     "name": "stdout",
     "output_type": "stream",
     "text": [
      "18009 0.0 19 15159.0\n",
      "0.9994522352334576\n",
      "(185, 8) (185, 1)\n",
      "20\n"
     ]
    },
    {
     "name": "stderr",
     "output_type": "stream",
     "text": [
      "../sim/GELoadBalancer.py:90: DataConversionWarning: A column-vector y was passed when a 1d array was expected. Please change the shape of y to (n_samples,), for example using ravel().\n",
      "  #print(self.X.shape,self.y.shape)\n"
     ]
    },
    {
     "name": "stdout",
     "output_type": "stream",
     "text": [
      "18140 0.0 20 15140.0\n",
      "0.9993669138889871\n",
      "(186, 8) (186, 1)\n",
      "30\n"
     ]
    },
    {
     "name": "stderr",
     "output_type": "stream",
     "text": [
      "../sim/GELoadBalancer.py:90: DataConversionWarning: A column-vector y was passed when a 1d array was expected. Please change the shape of y to (n_samples,), for example using ravel().\n",
      "  #print(self.X.shape,self.y.shape)\n"
     ]
    },
    {
     "name": "stdout",
     "output_type": "stream",
     "text": [
      "17784 0.0 30 13284.0\n",
      "0.9994077684493332\n",
      "(187, 8) (187, 1)\n",
      "23\n"
     ]
    },
    {
     "name": "stderr",
     "output_type": "stream",
     "text": [
      "../sim/GELoadBalancer.py:90: DataConversionWarning: A column-vector y was passed when a 1d array was expected. Please change the shape of y to (n_samples,), for example using ravel().\n",
      "  #print(self.X.shape,self.y.shape)\n"
     ]
    },
    {
     "name": "stdout",
     "output_type": "stream",
     "text": [
      "18028 0.0 23 14578.0\n",
      "0.9994129743578521\n",
      "(188, 8) (188, 1)\n",
      "17\n"
     ]
    },
    {
     "name": "stderr",
     "output_type": "stream",
     "text": [
      "../sim/GELoadBalancer.py:90: DataConversionWarning: A column-vector y was passed when a 1d array was expected. Please change the shape of y to (n_samples,), for example using ravel().\n",
      "  #print(self.X.shape,self.y.shape)\n"
     ]
    },
    {
     "name": "stdout",
     "output_type": "stream",
     "text": [
      "17964 0.0 17 15414.0\n",
      "0.9993184184763889\n",
      "(189, 8) (189, 1)\n",
      "15\n"
     ]
    },
    {
     "name": "stderr",
     "output_type": "stream",
     "text": [
      "../sim/GELoadBalancer.py:90: DataConversionWarning: A column-vector y was passed when a 1d array was expected. Please change the shape of y to (n_samples,), for example using ravel().\n",
      "  #print(self.X.shape,self.y.shape)\n"
     ]
    },
    {
     "name": "stdout",
     "output_type": "stream",
     "text": [
      "17990 121 15 14530.0\n",
      "0.9993989279576606\n",
      "(190, 8) (190, 1)\n",
      "16\n"
     ]
    },
    {
     "name": "stderr",
     "output_type": "stream",
     "text": [
      "../sim/GELoadBalancer.py:90: DataConversionWarning: A column-vector y was passed when a 1d array was expected. Please change the shape of y to (n_samples,), for example using ravel().\n",
      "  #print(self.X.shape,self.y.shape)\n"
     ]
    },
    {
     "name": "stdout",
     "output_type": "stream",
     "text": [
      "18009 9 16 15519.0\n",
      "0.9988349962044262\n",
      "(191, 8) (191, 1)\n",
      "30\n"
     ]
    },
    {
     "name": "stderr",
     "output_type": "stream",
     "text": [
      "../sim/GELoadBalancer.py:90: DataConversionWarning: A column-vector y was passed when a 1d array was expected. Please change the shape of y to (n_samples,), for example using ravel().\n",
      "  #print(self.X.shape,self.y.shape)\n"
     ]
    },
    {
     "name": "stdout",
     "output_type": "stream",
     "text": [
      "17926 0.0 30 13426.0\n",
      "0.9993197399657147\n",
      "(192, 8) (192, 1)\n",
      "28\n"
     ]
    },
    {
     "name": "stderr",
     "output_type": "stream",
     "text": [
      "../sim/GELoadBalancer.py:90: DataConversionWarning: A column-vector y was passed when a 1d array was expected. Please change the shape of y to (n_samples,), for example using ravel().\n",
      "  #print(self.X.shape,self.y.shape)\n"
     ]
    },
    {
     "name": "stdout",
     "output_type": "stream",
     "text": [
      "17904 0.0 28 13704.0\n",
      "0.9992399379997029\n",
      "(193, 8) (193, 1)\n",
      "14\n"
     ]
    },
    {
     "name": "stderr",
     "output_type": "stream",
     "text": [
      "../sim/GELoadBalancer.py:90: DataConversionWarning: A column-vector y was passed when a 1d array was expected. Please change the shape of y to (n_samples,), for example using ravel().\n",
      "  #print(self.X.shape,self.y.shape)\n"
     ]
    },
    {
     "name": "stdout",
     "output_type": "stream",
     "text": [
      "17913 330 14 12513.0\n",
      "0.9993358680193377\n",
      "(194, 8) (194, 1)\n",
      "Max reward for 13757.4 16\n",
      "16\n"
     ]
    },
    {
     "name": "stderr",
     "output_type": "stream",
     "text": [
      "../sim/GELoadBalancer.py:90: DataConversionWarning: A column-vector y was passed when a 1d array was expected. Please change the shape of y to (n_samples,), for example using ravel().\n",
      "  #print(self.X.shape,self.y.shape)\n"
     ]
    },
    {
     "name": "stdout",
     "output_type": "stream",
     "text": [
      "18099 8 16 15619.0\n",
      "0.9989451203408977\n",
      "(195, 8) (195, 1)\n",
      "Max reward for 13647.1 16\n",
      "16\n"
     ]
    },
    {
     "name": "stderr",
     "output_type": "stream",
     "text": [
      "../sim/GELoadBalancer.py:90: DataConversionWarning: A column-vector y was passed when a 1d array was expected. Please change the shape of y to (n_samples,), for example using ravel().\n",
      "  #print(self.X.shape,self.y.shape)\n"
     ]
    },
    {
     "name": "stdout",
     "output_type": "stream",
     "text": [
      "17780 4 16 15340.0\n",
      "0.9987255438270637\n",
      "(196, 8) (196, 1)\n",
      "Max reward for 13748.6 16\n",
      "16\n"
     ]
    },
    {
     "name": "stderr",
     "output_type": "stream",
     "text": [
      "../sim/GELoadBalancer.py:90: DataConversionWarning: A column-vector y was passed when a 1d array was expected. Please change the shape of y to (n_samples,), for example using ravel().\n",
      "  #print(self.X.shape,self.y.shape)\n"
     ]
    },
    {
     "name": "stdout",
     "output_type": "stream",
     "text": [
      "18050 17 16 15480.0\n",
      "0.9993692811886973\n",
      "(197, 8) (197, 1)\n",
      "22\n"
     ]
    },
    {
     "name": "stderr",
     "output_type": "stream",
     "text": [
      "../sim/GELoadBalancer.py:90: DataConversionWarning: A column-vector y was passed when a 1d array was expected. Please change the shape of y to (n_samples,), for example using ravel().\n",
      "  #print(self.X.shape,self.y.shape)\n"
     ]
    },
    {
     "name": "stdout",
     "output_type": "stream",
     "text": [
      "18102 0.0 22 14802.0\n",
      "0.998933365737526\n",
      "(198, 8) (198, 1)\n",
      "Max reward for 13652.4 17\n",
      "17\n"
     ]
    },
    {
     "name": "stderr",
     "output_type": "stream",
     "text": [
      "../sim/GELoadBalancer.py:90: DataConversionWarning: A column-vector y was passed when a 1d array was expected. Please change the shape of y to (n_samples,), for example using ravel().\n",
      "  #print(self.X.shape,self.y.shape)\n"
     ]
    },
    {
     "name": "stdout",
     "output_type": "stream",
     "text": [
      "17985 0.0 17 15435.0\n",
      "0.9993698677914729\n",
      "(199, 8) (199, 1)\n",
      "16\n"
     ]
    },
    {
     "name": "stderr",
     "output_type": "stream",
     "text": [
      "../sim/GELoadBalancer.py:90: DataConversionWarning: A column-vector y was passed when a 1d array was expected. Please change the shape of y to (n_samples,), for example using ravel().\n",
      "  #print(self.X.shape,self.y.shape)\n"
     ]
    },
    {
     "name": "stdout",
     "output_type": "stream",
     "text": [
      "17976 3 16 15546.0\n",
      "0.9993185072539166\n",
      "(200, 8) (200, 1)\n",
      "Max reward for 13662.1 16\n",
      "16\n"
     ]
    },
    {
     "name": "stderr",
     "output_type": "stream",
     "text": [
      "../sim/GELoadBalancer.py:90: DataConversionWarning: A column-vector y was passed when a 1d array was expected. Please change the shape of y to (n_samples,), for example using ravel().\n",
      "  #print(self.X.shape,self.y.shape)\n"
     ]
    },
    {
     "name": "stdout",
     "output_type": "stream",
     "text": [
      "18047 25 16 15397.0\n",
      "0.9993385410967422\n",
      "(201, 8) (201, 1)\n",
      "18\n"
     ]
    },
    {
     "name": "stderr",
     "output_type": "stream",
     "text": [
      "../sim/GELoadBalancer.py:90: DataConversionWarning: A column-vector y was passed when a 1d array was expected. Please change the shape of y to (n_samples,), for example using ravel().\n",
      "  #print(self.X.shape,self.y.shape)\n"
     ]
    },
    {
     "name": "stdout",
     "output_type": "stream",
     "text": [
      "17896 0.0 18 15196.0\n",
      "0.9995068694530541\n",
      "(202, 8) (202, 1)\n",
      "Max reward for 13713.7 16\n",
      "16\n"
     ]
    },
    {
     "name": "stderr",
     "output_type": "stream",
     "text": [
      "../sim/GELoadBalancer.py:90: DataConversionWarning: A column-vector y was passed when a 1d array was expected. Please change the shape of y to (n_samples,), for example using ravel().\n",
      "  #print(self.X.shape,self.y.shape)\n"
     ]
    },
    {
     "name": "stdout",
     "output_type": "stream",
     "text": [
      "17988 10 16 15488.0\n",
      "0.9988477939726449\n",
      "(203, 8) (203, 1)\n",
      "Max reward for 13634.0 16\n",
      "16\n"
     ]
    },
    {
     "name": "stderr",
     "output_type": "stream",
     "text": [
      "../sim/GELoadBalancer.py:90: DataConversionWarning: A column-vector y was passed when a 1d array was expected. Please change the shape of y to (n_samples,), for example using ravel().\n",
      "  #print(self.X.shape,self.y.shape)\n"
     ]
    },
    {
     "name": "stdout",
     "output_type": "stream",
     "text": [
      "18061 11 16 15551.0\n",
      "0.9993043122192072\n",
      "(204, 8) (204, 1)\n",
      "Max reward for 13653.0 17\n",
      "17\n"
     ]
    },
    {
     "name": "stderr",
     "output_type": "stream",
     "text": [
      "../sim/GELoadBalancer.py:90: DataConversionWarning: A column-vector y was passed when a 1d array was expected. Please change the shape of y to (n_samples,), for example using ravel().\n",
      "  #print(self.X.shape,self.y.shape)\n"
     ]
    },
    {
     "name": "stdout",
     "output_type": "stream",
     "text": [
      "17897 0.0 17 15347.0\n",
      "0.9991098975797159\n",
      "(205, 8) (205, 1)\n",
      "10\n"
     ]
    },
    {
     "name": "stderr",
     "output_type": "stream",
     "text": [
      "../sim/GELoadBalancer.py:90: DataConversionWarning: A column-vector y was passed when a 1d array was expected. Please change the shape of y to (n_samples,), for example using ravel().\n",
      "  #print(self.X.shape,self.y.shape)\n"
     ]
    },
    {
     "name": "stdout",
     "output_type": "stream",
     "text": [
      "17907 1084 10 5567.0\n",
      "0.9993456155303126\n",
      "(206, 8) (206, 1)\n",
      "17\n"
     ]
    },
    {
     "name": "stderr",
     "output_type": "stream",
     "text": [
      "../sim/GELoadBalancer.py:90: DataConversionWarning: A column-vector y was passed when a 1d array was expected. Please change the shape of y to (n_samples,), for example using ravel().\n",
      "  #print(self.X.shape,self.y.shape)\n"
     ]
    },
    {
     "name": "stdout",
     "output_type": "stream",
     "text": [
      "18049 7 17 15429.0\n",
      "0.999498454302055\n",
      "(207, 8) (207, 1)\n",
      "Max reward for 13698.4 17\n",
      "17\n"
     ]
    },
    {
     "name": "stderr",
     "output_type": "stream",
     "text": [
      "../sim/GELoadBalancer.py:90: DataConversionWarning: A column-vector y was passed when a 1d array was expected. Please change the shape of y to (n_samples,), for example using ravel().\n",
      "  #print(self.X.shape,self.y.shape)\n"
     ]
    },
    {
     "name": "stdout",
     "output_type": "stream",
     "text": [
      "17960 0.0 17 15410.0\n",
      "0.9993534643127913\n",
      "(208, 8) (208, 1)\n",
      "Max reward for 13749.7 16\n",
      "16\n"
     ]
    },
    {
     "name": "stderr",
     "output_type": "stream",
     "text": [
      "../sim/GELoadBalancer.py:90: DataConversionWarning: A column-vector y was passed when a 1d array was expected. Please change the shape of y to (n_samples,), for example using ravel().\n",
      "  #print(self.X.shape,self.y.shape)\n"
     ]
    },
    {
     "name": "stdout",
     "output_type": "stream",
     "text": [
      "17925 7 16 15455.0\n",
      "0.9995179210009952\n",
      "(209, 8) (209, 1)\n",
      "Max reward for 13731.5 17\n",
      "17\n"
     ]
    },
    {
     "name": "stderr",
     "output_type": "stream",
     "text": [
      "../sim/GELoadBalancer.py:90: DataConversionWarning: A column-vector y was passed when a 1d array was expected. Please change the shape of y to (n_samples,), for example using ravel().\n",
      "  #print(self.X.shape,self.y.shape)\n"
     ]
    },
    {
     "name": "stdout",
     "output_type": "stream",
     "text": [
      "18020 1 17 15460.0\n",
      "0.9995443593911658\n",
      "(210, 8) (210, 1)\n",
      "25\n"
     ]
    },
    {
     "name": "stderr",
     "output_type": "stream",
     "text": [
      "../sim/GELoadBalancer.py:90: DataConversionWarning: A column-vector y was passed when a 1d array was expected. Please change the shape of y to (n_samples,), for example using ravel().\n",
      "  #print(self.X.shape,self.y.shape)\n"
     ]
    },
    {
     "name": "stdout",
     "output_type": "stream",
     "text": [
      "18141 0.0 25 14391.0\n",
      "0.9992751436897949\n",
      "(211, 8) (211, 1)\n",
      "Max reward for 13672.1 16\n",
      "16\n"
     ]
    },
    {
     "name": "stderr",
     "output_type": "stream",
     "text": [
      "../sim/GELoadBalancer.py:90: DataConversionWarning: A column-vector y was passed when a 1d array was expected. Please change the shape of y to (n_samples,), for example using ravel().\n",
      "  #print(self.X.shape,self.y.shape)\n"
     ]
    },
    {
     "name": "stdout",
     "output_type": "stream",
     "text": [
      "17891 5 16 15441.0\n",
      "0.9994242843325993\n",
      "(212, 8) (212, 1)\n",
      "10\n"
     ]
    },
    {
     "name": "stderr",
     "output_type": "stream",
     "text": [
      "../sim/GELoadBalancer.py:90: DataConversionWarning: A column-vector y was passed when a 1d array was expected. Please change the shape of y to (n_samples,), for example using ravel().\n",
      "  #print(self.X.shape,self.y.shape)\n"
     ]
    },
    {
     "name": "stdout",
     "output_type": "stream",
     "text": [
      "17814 1038 10 5934.0\n",
      "0.9992744665255693\n",
      "(213, 8) (213, 1)\n",
      "17\n"
     ]
    },
    {
     "name": "stderr",
     "output_type": "stream",
     "text": [
      "../sim/GELoadBalancer.py:90: DataConversionWarning: A column-vector y was passed when a 1d array was expected. Please change the shape of y to (n_samples,), for example using ravel().\n",
      "  #print(self.X.shape,self.y.shape)\n"
     ]
    },
    {
     "name": "stdout",
     "output_type": "stream",
     "text": [
      "17994 0.0 17 15444.0\n",
      "0.9989882844897989\n",
      "(214, 8) (214, 1)\n",
      "Max reward for 13675.0 16\n",
      "16\n"
     ]
    },
    {
     "name": "stderr",
     "output_type": "stream",
     "text": [
      "../sim/GELoadBalancer.py:90: DataConversionWarning: A column-vector y was passed when a 1d array was expected. Please change the shape of y to (n_samples,), for example using ravel().\n",
      "  #print(self.X.shape,self.y.shape)\n"
     ]
    },
    {
     "name": "stdout",
     "output_type": "stream",
     "text": [
      "18069 9 16 15579.0\n",
      "0.9992288114065034\n",
      "(215, 8) (215, 1)\n",
      "Max reward for 13723.5 16\n",
      "16\n"
     ]
    },
    {
     "name": "stderr",
     "output_type": "stream",
     "text": [
      "../sim/GELoadBalancer.py:90: DataConversionWarning: A column-vector y was passed when a 1d array was expected. Please change the shape of y to (n_samples,), for example using ravel().\n",
      "  #print(self.X.shape,self.y.shape)\n"
     ]
    },
    {
     "name": "stdout",
     "output_type": "stream",
     "text": [
      "17999 5 16 15549.0\n",
      "0.9991976556596666\n",
      "(216, 8) (216, 1)\n",
      "Max reward for 13706.7 17\n",
      "17\n"
     ]
    },
    {
     "name": "stderr",
     "output_type": "stream",
     "text": [
      "../sim/GELoadBalancer.py:90: DataConversionWarning: A column-vector y was passed when a 1d array was expected. Please change the shape of y to (n_samples,), for example using ravel().\n",
      "  #print(self.X.shape,self.y.shape)\n"
     ]
    },
    {
     "name": "stdout",
     "output_type": "stream",
     "text": [
      "17954 1 17 15394.0\n",
      "0.9992518167003257\n",
      "(217, 8) (217, 1)\n",
      "Max reward for 13701.9 16\n",
      "16\n"
     ]
    },
    {
     "name": "stderr",
     "output_type": "stream",
     "text": [
      "../sim/GELoadBalancer.py:90: DataConversionWarning: A column-vector y was passed when a 1d array was expected. Please change the shape of y to (n_samples,), for example using ravel().\n",
      "  #print(self.X.shape,self.y.shape)\n"
     ]
    },
    {
     "name": "stdout",
     "output_type": "stream",
     "text": [
      "18013 10 16 15513.0\n",
      "0.9990789108737759\n",
      "(218, 8) (218, 1)\n",
      "Max reward for 13705.2 16\n",
      "16\n"
     ]
    },
    {
     "name": "stderr",
     "output_type": "stream",
     "text": [
      "../sim/GELoadBalancer.py:90: DataConversionWarning: A column-vector y was passed when a 1d array was expected. Please change the shape of y to (n_samples,), for example using ravel().\n",
      "  #print(self.X.shape,self.y.shape)\n"
     ]
    },
    {
     "name": "stdout",
     "output_type": "stream",
     "text": [
      "18007 10 16 15507.0\n",
      "0.999002477653169\n",
      "(219, 8) (219, 1)\n",
      "15\n"
     ]
    },
    {
     "name": "stderr",
     "output_type": "stream",
     "text": [
      "../sim/GELoadBalancer.py:90: DataConversionWarning: A column-vector y was passed when a 1d array was expected. Please change the shape of y to (n_samples,), for example using ravel().\n",
      "  #print(self.X.shape,self.y.shape)\n"
     ]
    },
    {
     "name": "stdout",
     "output_type": "stream",
     "text": [
      "17933 96 15 14723.0\n",
      "0.9994661968151223\n",
      "(220, 8) (220, 1)\n",
      "17\n"
     ]
    },
    {
     "name": "stderr",
     "output_type": "stream",
     "text": [
      "../sim/GELoadBalancer.py:90: DataConversionWarning: A column-vector y was passed when a 1d array was expected. Please change the shape of y to (n_samples,), for example using ravel().\n",
      "  #print(self.X.shape,self.y.shape)\n"
     ]
    },
    {
     "name": "stdout",
     "output_type": "stream",
     "text": [
      "17993 0.0 17 15443.0\n",
      "0.9993784118109386\n",
      "(221, 8) (221, 1)\n",
      "Max reward for 13668.7 16\n",
      "16\n"
     ]
    },
    {
     "name": "stderr",
     "output_type": "stream",
     "text": [
      "../sim/GELoadBalancer.py:90: DataConversionWarning: A column-vector y was passed when a 1d array was expected. Please change the shape of y to (n_samples,), for example using ravel().\n",
      "  #print(self.X.shape,self.y.shape)\n"
     ]
    },
    {
     "name": "stdout",
     "output_type": "stream",
     "text": [
      "18095 15 16 15545.0\n",
      "0.9989837007589679\n",
      "(222, 8) (222, 1)\n",
      "23\n"
     ]
    },
    {
     "name": "stderr",
     "output_type": "stream",
     "text": [
      "../sim/GELoadBalancer.py:90: DataConversionWarning: A column-vector y was passed when a 1d array was expected. Please change the shape of y to (n_samples,), for example using ravel().\n",
      "  #print(self.X.shape,self.y.shape)\n"
     ]
    },
    {
     "name": "stdout",
     "output_type": "stream",
     "text": [
      "17885 0.0 23 14435.0\n",
      "0.9984085163440093\n",
      "(223, 8) (223, 1)\n",
      "25\n"
     ]
    },
    {
     "name": "stderr",
     "output_type": "stream",
     "text": [
      "../sim/GELoadBalancer.py:90: DataConversionWarning: A column-vector y was passed when a 1d array was expected. Please change the shape of y to (n_samples,), for example using ravel().\n",
      "  #print(self.X.shape,self.y.shape)\n"
     ]
    },
    {
     "name": "stdout",
     "output_type": "stream",
     "text": [
      "17938 0.0 25 14188.0\n",
      "0.9990700740029158\n",
      "(224, 8) (224, 1)\n",
      "Max reward for 13740.0 17\n",
      "17\n"
     ]
    },
    {
     "name": "stderr",
     "output_type": "stream",
     "text": [
      "../sim/GELoadBalancer.py:90: DataConversionWarning: A column-vector y was passed when a 1d array was expected. Please change the shape of y to (n_samples,), for example using ravel().\n",
      "  #print(self.X.shape,self.y.shape)\n"
     ]
    },
    {
     "name": "stdout",
     "output_type": "stream",
     "text": [
      "17984 0.0 17 15434.0\n",
      "0.9993313046496686\n",
      "(225, 8) (225, 1)\n",
      "13\n"
     ]
    },
    {
     "name": "stderr",
     "output_type": "stream",
     "text": [
      "../sim/GELoadBalancer.py:90: DataConversionWarning: A column-vector y was passed when a 1d array was expected. Please change the shape of y to (n_samples,), for example using ravel().\n",
      "  #print(self.X.shape,self.y.shape)\n"
     ]
    },
    {
     "name": "stdout",
     "output_type": "stream",
     "text": [
      "17937 541 13 10577.0\n",
      "0.9994389675460982\n",
      "(226, 8) (226, 1)\n",
      "Max reward for 13694.7 17\n",
      "17\n"
     ]
    },
    {
     "name": "stderr",
     "output_type": "stream",
     "text": [
      "../sim/GELoadBalancer.py:90: DataConversionWarning: A column-vector y was passed when a 1d array was expected. Please change the shape of y to (n_samples,), for example using ravel().\n",
      "  #print(self.X.shape,self.y.shape)\n"
     ]
    },
    {
     "name": "stdout",
     "output_type": "stream",
     "text": [
      "18063 8 17 15433.0\n",
      "0.9995841678997709\n",
      "(227, 8) (227, 1)\n",
      "Max reward for 13682.0 16\n",
      "16\n"
     ]
    },
    {
     "name": "stderr",
     "output_type": "stream",
     "text": [
      "../sim/GELoadBalancer.py:90: DataConversionWarning: A column-vector y was passed when a 1d array was expected. Please change the shape of y to (n_samples,), for example using ravel().\n",
      "  #print(self.X.shape,self.y.shape)\n"
     ]
    },
    {
     "name": "stdout",
     "output_type": "stream",
     "text": [
      "17854 10 16 15354.0\n",
      "0.9992249978261049\n",
      "(228, 8) (228, 1)\n",
      "Max reward for 13761.5 16\n",
      "16\n"
     ]
    },
    {
     "name": "stderr",
     "output_type": "stream",
     "text": [
      "../sim/GELoadBalancer.py:90: DataConversionWarning: A column-vector y was passed when a 1d array was expected. Please change the shape of y to (n_samples,), for example using ravel().\n",
      "  #print(self.X.shape,self.y.shape)\n"
     ]
    },
    {
     "name": "stdout",
     "output_type": "stream",
     "text": [
      "17875 11 16 15365.0\n",
      "0.9995057203589248\n",
      "(229, 8) (229, 1)\n",
      "18\n"
     ]
    },
    {
     "name": "stderr",
     "output_type": "stream",
     "text": [
      "../sim/GELoadBalancer.py:90: DataConversionWarning: A column-vector y was passed when a 1d array was expected. Please change the shape of y to (n_samples,), for example using ravel().\n",
      "  #print(self.X.shape,self.y.shape)\n"
     ]
    },
    {
     "name": "stdout",
     "output_type": "stream",
     "text": [
      "18076 0.0 18 15376.0\n",
      "0.9994792835304367\n",
      "(230, 8) (230, 1)\n",
      "Max reward for 13660.7 17\n",
      "17\n"
     ]
    },
    {
     "name": "stderr",
     "output_type": "stream",
     "text": [
      "../sim/GELoadBalancer.py:90: DataConversionWarning: A column-vector y was passed when a 1d array was expected. Please change the shape of y to (n_samples,), for example using ravel().\n",
      "  #print(self.X.shape,self.y.shape)\n"
     ]
    },
    {
     "name": "stdout",
     "output_type": "stream",
     "text": [
      "18038 0.0 17 15488.0\n",
      "0.9994330438380449\n",
      "(231, 8) (231, 1)\n",
      "Max reward for 13670.8 16\n",
      "16\n"
     ]
    },
    {
     "name": "stderr",
     "output_type": "stream",
     "text": [
      "../sim/GELoadBalancer.py:90: DataConversionWarning: A column-vector y was passed when a 1d array was expected. Please change the shape of y to (n_samples,), for example using ravel().\n",
      "  #print(self.X.shape,self.y.shape)\n"
     ]
    },
    {
     "name": "stdout",
     "output_type": "stream",
     "text": [
      "17962 7 16 15492.0\n",
      "0.9989340539290341\n",
      "(232, 8) (232, 1)\n",
      "Max reward for 13740.4 17\n",
      "17\n"
     ]
    },
    {
     "name": "stderr",
     "output_type": "stream",
     "text": [
      "../sim/GELoadBalancer.py:90: DataConversionWarning: A column-vector y was passed when a 1d array was expected. Please change the shape of y to (n_samples,), for example using ravel().\n",
      "  #print(self.X.shape,self.y.shape)\n"
     ]
    },
    {
     "name": "stdout",
     "output_type": "stream",
     "text": [
      "18039 0.0 17 15489.0\n",
      "0.9995418268872946\n",
      "(233, 8) (233, 1)\n",
      "30\n"
     ]
    },
    {
     "name": "stderr",
     "output_type": "stream",
     "text": [
      "../sim/GELoadBalancer.py:90: DataConversionWarning: A column-vector y was passed when a 1d array was expected. Please change the shape of y to (n_samples,), for example using ravel().\n",
      "  #print(self.X.shape,self.y.shape)\n"
     ]
    },
    {
     "name": "stdout",
     "output_type": "stream",
     "text": [
      "17882 0.0 30 13382.0\n",
      "0.9995606582209915\n",
      "(234, 8) (234, 1)\n",
      "Max reward for 13693.7 16\n",
      "16\n"
     ]
    },
    {
     "name": "stderr",
     "output_type": "stream",
     "text": [
      "../sim/GELoadBalancer.py:90: DataConversionWarning: A column-vector y was passed when a 1d array was expected. Please change the shape of y to (n_samples,), for example using ravel().\n",
      "  #print(self.X.shape,self.y.shape)\n"
     ]
    },
    {
     "name": "stdout",
     "output_type": "stream",
     "text": [
      "17914 6 16 15454.0\n",
      "0.9990390721140184\n",
      "(235, 8) (235, 1)\n",
      "Max reward for 13752.4 17\n",
      "17\n"
     ]
    },
    {
     "name": "stderr",
     "output_type": "stream",
     "text": [
      "../sim/GELoadBalancer.py:90: DataConversionWarning: A column-vector y was passed when a 1d array was expected. Please change the shape of y to (n_samples,), for example using ravel().\n",
      "  #print(self.X.shape,self.y.shape)\n"
     ]
    },
    {
     "name": "stdout",
     "output_type": "stream",
     "text": [
      "17859 0.0 17 15309.0\n",
      "0.9995705484874721\n",
      "(236, 8) (236, 1)\n",
      "Max reward for 13722.4 16\n",
      "16\n"
     ]
    },
    {
     "name": "stderr",
     "output_type": "stream",
     "text": [
      "../sim/GELoadBalancer.py:90: DataConversionWarning: A column-vector y was passed when a 1d array was expected. Please change the shape of y to (n_samples,), for example using ravel().\n",
      "  #print(self.X.shape,self.y.shape)\n"
     ]
    },
    {
     "name": "stdout",
     "output_type": "stream",
     "text": [
      "18060 16 16 15500.0\n",
      "0.9990177572858299\n",
      "(237, 8) (237, 1)\n",
      "Max reward for 13674.0 17\n",
      "17\n"
     ]
    },
    {
     "name": "stderr",
     "output_type": "stream",
     "text": [
      "../sim/GELoadBalancer.py:90: DataConversionWarning: A column-vector y was passed when a 1d array was expected. Please change the shape of y to (n_samples,), for example using ravel().\n",
      "  #print(self.X.shape,self.y.shape)\n"
     ]
    },
    {
     "name": "stdout",
     "output_type": "stream",
     "text": [
      "18000 0.0 17 15450.0\n",
      "0.9994647150890535\n",
      "(238, 8) (238, 1)\n",
      "Max reward for 13622.5 16\n",
      "16\n"
     ]
    },
    {
     "name": "stderr",
     "output_type": "stream",
     "text": [
      "../sim/GELoadBalancer.py:90: DataConversionWarning: A column-vector y was passed when a 1d array was expected. Please change the shape of y to (n_samples,), for example using ravel().\n",
      "  #print(self.X.shape,self.y.shape)\n"
     ]
    },
    {
     "name": "stdout",
     "output_type": "stream",
     "text": [
      "17895 3 16 15465.0\n",
      "0.9994857493112081\n",
      "(239, 8) (239, 1)\n",
      "Max reward for 13755.4 16\n",
      "16\n"
     ]
    },
    {
     "name": "stderr",
     "output_type": "stream",
     "text": [
      "../sim/GELoadBalancer.py:90: DataConversionWarning: A column-vector y was passed when a 1d array was expected. Please change the shape of y to (n_samples,), for example using ravel().\n",
      "  #print(self.X.shape,self.y.shape)\n"
     ]
    },
    {
     "name": "stdout",
     "output_type": "stream",
     "text": [
      "18043 14 16 15503.0\n",
      "0.9992466575026521\n",
      "(240, 8) (240, 1)\n",
      "24\n"
     ]
    },
    {
     "name": "stderr",
     "output_type": "stream",
     "text": [
      "../sim/GELoadBalancer.py:90: DataConversionWarning: A column-vector y was passed when a 1d array was expected. Please change the shape of y to (n_samples,), for example using ravel().\n",
      "  #print(self.X.shape,self.y.shape)\n"
     ]
    },
    {
     "name": "stdout",
     "output_type": "stream",
     "text": [
      "17853 0.0 24 14253.0\n",
      "0.9991665417204201\n",
      "(241, 8) (241, 1)\n",
      "Max reward for 13741.8 16\n",
      "16\n"
     ]
    },
    {
     "name": "stderr",
     "output_type": "stream",
     "text": [
      "../sim/GELoadBalancer.py:90: DataConversionWarning: A column-vector y was passed when a 1d array was expected. Please change the shape of y to (n_samples,), for example using ravel().\n",
      "  #print(self.X.shape,self.y.shape)\n"
     ]
    },
    {
     "name": "stdout",
     "output_type": "stream",
     "text": [
      "18108 13 16 15578.0\n",
      "0.9993285208180887\n",
      "(242, 8) (242, 1)\n",
      "21\n"
     ]
    },
    {
     "name": "stderr",
     "output_type": "stream",
     "text": [
      "../sim/GELoadBalancer.py:90: DataConversionWarning: A column-vector y was passed when a 1d array was expected. Please change the shape of y to (n_samples,), for example using ravel().\n",
      "  #print(self.X.shape,self.y.shape)\n"
     ]
    },
    {
     "name": "stdout",
     "output_type": "stream",
     "text": [
      "17986 0.0 21 14836.0\n",
      "0.9994564302487443\n",
      "(243, 8) (243, 1)\n",
      "20\n"
     ]
    },
    {
     "name": "stderr",
     "output_type": "stream",
     "text": [
      "../sim/GELoadBalancer.py:90: DataConversionWarning: A column-vector y was passed when a 1d array was expected. Please change the shape of y to (n_samples,), for example using ravel().\n",
      "  #print(self.X.shape,self.y.shape)\n"
     ]
    },
    {
     "name": "stdout",
     "output_type": "stream",
     "text": [
      "18044 0.0 20 15044.0\n",
      "0.9993581813182681\n",
      "(244, 8) (244, 1)\n",
      "Max reward for 13638.4 16\n",
      "16\n"
     ]
    },
    {
     "name": "stderr",
     "output_type": "stream",
     "text": [
      "../sim/GELoadBalancer.py:90: DataConversionWarning: A column-vector y was passed when a 1d array was expected. Please change the shape of y to (n_samples,), for example using ravel().\n",
      "  #print(self.X.shape,self.y.shape)\n"
     ]
    },
    {
     "name": "stdout",
     "output_type": "stream",
     "text": [
      "17912 14 16 15372.0\n",
      "0.9990087470281751\n",
      "(245, 8) (245, 1)\n",
      "Max reward for 13704.7 16\n",
      "16\n"
     ]
    },
    {
     "name": "stderr",
     "output_type": "stream",
     "text": [
      "../sim/GELoadBalancer.py:90: DataConversionWarning: A column-vector y was passed when a 1d array was expected. Please change the shape of y to (n_samples,), for example using ravel().\n",
      "  #print(self.X.shape,self.y.shape)\n"
     ]
    },
    {
     "name": "stdout",
     "output_type": "stream",
     "text": [
      "18128 9 16 15638.0\n",
      "0.9995382841505772\n",
      "(246, 8) (246, 1)\n",
      "Max reward for 13694.6 16\n",
      "16\n"
     ]
    },
    {
     "name": "stderr",
     "output_type": "stream",
     "text": [
      "../sim/GELoadBalancer.py:90: DataConversionWarning: A column-vector y was passed when a 1d array was expected. Please change the shape of y to (n_samples,), for example using ravel().\n",
      "  #print(self.X.shape,self.y.shape)\n"
     ]
    },
    {
     "name": "stdout",
     "output_type": "stream",
     "text": [
      "17985 14 16 15445.0\n",
      "0.9989300114997441\n",
      "(247, 8) (247, 1)\n",
      "20\n"
     ]
    },
    {
     "name": "stderr",
     "output_type": "stream",
     "text": [
      "../sim/GELoadBalancer.py:90: DataConversionWarning: A column-vector y was passed when a 1d array was expected. Please change the shape of y to (n_samples,), for example using ravel().\n",
      "  #print(self.X.shape,self.y.shape)\n"
     ]
    },
    {
     "name": "stdout",
     "output_type": "stream",
     "text": [
      "17902 0.0 20 14902.0\n",
      "0.9991321531197465\n",
      "(248, 8) (248, 1)\n",
      "Max reward for 13646.8 16\n",
      "16\n"
     ]
    },
    {
     "name": "stderr",
     "output_type": "stream",
     "text": [
      "../sim/GELoadBalancer.py:90: DataConversionWarning: A column-vector y was passed when a 1d array was expected. Please change the shape of y to (n_samples,), for example using ravel().\n",
      "  #print(self.X.shape,self.y.shape)\n"
     ]
    },
    {
     "name": "stdout",
     "output_type": "stream",
     "text": [
      "18121 20 16 15521.0\n",
      "0.999593845237804\n",
      "(249, 8) (249, 1)\n",
      "Max reward for 13616.7 17\n",
      "17\n"
     ]
    },
    {
     "name": "stderr",
     "output_type": "stream",
     "text": [
      "../sim/GELoadBalancer.py:90: DataConversionWarning: A column-vector y was passed when a 1d array was expected. Please change the shape of y to (n_samples,), for example using ravel().\n",
      "  #print(self.X.shape,self.y.shape)\n"
     ]
    },
    {
     "name": "stdout",
     "output_type": "stream",
     "text": [
      "18099 0.0 17 15549.0\n",
      "0.999578336537962\n",
      "(250, 8) (250, 1)\n",
      "24\n"
     ]
    },
    {
     "name": "stderr",
     "output_type": "stream",
     "text": [
      "../sim/GELoadBalancer.py:90: DataConversionWarning: A column-vector y was passed when a 1d array was expected. Please change the shape of y to (n_samples,), for example using ravel().\n",
      "  #print(self.X.shape,self.y.shape)\n"
     ]
    },
    {
     "name": "stdout",
     "output_type": "stream",
     "text": [
      "17981 0.0 24 14381.0\n",
      "0.999604762190713\n",
      "(251, 8) (251, 1)\n",
      "Max reward for 13666.5 16\n",
      "16\n"
     ]
    },
    {
     "name": "stderr",
     "output_type": "stream",
     "text": [
      "../sim/GELoadBalancer.py:90: DataConversionWarning: A column-vector y was passed when a 1d array was expected. Please change the shape of y to (n_samples,), for example using ravel().\n",
      "  #print(self.X.shape,self.y.shape)\n"
     ]
    },
    {
     "name": "stdout",
     "output_type": "stream",
     "text": [
      "17928 8 16 15448.0\n",
      "0.9990428389520939\n",
      "(252, 8) (252, 1)\n",
      "29\n"
     ]
    },
    {
     "name": "stderr",
     "output_type": "stream",
     "text": [
      "../sim/GELoadBalancer.py:90: DataConversionWarning: A column-vector y was passed when a 1d array was expected. Please change the shape of y to (n_samples,), for example using ravel().\n",
      "  #print(self.X.shape,self.y.shape)\n"
     ]
    },
    {
     "name": "stdout",
     "output_type": "stream",
     "text": [
      "18088 0.0 29 13738.0\n",
      "0.9994002935052513\n",
      "(253, 8) (253, 1)\n",
      "16\n"
     ]
    },
    {
     "name": "stderr",
     "output_type": "stream",
     "text": [
      "../sim/GELoadBalancer.py:90: DataConversionWarning: A column-vector y was passed when a 1d array was expected. Please change the shape of y to (n_samples,), for example using ravel().\n",
      "  #print(self.X.shape,self.y.shape)\n"
     ]
    },
    {
     "name": "stdout",
     "output_type": "stream",
     "text": [
      "18166 8 16 15686.0\n",
      "0.9991712369017113\n",
      "(254, 8) (254, 1)\n",
      "17\n"
     ]
    },
    {
     "name": "stderr",
     "output_type": "stream",
     "text": [
      "../sim/GELoadBalancer.py:90: DataConversionWarning: A column-vector y was passed when a 1d array was expected. Please change the shape of y to (n_samples,), for example using ravel().\n",
      "  #print(self.X.shape,self.y.shape)\n"
     ]
    },
    {
     "name": "stdout",
     "output_type": "stream",
     "text": [
      "18086 0.0 17 15536.0\n",
      "0.9994185828548234\n",
      "(255, 8) (255, 1)\n",
      "Max reward for 13670.2 16\n",
      "16\n"
     ]
    },
    {
     "name": "stderr",
     "output_type": "stream",
     "text": [
      "../sim/GELoadBalancer.py:90: DataConversionWarning: A column-vector y was passed when a 1d array was expected. Please change the shape of y to (n_samples,), for example using ravel().\n",
      "  #print(self.X.shape,self.y.shape)\n"
     ]
    },
    {
     "name": "stdout",
     "output_type": "stream",
     "text": [
      "17936 12 16 15416.0\n",
      "0.9996001438004792\n",
      "(256, 8) (256, 1)\n",
      "Max reward for 13758.4 16\n",
      "16\n"
     ]
    },
    {
     "name": "stderr",
     "output_type": "stream",
     "text": [
      "../sim/GELoadBalancer.py:90: DataConversionWarning: A column-vector y was passed when a 1d array was expected. Please change the shape of y to (n_samples,), for example using ravel().\n",
      "  #print(self.X.shape,self.y.shape)\n"
     ]
    },
    {
     "name": "stdout",
     "output_type": "stream",
     "text": [
      "17988 7 16 15518.0\n",
      "0.9992939106844121\n",
      "(257, 8) (257, 1)\n",
      "29\n"
     ]
    },
    {
     "name": "stderr",
     "output_type": "stream",
     "text": [
      "../sim/GELoadBalancer.py:90: DataConversionWarning: A column-vector y was passed when a 1d array was expected. Please change the shape of y to (n_samples,), for example using ravel().\n",
      "  #print(self.X.shape,self.y.shape)\n"
     ]
    },
    {
     "name": "stdout",
     "output_type": "stream",
     "text": [
      "18096 0.0 29 13746.0\n",
      "0.9993744159341995\n",
      "(258, 8) (258, 1)\n",
      "Max reward for 13655.1 16\n",
      "16\n"
     ]
    },
    {
     "name": "stderr",
     "output_type": "stream",
     "text": [
      "../sim/GELoadBalancer.py:90: DataConversionWarning: A column-vector y was passed when a 1d array was expected. Please change the shape of y to (n_samples,), for example using ravel().\n",
      "  #print(self.X.shape,self.y.shape)\n"
     ]
    },
    {
     "name": "stdout",
     "output_type": "stream",
     "text": [
      "17967 8 16 15487.0\n",
      "0.9989112509609933\n",
      "(259, 8) (259, 1)\n",
      "16\n"
     ]
    },
    {
     "name": "stderr",
     "output_type": "stream",
     "text": [
      "../sim/GELoadBalancer.py:90: DataConversionWarning: A column-vector y was passed when a 1d array was expected. Please change the shape of y to (n_samples,), for example using ravel().\n",
      "  #print(self.X.shape,self.y.shape)\n"
     ]
    },
    {
     "name": "stdout",
     "output_type": "stream",
     "text": [
      "18063 14 16 15523.0\n",
      "0.9991854046604844\n",
      "(260, 8) (260, 1)\n",
      "Max reward for 13714.9 17\n",
      "17\n"
     ]
    },
    {
     "name": "stderr",
     "output_type": "stream",
     "text": [
      "../sim/GELoadBalancer.py:90: DataConversionWarning: A column-vector y was passed when a 1d array was expected. Please change the shape of y to (n_samples,), for example using ravel().\n",
      "  #print(self.X.shape,self.y.shape)\n"
     ]
    },
    {
     "name": "stdout",
     "output_type": "stream",
     "text": [
      "18033 0.0 17 15483.0\n",
      "0.999372958219712\n",
      "(261, 8) (261, 1)\n",
      "Max reward for 13641.8 16\n",
      "16\n"
     ]
    },
    {
     "name": "stderr",
     "output_type": "stream",
     "text": [
      "../sim/GELoadBalancer.py:90: DataConversionWarning: A column-vector y was passed when a 1d array was expected. Please change the shape of y to (n_samples,), for example using ravel().\n",
      "  #print(self.X.shape,self.y.shape)\n"
     ]
    },
    {
     "name": "stdout",
     "output_type": "stream",
     "text": [
      "18258 14 16 15718.0\n",
      "0.9995205916420853\n",
      "(262, 8) (262, 1)\n",
      "Max reward for 13694.7 17\n",
      "17\n"
     ]
    },
    {
     "name": "stderr",
     "output_type": "stream",
     "text": [
      "../sim/GELoadBalancer.py:90: DataConversionWarning: A column-vector y was passed when a 1d array was expected. Please change the shape of y to (n_samples,), for example using ravel().\n",
      "  #print(self.X.shape,self.y.shape)\n"
     ]
    },
    {
     "name": "stdout",
     "output_type": "stream",
     "text": [
      "17995 0.0 17 15445.0\n",
      "0.9994168984562973\n",
      "(263, 8) (263, 1)\n",
      "13\n"
     ]
    },
    {
     "name": "stderr",
     "output_type": "stream",
     "text": [
      "../sim/GELoadBalancer.py:90: DataConversionWarning: A column-vector y was passed when a 1d array was expected. Please change the shape of y to (n_samples,), for example using ravel().\n",
      "  #print(self.X.shape,self.y.shape)\n"
     ]
    },
    {
     "name": "stdout",
     "output_type": "stream",
     "text": [
      "17847 516 13 10737.0\n",
      "0.9993620108725517\n",
      "(264, 8) (264, 1)\n",
      "Max reward for 13745.6 16\n",
      "16\n"
     ]
    },
    {
     "name": "stderr",
     "output_type": "stream",
     "text": [
      "../sim/GELoadBalancer.py:90: DataConversionWarning: A column-vector y was passed when a 1d array was expected. Please change the shape of y to (n_samples,), for example using ravel().\n",
      "  #print(self.X.shape,self.y.shape)\n"
     ]
    },
    {
     "name": "stdout",
     "output_type": "stream",
     "text": [
      "18097 9 16 15607.0\n",
      "0.9993246207906454\n",
      "(265, 8) (265, 1)\n",
      "Max reward for 13677.5 17\n",
      "17\n"
     ]
    },
    {
     "name": "stderr",
     "output_type": "stream",
     "text": [
      "../sim/GELoadBalancer.py:90: DataConversionWarning: A column-vector y was passed when a 1d array was expected. Please change the shape of y to (n_samples,), for example using ravel().\n",
      "  #print(self.X.shape,self.y.shape)\n"
     ]
    },
    {
     "name": "stdout",
     "output_type": "stream",
     "text": [
      "17863 2 17 15293.0\n",
      "0.9991489321075829\n",
      "(266, 8) (266, 1)\n",
      "Max reward for 13767.7 16\n",
      "16\n"
     ]
    },
    {
     "name": "stderr",
     "output_type": "stream",
     "text": [
      "../sim/GELoadBalancer.py:90: DataConversionWarning: A column-vector y was passed when a 1d array was expected. Please change the shape of y to (n_samples,), for example using ravel().\n",
      "  #print(self.X.shape,self.y.shape)\n"
     ]
    },
    {
     "name": "stdout",
     "output_type": "stream",
     "text": [
      "17978 5 16 15528.0\n",
      "0.9994193297776162\n",
      "(267, 8) (267, 1)\n",
      "10\n"
     ]
    },
    {
     "name": "stderr",
     "output_type": "stream",
     "text": [
      "../sim/GELoadBalancer.py:90: DataConversionWarning: A column-vector y was passed when a 1d array was expected. Please change the shape of y to (n_samples,), for example using ravel().\n",
      "  #print(self.X.shape,self.y.shape)\n"
     ]
    },
    {
     "name": "stdout",
     "output_type": "stream",
     "text": [
      "17870 1071 10 5660.0\n",
      "0.9993072895068618\n",
      "(268, 8) (268, 1)\n",
      "29\n"
     ]
    },
    {
     "name": "stderr",
     "output_type": "stream",
     "text": [
      "../sim/GELoadBalancer.py:90: DataConversionWarning: A column-vector y was passed when a 1d array was expected. Please change the shape of y to (n_samples,), for example using ravel().\n",
      "  #print(self.X.shape,self.y.shape)\n"
     ]
    },
    {
     "name": "stdout",
     "output_type": "stream",
     "text": [
      "18142 10 29 13692.0\n",
      "0.9992011361198733\n",
      "(269, 8) (269, 1)\n",
      "Max reward for 13673.1 16\n",
      "16\n"
     ]
    },
    {
     "name": "stderr",
     "output_type": "stream",
     "text": [
      "../sim/GELoadBalancer.py:90: DataConversionWarning: A column-vector y was passed when a 1d array was expected. Please change the shape of y to (n_samples,), for example using ravel().\n",
      "  #print(self.X.shape,self.y.shape)\n"
     ]
    },
    {
     "name": "stdout",
     "output_type": "stream",
     "text": [
      "17916 6 16 15456.0\n",
      "0.9995476088222172\n",
      "(270, 8) (270, 1)\n",
      "Max reward for 13752.5 16\n",
      "16\n"
     ]
    },
    {
     "name": "stderr",
     "output_type": "stream",
     "text": [
      "../sim/GELoadBalancer.py:90: DataConversionWarning: A column-vector y was passed when a 1d array was expected. Please change the shape of y to (n_samples,), for example using ravel().\n",
      "  #print(self.X.shape,self.y.shape)\n"
     ]
    },
    {
     "name": "stdout",
     "output_type": "stream",
     "text": [
      "17970 10 16 15470.0\n",
      "0.9989012190906716\n",
      "(271, 8) (271, 1)\n",
      "20\n"
     ]
    },
    {
     "name": "stderr",
     "output_type": "stream",
     "text": [
      "../sim/GELoadBalancer.py:90: DataConversionWarning: A column-vector y was passed when a 1d array was expected. Please change the shape of y to (n_samples,), for example using ravel().\n",
      "  #print(self.X.shape,self.y.shape)\n"
     ]
    },
    {
     "name": "stdout",
     "output_type": "stream",
     "text": [
      "17950 0.0 20 14950.0\n",
      "0.9991811573366776\n",
      "(272, 8) (272, 1)\n",
      "27\n"
     ]
    },
    {
     "name": "stderr",
     "output_type": "stream",
     "text": [
      "../sim/GELoadBalancer.py:90: DataConversionWarning: A column-vector y was passed when a 1d array was expected. Please change the shape of y to (n_samples,), for example using ravel().\n",
      "  #print(self.X.shape,self.y.shape)\n"
     ]
    },
    {
     "name": "stdout",
     "output_type": "stream",
     "text": [
      "17996 0.0 27 13946.0\n",
      "0.9987651854806597\n",
      "(273, 8) (273, 1)\n",
      "Max reward for 13674.4 16\n",
      "16\n"
     ]
    },
    {
     "name": "stderr",
     "output_type": "stream",
     "text": [
      "../sim/GELoadBalancer.py:90: DataConversionWarning: A column-vector y was passed when a 1d array was expected. Please change the shape of y to (n_samples,), for example using ravel().\n",
      "  #print(self.X.shape,self.y.shape)\n"
     ]
    },
    {
     "name": "stdout",
     "output_type": "stream",
     "text": [
      "17837 13 16 15307.0\n",
      "0.9993232140699971\n",
      "(274, 8) (274, 1)\n",
      "Max reward for 13722.8 16\n",
      "16\n"
     ]
    },
    {
     "name": "stderr",
     "output_type": "stream",
     "text": [
      "../sim/GELoadBalancer.py:90: DataConversionWarning: A column-vector y was passed when a 1d array was expected. Please change the shape of y to (n_samples,), for example using ravel().\n",
      "  #print(self.X.shape,self.y.shape)\n"
     ]
    },
    {
     "name": "stdout",
     "output_type": "stream",
     "text": [
      "18000 5 16 15550.0\n",
      "0.9994625101885676\n",
      "(275, 8) (275, 1)\n",
      "Max reward for 13664.4 16\n",
      "16\n"
     ]
    },
    {
     "name": "stderr",
     "output_type": "stream",
     "text": [
      "../sim/GELoadBalancer.py:90: DataConversionWarning: A column-vector y was passed when a 1d array was expected. Please change the shape of y to (n_samples,), for example using ravel().\n",
      "  #print(self.X.shape,self.y.shape)\n"
     ]
    },
    {
     "name": "stdout",
     "output_type": "stream",
     "text": [
      "18074 10 16 15574.0\n",
      "0.9992157364088141\n",
      "(276, 8) (276, 1)\n",
      "Max reward for 13710.9 17\n",
      "17\n"
     ]
    },
    {
     "name": "stderr",
     "output_type": "stream",
     "text": [
      "../sim/GELoadBalancer.py:90: DataConversionWarning: A column-vector y was passed when a 1d array was expected. Please change the shape of y to (n_samples,), for example using ravel().\n",
      "  #print(self.X.shape,self.y.shape)\n"
     ]
    },
    {
     "name": "stdout",
     "output_type": "stream",
     "text": [
      "18019 0.0 17 15469.0\n",
      "0.9993406459672398\n",
      "(277, 8) (277, 1)\n",
      "10\n"
     ]
    },
    {
     "name": "stderr",
     "output_type": "stream",
     "text": [
      "../sim/GELoadBalancer.py:90: DataConversionWarning: A column-vector y was passed when a 1d array was expected. Please change the shape of y to (n_samples,), for example using ravel().\n",
      "  #print(self.X.shape,self.y.shape)\n"
     ]
    },
    {
     "name": "stdout",
     "output_type": "stream",
     "text": [
      "17843 1074 10 5603.0\n",
      "0.9993424061852214\n",
      "(278, 8) (278, 1)\n",
      "19\n"
     ]
    },
    {
     "name": "stderr",
     "output_type": "stream",
     "text": [
      "../sim/GELoadBalancer.py:90: DataConversionWarning: A column-vector y was passed when a 1d array was expected. Please change the shape of y to (n_samples,), for example using ravel().\n",
      "  #print(self.X.shape,self.y.shape)\n"
     ]
    },
    {
     "name": "stdout",
     "output_type": "stream",
     "text": [
      "18111 13 19 15131.0\n",
      "0.999301080705596\n",
      "(279, 8) (279, 1)\n",
      "28\n"
     ]
    },
    {
     "name": "stderr",
     "output_type": "stream",
     "text": [
      "../sim/GELoadBalancer.py:90: DataConversionWarning: A column-vector y was passed when a 1d array was expected. Please change the shape of y to (n_samples,), for example using ravel().\n",
      "  #print(self.X.shape,self.y.shape)\n"
     ]
    },
    {
     "name": "stdout",
     "output_type": "stream",
     "text": [
      "17931 0.0 28 13731.0\n",
      "0.9995933790747773\n",
      "(280, 8) (280, 1)\n",
      "Max reward for 13712.5 17\n",
      "17\n"
     ]
    },
    {
     "name": "stderr",
     "output_type": "stream",
     "text": [
      "../sim/GELoadBalancer.py:90: DataConversionWarning: A column-vector y was passed when a 1d array was expected. Please change the shape of y to (n_samples,), for example using ravel().\n",
      "  #print(self.X.shape,self.y.shape)\n"
     ]
    },
    {
     "name": "stdout",
     "output_type": "stream",
     "text": [
      "17905 0.0 17 15355.0\n",
      "0.9993956489082488\n",
      "(281, 8) (281, 1)\n",
      "Max reward for 13664.8 16\n",
      "16\n"
     ]
    },
    {
     "name": "stderr",
     "output_type": "stream",
     "text": [
      "../sim/GELoadBalancer.py:90: DataConversionWarning: A column-vector y was passed when a 1d array was expected. Please change the shape of y to (n_samples,), for example using ravel().\n",
      "  #print(self.X.shape,self.y.shape)\n"
     ]
    },
    {
     "name": "stdout",
     "output_type": "stream",
     "text": [
      "18017 7 16 15547.0\n",
      "0.9994594602145859\n",
      "(282, 8) (282, 1)\n",
      "17\n"
     ]
    },
    {
     "name": "stderr",
     "output_type": "stream",
     "text": [
      "../sim/GELoadBalancer.py:90: DataConversionWarning: A column-vector y was passed when a 1d array was expected. Please change the shape of y to (n_samples,), for example using ravel().\n",
      "  #print(self.X.shape,self.y.shape)\n"
     ]
    },
    {
     "name": "stdout",
     "output_type": "stream",
     "text": [
      "17983 4 17 15393.0\n",
      "0.9993476178818116\n",
      "(283, 8) (283, 1)\n",
      "Max reward for 13649.4 16\n",
      "16\n"
     ]
    },
    {
     "name": "stderr",
     "output_type": "stream",
     "text": [
      "../sim/GELoadBalancer.py:90: DataConversionWarning: A column-vector y was passed when a 1d array was expected. Please change the shape of y to (n_samples,), for example using ravel().\n",
      "  #print(self.X.shape,self.y.shape)\n"
     ]
    },
    {
     "name": "stdout",
     "output_type": "stream",
     "text": [
      "17977 13 16 15447.0\n",
      "0.9994767233688912\n",
      "(284, 8) (284, 1)\n",
      "11\n"
     ]
    },
    {
     "name": "stderr",
     "output_type": "stream",
     "text": [
      "../sim/GELoadBalancer.py:90: DataConversionWarning: A column-vector y was passed when a 1d array was expected. Please change the shape of y to (n_samples,), for example using ravel().\n",
      "  #print(self.X.shape,self.y.shape)\n"
     ]
    },
    {
     "name": "stdout",
     "output_type": "stream",
     "text": [
      "18000 909 11 7260.0\n",
      "0.9994165713263685\n",
      "(285, 8) (285, 1)\n",
      "27\n"
     ]
    },
    {
     "name": "stderr",
     "output_type": "stream",
     "text": [
      "../sim/GELoadBalancer.py:90: DataConversionWarning: A column-vector y was passed when a 1d array was expected. Please change the shape of y to (n_samples,), for example using ravel().\n",
      "  #print(self.X.shape,self.y.shape)\n"
     ]
    },
    {
     "name": "stdout",
     "output_type": "stream",
     "text": [
      "17995 4 27 13905.0\n",
      "0.9993768215766513\n",
      "(286, 8) (286, 1)\n",
      "Max reward for 13702.9 16\n",
      "16\n"
     ]
    },
    {
     "name": "stderr",
     "output_type": "stream",
     "text": [
      "../sim/GELoadBalancer.py:90: DataConversionWarning: A column-vector y was passed when a 1d array was expected. Please change the shape of y to (n_samples,), for example using ravel().\n",
      "  #print(self.X.shape,self.y.shape)\n"
     ]
    },
    {
     "name": "stdout",
     "output_type": "stream",
     "text": [
      "17926 7 16 15456.0\n",
      "0.9993335715335794\n",
      "(287, 8) (287, 1)\n",
      "Max reward for 13719.9 16\n",
      "16\n"
     ]
    },
    {
     "name": "stderr",
     "output_type": "stream",
     "text": [
      "../sim/GELoadBalancer.py:90: DataConversionWarning: A column-vector y was passed when a 1d array was expected. Please change the shape of y to (n_samples,), for example using ravel().\n",
      "  #print(self.X.shape,self.y.shape)\n"
     ]
    },
    {
     "name": "stdout",
     "output_type": "stream",
     "text": [
      "18074 11 16 15564.0\n",
      "0.9996329087171338\n",
      "(288, 8) (288, 1)\n",
      "30\n"
     ]
    },
    {
     "name": "stderr",
     "output_type": "stream",
     "text": [
      "../sim/GELoadBalancer.py:90: DataConversionWarning: A column-vector y was passed when a 1d array was expected. Please change the shape of y to (n_samples,), for example using ravel().\n",
      "  #print(self.X.shape,self.y.shape)\n"
     ]
    },
    {
     "name": "stdout",
     "output_type": "stream",
     "text": [
      "17924 0.0 30 13424.0\n",
      "0.9994190383274383\n",
      "(289, 8) (289, 1)\n",
      "Max reward for 13714.6 16\n",
      "16\n"
     ]
    },
    {
     "name": "stderr",
     "output_type": "stream",
     "text": [
      "../sim/GELoadBalancer.py:90: DataConversionWarning: A column-vector y was passed when a 1d array was expected. Please change the shape of y to (n_samples,), for example using ravel().\n",
      "  #print(self.X.shape,self.y.shape)\n"
     ]
    },
    {
     "name": "stdout",
     "output_type": "stream",
     "text": [
      "17841 4 16 15401.0\n",
      "0.9995623003434331\n",
      "(290, 8) (290, 1)\n",
      "Max reward for 13745.1 16\n",
      "16\n"
     ]
    },
    {
     "name": "stderr",
     "output_type": "stream",
     "text": [
      "../sim/GELoadBalancer.py:90: DataConversionWarning: A column-vector y was passed when a 1d array was expected. Please change the shape of y to (n_samples,), for example using ravel().\n",
      "  #print(self.X.shape,self.y.shape)\n"
     ]
    },
    {
     "name": "stdout",
     "output_type": "stream",
     "text": [
      "18010 24 16 15370.0\n",
      "0.9993392432636785\n",
      "(291, 8) (291, 1)\n",
      "26\n"
     ]
    },
    {
     "name": "stderr",
     "output_type": "stream",
     "text": [
      "../sim/GELoadBalancer.py:90: DataConversionWarning: A column-vector y was passed when a 1d array was expected. Please change the shape of y to (n_samples,), for example using ravel().\n",
      "  #print(self.X.shape,self.y.shape)\n"
     ]
    },
    {
     "name": "stdout",
     "output_type": "stream",
     "text": [
      "17821 0.0 26 13921.0\n",
      "0.9993451973928631\n",
      "(292, 8) (292, 1)\n",
      "13\n"
     ]
    },
    {
     "name": "stderr",
     "output_type": "stream",
     "text": [
      "../sim/GELoadBalancer.py:90: DataConversionWarning: A column-vector y was passed when a 1d array was expected. Please change the shape of y to (n_samples,), for example using ravel().\n",
      "  #print(self.X.shape,self.y.shape)\n"
     ]
    },
    {
     "name": "stdout",
     "output_type": "stream",
     "text": [
      "17806 531 13 10546.0\n",
      "0.9995298664984013\n",
      "(293, 8) (293, 1)\n",
      "26\n"
     ]
    },
    {
     "name": "stderr",
     "output_type": "stream",
     "text": [
      "../sim/GELoadBalancer.py:90: DataConversionWarning: A column-vector y was passed when a 1d array was expected. Please change the shape of y to (n_samples,), for example using ravel().\n",
      "  #print(self.X.shape,self.y.shape)\n"
     ]
    },
    {
     "name": "stdout",
     "output_type": "stream",
     "text": [
      "18279 5 26 14329.0\n",
      "0.9995034249518923\n",
      "(294, 8) (294, 1)\n",
      "Max reward for 13640.8 17\n",
      "17\n"
     ]
    },
    {
     "name": "stderr",
     "output_type": "stream",
     "text": [
      "../sim/GELoadBalancer.py:90: DataConversionWarning: A column-vector y was passed when a 1d array was expected. Please change the shape of y to (n_samples,), for example using ravel().\n",
      "  #print(self.X.shape,self.y.shape)\n"
     ]
    },
    {
     "name": "stdout",
     "output_type": "stream",
     "text": [
      "18004 0.0 17 15454.0\n",
      "0.999539321488915\n",
      "(295, 8) (295, 1)\n",
      "Max reward for 13617.3 16\n",
      "16\n"
     ]
    },
    {
     "name": "stderr",
     "output_type": "stream",
     "text": [
      "../sim/GELoadBalancer.py:90: DataConversionWarning: A column-vector y was passed when a 1d array was expected. Please change the shape of y to (n_samples,), for example using ravel().\n",
      "  #print(self.X.shape,self.y.shape)\n"
     ]
    },
    {
     "name": "stdout",
     "output_type": "stream",
     "text": [
      "18187 19 16 15597.0\n",
      "0.9993903278866901\n",
      "(296, 8) (296, 1)\n",
      "18\n"
     ]
    },
    {
     "name": "stderr",
     "output_type": "stream",
     "text": [
      "../sim/GELoadBalancer.py:90: DataConversionWarning: A column-vector y was passed when a 1d array was expected. Please change the shape of y to (n_samples,), for example using ravel().\n",
      "  #print(self.X.shape,self.y.shape)\n"
     ]
    },
    {
     "name": "stdout",
     "output_type": "stream",
     "text": [
      "17982 0.0 18 15282.0\n",
      "0.9994869096340828\n",
      "(297, 8) (297, 1)\n",
      "28\n"
     ]
    },
    {
     "name": "stderr",
     "output_type": "stream",
     "text": [
      "../sim/GELoadBalancer.py:90: DataConversionWarning: A column-vector y was passed when a 1d array was expected. Please change the shape of y to (n_samples,), for example using ravel().\n",
      "  #print(self.X.shape,self.y.shape)\n"
     ]
    },
    {
     "name": "stdout",
     "output_type": "stream",
     "text": [
      "18085 0.0 28 13885.0\n",
      "0.9994982396090967\n",
      "(298, 8) (298, 1)\n",
      "Max reward for 13634.3 16\n",
      "16\n"
     ]
    },
    {
     "name": "stderr",
     "output_type": "stream",
     "text": [
      "../sim/GELoadBalancer.py:90: DataConversionWarning: A column-vector y was passed when a 1d array was expected. Please change the shape of y to (n_samples,), for example using ravel().\n",
      "  #print(self.X.shape,self.y.shape)\n"
     ]
    },
    {
     "name": "stdout",
     "output_type": "stream",
     "text": [
      "18021 6 16 15561.0\n",
      "0.9995568467894038\n",
      "(299, 8) (299, 1)\n",
      "23\n"
     ]
    },
    {
     "name": "stderr",
     "output_type": "stream",
     "text": [
      "../sim/GELoadBalancer.py:90: DataConversionWarning: A column-vector y was passed when a 1d array was expected. Please change the shape of y to (n_samples,), for example using ravel().\n",
      "  #print(self.X.shape,self.y.shape)\n"
     ]
    },
    {
     "name": "stdout",
     "output_type": "stream",
     "text": [
      "18052 0.0 23 14602.0\n",
      "0.9995594191253538\n",
      "(300, 8) (300, 1)\n",
      "21\n"
     ]
    },
    {
     "name": "stderr",
     "output_type": "stream",
     "text": [
      "../sim/GELoadBalancer.py:90: DataConversionWarning: A column-vector y was passed when a 1d array was expected. Please change the shape of y to (n_samples,), for example using ravel().\n",
      "  #print(self.X.shape,self.y.shape)\n"
     ]
    },
    {
     "name": "stdout",
     "output_type": "stream",
     "text": [
      "18054 0.0 21 14904.0\n",
      "0.9995922944587443\n",
      "(301, 8) (301, 1)\n",
      "30\n"
     ]
    },
    {
     "name": "stderr",
     "output_type": "stream",
     "text": [
      "../sim/GELoadBalancer.py:90: DataConversionWarning: A column-vector y was passed when a 1d array was expected. Please change the shape of y to (n_samples,), for example using ravel().\n",
      "  #print(self.X.shape,self.y.shape)\n"
     ]
    },
    {
     "name": "stdout",
     "output_type": "stream",
     "text": [
      "18041 0.0 30 13541.0\n",
      "0.9995015407852113\n",
      "(302, 8) (302, 1)\n",
      "Max reward for 13667.5 17\n",
      "17\n"
     ]
    },
    {
     "name": "stderr",
     "output_type": "stream",
     "text": [
      "../sim/GELoadBalancer.py:90: DataConversionWarning: A column-vector y was passed when a 1d array was expected. Please change the shape of y to (n_samples,), for example using ravel().\n",
      "  #print(self.X.shape,self.y.shape)\n"
     ]
    },
    {
     "name": "stdout",
     "output_type": "stream",
     "text": [
      "17914 0.0 17 15364.0\n",
      "0.9995981768173816\n",
      "(303, 8) (303, 1)\n",
      "Max reward for 13746.3 16\n",
      "16\n"
     ]
    },
    {
     "name": "stderr",
     "output_type": "stream",
     "text": [
      "../sim/GELoadBalancer.py:90: DataConversionWarning: A column-vector y was passed when a 1d array was expected. Please change the shape of y to (n_samples,), for example using ravel().\n",
      "  #print(self.X.shape,self.y.shape)\n"
     ]
    },
    {
     "name": "stdout",
     "output_type": "stream",
     "text": [
      "17973 4 16 15533.0\n",
      "0.9996130010010377\n",
      "(304, 8) (304, 1)\n",
      "Max reward for 13759.0 16\n",
      "16\n"
     ]
    },
    {
     "name": "stderr",
     "output_type": "stream",
     "text": [
      "../sim/GELoadBalancer.py:90: DataConversionWarning: A column-vector y was passed when a 1d array was expected. Please change the shape of y to (n_samples,), for example using ravel().\n",
      "  #print(self.X.shape,self.y.shape)\n"
     ]
    },
    {
     "name": "stdout",
     "output_type": "stream",
     "text": [
      "17805 7 16 15335.0\n",
      "0.9996004735494233\n",
      "(305, 8) (305, 1)\n",
      "10\n"
     ]
    },
    {
     "name": "stderr",
     "output_type": "stream",
     "text": [
      "../sim/GELoadBalancer.py:90: DataConversionWarning: A column-vector y was passed when a 1d array was expected. Please change the shape of y to (n_samples,), for example using ravel().\n",
      "  #print(self.X.shape,self.y.shape)\n"
     ]
    },
    {
     "name": "stdout",
     "output_type": "stream",
     "text": [
      "18031 1071 10 5821.0\n",
      "0.9994949958504762\n",
      "(306, 8) (306, 1)\n",
      "Max reward for 13694.9 16\n",
      "16\n"
     ]
    },
    {
     "name": "stderr",
     "output_type": "stream",
     "text": [
      "../sim/GELoadBalancer.py:90: DataConversionWarning: A column-vector y was passed when a 1d array was expected. Please change the shape of y to (n_samples,), for example using ravel().\n",
      "  #print(self.X.shape,self.y.shape)\n"
     ]
    },
    {
     "name": "stdout",
     "output_type": "stream",
     "text": [
      "17941 9 16 15451.0\n",
      "0.9994716370469724\n",
      "(307, 8) (307, 1)\n",
      "13\n"
     ]
    },
    {
     "name": "stderr",
     "output_type": "stream",
     "text": [
      "../sim/GELoadBalancer.py:90: DataConversionWarning: A column-vector y was passed when a 1d array was expected. Please change the shape of y to (n_samples,), for example using ravel().\n",
      "  #print(self.X.shape,self.y.shape)\n"
     ]
    },
    {
     "name": "stdout",
     "output_type": "stream",
     "text": [
      "18132 573 13 10452.0\n",
      "0.9996108427692457\n",
      "(308, 8) (308, 1)\n",
      "Max reward for 13631.7 16\n",
      "16\n"
     ]
    },
    {
     "name": "stderr",
     "output_type": "stream",
     "text": [
      "../sim/GELoadBalancer.py:90: DataConversionWarning: A column-vector y was passed when a 1d array was expected. Please change the shape of y to (n_samples,), for example using ravel().\n",
      "  #print(self.X.shape,self.y.shape)\n"
     ]
    },
    {
     "name": "stdout",
     "output_type": "stream",
     "text": [
      "18081 17 16 15511.0\n",
      "0.9996373899502844\n",
      "(309, 8) (309, 1)\n",
      "Max reward for 13704.8 17\n",
      "17\n"
     ]
    },
    {
     "name": "stderr",
     "output_type": "stream",
     "text": [
      "../sim/GELoadBalancer.py:90: DataConversionWarning: A column-vector y was passed when a 1d array was expected. Please change the shape of y to (n_samples,), for example using ravel().\n",
      "  #print(self.X.shape,self.y.shape)\n"
     ]
    },
    {
     "name": "stdout",
     "output_type": "stream",
     "text": [
      "18015 0.0 17 15465.0\n",
      "0.9994526828208181\n",
      "(310, 8) (310, 1)\n",
      "Max reward for 13688.5 16\n",
      "16\n"
     ]
    },
    {
     "name": "stderr",
     "output_type": "stream",
     "text": [
      "../sim/GELoadBalancer.py:90: DataConversionWarning: A column-vector y was passed when a 1d array was expected. Please change the shape of y to (n_samples,), for example using ravel().\n",
      "  #print(self.X.shape,self.y.shape)\n"
     ]
    },
    {
     "name": "stdout",
     "output_type": "stream",
     "text": [
      "18079 4 16 15639.0\n",
      "0.9996323360087863\n",
      "(311, 8) (311, 1)\n",
      "22\n"
     ]
    },
    {
     "name": "stderr",
     "output_type": "stream",
     "text": [
      "../sim/GELoadBalancer.py:90: DataConversionWarning: A column-vector y was passed when a 1d array was expected. Please change the shape of y to (n_samples,), for example using ravel().\n",
      "  #print(self.X.shape,self.y.shape)\n"
     ]
    },
    {
     "name": "stdout",
     "output_type": "stream",
     "text": [
      "18093 0.0 22 14793.0\n",
      "0.9996119236176587\n",
      "(312, 8) (312, 1)\n",
      "22\n"
     ]
    },
    {
     "name": "stderr",
     "output_type": "stream",
     "text": [
      "../sim/GELoadBalancer.py:90: DataConversionWarning: A column-vector y was passed when a 1d array was expected. Please change the shape of y to (n_samples,), for example using ravel().\n",
      "  #print(self.X.shape,self.y.shape)\n"
     ]
    },
    {
     "name": "stdout",
     "output_type": "stream",
     "text": [
      "18090 0.0 22 14790.0\n",
      "0.9996297822439991\n",
      "(313, 8) (313, 1)\n",
      "Max reward for 13682.0 17\n",
      "17\n"
     ]
    },
    {
     "name": "stderr",
     "output_type": "stream",
     "text": [
      "../sim/GELoadBalancer.py:90: DataConversionWarning: A column-vector y was passed when a 1d array was expected. Please change the shape of y to (n_samples,), for example using ravel().\n",
      "  #print(self.X.shape,self.y.shape)\n"
     ]
    },
    {
     "name": "stdout",
     "output_type": "stream",
     "text": [
      "17967 0.0 17 15417.0\n",
      "0.9996338100822577\n",
      "(314, 8) (314, 1)\n",
      "12\n"
     ]
    },
    {
     "name": "stderr",
     "output_type": "stream",
     "text": [
      "../sim/GELoadBalancer.py:90: DataConversionWarning: A column-vector y was passed when a 1d array was expected. Please change the shape of y to (n_samples,), for example using ravel().\n",
      "  #print(self.X.shape,self.y.shape)\n"
     ]
    },
    {
     "name": "stdout",
     "output_type": "stream",
     "text": [
      "17999 737 12 8829.0\n",
      "0.9996268659589099\n",
      "(315, 8) (315, 1)\n",
      "Max reward for 13688.1 16\n",
      "16\n"
     ]
    },
    {
     "name": "stderr",
     "output_type": "stream",
     "text": [
      "../sim/GELoadBalancer.py:90: DataConversionWarning: A column-vector y was passed when a 1d array was expected. Please change the shape of y to (n_samples,), for example using ravel().\n",
      "  #print(self.X.shape,self.y.shape)\n"
     ]
    },
    {
     "name": "stdout",
     "output_type": "stream",
     "text": [
      "17888 7 16 15418.0\n",
      "0.9991398565694396\n",
      "(316, 8) (316, 1)\n",
      "Max reward for 13742.1 16\n",
      "16\n"
     ]
    },
    {
     "name": "stderr",
     "output_type": "stream",
     "text": [
      "../sim/GELoadBalancer.py:90: DataConversionWarning: A column-vector y was passed when a 1d array was expected. Please change the shape of y to (n_samples,), for example using ravel().\n",
      "  #print(self.X.shape,self.y.shape)\n"
     ]
    },
    {
     "name": "stdout",
     "output_type": "stream",
     "text": [
      "18011 13 16 15481.0\n",
      "0.99942378449165\n",
      "(317, 8) (317, 1)\n",
      "Max reward for 13659.6 16\n",
      "16\n"
     ]
    },
    {
     "name": "stderr",
     "output_type": "stream",
     "text": [
      "../sim/GELoadBalancer.py:90: DataConversionWarning: A column-vector y was passed when a 1d array was expected. Please change the shape of y to (n_samples,), for example using ravel().\n",
      "  #print(self.X.shape,self.y.shape)\n"
     ]
    },
    {
     "name": "stdout",
     "output_type": "stream",
     "text": [
      "18139 10 16 15639.0\n",
      "0.9996452861149716\n",
      "(318, 8) (318, 1)\n",
      "Max reward for 13683.7 17\n",
      "17\n"
     ]
    },
    {
     "name": "stderr",
     "output_type": "stream",
     "text": [
      "../sim/GELoadBalancer.py:90: DataConversionWarning: A column-vector y was passed when a 1d array was expected. Please change the shape of y to (n_samples,), for example using ravel().\n",
      "  #print(self.X.shape,self.y.shape)\n"
     ]
    },
    {
     "name": "stdout",
     "output_type": "stream",
     "text": [
      "17991 0.0 17 15441.0\n",
      "0.9994220627582774\n",
      "(319, 8) (319, 1)\n",
      "Max reward for 13724.5 16\n",
      "16\n"
     ]
    },
    {
     "name": "stderr",
     "output_type": "stream",
     "text": [
      "../sim/GELoadBalancer.py:90: DataConversionWarning: A column-vector y was passed when a 1d array was expected. Please change the shape of y to (n_samples,), for example using ravel().\n",
      "  #print(self.X.shape,self.y.shape)\n"
     ]
    },
    {
     "name": "stdout",
     "output_type": "stream",
     "text": [
      "17957 6 16 15497.0\n",
      "0.9996169002238204\n",
      "(320, 8) (320, 1)\n",
      "Max reward for 13779.7 17\n",
      "17\n"
     ]
    },
    {
     "name": "stderr",
     "output_type": "stream",
     "text": [
      "../sim/GELoadBalancer.py:90: DataConversionWarning: A column-vector y was passed when a 1d array was expected. Please change the shape of y to (n_samples,), for example using ravel().\n",
      "  #print(self.X.shape,self.y.shape)\n"
     ]
    },
    {
     "name": "stdout",
     "output_type": "stream",
     "text": [
      "17932 0.0 17 15382.0\n",
      "0.9991741427320077\n",
      "(321, 8) (321, 1)\n",
      "Max reward for 13749.2 16\n",
      "16\n"
     ]
    },
    {
     "name": "stderr",
     "output_type": "stream",
     "text": [
      "../sim/GELoadBalancer.py:90: DataConversionWarning: A column-vector y was passed when a 1d array was expected. Please change the shape of y to (n_samples,), for example using ravel().\n",
      "  #print(self.X.shape,self.y.shape)\n"
     ]
    },
    {
     "name": "stdout",
     "output_type": "stream",
     "text": [
      "18223 21 16 15613.0\n",
      "0.9994866448894391\n",
      "(322, 8) (322, 1)\n",
      "Max reward for 13633.8 17\n",
      "17\n"
     ]
    },
    {
     "name": "stderr",
     "output_type": "stream",
     "text": [
      "../sim/GELoadBalancer.py:90: DataConversionWarning: A column-vector y was passed when a 1d array was expected. Please change the shape of y to (n_samples,), for example using ravel().\n",
      "  #print(self.X.shape,self.y.shape)\n"
     ]
    },
    {
     "name": "stdout",
     "output_type": "stream",
     "text": [
      "17992 0.0 17 15442.0\n",
      "0.9995691706141224\n",
      "(323, 8) (323, 1)\n",
      "Max reward for 13677.4 16\n",
      "16\n"
     ]
    },
    {
     "name": "stderr",
     "output_type": "stream",
     "text": [
      "../sim/GELoadBalancer.py:90: DataConversionWarning: A column-vector y was passed when a 1d array was expected. Please change the shape of y to (n_samples,), for example using ravel().\n",
      "  #print(self.X.shape,self.y.shape)\n"
     ]
    },
    {
     "name": "stdout",
     "output_type": "stream",
     "text": [
      "18027 8 16 15547.0\n",
      "0.9996214649196782\n",
      "(324, 8) (324, 1)\n",
      "Max reward for 13689.9 16\n",
      "16\n"
     ]
    },
    {
     "name": "stderr",
     "output_type": "stream",
     "text": [
      "../sim/GELoadBalancer.py:90: DataConversionWarning: A column-vector y was passed when a 1d array was expected. Please change the shape of y to (n_samples,), for example using ravel().\n",
      "  #print(self.X.shape,self.y.shape)\n"
     ]
    },
    {
     "name": "stdout",
     "output_type": "stream",
     "text": [
      "17984 13 16 15454.0\n",
      "0.9995806692119337\n",
      "(325, 8) (325, 1)\n",
      "Max reward for 13756.2 16\n",
      "16\n"
     ]
    },
    {
     "name": "stderr",
     "output_type": "stream",
     "text": [
      "../sim/GELoadBalancer.py:90: DataConversionWarning: A column-vector y was passed when a 1d array was expected. Please change the shape of y to (n_samples,), for example using ravel().\n",
      "  #print(self.X.shape,self.y.shape)\n"
     ]
    },
    {
     "name": "stdout",
     "output_type": "stream",
     "text": [
      "17971 10 16 15471.0\n",
      "0.9995364214230262\n",
      "(326, 8) (326, 1)\n",
      "Max reward for 13720.2 16\n",
      "16\n"
     ]
    },
    {
     "name": "stderr",
     "output_type": "stream",
     "text": [
      "../sim/GELoadBalancer.py:90: DataConversionWarning: A column-vector y was passed when a 1d array was expected. Please change the shape of y to (n_samples,), for example using ravel().\n",
      "  #print(self.X.shape,self.y.shape)\n"
     ]
    },
    {
     "name": "stdout",
     "output_type": "stream",
     "text": [
      "18021 15 16 15471.0\n",
      "0.9996536220764507\n",
      "(327, 8) (327, 1)\n",
      "Max reward for 13740.2 16\n",
      "16\n"
     ]
    },
    {
     "name": "stderr",
     "output_type": "stream",
     "text": [
      "../sim/GELoadBalancer.py:90: DataConversionWarning: A column-vector y was passed when a 1d array was expected. Please change the shape of y to (n_samples,), for example using ravel().\n",
      "  #print(self.X.shape,self.y.shape)\n"
     ]
    },
    {
     "name": "stdout",
     "output_type": "stream",
     "text": [
      "18064 19 16 15474.0\n",
      "0.9995093927143345\n",
      "(328, 8) (328, 1)\n",
      "Max reward for 13715.0 17\n",
      "17\n"
     ]
    },
    {
     "name": "stderr",
     "output_type": "stream",
     "text": [
      "../sim/GELoadBalancer.py:90: DataConversionWarning: A column-vector y was passed when a 1d array was expected. Please change the shape of y to (n_samples,), for example using ravel().\n",
      "  #print(self.X.shape,self.y.shape)\n"
     ]
    },
    {
     "name": "stdout",
     "output_type": "stream",
     "text": [
      "18167 1 17 15607.0\n",
      "0.9995811631452703\n",
      "(329, 8) (329, 1)\n",
      "Max reward for 13734.0 16\n",
      "16\n"
     ]
    },
    {
     "name": "stderr",
     "output_type": "stream",
     "text": [
      "../sim/GELoadBalancer.py:90: DataConversionWarning: A column-vector y was passed when a 1d array was expected. Please change the shape of y to (n_samples,), for example using ravel().\n",
      "  #print(self.X.shape,self.y.shape)\n"
     ]
    },
    {
     "name": "stdout",
     "output_type": "stream",
     "text": [
      "18151 17 16 15581.0\n",
      "0.9995902725813287\n",
      "(330, 8) (330, 1)\n",
      "Max reward for 13680.2 17\n",
      "17\n"
     ]
    },
    {
     "name": "stderr",
     "output_type": "stream",
     "text": [
      "../sim/GELoadBalancer.py:90: DataConversionWarning: A column-vector y was passed when a 1d array was expected. Please change the shape of y to (n_samples,), for example using ravel().\n",
      "  #print(self.X.shape,self.y.shape)\n"
     ]
    },
    {
     "name": "stdout",
     "output_type": "stream",
     "text": [
      "17925 0.0 17 15375.0\n",
      "0.9996197931581686\n",
      "(331, 8) (331, 1)\n",
      "10\n"
     ]
    },
    {
     "name": "stderr",
     "output_type": "stream",
     "text": [
      "../sim/GELoadBalancer.py:90: DataConversionWarning: A column-vector y was passed when a 1d array was expected. Please change the shape of y to (n_samples,), for example using ravel().\n",
      "  #print(self.X.shape,self.y.shape)\n"
     ]
    },
    {
     "name": "stdout",
     "output_type": "stream",
     "text": [
      "17824 1008 10 6244.0\n",
      "0.9994173782389522\n",
      "(332, 8) (332, 1)\n",
      "Max reward for 13716.4 17\n",
      "17\n"
     ]
    },
    {
     "name": "stderr",
     "output_type": "stream",
     "text": [
      "../sim/GELoadBalancer.py:90: DataConversionWarning: A column-vector y was passed when a 1d array was expected. Please change the shape of y to (n_samples,), for example using ravel().\n",
      "  #print(self.X.shape,self.y.shape)\n"
     ]
    },
    {
     "name": "stdout",
     "output_type": "stream",
     "text": [
      "18052 9 17 15412.0\n",
      "0.9994955232844656\n",
      "(333, 8) (333, 1)\n",
      "Max reward for 13730.8 16\n",
      "16\n"
     ]
    },
    {
     "name": "stderr",
     "output_type": "stream",
     "text": [
      "../sim/GELoadBalancer.py:90: DataConversionWarning: A column-vector y was passed when a 1d array was expected. Please change the shape of y to (n_samples,), for example using ravel().\n",
      "  #print(self.X.shape,self.y.shape)\n"
     ]
    },
    {
     "name": "stdout",
     "output_type": "stream",
     "text": [
      "17852 3 16 15422.0\n",
      "0.9995153291916051\n",
      "(334, 8) (334, 1)\n",
      "Max reward for 13734.3 16\n",
      "16\n"
     ]
    },
    {
     "name": "stderr",
     "output_type": "stream",
     "text": [
      "../sim/GELoadBalancer.py:90: DataConversionWarning: A column-vector y was passed when a 1d array was expected. Please change the shape of y to (n_samples,), for example using ravel().\n",
      "  #print(self.X.shape,self.y.shape)\n"
     ]
    },
    {
     "name": "stdout",
     "output_type": "stream",
     "text": [
      "17887 8 16 15407.0\n",
      "0.9995789132175713\n",
      "(335, 8) (335, 1)\n",
      "Max reward for 13721.3 16\n",
      "16\n"
     ]
    },
    {
     "name": "stderr",
     "output_type": "stream",
     "text": [
      "../sim/GELoadBalancer.py:90: DataConversionWarning: A column-vector y was passed when a 1d array was expected. Please change the shape of y to (n_samples,), for example using ravel().\n",
      "  #print(self.X.shape,self.y.shape)\n"
     ]
    },
    {
     "name": "stdout",
     "output_type": "stream",
     "text": [
      "18111 8 16 15631.0\n",
      "0.9995807143292065\n",
      "(336, 8) (336, 1)\n",
      "Max reward for 13685.7 16\n",
      "16\n"
     ]
    },
    {
     "name": "stderr",
     "output_type": "stream",
     "text": [
      "../sim/GELoadBalancer.py:90: DataConversionWarning: A column-vector y was passed when a 1d array was expected. Please change the shape of y to (n_samples,), for example using ravel().\n",
      "  #print(self.X.shape,self.y.shape)\n"
     ]
    },
    {
     "name": "stdout",
     "output_type": "stream",
     "text": [
      "17960 16 16 15400.0\n",
      "0.9995759387287135\n",
      "(337, 8) (337, 1)\n",
      "Max reward for 13772.7 16\n",
      "16\n"
     ]
    },
    {
     "name": "stderr",
     "output_type": "stream",
     "text": [
      "../sim/GELoadBalancer.py:90: DataConversionWarning: A column-vector y was passed when a 1d array was expected. Please change the shape of y to (n_samples,), for example using ravel().\n",
      "  #print(self.X.shape,self.y.shape)\n"
     ]
    },
    {
     "name": "stdout",
     "output_type": "stream",
     "text": [
      "18072 15 16 15522.0\n",
      "0.9996337898693921\n",
      "(338, 8) (338, 1)\n",
      "Max reward for 13693.1 16\n",
      "16\n"
     ]
    },
    {
     "name": "stderr",
     "output_type": "stream",
     "text": [
      "../sim/GELoadBalancer.py:90: DataConversionWarning: A column-vector y was passed when a 1d array was expected. Please change the shape of y to (n_samples,), for example using ravel().\n",
      "  #print(self.X.shape,self.y.shape)\n"
     ]
    },
    {
     "name": "stdout",
     "output_type": "stream",
     "text": [
      "17906 6 16 15446.0\n",
      "0.9995193120404131\n",
      "(339, 8) (339, 1)\n",
      "Max reward for 13736.7 16\n",
      "16\n"
     ]
    },
    {
     "name": "stderr",
     "output_type": "stream",
     "text": [
      "../sim/GELoadBalancer.py:90: DataConversionWarning: A column-vector y was passed when a 1d array was expected. Please change the shape of y to (n_samples,), for example using ravel().\n",
      "  #print(self.X.shape,self.y.shape)\n"
     ]
    },
    {
     "name": "stdout",
     "output_type": "stream",
     "text": [
      "17901 4 16 15461.0\n",
      "0.9996091711764181\n",
      "(340, 8) (340, 1)\n",
      "Max reward for 13777.1 16\n",
      "16\n"
     ]
    },
    {
     "name": "stderr",
     "output_type": "stream",
     "text": [
      "../sim/GELoadBalancer.py:90: DataConversionWarning: A column-vector y was passed when a 1d array was expected. Please change the shape of y to (n_samples,), for example using ravel().\n",
      "  #print(self.X.shape,self.y.shape)\n"
     ]
    },
    {
     "name": "stdout",
     "output_type": "stream",
     "text": [
      "17971 7 16 15501.0\n",
      "0.9993319486840854\n",
      "(341, 8) (341, 1)\n",
      "Max reward for 13765.7 17\n",
      "17\n"
     ]
    },
    {
     "name": "stderr",
     "output_type": "stream",
     "text": [
      "../sim/GELoadBalancer.py:90: DataConversionWarning: A column-vector y was passed when a 1d array was expected. Please change the shape of y to (n_samples,), for example using ravel().\n",
      "  #print(self.X.shape,self.y.shape)\n"
     ]
    },
    {
     "name": "stdout",
     "output_type": "stream",
     "text": [
      "17994 0.0 17 15444.0\n",
      "0.9995911898697163\n",
      "(342, 8) (342, 1)\n",
      "Max reward for 13663.8 16\n",
      "16\n"
     ]
    },
    {
     "name": "stderr",
     "output_type": "stream",
     "text": [
      "../sim/GELoadBalancer.py:90: DataConversionWarning: A column-vector y was passed when a 1d array was expected. Please change the shape of y to (n_samples,), for example using ravel().\n",
      "  #print(self.X.shape,self.y.shape)\n"
     ]
    },
    {
     "name": "stdout",
     "output_type": "stream",
     "text": [
      "17875 5 16 15425.0\n",
      "0.9996075613291392\n",
      "(343, 8) (343, 1)\n",
      "Max reward for 13747.4 16\n",
      "16\n"
     ]
    },
    {
     "name": "stderr",
     "output_type": "stream",
     "text": [
      "../sim/GELoadBalancer.py:90: DataConversionWarning: A column-vector y was passed when a 1d array was expected. Please change the shape of y to (n_samples,), for example using ravel().\n",
      "  #print(self.X.shape,self.y.shape)\n"
     ]
    },
    {
     "name": "stdout",
     "output_type": "stream",
     "text": [
      "18031 7 16 15561.0\n",
      "0.999580048962599\n",
      "(344, 8) (344, 1)\n",
      "Max reward for 13680.4 16\n",
      "16\n"
     ]
    },
    {
     "name": "stderr",
     "output_type": "stream",
     "text": [
      "../sim/GELoadBalancer.py:90: DataConversionWarning: A column-vector y was passed when a 1d array was expected. Please change the shape of y to (n_samples,), for example using ravel().\n",
      "  #print(self.X.shape,self.y.shape)\n"
     ]
    },
    {
     "name": "stdout",
     "output_type": "stream",
     "text": [
      "18024 6 16 15564.0\n",
      "0.9995932100568695\n",
      "(345, 8) (345, 1)\n",
      "Max reward for 13664.6 17\n",
      "17\n"
     ]
    },
    {
     "name": "stderr",
     "output_type": "stream",
     "text": [
      "../sim/GELoadBalancer.py:90: DataConversionWarning: A column-vector y was passed when a 1d array was expected. Please change the shape of y to (n_samples,), for example using ravel().\n",
      "  #print(self.X.shape,self.y.shape)\n"
     ]
    },
    {
     "name": "stdout",
     "output_type": "stream",
     "text": [
      "18016 1 17 15456.0\n",
      "0.9994621682786231\n",
      "(346, 8) (346, 1)\n",
      "16\n"
     ]
    },
    {
     "name": "stderr",
     "output_type": "stream",
     "text": [
      "../sim/GELoadBalancer.py:90: DataConversionWarning: A column-vector y was passed when a 1d array was expected. Please change the shape of y to (n_samples,), for example using ravel().\n",
      "  #print(self.X.shape,self.y.shape)\n"
     ]
    },
    {
     "name": "stdout",
     "output_type": "stream",
     "text": [
      "17894 9 16 15404.0\n",
      "0.9995279800940604\n",
      "(347, 8) (347, 1)\n",
      "Max reward for 13767.4 16\n",
      "16\n"
     ]
    },
    {
     "name": "stderr",
     "output_type": "stream",
     "text": [
      "../sim/GELoadBalancer.py:90: DataConversionWarning: A column-vector y was passed when a 1d array was expected. Please change the shape of y to (n_samples,), for example using ravel().\n",
      "  #print(self.X.shape,self.y.shape)\n"
     ]
    },
    {
     "name": "stdout",
     "output_type": "stream",
     "text": [
      "17913 7 16 15443.0\n",
      "0.9992242233348335\n",
      "(348, 8) (348, 1)\n",
      "Max reward for 13756.0 16\n",
      "16\n"
     ]
    },
    {
     "name": "stderr",
     "output_type": "stream",
     "text": [
      "../sim/GELoadBalancer.py:90: DataConversionWarning: A column-vector y was passed when a 1d array was expected. Please change the shape of y to (n_samples,), for example using ravel().\n",
      "  #print(self.X.shape,self.y.shape)\n"
     ]
    },
    {
     "name": "stdout",
     "output_type": "stream",
     "text": [
      "17818 0.0 16 15418.0\n",
      "0.9993983548305955\n",
      "(349, 8) (349, 1)\n",
      "Max reward for 13731.1 16\n",
      "16\n"
     ]
    },
    {
     "name": "stderr",
     "output_type": "stream",
     "text": [
      "../sim/GELoadBalancer.py:90: DataConversionWarning: A column-vector y was passed when a 1d array was expected. Please change the shape of y to (n_samples,), for example using ravel().\n",
      "  #print(self.X.shape,self.y.shape)\n"
     ]
    },
    {
     "name": "stdout",
     "output_type": "stream",
     "text": [
      "17975 11 16 15465.0\n",
      "0.9996072511690035\n",
      "(350, 8) (350, 1)\n",
      "Max reward for 13719.9 16\n",
      "16\n"
     ]
    },
    {
     "name": "stderr",
     "output_type": "stream",
     "text": [
      "../sim/GELoadBalancer.py:90: DataConversionWarning: A column-vector y was passed when a 1d array was expected. Please change the shape of y to (n_samples,), for example using ravel().\n",
      "  #print(self.X.shape,self.y.shape)\n"
     ]
    },
    {
     "name": "stdout",
     "output_type": "stream",
     "text": [
      "17906 11 16 15396.0\n",
      "0.999592447733381\n",
      "(351, 8) (351, 1)\n",
      "Max reward for 13774.9 17\n",
      "17\n"
     ]
    },
    {
     "name": "stderr",
     "output_type": "stream",
     "text": [
      "../sim/GELoadBalancer.py:90: DataConversionWarning: A column-vector y was passed when a 1d array was expected. Please change the shape of y to (n_samples,), for example using ravel().\n",
      "  #print(self.X.shape,self.y.shape)\n"
     ]
    },
    {
     "name": "stdout",
     "output_type": "stream",
     "text": [
      "17953 0.0 17 15403.0\n",
      "0.9992689312726659\n",
      "(352, 8) (352, 1)\n",
      "Max reward for 13770.7 16\n",
      "16\n"
     ]
    },
    {
     "name": "stderr",
     "output_type": "stream",
     "text": [
      "../sim/GELoadBalancer.py:90: DataConversionWarning: A column-vector y was passed when a 1d array was expected. Please change the shape of y to (n_samples,), for example using ravel().\n",
      "  #print(self.X.shape,self.y.shape)\n"
     ]
    },
    {
     "name": "stdout",
     "output_type": "stream",
     "text": [
      "17874 11 16 15364.0\n",
      "0.9995400965162338\n",
      "(353, 8) (353, 1)\n",
      "Max reward for 13739.4 16\n",
      "16\n"
     ]
    },
    {
     "name": "stderr",
     "output_type": "stream",
     "text": [
      "../sim/GELoadBalancer.py:90: DataConversionWarning: A column-vector y was passed when a 1d array was expected. Please change the shape of y to (n_samples,), for example using ravel().\n",
      "  #print(self.X.shape,self.y.shape)\n"
     ]
    },
    {
     "name": "stdout",
     "output_type": "stream",
     "text": [
      "17991 12 16 15471.0\n",
      "0.9995565148360515\n",
      "(354, 8) (354, 1)\n",
      "Max reward for 13725.5 16\n",
      "16\n"
     ]
    },
    {
     "name": "stderr",
     "output_type": "stream",
     "text": [
      "../sim/GELoadBalancer.py:90: DataConversionWarning: A column-vector y was passed when a 1d array was expected. Please change the shape of y to (n_samples,), for example using ravel().\n",
      "  #print(self.X.shape,self.y.shape)\n"
     ]
    },
    {
     "name": "stdout",
     "output_type": "stream",
     "text": [
      "17863 4 16 15423.0\n",
      "0.9995653042550088\n",
      "(355, 8) (355, 1)\n",
      "Max reward for 13766.5 16\n",
      "16\n"
     ]
    },
    {
     "name": "stderr",
     "output_type": "stream",
     "text": [
      "../sim/GELoadBalancer.py:90: DataConversionWarning: A column-vector y was passed when a 1d array was expected. Please change the shape of y to (n_samples,), for example using ravel().\n",
      "  #print(self.X.shape,self.y.shape)\n"
     ]
    },
    {
     "name": "stdout",
     "output_type": "stream",
     "text": [
      "18081 9 16 15591.0\n",
      "0.9993560584467558\n",
      "(356, 8) (356, 1)\n",
      "Max reward for 13719.7 16\n",
      "16\n"
     ]
    },
    {
     "name": "stderr",
     "output_type": "stream",
     "text": [
      "../sim/GELoadBalancer.py:90: DataConversionWarning: A column-vector y was passed when a 1d array was expected. Please change the shape of y to (n_samples,), for example using ravel().\n",
      "  #print(self.X.shape,self.y.shape)\n"
     ]
    },
    {
     "name": "stdout",
     "output_type": "stream",
     "text": [
      "18050 9 16 15560.0\n",
      "0.9995329259684751\n",
      "(357, 8) (357, 1)\n",
      "Max reward for 13675.0 17\n",
      "17\n"
     ]
    },
    {
     "name": "stderr",
     "output_type": "stream",
     "text": [
      "../sim/GELoadBalancer.py:90: DataConversionWarning: A column-vector y was passed when a 1d array was expected. Please change the shape of y to (n_samples,), for example using ravel().\n",
      "  #print(self.X.shape,self.y.shape)\n"
     ]
    },
    {
     "name": "stdout",
     "output_type": "stream",
     "text": [
      "18074 1 17 15514.0\n",
      "0.9996569795408818\n",
      "(358, 8) (358, 1)\n",
      "Max reward for 13694.4 16\n",
      "16\n"
     ]
    },
    {
     "name": "stderr",
     "output_type": "stream",
     "text": [
      "../sim/GELoadBalancer.py:90: DataConversionWarning: A column-vector y was passed when a 1d array was expected. Please change the shape of y to (n_samples,), for example using ravel().\n",
      "  #print(self.X.shape,self.y.shape)\n"
     ]
    },
    {
     "name": "stdout",
     "output_type": "stream",
     "text": [
      "17901 6 16 15441.0\n",
      "0.9996407077482238\n",
      "(359, 8) (359, 1)\n",
      "Max reward for 13736.0 16\n",
      "16\n"
     ]
    },
    {
     "name": "stderr",
     "output_type": "stream",
     "text": [
      "../sim/GELoadBalancer.py:90: DataConversionWarning: A column-vector y was passed when a 1d array was expected. Please change the shape of y to (n_samples,), for example using ravel().\n",
      "  #print(self.X.shape,self.y.shape)\n"
     ]
    },
    {
     "name": "stdout",
     "output_type": "stream",
     "text": [
      "18098 14 16 15558.0\n",
      "0.9993346308953943\n",
      "(360, 8) (360, 1)\n",
      "Max reward for 13720.7 16\n",
      "16\n"
     ]
    },
    {
     "name": "stderr",
     "output_type": "stream",
     "text": [
      "../sim/GELoadBalancer.py:90: DataConversionWarning: A column-vector y was passed when a 1d array was expected. Please change the shape of y to (n_samples,), for example using ravel().\n",
      "  #print(self.X.shape,self.y.shape)\n"
     ]
    },
    {
     "name": "stdout",
     "output_type": "stream",
     "text": [
      "18126 16 16 15566.0\n",
      "0.9995329402913894\n",
      "(361, 8) (361, 1)\n",
      "Max reward for 13702.1 16\n",
      "16\n"
     ]
    },
    {
     "name": "stderr",
     "output_type": "stream",
     "text": [
      "../sim/GELoadBalancer.py:90: DataConversionWarning: A column-vector y was passed when a 1d array was expected. Please change the shape of y to (n_samples,), for example using ravel().\n",
      "  #print(self.X.shape,self.y.shape)\n"
     ]
    },
    {
     "name": "stdout",
     "output_type": "stream",
     "text": [
      "17948 11 16 15438.0\n",
      "0.9995533111268751\n",
      "(362, 8) (362, 1)\n",
      "29\n"
     ]
    },
    {
     "name": "stderr",
     "output_type": "stream",
     "text": [
      "../sim/GELoadBalancer.py:90: DataConversionWarning: A column-vector y was passed when a 1d array was expected. Please change the shape of y to (n_samples,), for example using ravel().\n",
      "  #print(self.X.shape,self.y.shape)\n"
     ]
    },
    {
     "name": "stdout",
     "output_type": "stream",
     "text": [
      "18154 0.0 29 13804.0\n",
      "0.9993962591884975\n",
      "(363, 8) (363, 1)\n",
      "Max reward for 13665.2 16\n",
      "16\n"
     ]
    },
    {
     "name": "stderr",
     "output_type": "stream",
     "text": [
      "../sim/GELoadBalancer.py:90: DataConversionWarning: A column-vector y was passed when a 1d array was expected. Please change the shape of y to (n_samples,), for example using ravel().\n",
      "  #print(self.X.shape,self.y.shape)\n"
     ]
    },
    {
     "name": "stdout",
     "output_type": "stream",
     "text": [
      "17907 7 16 15437.0\n",
      "0.9995426134758413\n",
      "(364, 8) (364, 1)\n",
      "Max reward for 13758.8 16\n",
      "16\n"
     ]
    },
    {
     "name": "stderr",
     "output_type": "stream",
     "text": [
      "../sim/GELoadBalancer.py:90: DataConversionWarning: A column-vector y was passed when a 1d array was expected. Please change the shape of y to (n_samples,), for example using ravel().\n",
      "  #print(self.X.shape,self.y.shape)\n"
     ]
    },
    {
     "name": "stdout",
     "output_type": "stream",
     "text": [
      "18201 26 16 15541.0\n",
      "0.9996257992965321\n",
      "(365, 8) (365, 1)\n",
      "Max reward for 13706.5 16\n",
      "16\n"
     ]
    },
    {
     "name": "stderr",
     "output_type": "stream",
     "text": [
      "../sim/GELoadBalancer.py:90: DataConversionWarning: A column-vector y was passed when a 1d array was expected. Please change the shape of y to (n_samples,), for example using ravel().\n",
      "  #print(self.X.shape,self.y.shape)\n"
     ]
    },
    {
     "name": "stdout",
     "output_type": "stream",
     "text": [
      "18173 17 16 15603.0\n",
      "0.9995230412322773\n",
      "(366, 8) (366, 1)\n",
      "Max reward for 13708.1 16\n",
      "16\n"
     ]
    },
    {
     "name": "stderr",
     "output_type": "stream",
     "text": [
      "../sim/GELoadBalancer.py:90: DataConversionWarning: A column-vector y was passed when a 1d array was expected. Please change the shape of y to (n_samples,), for example using ravel().\n",
      "  #print(self.X.shape,self.y.shape)\n"
     ]
    },
    {
     "name": "stdout",
     "output_type": "stream",
     "text": [
      "18127 16 16 15567.0\n",
      "0.9994812354218513\n",
      "(367, 8) (367, 1)\n",
      "17\n"
     ]
    },
    {
     "name": "stderr",
     "output_type": "stream",
     "text": [
      "../sim/GELoadBalancer.py:90: DataConversionWarning: A column-vector y was passed when a 1d array was expected. Please change the shape of y to (n_samples,), for example using ravel().\n",
      "  #print(self.X.shape,self.y.shape)\n"
     ]
    },
    {
     "name": "stdout",
     "output_type": "stream",
     "text": [
      "18091 0.0 17 15541.0\n",
      "0.99947680534896\n",
      "(368, 8) (368, 1)\n",
      "Max reward for 13708.8 16\n",
      "16\n"
     ]
    },
    {
     "name": "stderr",
     "output_type": "stream",
     "text": [
      "../sim/GELoadBalancer.py:90: DataConversionWarning: A column-vector y was passed when a 1d array was expected. Please change the shape of y to (n_samples,), for example using ravel().\n",
      "  #print(self.X.shape,self.y.shape)\n"
     ]
    },
    {
     "name": "stdout",
     "output_type": "stream",
     "text": [
      "18104 7 16 15634.0\n",
      "0.9995707278118471\n",
      "(369, 8) (369, 1)\n",
      "Max reward for 13722.3 17\n",
      "17\n"
     ]
    },
    {
     "name": "stderr",
     "output_type": "stream",
     "text": [
      "../sim/GELoadBalancer.py:90: DataConversionWarning: A column-vector y was passed when a 1d array was expected. Please change the shape of y to (n_samples,), for example using ravel().\n",
      "  #print(self.X.shape,self.y.shape)\n"
     ]
    },
    {
     "name": "stdout",
     "output_type": "stream",
     "text": [
      "17831 0.0 17 15281.0\n",
      "0.9994894105786223\n",
      "(370, 8) (370, 1)\n",
      "Max reward for 13740.1 16\n",
      "16\n"
     ]
    },
    {
     "name": "stderr",
     "output_type": "stream",
     "text": [
      "../sim/GELoadBalancer.py:90: DataConversionWarning: A column-vector y was passed when a 1d array was expected. Please change the shape of y to (n_samples,), for example using ravel().\n",
      "  #print(self.X.shape,self.y.shape)\n"
     ]
    },
    {
     "name": "stdout",
     "output_type": "stream",
     "text": [
      "18021 20 16 15421.0\n",
      "0.9995104649931909\n",
      "(371, 8) (371, 1)\n",
      "Max reward for 13693.3 16\n",
      "16\n"
     ]
    },
    {
     "name": "stderr",
     "output_type": "stream",
     "text": [
      "../sim/GELoadBalancer.py:90: DataConversionWarning: A column-vector y was passed when a 1d array was expected. Please change the shape of y to (n_samples,), for example using ravel().\n",
      "  #print(self.X.shape,self.y.shape)\n"
     ]
    },
    {
     "name": "stdout",
     "output_type": "stream",
     "text": [
      "18156 6 16 15696.0\n",
      "0.9995046468475238\n",
      "(372, 8) (372, 1)\n",
      "Max reward for 13691.3 16\n",
      "16\n"
     ]
    },
    {
     "name": "stderr",
     "output_type": "stream",
     "text": [
      "../sim/GELoadBalancer.py:90: DataConversionWarning: A column-vector y was passed when a 1d array was expected. Please change the shape of y to (n_samples,), for example using ravel().\n",
      "  #print(self.X.shape,self.y.shape)\n"
     ]
    },
    {
     "name": "stdout",
     "output_type": "stream",
     "text": [
      "18015 10 16 15515.0\n",
      "0.9995415312992415\n",
      "(373, 8) (373, 1)\n",
      "Max reward for 13668.7 16\n",
      "16\n"
     ]
    },
    {
     "name": "stderr",
     "output_type": "stream",
     "text": [
      "../sim/GELoadBalancer.py:90: DataConversionWarning: A column-vector y was passed when a 1d array was expected. Please change the shape of y to (n_samples,), for example using ravel().\n",
      "  #print(self.X.shape,self.y.shape)\n"
     ]
    },
    {
     "name": "stdout",
     "output_type": "stream",
     "text": [
      "18005 13 16 15475.0\n",
      "0.9996065577592462\n",
      "(374, 8) (374, 1)\n",
      "25\n"
     ]
    },
    {
     "name": "stderr",
     "output_type": "stream",
     "text": [
      "../sim/GELoadBalancer.py:90: DataConversionWarning: A column-vector y was passed when a 1d array was expected. Please change the shape of y to (n_samples,), for example using ravel().\n",
      "  #print(self.X.shape,self.y.shape)\n"
     ]
    },
    {
     "name": "stdout",
     "output_type": "stream",
     "text": [
      "18021 0.0 25 14271.0\n",
      "0.999454099723882\n",
      "(375, 8) (375, 1)\n",
      "27\n"
     ]
    },
    {
     "name": "stderr",
     "output_type": "stream",
     "text": [
      "../sim/GELoadBalancer.py:90: DataConversionWarning: A column-vector y was passed when a 1d array was expected. Please change the shape of y to (n_samples,), for example using ravel().\n",
      "  #print(self.X.shape,self.y.shape)\n"
     ]
    },
    {
     "name": "stdout",
     "output_type": "stream",
     "text": [
      "17986 0.0 27 13936.0\n",
      "0.9993449773189508\n",
      "(376, 8) (376, 1)\n",
      "Max reward for 13690.0 17\n",
      "17\n"
     ]
    },
    {
     "name": "stderr",
     "output_type": "stream",
     "text": [
      "../sim/GELoadBalancer.py:90: DataConversionWarning: A column-vector y was passed when a 1d array was expected. Please change the shape of y to (n_samples,), for example using ravel().\n",
      "  #print(self.X.shape,self.y.shape)\n"
     ]
    },
    {
     "name": "stdout",
     "output_type": "stream",
     "text": [
      "18137 0.0 17 15587.0\n",
      "0.9994447067722697\n",
      "(377, 8) (377, 1)\n",
      "Max reward for 13622.9 16\n",
      "16\n"
     ]
    },
    {
     "name": "stderr",
     "output_type": "stream",
     "text": [
      "../sim/GELoadBalancer.py:90: DataConversionWarning: A column-vector y was passed when a 1d array was expected. Please change the shape of y to (n_samples,), for example using ravel().\n",
      "  #print(self.X.shape,self.y.shape)\n"
     ]
    },
    {
     "name": "stdout",
     "output_type": "stream",
     "text": [
      "17977 7 16 15507.0\n",
      "0.9994694058564911\n",
      "(378, 8) (378, 1)\n",
      "Max reward for 13764.6 17\n",
      "17\n"
     ]
    },
    {
     "name": "stderr",
     "output_type": "stream",
     "text": [
      "../sim/GELoadBalancer.py:90: DataConversionWarning: A column-vector y was passed when a 1d array was expected. Please change the shape of y to (n_samples,), for example using ravel().\n",
      "  #print(self.X.shape,self.y.shape)\n"
     ]
    },
    {
     "name": "stdout",
     "output_type": "stream",
     "text": [
      "18052 0.0 17 15502.0\n",
      "0.9995225919627762\n",
      "(379, 8) (379, 1)\n",
      "Max reward for 13679.1 16\n",
      "16\n"
     ]
    },
    {
     "name": "stderr",
     "output_type": "stream",
     "text": [
      "../sim/GELoadBalancer.py:90: DataConversionWarning: A column-vector y was passed when a 1d array was expected. Please change the shape of y to (n_samples,), for example using ravel().\n",
      "  #print(self.X.shape,self.y.shape)\n"
     ]
    },
    {
     "name": "stdout",
     "output_type": "stream",
     "text": [
      "18075 17 16 15505.0\n",
      "0.9995772239456239\n",
      "(380, 8) (380, 1)\n",
      "Max reward for 13693.4 16\n",
      "16\n"
     ]
    },
    {
     "name": "stderr",
     "output_type": "stream",
     "text": [
      "../sim/GELoadBalancer.py:90: DataConversionWarning: A column-vector y was passed when a 1d array was expected. Please change the shape of y to (n_samples,), for example using ravel().\n",
      "  #print(self.X.shape,self.y.shape)\n"
     ]
    },
    {
     "name": "stdout",
     "output_type": "stream",
     "text": [
      "17997 13 16 15467.0\n",
      "0.9993836468437309\n",
      "(381, 8) (381, 1)\n",
      "Max reward for 13702.4 16\n",
      "16\n"
     ]
    },
    {
     "name": "stderr",
     "output_type": "stream",
     "text": [
      "../sim/GELoadBalancer.py:90: DataConversionWarning: A column-vector y was passed when a 1d array was expected. Please change the shape of y to (n_samples,), for example using ravel().\n",
      "  #print(self.X.shape,self.y.shape)\n"
     ]
    },
    {
     "name": "stdout",
     "output_type": "stream",
     "text": [
      "17877 4 16 15437.0\n",
      "0.9996050848402278\n",
      "(382, 8) (382, 1)\n",
      "Max reward for 13774.6 16\n",
      "16\n"
     ]
    },
    {
     "name": "stderr",
     "output_type": "stream",
     "text": [
      "../sim/GELoadBalancer.py:90: DataConversionWarning: A column-vector y was passed when a 1d array was expected. Please change the shape of y to (n_samples,), for example using ravel().\n",
      "  #print(self.X.shape,self.y.shape)\n"
     ]
    },
    {
     "name": "stdout",
     "output_type": "stream",
     "text": [
      "17900 4 16 15460.0\n",
      "0.9993665279845656\n",
      "(383, 8) (383, 1)\n",
      "10\n"
     ]
    },
    {
     "name": "stderr",
     "output_type": "stream",
     "text": [
      "../sim/GELoadBalancer.py:90: DataConversionWarning: A column-vector y was passed when a 1d array was expected. Please change the shape of y to (n_samples,), for example using ravel().\n",
      "  #print(self.X.shape,self.y.shape)\n"
     ]
    },
    {
     "name": "stdout",
     "output_type": "stream",
     "text": [
      "17798 1077 10 5528.0\n",
      "0.9995366734824349\n",
      "(384, 8) (384, 1)\n",
      "18\n"
     ]
    },
    {
     "name": "stderr",
     "output_type": "stream",
     "text": [
      "../sim/GELoadBalancer.py:90: DataConversionWarning: A column-vector y was passed when a 1d array was expected. Please change the shape of y to (n_samples,), for example using ravel().\n",
      "  #print(self.X.shape,self.y.shape)\n"
     ]
    },
    {
     "name": "stdout",
     "output_type": "stream",
     "text": [
      "18053 12 18 15233.0\n",
      "0.9995542041902973\n",
      "(385, 8) (385, 1)\n",
      "Max reward for 13702.4 16\n",
      "16\n"
     ]
    },
    {
     "name": "stderr",
     "output_type": "stream",
     "text": [
      "../sim/GELoadBalancer.py:90: DataConversionWarning: A column-vector y was passed when a 1d array was expected. Please change the shape of y to (n_samples,), for example using ravel().\n",
      "  #print(self.X.shape,self.y.shape)\n"
     ]
    },
    {
     "name": "stdout",
     "output_type": "stream",
     "text": [
      "17821 6 16 15361.0\n",
      "0.9995618072477265\n",
      "(386, 8) (386, 1)\n",
      "Max reward for 13780.2 16\n",
      "16\n"
     ]
    },
    {
     "name": "stderr",
     "output_type": "stream",
     "text": [
      "../sim/GELoadBalancer.py:90: DataConversionWarning: A column-vector y was passed when a 1d array was expected. Please change the shape of y to (n_samples,), for example using ravel().\n",
      "  #print(self.X.shape,self.y.shape)\n"
     ]
    },
    {
     "name": "stdout",
     "output_type": "stream",
     "text": [
      "18062 3 16 15632.0\n",
      "0.9995043173202613\n",
      "(387, 8) (387, 1)\n",
      "Max reward for 13718.7 16\n",
      "16\n"
     ]
    },
    {
     "name": "stderr",
     "output_type": "stream",
     "text": [
      "../sim/GELoadBalancer.py:90: DataConversionWarning: A column-vector y was passed when a 1d array was expected. Please change the shape of y to (n_samples,), for example using ravel().\n",
      "  #print(self.X.shape,self.y.shape)\n"
     ]
    },
    {
     "name": "stdout",
     "output_type": "stream",
     "text": [
      "18046 7 16 15576.0\n",
      "0.9996174674564032\n",
      "(388, 8) (388, 1)\n",
      "Max reward for 13690.2 16\n",
      "16\n"
     ]
    },
    {
     "name": "stderr",
     "output_type": "stream",
     "text": [
      "../sim/GELoadBalancer.py:90: DataConversionWarning: A column-vector y was passed when a 1d array was expected. Please change the shape of y to (n_samples,), for example using ravel().\n",
      "  #print(self.X.shape,self.y.shape)\n"
     ]
    },
    {
     "name": "stdout",
     "output_type": "stream",
     "text": [
      "17960 11 16 15450.0\n",
      "0.9993464264875727\n",
      "(389, 8) (389, 1)\n",
      "Max reward for 13795.4 17\n",
      "17\n"
     ]
    },
    {
     "name": "stderr",
     "output_type": "stream",
     "text": [
      "../sim/GELoadBalancer.py:90: DataConversionWarning: A column-vector y was passed when a 1d array was expected. Please change the shape of y to (n_samples,), for example using ravel().\n",
      "  #print(self.X.shape,self.y.shape)\n"
     ]
    },
    {
     "name": "stdout",
     "output_type": "stream",
     "text": [
      "18111 0.0 17 15561.0\n",
      "0.9995575877547809\n",
      "(390, 8) (390, 1)\n",
      "Max reward for 13721.2 16\n",
      "16\n"
     ]
    },
    {
     "name": "stderr",
     "output_type": "stream",
     "text": [
      "../sim/GELoadBalancer.py:90: DataConversionWarning: A column-vector y was passed when a 1d array was expected. Please change the shape of y to (n_samples,), for example using ravel().\n",
      "  #print(self.X.shape,self.y.shape)\n"
     ]
    },
    {
     "name": "stdout",
     "output_type": "stream",
     "text": [
      "17977 10 16 15477.0\n",
      "0.9995260732828195\n",
      "(391, 8) (391, 1)\n",
      "Max reward for 13774.3 17\n",
      "17\n"
     ]
    },
    {
     "name": "stderr",
     "output_type": "stream",
     "text": [
      "../sim/GELoadBalancer.py:90: DataConversionWarning: A column-vector y was passed when a 1d array was expected. Please change the shape of y to (n_samples,), for example using ravel().\n",
      "  #print(self.X.shape,self.y.shape)\n"
     ]
    },
    {
     "name": "stdout",
     "output_type": "stream",
     "text": [
      "18069 0.0 17 15519.0\n",
      "0.9995855067602988\n",
      "(392, 8) (392, 1)\n",
      "Max reward for 13685.0 17\n",
      "17\n"
     ]
    },
    {
     "name": "stderr",
     "output_type": "stream",
     "text": [
      "../sim/GELoadBalancer.py:90: DataConversionWarning: A column-vector y was passed when a 1d array was expected. Please change the shape of y to (n_samples,), for example using ravel().\n",
      "  #print(self.X.shape,self.y.shape)\n"
     ]
    },
    {
     "name": "stdout",
     "output_type": "stream",
     "text": [
      "18060 0.0 17 15510.0\n",
      "0.9996015262502672\n",
      "(393, 8) (393, 1)\n",
      "Max reward for 13674.7 16\n",
      "16\n"
     ]
    },
    {
     "name": "stderr",
     "output_type": "stream",
     "text": [
      "../sim/GELoadBalancer.py:90: DataConversionWarning: A column-vector y was passed when a 1d array was expected. Please change the shape of y to (n_samples,), for example using ravel().\n",
      "  #print(self.X.shape,self.y.shape)\n"
     ]
    },
    {
     "name": "stdout",
     "output_type": "stream",
     "text": [
      "17918 12 16 15398.0\n",
      "0.999382925477058\n",
      "(394, 8) (394, 1)\n",
      "Max reward for 13746.0 16\n",
      "16\n"
     ]
    },
    {
     "name": "stderr",
     "output_type": "stream",
     "text": [
      "../sim/GELoadBalancer.py:90: DataConversionWarning: A column-vector y was passed when a 1d array was expected. Please change the shape of y to (n_samples,), for example using ravel().\n",
      "  #print(self.X.shape,self.y.shape)\n"
     ]
    },
    {
     "name": "stdout",
     "output_type": "stream",
     "text": [
      "17918 14 16 15378.0\n",
      "0.9994623333665689\n",
      "(395, 8) (395, 1)\n",
      "Max reward for 13765.0 16\n",
      "16\n"
     ]
    },
    {
     "name": "stderr",
     "output_type": "stream",
     "text": [
      "../sim/GELoadBalancer.py:90: DataConversionWarning: A column-vector y was passed when a 1d array was expected. Please change the shape of y to (n_samples,), for example using ravel().\n",
      "  #print(self.X.shape,self.y.shape)\n"
     ]
    },
    {
     "name": "stdout",
     "output_type": "stream",
     "text": [
      "18045 12 16 15525.0\n",
      "0.99960424561486\n",
      "(396, 8) (396, 1)\n",
      "Max reward for 13670.4 16\n",
      "16\n"
     ]
    },
    {
     "name": "stderr",
     "output_type": "stream",
     "text": [
      "../sim/GELoadBalancer.py:90: DataConversionWarning: A column-vector y was passed when a 1d array was expected. Please change the shape of y to (n_samples,), for example using ravel().\n",
      "  #print(self.X.shape,self.y.shape)\n"
     ]
    },
    {
     "name": "stdout",
     "output_type": "stream",
     "text": [
      "18149 11 16 15639.0\n",
      "0.9993696593464528\n",
      "(397, 8) (397, 1)\n",
      "16\n"
     ]
    },
    {
     "name": "stderr",
     "output_type": "stream",
     "text": [
      "../sim/GELoadBalancer.py:90: DataConversionWarning: A column-vector y was passed when a 1d array was expected. Please change the shape of y to (n_samples,), for example using ravel().\n",
      "  #print(self.X.shape,self.y.shape)\n"
     ]
    },
    {
     "name": "stdout",
     "output_type": "stream",
     "text": [
      "18064 7 16 15594.0\n",
      "0.9994821028528625\n",
      "(398, 8) (398, 1)\n",
      "Max reward for 13712.6 16\n",
      "16\n"
     ]
    },
    {
     "name": "stderr",
     "output_type": "stream",
     "text": [
      "../sim/GELoadBalancer.py:90: DataConversionWarning: A column-vector y was passed when a 1d array was expected. Please change the shape of y to (n_samples,), for example using ravel().\n",
      "  #print(self.X.shape,self.y.shape)\n"
     ]
    },
    {
     "name": "stdout",
     "output_type": "stream",
     "text": [
      "17942 10 16 15442.0\n",
      "0.999413410559237\n",
      "(399, 8) (399, 1)\n",
      "Max reward for 13763.8 17\n",
      "17\n"
     ]
    },
    {
     "name": "stderr",
     "output_type": "stream",
     "text": [
      "../sim/GELoadBalancer.py:90: DataConversionWarning: A column-vector y was passed when a 1d array was expected. Please change the shape of y to (n_samples,), for example using ravel().\n",
      "  #print(self.X.shape,self.y.shape)\n"
     ]
    },
    {
     "name": "stdout",
     "output_type": "stream",
     "text": [
      "18027 0.0 17 15477.0\n",
      "0.9994435558689072\n",
      "(400, 8) (400, 1)\n",
      "Max reward for 13646.1 16\n",
      "16\n"
     ]
    },
    {
     "name": "stderr",
     "output_type": "stream",
     "text": [
      "../sim/GELoadBalancer.py:90: DataConversionWarning: A column-vector y was passed when a 1d array was expected. Please change the shape of y to (n_samples,), for example using ravel().\n",
      "  #print(self.X.shape,self.y.shape)\n"
     ]
    },
    {
     "name": "stdout",
     "output_type": "stream",
     "text": [
      "18092 5 16 15642.0\n",
      "0.9993823823932846\n",
      "(401, 8) (401, 1)\n",
      "Max reward for 13717.4 16\n",
      "16\n"
     ]
    },
    {
     "name": "stderr",
     "output_type": "stream",
     "text": [
      "../sim/GELoadBalancer.py:90: DataConversionWarning: A column-vector y was passed when a 1d array was expected. Please change the shape of y to (n_samples,), for example using ravel().\n",
      "  #print(self.X.shape,self.y.shape)\n"
     ]
    },
    {
     "name": "stdout",
     "output_type": "stream",
     "text": [
      "18067 6 16 15607.0\n",
      "0.9995412560530317\n",
      "(402, 8) (402, 1)\n",
      "Max reward for 13673.1 16\n",
      "16\n"
     ]
    },
    {
     "name": "stderr",
     "output_type": "stream",
     "text": [
      "../sim/GELoadBalancer.py:90: DataConversionWarning: A column-vector y was passed when a 1d array was expected. Please change the shape of y to (n_samples,), for example using ravel().\n",
      "  #print(self.X.shape,self.y.shape)\n"
     ]
    },
    {
     "name": "stdout",
     "output_type": "stream",
     "text": [
      "17885 5 16 15435.0\n",
      "0.9995115465783795\n",
      "(403, 8) (403, 1)\n",
      "Max reward for 13743.0 16\n",
      "16\n"
     ]
    },
    {
     "name": "stderr",
     "output_type": "stream",
     "text": [
      "../sim/GELoadBalancer.py:90: DataConversionWarning: A column-vector y was passed when a 1d array was expected. Please change the shape of y to (n_samples,), for example using ravel().\n",
      "  #print(self.X.shape,self.y.shape)\n"
     ]
    },
    {
     "name": "stdout",
     "output_type": "stream",
     "text": [
      "17960 14 16 15420.0\n",
      "0.9994386293444979\n",
      "(404, 8) (404, 1)\n",
      "Max reward for 13781.3 16\n",
      "16\n"
     ]
    },
    {
     "name": "stderr",
     "output_type": "stream",
     "text": [
      "../sim/GELoadBalancer.py:90: DataConversionWarning: A column-vector y was passed when a 1d array was expected. Please change the shape of y to (n_samples,), for example using ravel().\n",
      "  #print(self.X.shape,self.y.shape)\n"
     ]
    },
    {
     "name": "stdout",
     "output_type": "stream",
     "text": [
      "18092 13 16 15562.0\n",
      "0.9995554206554547\n",
      "(405, 8) (405, 1)\n",
      "Max reward for 13699.4 16\n",
      "16\n"
     ]
    },
    {
     "name": "stderr",
     "output_type": "stream",
     "text": [
      "../sim/GELoadBalancer.py:90: DataConversionWarning: A column-vector y was passed when a 1d array was expected. Please change the shape of y to (n_samples,), for example using ravel().\n",
      "  #print(self.X.shape,self.y.shape)\n"
     ]
    },
    {
     "name": "stdout",
     "output_type": "stream",
     "text": [
      "17900 8 16 15420.0\n",
      "0.9995329082378748\n",
      "(406, 8) (406, 1)\n",
      "28\n"
     ]
    },
    {
     "name": "stderr",
     "output_type": "stream",
     "text": [
      "../sim/GELoadBalancer.py:90: DataConversionWarning: A column-vector y was passed when a 1d array was expected. Please change the shape of y to (n_samples,), for example using ravel().\n",
      "  #print(self.X.shape,self.y.shape)\n"
     ]
    },
    {
     "name": "stdout",
     "output_type": "stream",
     "text": [
      "17918 0.0 28 13718.0\n",
      "0.9995629133270946\n",
      "(407, 8) (407, 1)\n",
      "Max reward for 13722.5 16\n",
      "16\n"
     ]
    },
    {
     "name": "stderr",
     "output_type": "stream",
     "text": [
      "../sim/GELoadBalancer.py:90: DataConversionWarning: A column-vector y was passed when a 1d array was expected. Please change the shape of y to (n_samples,), for example using ravel().\n",
      "  #print(self.X.shape,self.y.shape)\n"
     ]
    },
    {
     "name": "stdout",
     "output_type": "stream",
     "text": [
      "17928 9 16 15438.0\n",
      "0.9995973804803148\n",
      "(408, 8) (408, 1)\n",
      "Max reward for 13747.8 16\n",
      "16\n"
     ]
    },
    {
     "name": "stderr",
     "output_type": "stream",
     "text": [
      "../sim/GELoadBalancer.py:90: DataConversionWarning: A column-vector y was passed when a 1d array was expected. Please change the shape of y to (n_samples,), for example using ravel().\n",
      "  #print(self.X.shape,self.y.shape)\n"
     ]
    },
    {
     "name": "stdout",
     "output_type": "stream",
     "text": [
      "17849 1 16 15439.0\n",
      "0.9994979678666859\n",
      "(409, 8) (409, 1)\n",
      "Max reward for 13751.6 16\n",
      "16\n"
     ]
    },
    {
     "name": "stderr",
     "output_type": "stream",
     "text": [
      "../sim/GELoadBalancer.py:90: DataConversionWarning: A column-vector y was passed when a 1d array was expected. Please change the shape of y to (n_samples,), for example using ravel().\n",
      "  #print(self.X.shape,self.y.shape)\n"
     ]
    },
    {
     "name": "stdout",
     "output_type": "stream",
     "text": [
      "17944 9 16 15454.0\n",
      "0.9994792949521267\n",
      "(410, 8) (410, 1)\n",
      "Max reward for 13762.9 16\n",
      "16\n"
     ]
    },
    {
     "name": "stderr",
     "output_type": "stream",
     "text": [
      "../sim/GELoadBalancer.py:90: DataConversionWarning: A column-vector y was passed when a 1d array was expected. Please change the shape of y to (n_samples,), for example using ravel().\n",
      "  #print(self.X.shape,self.y.shape)\n"
     ]
    },
    {
     "name": "stdout",
     "output_type": "stream",
     "text": [
      "17928 8 16 15448.0\n",
      "0.9995816258234793\n",
      "(411, 8) (411, 1)\n",
      "23\n"
     ]
    },
    {
     "name": "stderr",
     "output_type": "stream",
     "text": [
      "../sim/GELoadBalancer.py:90: DataConversionWarning: A column-vector y was passed when a 1d array was expected. Please change the shape of y to (n_samples,), for example using ravel().\n",
      "  #print(self.X.shape,self.y.shape)\n"
     ]
    },
    {
     "name": "stdout",
     "output_type": "stream",
     "text": [
      "17858 0.0 23 14408.0\n",
      "0.9995514017883815\n",
      "(412, 8) (412, 1)\n",
      "Max reward for 13765.9 16\n",
      "16\n"
     ]
    },
    {
     "name": "stderr",
     "output_type": "stream",
     "text": [
      "../sim/GELoadBalancer.py:90: DataConversionWarning: A column-vector y was passed when a 1d array was expected. Please change the shape of y to (n_samples,), for example using ravel().\n",
      "  #print(self.X.shape,self.y.shape)\n"
     ]
    },
    {
     "name": "stdout",
     "output_type": "stream",
     "text": [
      "17979 5 16 15529.0\n",
      "0.9995201137118819\n",
      "(413, 8) (413, 1)\n",
      "Max reward for 13743.3 17\n",
      "17\n"
     ]
    },
    {
     "name": "stderr",
     "output_type": "stream",
     "text": [
      "../sim/GELoadBalancer.py:90: DataConversionWarning: A column-vector y was passed when a 1d array was expected. Please change the shape of y to (n_samples,), for example using ravel().\n",
      "  #print(self.X.shape,self.y.shape)\n"
     ]
    },
    {
     "name": "stdout",
     "output_type": "stream",
     "text": [
      "18065 0.0 17 15515.0\n",
      "0.9995184853830744\n",
      "(414, 8) (414, 1)\n",
      "Max reward for 13719.3 17\n",
      "17\n"
     ]
    },
    {
     "name": "stderr",
     "output_type": "stream",
     "text": [
      "../sim/GELoadBalancer.py:90: DataConversionWarning: A column-vector y was passed when a 1d array was expected. Please change the shape of y to (n_samples,), for example using ravel().\n",
      "  #print(self.X.shape,self.y.shape)\n"
     ]
    },
    {
     "name": "stdout",
     "output_type": "stream",
     "text": [
      "17936 0.0 17 15386.0\n",
      "0.999589073285308\n",
      "(415, 8) (415, 1)\n",
      "Max reward for 13772.7 16\n",
      "16\n"
     ]
    },
    {
     "name": "stderr",
     "output_type": "stream",
     "text": [
      "../sim/GELoadBalancer.py:90: DataConversionWarning: A column-vector y was passed when a 1d array was expected. Please change the shape of y to (n_samples,), for example using ravel().\n",
      "  #print(self.X.shape,self.y.shape)\n"
     ]
    },
    {
     "name": "stdout",
     "output_type": "stream",
     "text": [
      "17939 13 16 15409.0\n",
      "0.9995805402912927\n",
      "(416, 8) (416, 1)\n",
      "19\n"
     ]
    },
    {
     "name": "stderr",
     "output_type": "stream",
     "text": [
      "../sim/GELoadBalancer.py:90: DataConversionWarning: A column-vector y was passed when a 1d array was expected. Please change the shape of y to (n_samples,), for example using ravel().\n",
      "  #print(self.X.shape,self.y.shape)\n"
     ]
    },
    {
     "name": "stdout",
     "output_type": "stream",
     "text": [
      "18065 0.0 19 15215.0\n",
      "0.9995836408242845\n",
      "(417, 8) (417, 1)\n",
      "Max reward for 13656.4 17\n",
      "17\n"
     ]
    },
    {
     "name": "stderr",
     "output_type": "stream",
     "text": [
      "../sim/GELoadBalancer.py:90: DataConversionWarning: A column-vector y was passed when a 1d array was expected. Please change the shape of y to (n_samples,), for example using ravel().\n",
      "  #print(self.X.shape,self.y.shape)\n"
     ]
    },
    {
     "name": "stdout",
     "output_type": "stream",
     "text": [
      "17847 0.0 17 15297.0\n",
      "0.9995303595997588\n",
      "(418, 8) (418, 1)\n",
      "Max reward for 13729.1 16\n",
      "16\n"
     ]
    },
    {
     "name": "stderr",
     "output_type": "stream",
     "text": [
      "../sim/GELoadBalancer.py:90: DataConversionWarning: A column-vector y was passed when a 1d array was expected. Please change the shape of y to (n_samples,), for example using ravel().\n",
      "  #print(self.X.shape,self.y.shape)\n"
     ]
    },
    {
     "name": "stdout",
     "output_type": "stream",
     "text": [
      "17998 18 16 15418.0\n",
      "0.9994812821336102\n",
      "(419, 8) (419, 1)\n",
      "Max reward for 13730.7 16\n",
      "16\n"
     ]
    },
    {
     "name": "stderr",
     "output_type": "stream",
     "text": [
      "../sim/GELoadBalancer.py:90: DataConversionWarning: A column-vector y was passed when a 1d array was expected. Please change the shape of y to (n_samples,), for example using ravel().\n",
      "  #print(self.X.shape,self.y.shape)\n"
     ]
    },
    {
     "name": "stdout",
     "output_type": "stream",
     "text": [
      "17921 8 16 15441.0\n",
      "0.9995300919356466\n",
      "(420, 8) (420, 1)\n",
      "Max reward for 13722.4 16\n",
      "16\n"
     ]
    },
    {
     "name": "stderr",
     "output_type": "stream",
     "text": [
      "../sim/GELoadBalancer.py:90: DataConversionWarning: A column-vector y was passed when a 1d array was expected. Please change the shape of y to (n_samples,), for example using ravel().\n",
      "  #print(self.X.shape,self.y.shape)\n"
     ]
    },
    {
     "name": "stdout",
     "output_type": "stream",
     "text": [
      "17987 16 16 15427.0\n",
      "0.9994906428609753\n",
      "(421, 8) (421, 1)\n",
      "Max reward for 13744.0 16\n",
      "16\n"
     ]
    },
    {
     "name": "stderr",
     "output_type": "stream",
     "text": [
      "../sim/GELoadBalancer.py:90: DataConversionWarning: A column-vector y was passed when a 1d array was expected. Please change the shape of y to (n_samples,), for example using ravel().\n",
      "  #print(self.X.shape,self.y.shape)\n"
     ]
    },
    {
     "name": "stdout",
     "output_type": "stream",
     "text": [
      "17953 17 16 15383.0\n",
      "0.9995489696206824\n",
      "(422, 8) (422, 1)\n",
      "Max reward for 13770.5 17\n",
      "17\n"
     ]
    },
    {
     "name": "stderr",
     "output_type": "stream",
     "text": [
      "../sim/GELoadBalancer.py:90: DataConversionWarning: A column-vector y was passed when a 1d array was expected. Please change the shape of y to (n_samples,), for example using ravel().\n",
      "  #print(self.X.shape,self.y.shape)\n"
     ]
    },
    {
     "name": "stdout",
     "output_type": "stream",
     "text": [
      "18110 0.0 17 15560.0\n",
      "0.9994425986428509\n",
      "(423, 8) (423, 1)\n",
      "Max reward for 13681.4 16\n",
      "16\n"
     ]
    },
    {
     "name": "stderr",
     "output_type": "stream",
     "text": [
      "../sim/GELoadBalancer.py:90: DataConversionWarning: A column-vector y was passed when a 1d array was expected. Please change the shape of y to (n_samples,), for example using ravel().\n",
      "  #print(self.X.shape,self.y.shape)\n"
     ]
    },
    {
     "name": "stdout",
     "output_type": "stream",
     "text": [
      "17913 4 16 15473.0\n",
      "0.9995883732348102\n",
      "(424, 8) (424, 1)\n",
      "Max reward for 13749.7 16\n",
      "16\n"
     ]
    },
    {
     "name": "stderr",
     "output_type": "stream",
     "text": [
      "../sim/GELoadBalancer.py:90: DataConversionWarning: A column-vector y was passed when a 1d array was expected. Please change the shape of y to (n_samples,), for example using ravel().\n",
      "  #print(self.X.shape,self.y.shape)\n"
     ]
    },
    {
     "name": "stdout",
     "output_type": "stream",
     "text": [
      "18026 7 16 15556.0\n",
      "0.9995950110787549\n",
      "(425, 8) (425, 1)\n",
      "Max reward for 13723.0 16\n",
      "16\n"
     ]
    },
    {
     "name": "stderr",
     "output_type": "stream",
     "text": [
      "../sim/GELoadBalancer.py:90: DataConversionWarning: A column-vector y was passed when a 1d array was expected. Please change the shape of y to (n_samples,), for example using ravel().\n",
      "  #print(self.X.shape,self.y.shape)\n"
     ]
    },
    {
     "name": "stdout",
     "output_type": "stream",
     "text": [
      "17887 7 16 15417.0\n",
      "0.9995091808238229\n",
      "(426, 8) (426, 1)\n",
      "Max reward for 13768.3 16\n",
      "16\n"
     ]
    },
    {
     "name": "stderr",
     "output_type": "stream",
     "text": [
      "../sim/GELoadBalancer.py:90: DataConversionWarning: A column-vector y was passed when a 1d array was expected. Please change the shape of y to (n_samples,), for example using ravel().\n",
      "  #print(self.X.shape,self.y.shape)\n"
     ]
    },
    {
     "name": "stdout",
     "output_type": "stream",
     "text": [
      "17888 4 16 15448.0\n",
      "0.9994650073108783\n",
      "(427, 8) (427, 1)\n",
      "Max reward for 13772.0 16\n",
      "16\n"
     ]
    },
    {
     "name": "stderr",
     "output_type": "stream",
     "text": [
      "../sim/GELoadBalancer.py:90: DataConversionWarning: A column-vector y was passed when a 1d array was expected. Please change the shape of y to (n_samples,), for example using ravel().\n",
      "  #print(self.X.shape,self.y.shape)\n"
     ]
    },
    {
     "name": "stdout",
     "output_type": "stream",
     "text": [
      "17907 2 16 15487.0\n",
      "0.9995621918959003\n",
      "(428, 8) (428, 1)\n",
      "Max reward for 13748.4 16\n",
      "16\n"
     ]
    },
    {
     "name": "stderr",
     "output_type": "stream",
     "text": [
      "../sim/GELoadBalancer.py:90: DataConversionWarning: A column-vector y was passed when a 1d array was expected. Please change the shape of y to (n_samples,), for example using ravel().\n",
      "  #print(self.X.shape,self.y.shape)\n"
     ]
    },
    {
     "name": "stdout",
     "output_type": "stream",
     "text": [
      "18067 5 16 15617.0\n",
      "0.9995425337027323\n",
      "(429, 8) (429, 1)\n",
      "Max reward for 13675.9 16\n",
      "16\n"
     ]
    },
    {
     "name": "stderr",
     "output_type": "stream",
     "text": [
      "../sim/GELoadBalancer.py:90: DataConversionWarning: A column-vector y was passed when a 1d array was expected. Please change the shape of y to (n_samples,), for example using ravel().\n",
      "  #print(self.X.shape,self.y.shape)\n"
     ]
    },
    {
     "name": "stdout",
     "output_type": "stream",
     "text": [
      "18171 20 16 15571.0\n",
      "0.9994438621016895\n",
      "(430, 8) (430, 1)\n",
      "Max reward for 13693.5 16\n",
      "16\n"
     ]
    },
    {
     "name": "stderr",
     "output_type": "stream",
     "text": [
      "../sim/GELoadBalancer.py:90: DataConversionWarning: A column-vector y was passed when a 1d array was expected. Please change the shape of y to (n_samples,), for example using ravel().\n",
      "  #print(self.X.shape,self.y.shape)\n"
     ]
    },
    {
     "name": "stdout",
     "output_type": "stream",
     "text": [
      "18066 11 16 15556.0\n",
      "0.9995649542443723\n",
      "(431, 8) (431, 1)\n",
      "Max reward for 13702.7 17\n",
      "17\n"
     ]
    },
    {
     "name": "stderr",
     "output_type": "stream",
     "text": [
      "../sim/GELoadBalancer.py:90: DataConversionWarning: A column-vector y was passed when a 1d array was expected. Please change the shape of y to (n_samples,), for example using ravel().\n",
      "  #print(self.X.shape,self.y.shape)\n"
     ]
    },
    {
     "name": "stdout",
     "output_type": "stream",
     "text": [
      "17938 0.0 17 15388.0\n",
      "0.999441657550493\n",
      "(432, 8) (432, 1)\n",
      "Max reward for 13742.0 16\n",
      "16\n"
     ]
    },
    {
     "name": "stderr",
     "output_type": "stream",
     "text": [
      "../sim/GELoadBalancer.py:90: DataConversionWarning: A column-vector y was passed when a 1d array was expected. Please change the shape of y to (n_samples,), for example using ravel().\n",
      "  #print(self.X.shape,self.y.shape)\n"
     ]
    },
    {
     "name": "stdout",
     "output_type": "stream",
     "text": [
      "18143 9 16 15653.0\n",
      "0.999494613014619\n",
      "(433, 8) (433, 1)\n",
      "Max reward for 13667.5 16\n",
      "16\n"
     ]
    },
    {
     "name": "stderr",
     "output_type": "stream",
     "text": [
      "../sim/GELoadBalancer.py:90: DataConversionWarning: A column-vector y was passed when a 1d array was expected. Please change the shape of y to (n_samples,), for example using ravel().\n",
      "  #print(self.X.shape,self.y.shape)\n"
     ]
    },
    {
     "name": "stdout",
     "output_type": "stream",
     "text": [
      "18064 10 16 15564.0\n",
      "0.999574285222458\n",
      "(434, 8) (434, 1)\n",
      "Max reward for 13723.2 16\n",
      "16\n"
     ]
    },
    {
     "name": "stderr",
     "output_type": "stream",
     "text": [
      "../sim/GELoadBalancer.py:90: DataConversionWarning: A column-vector y was passed when a 1d array was expected. Please change the shape of y to (n_samples,), for example using ravel().\n",
      "  #print(self.X.shape,self.y.shape)\n"
     ]
    },
    {
     "name": "stdout",
     "output_type": "stream",
     "text": [
      "18048 12 16 15528.0\n",
      "0.9995033883846467\n",
      "(435, 8) (435, 1)\n",
      "Max reward for 13714.4 16\n",
      "16\n"
     ]
    },
    {
     "name": "stderr",
     "output_type": "stream",
     "text": [
      "../sim/GELoadBalancer.py:90: DataConversionWarning: A column-vector y was passed when a 1d array was expected. Please change the shape of y to (n_samples,), for example using ravel().\n",
      "  #print(self.X.shape,self.y.shape)\n"
     ]
    },
    {
     "name": "stdout",
     "output_type": "stream",
     "text": [
      "17973 1 16 15563.0\n",
      "0.9993541654263921\n",
      "(436, 8) (436, 1)\n",
      "Max reward for 13741.4 17\n",
      "17\n"
     ]
    },
    {
     "name": "stderr",
     "output_type": "stream",
     "text": [
      "../sim/GELoadBalancer.py:90: DataConversionWarning: A column-vector y was passed when a 1d array was expected. Please change the shape of y to (n_samples,), for example using ravel().\n",
      "  #print(self.X.shape,self.y.shape)\n"
     ]
    },
    {
     "name": "stdout",
     "output_type": "stream",
     "text": [
      "17887 2 17 15317.0\n",
      "0.9992103186421433\n",
      "(437, 8) (437, 1)\n",
      "Max reward for 13726.0 16\n",
      "16\n"
     ]
    },
    {
     "name": "stderr",
     "output_type": "stream",
     "text": [
      "../sim/GELoadBalancer.py:90: DataConversionWarning: A column-vector y was passed when a 1d array was expected. Please change the shape of y to (n_samples,), for example using ravel().\n",
      "  #print(self.X.shape,self.y.shape)\n"
     ]
    },
    {
     "name": "stdout",
     "output_type": "stream",
     "text": [
      "18268 18 16 15688.0\n",
      "0.9995911164658626\n",
      "(438, 8) (438, 1)\n",
      "Max reward for 13704.3 16\n",
      "16\n"
     ]
    },
    {
     "name": "stderr",
     "output_type": "stream",
     "text": [
      "../sim/GELoadBalancer.py:90: DataConversionWarning: A column-vector y was passed when a 1d array was expected. Please change the shape of y to (n_samples,), for example using ravel().\n",
      "  #print(self.X.shape,self.y.shape)\n"
     ]
    },
    {
     "name": "stdout",
     "output_type": "stream",
     "text": [
      "18022 13 16 15492.0\n",
      "0.999482241082953\n",
      "(439, 8) (439, 1)\n",
      "Max reward for 13724.6 16\n",
      "16\n"
     ]
    },
    {
     "name": "stderr",
     "output_type": "stream",
     "text": [
      "../sim/GELoadBalancer.py:90: DataConversionWarning: A column-vector y was passed when a 1d array was expected. Please change the shape of y to (n_samples,), for example using ravel().\n",
      "  #print(self.X.shape,self.y.shape)\n"
     ]
    },
    {
     "name": "stdout",
     "output_type": "stream",
     "text": [
      "17786 9 16 15296.0\n",
      "0.9995162513960831\n",
      "(440, 8) (440, 1)\n",
      "Max reward for 13755.5 16\n",
      "16\n"
     ]
    },
    {
     "name": "stderr",
     "output_type": "stream",
     "text": [
      "../sim/GELoadBalancer.py:90: DataConversionWarning: A column-vector y was passed when a 1d array was expected. Please change the shape of y to (n_samples,), for example using ravel().\n",
      "  #print(self.X.shape,self.y.shape)\n"
     ]
    },
    {
     "name": "stdout",
     "output_type": "stream",
     "text": [
      "17948 8 16 15468.0\n",
      "0.9994104154344221\n",
      "(441, 8) (441, 1)\n",
      "Max reward for 13752.6 16\n",
      "16\n"
     ]
    },
    {
     "name": "stderr",
     "output_type": "stream",
     "text": [
      "../sim/GELoadBalancer.py:90: DataConversionWarning: A column-vector y was passed when a 1d array was expected. Please change the shape of y to (n_samples,), for example using ravel().\n",
      "  #print(self.X.shape,self.y.shape)\n"
     ]
    },
    {
     "name": "stdout",
     "output_type": "stream",
     "text": [
      "17997 8 16 15517.0\n",
      "0.9994842720055973\n",
      "(442, 8) (442, 1)\n",
      "Max reward for 13764.1 16\n",
      "16\n"
     ]
    },
    {
     "name": "stderr",
     "output_type": "stream",
     "text": [
      "../sim/GELoadBalancer.py:90: DataConversionWarning: A column-vector y was passed when a 1d array was expected. Please change the shape of y to (n_samples,), for example using ravel().\n",
      "  #print(self.X.shape,self.y.shape)\n"
     ]
    },
    {
     "name": "stdout",
     "output_type": "stream",
     "text": [
      "17911 9 16 15421.0\n",
      "0.9995749495253574\n",
      "(443, 8) (443, 1)\n",
      "Max reward for 13749.4 16\n",
      "16\n"
     ]
    },
    {
     "name": "stderr",
     "output_type": "stream",
     "text": [
      "../sim/GELoadBalancer.py:90: DataConversionWarning: A column-vector y was passed when a 1d array was expected. Please change the shape of y to (n_samples,), for example using ravel().\n",
      "  #print(self.X.shape,self.y.shape)\n"
     ]
    },
    {
     "name": "stdout",
     "output_type": "stream",
     "text": [
      "17901 9 16 15411.0\n",
      "0.9994093383166519\n",
      "(444, 8) (444, 1)\n",
      "Max reward for 13743.9 16\n",
      "16\n"
     ]
    },
    {
     "name": "stderr",
     "output_type": "stream",
     "text": [
      "../sim/GELoadBalancer.py:90: DataConversionWarning: A column-vector y was passed when a 1d array was expected. Please change the shape of y to (n_samples,), for example using ravel().\n",
      "  #print(self.X.shape,self.y.shape)\n"
     ]
    },
    {
     "name": "stdout",
     "output_type": "stream",
     "text": [
      "17925 6 16 15465.0\n",
      "0.9994881065181185\n",
      "(445, 8) (445, 1)\n",
      "Max reward for 13730.8 16\n",
      "16\n"
     ]
    },
    {
     "name": "stderr",
     "output_type": "stream",
     "text": [
      "../sim/GELoadBalancer.py:90: DataConversionWarning: A column-vector y was passed when a 1d array was expected. Please change the shape of y to (n_samples,), for example using ravel().\n",
      "  #print(self.X.shape,self.y.shape)\n"
     ]
    },
    {
     "name": "stdout",
     "output_type": "stream",
     "text": [
      "18119 13 16 15589.0\n",
      "0.9994817633228088\n",
      "(446, 8) (446, 1)\n",
      "Max reward for 13692.2 17\n",
      "17\n"
     ]
    },
    {
     "name": "stderr",
     "output_type": "stream",
     "text": [
      "../sim/GELoadBalancer.py:90: DataConversionWarning: A column-vector y was passed when a 1d array was expected. Please change the shape of y to (n_samples,), for example using ravel().\n",
      "  #print(self.X.shape,self.y.shape)\n"
     ]
    },
    {
     "name": "stdout",
     "output_type": "stream",
     "text": [
      "18179 2 17 15609.0\n",
      "0.999318890450161\n",
      "(447, 8) (447, 1)\n",
      "Max reward for 13668.3 16\n",
      "16\n"
     ]
    },
    {
     "name": "stderr",
     "output_type": "stream",
     "text": [
      "../sim/GELoadBalancer.py:90: DataConversionWarning: A column-vector y was passed when a 1d array was expected. Please change the shape of y to (n_samples,), for example using ravel().\n",
      "  #print(self.X.shape,self.y.shape)\n"
     ]
    },
    {
     "name": "stdout",
     "output_type": "stream",
     "text": [
      "17874 9 16 15384.0\n",
      "0.9994126631843923\n",
      "(448, 8) (448, 1)\n",
      "Max reward for 13713.9 16\n",
      "16\n"
     ]
    },
    {
     "name": "stderr",
     "output_type": "stream",
     "text": [
      "../sim/GELoadBalancer.py:90: DataConversionWarning: A column-vector y was passed when a 1d array was expected. Please change the shape of y to (n_samples,), for example using ravel().\n",
      "  #print(self.X.shape,self.y.shape)\n"
     ]
    },
    {
     "name": "stdout",
     "output_type": "stream",
     "text": [
      "18032 8 16 15552.0\n",
      "0.9995484600943316\n",
      "(449, 8) (449, 1)\n",
      "Max reward for 13682.6 16\n",
      "16\n"
     ]
    },
    {
     "name": "stderr",
     "output_type": "stream",
     "text": [
      "../sim/GELoadBalancer.py:90: DataConversionWarning: A column-vector y was passed when a 1d array was expected. Please change the shape of y to (n_samples,), for example using ravel().\n",
      "  #print(self.X.shape,self.y.shape)\n"
     ]
    },
    {
     "name": "stdout",
     "output_type": "stream",
     "text": [
      "18042 11 16 15532.0\n",
      "0.9994985786130934\n",
      "(450, 8) (450, 1)\n",
      "Max reward for 13697.8 16\n",
      "16\n"
     ]
    },
    {
     "name": "stderr",
     "output_type": "stream",
     "text": [
      "../sim/GELoadBalancer.py:90: DataConversionWarning: A column-vector y was passed when a 1d array was expected. Please change the shape of y to (n_samples,), for example using ravel().\n",
      "  #print(self.X.shape,self.y.shape)\n"
     ]
    },
    {
     "name": "stdout",
     "output_type": "stream",
     "text": [
      "18017 9 16 15527.0\n",
      "0.9995744869199795\n",
      "(451, 8) (451, 1)\n",
      "Max reward for 13668.1 16\n",
      "16\n"
     ]
    },
    {
     "name": "stderr",
     "output_type": "stream",
     "text": [
      "../sim/GELoadBalancer.py:90: DataConversionWarning: A column-vector y was passed when a 1d array was expected. Please change the shape of y to (n_samples,), for example using ravel().\n",
      "  #print(self.X.shape,self.y.shape)\n"
     ]
    },
    {
     "name": "stdout",
     "output_type": "stream",
     "text": [
      "18127 25 16 15477.0\n",
      "0.9995480965678467\n",
      "(452, 8) (452, 1)\n",
      "Max reward for 13675.4 17\n",
      "17\n"
     ]
    },
    {
     "name": "stderr",
     "output_type": "stream",
     "text": [
      "../sim/GELoadBalancer.py:90: DataConversionWarning: A column-vector y was passed when a 1d array was expected. Please change the shape of y to (n_samples,), for example using ravel().\n",
      "  #print(self.X.shape,self.y.shape)\n"
     ]
    },
    {
     "name": "stdout",
     "output_type": "stream",
     "text": [
      "18058 0.0 17 15508.0\n",
      "0.9994918931896742\n",
      "(453, 8) (453, 1)\n",
      "18\n"
     ]
    },
    {
     "name": "stderr",
     "output_type": "stream",
     "text": [
      "../sim/GELoadBalancer.py:90: DataConversionWarning: A column-vector y was passed when a 1d array was expected. Please change the shape of y to (n_samples,), for example using ravel().\n",
      "  #print(self.X.shape,self.y.shape)\n"
     ]
    },
    {
     "name": "stdout",
     "output_type": "stream",
     "text": [
      "17934 0.0 18 15234.0\n",
      "0.9994270546184885\n",
      "(454, 8) (454, 1)\n",
      "Max reward for 13710.4 16\n",
      "16\n"
     ]
    },
    {
     "name": "stderr",
     "output_type": "stream",
     "text": [
      "../sim/GELoadBalancer.py:90: DataConversionWarning: A column-vector y was passed when a 1d array was expected. Please change the shape of y to (n_samples,), for example using ravel().\n",
      "  #print(self.X.shape,self.y.shape)\n"
     ]
    },
    {
     "name": "stdout",
     "output_type": "stream",
     "text": [
      "17883 2 16 15463.0\n",
      "0.999538862729324\n",
      "(455, 8) (455, 1)\n",
      "Max reward for 13737.5 16\n",
      "16\n"
     ]
    },
    {
     "name": "stderr",
     "output_type": "stream",
     "text": [
      "../sim/GELoadBalancer.py:90: DataConversionWarning: A column-vector y was passed when a 1d array was expected. Please change the shape of y to (n_samples,), for example using ravel().\n",
      "  #print(self.X.shape,self.y.shape)\n"
     ]
    },
    {
     "name": "stdout",
     "output_type": "stream",
     "text": [
      "18100 14 16 15560.0\n",
      "0.9995297763124683\n",
      "(456, 8) (456, 1)\n",
      "Max reward for 13716.3 16\n",
      "16\n"
     ]
    },
    {
     "name": "stderr",
     "output_type": "stream",
     "text": [
      "../sim/GELoadBalancer.py:90: DataConversionWarning: A column-vector y was passed when a 1d array was expected. Please change the shape of y to (n_samples,), for example using ravel().\n",
      "  #print(self.X.shape,self.y.shape)\n"
     ]
    },
    {
     "name": "stdout",
     "output_type": "stream",
     "text": [
      "18106 9 16 15616.0\n",
      "0.9994708641343849\n",
      "(457, 8) (457, 1)\n",
      "Max reward for 13727.0 17\n",
      "17\n"
     ]
    },
    {
     "name": "stderr",
     "output_type": "stream",
     "text": [
      "../sim/GELoadBalancer.py:90: DataConversionWarning: A column-vector y was passed when a 1d array was expected. Please change the shape of y to (n_samples,), for example using ravel().\n",
      "  #print(self.X.shape,self.y.shape)\n"
     ]
    },
    {
     "name": "stdout",
     "output_type": "stream",
     "text": [
      "18126 0.0 17 15576.0\n",
      "0.9995331837954678\n",
      "(458, 8) (458, 1)\n",
      "Max reward for 13699.6 16\n",
      "16\n"
     ]
    },
    {
     "name": "stderr",
     "output_type": "stream",
     "text": [
      "../sim/GELoadBalancer.py:90: DataConversionWarning: A column-vector y was passed when a 1d array was expected. Please change the shape of y to (n_samples,), for example using ravel().\n",
      "  #print(self.X.shape,self.y.shape)\n"
     ]
    },
    {
     "name": "stdout",
     "output_type": "stream",
     "text": [
      "17828 7 16 15358.0\n",
      "0.9995533561669819\n",
      "(459, 8) (459, 1)\n",
      "Max reward for 13787.1 16\n",
      "16\n"
     ]
    },
    {
     "name": "stderr",
     "output_type": "stream",
     "text": [
      "../sim/GELoadBalancer.py:90: DataConversionWarning: A column-vector y was passed when a 1d array was expected. Please change the shape of y to (n_samples,), for example using ravel().\n",
      "  #print(self.X.shape,self.y.shape)\n"
     ]
    },
    {
     "name": "stdout",
     "output_type": "stream",
     "text": [
      "18028 2 16 15608.0\n",
      "0.9994554451227134\n",
      "(460, 8) (460, 1)\n",
      "Max reward for 13713.5 16\n",
      "16\n"
     ]
    },
    {
     "name": "stderr",
     "output_type": "stream",
     "text": [
      "../sim/GELoadBalancer.py:90: DataConversionWarning: A column-vector y was passed when a 1d array was expected. Please change the shape of y to (n_samples,), for example using ravel().\n",
      "  #print(self.X.shape,self.y.shape)\n"
     ]
    },
    {
     "name": "stdout",
     "output_type": "stream",
     "text": [
      "18036 11 16 15526.0\n",
      "0.9991377632334122\n",
      "(461, 8) (461, 1)\n",
      "Max reward for 13718.0 16\n",
      "16\n"
     ]
    },
    {
     "name": "stderr",
     "output_type": "stream",
     "text": [
      "../sim/GELoadBalancer.py:90: DataConversionWarning: A column-vector y was passed when a 1d array was expected. Please change the shape of y to (n_samples,), for example using ravel().\n",
      "  #print(self.X.shape,self.y.shape)\n"
     ]
    },
    {
     "name": "stdout",
     "output_type": "stream",
     "text": [
      "18032 19 16 15442.0\n",
      "0.9995334647152555\n",
      "(462, 8) (462, 1)\n",
      "Max reward for 13670.5 17\n",
      "17\n"
     ]
    },
    {
     "name": "stderr",
     "output_type": "stream",
     "text": [
      "../sim/GELoadBalancer.py:90: DataConversionWarning: A column-vector y was passed when a 1d array was expected. Please change the shape of y to (n_samples,), for example using ravel().\n",
      "  #print(self.X.shape,self.y.shape)\n"
     ]
    },
    {
     "name": "stdout",
     "output_type": "stream",
     "text": [
      "17939 0.0 17 15389.0\n",
      "0.9994751622055413\n",
      "(463, 8) (463, 1)\n",
      "Max reward for 13746.2 16\n",
      "16\n"
     ]
    },
    {
     "name": "stderr",
     "output_type": "stream",
     "text": [
      "../sim/GELoadBalancer.py:90: DataConversionWarning: A column-vector y was passed when a 1d array was expected. Please change the shape of y to (n_samples,), for example using ravel().\n",
      "  #print(self.X.shape,self.y.shape)\n"
     ]
    },
    {
     "name": "stdout",
     "output_type": "stream",
     "text": [
      "18090 7 16 15620.0\n",
      "0.9994721358731635\n",
      "(464, 8) (464, 1)\n",
      "Max reward for 13701.8 16\n",
      "16\n"
     ]
    },
    {
     "name": "stderr",
     "output_type": "stream",
     "text": [
      "../sim/GELoadBalancer.py:90: DataConversionWarning: A column-vector y was passed when a 1d array was expected. Please change the shape of y to (n_samples,), for example using ravel().\n",
      "  #print(self.X.shape,self.y.shape)\n"
     ]
    },
    {
     "name": "stdout",
     "output_type": "stream",
     "text": [
      "18117 15 16 15567.0\n",
      "0.999385261377687\n",
      "(465, 8) (465, 1)\n",
      "Max reward for 13692.7 17\n",
      "17\n"
     ]
    },
    {
     "name": "stderr",
     "output_type": "stream",
     "text": [
      "../sim/GELoadBalancer.py:90: DataConversionWarning: A column-vector y was passed when a 1d array was expected. Please change the shape of y to (n_samples,), for example using ravel().\n",
      "  #print(self.X.shape,self.y.shape)\n"
     ]
    },
    {
     "name": "stdout",
     "output_type": "stream",
     "text": [
      "18132 0.0 17 15582.0\n",
      "0.9993724535649849\n",
      "(466, 8) (466, 1)\n",
      "Max reward for 13652.5 16\n",
      "16\n"
     ]
    },
    {
     "name": "stderr",
     "output_type": "stream",
     "text": [
      "../sim/GELoadBalancer.py:90: DataConversionWarning: A column-vector y was passed when a 1d array was expected. Please change the shape of y to (n_samples,), for example using ravel().\n",
      "  #print(self.X.shape,self.y.shape)\n"
     ]
    },
    {
     "name": "stdout",
     "output_type": "stream",
     "text": [
      "17919 4 16 15479.0\n",
      "0.9992277037812269\n",
      "(467, 8) (467, 1)\n",
      "Max reward for 13730.8 16\n",
      "16\n"
     ]
    },
    {
     "name": "stderr",
     "output_type": "stream",
     "text": [
      "../sim/GELoadBalancer.py:90: DataConversionWarning: A column-vector y was passed when a 1d array was expected. Please change the shape of y to (n_samples,), for example using ravel().\n",
      "  #print(self.X.shape,self.y.shape)\n"
     ]
    },
    {
     "name": "stdout",
     "output_type": "stream",
     "text": [
      "17852 4 16 15412.0\n",
      "0.9994689463297884\n",
      "(468, 8) (468, 1)\n",
      "Max reward for 13758.7 16\n",
      "16\n"
     ]
    },
    {
     "name": "stderr",
     "output_type": "stream",
     "text": [
      "../sim/GELoadBalancer.py:90: DataConversionWarning: A column-vector y was passed when a 1d array was expected. Please change the shape of y to (n_samples,), for example using ravel().\n",
      "  #print(self.X.shape,self.y.shape)\n"
     ]
    },
    {
     "name": "stdout",
     "output_type": "stream",
     "text": [
      "18208 11 16 15698.0\n",
      "0.9994347858616133\n",
      "(469, 8) (469, 1)\n",
      "Max reward for 13699.9 16\n",
      "16\n"
     ]
    },
    {
     "name": "stderr",
     "output_type": "stream",
     "text": [
      "../sim/GELoadBalancer.py:90: DataConversionWarning: A column-vector y was passed when a 1d array was expected. Please change the shape of y to (n_samples,), for example using ravel().\n",
      "  #print(self.X.shape,self.y.shape)\n"
     ]
    },
    {
     "name": "stdout",
     "output_type": "stream",
     "text": [
      "18055 6 16 15595.0\n",
      "0.9993065043522802\n",
      "(470, 8) (470, 1)\n",
      "Max reward for 13691.6 16\n",
      "16\n"
     ]
    },
    {
     "name": "stderr",
     "output_type": "stream",
     "text": [
      "../sim/GELoadBalancer.py:90: DataConversionWarning: A column-vector y was passed when a 1d array was expected. Please change the shape of y to (n_samples,), for example using ravel().\n",
      "  #print(self.X.shape,self.y.shape)\n"
     ]
    },
    {
     "name": "stdout",
     "output_type": "stream",
     "text": [
      "17974 5 16 15524.0\n",
      "0.999501943994386\n",
      "(471, 8) (471, 1)\n",
      "Max reward for 13790.8 16\n",
      "16\n"
     ]
    },
    {
     "name": "stderr",
     "output_type": "stream",
     "text": [
      "../sim/GELoadBalancer.py:90: DataConversionWarning: A column-vector y was passed when a 1d array was expected. Please change the shape of y to (n_samples,), for example using ravel().\n",
      "  #print(self.X.shape,self.y.shape)\n"
     ]
    },
    {
     "name": "stdout",
     "output_type": "stream",
     "text": [
      "17861 3 16 15431.0\n",
      "0.9994501843953193\n",
      "(472, 8) (472, 1)\n",
      "Max reward for 13769.8 16\n",
      "16\n"
     ]
    },
    {
     "name": "stderr",
     "output_type": "stream",
     "text": [
      "../sim/GELoadBalancer.py:90: DataConversionWarning: A column-vector y was passed when a 1d array was expected. Please change the shape of y to (n_samples,), for example using ravel().\n",
      "  #print(self.X.shape,self.y.shape)\n"
     ]
    },
    {
     "name": "stdout",
     "output_type": "stream",
     "text": [
      "18022 10 16 15522.0\n",
      "0.999493881476415\n",
      "(473, 8) (473, 1)\n",
      "Max reward for 13705.1 16\n",
      "16\n"
     ]
    },
    {
     "name": "stderr",
     "output_type": "stream",
     "text": [
      "../sim/GELoadBalancer.py:90: DataConversionWarning: A column-vector y was passed when a 1d array was expected. Please change the shape of y to (n_samples,), for example using ravel().\n",
      "  #print(self.X.shape,self.y.shape)\n"
     ]
    },
    {
     "name": "stdout",
     "output_type": "stream",
     "text": [
      "17830 2 16 15410.0\n",
      "0.9993896178961528\n",
      "(474, 8) (474, 1)\n",
      "Max reward for 13739.1 16\n",
      "16\n"
     ]
    },
    {
     "name": "stderr",
     "output_type": "stream",
     "text": [
      "../sim/GELoadBalancer.py:90: DataConversionWarning: A column-vector y was passed when a 1d array was expected. Please change the shape of y to (n_samples,), for example using ravel().\n",
      "  #print(self.X.shape,self.y.shape)\n"
     ]
    },
    {
     "name": "stdout",
     "output_type": "stream",
     "text": [
      "17934 8 16 15454.0\n",
      "0.9994830740010562\n",
      "(475, 8) (475, 1)\n",
      "Max reward for 13755.9 16\n",
      "16\n"
     ]
    },
    {
     "name": "stderr",
     "output_type": "stream",
     "text": [
      "../sim/GELoadBalancer.py:90: DataConversionWarning: A column-vector y was passed when a 1d array was expected. Please change the shape of y to (n_samples,), for example using ravel().\n",
      "  #print(self.X.shape,self.y.shape)\n"
     ]
    },
    {
     "name": "stdout",
     "output_type": "stream",
     "text": [
      "17932 4 16 15492.0\n",
      "0.9995234659322748\n",
      "(476, 8) (476, 1)\n",
      "Max reward for 13735.1 16\n",
      "16\n"
     ]
    },
    {
     "name": "stderr",
     "output_type": "stream",
     "text": [
      "../sim/GELoadBalancer.py:90: DataConversionWarning: A column-vector y was passed when a 1d array was expected. Please change the shape of y to (n_samples,), for example using ravel().\n",
      "  #print(self.X.shape,self.y.shape)\n"
     ]
    },
    {
     "name": "stdout",
     "output_type": "stream",
     "text": [
      "17983 13 16 15453.0\n",
      "0.9995404254490342\n",
      "(477, 8) (477, 1)\n",
      "27\n"
     ]
    },
    {
     "name": "stderr",
     "output_type": "stream",
     "text": [
      "../sim/GELoadBalancer.py:90: DataConversionWarning: A column-vector y was passed when a 1d array was expected. Please change the shape of y to (n_samples,), for example using ravel().\n",
      "  #print(self.X.shape,self.y.shape)\n"
     ]
    },
    {
     "name": "stdout",
     "output_type": "stream",
     "text": [
      "17963 0.0 27 13913.0\n",
      "0.9995393098472583\n",
      "(478, 8) (478, 1)\n",
      "Max reward for 13725.0 16\n",
      "16\n"
     ]
    },
    {
     "name": "stderr",
     "output_type": "stream",
     "text": [
      "../sim/GELoadBalancer.py:90: DataConversionWarning: A column-vector y was passed when a 1d array was expected. Please change the shape of y to (n_samples,), for example using ravel().\n",
      "  #print(self.X.shape,self.y.shape)\n"
     ]
    },
    {
     "name": "stdout",
     "output_type": "stream",
     "text": [
      "17927 7 16 15457.0\n",
      "0.9995474187956336\n",
      "(479, 8) (479, 1)\n",
      "Max reward for 13754.8 16\n",
      "16\n"
     ]
    },
    {
     "name": "stderr",
     "output_type": "stream",
     "text": [
      "../sim/GELoadBalancer.py:90: DataConversionWarning: A column-vector y was passed when a 1d array was expected. Please change the shape of y to (n_samples,), for example using ravel().\n",
      "  #print(self.X.shape,self.y.shape)\n"
     ]
    },
    {
     "data": {
      "text/plain": [
       "<sim.Environment.Environment at 0x7fe4ec13c340>"
      ]
     },
     "execution_count": 36,
     "metadata": {},
     "output_type": "execute_result"
    }
   ],
   "source": [
    "from sklearn.linear_model import LinearRegression\n",
    "from sklearn.tree import DecisionTreeRegressor\n",
    "from sklearn.neural_network import MLPRegressor\n",
    "from sklearn.ensemble import RandomForestRegressor\n",
    "\n",
    "stopTime = 10*24*60*60\n",
    "env = Environment(stopTime=stopTime)\n",
    "\n",
    "#model = LinearRegression()\n",
    "#model = DecisionTreeRegressor()\n",
    "#model  = MLPRegressor(hidden_layer_sizes=[10], activation='tanh')\n",
    "model  = RandomForestRegressor(n_estimators=10)\n",
    "eta = lambda t: sigmoid(2-0.01*t)\n",
    "#eta = 0.4\n",
    "#sigmoid(2/(0.1*t+2)-0.5)\n",
    "periodLength = 0.5*60*60 #half an hour per period -> schedule repeated two times in 12 hours\n",
    "loadBalancer = GreedyEpsilonLoadBalancer(nServers=10, environment=env, model = model, eta=eta, nServerRange=[10,30], usePartialFit=False, periodLength=periodLength)\n",
    "\n",
    "requestTypes = [(0.5,1,0.1,10), (0.5,2,0.2,10)] #(prob, mu, sigma, cancelTime)\n",
    "arrivalsPerSecond = 10\n",
    "source = Source(arrivalsPerSecond, requestTypes, loadBalancer, env)\n",
    "\n",
    "schedule = np.array([arrivalsPerSecond]) #12 periods\n",
    "arrivalSchedule = ArrivalSchedule(periodLength,arrivalSchedule=schedule, environment=env, loadBalancer=loadBalancer, source=source)\n",
    "env.run(debug=False)"
   ]
  },
  {
   "cell_type": "code",
   "execution_count": 23,
   "metadata": {},
   "outputs": [
    {
     "data": {
      "text/html": [
       "<div>\n",
       "<style scoped>\n",
       "    .dataframe tbody tr th:only-of-type {\n",
       "        vertical-align: middle;\n",
       "    }\n",
       "\n",
       "    .dataframe tbody tr th {\n",
       "        vertical-align: top;\n",
       "    }\n",
       "\n",
       "    .dataframe thead th {\n",
       "        text-align: right;\n",
       "    }\n",
       "</style>\n",
       "<table border=\"1\" class=\"dataframe\">\n",
       "  <thead>\n",
       "    <tr style=\"text-align: right;\">\n",
       "      <th></th>\n",
       "      <th>0</th>\n",
       "      <th>1</th>\n",
       "      <th>2</th>\n",
       "      <th>3</th>\n",
       "      <th>4</th>\n",
       "      <th>5</th>\n",
       "      <th>6</th>\n",
       "      <th>7</th>\n",
       "    </tr>\n",
       "  </thead>\n",
       "  <tbody>\n",
       "    <tr>\n",
       "      <th>0</th>\n",
       "      <td>41.078801</td>\n",
       "      <td>18061.0</td>\n",
       "      <td>18061.0</td>\n",
       "      <td>3.999437</td>\n",
       "      <td>17998.0</td>\n",
       "      <td>5.496484</td>\n",
       "      <td>1058.0</td>\n",
       "      <td>10.0</td>\n",
       "    </tr>\n",
       "    <tr>\n",
       "      <th>1</th>\n",
       "      <td>40.731452</td>\n",
       "      <td>17998.0</td>\n",
       "      <td>17998.0</td>\n",
       "      <td>3.987708</td>\n",
       "      <td>18013.0</td>\n",
       "      <td>5.490252</td>\n",
       "      <td>1063.0</td>\n",
       "      <td>25.0</td>\n",
       "    </tr>\n",
       "    <tr>\n",
       "      <th>2</th>\n",
       "      <td>1.895238</td>\n",
       "      <td>17946.0</td>\n",
       "      <td>17946.0</td>\n",
       "      <td>0.023889</td>\n",
       "      <td>17978.0</td>\n",
       "      <td>1.529167</td>\n",
       "      <td>4.0</td>\n",
       "      <td>13.0</td>\n",
       "    </tr>\n",
       "    <tr>\n",
       "      <th>3</th>\n",
       "      <td>39.610290</td>\n",
       "      <td>17917.0</td>\n",
       "      <td>17917.0</td>\n",
       "      <td>3.911379</td>\n",
       "      <td>17876.0</td>\n",
       "      <td>5.400392</td>\n",
       "      <td>521.0</td>\n",
       "      <td>23.0</td>\n",
       "    </tr>\n",
       "    <tr>\n",
       "      <th>4</th>\n",
       "      <td>2.302510</td>\n",
       "      <td>18000.0</td>\n",
       "      <td>18000.0</td>\n",
       "      <td>0.058628</td>\n",
       "      <td>18040.0</td>\n",
       "      <td>1.559644</td>\n",
       "      <td>4.0</td>\n",
       "      <td>21.0</td>\n",
       "    </tr>\n",
       "    <tr>\n",
       "      <th>5</th>\n",
       "      <td>1.870924</td>\n",
       "      <td>17974.0</td>\n",
       "      <td>17974.0</td>\n",
       "      <td>0.082791</td>\n",
       "      <td>17976.0</td>\n",
       "      <td>1.583690</td>\n",
       "      <td>0.0</td>\n",
       "      <td>30.0</td>\n",
       "    </tr>\n",
       "    <tr>\n",
       "      <th>6</th>\n",
       "      <td>0.718750</td>\n",
       "      <td>17986.0</td>\n",
       "      <td>17986.0</td>\n",
       "      <td>0.000595</td>\n",
       "      <td>17981.0</td>\n",
       "      <td>1.503360</td>\n",
       "      <td>0.0</td>\n",
       "      <td>27.0</td>\n",
       "    </tr>\n",
       "    <tr>\n",
       "      <th>7</th>\n",
       "      <td>0.756250</td>\n",
       "      <td>17889.0</td>\n",
       "      <td>17889.0</td>\n",
       "      <td>0.002467</td>\n",
       "      <td>17897.0</td>\n",
       "      <td>1.497113</td>\n",
       "      <td>0.0</td>\n",
       "      <td>21.0</td>\n",
       "    </tr>\n",
       "    <tr>\n",
       "      <th>8</th>\n",
       "      <td>1.649328</td>\n",
       "      <td>18024.0</td>\n",
       "      <td>18024.0</td>\n",
       "      <td>0.075194</td>\n",
       "      <td>18014.0</td>\n",
       "      <td>1.570804</td>\n",
       "      <td>0.0</td>\n",
       "      <td>15.0</td>\n",
       "    </tr>\n",
       "    <tr>\n",
       "      <th>9</th>\n",
       "      <td>28.722877</td>\n",
       "      <td>18128.0</td>\n",
       "      <td>18128.0</td>\n",
       "      <td>2.764029</td>\n",
       "      <td>18100.0</td>\n",
       "      <td>4.258687</td>\n",
       "      <td>141.0</td>\n",
       "      <td>25.0</td>\n",
       "    </tr>\n",
       "  </tbody>\n",
       "</table>\n",
       "</div>"
      ],
      "text/plain": [
       "           0        1        2         3        4         5       6     7\n",
       "0  41.078801  18061.0  18061.0  3.999437  17998.0  5.496484  1058.0  10.0\n",
       "1  40.731452  17998.0  17998.0  3.987708  18013.0  5.490252  1063.0  25.0\n",
       "2   1.895238  17946.0  17946.0  0.023889  17978.0  1.529167     4.0  13.0\n",
       "3  39.610290  17917.0  17917.0  3.911379  17876.0  5.400392   521.0  23.0\n",
       "4   2.302510  18000.0  18000.0  0.058628  18040.0  1.559644     4.0  21.0\n",
       "5   1.870924  17974.0  17974.0  0.082791  17976.0  1.583690     0.0  30.0\n",
       "6   0.718750  17986.0  17986.0  0.000595  17981.0  1.503360     0.0  27.0\n",
       "7   0.756250  17889.0  17889.0  0.002467  17897.0  1.497113     0.0  21.0\n",
       "8   1.649328  18024.0  18024.0  0.075194  18014.0  1.570804     0.0  15.0\n",
       "9  28.722877  18128.0  18128.0  2.764029  18100.0  4.258687   141.0  25.0"
      ]
     },
     "execution_count": 23,
     "metadata": {},
     "output_type": "execute_result"
    }
   ],
   "source": [
    "import pandas as pd\n",
    "pd.DataFrame(list(loadBalancer.X)).head(10)"
   ]
  },
  {
   "cell_type": "code",
   "execution_count": 24,
   "metadata": {},
   "outputs": [
    {
     "name": "stdout",
     "output_type": "stream",
     "text": [
      "(480, 8) (479, 1)\n"
     ]
    }
   ],
   "source": [
    "print(loadBalancer.X.shape, loadBalancer.y.shape)\n"
   ]
  },
  {
   "cell_type": "code",
   "execution_count": 37,
   "metadata": {},
   "outputs": [
    {
     "data": {
      "text/plain": [
       "[<matplotlib.lines.Line2D at 0x7fe6e727fb80>]"
      ]
     },
     "execution_count": 37,
     "metadata": {},
     "output_type": "execute_result"
    },
    {
     "data": {
      "image/png": "[encoded data removed]",
      "text/plain": [
       "<Figure size 432x288 with 1 Axes>"
      ]
     },
     "metadata": {
      "needs_background": "light"
     },
     "output_type": "display_data"
    }
   ],
   "source": [
    "X = loadBalancer.X[-100,:]\n",
    "X\n",
    "pred = []\n",
    "for n  in range(0,40):\n",
    "    X_ = np.append(X[:-1], n)\n",
    "    rewardHat = loadBalancer.model.predict(X_[None,:])[0]\n",
    "    pred.append(rewardHat)\n",
    "\n",
    "plt.plot(range(0,40), pred)"
   ]
  },
  {
   "cell_type": "code",
   "execution_count": 14,
   "metadata": {},
   "outputs": [
    {
     "data": {
      "image/png": "[encoded data removed]",
      "text/plain": [
       "<Figure size 432x288 with 1 Axes>"
      ]
     },
     "metadata": {
      "needs_background": "light"
     },
     "output_type": "display_data"
    }
   ],
   "source": [
    "plt.hist(env.logTime['arrivalEvent'], bins=7*24);"
   ]
  },
  {
   "cell_type": "code",
   "execution_count": 15,
   "metadata": {},
   "outputs": [
    {
     "data": {
      "text/plain": [
       "<matplotlib.collections.PathCollection at 0x7fe6e7225d30>"
      ]
     },
     "execution_count": 15,
     "metadata": {},
     "output_type": "execute_result"
    },
    {
     "data": {
      "image/png": "[encoded data removed]",
      "text/plain": [
       "<Figure size 432x288 with 1 Axes>"
      ]
     },
     "metadata": {
      "needs_background": "light"
     },
     "output_type": "display_data"
    }
   ],
   "source": [
    "plt.scatter(env.log['numberOfServers'][::2], env.log['reward'])"
   ]
  },
  {
   "cell_type": "code",
   "execution_count": 38,
   "metadata": {},
   "outputs": [
    {
     "data": {
      "image/png": "[encoded data removed]",
      "text/plain": [
       "<Figure size 432x288 with 1 Axes>"
      ]
     },
     "metadata": {
      "needs_background": "light"
     },
     "output_type": "display_data"
    },
    {
     "data": {
      "image/png": "[encoded data removed]",
      "text/plain": [
       "<Figure size 432x288 with 1 Axes>"
      ]
     },
     "metadata": {
      "needs_background": "light"
     },
     "output_type": "display_data"
    },
    {
     "data": {
      "image/png": "[encoded data removed]",
      "text/plain": [
       "<Figure size 432x288 with 1 Axes>"
      ]
     },
     "metadata": {
      "needs_background": "light"
     },
     "output_type": "display_data"
    },
    {
     "data": {
      "image/png": "[encoded data removed]",
      "text/plain": [
       "<Figure size 432x288 with 1 Axes>"
      ]
     },
     "metadata": {
      "needs_background": "light"
     },
     "output_type": "display_data"
    },
    {
     "data": {
      "image/png": "[encoded data removed]",
      "text/plain": [
       "<Figure size 432x288 with 1 Axes>"
      ]
     },
     "metadata": {
      "needs_background": "light"
     },
     "output_type": "display_data"
    },
    {
     "data": {
      "image/png": "[encoded data removed]",
      "text/plain": [
       "<Figure size 432x288 with 1 Axes>"
      ]
     },
     "metadata": {
      "needs_background": "light"
     },
     "output_type": "display_data"
    },
    {
     "data": {
      "image/png": "[encoded data removed]",
      "text/plain": [
       "<Figure size 432x288 with 1 Axes>"
      ]
     },
     "metadata": {
      "needs_background": "light"
     },
     "output_type": "display_data"
    }
   ],
   "source": [
    "plt.plot(env.log['eta'])\n",
    "plt.figure()\n",
    "plt.plot(env.log['numberOfServers'])\n",
    "plt.figure()\n",
    "plt.plot(env.log['greedyEpsilonActionType'])\n",
    "plt.figure()\n",
    "plt.plot(env.log['reward'])\n",
    "plt.figure()\n",
    "plt.hist(env.logTime['arrivalEvent'], bins=int(stopTime/60/60));\n",
    "plt.figure()\n",
    "plt.hist(env.logTime['requestProcessed'], bins=int(stopTime/60/60));\n",
    "plt.figure()\n",
    "plt.hist(env.logTime['requestCancelled'], bins=int(stopTime/60/60));"
   ]
  },
  {
   "cell_type": "code",
   "execution_count": 41,
   "metadata": {},
   "outputs": [
    {
     "data": {
      "text/plain": [
       "[<matplotlib.lines.Line2D at 0x7fe4330ed0d0>]"
      ]
     },
     "execution_count": 41,
     "metadata": {},
     "output_type": "execute_result"
    },
    {
     "data": {
      "image/png": "[encoded data removed]",
      "text/plain": [
       "<Figure size 432x288 with 1 Axes>"
      ]
     },
     "metadata": {
      "needs_background": "light"
     },
     "output_type": "display_data"
    }
   ],
   "source": [
    "plt.plot(np.array(env.log['reward'])[np.array(env.log['greedyEpsilonActionType'])==1.0])"
   ]
  },
  {
   "cell_type": "code",
   "execution_count": 40,
   "metadata": {},
   "outputs": [
    {
     "data": {
      "text/plain": [
       "[<matplotlib.lines.Line2D at 0x7fe43309b4c0>]"
      ]
     },
     "execution_count": 40,
     "metadata": {},
     "output_type": "execute_result"
    },
    {
     "data": {
      "image/png": "[encoded data removed]",
      "text/plain": [
       "<Figure size 432x288 with 1 Axes>"
      ]
     },
     "metadata": {
      "needs_background": "light"
     },
     "output_type": "display_data"
    }
   ],
   "source": [
    "plt.plot(np.array(env.log['numberOfServers'][::2])[np.array(env.log['greedyEpsilonActionType'])==1.0])"
   ]
  },
  {
   "cell_type": "code",
   "execution_count": 19,
   "metadata": {},
   "outputs": [
    {
     "data": {
      "text/plain": [
       "Text(0, 0.5, 'y')"
      ]
     },
     "execution_count": 19,
     "metadata": {},
     "output_type": "execute_result"
    },
    {
     "data": {
      "image/png": "[encoded data removed]",
      "text/plain": [
       "<Figure size 432x288 with 1 Axes>"
      ]
     },
     "metadata": {
      "needs_background": "light"
     },
     "output_type": "display_data"
    }
   ],
   "source": [
    "plt.scatter(loadBalancer.X[:-1,2],loadBalancer.y)\n",
    "plt.xlabel('x')\n",
    "plt.ylabel('y')"
   ]
  },
  {
   "cell_type": "code",
   "execution_count": 52,
   "metadata": {},
   "outputs": [
    {
     "data": {
      "text/plain": [
       "<matplotlib.collections.PathCollection at 0x7fcc143d57f0>"
      ]
     },
     "execution_count": 52,
     "metadata": {},
     "output_type": "execute_result"
    },
    {
     "data": {
      "image/png": "[encoded data removed]",
      "text/plain": [
       "<Figure size 432x288 with 1 Axes>"
      ]
     },
     "metadata": {
      "needs_background": "light"
     },
     "output_type": "display_data"
    }
   ],
   "source": [
    "plt.scatter(env.log['numberOfServers'][0::2],env.log['reward'])"
   ]
  },
  {
   "cell_type": "code",
   "execution_count": 31,
   "metadata": {},
   "outputs": [
    {
     "data": {
      "text/plain": [
       "[<matplotlib.lines.Line2D at 0x7fccd9696160>]"
      ]
     },
     "execution_count": 31,
     "metadata": {},
     "output_type": "execute_result"
    },
    {
     "data": {
      "image/png": "[encoded data removed]",
      "text/plain": [
       "<Figure size 432x288 with 1 Axes>"
      ]
     },
     "metadata": {
      "needs_background": "light"
     },
     "output_type": "display_data"
    }
   ],
   "source": [
    "\n",
    "def sigmoid(x):\n",
    "      return 1 / (1 + np.exp(-x))\n",
    "\n",
    "x = np.arange(0,120,1)\n",
    "plt.plot(x, sigmoid(2/(0.1*x+2)-0.5))\n",
    "plt.plot(x, sigmoid(1-0.1*x))"
   ]
  },
  {
   "cell_type": "code",
   "execution_count": 34,
   "metadata": {},
   "outputs": [
    {
     "data": {
      "text/plain": [
       "[<matplotlib.lines.Line2D at 0x7fe4ec0ab340>]"
      ]
     },
     "execution_count": 34,
     "metadata": {},
     "output_type": "execute_result"
    },
    {
     "data": {
      "image/png": "[encoded data removed]",
      "text/plain": [
       "<Figure size 432x288 with 1 Axes>"
      ]
     },
     "metadata": {
      "needs_background": "light"
     },
     "output_type": "display_data"
    }
   ],
   "source": [
    "x = np.arange(0,1000,1)\n",
    "plt.plot(x, sigmoid(2-0.01*x))"
   ]
  },
  {
   "cell_type": "code",
   "execution_count": 43,
   "metadata": {},
   "outputs": [
    {
     "data": {
      "text/plain": [
       "array([1.65307145e+01, 1.80810000e+04, 1.80810000e+04, 1.51028865e+00,\n",
       "       1.80750000e+04, 3.01130382e+00, 1.70000000e+01])"
      ]
     },
     "execution_count": 43,
     "metadata": {},
     "output_type": "execute_result"
    }
   ],
   "source": [
    "loadBalancer.X[-100,:-1]"
   ]
  },
  {
   "cell_type": "code",
   "execution_count": 52,
   "metadata": {},
   "outputs": [
    {
     "name": "stdout",
     "output_type": "stream",
     "text": [
      "0.5027222222222223\n"
     ]
    },
    {
     "data": {
      "text/plain": [
       "12.461976998873004"
      ]
     },
     "execution_count": 52,
     "metadata": {},
     "output_type": "execute_result"
    }
   ],
   "source": [
    "A = np.array([0,0.1,0,0,0,0,0.1])\n",
    "print(loadBalancer.X[-100,:-1]@A/60/60)\n",
    "sigmoid(loadBalancer.X[-100,:-1]@A/60/60) * 20"
   ]
  },
  {
   "cell_type": "code",
   "execution_count": 53,
   "metadata": {},
   "outputs": [
    {
     "data": {
      "text/plain": [
       "array([1.65307145e+01, 1.80810000e+04, 1.80810000e+04, 1.51028865e+00,\n",
       "       1.80750000e+04, 3.01130382e+00, 1.70000000e+01])"
      ]
     },
     "execution_count": 53,
     "metadata": {},
     "output_type": "execute_result"
    }
   ],
   "source": [
    "loadBalancer.X[-100,:-1]"
   ]
  },
  {
   "cell_type": "code",
   "execution_count": 54,
   "metadata": {},
   "outputs": [
    {
     "data": {
      "text/plain": [
       "18081.0"
      ]
     },
     "execution_count": 54,
     "metadata": {},
     "output_type": "execute_result"
    }
   ],
   "source": [
    "1.80810000e+04"
   ]
  },
  {
   "cell_type": "code",
   "execution_count": null,
   "metadata": {},
   "outputs": [],
   "source": []
  }
 ],
 "metadata": {
  "kernelspec": {
   "display_name": "base",
   "language": "python",
   "name": "python3"
  },
  "language_info": {
   "codemirror_mode": {
    "name": "ipython",
    "version": 3
   },
   "file_extension": ".py",
   "mimetype": "text/x-python",
   "name": "python",
   "nbconvert_exporter": "python",
   "pygments_lexer": "ipython3",
   "version": "3.8.3 (default, Jul  2 2020, 11:26:31) \n[Clang 10.0.0 ]"
  },
  "orig_nbformat": 4,
  "vscode": {
   "interpreter": {
    "hash": "2ed55c8a3b358c2f14bd6337b3a23ad56aa9692a3206675e532b0b29d35d2a5c"
   }
  }
 },
 "nbformat": 4,
 "nbformat_minor": 2
}
