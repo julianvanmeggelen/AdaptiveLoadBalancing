{
 "cells": [
  {
   "cell_type": "code",
   "execution_count": 1,
   "metadata": {},
   "outputs": [],
   "source": [
    "%load_ext autoreload\n",
    "%autoreload 2\n",
    "import sys\n",
    "sys.path.insert(0, '..')\n",
    "\n",
    "from sim.LoadBalancer import LoadBalancer\n",
    "from sim.Source import ArrivalSchedule, Source\n",
    "from sim.Environment import Environment\n",
    "import numpy as np\n",
    "import random\n",
    "import matplotlib.pyplot as plt\n",
    "import math"
   ]
  },
  {
   "attachments": {},
   "cell_type": "markdown",
   "metadata": {},
   "source": [
    "### Implementing the Epsilon Greedy algorithm in our LoadBalancer structure\n",
    "We use the LoadBalancer as the base class and import the epsilong greedy algorithm"
   ]
  },
  {
   "cell_type": "code",
   "execution_count": 98,
   "metadata": {},
   "outputs": [],
   "source": [
    "class GreedyEpsilonLoadBalancer(LoadBalancer):\n",
    "    def __init__(self, nServers, environment, model, processReward=1, cancelReward=-10, serverReward=-300, eta=0.15, nServerRange = (1,40), usePartialFit=False, periodLength =1):\n",
    "        \"\"\"\n",
    "            model: obj with methods predict, fit, fit_partial etc.\n",
    "            eta: float or callable(periodIndex: int -> float)\n",
    "        \"\"\"\n",
    "        super().__init__(nServers, environment)\n",
    "        self.model = model # a model that takes (N_t, X_t) and predicts the reward of the next time period\n",
    "        self.agg = {'totalInQueue': np.mean,'requestStartWaiting':np.sum,'arrivalEvent':np.sum,'requestWaitingTime': np.mean,'requestProcessed':np.sum,'totalTimeInSystem':np.mean,'requestCancelled':np.sum}\n",
    "        self.currentPeriod = 0\n",
    "        self.processReward, self.cancelReward, self.serverReward = processReward, cancelReward, serverReward\n",
    "        self.eta = eta\n",
    "        self.nServerRange = nServerRange #the range for the bernoulli to sample from\n",
    "        self.usePartialFit = usePartialFit\n",
    "        self.periodLength = periodLength\n",
    "        self.X = None #store the complete feature dataset here\n",
    "        self.y = None #store the complete target dataset here s\n",
    "\n",
    "    def getEta(self):\n",
    "        if callable(self.eta):\n",
    "            return self.eta(self.currentPeriod)\n",
    "        else:\n",
    "            return self.eta\n",
    "\n",
    "    def getPreviousPeriodContext(self):\n",
    "        \"\"\"\n",
    "        Get the context from the period that just ended (potentially add lags here from previous periods)\n",
    "        \"\"\"\n",
    "        previousPeriodData = self.environment.getPeriodLog() #returns {key: values}\n",
    "        previousPeriodContext = {key: self.agg[key](vals) for key,vals in previousPeriodData.items() if key in self.agg.keys()} #apply aggregation: go from lists to scalars\n",
    "        previousPeriodContext ={key:val if not np.isnan(val) else 0 for key,val in previousPeriodContext.items()}\n",
    "        previousPeriodContext ={key:previousPeriodContext[key] if key in previousPeriodContext.keys() else 0 for key in self.agg.keys()}\n",
    "\n",
    "        self.environment.resetPeriod()\n",
    "        return previousPeriodContext\n",
    "\n",
    "    def getPreviousPeriodReward(self, context: dict):\n",
    "        \"\"\"\n",
    "        Get the reward of the period that just ended\n",
    "        \"\"\"\n",
    "        nProcessed = context['requestProcessed']\n",
    "        nCancelled = context['requestCancelled'] if 'requestCancelled' in context.keys() else 0\n",
    "        nServers = self.nServers\n",
    "        reward = nProcessed * self.processReward + nCancelled * self.cancelReward + self.periodLength/60/60*nServers*self.serverReward\n",
    "        print(nProcessed, nCancelled, nServers, reward)\n",
    "        return reward\n",
    "\n",
    "    def findModelOptimum(self, context):\n",
    "        max = -math.inf\n",
    "        maxArg = 0\n",
    "        for n in range(self.nServerRange[0], self.nServerRange[1]): #implement better optimization here\n",
    "            X =  np.append(np.array(list(context.values())), n)\n",
    "            rewardHat = self.model.predict(X[None,:])[0]\n",
    "            if rewardHat > max:\n",
    "                maxArg = n\n",
    "                max = rewardHat\n",
    "        print(\"Max reward for\", rewardHat, maxArg)\n",
    "        return maxArg\n",
    "\n",
    "    def getNextPeriodNumberOfServers(self, context):\n",
    "        #take random action or input the context into the model and maximizy the output w.r.t N\n",
    "        draw = random.random()\n",
    "        eta = self.getEta()\n",
    "        self.environment.logData('eta', eta)\n",
    "        nServers = None\n",
    "        if draw < eta or self.currentPeriod <= 1: #on first iteration the model is not fitted\n",
    "            #Take random action\n",
    "            self.environment.logData(\"greedyEpsilonActionType\", 0)\n",
    "            nServers = random.randint(self.nServerRange[0], self.nServerRange[1])\n",
    "        else:\n",
    "            self.environment.logData(\"greedyEpsilonActionType\", 1)\n",
    "            nServers = self.findModelOptimum(context) \n",
    "\n",
    "        return nServers\n",
    "        \n",
    "    def updateModel(self, context, reward):\n",
    "        #update the model using the context, nServers and observed reward\n",
    "        if self.currentPeriod > 0:\n",
    "            newY = np.array([reward])\n",
    "            self.y = np.append(self.y, newY[None,:], axis=0) if self.y is not None else newY[None,:]\n",
    "            if not self.usePartialFit:\n",
    "                #print(self.X.shape,self.y.shape)\n",
    "                self.model = self.model.fit(self.X, self.y) #make sure the hat the last period x is ignored\n",
    "                print(self.model.score(self.X, self.y))\n",
    "            else:\n",
    "                self.model = self.model.partial_fit(self.X, self.y) #make sure the hat the last period x is ignored\n",
    "                print(self.model.score(self.X, self.y))\n",
    "\n",
    "    def updateX(self, context, nOptimal):\n",
    "        newX = np.array(list(context.values()) + [nOptimal]) #+ [reward] #add the current nServers to X\n",
    "        self.X = np.append(self.X, newX[None,:], axis=0) if self.X is not None else newX[None,:] #update the data \n",
    "\n",
    "    def onPeriodEnd(self):\n",
    "        #Get the reward of the current period\n",
    "        previousPeriodContext = self.getPreviousPeriodContext()\n",
    "        #print(previousPeriodContext)\n",
    "        previousPeriodReward = self.getPreviousPeriodReward(previousPeriodContext)\n",
    "        self.environment.logData(\"reward\", previousPeriodReward)\n",
    "        self.updateModel(previousPeriodContext, previousPeriodReward)\n",
    "        if self.currentPeriod>0:print(self.X.shape,self.y.shape)\n",
    "        nextPeriodNServers = self.getNextPeriodNumberOfServers(previousPeriodContext)\n",
    "        self._setNumberOfServers(nextPeriodNServers)\n",
    "        self.updateX(previousPeriodContext, nextPeriodNServers)\n",
    "        self.currentPeriod+=1\n",
    "        print(self.nServers)\n",
    "\n"
   ]
  },
  {
   "attachments": {},
   "cell_type": "markdown",
   "metadata": {},
   "source": [
    "### Test for fixed rate"
   ]
  },
  {
   "cell_type": "code",
   "execution_count": 17,
   "metadata": {},
   "outputs": [
    {
     "name": "stdout",
     "output_type": "stream",
     "text": [
      "17\n"
     ]
    }
   ],
   "source": [
    "from BinarySearch import binaryServerSearch\n",
    "\n",
    "opt = binaryServerSearch(10,[0,40])\n",
    "print(opt)"
   ]
  },
  {
   "cell_type": "code",
   "execution_count": 4,
   "metadata": {},
   "outputs": [],
   "source": [
    "def sigmoid(x):\n",
    "      return 1 / (1 + np.exp(-x))"
   ]
  },
  {
   "cell_type": "code",
   "execution_count": 99,
   "metadata": {},
   "outputs": [
    {
     "name": "stdout",
     "output_type": "stream",
     "text": [
      "36016 2077 10 15245.166666666666\n",
      "19\n",
      "36133 18 19 35951.416666666664\n",
      "nan\n",
      "(1, 8) (1, 1)\n",
      "15\n"
     ]
    },
    {
     "name": "stderr",
     "output_type": "stream",
     "text": [
      "<ipython-input-98-9b8b24af2459>:83: DataConversionWarning: A column-vector y was passed when a 1d array was expected. Please change the shape of y to (n_samples,), for example using ravel().\n",
      "  self.model = self.model.fit(self.X, self.y) #make sure the hat the last period x is ignored\n",
      "/Users/julianvanmeggelen/opt/anaconda3/lib/python3.8/site-packages/sklearn/metrics/_regression.py:682: UndefinedMetricWarning: R^2 score is not well-defined with less than two samples.\n",
      "  warnings.warn(msg, UndefinedMetricWarning)\n"
     ]
    },
    {
     "name": "stdout",
     "output_type": "stream",
     "text": [
      "36018 219 15 33826.75\n",
      "0.6000000000000028\n",
      "(2, 8) (2, 1)\n",
      "14\n"
     ]
    },
    {
     "name": "stderr",
     "output_type": "stream",
     "text": [
      "<ipython-input-98-9b8b24af2459>:83: DataConversionWarning: A column-vector y was passed when a 1d array was expected. Please change the shape of y to (n_samples,), for example using ravel().\n",
      "  self.model = self.model.fit(self.X, self.y) #make sure the hat the last period x is ignored\n"
     ]
    },
    {
     "name": "stdout",
     "output_type": "stream",
     "text": [
      "35954 641 14 29542.833333333332\n",
      "0.8778123339237176\n",
      "(3, 8) (3, 1)\n",
      "26\n"
     ]
    },
    {
     "name": "stderr",
     "output_type": "stream",
     "text": [
      "<ipython-input-98-9b8b24af2459>:83: DataConversionWarning: A column-vector y was passed when a 1d array was expected. Please change the shape of y to (n_samples,), for example using ravel().\n",
      "  self.model = self.model.fit(self.X, self.y) #make sure the hat the last period x is ignored\n"
     ]
    },
    {
     "name": "stdout",
     "output_type": "stream",
     "text": [
      "36237 0.0 26 36234.833333333336\n",
      "0.7452871148625893\n",
      "(4, 8) (4, 1)\n",
      "Max reward for 33210.775 15\n",
      "15\n"
     ]
    },
    {
     "name": "stderr",
     "output_type": "stream",
     "text": [
      "<ipython-input-98-9b8b24af2459>:83: DataConversionWarning: A column-vector y was passed when a 1d array was expected. Please change the shape of y to (n_samples,), for example using ravel().\n",
      "  self.model = self.model.fit(self.X, self.y) #make sure the hat the last period x is ignored\n"
     ]
    },
    {
     "name": "stdout",
     "output_type": "stream",
     "text": [
      "35951 213 15 33819.75\n",
      "0.6408139009459366\n",
      "(5, 8) (5, 1)\n",
      "29\n"
     ]
    },
    {
     "name": "stderr",
     "output_type": "stream",
     "text": [
      "<ipython-input-98-9b8b24af2459>:83: DataConversionWarning: A column-vector y was passed when a 1d array was expected. Please change the shape of y to (n_samples,), for example using ravel().\n",
      "  self.model = self.model.fit(self.X, self.y) #make sure the hat the last period x is ignored\n"
     ]
    },
    {
     "name": "stdout",
     "output_type": "stream",
     "text": [
      "36059 0.0 29 36056.583333333336\n",
      "0.7888604617756495\n",
      "(6, 8) (6, 1)\n",
      "Max reward for 34084.433333333334 23\n",
      "23\n"
     ]
    },
    {
     "name": "stderr",
     "output_type": "stream",
     "text": [
      "<ipython-input-98-9b8b24af2459>:83: DataConversionWarning: A column-vector y was passed when a 1d array was expected. Please change the shape of y to (n_samples,), for example using ravel().\n",
      "  self.model = self.model.fit(self.X, self.y) #make sure the hat the last period x is ignored\n"
     ]
    },
    {
     "name": "stdout",
     "output_type": "stream",
     "text": [
      "36071 0.0 23 36069.083333333336\n",
      "0.9529154838036783\n",
      "(7, 8) (7, 1)\n",
      "18\n"
     ]
    },
    {
     "name": "stderr",
     "output_type": "stream",
     "text": [
      "<ipython-input-98-9b8b24af2459>:83: DataConversionWarning: A column-vector y was passed when a 1d array was expected. Please change the shape of y to (n_samples,), for example using ravel().\n",
      "  self.model = self.model.fit(self.X, self.y) #make sure the hat the last period x is ignored\n"
     ]
    },
    {
     "name": "stdout",
     "output_type": "stream",
     "text": [
      "35868 0.0 18 35866.5\n",
      "0.6791180504168077\n",
      "(8, 8) (8, 1)\n",
      "10\n"
     ]
    },
    {
     "name": "stderr",
     "output_type": "stream",
     "text": [
      "<ipython-input-98-9b8b24af2459>:83: DataConversionWarning: A column-vector y was passed when a 1d array was expected. Please change the shape of y to (n_samples,), for example using ravel().\n",
      "  self.model = self.model.fit(self.X, self.y) #make sure the hat the last period x is ignored\n"
     ]
    },
    {
     "name": "stdout",
     "output_type": "stream",
     "text": [
      "35609 2177 10 13838.166666666666\n",
      "0.9329644935980671\n",
      "(9, 8) (9, 1)\n",
      "Max reward for 22056.4 21\n",
      "21\n"
     ]
    },
    {
     "name": "stderr",
     "output_type": "stream",
     "text": [
      "<ipython-input-98-9b8b24af2459>:83: DataConversionWarning: A column-vector y was passed when a 1d array was expected. Please change the shape of y to (n_samples,), for example using ravel().\n",
      "  self.model = self.model.fit(self.X, self.y) #make sure the hat the last period x is ignored\n"
     ]
    },
    {
     "name": "stdout",
     "output_type": "stream",
     "text": [
      "35996 3 21 35964.25\n",
      "0.7495787104053699\n",
      "(10, 8) (10, 1)\n",
      "26\n"
     ]
    },
    {
     "name": "stderr",
     "output_type": "stream",
     "text": [
      "<ipython-input-98-9b8b24af2459>:83: DataConversionWarning: A column-vector y was passed when a 1d array was expected. Please change the shape of y to (n_samples,), for example using ravel().\n",
      "  self.model = self.model.fit(self.X, self.y) #make sure the hat the last period x is ignored\n"
     ]
    },
    {
     "name": "stdout",
     "output_type": "stream",
     "text": [
      "35991 0.0 26 35988.833333333336\n",
      "0.9317857073175724\n",
      "(11, 8) (11, 1)\n",
      "21\n"
     ]
    },
    {
     "name": "stderr",
     "output_type": "stream",
     "text": [
      "<ipython-input-98-9b8b24af2459>:83: DataConversionWarning: A column-vector y was passed when a 1d array was expected. Please change the shape of y to (n_samples,), for example using ravel().\n",
      "  self.model = self.model.fit(self.X, self.y) #make sure the hat the last period x is ignored\n"
     ]
    },
    {
     "name": "stdout",
     "output_type": "stream",
     "text": [
      "35976 0.0 21 35974.25\n",
      "0.8674713779776148\n",
      "(12, 8) (12, 1)\n",
      "Max reward for 36029.275 28\n",
      "28\n"
     ]
    },
    {
     "name": "stderr",
     "output_type": "stream",
     "text": [
      "<ipython-input-98-9b8b24af2459>:83: DataConversionWarning: A column-vector y was passed when a 1d array was expected. Please change the shape of y to (n_samples,), for example using ravel().\n",
      "  self.model = self.model.fit(self.X, self.y) #make sure the hat the last period x is ignored\n"
     ]
    },
    {
     "name": "stdout",
     "output_type": "stream",
     "text": [
      "36198 0.0 28 36195.666666666664\n",
      "0.951339327189414\n",
      "(13, 8) (13, 1)\n",
      "17\n"
     ]
    },
    {
     "name": "stderr",
     "output_type": "stream",
     "text": [
      "<ipython-input-98-9b8b24af2459>:83: DataConversionWarning: A column-vector y was passed when a 1d array was expected. Please change the shape of y to (n_samples,), for example using ravel().\n",
      "  self.model = self.model.fit(self.X, self.y) #make sure the hat the last period x is ignored\n"
     ]
    },
    {
     "name": "stdout",
     "output_type": "stream",
     "text": [
      "36122 0.0 17 36120.583333333336\n",
      "0.8957950524864569\n",
      "(14, 8) (14, 1)\n",
      "14\n"
     ]
    },
    {
     "name": "stderr",
     "output_type": "stream",
     "text": [
      "<ipython-input-98-9b8b24af2459>:83: DataConversionWarning: A column-vector y was passed when a 1d array was expected. Please change the shape of y to (n_samples,), for example using ravel().\n",
      "  self.model = self.model.fit(self.X, self.y) #make sure the hat the last period x is ignored\n"
     ]
    },
    {
     "name": "stdout",
     "output_type": "stream",
     "text": [
      "36044 644 14 29602.833333333332\n",
      "0.8132452231558591\n",
      "(15, 8) (15, 1)\n",
      "19\n"
     ]
    },
    {
     "name": "stderr",
     "output_type": "stream",
     "text": [
      "<ipython-input-98-9b8b24af2459>:83: DataConversionWarning: A column-vector y was passed when a 1d array was expected. Please change the shape of y to (n_samples,), for example using ravel().\n",
      "  self.model = self.model.fit(self.X, self.y) #make sure the hat the last period x is ignored\n"
     ]
    },
    {
     "name": "stdout",
     "output_type": "stream",
     "text": [
      "35986 1 19 35974.416666666664\n",
      "0.8611375566254975\n",
      "(16, 8) (16, 1)\n",
      "Max reward for 36034.95 28\n",
      "28\n"
     ]
    },
    {
     "name": "stderr",
     "output_type": "stream",
     "text": [
      "<ipython-input-98-9b8b24af2459>:83: DataConversionWarning: A column-vector y was passed when a 1d array was expected. Please change the shape of y to (n_samples,), for example using ravel().\n",
      "  self.model = self.model.fit(self.X, self.y) #make sure the hat the last period x is ignored\n"
     ]
    },
    {
     "name": "stdout",
     "output_type": "stream",
     "text": [
      "35976 0.0 28 35973.666666666664\n",
      "0.8088668045193013\n",
      "(17, 8) (17, 1)\n",
      "Max reward for 36092.78333333333 29\n",
      "29\n"
     ]
    },
    {
     "name": "stderr",
     "output_type": "stream",
     "text": [
      "<ipython-input-98-9b8b24af2459>:83: DataConversionWarning: A column-vector y was passed when a 1d array was expected. Please change the shape of y to (n_samples,), for example using ravel().\n",
      "  self.model = self.model.fit(self.X, self.y) #make sure the hat the last period x is ignored\n"
     ]
    },
    {
     "name": "stdout",
     "output_type": "stream",
     "text": [
      "35936 0.0 29 35933.583333333336\n",
      "0.9330493980812117\n",
      "(18, 8) (18, 1)\n",
      "Max reward for 36132.083333333336 17\n",
      "17\n"
     ]
    },
    {
     "name": "stderr",
     "output_type": "stream",
     "text": [
      "<ipython-input-98-9b8b24af2459>:83: DataConversionWarning: A column-vector y was passed when a 1d array was expected. Please change the shape of y to (n_samples,), for example using ravel().\n",
      "  self.model = self.model.fit(self.X, self.y) #make sure the hat the last period x is ignored\n"
     ]
    },
    {
     "name": "stdout",
     "output_type": "stream",
     "text": [
      "35792 0.0 17 35790.583333333336\n",
      "0.8947599537384102\n",
      "(19, 8) (19, 1)\n",
      "Max reward for 31610.89166666667 25\n",
      "25\n"
     ]
    },
    {
     "name": "stderr",
     "output_type": "stream",
     "text": [
      "<ipython-input-98-9b8b24af2459>:83: DataConversionWarning: A column-vector y was passed when a 1d array was expected. Please change the shape of y to (n_samples,), for example using ravel().\n",
      "  self.model = self.model.fit(self.X, self.y) #make sure the hat the last period x is ignored\n"
     ]
    },
    {
     "name": "stdout",
     "output_type": "stream",
     "text": [
      "35847 0.0 25 35844.916666666664\n",
      "0.9418503135695132\n",
      "(20, 8) (20, 1)\n",
      "29\n"
     ]
    },
    {
     "name": "stderr",
     "output_type": "stream",
     "text": [
      "<ipython-input-98-9b8b24af2459>:83: DataConversionWarning: A column-vector y was passed when a 1d array was expected. Please change the shape of y to (n_samples,), for example using ravel().\n",
      "  self.model = self.model.fit(self.X, self.y) #make sure the hat the last period x is ignored\n"
     ]
    },
    {
     "name": "stdout",
     "output_type": "stream",
     "text": [
      "35846 0.0 29 35843.583333333336\n",
      "0.9069553311789995\n",
      "(21, 8) (21, 1)\n",
      "27\n"
     ]
    },
    {
     "name": "stderr",
     "output_type": "stream",
     "text": [
      "<ipython-input-98-9b8b24af2459>:83: DataConversionWarning: A column-vector y was passed when a 1d array was expected. Please change the shape of y to (n_samples,), for example using ravel().\n",
      "  self.model = self.model.fit(self.X, self.y) #make sure the hat the last period x is ignored\n"
     ]
    },
    {
     "name": "stdout",
     "output_type": "stream",
     "text": [
      "35990 0.0 27 35987.75\n",
      "0.982696476596561\n",
      "(22, 8) (22, 1)\n",
      "26\n"
     ]
    },
    {
     "name": "stderr",
     "output_type": "stream",
     "text": [
      "<ipython-input-98-9b8b24af2459>:83: DataConversionWarning: A column-vector y was passed when a 1d array was expected. Please change the shape of y to (n_samples,), for example using ravel().\n",
      "  self.model = self.model.fit(self.X, self.y) #make sure the hat the last period x is ignored\n"
     ]
    },
    {
     "name": "stdout",
     "output_type": "stream",
     "text": [
      "36145 0.0 26 36142.833333333336\n",
      "0.9600716817465166\n",
      "(23, 8) (23, 1)\n",
      "Max reward for 35797.466666666674 28\n",
      "28\n"
     ]
    },
    {
     "name": "stderr",
     "output_type": "stream",
     "text": [
      "<ipython-input-98-9b8b24af2459>:83: DataConversionWarning: A column-vector y was passed when a 1d array was expected. Please change the shape of y to (n_samples,), for example using ravel().\n",
      "  self.model = self.model.fit(self.X, self.y) #make sure the hat the last period x is ignored\n"
     ]
    },
    {
     "data": {
      "text/plain": [
       "<sim.Environment.Environment at 0x7fb5a5d69730>"
      ]
     },
     "execution_count": 99,
     "metadata": {},
     "output_type": "execute_result"
    }
   ],
   "source": [
    "from sklearn.linear_model import LinearRegression\n",
    "from sklearn.tree import DecisionTreeRegressor\n",
    "from sklearn.neural_network import MLPRegressor\n",
    "from sklearn.ensemble import RandomForestRegressor\n",
    "\n",
    "stopTime = 1*24*60*60\n",
    "env = Environment(stopTime=stopTime)\n",
    "\n",
    "#model = LinearRegression()\n",
    "#model = DecisionTreeRegressor()\n",
    "model  = MLPRegressor(hidden_layer_sizes=[10], activation='tanh')\n",
    "model  =RandomForestRegressor(n_estimators=10)\n",
    "eta = lambda t: sigmoid(2-0.05*t)\n",
    "#eta = 0.4\n",
    "#sigmoid(2/(0.1*t+2)-0.5)\n",
    "loadBalancer = GreedyEpsilonLoadBalancer(nServers=10, environment=env, model = model, eta=eta, nServerRange=[10,30], usePartialFit=False)\n",
    "\n",
    "requestTypes = [(0.5,1,0.1,10), (0.5,2,0.2,10)] #(prob, mu, sigma, cancelTime)\n",
    "arrivalsPerSecond = 10\n",
    "source = Source(arrivalsPerSecond, requestTypes, loadBalancer, env)\n",
    "\n",
    "schedule = np.array([arrivalsPerSecond]) #12 periods\n",
    "periodLength = 1*60*60 #half an hour per period -> schedule repeated two times in 12 hours\n",
    "arrivalSchedule = ArrivalSchedule(periodLength,arrivalSchedule=schedule, environment=env, loadBalancer=loadBalancer, source=source)\n",
    "env.run(debug=False)"
   ]
  },
  {
   "cell_type": "code",
   "execution_count": 52,
   "metadata": {},
   "outputs": [
    {
     "data": {
      "text/html": [
       "<div>\n",
       "<style scoped>\n",
       "    .dataframe tbody tr th:only-of-type {\n",
       "        vertical-align: middle;\n",
       "    }\n",
       "\n",
       "    .dataframe tbody tr th {\n",
       "        vertical-align: top;\n",
       "    }\n",
       "\n",
       "    .dataframe thead th {\n",
       "        text-align: right;\n",
       "    }\n",
       "</style>\n",
       "<table border=\"1\" class=\"dataframe\">\n",
       "  <thead>\n",
       "    <tr style=\"text-align: right;\">\n",
       "      <th></th>\n",
       "      <th>0</th>\n",
       "      <th>1</th>\n",
       "      <th>2</th>\n",
       "      <th>3</th>\n",
       "      <th>4</th>\n",
       "      <th>5</th>\n",
       "      <th>6</th>\n",
       "      <th>7</th>\n",
       "    </tr>\n",
       "  </thead>\n",
       "  <tbody>\n",
       "    <tr>\n",
       "      <th>0</th>\n",
       "      <td>1.595552</td>\n",
       "      <td>1803.0</td>\n",
       "      <td>1803.0</td>\n",
       "      <td>0.157250</td>\n",
       "      <td>1794.0</td>\n",
       "      <td>1.625300</td>\n",
       "      <td>0.0</td>\n",
       "      <td>28.0</td>\n",
       "    </tr>\n",
       "    <tr>\n",
       "      <th>1</th>\n",
       "      <td>0.714286</td>\n",
       "      <td>1795.0</td>\n",
       "      <td>1795.0</td>\n",
       "      <td>0.001051</td>\n",
       "      <td>1795.0</td>\n",
       "      <td>1.490928</td>\n",
       "      <td>0.0</td>\n",
       "      <td>12.0</td>\n",
       "    </tr>\n",
       "    <tr>\n",
       "      <th>2</th>\n",
       "      <td>1.013208</td>\n",
       "      <td>1823.0</td>\n",
       "      <td>1823.0</td>\n",
       "      <td>0.044893</td>\n",
       "      <td>1825.0</td>\n",
       "      <td>1.553847</td>\n",
       "      <td>0.0</td>\n",
       "      <td>10.0</td>\n",
       "    </tr>\n",
       "    <tr>\n",
       "      <th>3</th>\n",
       "      <td>1.922449</td>\n",
       "      <td>1829.0</td>\n",
       "      <td>1829.0</td>\n",
       "      <td>0.180531</td>\n",
       "      <td>1827.0</td>\n",
       "      <td>1.650227</td>\n",
       "      <td>0.0</td>\n",
       "      <td>21.0</td>\n",
       "    </tr>\n",
       "    <tr>\n",
       "      <th>4</th>\n",
       "      <td>0.800000</td>\n",
       "      <td>1732.0</td>\n",
       "      <td>1732.0</td>\n",
       "      <td>0.001812</td>\n",
       "      <td>1735.0</td>\n",
       "      <td>1.524175</td>\n",
       "      <td>0.0</td>\n",
       "      <td>21.0</td>\n",
       "    </tr>\n",
       "    <tr>\n",
       "      <th>5</th>\n",
       "      <td>0.000000</td>\n",
       "      <td>1783.0</td>\n",
       "      <td>1783.0</td>\n",
       "      <td>0.000000</td>\n",
       "      <td>1782.0</td>\n",
       "      <td>1.485194</td>\n",
       "      <td>0.0</td>\n",
       "      <td>29.0</td>\n",
       "    </tr>\n",
       "    <tr>\n",
       "      <th>6</th>\n",
       "      <td>0.000000</td>\n",
       "      <td>1797.0</td>\n",
       "      <td>1797.0</td>\n",
       "      <td>0.000000</td>\n",
       "      <td>1798.0</td>\n",
       "      <td>1.482002</td>\n",
       "      <td>0.0</td>\n",
       "      <td>10.0</td>\n",
       "    </tr>\n",
       "    <tr>\n",
       "      <th>7</th>\n",
       "      <td>1.536783</td>\n",
       "      <td>1812.0</td>\n",
       "      <td>1812.0</td>\n",
       "      <td>0.158497</td>\n",
       "      <td>1811.0</td>\n",
       "      <td>1.656556</td>\n",
       "      <td>0.0</td>\n",
       "      <td>10.0</td>\n",
       "    </tr>\n",
       "    <tr>\n",
       "      <th>8</th>\n",
       "      <td>1.812139</td>\n",
       "      <td>1818.0</td>\n",
       "      <td>1818.0</td>\n",
       "      <td>0.199974</td>\n",
       "      <td>1815.0</td>\n",
       "      <td>1.708954</td>\n",
       "      <td>0.0</td>\n",
       "      <td>15.0</td>\n",
       "    </tr>\n",
       "    <tr>\n",
       "      <th>9</th>\n",
       "      <td>1.126316</td>\n",
       "      <td>1842.0</td>\n",
       "      <td>1842.0</td>\n",
       "      <td>0.006826</td>\n",
       "      <td>1848.0</td>\n",
       "      <td>1.502623</td>\n",
       "      <td>0.0</td>\n",
       "      <td>10.0</td>\n",
       "    </tr>\n",
       "  </tbody>\n",
       "</table>\n",
       "</div>"
      ],
      "text/plain": [
       "          0       1       2         3       4         5    6     7\n",
       "0  1.595552  1803.0  1803.0  0.157250  1794.0  1.625300  0.0  28.0\n",
       "1  0.714286  1795.0  1795.0  0.001051  1795.0  1.490928  0.0  12.0\n",
       "2  1.013208  1823.0  1823.0  0.044893  1825.0  1.553847  0.0  10.0\n",
       "3  1.922449  1829.0  1829.0  0.180531  1827.0  1.650227  0.0  21.0\n",
       "4  0.800000  1732.0  1732.0  0.001812  1735.0  1.524175  0.0  21.0\n",
       "5  0.000000  1783.0  1783.0  0.000000  1782.0  1.485194  0.0  29.0\n",
       "6  0.000000  1797.0  1797.0  0.000000  1798.0  1.482002  0.0  10.0\n",
       "7  1.536783  1812.0  1812.0  0.158497  1811.0  1.656556  0.0  10.0\n",
       "8  1.812139  1818.0  1818.0  0.199974  1815.0  1.708954  0.0  15.0\n",
       "9  1.126316  1842.0  1842.0  0.006826  1848.0  1.502623  0.0  10.0"
      ]
     },
     "execution_count": 52,
     "metadata": {},
     "output_type": "execute_result"
    }
   ],
   "source": [
    "import pandas as pd\n",
    "pd.DataFrame(list(loadBalancer.X)).head(10)"
   ]
  },
  {
   "cell_type": "code",
   "execution_count": 40,
   "metadata": {},
   "outputs": [
    {
     "name": "stdout",
     "output_type": "stream",
     "text": [
      "(168, 8) (167, 1)\n"
     ]
    }
   ],
   "source": [
    "print(loadBalancer.X.shape, loadBalancer.y.shape)\n"
   ]
  },
  {
   "cell_type": "code",
   "execution_count": 100,
   "metadata": {},
   "outputs": [
    {
     "data": {
      "text/plain": [
       "[<matplotlib.lines.Line2D at 0x7fb462838ca0>]"
      ]
     },
     "execution_count": 100,
     "metadata": {},
     "output_type": "execute_result"
    },
    {
     "data": {
      "image/png": "[encoded data removed]",
      "text/plain": [
       "<Figure size 432x288 with 1 Axes>"
      ]
     },
     "metadata": {
      "needs_background": "light"
     },
     "output_type": "display_data"
    }
   ],
   "source": [
    "X = loadBalancer.X[-1,:]\n",
    "X\n",
    "pred = []\n",
    "for n  in range(0,40):\n",
    "    X_ = np.append(X[:-1], n)\n",
    "    rewardHat = loadBalancer.model.predict(X_[None,:])[0]\n",
    "    pred.append(rewardHat)\n",
    "\n",
    "plt.plot(range(0,40), pred)"
   ]
  },
  {
   "cell_type": "code",
   "execution_count": 69,
   "metadata": {},
   "outputs": [
    {
     "data": {
      "image/png": "[encoded data removed]",
      "text/plain": [
       "<Figure size 432x288 with 1 Axes>"
      ]
     },
     "metadata": {
      "needs_background": "light"
     },
     "output_type": "display_data"
    }
   ],
   "source": [
    "plt.hist(env.logTime['arrivalEvent'], bins=7*24);"
   ]
  },
  {
   "cell_type": "code",
   "execution_count": 85,
   "metadata": {},
   "outputs": [
    {
     "data": {
      "text/plain": [
       "<matplotlib.collections.PathCollection at 0x7fb6fc8f1d90>"
      ]
     },
     "execution_count": 85,
     "metadata": {},
     "output_type": "execute_result"
    },
    {
     "data": {
      "image/png": "[encoded data removed]",
      "text/plain": [
       "<Figure size 432x288 with 1 Axes>"
      ]
     },
     "metadata": {
      "needs_background": "light"
     },
     "output_type": "display_data"
    }
   ],
   "source": [
    "plt.scatter(env.log['numberOfServers'][::2], env.log['reward'])"
   ]
  },
  {
   "cell_type": "code",
   "execution_count": 96,
   "metadata": {},
   "outputs": [
    {
     "data": {
      "image/png": "[encoded data removed]",
      "text/plain": [
       "<Figure size 432x288 with 1 Axes>"
      ]
     },
     "metadata": {
      "needs_background": "light"
     },
     "output_type": "display_data"
    },
    {
     "data": {
      "image/png": "[encoded data removed]",
      "text/plain": [
       "<Figure size 432x288 with 1 Axes>"
      ]
     },
     "metadata": {
      "needs_background": "light"
     },
     "output_type": "display_data"
    },
    {
     "data": {
      "image/png": "[encoded data removed]",
      "text/plain": [
       "<Figure size 432x288 with 1 Axes>"
      ]
     },
     "metadata": {
      "needs_background": "light"
     },
     "output_type": "display_data"
    },
    {
     "data": {
      "image/png": "[encoded data removed]",
      "text/plain": [
       "<Figure size 432x288 with 1 Axes>"
      ]
     },
     "metadata": {
      "needs_background": "light"
     },
     "output_type": "display_data"
    },
    {
     "data": {
      "image/png": "[encoded data removed]",
      "text/plain": [
       "<Figure size 432x288 with 1 Axes>"
      ]
     },
     "metadata": {
      "needs_background": "light"
     },
     "output_type": "display_data"
    },
    {
     "data": {
      "image/png": "[encoded data removed]",
      "text/plain": [
       "<Figure size 432x288 with 1 Axes>"
      ]
     },
     "metadata": {
      "needs_background": "light"
     },
     "output_type": "display_data"
    },
    {
     "data": {
      "image/png": "[encoded data removed]",
      "text/plain": [
       "<Figure size 432x288 with 1 Axes>"
      ]
     },
     "metadata": {
      "needs_background": "light"
     },
     "output_type": "display_data"
    }
   ],
   "source": [
    "plt.plot(env.log['eta'])\n",
    "plt.figure()\n",
    "plt.plot(env.log['numberOfServers'])\n",
    "plt.figure()\n",
    "plt.plot(env.log['greedyEpsilonActionType'])\n",
    "plt.figure()\n",
    "plt.plot(env.log['reward'])\n",
    "plt.figure()\n",
    "plt.hist(env.logTime['arrivalEvent'], bins=int(stopTime/60/60));\n",
    "plt.figure()\n",
    "plt.hist(env.logTime['requestProcessed'], bins=int(stopTime/60/60));\n",
    "plt.figure()\n",
    "plt.hist(env.logTime['requestCancelled'], bins=int(stopTime/60/60));"
   ]
  },
  {
   "cell_type": "code",
   "execution_count": 14,
   "metadata": {},
   "outputs": [
    {
     "data": {
      "text/plain": [
       "Text(0, 0.5, 'y')"
      ]
     },
     "execution_count": 14,
     "metadata": {},
     "output_type": "execute_result"
    },
    {
     "data": {
      "image/png": "[encoded data removed]",
      "text/plain": [
       "<Figure size 432x288 with 1 Axes>"
      ]
     },
     "metadata": {
      "needs_background": "light"
     },
     "output_type": "display_data"
    }
   ],
   "source": [
    "plt.scatter(loadBalancer.X[:-1,0],loadBalancer.y)\n",
    "plt.xlabel('x')\n",
    "plt.ylabel('y')"
   ]
  },
  {
   "cell_type": "code",
   "execution_count": 52,
   "metadata": {},
   "outputs": [
    {
     "data": {
      "text/plain": [
       "<matplotlib.collections.PathCollection at 0x7fcc143d57f0>"
      ]
     },
     "execution_count": 52,
     "metadata": {},
     "output_type": "execute_result"
    },
    {
     "data": {
      "image/png": "[encoded data removed]",
      "text/plain": [
       "<Figure size 432x288 with 1 Axes>"
      ]
     },
     "metadata": {
      "needs_background": "light"
     },
     "output_type": "display_data"
    }
   ],
   "source": [
    "plt.scatter(env.log['numberOfServers'][0::2],env.log['reward'])"
   ]
  },
  {
   "cell_type": "code",
   "execution_count": 31,
   "metadata": {},
   "outputs": [
    {
     "data": {
      "text/plain": [
       "[<matplotlib.lines.Line2D at 0x7fccd9696160>]"
      ]
     },
     "execution_count": 31,
     "metadata": {},
     "output_type": "execute_result"
    },
    {
     "data": {
      "image/png": "[encoded data removed]",
      "text/plain": [
       "<Figure size 432x288 with 1 Axes>"
      ]
     },
     "metadata": {
      "needs_background": "light"
     },
     "output_type": "display_data"
    }
   ],
   "source": [
    "\n",
    "def sigmoid(x):\n",
    "      return 1 / (1 + np.exp(-x))\n",
    "\n",
    "x = np.arange(0,120,1)\n",
    "plt.plot(x, sigmoid(2/(0.1*x+2)-0.5))\n",
    "plt.plot(x, sigmoid(1-0.1*x))"
   ]
  },
  {
   "cell_type": "code",
   "execution_count": 38,
   "metadata": {},
   "outputs": [
    {
     "data": {
      "text/plain": [
       "[<matplotlib.lines.Line2D at 0x7fcca0028790>]"
      ]
     },
     "execution_count": 38,
     "metadata": {},
     "output_type": "execute_result"
    },
    {
     "data": {
      "image/png": "[encoded data removed]",
      "text/plain": [
       "<Figure size 432x288 with 1 Axes>"
      ]
     },
     "metadata": {
      "needs_background": "light"
     },
     "output_type": "display_data"
    }
   ],
   "source": [
    "x = np.arange(0,120,1)\n",
    "plt.plot(x, sigmoid(2-0.05*x))"
   ]
  },
  {
   "cell_type": "code",
   "execution_count": null,
   "metadata": {},
   "outputs": [],
   "source": []
  }
 ],
 "metadata": {
  "kernelspec": {
   "display_name": "base",
   "language": "python",
   "name": "python3"
  },
  "language_info": {
   "codemirror_mode": {
    "name": "ipython",
    "version": 3
   },
   "file_extension": ".py",
   "mimetype": "text/x-python",
   "name": "python",
   "nbconvert_exporter": "python",
   "pygments_lexer": "ipython3",
   "version": "3.8.3"
  },
  "orig_nbformat": 4,
  "vscode": {
   "interpreter": {
    "hash": "2ed55c8a3b358c2f14bd6337b3a23ad56aa9692a3206675e532b0b29d35d2a5c"
   }
  }
 },
 "nbformat": 4,
 "nbformat_minor": 2
}
