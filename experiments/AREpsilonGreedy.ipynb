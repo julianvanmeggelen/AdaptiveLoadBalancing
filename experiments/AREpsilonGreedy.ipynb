{
 "cells": [
  {
   "cell_type": "code",
   "execution_count": 27,
   "metadata": {},
   "outputs": [
    {
     "name": "stdout",
     "output_type": "stream",
     "text": [
      "The autoreload extension is already loaded. To reload it, use:\n",
      "  %reload_ext autoreload\n"
     ]
    }
   ],
   "source": [
    "%load_ext autoreload\n",
    "%autoreload 2\n",
    "import sys\n",
    "sys.path.insert(0, '..')\n",
    "\n",
    "from sim.LoadBalancer import LoadBalancer\n",
    "from sim.Source import AutoRegressiveArrivalSchedule, Source, ExponentialSource\n",
    "from sim.Environment import Environment\n",
    "from sim.GELoadBalancer import GreedyEpsilonLoadBalancer\n",
    "import numpy as np\n",
    "import random\n",
    "import matplotlib.pyplot as plt\n",
    "import math"
   ]
  },
  {
   "attachments": {},
   "cell_type": "markdown",
   "metadata": {},
   "source": [
    "## Arrival process\n",
    "use number of arrivals and number of cancelled to define autoregressive process"
   ]
  },
  {
   "cell_type": "code",
   "execution_count": 18,
   "metadata": {},
   "outputs": [],
   "source": [
    "def sigmoid(x):\n",
    "      return 1 / (1 + np.exp(-x))"
   ]
  },
  {
   "cell_type": "code",
   "execution_count": 23,
   "metadata": {},
   "outputs": [
    {
     "data": {
      "text/plain": [
       "[<matplotlib.lines.Line2D at 0x7ff26c9c46d0>]"
      ]
     },
     "execution_count": 23,
     "metadata": {},
     "output_type": "execute_result"
    },
    {
     "data": {
      "image/png": "[encoded data removed]",
      "text/plain": [
       "<Figure size 432x288 with 1 Axes>"
      ]
     },
     "metadata": {
      "needs_background": "light"
     },
     "output_type": "display_data"
    },
    {
     "data": {
      "image/png": "[encoded data removed]",
      "text/plain": [
       "<Figure size 432x288 with 1 Axes>"
      ]
     },
     "metadata": {
      "needs_background": "light"
     },
     "output_type": "display_data"
    }
   ],
   "source": [
    "X0 = np.array([18000, 0])\n",
    "X = X0\n",
    "A = np.array([1,0.05])\n",
    "arrivalProcess = lambda X: X.T @ A \n",
    "\n",
    "arr = []\n",
    "canc = []\n",
    "for i in range(0,100):\n",
    "    arrs  = arrivalProcess(X) + random.normalvariate(0,100)\n",
    "    arr.append(arrs)\n",
    "    cancelled = max(arrs-18000,0)\n",
    "    canc.append(cancelled)\n",
    "    X = np.array([arrs, cancelled])\n",
    "\n",
    "plt.plot(arr)\n",
    "plt.figure()\n",
    "plt.plot(canc)\n"
   ]
  },
  {
   "attachments": {},
   "cell_type": "markdown",
   "metadata": {},
   "source": [
    "### Test the process"
   ]
  },
  {
   "cell_type": "code",
   "execution_count": 7,
   "metadata": {},
   "outputs": [],
   "source": [
    "def sigmoid(x):\n",
    "      return 1 / (1 + np.exp(-x))"
   ]
  },
  {
   "cell_type": "code",
   "execution_count": 29,
   "metadata": {},
   "outputs": [
    {
     "name": "stdout",
     "output_type": "stream",
     "text": [
      "36405 2219 10 11215.0\n",
      "17\n",
      "npa 10.139136046703435\n",
      "36375 8 17 31195.0\n",
      "nan\n",
      "(1, 8) (1, 1)\n",
      "28\n",
      "npa 10.12759902338001\n"
     ]
    },
    {
     "name": "stderr",
     "output_type": "stream",
     "text": [
      "../sim/GELoadBalancer.py:90: DataConversionWarning: A column-vector y was passed when a 1d array was expected. Please change the shape of y to (n_samples,), for example using ravel().\n",
      "  self.model = self.model.fit(self.X, self.y) #make sure the hat the last period x is ignored\n",
      "/Users/julianvanmeggelen/opt/anaconda3/lib/python3.8/site-packages/sklearn/metrics/_regression.py:682: UndefinedMetricWarning: R^2 score is not well-defined with less than two samples.\n",
      "  warnings.warn(msg, UndefinedMetricWarning)\n"
     ]
    },
    {
     "name": "stdout",
     "output_type": "stream",
     "text": [
      "36263 0.0 28 27863.0\n",
      "0.47999999999999987\n",
      "(2, 8) (2, 1)\n",
      "26\n",
      "npa 10.061128149676337\n"
     ]
    },
    {
     "name": "stderr",
     "output_type": "stream",
     "text": [
      "../sim/GELoadBalancer.py:90: DataConversionWarning: A column-vector y was passed when a 1d array was expected. Please change the shape of y to (n_samples,), for example using ravel().\n",
      "  self.model = self.model.fit(self.X, self.y) #make sure the hat the last period x is ignored\n"
     ]
    },
    {
     "name": "stdout",
     "output_type": "stream",
     "text": [
      "36017 0.0 26 28217.0\n",
      "0.8265699622970193\n",
      "(3, 8) (3, 1)\n",
      "29\n",
      "npa 10.016455012830928\n"
     ]
    },
    {
     "name": "stderr",
     "output_type": "stream",
     "text": [
      "../sim/GELoadBalancer.py:90: DataConversionWarning: A column-vector y was passed when a 1d array was expected. Please change the shape of y to (n_samples,), for example using ravel().\n",
      "  self.model = self.model.fit(self.X, self.y) #make sure the hat the last period x is ignored\n"
     ]
    },
    {
     "name": "stdout",
     "output_type": "stream",
     "text": [
      "36113 0.0 29 27413.0\n",
      "0.8650115409284216\n",
      "(4, 8) (4, 1)\n",
      "27\n",
      "npa 10.053600450293652\n"
     ]
    },
    {
     "name": "stderr",
     "output_type": "stream",
     "text": [
      "../sim/GELoadBalancer.py:90: DataConversionWarning: A column-vector y was passed when a 1d array was expected. Please change the shape of y to (n_samples,), for example using ravel().\n",
      "  self.model = self.model.fit(self.X, self.y) #make sure the hat the last period x is ignored\n"
     ]
    },
    {
     "name": "stdout",
     "output_type": "stream",
     "text": [
      "36412 0.0 27 28312.0\n",
      "0.7887185608553623\n",
      "(5, 8) (5, 1)\n",
      "14\n",
      "npa 10.095531653481967\n"
     ]
    },
    {
     "name": "stderr",
     "output_type": "stream",
     "text": [
      "../sim/GELoadBalancer.py:90: DataConversionWarning: A column-vector y was passed when a 1d array was expected. Please change the shape of y to (n_samples,), for example using ravel().\n",
      "  self.model = self.model.fit(self.X, self.y) #make sure the hat the last period x is ignored\n"
     ]
    },
    {
     "name": "stdout",
     "output_type": "stream",
     "text": [
      "36490 796 14 24330.0\n",
      "0.7529752808938432\n",
      "(6, 8) (6, 1)\n",
      "13\n",
      "npa 10.18009180687348\n"
     ]
    },
    {
     "name": "stderr",
     "output_type": "stream",
     "text": [
      "../sim/GELoadBalancer.py:90: DataConversionWarning: A column-vector y was passed when a 1d array was expected. Please change the shape of y to (n_samples,), for example using ravel().\n",
      "  self.model = self.model.fit(self.X, self.y) #make sure the hat the last period x is ignored\n"
     ]
    },
    {
     "name": "stdout",
     "output_type": "stream",
     "text": [
      "36815 1266 13 20255.0\n",
      "0.8187216625238357\n",
      "(7, 8) (7, 1)\n",
      "30\n",
      "npa 10.219432411128437\n"
     ]
    },
    {
     "name": "stderr",
     "output_type": "stream",
     "text": [
      "../sim/GELoadBalancer.py:90: DataConversionWarning: A column-vector y was passed when a 1d array was expected. Please change the shape of y to (n_samples,), for example using ravel().\n",
      "  self.model = self.model.fit(self.X, self.y) #make sure the hat the last period x is ignored\n"
     ]
    },
    {
     "name": "stdout",
     "output_type": "stream",
     "text": [
      "36845 8 30 27765.0\n",
      "0.6646565764016863\n",
      "(8, 8) (8, 1)\n",
      "Max reward for 27515.2 21\n",
      "21\n",
      "npa 10.20103792473027\n"
     ]
    },
    {
     "name": "stderr",
     "output_type": "stream",
     "text": [
      "../sim/GELoadBalancer.py:90: DataConversionWarning: A column-vector y was passed when a 1d array was expected. Please change the shape of y to (n_samples,), for example using ravel().\n",
      "  self.model = self.model.fit(self.X, self.y) #make sure the hat the last period x is ignored\n"
     ]
    },
    {
     "name": "stdout",
     "output_type": "stream",
     "text": [
      "36686 0.0 21 30386.0\n",
      "0.787542405463004\n",
      "(9, 8) (9, 1)\n",
      "12\n",
      "npa 10.132861965385178\n"
     ]
    },
    {
     "name": "stderr",
     "output_type": "stream",
     "text": [
      "../sim/GELoadBalancer.py:90: DataConversionWarning: A column-vector y was passed when a 1d array was expected. Please change the shape of y to (n_samples,), for example using ravel().\n",
      "  self.model = self.model.fit(self.X, self.y) #make sure the hat the last period x is ignored\n"
     ]
    },
    {
     "name": "stdout",
     "output_type": "stream",
     "text": [
      "36606 1722 12 15786.0\n",
      "0.7725796669863865\n",
      "(10, 8) (10, 1)\n",
      "12\n",
      "npa 10.152048524771216\n"
     ]
    },
    {
     "name": "stderr",
     "output_type": "stream",
     "text": [
      "../sim/GELoadBalancer.py:90: DataConversionWarning: A column-vector y was passed when a 1d array was expected. Please change the shape of y to (n_samples,), for example using ravel().\n",
      "  self.model = self.model.fit(self.X, self.y) #make sure the hat the last period x is ignored\n"
     ]
    },
    {
     "name": "stdout",
     "output_type": "stream",
     "text": [
      "36708 1652 12 16588.0\n",
      "0.7915105394246698\n",
      "(11, 8) (11, 1)\n",
      "10\n",
      "npa 10.211680227639444\n"
     ]
    },
    {
     "name": "stderr",
     "output_type": "stream",
     "text": [
      "../sim/GELoadBalancer.py:90: DataConversionWarning: A column-vector y was passed when a 1d array was expected. Please change the shape of y to (n_samples,), for example using ravel().\n",
      "  self.model = self.model.fit(self.X, self.y) #make sure the hat the last period x is ignored\n"
     ]
    },
    {
     "name": "stdout",
     "output_type": "stream",
     "text": [
      "36840 2296 10 10880.0\n",
      "0.868021683643645\n",
      "(12, 8) (12, 1)\n",
      "Max reward for 26169.7 20\n",
      "20\n",
      "npa 10.249415903672457\n"
     ]
    },
    {
     "name": "stderr",
     "output_type": "stream",
     "text": [
      "../sim/GELoadBalancer.py:90: DataConversionWarning: A column-vector y was passed when a 1d array was expected. Please change the shape of y to (n_samples,), for example using ravel().\n",
      "  self.model = self.model.fit(self.X, self.y) #make sure the hat the last period x is ignored\n"
     ]
    },
    {
     "name": "stdout",
     "output_type": "stream",
     "text": [
      "37080 6 20 31020.0\n"
     ]
    },
    {
     "name": "stderr",
     "output_type": "stream",
     "text": [
      "../sim/GELoadBalancer.py:90: DataConversionWarning: A column-vector y was passed when a 1d array was expected. Please change the shape of y to (n_samples,), for example using ravel().\n",
      "  self.model = self.model.fit(self.X, self.y) #make sure the hat the last period x is ignored\n"
     ]
    },
    {
     "name": "stdout",
     "output_type": "stream",
     "text": [
      "0.9745065307128166\n",
      "(13, 8) (13, 1)\n",
      "22\n",
      "npa 10.300720591870704\n",
      "36816 0.0 22 30216.0\n",
      "0.9643314927097795\n",
      "(14, 8) (14, 1)\n",
      "26\n",
      "npa 10.167134814996745\n"
     ]
    },
    {
     "name": "stderr",
     "output_type": "stream",
     "text": [
      "../sim/GELoadBalancer.py:90: DataConversionWarning: A column-vector y was passed when a 1d array was expected. Please change the shape of y to (n_samples,), for example using ravel().\n",
      "  self.model = self.model.fit(self.X, self.y) #make sure the hat the last period x is ignored\n"
     ]
    },
    {
     "name": "stdout",
     "output_type": "stream",
     "text": [
      "36603 0.0 26 28803.0\n",
      "0.9768400024133523\n",
      "(15, 8) (15, 1)\n"
     ]
    },
    {
     "name": "stderr",
     "output_type": "stream",
     "text": [
      "../sim/GELoadBalancer.py:90: DataConversionWarning: A column-vector y was passed when a 1d array was expected. Please change the shape of y to (n_samples,), for example using ravel().\n",
      "  self.model = self.model.fit(self.X, self.y) #make sure the hat the last period x is ignored\n"
     ]
    },
    {
     "name": "stdout",
     "output_type": "stream",
     "text": [
      "Max reward for 28434.9 21\n",
      "21\n",
      "npa 10.134865923953194\n",
      "36900 0.0 21 30600.0\n",
      "0.9718818058028449\n",
      "(16, 8) (16, 1)\n",
      "Max reward for 28478.3 21\n",
      "21\n",
      "npa 10.232812399017588\n"
     ]
    },
    {
     "name": "stderr",
     "output_type": "stream",
     "text": [
      "../sim/GELoadBalancer.py:90: DataConversionWarning: A column-vector y was passed when a 1d array was expected. Please change the shape of y to (n_samples,), for example using ravel().\n",
      "  self.model = self.model.fit(self.X, self.y) #make sure the hat the last period x is ignored\n"
     ]
    },
    {
     "name": "stdout",
     "output_type": "stream",
     "text": [
      "36891 0.0 21 30591.0\n",
      "0.9532564220826886\n",
      "(17, 8) (17, 1)\n",
      "11\n",
      "npa 10.200345696079282\n"
     ]
    },
    {
     "name": "stderr",
     "output_type": "stream",
     "text": [
      "../sim/GELoadBalancer.py:90: DataConversionWarning: A column-vector y was passed when a 1d array was expected. Please change the shape of y to (n_samples,), for example using ravel().\n",
      "  self.model = self.model.fit(self.X, self.y) #make sure the hat the last period x is ignored\n"
     ]
    },
    {
     "name": "stdout",
     "output_type": "stream",
     "text": [
      "37021 2091 11 12811.0\n",
      "0.9715977184732192\n",
      "(18, 8) (18, 1)\n",
      "25\n",
      "npa 10.219627035813382\n"
     ]
    },
    {
     "name": "stderr",
     "output_type": "stream",
     "text": [
      "../sim/GELoadBalancer.py:90: DataConversionWarning: A column-vector y was passed when a 1d array was expected. Please change the shape of y to (n_samples,), for example using ravel().\n",
      "  self.model = self.model.fit(self.X, self.y) #make sure the hat the last period x is ignored\n"
     ]
    },
    {
     "name": "stdout",
     "output_type": "stream",
     "text": [
      "37044 3 25 29514.0\n",
      "0.9698538234587597\n",
      "(19, 8) (19, 1)\n",
      "11\n",
      "npa 10.293226326228826\n"
     ]
    },
    {
     "name": "stderr",
     "output_type": "stream",
     "text": [
      "../sim/GELoadBalancer.py:90: DataConversionWarning: A column-vector y was passed when a 1d array was expected. Please change the shape of y to (n_samples,), for example using ravel().\n",
      "  self.model = self.model.fit(self.X, self.y) #make sure the hat the last period x is ignored\n"
     ]
    },
    {
     "name": "stdout",
     "output_type": "stream",
     "text": [
      "36645 1984 11 13505.0\n",
      "0.9812290953944358\n",
      "(20, 8) (20, 1)\n"
     ]
    },
    {
     "name": "stderr",
     "output_type": "stream",
     "text": [
      "../sim/GELoadBalancer.py:90: DataConversionWarning: A column-vector y was passed when a 1d array was expected. Please change the shape of y to (n_samples,), for example using ravel().\n",
      "  self.model = self.model.fit(self.X, self.y) #make sure the hat the last period x is ignored\n"
     ]
    },
    {
     "name": "stdout",
     "output_type": "stream",
     "text": [
      "Max reward for 27888.4 18\n",
      "18\n",
      "npa 10.180661371361756\n",
      "36880 7 18 31410.0\n",
      "0.9857169070554465\n",
      "(21, 8) (21, 1)\n",
      "24\n",
      "npa 10.249854345142603\n"
     ]
    },
    {
     "name": "stderr",
     "output_type": "stream",
     "text": [
      "../sim/GELoadBalancer.py:90: DataConversionWarning: A column-vector y was passed when a 1d array was expected. Please change the shape of y to (n_samples,), for example using ravel().\n",
      "  self.model = self.model.fit(self.X, self.y) #make sure the hat the last period x is ignored\n"
     ]
    },
    {
     "name": "stdout",
     "output_type": "stream",
     "text": [
      "37104 0.0 24 29904.0\n",
      "0.983429411447329\n",
      "(22, 8) (22, 1)\n",
      "15\n",
      "npa 10.35241675197691\n"
     ]
    },
    {
     "name": "stderr",
     "output_type": "stream",
     "text": [
      "../sim/GELoadBalancer.py:90: DataConversionWarning: A column-vector y was passed when a 1d array was expected. Please change the shape of y to (n_samples,), for example using ravel().\n",
      "  self.model = self.model.fit(self.X, self.y) #make sure the hat the last period x is ignored\n"
     ]
    },
    {
     "name": "stdout",
     "output_type": "stream",
     "text": [
      "37134 517 15 27464.0\n",
      "0.9841114181841805\n",
      "(23, 8) (23, 1)\n",
      "17\n",
      "npa 10.3259796658118\n"
     ]
    },
    {
     "name": "stderr",
     "output_type": "stream",
     "text": [
      "../sim/GELoadBalancer.py:90: DataConversionWarning: A column-vector y was passed when a 1d array was expected. Please change the shape of y to (n_samples,), for example using ravel().\n",
      "  self.model = self.model.fit(self.X, self.y) #make sure the hat the last period x is ignored\n"
     ]
    },
    {
     "name": "stdout",
     "output_type": "stream",
     "text": [
      "37329 27 17 31959.0\n",
      "0.978860008015381\n",
      "(24, 8) (24, 1)\n"
     ]
    },
    {
     "name": "stderr",
     "output_type": "stream",
     "text": [
      "../sim/GELoadBalancer.py:90: DataConversionWarning: A column-vector y was passed when a 1d array was expected. Please change the shape of y to (n_samples,), for example using ravel().\n",
      "  self.model = self.model.fit(self.X, self.y) #make sure the hat the last period x is ignored\n"
     ]
    },
    {
     "name": "stdout",
     "output_type": "stream",
     "text": [
      "Max reward for 28569.5 17\n",
      "17\n",
      "npa 10.372844820612753\n",
      "37253 12 17 32033.0\n",
      "0.9912851966696901\n",
      "(25, 8) (25, 1)\n",
      "24\n",
      "npa 10.4032104646187\n"
     ]
    },
    {
     "name": "stderr",
     "output_type": "stream",
     "text": [
      "../sim/GELoadBalancer.py:90: DataConversionWarning: A column-vector y was passed when a 1d array was expected. Please change the shape of y to (n_samples,), for example using ravel().\n",
      "  self.model = self.model.fit(self.X, self.y) #make sure the hat the last period x is ignored\n"
     ]
    },
    {
     "name": "stdout",
     "output_type": "stream",
     "text": [
      "37433 0.0 24 30233.0\n",
      "0.9650866763125536\n",
      "(26, 8) (26, 1)\n",
      "25\n",
      "npa 10.390162566077946\n"
     ]
    },
    {
     "name": "stderr",
     "output_type": "stream",
     "text": [
      "../sim/GELoadBalancer.py:90: DataConversionWarning: A column-vector y was passed when a 1d array was expected. Please change the shape of y to (n_samples,), for example using ravel().\n",
      "  self.model = self.model.fit(self.X, self.y) #make sure the hat the last period x is ignored\n"
     ]
    },
    {
     "name": "stdout",
     "output_type": "stream",
     "text": [
      "37271 0.0 25 29771.0\n",
      "0.9911730998037045\n",
      "(27, 8) (27, 1)\n",
      "14\n",
      "npa 10.389182408087684\n"
     ]
    },
    {
     "name": "stderr",
     "output_type": "stream",
     "text": [
      "../sim/GELoadBalancer.py:90: DataConversionWarning: A column-vector y was passed when a 1d array was expected. Please change the shape of y to (n_samples,), for example using ravel().\n",
      "  self.model = self.model.fit(self.X, self.y) #make sure the hat the last period x is ignored\n"
     ]
    },
    {
     "name": "stdout",
     "output_type": "stream",
     "text": [
      "37320 951 14 23610.0\n",
      "0.9903265999235392\n",
      "(28, 8) (28, 1)\n",
      "15\n",
      "npa 10.358100021385189\n"
     ]
    },
    {
     "name": "stderr",
     "output_type": "stream",
     "text": [
      "../sim/GELoadBalancer.py:90: DataConversionWarning: A column-vector y was passed when a 1d array was expected. Please change the shape of y to (n_samples,), for example using ravel().\n",
      "  self.model = self.model.fit(self.X, self.y) #make sure the hat the last period x is ignored\n"
     ]
    },
    {
     "name": "stdout",
     "output_type": "stream",
     "text": [
      "37526 565 15 27376.0\n",
      "0.9890353045826938\n",
      "(29, 8) (29, 1)\n",
      "24\n",
      "npa 10.42564088423174\n"
     ]
    },
    {
     "name": "stderr",
     "output_type": "stream",
     "text": [
      "../sim/GELoadBalancer.py:90: DataConversionWarning: A column-vector y was passed when a 1d array was expected. Please change the shape of y to (n_samples,), for example using ravel().\n",
      "  self.model = self.model.fit(self.X, self.y) #make sure the hat the last period x is ignored\n"
     ]
    },
    {
     "name": "stdout",
     "output_type": "stream",
     "text": [
      "37860 8 24 30580.0\n",
      "0.9852224232719979\n",
      "(30, 8) (30, 1)\n"
     ]
    },
    {
     "name": "stderr",
     "output_type": "stream",
     "text": [
      "../sim/GELoadBalancer.py:90: DataConversionWarning: A column-vector y was passed when a 1d array was expected. Please change the shape of y to (n_samples,), for example using ravel().\n",
      "  self.model = self.model.fit(self.X, self.y) #make sure the hat the last period x is ignored\n"
     ]
    },
    {
     "name": "stdout",
     "output_type": "stream",
     "text": [
      "Max reward for 28191.0 17\n",
      "17\n",
      "npa 10.463179055473683\n",
      "37842 23 17 32512.0\n",
      "0.9897538890719391\n",
      "(31, 8) (31, 1)\n",
      "11\n",
      "npa 10.487937181563344\n"
     ]
    },
    {
     "name": "stderr",
     "output_type": "stream",
     "text": [
      "../sim/GELoadBalancer.py:90: DataConversionWarning: A column-vector y was passed when a 1d array was expected. Please change the shape of y to (n_samples,), for example using ravel().\n",
      "  self.model = self.model.fit(self.X, self.y) #make sure the hat the last period x is ignored\n"
     ]
    },
    {
     "name": "stdout",
     "output_type": "stream",
     "text": [
      "37598 2165 11 12648.0\n",
      "0.9888167857252832\n",
      "(32, 8) (32, 1)\n",
      "24\n",
      "npa 10.466969543217974\n"
     ]
    },
    {
     "name": "stderr",
     "output_type": "stream",
     "text": [
      "../sim/GELoadBalancer.py:90: DataConversionWarning: A column-vector y was passed when a 1d array was expected. Please change the shape of y to (n_samples,), for example using ravel().\n",
      "  self.model = self.model.fit(self.X, self.y) #make sure the hat the last period x is ignored\n"
     ]
    },
    {
     "name": "stdout",
     "output_type": "stream",
     "text": [
      "37487 2 24 30267.0\n",
      "0.9958054236353566\n",
      "(33, 8) (33, 1)\n",
      "23\n",
      "npa 10.406756068283919\n"
     ]
    },
    {
     "name": "stderr",
     "output_type": "stream",
     "text": [
      "../sim/GELoadBalancer.py:90: DataConversionWarning: A column-vector y was passed when a 1d array was expected. Please change the shape of y to (n_samples,), for example using ravel().\n",
      "  self.model = self.model.fit(self.X, self.y) #make sure the hat the last period x is ignored\n"
     ]
    },
    {
     "name": "stdout",
     "output_type": "stream",
     "text": [
      "37770 0.0 23 30870.0\n",
      "0.991807325065803\n",
      "(34, 8) (34, 1)\n",
      "27\n",
      "npa 10.475190091599575\n"
     ]
    },
    {
     "name": "stderr",
     "output_type": "stream",
     "text": [
      "../sim/GELoadBalancer.py:90: DataConversionWarning: A column-vector y was passed when a 1d array was expected. Please change the shape of y to (n_samples,), for example using ravel().\n",
      "  self.model = self.model.fit(self.X, self.y) #make sure the hat the last period x is ignored\n"
     ]
    },
    {
     "name": "stdout",
     "output_type": "stream",
     "text": [
      "37944 0.0 27 29844.0\n",
      "0.9879028618067489\n",
      "(35, 8) (35, 1)\n",
      "10\n",
      "npa 10.556537466771575\n"
     ]
    },
    {
     "name": "stderr",
     "output_type": "stream",
     "text": [
      "../sim/GELoadBalancer.py:90: DataConversionWarning: A column-vector y was passed when a 1d array was expected. Please change the shape of y to (n_samples,), for example using ravel().\n",
      "  self.model = self.model.fit(self.X, self.y) #make sure the hat the last period x is ignored\n"
     ]
    },
    {
     "name": "stdout",
     "output_type": "stream",
     "text": [
      "37890 2495 10 9940.0\n",
      "0.9913334304432809\n",
      "(36, 8) (36, 1)\n",
      "25\n",
      "npa 10.572908544506543\n"
     ]
    },
    {
     "name": "stderr",
     "output_type": "stream",
     "text": [
      "../sim/GELoadBalancer.py:90: DataConversionWarning: A column-vector y was passed when a 1d array was expected. Please change the shape of y to (n_samples,), for example using ravel().\n",
      "  self.model = self.model.fit(self.X, self.y) #make sure the hat the last period x is ignored\n"
     ]
    },
    {
     "name": "stdout",
     "output_type": "stream",
     "text": [
      "38193 3 25 30663.0\n",
      "0.9915519373681358\n",
      "(37, 8) (37, 1)\n",
      "19\n",
      "npa 10.587942792018401\n"
     ]
    },
    {
     "name": "stderr",
     "output_type": "stream",
     "text": [
      "../sim/GELoadBalancer.py:90: DataConversionWarning: A column-vector y was passed when a 1d array was expected. Please change the shape of y to (n_samples,), for example using ravel().\n",
      "  self.model = self.model.fit(self.X, self.y) #make sure the hat the last period x is ignored\n"
     ]
    },
    {
     "name": "stdout",
     "output_type": "stream",
     "text": [
      "38157 0.0 19 32457.0\n",
      "0.9874525872991394\n",
      "(38, 8) (38, 1)\n",
      "23\n",
      "npa 10.630739638533376\n"
     ]
    },
    {
     "name": "stderr",
     "output_type": "stream",
     "text": [
      "../sim/GELoadBalancer.py:90: DataConversionWarning: A column-vector y was passed when a 1d array was expected. Please change the shape of y to (n_samples,), for example using ravel().\n",
      "  self.model = self.model.fit(self.X, self.y) #make sure the hat the last period x is ignored\n"
     ]
    },
    {
     "name": "stdout",
     "output_type": "stream",
     "text": [
      "37950 0.0 23 31050.0\n",
      "0.9923632274796949\n",
      "(39, 8) (39, 1)\n",
      "27\n",
      "npa 10.550771933935662\n"
     ]
    },
    {
     "name": "stderr",
     "output_type": "stream",
     "text": [
      "../sim/GELoadBalancer.py:90: DataConversionWarning: A column-vector y was passed when a 1d array was expected. Please change the shape of y to (n_samples,), for example using ravel().\n",
      "  self.model = self.model.fit(self.X, self.y) #make sure the hat the last period x is ignored\n"
     ]
    },
    {
     "name": "stdout",
     "output_type": "stream",
     "text": [
      "37846 0.0 27 29746.0\n",
      "0.9902424571760436\n",
      "(40, 8) (40, 1)\n",
      "22\n",
      "npa 10.537546599655252\n"
     ]
    },
    {
     "name": "stderr",
     "output_type": "stream",
     "text": [
      "../sim/GELoadBalancer.py:90: DataConversionWarning: A column-vector y was passed when a 1d array was expected. Please change the shape of y to (n_samples,), for example using ravel().\n",
      "  self.model = self.model.fit(self.X, self.y) #make sure the hat the last period x is ignored\n"
     ]
    },
    {
     "name": "stdout",
     "output_type": "stream",
     "text": [
      "38460 0.0 22 31860.0\n",
      "0.9932672411620429\n",
      "(41, 8) (41, 1)\n",
      "29\n",
      "npa 10.666256256119738\n"
     ]
    },
    {
     "name": "stderr",
     "output_type": "stream",
     "text": [
      "../sim/GELoadBalancer.py:90: DataConversionWarning: A column-vector y was passed when a 1d array was expected. Please change the shape of y to (n_samples,), for example using ravel().\n",
      "  self.model = self.model.fit(self.X, self.y) #make sure the hat the last period x is ignored\n"
     ]
    },
    {
     "name": "stdout",
     "output_type": "stream",
     "text": [
      "38770 0.0 29 30070.0\n",
      "0.9922772157529143\n",
      "(42, 8) (42, 1)\n",
      "29\n",
      "npa 10.762287383583196\n"
     ]
    },
    {
     "name": "stderr",
     "output_type": "stream",
     "text": [
      "../sim/GELoadBalancer.py:90: DataConversionWarning: A column-vector y was passed when a 1d array was expected. Please change the shape of y to (n_samples,), for example using ravel().\n",
      "  self.model = self.model.fit(self.X, self.y) #make sure the hat the last period x is ignored\n"
     ]
    },
    {
     "name": "stdout",
     "output_type": "stream",
     "text": [
      "38653 0.0 29 29953.0\n",
      "0.9932126552592603\n",
      "(43, 8) (43, 1)\n",
      "24\n",
      "npa 10.70699835333552\n"
     ]
    },
    {
     "name": "stderr",
     "output_type": "stream",
     "text": [
      "../sim/GELoadBalancer.py:90: DataConversionWarning: A column-vector y was passed when a 1d array was expected. Please change the shape of y to (n_samples,), for example using ravel().\n",
      "  self.model = self.model.fit(self.X, self.y) #make sure the hat the last period x is ignored\n"
     ]
    },
    {
     "name": "stdout",
     "output_type": "stream",
     "text": [
      "38577 0.0 24 31377.0\n",
      "0.9889881596484565\n",
      "(44, 8) (44, 1)\n",
      "20\n",
      "npa 10.715281845492573\n"
     ]
    },
    {
     "name": "stderr",
     "output_type": "stream",
     "text": [
      "../sim/GELoadBalancer.py:90: DataConversionWarning: A column-vector y was passed when a 1d array was expected. Please change the shape of y to (n_samples,), for example using ravel().\n",
      "  self.model = self.model.fit(self.X, self.y) #make sure the hat the last period x is ignored\n"
     ]
    },
    {
     "name": "stdout",
     "output_type": "stream",
     "text": [
      "38582 0.0 20 32582.0\n",
      "0.9922078313710201\n",
      "(45, 8) (45, 1)\n",
      "16\n",
      "npa 10.701747991664831\n"
     ]
    },
    {
     "name": "stderr",
     "output_type": "stream",
     "text": [
      "../sim/GELoadBalancer.py:90: DataConversionWarning: A column-vector y was passed when a 1d array was expected. Please change the shape of y to (n_samples,), for example using ravel().\n",
      "  self.model = self.model.fit(self.X, self.y) #make sure the hat the last period x is ignored\n"
     ]
    },
    {
     "name": "stdout",
     "output_type": "stream",
     "text": [
      "38495 272 16 30975.0\n",
      "0.9940268369982603\n",
      "(46, 8) (46, 1)\n",
      "Max reward for 30402.8 17\n",
      "17\n",
      "npa 10.710282992964743\n"
     ]
    },
    {
     "name": "stderr",
     "output_type": "stream",
     "text": [
      "../sim/GELoadBalancer.py:90: DataConversionWarning: A column-vector y was passed when a 1d array was expected. Please change the shape of y to (n_samples,), for example using ravel().\n",
      "  self.model = self.model.fit(self.X, self.y) #make sure the hat the last period x is ignored\n"
     ]
    },
    {
     "name": "stdout",
     "output_type": "stream",
     "text": [
      "38384 54 17 32744.0\n",
      "0.9888908169530084\n",
      "(47, 8) (47, 1)\n",
      "20\n",
      "npa 10.702563377560503\n"
     ]
    },
    {
     "name": "stderr",
     "output_type": "stream",
     "text": [
      "../sim/GELoadBalancer.py:90: DataConversionWarning: A column-vector y was passed when a 1d array was expected. Please change the shape of y to (n_samples,), for example using ravel().\n",
      "  self.model = self.model.fit(self.X, self.y) #make sure the hat the last period x is ignored\n"
     ]
    },
    {
     "name": "stdout",
     "output_type": "stream",
     "text": [
      "38819 0.0 20 32819.0\n",
      "0.9959996726675414\n",
      "(48, 8) (48, 1)\n",
      "10\n",
      "npa 10.794682105993616\n"
     ]
    },
    {
     "name": "stderr",
     "output_type": "stream",
     "text": [
      "../sim/GELoadBalancer.py:90: DataConversionWarning: A column-vector y was passed when a 1d array was expected. Please change the shape of y to (n_samples,), for example using ravel().\n",
      "  self.model = self.model.fit(self.X, self.y) #make sure the hat the last period x is ignored\n"
     ]
    },
    {
     "name": "stdout",
     "output_type": "stream",
     "text": [
      "38602 2528 10 10322.0\n",
      "0.9946182067535352\n",
      "(49, 8) (49, 1)\n",
      "20\n",
      "npa 10.740708086366004\n"
     ]
    },
    {
     "name": "stderr",
     "output_type": "stream",
     "text": [
      "../sim/GELoadBalancer.py:90: DataConversionWarning: A column-vector y was passed when a 1d array was expected. Please change the shape of y to (n_samples,), for example using ravel().\n",
      "  self.model = self.model.fit(self.X, self.y) #make sure the hat the last period x is ignored\n"
     ]
    },
    {
     "name": "stdout",
     "output_type": "stream",
     "text": [
      "38738 5 20 32688.0\n",
      "0.9958928923714663\n",
      "(50, 8) (50, 1)\n",
      "22\n",
      "npa 10.722448638033184\n"
     ]
    },
    {
     "name": "stderr",
     "output_type": "stream",
     "text": [
      "../sim/GELoadBalancer.py:90: DataConversionWarning: A column-vector y was passed when a 1d array was expected. Please change the shape of y to (n_samples,), for example using ravel().\n",
      "  self.model = self.model.fit(self.X, self.y) #make sure the hat the last period x is ignored\n"
     ]
    },
    {
     "name": "stdout",
     "output_type": "stream",
     "text": [
      "38550 0.0 22 31950.0\n",
      "0.9944299449229106\n",
      "(51, 8) (51, 1)\n",
      "15\n",
      "npa 10.726463678383817\n"
     ]
    },
    {
     "name": "stderr",
     "output_type": "stream",
     "text": [
      "../sim/GELoadBalancer.py:90: DataConversionWarning: A column-vector y was passed when a 1d array was expected. Please change the shape of y to (n_samples,), for example using ravel().\n",
      "  self.model = self.model.fit(self.X, self.y) #make sure the hat the last period x is ignored\n"
     ]
    },
    {
     "name": "stdout",
     "output_type": "stream",
     "text": [
      "38417 743 15 26487.0\n",
      "0.9946222771796117\n",
      "(52, 8) (52, 1)\n",
      "13\n",
      "npa 10.669560364912067\n"
     ]
    },
    {
     "name": "stderr",
     "output_type": "stream",
     "text": [
      "../sim/GELoadBalancer.py:90: DataConversionWarning: A column-vector y was passed when a 1d array was expected. Please change the shape of y to (n_samples,), for example using ravel().\n",
      "  self.model = self.model.fit(self.X, self.y) #make sure the hat the last period x is ignored\n"
     ]
    },
    {
     "name": "stdout",
     "output_type": "stream",
     "text": [
      "38396 1579 13 18706.0\n",
      "0.9919724428859372\n",
      "(53, 8) (53, 1)\n",
      "13\n",
      "npa 10.676892133853363\n"
     ]
    },
    {
     "name": "stderr",
     "output_type": "stream",
     "text": [
      "../sim/GELoadBalancer.py:90: DataConversionWarning: A column-vector y was passed when a 1d array was expected. Please change the shape of y to (n_samples,), for example using ravel().\n",
      "  self.model = self.model.fit(self.X, self.y) #make sure the hat the last period x is ignored\n"
     ]
    },
    {
     "name": "stdout",
     "output_type": "stream",
     "text": [
      "38400 1632 13 18180.0\n",
      "0.9929765044360807\n",
      "(54, 8) (54, 1)\n",
      "24\n",
      "npa 10.634222686571293\n"
     ]
    },
    {
     "name": "stderr",
     "output_type": "stream",
     "text": [
      "../sim/GELoadBalancer.py:90: DataConversionWarning: A column-vector y was passed when a 1d array was expected. Please change the shape of y to (n_samples,), for example using ravel().\n",
      "  self.model = self.model.fit(self.X, self.y) #make sure the hat the last period x is ignored\n"
     ]
    },
    {
     "name": "stdout",
     "output_type": "stream",
     "text": [
      "38714 2 24 31494.0\n",
      "0.9946586910211238\n",
      "(55, 8) (55, 1)\n",
      "Max reward for 29956.5 20\n",
      "20\n",
      "npa 10.720118044894392\n"
     ]
    },
    {
     "name": "stderr",
     "output_type": "stream",
     "text": [
      "../sim/GELoadBalancer.py:90: DataConversionWarning: A column-vector y was passed when a 1d array was expected. Please change the shape of y to (n_samples,), for example using ravel().\n",
      "  self.model = self.model.fit(self.X, self.y) #make sure the hat the last period x is ignored\n"
     ]
    },
    {
     "name": "stdout",
     "output_type": "stream",
     "text": [
      "38666 0.0 20 32666.0\n",
      "0.9929746379645171\n",
      "(56, 8) (56, 1)\n",
      "Max reward for 30059.1 17\n",
      "17\n",
      "npa 10.694996888964486\n"
     ]
    },
    {
     "name": "stderr",
     "output_type": "stream",
     "text": [
      "../sim/GELoadBalancer.py:90: DataConversionWarning: A column-vector y was passed when a 1d array was expected. Please change the shape of y to (n_samples,), for example using ravel().\n",
      "  self.model = self.model.fit(self.X, self.y) #make sure the hat the last period x is ignored\n"
     ]
    },
    {
     "name": "stdout",
     "output_type": "stream",
     "text": [
      "38561 44 17 33021.0\n",
      "0.9920866455573644\n",
      "(57, 8) (57, 1)\n",
      "17\n",
      "npa 10.702894235490671\n"
     ]
    },
    {
     "name": "stderr",
     "output_type": "stream",
     "text": [
      "../sim/GELoadBalancer.py:90: DataConversionWarning: A column-vector y was passed when a 1d array was expected. Please change the shape of y to (n_samples,), for example using ravel().\n",
      "  self.model = self.model.fit(self.X, self.y) #make sure the hat the last period x is ignored\n"
     ]
    },
    {
     "name": "stdout",
     "output_type": "stream",
     "text": [
      "38567 51 17 32957.0\n",
      "0.9937864460858388\n",
      "(58, 8) (58, 1)\n",
      "25\n",
      "npa 10.713215587075455\n"
     ]
    },
    {
     "name": "stderr",
     "output_type": "stream",
     "text": [
      "../sim/GELoadBalancer.py:90: DataConversionWarning: A column-vector y was passed when a 1d array was expected. Please change the shape of y to (n_samples,), for example using ravel().\n",
      "  self.model = self.model.fit(self.X, self.y) #make sure the hat the last period x is ignored\n"
     ]
    },
    {
     "name": "stdout",
     "output_type": "stream",
     "text": [
      "38562 0.0 25 31062.0\n",
      "0.9947454474831697\n",
      "(59, 8) (59, 1)\n",
      "Max reward for 30099.0 17\n",
      "17\n",
      "npa 10.726311456258655\n"
     ]
    },
    {
     "name": "stderr",
     "output_type": "stream",
     "text": [
      "../sim/GELoadBalancer.py:90: DataConversionWarning: A column-vector y was passed when a 1d array was expected. Please change the shape of y to (n_samples,), for example using ravel().\n",
      "  self.model = self.model.fit(self.X, self.y) #make sure the hat the last period x is ignored\n"
     ]
    },
    {
     "name": "stdout",
     "output_type": "stream",
     "text": [
      "38691 57 17 33021.0\n",
      "0.9931463259201605\n",
      "(60, 8) (60, 1)\n",
      "17\n",
      "npa 10.73941266752096\n"
     ]
    },
    {
     "name": "stderr",
     "output_type": "stream",
     "text": [
      "../sim/GELoadBalancer.py:90: DataConversionWarning: A column-vector y was passed when a 1d array was expected. Please change the shape of y to (n_samples,), for example using ravel().\n",
      "  self.model = self.model.fit(self.X, self.y) #make sure the hat the last period x is ignored\n"
     ]
    },
    {
     "name": "stdout",
     "output_type": "stream",
     "text": [
      "38771 47 17 33201.0\n",
      "0.9943844195744637\n",
      "(61, 8) (61, 1)\n",
      "Max reward for 30322.1 17\n",
      "17\n",
      "npa 10.715745250957735\n"
     ]
    },
    {
     "name": "stderr",
     "output_type": "stream",
     "text": [
      "../sim/GELoadBalancer.py:90: DataConversionWarning: A column-vector y was passed when a 1d array was expected. Please change the shape of y to (n_samples,), for example using ravel().\n",
      "  self.model = self.model.fit(self.X, self.y) #make sure the hat the last period x is ignored\n"
     ]
    },
    {
     "name": "stdout",
     "output_type": "stream",
     "text": [
      "38280 36 17 32820.0\n",
      "0.9967665314462466\n",
      "(62, 8) (62, 1)\n",
      "20\n",
      "npa 10.654061223359617\n"
     ]
    },
    {
     "name": "stderr",
     "output_type": "stream",
     "text": [
      "../sim/GELoadBalancer.py:90: DataConversionWarning: A column-vector y was passed when a 1d array was expected. Please change the shape of y to (n_samples,), for example using ravel().\n",
      "  self.model = self.model.fit(self.X, self.y) #make sure the hat the last period x is ignored\n"
     ]
    },
    {
     "name": "stdout",
     "output_type": "stream",
     "text": [
      "38090 0.0 20 32090.0\n",
      "0.9960747700469308\n",
      "(63, 8) (63, 1)\n",
      "16\n",
      "npa 10.564180887184449\n"
     ]
    },
    {
     "name": "stderr",
     "output_type": "stream",
     "text": [
      "../sim/GELoadBalancer.py:90: DataConversionWarning: A column-vector y was passed when a 1d array was expected. Please change the shape of y to (n_samples,), for example using ravel().\n",
      "  self.model = self.model.fit(self.X, self.y) #make sure the hat the last period x is ignored\n"
     ]
    },
    {
     "name": "stdout",
     "output_type": "stream",
     "text": [
      "37957 223 16 30927.0\n",
      "0.9946966381148193\n",
      "(64, 8) (64, 1)\n",
      "15\n",
      "npa 10.533946204807267\n"
     ]
    },
    {
     "name": "stderr",
     "output_type": "stream",
     "text": [
      "../sim/GELoadBalancer.py:90: DataConversionWarning: A column-vector y was passed when a 1d array was expected. Please change the shape of y to (n_samples,), for example using ravel().\n",
      "  self.model = self.model.fit(self.X, self.y) #make sure the hat the last period x is ignored\n"
     ]
    },
    {
     "name": "stdout",
     "output_type": "stream",
     "text": [
      "37819 602 15 27299.0\n",
      "0.9915896797989601\n",
      "(65, 8) (65, 1)\n",
      "21\n",
      "npa 10.552271102464044\n"
     ]
    },
    {
     "name": "stderr",
     "output_type": "stream",
     "text": [
      "../sim/GELoadBalancer.py:90: DataConversionWarning: A column-vector y was passed when a 1d array was expected. Please change the shape of y to (n_samples,), for example using ravel().\n",
      "  self.model = self.model.fit(self.X, self.y) #make sure the hat the last period x is ignored\n"
     ]
    },
    {
     "name": "stdout",
     "output_type": "stream",
     "text": [
      "37703 4 21 31363.0\n",
      "0.9950115970501785\n",
      "(66, 8) (66, 1)\n",
      "22\n",
      "npa 10.446990722251323\n"
     ]
    },
    {
     "name": "stderr",
     "output_type": "stream",
     "text": [
      "../sim/GELoadBalancer.py:90: DataConversionWarning: A column-vector y was passed when a 1d array was expected. Please change the shape of y to (n_samples,), for example using ravel().\n",
      "  self.model = self.model.fit(self.X, self.y) #make sure the hat the last period x is ignored\n"
     ]
    },
    {
     "name": "stdout",
     "output_type": "stream",
     "text": [
      "37429 0.0 22 30829.0\n",
      "0.9966108108154543\n",
      "(67, 8) (67, 1)\n",
      "15\n",
      "npa 10.328720309059905\n"
     ]
    },
    {
     "name": "stderr",
     "output_type": "stream",
     "text": [
      "../sim/GELoadBalancer.py:90: DataConversionWarning: A column-vector y was passed when a 1d array was expected. Please change the shape of y to (n_samples,), for example using ravel().\n",
      "  self.model = self.model.fit(self.X, self.y) #make sure the hat the last period x is ignored\n"
     ]
    },
    {
     "name": "stdout",
     "output_type": "stream",
     "text": [
      "36850 441 15 27940.0\n",
      "0.997340191265504\n",
      "(68, 8) (68, 1)\n",
      "24\n",
      "npa 10.231188591930943\n"
     ]
    },
    {
     "name": "stderr",
     "output_type": "stream",
     "text": [
      "../sim/GELoadBalancer.py:90: DataConversionWarning: A column-vector y was passed when a 1d array was expected. Please change the shape of y to (n_samples,), for example using ravel().\n",
      "  self.model = self.model.fit(self.X, self.y) #make sure the hat the last period x is ignored\n"
     ]
    },
    {
     "name": "stdout",
     "output_type": "stream",
     "text": [
      "36911 3 24 29681.0\n",
      "0.9979578135486298\n",
      "(69, 8) (69, 1)\n",
      "21\n",
      "npa 10.20416049536636\n"
     ]
    },
    {
     "name": "stderr",
     "output_type": "stream",
     "text": [
      "../sim/GELoadBalancer.py:90: DataConversionWarning: A column-vector y was passed when a 1d array was expected. Please change the shape of y to (n_samples,), for example using ravel().\n",
      "  self.model = self.model.fit(self.X, self.y) #make sure the hat the last period x is ignored\n"
     ]
    },
    {
     "name": "stdout",
     "output_type": "stream",
     "text": [
      "36597 0.0 21 30297.0\n",
      "0.9962246526761673\n",
      "(70, 8) (70, 1)\n",
      "26\n",
      "npa 10.155680571811345\n"
     ]
    },
    {
     "name": "stderr",
     "output_type": "stream",
     "text": [
      "../sim/GELoadBalancer.py:90: DataConversionWarning: A column-vector y was passed when a 1d array was expected. Please change the shape of y to (n_samples,), for example using ravel().\n",
      "  self.model = self.model.fit(self.X, self.y) #make sure the hat the last period x is ignored\n"
     ]
    },
    {
     "name": "stdout",
     "output_type": "stream",
     "text": [
      "36686 0.0 26 28886.0\n",
      "0.9962861505477433\n",
      "(71, 8) (71, 1)\n",
      "Max reward for 28342.5 17\n",
      "17\n",
      "npa 10.150992498678432\n"
     ]
    },
    {
     "name": "stderr",
     "output_type": "stream",
     "text": [
      "../sim/GELoadBalancer.py:90: DataConversionWarning: A column-vector y was passed when a 1d array was expected. Please change the shape of y to (n_samples,), for example using ravel().\n",
      "  self.model = self.model.fit(self.X, self.y) #make sure the hat the last period x is ignored\n"
     ]
    },
    {
     "name": "stdout",
     "output_type": "stream",
     "text": [
      "36604 1 17 31494.0\n",
      "0.9927582443738834\n",
      "(72, 8) (72, 1)\n",
      "15\n",
      "npa 10.110445455250932\n"
     ]
    },
    {
     "name": "stderr",
     "output_type": "stream",
     "text": [
      "../sim/GELoadBalancer.py:90: DataConversionWarning: A column-vector y was passed when a 1d array was expected. Please change the shape of y to (n_samples,), for example using ravel().\n",
      "  self.model = self.model.fit(self.X, self.y) #make sure the hat the last period x is ignored\n"
     ]
    },
    {
     "name": "stdout",
     "output_type": "stream",
     "text": [
      "36328 323 15 28598.0\n",
      "0.9950521652619748\n",
      "(73, 8) (73, 1)\n",
      "Max reward for 27926.1 17\n",
      "17\n",
      "npa 10.154831535592809\n"
     ]
    },
    {
     "name": "stderr",
     "output_type": "stream",
     "text": [
      "../sim/GELoadBalancer.py:90: DataConversionWarning: A column-vector y was passed when a 1d array was expected. Please change the shape of y to (n_samples,), for example using ravel().\n",
      "  self.model = self.model.fit(self.X, self.y) #make sure the hat the last period x is ignored\n"
     ]
    },
    {
     "name": "stdout",
     "output_type": "stream",
     "text": [
      "36447 9 17 31257.0\n",
      "0.9945220253888469\n",
      "(74, 8) (74, 1)\n",
      "25\n",
      "npa 10.135666152981335\n"
     ]
    },
    {
     "name": "stderr",
     "output_type": "stream",
     "text": [
      "../sim/GELoadBalancer.py:90: DataConversionWarning: A column-vector y was passed when a 1d array was expected. Please change the shape of y to (n_samples,), for example using ravel().\n",
      "  self.model = self.model.fit(self.X, self.y) #make sure the hat the last period x is ignored\n"
     ]
    },
    {
     "name": "stdout",
     "output_type": "stream",
     "text": [
      "36167 0.0 25 28667.0\n",
      "0.9939625842952637\n",
      "(75, 8) (75, 1)\n",
      "26\n",
      "npa 10.033450727825663\n"
     ]
    },
    {
     "name": "stderr",
     "output_type": "stream",
     "text": [
      "../sim/GELoadBalancer.py:90: DataConversionWarning: A column-vector y was passed when a 1d array was expected. Please change the shape of y to (n_samples,), for example using ravel().\n",
      "  self.model = self.model.fit(self.X, self.y) #make sure the hat the last period x is ignored\n"
     ]
    },
    {
     "name": "stdout",
     "output_type": "stream",
     "text": [
      "36047 0.0 26 28247.0\n",
      "0.9887373174032719\n",
      "(76, 8) (76, 1)\n",
      "23\n",
      "npa 10.043495853995724\n"
     ]
    },
    {
     "name": "stderr",
     "output_type": "stream",
     "text": [
      "../sim/GELoadBalancer.py:90: DataConversionWarning: A column-vector y was passed when a 1d array was expected. Please change the shape of y to (n_samples,), for example using ravel().\n",
      "  self.model = self.model.fit(self.X, self.y) #make sure the hat the last period x is ignored\n"
     ]
    },
    {
     "name": "stdout",
     "output_type": "stream",
     "text": [
      "36190 0.0 23 29290.0\n",
      "0.9924856160629616\n",
      "(77, 8) (77, 1)\n",
      "26\n",
      "npa 10.059145360513696\n"
     ]
    },
    {
     "name": "stderr",
     "output_type": "stream",
     "text": [
      "../sim/GELoadBalancer.py:90: DataConversionWarning: A column-vector y was passed when a 1d array was expected. Please change the shape of y to (n_samples,), for example using ravel().\n",
      "  self.model = self.model.fit(self.X, self.y) #make sure the hat the last period x is ignored\n"
     ]
    },
    {
     "name": "stdout",
     "output_type": "stream",
     "text": [
      "36080 0.0 26 28280.0\n",
      "0.9966035329957921\n",
      "(78, 8) (78, 1)\n",
      "20\n",
      "npa 10.045742864928373\n"
     ]
    },
    {
     "name": "stderr",
     "output_type": "stream",
     "text": [
      "../sim/GELoadBalancer.py:90: DataConversionWarning: A column-vector y was passed when a 1d array was expected. Please change the shape of y to (n_samples,), for example using ravel().\n",
      "  self.model = self.model.fit(self.X, self.y) #make sure the hat the last period x is ignored\n"
     ]
    },
    {
     "name": "stdout",
     "output_type": "stream",
     "text": [
      "36311 0.0 20 30311.0\n",
      "0.9958611381305009\n",
      "(79, 8) (79, 1)\n",
      "13\n",
      "npa 10.057912509660527\n"
     ]
    },
    {
     "name": "stderr",
     "output_type": "stream",
     "text": [
      "../sim/GELoadBalancer.py:90: DataConversionWarning: A column-vector y was passed when a 1d array was expected. Please change the shape of y to (n_samples,), for example using ravel().\n",
      "  self.model = self.model.fit(self.X, self.y) #make sure the hat the last period x is ignored\n"
     ]
    },
    {
     "name": "stdout",
     "output_type": "stream",
     "text": [
      "36175 1238 13 19895.0\n",
      "0.9941392914089877\n",
      "(80, 8) (80, 1)\n",
      "19\n",
      "npa 10.052064369587555\n"
     ]
    },
    {
     "name": "stderr",
     "output_type": "stream",
     "text": [
      "../sim/GELoadBalancer.py:90: DataConversionWarning: A column-vector y was passed when a 1d array was expected. Please change the shape of y to (n_samples,), for example using ravel().\n",
      "  self.model = self.model.fit(self.X, self.y) #make sure the hat the last period x is ignored\n"
     ]
    },
    {
     "name": "stdout",
     "output_type": "stream",
     "text": [
      "36244 0.0 19 30544.0\n",
      "0.9920588220904423\n",
      "(81, 8) (81, 1)\n",
      "16\n",
      "npa 10.100850581853484\n"
     ]
    },
    {
     "name": "stderr",
     "output_type": "stream",
     "text": [
      "../sim/GELoadBalancer.py:90: DataConversionWarning: A column-vector y was passed when a 1d array was expected. Please change the shape of y to (n_samples,), for example using ravel().\n",
      "  self.model = self.model.fit(self.X, self.y) #make sure the hat the last period x is ignored\n"
     ]
    },
    {
     "name": "stdout",
     "output_type": "stream",
     "text": [
      "36451 41 16 31241.0\n",
      "0.9937875099401732\n",
      "(82, 8) (82, 1)\n",
      "18\n",
      "npa 10.136319001306289\n"
     ]
    },
    {
     "name": "stderr",
     "output_type": "stream",
     "text": [
      "../sim/GELoadBalancer.py:90: DataConversionWarning: A column-vector y was passed when a 1d array was expected. Please change the shape of y to (n_samples,), for example using ravel().\n",
      "  self.model = self.model.fit(self.X, self.y) #make sure the hat the last period x is ignored\n"
     ]
    },
    {
     "name": "stdout",
     "output_type": "stream",
     "text": [
      "36361 2 18 30941.0\n",
      "0.9953194297540408\n",
      "(83, 8) (83, 1)\n",
      "Max reward for 27808.2 17\n",
      "17\n",
      "npa 10.126137764683083\n"
     ]
    },
    {
     "name": "stderr",
     "output_type": "stream",
     "text": [
      "../sim/GELoadBalancer.py:90: DataConversionWarning: A column-vector y was passed when a 1d array was expected. Please change the shape of y to (n_samples,), for example using ravel().\n",
      "  self.model = self.model.fit(self.X, self.y) #make sure the hat the last period x is ignored\n"
     ]
    },
    {
     "name": "stdout",
     "output_type": "stream",
     "text": [
      "36798 2 17 31678.0\n",
      "0.9956279470515184\n",
      "(84, 8) (84, 1)\n",
      "10\n",
      "npa 10.181019010466525\n"
     ]
    },
    {
     "name": "stderr",
     "output_type": "stream",
     "text": [
      "../sim/GELoadBalancer.py:90: DataConversionWarning: A column-vector y was passed when a 1d array was expected. Please change the shape of y to (n_samples,), for example using ravel().\n",
      "  self.model = self.model.fit(self.X, self.y) #make sure the hat the last period x is ignored\n"
     ]
    },
    {
     "name": "stdout",
     "output_type": "stream",
     "text": [
      "36727 2335 10 10377.0\n",
      "0.9960916314860905\n",
      "(85, 8) (85, 1)\n",
      "Max reward for 28102.3 17\n",
      "17\n",
      "npa 10.188548388883744\n"
     ]
    },
    {
     "name": "stderr",
     "output_type": "stream",
     "text": [
      "../sim/GELoadBalancer.py:90: DataConversionWarning: A column-vector y was passed when a 1d array was expected. Please change the shape of y to (n_samples,), for example using ravel().\n",
      "  self.model = self.model.fit(self.X, self.y) #make sure the hat the last period x is ignored\n"
     ]
    },
    {
     "name": "stdout",
     "output_type": "stream",
     "text": [
      "36419 17 17 31149.0\n",
      "0.9980918864224116\n",
      "(86, 8) (86, 1)\n",
      "Max reward for 27933.8 17\n",
      "17\n",
      "npa 10.160822836924824\n"
     ]
    },
    {
     "name": "stderr",
     "output_type": "stream",
     "text": [
      "../sim/GELoadBalancer.py:90: DataConversionWarning: A column-vector y was passed when a 1d array was expected. Please change the shape of y to (n_samples,), for example using ravel().\n",
      "  self.model = self.model.fit(self.X, self.y) #make sure the hat the last period x is ignored\n"
     ]
    },
    {
     "name": "stdout",
     "output_type": "stream",
     "text": [
      "36540 7 17 31370.0\n",
      "0.9956687591742661\n",
      "(87, 8) (87, 1)\n",
      "30\n",
      "npa 10.120570346144921\n"
     ]
    },
    {
     "name": "stderr",
     "output_type": "stream",
     "text": [
      "../sim/GELoadBalancer.py:90: DataConversionWarning: A column-vector y was passed when a 1d array was expected. Please change the shape of y to (n_samples,), for example using ravel().\n",
      "  self.model = self.model.fit(self.X, self.y) #make sure the hat the last period x is ignored\n"
     ]
    },
    {
     "name": "stdout",
     "output_type": "stream",
     "text": [
      "36683 0.0 30 27683.0\n",
      "0.9956447275537377\n",
      "(88, 8) (88, 1)\n",
      "Max reward for 28174.5 16\n",
      "16\n",
      "npa 10.22890182055955\n"
     ]
    },
    {
     "name": "stderr",
     "output_type": "stream",
     "text": [
      "../sim/GELoadBalancer.py:90: DataConversionWarning: A column-vector y was passed when a 1d array was expected. Please change the shape of y to (n_samples,), for example using ravel().\n",
      "  self.model = self.model.fit(self.X, self.y) #make sure the hat the last period x is ignored\n"
     ]
    },
    {
     "name": "stdout",
     "output_type": "stream",
     "text": [
      "37079 98 16 31299.0\n",
      "0.9952143686173905\n",
      "(89, 8) (89, 1)\n",
      "29\n",
      "npa 10.28749409175825\n"
     ]
    },
    {
     "name": "stderr",
     "output_type": "stream",
     "text": [
      "../sim/GELoadBalancer.py:90: DataConversionWarning: A column-vector y was passed when a 1d array was expected. Please change the shape of y to (n_samples,), for example using ravel().\n",
      "  self.model = self.model.fit(self.X, self.y) #make sure the hat the last period x is ignored\n"
     ]
    },
    {
     "name": "stdout",
     "output_type": "stream",
     "text": [
      "37136 1 29 28426.0\n",
      "0.9952968707395629\n",
      "(90, 8) (90, 1)\n",
      "Max reward for 28712.2 17\n",
      "17\n",
      "npa 10.307438950928011\n"
     ]
    },
    {
     "name": "stderr",
     "output_type": "stream",
     "text": [
      "../sim/GELoadBalancer.py:90: DataConversionWarning: A column-vector y was passed when a 1d array was expected. Please change the shape of y to (n_samples,), for example using ravel().\n",
      "  self.model = self.model.fit(self.X, self.y) #make sure the hat the last period x is ignored\n"
     ]
    },
    {
     "name": "stdout",
     "output_type": "stream",
     "text": [
      "37158 6 17 31998.0\n",
      "0.9975095729928315\n",
      "(91, 8) (91, 1)\n",
      "16\n",
      "npa 10.297052454827309\n"
     ]
    },
    {
     "name": "stderr",
     "output_type": "stream",
     "text": [
      "../sim/GELoadBalancer.py:90: DataConversionWarning: A column-vector y was passed when a 1d array was expected. Please change the shape of y to (n_samples,), for example using ravel().\n",
      "  self.model = self.model.fit(self.X, self.y) #make sure the hat the last period x is ignored\n"
     ]
    },
    {
     "name": "stdout",
     "output_type": "stream",
     "text": [
      "37253 116 16 31293.0\n",
      "0.9950884657896973\n",
      "(92, 8) (92, 1)\n",
      "10\n",
      "npa 10.368581280846241\n"
     ]
    },
    {
     "name": "stderr",
     "output_type": "stream",
     "text": [
      "../sim/GELoadBalancer.py:90: DataConversionWarning: A column-vector y was passed when a 1d array was expected. Please change the shape of y to (n_samples,), for example using ravel().\n",
      "  self.model = self.model.fit(self.X, self.y) #make sure the hat the last period x is ignored\n"
     ]
    },
    {
     "name": "stdout",
     "output_type": "stream",
     "text": [
      "37089 2297 10 11119.0\n",
      "0.9933174625052551\n",
      "(93, 8) (93, 1)\n",
      "26\n",
      "npa 10.324892585079954\n"
     ]
    },
    {
     "name": "stderr",
     "output_type": "stream",
     "text": [
      "../sim/GELoadBalancer.py:90: DataConversionWarning: A column-vector y was passed when a 1d array was expected. Please change the shape of y to (n_samples,), for example using ravel().\n",
      "  self.model = self.model.fit(self.X, self.y) #make sure the hat the last period x is ignored\n"
     ]
    },
    {
     "name": "stdout",
     "output_type": "stream",
     "text": [
      "37157 10 26 29257.0\n",
      "0.9966381589196179\n",
      "(94, 8) (94, 1)\n",
      "13\n",
      "npa 10.302205804305059\n"
     ]
    },
    {
     "name": "stderr",
     "output_type": "stream",
     "text": [
      "../sim/GELoadBalancer.py:90: DataConversionWarning: A column-vector y was passed when a 1d array was expected. Please change the shape of y to (n_samples,), for example using ravel().\n",
      "  self.model = self.model.fit(self.X, self.y) #make sure the hat the last period x is ignored\n"
     ]
    },
    {
     "name": "stdout",
     "output_type": "stream",
     "text": [
      "36951 1357 13 19481.0\n",
      "0.9969922112997754\n",
      "(95, 8) (95, 1)\n",
      "19\n",
      "npa 10.292270249485915\n"
     ]
    },
    {
     "name": "stderr",
     "output_type": "stream",
     "text": [
      "../sim/GELoadBalancer.py:90: DataConversionWarning: A column-vector y was passed when a 1d array was expected. Please change the shape of y to (n_samples,), for example using ravel().\n",
      "  self.model = self.model.fit(self.X, self.y) #make sure the hat the last period x is ignored\n"
     ]
    },
    {
     "name": "stdout",
     "output_type": "stream",
     "text": [
      "37136 8 19 31356.0\n",
      "0.9961855223880831\n",
      "(96, 8) (96, 1)\n",
      "Max reward for 29001.0 17\n",
      "17\n",
      "npa 10.323084775340645\n"
     ]
    },
    {
     "name": "stderr",
     "output_type": "stream",
     "text": [
      "../sim/GELoadBalancer.py:90: DataConversionWarning: A column-vector y was passed when a 1d array was expected. Please change the shape of y to (n_samples,), for example using ravel().\n",
      "  self.model = self.model.fit(self.X, self.y) #make sure the hat the last period x is ignored\n"
     ]
    },
    {
     "name": "stdout",
     "output_type": "stream",
     "text": [
      "37380 19 17 32090.0\n",
      "0.995634104833308\n",
      "(97, 8) (97, 1)\n",
      "21\n",
      "npa 10.34883042258088\n"
     ]
    },
    {
     "name": "stderr",
     "output_type": "stream",
     "text": [
      "../sim/GELoadBalancer.py:90: DataConversionWarning: A column-vector y was passed when a 1d array was expected. Please change the shape of y to (n_samples,), for example using ravel().\n",
      "  self.model = self.model.fit(self.X, self.y) #make sure the hat the last period x is ignored\n"
     ]
    },
    {
     "name": "stdout",
     "output_type": "stream",
     "text": [
      "37395 0.0 21 31095.0\n",
      "0.9971020132416836\n",
      "(98, 8) (98, 1)\n",
      "Max reward for 29051.9 17\n",
      "17\n",
      "npa 10.365775678543185\n"
     ]
    },
    {
     "name": "stderr",
     "output_type": "stream",
     "text": [
      "../sim/GELoadBalancer.py:90: DataConversionWarning: A column-vector y was passed when a 1d array was expected. Please change the shape of y to (n_samples,), for example using ravel().\n",
      "  self.model = self.model.fit(self.X, self.y) #make sure the hat the last period x is ignored\n"
     ]
    },
    {
     "name": "stdout",
     "output_type": "stream",
     "text": [
      "37357 12 17 32137.0\n",
      "0.9985249667703444\n",
      "(99, 8) (99, 1)\n",
      "21\n",
      "npa 10.37525376273185\n"
     ]
    },
    {
     "name": "stderr",
     "output_type": "stream",
     "text": [
      "../sim/GELoadBalancer.py:90: DataConversionWarning: A column-vector y was passed when a 1d array was expected. Please change the shape of y to (n_samples,), for example using ravel().\n",
      "  self.model = self.model.fit(self.X, self.y) #make sure the hat the last period x is ignored\n"
     ]
    },
    {
     "name": "stdout",
     "output_type": "stream",
     "text": [
      "37654 0.0 21 31354.0\n",
      "0.9979434302437579\n",
      "(100, 8) (100, 1)\n",
      "17\n",
      "npa 10.526619615550668\n"
     ]
    },
    {
     "name": "stderr",
     "output_type": "stream",
     "text": [
      "../sim/GELoadBalancer.py:90: DataConversionWarning: A column-vector y was passed when a 1d array was expected. Please change the shape of y to (n_samples,), for example using ravel().\n",
      "  self.model = self.model.fit(self.X, self.y) #make sure the hat the last period x is ignored\n"
     ]
    },
    {
     "name": "stdout",
     "output_type": "stream",
     "text": [
      "38070 40 17 32570.0\n",
      "0.9964802718685937\n",
      "(101, 8) (101, 1)\n",
      "12\n",
      "npa 10.573424975541418\n"
     ]
    },
    {
     "name": "stderr",
     "output_type": "stream",
     "text": [
      "../sim/GELoadBalancer.py:90: DataConversionWarning: A column-vector y was passed when a 1d array was expected. Please change the shape of y to (n_samples,), for example using ravel().\n",
      "  self.model = self.model.fit(self.X, self.y) #make sure the hat the last period x is ignored\n"
     ]
    },
    {
     "name": "stdout",
     "output_type": "stream",
     "text": [
      "38569 2024 12 14729.0\n",
      "0.9964458923739438\n",
      "(102, 8) (102, 1)\n",
      "Max reward for 29932.4 17\n",
      "17\n",
      "npa 10.714477909934612\n"
     ]
    },
    {
     "name": "stderr",
     "output_type": "stream",
     "text": [
      "../sim/GELoadBalancer.py:90: DataConversionWarning: A column-vector y was passed when a 1d array was expected. Please change the shape of y to (n_samples,), for example using ravel().\n",
      "  self.model = self.model.fit(self.X, self.y) #make sure the hat the last period x is ignored\n"
     ]
    },
    {
     "name": "stdout",
     "output_type": "stream",
     "text": [
      "38659 103 17 32529.0\n",
      "0.9974136934982151\n",
      "(103, 8) (103, 1)\n",
      "18\n",
      "npa 10.738388930309673\n"
     ]
    },
    {
     "name": "stderr",
     "output_type": "stream",
     "text": [
      "../sim/GELoadBalancer.py:90: DataConversionWarning: A column-vector y was passed when a 1d array was expected. Please change the shape of y to (n_samples,), for example using ravel().\n",
      "  self.model = self.model.fit(self.X, self.y) #make sure the hat the last period x is ignored\n"
     ]
    },
    {
     "name": "stdout",
     "output_type": "stream",
     "text": [
      "38544 3 18 33114.0\n",
      "0.9982877998700045\n",
      "(104, 8) (104, 1)\n",
      "Max reward for 29998.9 17\n",
      "17\n",
      "npa 10.72822684835181\n"
     ]
    },
    {
     "name": "stderr",
     "output_type": "stream",
     "text": [
      "../sim/GELoadBalancer.py:90: DataConversionWarning: A column-vector y was passed when a 1d array was expected. Please change the shape of y to (n_samples,), for example using ravel().\n",
      "  self.model = self.model.fit(self.X, self.y) #make sure the hat the last period x is ignored\n"
     ]
    },
    {
     "name": "stdout",
     "output_type": "stream",
     "text": [
      "38542 54 17 32902.0\n",
      "0.9977222042748971\n",
      "(105, 8) (105, 1)\n",
      "19\n",
      "npa 10.706962529200096\n"
     ]
    },
    {
     "name": "stderr",
     "output_type": "stream",
     "text": [
      "../sim/GELoadBalancer.py:90: DataConversionWarning: A column-vector y was passed when a 1d array was expected. Please change the shape of y to (n_samples,), for example using ravel().\n",
      "  self.model = self.model.fit(self.X, self.y) #make sure the hat the last period x is ignored\n"
     ]
    },
    {
     "name": "stdout",
     "output_type": "stream",
     "text": [
      "38824 0.0 19 33124.0\n",
      "0.997375749138081\n",
      "(106, 8) (106, 1)\n",
      "Max reward for 30078.3 17\n",
      "17\n",
      "npa 10.740372215284845\n"
     ]
    },
    {
     "name": "stderr",
     "output_type": "stream",
     "text": [
      "../sim/GELoadBalancer.py:90: DataConversionWarning: A column-vector y was passed when a 1d array was expected. Please change the shape of y to (n_samples,), for example using ravel().\n",
      "  self.model = self.model.fit(self.X, self.y) #make sure the hat the last period x is ignored\n"
     ]
    },
    {
     "name": "stdout",
     "output_type": "stream",
     "text": [
      "38639 62 17 32919.0\n",
      "0.9967022595629996\n",
      "(107, 8) (107, 1)\n",
      "10\n",
      "npa 10.770058589817648\n"
     ]
    },
    {
     "name": "stderr",
     "output_type": "stream",
     "text": [
      "../sim/GELoadBalancer.py:90: DataConversionWarning: A column-vector y was passed when a 1d array was expected. Please change the shape of y to (n_samples,), for example using ravel().\n",
      "  self.model = self.model.fit(self.X, self.y) #make sure the hat the last period x is ignored\n"
     ]
    },
    {
     "name": "stdout",
     "output_type": "stream",
     "text": [
      "38888 2533 10 10558.0\n",
      "0.9974070549073735\n",
      "(108, 8) (108, 1)\n",
      "10\n",
      "npa 10.83094824059709\n"
     ]
    },
    {
     "name": "stderr",
     "output_type": "stream",
     "text": [
      "../sim/GELoadBalancer.py:90: DataConversionWarning: A column-vector y was passed when a 1d array was expected. Please change the shape of y to (n_samples,), for example using ravel().\n",
      "  self.model = self.model.fit(self.X, self.y) #make sure the hat the last period x is ignored\n"
     ]
    },
    {
     "name": "stdout",
     "output_type": "stream",
     "text": [
      "39061 2541 10 10651.0\n",
      "0.9970215189502996\n",
      "(109, 8) (109, 1)\n",
      "30\n",
      "npa 10.867805705259636\n"
     ]
    },
    {
     "name": "stderr",
     "output_type": "stream",
     "text": [
      "../sim/GELoadBalancer.py:90: DataConversionWarning: A column-vector y was passed when a 1d array was expected. Please change the shape of y to (n_samples,), for example using ravel().\n",
      "  self.model = self.model.fit(self.X, self.y) #make sure the hat the last period x is ignored\n"
     ]
    },
    {
     "name": "stdout",
     "output_type": "stream",
     "text": [
      "39133 3 30 30103.0\n",
      "0.9984943210447561\n",
      "(110, 8) (110, 1)\n",
      "16\n",
      "npa 10.816469191542643\n"
     ]
    },
    {
     "name": "stderr",
     "output_type": "stream",
     "text": [
      "../sim/GELoadBalancer.py:90: DataConversionWarning: A column-vector y was passed when a 1d array was expected. Please change the shape of y to (n_samples,), for example using ravel().\n",
      "  self.model = self.model.fit(self.X, self.y) #make sure the hat the last period x is ignored\n"
     ]
    },
    {
     "name": "stdout",
     "output_type": "stream",
     "text": [
      "38951 363 16 30521.0\n",
      "0.997397062669455\n",
      "(111, 8) (111, 1)\n",
      "Max reward for 29727.7 17\n",
      "17\n",
      "npa 10.841413395515803\n"
     ]
    },
    {
     "name": "stderr",
     "output_type": "stream",
     "text": [
      "../sim/GELoadBalancer.py:90: DataConversionWarning: A column-vector y was passed when a 1d array was expected. Please change the shape of y to (n_samples,), for example using ravel().\n",
      "  self.model = self.model.fit(self.X, self.y) #make sure the hat the last period x is ignored\n"
     ]
    },
    {
     "name": "stdout",
     "output_type": "stream",
     "text": [
      "38907 51 17 33297.0\n",
      "0.9976144089473324\n",
      "(112, 8) (112, 1)\n",
      "28\n",
      "npa 10.771644265448863\n"
     ]
    },
    {
     "name": "stderr",
     "output_type": "stream",
     "text": [
      "../sim/GELoadBalancer.py:90: DataConversionWarning: A column-vector y was passed when a 1d array was expected. Please change the shape of y to (n_samples,), for example using ravel().\n",
      "  self.model = self.model.fit(self.X, self.y) #make sure the hat the last period x is ignored\n"
     ]
    },
    {
     "name": "stdout",
     "output_type": "stream",
     "text": [
      "38834 0.0 28 30434.0\n",
      "0.9974205197950179\n",
      "(113, 8) (113, 1)\n",
      "30\n",
      "npa 10.791178385129314\n"
     ]
    },
    {
     "name": "stderr",
     "output_type": "stream",
     "text": [
      "../sim/GELoadBalancer.py:90: DataConversionWarning: A column-vector y was passed when a 1d array was expected. Please change the shape of y to (n_samples,), for example using ravel().\n",
      "  self.model = self.model.fit(self.X, self.y) #make sure the hat the last period x is ignored\n"
     ]
    },
    {
     "name": "stdout",
     "output_type": "stream",
     "text": [
      "38686 0.0 30 29686.0\n",
      "0.9986553591073833\n",
      "(114, 8) (114, 1)\n",
      "18\n",
      "npa 10.734153829919723\n"
     ]
    },
    {
     "name": "stderr",
     "output_type": "stream",
     "text": [
      "../sim/GELoadBalancer.py:90: DataConversionWarning: A column-vector y was passed when a 1d array was expected. Please change the shape of y to (n_samples,), for example using ravel().\n",
      "  self.model = self.model.fit(self.X, self.y) #make sure the hat the last period x is ignored\n"
     ]
    },
    {
     "name": "stdout",
     "output_type": "stream",
     "text": [
      "38424 3 18 32994.0\n",
      "0.9986095139683564\n",
      "(115, 8) (115, 1)\n",
      "20\n",
      "npa 10.704951057493869\n"
     ]
    },
    {
     "name": "stderr",
     "output_type": "stream",
     "text": [
      "../sim/GELoadBalancer.py:90: DataConversionWarning: A column-vector y was passed when a 1d array was expected. Please change the shape of y to (n_samples,), for example using ravel().\n",
      "  self.model = self.model.fit(self.X, self.y) #make sure the hat the last period x is ignored\n"
     ]
    },
    {
     "name": "stdout",
     "output_type": "stream",
     "text": [
      "38704 0.0 20 32704.0\n",
      "0.9980397029939612\n",
      "(116, 8) (116, 1)\n",
      "Max reward for 30103.2 17\n",
      "17\n",
      "npa 10.757326203668674\n"
     ]
    },
    {
     "name": "stderr",
     "output_type": "stream",
     "text": [
      "../sim/GELoadBalancer.py:90: DataConversionWarning: A column-vector y was passed when a 1d array was expected. Please change the shape of y to (n_samples,), for example using ravel().\n",
      "  self.model = self.model.fit(self.X, self.y) #make sure the hat the last period x is ignored\n"
     ]
    },
    {
     "name": "stdout",
     "output_type": "stream",
     "text": [
      "38655 56 17 32995.0\n",
      "0.9968481101254164\n",
      "(117, 8) (117, 1)\n",
      "17\n",
      "npa 10.771883433381701\n"
     ]
    },
    {
     "name": "stderr",
     "output_type": "stream",
     "text": [
      "../sim/GELoadBalancer.py:90: DataConversionWarning: A column-vector y was passed when a 1d array was expected. Please change the shape of y to (n_samples,), for example using ravel().\n",
      "  self.model = self.model.fit(self.X, self.y) #make sure the hat the last period x is ignored\n"
     ]
    },
    {
     "name": "stdout",
     "output_type": "stream",
     "text": [
      "39055 81 17 33145.0\n",
      "0.9965629864970216\n",
      "(118, 8) (118, 1)\n",
      "24\n",
      "npa 10.854882270847856\n"
     ]
    },
    {
     "name": "stderr",
     "output_type": "stream",
     "text": [
      "../sim/GELoadBalancer.py:90: DataConversionWarning: A column-vector y was passed when a 1d array was expected. Please change the shape of y to (n_samples,), for example using ravel().\n",
      "  self.model = self.model.fit(self.X, self.y) #make sure the hat the last period x is ignored\n"
     ]
    },
    {
     "name": "stdout",
     "output_type": "stream",
     "text": [
      "39385 0.0 24 32185.0\n",
      "0.9976325029094256\n",
      "(119, 8) (119, 1)\n",
      "15\n",
      "npa 10.902094399983978\n"
     ]
    },
    {
     "name": "stderr",
     "output_type": "stream",
     "text": [
      "../sim/GELoadBalancer.py:90: DataConversionWarning: A column-vector y was passed when a 1d array was expected. Please change the shape of y to (n_samples,), for example using ravel().\n",
      "  self.model = self.model.fit(self.X, self.y) #make sure the hat the last period x is ignored\n"
     ]
    },
    {
     "name": "stdout",
     "output_type": "stream",
     "text": [
      "38835 795 15 26385.0\n",
      "0.9976660648341312\n",
      "(120, 8) (120, 1)\n",
      "12\n",
      "npa 10.830239949395851\n"
     ]
    },
    {
     "name": "stderr",
     "output_type": "stream",
     "text": [
      "../sim/GELoadBalancer.py:90: DataConversionWarning: A column-vector y was passed when a 1d array was expected. Please change the shape of y to (n_samples,), for example using ravel().\n",
      "  self.model = self.model.fit(self.X, self.y) #make sure the hat the last period x is ignored\n"
     ]
    },
    {
     "name": "stdout",
     "output_type": "stream",
     "text": [
      "38890 2093 12 14360.0\n",
      "0.9974944434213161\n",
      "(121, 8) (121, 1)\n",
      "Max reward for 30106.0 19\n",
      "19\n",
      "npa 10.818744042866927\n"
     ]
    },
    {
     "name": "stderr",
     "output_type": "stream",
     "text": [
      "../sim/GELoadBalancer.py:90: DataConversionWarning: A column-vector y was passed when a 1d array was expected. Please change the shape of y to (n_samples,), for example using ravel().\n",
      "  self.model = self.model.fit(self.X, self.y) #make sure the hat the last period x is ignored\n"
     ]
    },
    {
     "name": "stdout",
     "output_type": "stream",
     "text": [
      "38789 7 19 33019.0\n",
      "0.9985728744884306\n",
      "(122, 8) (122, 1)\n",
      "10\n",
      "npa 10.775349525933944\n"
     ]
    },
    {
     "name": "stderr",
     "output_type": "stream",
     "text": [
      "../sim/GELoadBalancer.py:90: DataConversionWarning: A column-vector y was passed when a 1d array was expected. Please change the shape of y to (n_samples,), for example using ravel().\n",
      "  self.model = self.model.fit(self.X, self.y) #make sure the hat the last period x is ignored\n"
     ]
    },
    {
     "name": "stdout",
     "output_type": "stream",
     "text": [
      "38758 2376 10 11998.0\n",
      "0.9979565865185681\n",
      "(123, 8) (123, 1)\n",
      "25\n",
      "npa 10.814827148251918\n"
     ]
    },
    {
     "name": "stderr",
     "output_type": "stream",
     "text": [
      "../sim/GELoadBalancer.py:90: DataConversionWarning: A column-vector y was passed when a 1d array was expected. Please change the shape of y to (n_samples,), for example using ravel().\n",
      "  self.model = self.model.fit(self.X, self.y) #make sure the hat the last period x is ignored\n"
     ]
    },
    {
     "name": "stdout",
     "output_type": "stream",
     "text": [
      "38607 4 25 31067.0\n",
      "0.9985875358511669\n",
      "(124, 8) (124, 1)\n",
      "15\n",
      "npa 10.723492940325173\n"
     ]
    },
    {
     "name": "stderr",
     "output_type": "stream",
     "text": [
      "../sim/GELoadBalancer.py:90: DataConversionWarning: A column-vector y was passed when a 1d array was expected. Please change the shape of y to (n_samples,), for example using ravel().\n",
      "  self.model = self.model.fit(self.X, self.y) #make sure the hat the last period x is ignored\n"
     ]
    },
    {
     "name": "stdout",
     "output_type": "stream",
     "text": [
      "38407 723 15 26677.0\n",
      "0.9979770301656904\n",
      "(125, 8) (125, 1)\n",
      "19\n",
      "npa 10.665731331351214\n"
     ]
    },
    {
     "name": "stderr",
     "output_type": "stream",
     "text": [
      "../sim/GELoadBalancer.py:90: DataConversionWarning: A column-vector y was passed when a 1d array was expected. Please change the shape of y to (n_samples,), for example using ravel().\n",
      "  self.model = self.model.fit(self.X, self.y) #make sure the hat the last period x is ignored\n"
     ]
    },
    {
     "name": "stdout",
     "output_type": "stream",
     "text": [
      "38301 0.0 19 32601.0\n",
      "0.9984427884877259\n",
      "(126, 8) (126, 1)\n",
      "11\n",
      "npa 10.570487626062565\n"
     ]
    },
    {
     "name": "stderr",
     "output_type": "stream",
     "text": [
      "../sim/GELoadBalancer.py:90: DataConversionWarning: A column-vector y was passed when a 1d array was expected. Please change the shape of y to (n_samples,), for example using ravel().\n",
      "  self.model = self.model.fit(self.X, self.y) #make sure the hat the last period x is ignored\n"
     ]
    },
    {
     "name": "stdout",
     "output_type": "stream",
     "text": [
      "37999 2342 11 11279.0\n",
      "0.9978546132416433\n",
      "(127, 8) (127, 1)\n",
      "27\n",
      "npa 10.607554188411955\n"
     ]
    },
    {
     "name": "stderr",
     "output_type": "stream",
     "text": [
      "../sim/GELoadBalancer.py:90: DataConversionWarning: A column-vector y was passed when a 1d array was expected. Please change the shape of y to (n_samples,), for example using ravel().\n",
      "  self.model = self.model.fit(self.X, self.y) #make sure the hat the last period x is ignored\n"
     ]
    },
    {
     "name": "stdout",
     "output_type": "stream",
     "text": [
      "38119 0.0 27 30019.0\n",
      "0.9974908132797697\n",
      "(128, 8) (128, 1)\n",
      "12\n",
      "npa 10.586542985467574\n"
     ]
    },
    {
     "name": "stderr",
     "output_type": "stream",
     "text": [
      "../sim/GELoadBalancer.py:90: DataConversionWarning: A column-vector y was passed when a 1d array was expected. Please change the shape of y to (n_samples,), for example using ravel().\n",
      "  self.model = self.model.fit(self.X, self.y) #make sure the hat the last period x is ignored\n"
     ]
    },
    {
     "name": "stdout",
     "output_type": "stream",
     "text": [
      "38133 1894 12 15593.0\n",
      "0.9984867467081583\n",
      "(129, 8) (129, 1)\n",
      "19\n",
      "npa 10.610555229015635\n"
     ]
    },
    {
     "name": "stderr",
     "output_type": "stream",
     "text": [
      "../sim/GELoadBalancer.py:90: DataConversionWarning: A column-vector y was passed when a 1d array was expected. Please change the shape of y to (n_samples,), for example using ravel().\n",
      "  self.model = self.model.fit(self.X, self.y) #make sure the hat the last period x is ignored\n"
     ]
    },
    {
     "name": "stdout",
     "output_type": "stream",
     "text": [
      "38320 17 19 32450.0\n",
      "0.998285766416407\n",
      "(130, 8) (130, 1)\n",
      "Max reward for 30203.6 17\n",
      "17\n",
      "npa 10.63900527114721\n"
     ]
    },
    {
     "name": "stderr",
     "output_type": "stream",
     "text": [
      "../sim/GELoadBalancer.py:90: DataConversionWarning: A column-vector y was passed when a 1d array was expected. Please change the shape of y to (n_samples,), for example using ravel().\n",
      "  self.model = self.model.fit(self.X, self.y) #make sure the hat the last period x is ignored\n"
     ]
    },
    {
     "name": "stdout",
     "output_type": "stream",
     "text": [
      "38475 43 17 32945.0\n",
      "0.9978364795751615\n",
      "(131, 8) (131, 1)\n",
      "27\n",
      "npa 10.731465291533336\n"
     ]
    },
    {
     "name": "stderr",
     "output_type": "stream",
     "text": [
      "../sim/GELoadBalancer.py:90: DataConversionWarning: A column-vector y was passed when a 1d array was expected. Please change the shape of y to (n_samples,), for example using ravel().\n",
      "  self.model = self.model.fit(self.X, self.y) #make sure the hat the last period x is ignored\n"
     ]
    },
    {
     "name": "stdout",
     "output_type": "stream",
     "text": [
      "38461 0.0 27 30361.0\n",
      "0.9987588831349096\n",
      "(132, 8) (132, 1)\n",
      "23\n",
      "npa 10.740963341770886\n"
     ]
    },
    {
     "name": "stderr",
     "output_type": "stream",
     "text": [
      "../sim/GELoadBalancer.py:90: DataConversionWarning: A column-vector y was passed when a 1d array was expected. Please change the shape of y to (n_samples,), for example using ravel().\n",
      "  self.model = self.model.fit(self.X, self.y) #make sure the hat the last period x is ignored\n"
     ]
    },
    {
     "name": "stdout",
     "output_type": "stream",
     "text": [
      "38545 0.0 23 31645.0\n",
      "0.9977671059458556\n",
      "(133, 8) (133, 1)\n",
      "21\n",
      "npa 10.735554632511707\n"
     ]
    },
    {
     "name": "stderr",
     "output_type": "stream",
     "text": [
      "../sim/GELoadBalancer.py:90: DataConversionWarning: A column-vector y was passed when a 1d array was expected. Please change the shape of y to (n_samples,), for example using ravel().\n",
      "  self.model = self.model.fit(self.X, self.y) #make sure the hat the last period x is ignored\n"
     ]
    },
    {
     "name": "stdout",
     "output_type": "stream",
     "text": [
      "38716 0.0 21 32416.0\n",
      "0.998249069756725\n",
      "(134, 8) (134, 1)\n",
      "22\n",
      "npa 10.766662201035075\n"
     ]
    },
    {
     "name": "stderr",
     "output_type": "stream",
     "text": [
      "../sim/GELoadBalancer.py:90: DataConversionWarning: A column-vector y was passed when a 1d array was expected. Please change the shape of y to (n_samples,), for example using ravel().\n",
      "  self.model = self.model.fit(self.X, self.y) #make sure the hat the last period x is ignored\n"
     ]
    },
    {
     "name": "stdout",
     "output_type": "stream",
     "text": [
      "38682 0.0 22 32082.0\n",
      "0.998539098122785\n",
      "(135, 8) (135, 1)\n",
      "22\n",
      "npa 10.764625902996537\n"
     ]
    },
    {
     "name": "stderr",
     "output_type": "stream",
     "text": [
      "../sim/GELoadBalancer.py:90: DataConversionWarning: A column-vector y was passed when a 1d array was expected. Please change the shape of y to (n_samples,), for example using ravel().\n",
      "  self.model = self.model.fit(self.X, self.y) #make sure the hat the last period x is ignored\n"
     ]
    },
    {
     "name": "stdout",
     "output_type": "stream",
     "text": [
      "38546 0.0 22 31946.0\n",
      "0.9983164846110019\n",
      "(136, 8) (136, 1)\n",
      "24\n",
      "npa 10.67417808625949\n"
     ]
    },
    {
     "name": "stderr",
     "output_type": "stream",
     "text": [
      "../sim/GELoadBalancer.py:90: DataConversionWarning: A column-vector y was passed when a 1d array was expected. Please change the shape of y to (n_samples,), for example using ravel().\n",
      "  self.model = self.model.fit(self.X, self.y) #make sure the hat the last period x is ignored\n"
     ]
    },
    {
     "name": "stdout",
     "output_type": "stream",
     "text": [
      "38695 0.0 24 31495.0\n",
      "0.9983229493038771\n",
      "(137, 8) (137, 1)\n",
      "10\n",
      "npa 10.767249313864056\n"
     ]
    },
    {
     "name": "stderr",
     "output_type": "stream",
     "text": [
      "../sim/GELoadBalancer.py:90: DataConversionWarning: A column-vector y was passed when a 1d array was expected. Please change the shape of y to (n_samples,), for example using ravel().\n",
      "  self.model = self.model.fit(self.X, self.y) #make sure the hat the last period x is ignored\n"
     ]
    },
    {
     "name": "stdout",
     "output_type": "stream",
     "text": [
      "38652 2472 10 10932.0\n",
      "0.9982237231180114\n",
      "(138, 8) (138, 1)\n",
      "22\n",
      "npa 10.76854765251021\n"
     ]
    },
    {
     "name": "stderr",
     "output_type": "stream",
     "text": [
      "../sim/GELoadBalancer.py:90: DataConversionWarning: A column-vector y was passed when a 1d array was expected. Please change the shape of y to (n_samples,), for example using ravel().\n",
      "  self.model = self.model.fit(self.X, self.y) #make sure the hat the last period x is ignored\n"
     ]
    },
    {
     "name": "stdout",
     "output_type": "stream",
     "text": [
      "38959 20 22 32159.0\n",
      "0.998849648873913\n",
      "(139, 8) (139, 1)\n",
      "Max reward for 30028.9 18\n",
      "18\n",
      "npa 10.793081948279466\n"
     ]
    },
    {
     "name": "stderr",
     "output_type": "stream",
     "text": [
      "../sim/GELoadBalancer.py:90: DataConversionWarning: A column-vector y was passed when a 1d array was expected. Please change the shape of y to (n_samples,), for example using ravel().\n",
      "  self.model = self.model.fit(self.X, self.y) #make sure the hat the last period x is ignored\n"
     ]
    },
    {
     "name": "stdout",
     "output_type": "stream",
     "text": [
      "38654 0.0 18 33254.0\n",
      "0.9983054917874855\n",
      "(140, 8) (140, 1)\n",
      "25\n",
      "npa 10.699155492538036\n"
     ]
    },
    {
     "name": "stderr",
     "output_type": "stream",
     "text": [
      "../sim/GELoadBalancer.py:90: DataConversionWarning: A column-vector y was passed when a 1d array was expected. Please change the shape of y to (n_samples,), for example using ravel().\n",
      "  self.model = self.model.fit(self.X, self.y) #make sure the hat the last period x is ignored\n"
     ]
    },
    {
     "name": "stdout",
     "output_type": "stream",
     "text": [
      "38090 0.0 25 30590.0\n",
      "0.9982274975579\n",
      "(141, 8) (141, 1)\n",
      "18\n",
      "npa 10.59176912355061\n"
     ]
    },
    {
     "name": "stderr",
     "output_type": "stream",
     "text": [
      "../sim/GELoadBalancer.py:90: DataConversionWarning: A column-vector y was passed when a 1d array was expected. Please change the shape of y to (n_samples,), for example using ravel().\n",
      "  self.model = self.model.fit(self.X, self.y) #make sure the hat the last period x is ignored\n"
     ]
    },
    {
     "name": "stdout",
     "output_type": "stream",
     "text": [
      "38674 3 18 33244.0\n",
      "0.9985084572596554\n",
      "(142, 8) (142, 1)\n",
      "Max reward for 30278.0 17\n",
      "17\n",
      "npa 10.734877611942455\n"
     ]
    },
    {
     "name": "stderr",
     "output_type": "stream",
     "text": [
      "../sim/GELoadBalancer.py:90: DataConversionWarning: A column-vector y was passed when a 1d array was expected. Please change the shape of y to (n_samples,), for example using ravel().\n",
      "  self.model = self.model.fit(self.X, self.y) #make sure the hat the last period x is ignored\n"
     ]
    },
    {
     "name": "stdout",
     "output_type": "stream",
     "text": [
      "38450 52 17 32830.0\n",
      "0.9976676368250548\n",
      "(143, 8) (143, 1)\n",
      "Max reward for 30120.5 18\n",
      "18\n",
      "npa 10.685576879102054\n"
     ]
    },
    {
     "name": "stderr",
     "output_type": "stream",
     "text": [
      "../sim/GELoadBalancer.py:90: DataConversionWarning: A column-vector y was passed when a 1d array was expected. Please change the shape of y to (n_samples,), for example using ravel().\n",
      "  self.model = self.model.fit(self.X, self.y) #make sure the hat the last period x is ignored\n"
     ]
    },
    {
     "name": "stdout",
     "output_type": "stream",
     "text": [
      "38560 1 18 33150.0\n",
      "0.9982033067541067\n",
      "(144, 8) (144, 1)\n",
      "Max reward for 30096.8 18\n",
      "18\n",
      "npa 10.713089553986675\n"
     ]
    },
    {
     "name": "stderr",
     "output_type": "stream",
     "text": [
      "../sim/GELoadBalancer.py:90: DataConversionWarning: A column-vector y was passed when a 1d array was expected. Please change the shape of y to (n_samples,), for example using ravel().\n",
      "  self.model = self.model.fit(self.X, self.y) #make sure the hat the last period x is ignored\n"
     ]
    },
    {
     "name": "stdout",
     "output_type": "stream",
     "text": [
      "39012 7 18 33542.0\n",
      "0.9979488829425062\n",
      "(145, 8) (145, 1)\n",
      "19\n",
      "npa 10.880214318249791\n"
     ]
    },
    {
     "name": "stderr",
     "output_type": "stream",
     "text": [
      "../sim/GELoadBalancer.py:90: DataConversionWarning: A column-vector y was passed when a 1d array was expected. Please change the shape of y to (n_samples,), for example using ravel().\n",
      "  self.model = self.model.fit(self.X, self.y) #make sure the hat the last period x is ignored\n"
     ]
    },
    {
     "name": "stdout",
     "output_type": "stream",
     "text": [
      "39113 4 19 33373.0\n",
      "0.998301853605999\n",
      "(146, 8) (146, 1)\n",
      "20\n",
      "npa 10.86728543327079\n"
     ]
    },
    {
     "name": "stderr",
     "output_type": "stream",
     "text": [
      "../sim/GELoadBalancer.py:90: DataConversionWarning: A column-vector y was passed when a 1d array was expected. Please change the shape of y to (n_samples,), for example using ravel().\n",
      "  self.model = self.model.fit(self.X, self.y) #make sure the hat the last period x is ignored\n"
     ]
    },
    {
     "name": "stdout",
     "output_type": "stream",
     "text": [
      "39244 0.0 20 33244.0\n",
      "0.9981712720112895\n",
      "(147, 8) (147, 1)\n",
      "Max reward for 30095.3 18\n",
      "18\n",
      "npa 10.86233421546407\n"
     ]
    },
    {
     "name": "stderr",
     "output_type": "stream",
     "text": [
      "../sim/GELoadBalancer.py:90: DataConversionWarning: A column-vector y was passed when a 1d array was expected. Please change the shape of y to (n_samples,), for example using ravel().\n",
      "  self.model = self.model.fit(self.X, self.y) #make sure the hat the last period x is ignored\n"
     ]
    },
    {
     "name": "stdout",
     "output_type": "stream",
     "text": [
      "39018 6 18 33558.0\n",
      "0.9983832116677875\n",
      "(148, 8) (148, 1)\n",
      "29\n",
      "npa 10.856585933699781\n"
     ]
    },
    {
     "name": "stderr",
     "output_type": "stream",
     "text": [
      "../sim/GELoadBalancer.py:90: DataConversionWarning: A column-vector y was passed when a 1d array was expected. Please change the shape of y to (n_samples,), for example using ravel().\n",
      "  self.model = self.model.fit(self.X, self.y) #make sure the hat the last period x is ignored\n"
     ]
    },
    {
     "name": "stdout",
     "output_type": "stream",
     "text": [
      "39176 0.0 29 30476.0\n",
      "0.9981795352976791\n",
      "(149, 8) (149, 1)\n",
      "Max reward for 30052.3 18\n",
      "18\n",
      "npa 10.852267284821659\n"
     ]
    },
    {
     "name": "stderr",
     "output_type": "stream",
     "text": [
      "../sim/GELoadBalancer.py:90: DataConversionWarning: A column-vector y was passed when a 1d array was expected. Please change the shape of y to (n_samples,), for example using ravel().\n",
      "  self.model = self.model.fit(self.X, self.y) #make sure the hat the last period x is ignored\n"
     ]
    },
    {
     "name": "stdout",
     "output_type": "stream",
     "text": [
      "39007 5 18 33557.0\n",
      "0.9982964534794302\n",
      "(150, 8) (150, 1)\n",
      "25\n",
      "npa 10.845089393414886\n"
     ]
    },
    {
     "name": "stderr",
     "output_type": "stream",
     "text": [
      "../sim/GELoadBalancer.py:90: DataConversionWarning: A column-vector y was passed when a 1d array was expected. Please change the shape of y to (n_samples,), for example using ravel().\n",
      "  self.model = self.model.fit(self.X, self.y) #make sure the hat the last period x is ignored\n"
     ]
    },
    {
     "name": "stdout",
     "output_type": "stream",
     "text": [
      "39211 0.0 25 31711.0\n",
      "0.9979497854367352\n",
      "(151, 8) (151, 1)\n",
      "29\n",
      "npa 10.87947828013733\n"
     ]
    },
    {
     "name": "stderr",
     "output_type": "stream",
     "text": [
      "../sim/GELoadBalancer.py:90: DataConversionWarning: A column-vector y was passed when a 1d array was expected. Please change the shape of y to (n_samples,), for example using ravel().\n",
      "  self.model = self.model.fit(self.X, self.y) #make sure the hat the last period x is ignored\n"
     ]
    },
    {
     "name": "stdout",
     "output_type": "stream",
     "text": [
      "39162 0.0 29 30462.0\n",
      "0.9982135503733517\n",
      "(152, 8) (152, 1)\n",
      "Max reward for 30239.1 17\n",
      "17\n",
      "npa 10.852170915082784\n"
     ]
    },
    {
     "name": "stderr",
     "output_type": "stream",
     "text": [
      "../sim/GELoadBalancer.py:90: DataConversionWarning: A column-vector y was passed when a 1d array was expected. Please change the shape of y to (n_samples,), for example using ravel().\n",
      "  self.model = self.model.fit(self.X, self.y) #make sure the hat the last period x is ignored\n"
     ]
    },
    {
     "name": "stdout",
     "output_type": "stream",
     "text": [
      "39546 114 17 33306.0\n",
      "0.9985401446936489\n",
      "(153, 8) (153, 1)\n",
      "10\n",
      "npa 11.001533203620102\n"
     ]
    },
    {
     "name": "stderr",
     "output_type": "stream",
     "text": [
      "../sim/GELoadBalancer.py:90: DataConversionWarning: A column-vector y was passed when a 1d array was expected. Please change the shape of y to (n_samples,), for example using ravel().\n",
      "  self.model = self.model.fit(self.X, self.y) #make sure the hat the last period x is ignored\n"
     ]
    },
    {
     "name": "stdout",
     "output_type": "stream",
     "text": [
      "39522 2728 10 9242.0\n",
      "0.9981941258758137\n",
      "(154, 8) (154, 1)\n",
      "Max reward for 30453.4 18\n",
      "18\n",
      "npa 10.980748644994701\n"
     ]
    },
    {
     "name": "stderr",
     "output_type": "stream",
     "text": [
      "../sim/GELoadBalancer.py:90: DataConversionWarning: A column-vector y was passed when a 1d array was expected. Please change the shape of y to (n_samples,), for example using ravel().\n",
      "  self.model = self.model.fit(self.X, self.y) #make sure the hat the last period x is ignored\n"
     ]
    },
    {
     "name": "stdout",
     "output_type": "stream",
     "text": [
      "39548 17 18 33978.0\n",
      "0.9981088746492152\n",
      "(155, 8) (155, 1)\n",
      "12\n",
      "npa 10.974356395976892\n"
     ]
    },
    {
     "name": "stderr",
     "output_type": "stream",
     "text": [
      "../sim/GELoadBalancer.py:90: DataConversionWarning: A column-vector y was passed when a 1d array was expected. Please change the shape of y to (n_samples,), for example using ravel().\n",
      "  self.model = self.model.fit(self.X, self.y) #make sure the hat the last period x is ignored\n"
     ]
    },
    {
     "name": "stdout",
     "output_type": "stream",
     "text": [
      "39455 2106 12 14795.0\n",
      "0.998554256020274\n",
      "(156, 8) (156, 1)\n",
      "17\n",
      "npa 10.957692881980181\n"
     ]
    },
    {
     "name": "stderr",
     "output_type": "stream",
     "text": [
      "../sim/GELoadBalancer.py:90: DataConversionWarning: A column-vector y was passed when a 1d array was expected. Please change the shape of y to (n_samples,), for example using ravel().\n",
      "  self.model = self.model.fit(self.X, self.y) #make sure the hat the last period x is ignored\n"
     ]
    },
    {
     "name": "stdout",
     "output_type": "stream",
     "text": [
      "39441 117 17 33171.0\n",
      "0.9985722976411976\n",
      "(157, 8) (157, 1)\n",
      "Max reward for 30527.5 18\n",
      "18\n",
      "npa 10.95750144815941\n"
     ]
    },
    {
     "name": "stderr",
     "output_type": "stream",
     "text": [
      "../sim/GELoadBalancer.py:90: DataConversionWarning: A column-vector y was passed when a 1d array was expected. Please change the shape of y to (n_samples,), for example using ravel().\n",
      "  self.model = self.model.fit(self.X, self.y) #make sure the hat the last period x is ignored\n"
     ]
    },
    {
     "name": "stdout",
     "output_type": "stream",
     "text": [
      "39276 12 18 33756.0\n",
      "0.9982086628193081\n",
      "(158, 8) (158, 1)\n",
      "30\n",
      "npa 10.920915460156687\n"
     ]
    },
    {
     "name": "stderr",
     "output_type": "stream",
     "text": [
      "../sim/GELoadBalancer.py:90: DataConversionWarning: A column-vector y was passed when a 1d array was expected. Please change the shape of y to (n_samples,), for example using ravel().\n",
      "  self.model = self.model.fit(self.X, self.y) #make sure the hat the last period x is ignored\n"
     ]
    },
    {
     "name": "stdout",
     "output_type": "stream",
     "text": [
      "39169 0.0 30 30169.0\n",
      "0.9985156537453383\n",
      "(159, 8) (159, 1)\n",
      "Max reward for 30068.8 18\n",
      "18\n",
      "npa 10.884139189130138\n"
     ]
    },
    {
     "name": "stderr",
     "output_type": "stream",
     "text": [
      "../sim/GELoadBalancer.py:90: DataConversionWarning: A column-vector y was passed when a 1d array was expected. Please change the shape of y to (n_samples,), for example using ravel().\n",
      "  self.model = self.model.fit(self.X, self.y) #make sure the hat the last period x is ignored\n"
     ]
    },
    {
     "name": "stdout",
     "output_type": "stream",
     "text": [
      "38846 5 18 33396.0\n",
      "0.9983557965988441\n",
      "(160, 8) (160, 1)\n",
      "23\n",
      "npa 10.777183597126223\n"
     ]
    },
    {
     "name": "stderr",
     "output_type": "stream",
     "text": [
      "../sim/GELoadBalancer.py:90: DataConversionWarning: A column-vector y was passed when a 1d array was expected. Please change the shape of y to (n_samples,), for example using ravel().\n",
      "  self.model = self.model.fit(self.X, self.y) #make sure the hat the last period x is ignored\n"
     ]
    },
    {
     "name": "stdout",
     "output_type": "stream",
     "text": [
      "38657 0.0 23 31757.0\n",
      "0.9982858208815276\n",
      "(161, 8) (161, 1)\n",
      "Max reward for 30096.2 18\n",
      "18\n",
      "npa 10.714898653672446\n"
     ]
    },
    {
     "name": "stderr",
     "output_type": "stream",
     "text": [
      "../sim/GELoadBalancer.py:90: DataConversionWarning: A column-vector y was passed when a 1d array was expected. Please change the shape of y to (n_samples,), for example using ravel().\n",
      "  self.model = self.model.fit(self.X, self.y) #make sure the hat the last period x is ignored\n"
     ]
    },
    {
     "name": "stdout",
     "output_type": "stream",
     "text": [
      "38309 2 18 32889.0\n",
      "0.9979190716717601\n",
      "(162, 8) (162, 1)\n",
      "Max reward for 30133.0 18\n",
      "18\n",
      "npa 10.666338144904925\n"
     ]
    },
    {
     "name": "stderr",
     "output_type": "stream",
     "text": [
      "../sim/GELoadBalancer.py:90: DataConversionWarning: A column-vector y was passed when a 1d array was expected. Please change the shape of y to (n_samples,), for example using ravel().\n",
      "  self.model = self.model.fit(self.X, self.y) #make sure the hat the last period x is ignored\n"
     ]
    },
    {
     "name": "stdout",
     "output_type": "stream",
     "text": [
      "38222 2 18 32802.0\n",
      "0.9981611780739376\n",
      "(163, 8) (163, 1)\n",
      "20\n",
      "npa 10.585918382364023\n"
     ]
    },
    {
     "name": "stderr",
     "output_type": "stream",
     "text": [
      "../sim/GELoadBalancer.py:90: DataConversionWarning: A column-vector y was passed when a 1d array was expected. Please change the shape of y to (n_samples,), for example using ravel().\n",
      "  self.model = self.model.fit(self.X, self.y) #make sure the hat the last period x is ignored\n"
     ]
    },
    {
     "name": "stdout",
     "output_type": "stream",
     "text": [
      "37974 0.0 20 31974.0\n",
      "0.998517745344099\n",
      "(164, 8) (164, 1)\n",
      "Max reward for 29500.3 17\n",
      "17\n",
      "npa 10.524592785524163\n"
     ]
    },
    {
     "name": "stderr",
     "output_type": "stream",
     "text": [
      "../sim/GELoadBalancer.py:90: DataConversionWarning: A column-vector y was passed when a 1d array was expected. Please change the shape of y to (n_samples,), for example using ravel().\n",
      "  self.model = self.model.fit(self.X, self.y) #make sure the hat the last period x is ignored\n"
     ]
    },
    {
     "name": "stdout",
     "output_type": "stream",
     "text": [
      "37965 27 17 32595.0\n",
      "0.9987447939196484\n",
      "(165, 8) (165, 1)\n",
      "29\n",
      "npa 10.522175909538571\n"
     ]
    },
    {
     "name": "stderr",
     "output_type": "stream",
     "text": [
      "../sim/GELoadBalancer.py:90: DataConversionWarning: A column-vector y was passed when a 1d array was expected. Please change the shape of y to (n_samples,), for example using ravel().\n",
      "  self.model = self.model.fit(self.X, self.y) #make sure the hat the last period x is ignored\n"
     ]
    },
    {
     "name": "stdout",
     "output_type": "stream",
     "text": [
      "37683 0.0 29 28983.0\n",
      "0.99850081437405\n",
      "(166, 8) (166, 1)\n",
      "24\n",
      "npa 10.339507391912141\n"
     ]
    },
    {
     "name": "stderr",
     "output_type": "stream",
     "text": [
      "../sim/GELoadBalancer.py:90: DataConversionWarning: A column-vector y was passed when a 1d array was expected. Please change the shape of y to (n_samples,), for example using ravel().\n",
      "  self.model = self.model.fit(self.X, self.y) #make sure the hat the last period x is ignored\n"
     ]
    },
    {
     "name": "stdout",
     "output_type": "stream",
     "text": [
      "36922 0.0 24 29722.0\n",
      "0.997875390907449\n",
      "(167, 8) (167, 1)\n",
      "Max reward for 28763.8 17\n",
      "17\n",
      "npa 10.277785103134867\n"
     ]
    },
    {
     "name": "stderr",
     "output_type": "stream",
     "text": [
      "../sim/GELoadBalancer.py:90: DataConversionWarning: A column-vector y was passed when a 1d array was expected. Please change the shape of y to (n_samples,), for example using ravel().\n",
      "  self.model = self.model.fit(self.X, self.y) #make sure the hat the last period x is ignored\n"
     ]
    },
    {
     "name": "stdout",
     "output_type": "stream",
     "text": [
      "37201 10 17 32001.0\n",
      "0.9982883152174024\n",
      "(168, 8) (168, 1)\n",
      "Max reward for 29120.9 17\n",
      "17\n",
      "npa 10.33367469527963\n"
     ]
    },
    {
     "name": "stderr",
     "output_type": "stream",
     "text": [
      "../sim/GELoadBalancer.py:90: DataConversionWarning: A column-vector y was passed when a 1d array was expected. Please change the shape of y to (n_samples,), for example using ravel().\n",
      "  self.model = self.model.fit(self.X, self.y) #make sure the hat the last period x is ignored\n"
     ]
    },
    {
     "name": "stdout",
     "output_type": "stream",
     "text": [
      "37287 17 17 32017.0\n",
      "0.9980173959494278\n",
      "(169, 8) (169, 1)\n",
      "Max reward for 29363.5 17\n",
      "17\n",
      "npa 10.404226920054684\n"
     ]
    },
    {
     "name": "stderr",
     "output_type": "stream",
     "text": [
      "../sim/GELoadBalancer.py:90: DataConversionWarning: A column-vector y was passed when a 1d array was expected. Please change the shape of y to (n_samples,), for example using ravel().\n",
      "  self.model = self.model.fit(self.X, self.y) #make sure the hat the last period x is ignored\n"
     ]
    },
    {
     "name": "stdout",
     "output_type": "stream",
     "text": [
      "37684 22 17 32364.0\n",
      "0.998772815408563\n",
      "(170, 8) (170, 1)\n",
      "Max reward for 29597.9 17\n",
      "17\n",
      "npa 10.439517343321558\n"
     ]
    },
    {
     "name": "stderr",
     "output_type": "stream",
     "text": [
      "../sim/GELoadBalancer.py:90: DataConversionWarning: A column-vector y was passed when a 1d array was expected. Please change the shape of y to (n_samples,), for example using ravel().\n",
      "  self.model = self.model.fit(self.X, self.y) #make sure the hat the last period x is ignored\n"
     ]
    },
    {
     "name": "stdout",
     "output_type": "stream",
     "text": [
      "37441 7 17 32271.0\n",
      "0.9984694112646739\n",
      "(171, 8) (171, 1)\n",
      "27\n",
      "npa 10.428252365641814\n"
     ]
    },
    {
     "name": "stderr",
     "output_type": "stream",
     "text": [
      "../sim/GELoadBalancer.py:90: DataConversionWarning: A column-vector y was passed when a 1d array was expected. Please change the shape of y to (n_samples,), for example using ravel().\n",
      "  self.model = self.model.fit(self.X, self.y) #make sure the hat the last period x is ignored\n"
     ]
    },
    {
     "name": "stdout",
     "output_type": "stream",
     "text": [
      "37841 0.0 27 29741.0\n",
      "0.9984820974057428\n",
      "(172, 8) (172, 1)\n",
      "30\n",
      "npa 10.490972223709369\n"
     ]
    },
    {
     "name": "stderr",
     "output_type": "stream",
     "text": [
      "../sim/GELoadBalancer.py:90: DataConversionWarning: A column-vector y was passed when a 1d array was expected. Please change the shape of y to (n_samples,), for example using ravel().\n",
      "  self.model = self.model.fit(self.X, self.y) #make sure the hat the last period x is ignored\n"
     ]
    },
    {
     "name": "stdout",
     "output_type": "stream",
     "text": [
      "37761 0.0 30 28761.0\n",
      "0.9988056508134221\n",
      "(173, 8) (173, 1)\n",
      "Max reward for 29114.5 17\n",
      "17\n",
      "npa 10.447469002334474\n"
     ]
    },
    {
     "name": "stderr",
     "output_type": "stream",
     "text": [
      "../sim/GELoadBalancer.py:90: DataConversionWarning: A column-vector y was passed when a 1d array was expected. Please change the shape of y to (n_samples,), for example using ravel().\n",
      "  self.model = self.model.fit(self.X, self.y) #make sure the hat the last period x is ignored\n"
     ]
    },
    {
     "name": "stdout",
     "output_type": "stream",
     "text": [
      "37788 17 17 32518.0\n",
      "0.9987878789075847\n",
      "(174, 8) (174, 1)\n",
      "Max reward for 29171.1 17\n",
      "17\n",
      "npa 10.510440296732975\n"
     ]
    },
    {
     "name": "stderr",
     "output_type": "stream",
     "text": [
      "../sim/GELoadBalancer.py:90: DataConversionWarning: A column-vector y was passed when a 1d array was expected. Please change the shape of y to (n_samples,), for example using ravel().\n",
      "  self.model = self.model.fit(self.X, self.y) #make sure the hat the last period x is ignored\n"
     ]
    },
    {
     "name": "stdout",
     "output_type": "stream",
     "text": [
      "37959 52 17 32339.0\n",
      "0.998384916109106\n",
      "(175, 8) (175, 1)\n",
      "Max reward for 29568.6 17\n",
      "17\n",
      "npa 10.548434955754779\n"
     ]
    },
    {
     "name": "stderr",
     "output_type": "stream",
     "text": [
      "../sim/GELoadBalancer.py:90: DataConversionWarning: A column-vector y was passed when a 1d array was expected. Please change the shape of y to (n_samples,), for example using ravel().\n",
      "  self.model = self.model.fit(self.X, self.y) #make sure the hat the last period x is ignored\n"
     ]
    },
    {
     "name": "stdout",
     "output_type": "stream",
     "text": [
      "38008 29 17 32618.0\n",
      "0.9987224206395662\n",
      "(176, 8) (176, 1)\n",
      "Max reward for 29631.4 18\n",
      "18\n",
      "npa 10.593765367725304\n"
     ]
    },
    {
     "name": "stderr",
     "output_type": "stream",
     "text": [
      "../sim/GELoadBalancer.py:90: DataConversionWarning: A column-vector y was passed when a 1d array was expected. Please change the shape of y to (n_samples,), for example using ravel().\n",
      "  self.model = self.model.fit(self.X, self.y) #make sure the hat the last period x is ignored\n"
     ]
    },
    {
     "name": "stdout",
     "output_type": "stream",
     "text": [
      "38049 2 18 32629.0\n",
      "0.9982838314787618\n",
      "(177, 8) (177, 1)\n",
      "Max reward for 29542.6 17\n",
      "17\n",
      "npa 10.542106955865489\n"
     ]
    },
    {
     "name": "stderr",
     "output_type": "stream",
     "text": [
      "../sim/GELoadBalancer.py:90: DataConversionWarning: A column-vector y was passed when a 1d array was expected. Please change the shape of y to (n_samples,), for example using ravel().\n",
      "  self.model = self.model.fit(self.X, self.y) #make sure the hat the last period x is ignored\n"
     ]
    },
    {
     "name": "stdout",
     "output_type": "stream",
     "text": [
      "37949 26 17 32589.0\n",
      "0.9981599864065381\n",
      "(178, 8) (178, 1)\n",
      "13\n",
      "npa 10.584021790106844\n"
     ]
    },
    {
     "name": "stderr",
     "output_type": "stream",
     "text": [
      "../sim/GELoadBalancer.py:90: DataConversionWarning: A column-vector y was passed when a 1d array was expected. Please change the shape of y to (n_samples,), for example using ravel().\n",
      "  self.model = self.model.fit(self.X, self.y) #make sure the hat the last period x is ignored\n"
     ]
    },
    {
     "name": "stdout",
     "output_type": "stream",
     "text": [
      "37862 1535 13 18612.0\n",
      "0.998609288309354\n",
      "(179, 8) (179, 1)\n",
      "Max reward for 29185.9 17\n",
      "17\n",
      "npa 10.574835338696262\n"
     ]
    },
    {
     "name": "stderr",
     "output_type": "stream",
     "text": [
      "../sim/GELoadBalancer.py:90: DataConversionWarning: A column-vector y was passed when a 1d array was expected. Please change the shape of y to (n_samples,), for example using ravel().\n",
      "  self.model = self.model.fit(self.X, self.y) #make sure the hat the last period x is ignored\n"
     ]
    },
    {
     "name": "stdout",
     "output_type": "stream",
     "text": [
      "37900 40 17 32400.0\n",
      "0.9984234107518811\n",
      "(180, 8) (180, 1)\n",
      "Max reward for 29329.9 17\n",
      "17\n",
      "npa 10.542613252978413\n"
     ]
    },
    {
     "name": "stderr",
     "output_type": "stream",
     "text": [
      "../sim/GELoadBalancer.py:90: DataConversionWarning: A column-vector y was passed when a 1d array was expected. Please change the shape of y to (n_samples,), for example using ravel().\n",
      "  self.model = self.model.fit(self.X, self.y) #make sure the hat the last period x is ignored\n"
     ]
    },
    {
     "name": "stdout",
     "output_type": "stream",
     "text": [
      "38335 46 17 32775.0\n",
      "0.998754493420039\n",
      "(181, 8) (181, 1)\n",
      "20\n",
      "npa 10.708295797814756\n"
     ]
    },
    {
     "name": "stderr",
     "output_type": "stream",
     "text": [
      "../sim/GELoadBalancer.py:90: DataConversionWarning: A column-vector y was passed when a 1d array was expected. Please change the shape of y to (n_samples,), for example using ravel().\n",
      "  self.model = self.model.fit(self.X, self.y) #make sure the hat the last period x is ignored\n"
     ]
    },
    {
     "name": "stdout",
     "output_type": "stream",
     "text": [
      "38191 0.0 20 32191.0\n",
      "0.9988183626330016\n",
      "(182, 8) (182, 1)\n",
      "Max reward for 29961.5 17\n",
      "17\n",
      "npa 10.600688023618176\n"
     ]
    },
    {
     "name": "stderr",
     "output_type": "stream",
     "text": [
      "../sim/GELoadBalancer.py:90: DataConversionWarning: A column-vector y was passed when a 1d array was expected. Please change the shape of y to (n_samples,), for example using ravel().\n",
      "  self.model = self.model.fit(self.X, self.y) #make sure the hat the last period x is ignored\n"
     ]
    },
    {
     "name": "stdout",
     "output_type": "stream",
     "text": [
      "38316 21 17 33006.0\n",
      "0.9983180102491015\n",
      "(183, 8) (183, 1)\n",
      "Max reward for 29810.2 18\n",
      "18\n",
      "npa 10.639330911954518\n"
     ]
    },
    {
     "name": "stderr",
     "output_type": "stream",
     "text": [
      "../sim/GELoadBalancer.py:90: DataConversionWarning: A column-vector y was passed when a 1d array was expected. Please change the shape of y to (n_samples,), for example using ravel().\n",
      "  self.model = self.model.fit(self.X, self.y) #make sure the hat the last period x is ignored\n"
     ]
    },
    {
     "name": "stdout",
     "output_type": "stream",
     "text": [
      "38201 0.0 18 32801.0\n",
      "0.9975773961625236\n",
      "(184, 8) (184, 1)\n",
      "Max reward for 29840.6 18\n",
      "18\n",
      "npa 10.597905472365904\n"
     ]
    },
    {
     "name": "stderr",
     "output_type": "stream",
     "text": [
      "../sim/GELoadBalancer.py:90: DataConversionWarning: A column-vector y was passed when a 1d array was expected. Please change the shape of y to (n_samples,), for example using ravel().\n",
      "  self.model = self.model.fit(self.X, self.y) #make sure the hat the last period x is ignored\n"
     ]
    },
    {
     "name": "stdout",
     "output_type": "stream",
     "text": [
      "38453 4 18 33013.0\n",
      "0.998667737912547\n",
      "(185, 8) (185, 1)\n",
      "Max reward for 30184.2 18\n",
      "18\n",
      "npa 10.678436663359578\n"
     ]
    },
    {
     "name": "stderr",
     "output_type": "stream",
     "text": [
      "../sim/GELoadBalancer.py:90: DataConversionWarning: A column-vector y was passed when a 1d array was expected. Please change the shape of y to (n_samples,), for example using ravel().\n",
      "  self.model = self.model.fit(self.X, self.y) #make sure the hat the last period x is ignored\n"
     ]
    },
    {
     "name": "stdout",
     "output_type": "stream",
     "text": [
      "38560 7 18 33090.0\n",
      "0.9988723282897761\n",
      "(186, 8) (186, 1)\n",
      "Max reward for 30279.1 17\n",
      "17\n",
      "npa 10.675232439007491\n"
     ]
    },
    {
     "name": "stderr",
     "output_type": "stream",
     "text": [
      "../sim/GELoadBalancer.py:90: DataConversionWarning: A column-vector y was passed when a 1d array was expected. Please change the shape of y to (n_samples,), for example using ravel().\n",
      "  self.model = self.model.fit(self.X, self.y) #make sure the hat the last period x is ignored\n"
     ]
    },
    {
     "name": "stdout",
     "output_type": "stream",
     "text": [
      "38483 70 17 32683.0\n",
      "0.998620875608259\n",
      "(187, 8) (187, 1)\n",
      "Max reward for 30319.6 18\n",
      "18\n",
      "npa 10.653292519285863\n"
     ]
    },
    {
     "name": "stderr",
     "output_type": "stream",
     "text": [
      "../sim/GELoadBalancer.py:90: DataConversionWarning: A column-vector y was passed when a 1d array was expected. Please change the shape of y to (n_samples,), for example using ravel().\n",
      "  self.model = self.model.fit(self.X, self.y) #make sure the hat the last period x is ignored\n"
     ]
    },
    {
     "name": "stdout",
     "output_type": "stream",
     "text": [
      "38269 1 18 32859.0\n",
      "0.998070601019412\n",
      "(188, 8) (188, 1)\n",
      "29\n",
      "npa 10.637376086460279\n"
     ]
    },
    {
     "name": "stderr",
     "output_type": "stream",
     "text": [
      "../sim/GELoadBalancer.py:90: DataConversionWarning: A column-vector y was passed when a 1d array was expected. Please change the shape of y to (n_samples,), for example using ravel().\n",
      "  self.model = self.model.fit(self.X, self.y) #make sure the hat the last period x is ignored\n"
     ]
    },
    {
     "name": "stdout",
     "output_type": "stream",
     "text": [
      "38071 0.0 29 29371.0\n",
      "0.9979710030411679\n",
      "(189, 8) (189, 1)\n",
      "Max reward for 29394.7 17\n",
      "17\n",
      "npa 10.575190199116658\n"
     ]
    },
    {
     "name": "stderr",
     "output_type": "stream",
     "text": [
      "../sim/GELoadBalancer.py:90: DataConversionWarning: A column-vector y was passed when a 1d array was expected. Please change the shape of y to (n_samples,), for example using ravel().\n",
      "  self.model = self.model.fit(self.X, self.y) #make sure the hat the last period x is ignored\n"
     ]
    },
    {
     "name": "stdout",
     "output_type": "stream",
     "text": [
      "38144 26 17 32784.0\n",
      "0.9989693964905851\n",
      "(190, 8) (190, 1)\n",
      "19\n",
      "npa 10.621040937896922\n"
     ]
    },
    {
     "name": "stderr",
     "output_type": "stream",
     "text": [
      "../sim/GELoadBalancer.py:90: DataConversionWarning: A column-vector y was passed when a 1d array was expected. Please change the shape of y to (n_samples,), for example using ravel().\n",
      "  self.model = self.model.fit(self.X, self.y) #make sure the hat the last period x is ignored\n"
     ]
    },
    {
     "name": "stdout",
     "output_type": "stream",
     "text": [
      "38000 0.0 19 32300.0\n",
      "0.9986554795641781\n",
      "(191, 8) (191, 1)\n",
      "Max reward for 29378.5 17\n",
      "17\n",
      "npa 10.545407985900288\n"
     ]
    },
    {
     "name": "stderr",
     "output_type": "stream",
     "text": [
      "../sim/GELoadBalancer.py:90: DataConversionWarning: A column-vector y was passed when a 1d array was expected. Please change the shape of y to (n_samples,), for example using ravel().\n",
      "  self.model = self.model.fit(self.X, self.y) #make sure the hat the last period x is ignored\n"
     ]
    },
    {
     "name": "stdout",
     "output_type": "stream",
     "text": [
      "37926 18 17 32646.0\n",
      "0.9975683569335053\n",
      "(192, 8) (192, 1)\n",
      "15\n",
      "npa 10.5174621876253\n"
     ]
    },
    {
     "name": "stderr",
     "output_type": "stream",
     "text": [
      "../sim/GELoadBalancer.py:90: DataConversionWarning: A column-vector y was passed when a 1d array was expected. Please change the shape of y to (n_samples,), for example using ravel().\n",
      "  self.model = self.model.fit(self.X, self.y) #make sure the hat the last period x is ignored\n"
     ]
    },
    {
     "name": "stdout",
     "output_type": "stream",
     "text": [
      "37646 572 15 27426.0\n",
      "0.9989096615080241\n",
      "(193, 8) (193, 1)\n",
      "13\n",
      "npa 10.4595051382422\n"
     ]
    },
    {
     "name": "stderr",
     "output_type": "stream",
     "text": [
      "../sim/GELoadBalancer.py:90: DataConversionWarning: A column-vector y was passed when a 1d array was expected. Please change the shape of y to (n_samples,), for example using ravel().\n",
      "  self.model = self.model.fit(self.X, self.y) #make sure the hat the last period x is ignored\n"
     ]
    },
    {
     "name": "stdout",
     "output_type": "stream",
     "text": [
      "37803 1433 13 19573.0\n",
      "0.9986449202494648\n",
      "(194, 8) (194, 1)\n",
      "Max reward for 29331.6 17\n",
      "17\n",
      "npa 10.496715569908744\n"
     ]
    },
    {
     "name": "stderr",
     "output_type": "stream",
     "text": [
      "../sim/GELoadBalancer.py:90: DataConversionWarning: A column-vector y was passed when a 1d array was expected. Please change the shape of y to (n_samples,), for example using ravel().\n",
      "  self.model = self.model.fit(self.X, self.y) #make sure the hat the last period x is ignored\n"
     ]
    },
    {
     "name": "stdout",
     "output_type": "stream",
     "text": [
      "38027 47 17 32457.0\n",
      "0.9988462450946771\n",
      "(195, 8) (195, 1)\n",
      "Max reward for 29229.0 17\n",
      "17\n",
      "npa 10.519571622551569\n"
     ]
    },
    {
     "name": "stderr",
     "output_type": "stream",
     "text": [
      "../sim/GELoadBalancer.py:90: DataConversionWarning: A column-vector y was passed when a 1d array was expected. Please change the shape of y to (n_samples,), for example using ravel().\n",
      "  self.model = self.model.fit(self.X, self.y) #make sure the hat the last period x is ignored\n"
     ]
    },
    {
     "name": "stdout",
     "output_type": "stream",
     "text": [
      "37362 10 17 32162.0\n",
      "0.9983585491198104\n",
      "(196, 8) (196, 1)\n",
      "29\n",
      "npa 10.415044034007659\n"
     ]
    },
    {
     "name": "stderr",
     "output_type": "stream",
     "text": [
      "../sim/GELoadBalancer.py:90: DataConversionWarning: A column-vector y was passed when a 1d array was expected. Please change the shape of y to (n_samples,), for example using ravel().\n",
      "  self.model = self.model.fit(self.X, self.y) #make sure the hat the last period x is ignored\n"
     ]
    },
    {
     "name": "stdout",
     "output_type": "stream",
     "text": [
      "37457 0.0 29 28757.0\n",
      "0.9986545675175165\n",
      "(197, 8) (197, 1)\n",
      "10\n",
      "npa 10.3936125854335\n"
     ]
    },
    {
     "name": "stderr",
     "output_type": "stream",
     "text": [
      "../sim/GELoadBalancer.py:90: DataConversionWarning: A column-vector y was passed when a 1d array was expected. Please change the shape of y to (n_samples,), for example using ravel().\n",
      "  self.model = self.model.fit(self.X, self.y) #make sure the hat the last period x is ignored\n"
     ]
    },
    {
     "name": "stdout",
     "output_type": "stream",
     "text": [
      "37198 2451 10 9688.0\n",
      "0.9989421646236751\n",
      "(198, 8) (198, 1)\n",
      "25\n",
      "npa 10.3101340978509\n"
     ]
    },
    {
     "name": "stderr",
     "output_type": "stream",
     "text": [
      "../sim/GELoadBalancer.py:90: DataConversionWarning: A column-vector y was passed when a 1d array was expected. Please change the shape of y to (n_samples,), for example using ravel().\n",
      "  self.model = self.model.fit(self.X, self.y) #make sure the hat the last period x is ignored\n"
     ]
    },
    {
     "name": "stdout",
     "output_type": "stream",
     "text": [
      "37022 8 25 29442.0\n",
      "0.9981680108520107\n",
      "(199, 8) (199, 1)\n",
      "Max reward for 28895.3 17\n",
      "17\n",
      "npa 10.281268308692644\n"
     ]
    },
    {
     "name": "stderr",
     "output_type": "stream",
     "text": [
      "../sim/GELoadBalancer.py:90: DataConversionWarning: A column-vector y was passed when a 1d array was expected. Please change the shape of y to (n_samples,), for example using ravel().\n",
      "  self.model = self.model.fit(self.X, self.y) #make sure the hat the last period x is ignored\n"
     ]
    },
    {
     "name": "stdout",
     "output_type": "stream",
     "text": [
      "37189 10 17 31989.0\n",
      "0.9988348717363116\n",
      "(200, 8) (200, 1)\n",
      "Max reward for 28745.4 17\n",
      "17\n",
      "npa 10.346911458776626\n"
     ]
    },
    {
     "name": "stderr",
     "output_type": "stream",
     "text": [
      "../sim/GELoadBalancer.py:90: DataConversionWarning: A column-vector y was passed when a 1d array was expected. Please change the shape of y to (n_samples,), for example using ravel().\n",
      "  self.model = self.model.fit(self.X, self.y) #make sure the hat the last period x is ignored\n"
     ]
    },
    {
     "name": "stdout",
     "output_type": "stream",
     "text": [
      "37355 11 17 32145.0\n",
      "0.9987771989036\n",
      "(201, 8) (201, 1)\n",
      "Max reward for 28832.6 17\n",
      "17\n",
      "npa 10.341042903262903\n"
     ]
    },
    {
     "name": "stderr",
     "output_type": "stream",
     "text": [
      "../sim/GELoadBalancer.py:90: DataConversionWarning: A column-vector y was passed when a 1d array was expected. Please change the shape of y to (n_samples,), for example using ravel().\n",
      "  self.model = self.model.fit(self.X, self.y) #make sure the hat the last period x is ignored\n"
     ]
    },
    {
     "name": "stdout",
     "output_type": "stream",
     "text": [
      "36953 7 17 31783.0\n",
      "0.9984476153797686\n",
      "(202, 8) (202, 1)\n",
      "24\n",
      "npa 10.286927004439828\n"
     ]
    },
    {
     "name": "stderr",
     "output_type": "stream",
     "text": [
      "../sim/GELoadBalancer.py:90: DataConversionWarning: A column-vector y was passed when a 1d array was expected. Please change the shape of y to (n_samples,), for example using ravel().\n",
      "  self.model = self.model.fit(self.X, self.y) #make sure the hat the last period x is ignored\n"
     ]
    },
    {
     "name": "stdout",
     "output_type": "stream",
     "text": [
      "36924 0.0 24 29724.0\n",
      "0.9984431225354744\n",
      "(203, 8) (203, 1)\n",
      "12\n",
      "npa 10.30304306607507\n"
     ]
    },
    {
     "name": "stderr",
     "output_type": "stream",
     "text": [
      "../sim/GELoadBalancer.py:90: DataConversionWarning: A column-vector y was passed when a 1d array was expected. Please change the shape of y to (n_samples,), for example using ravel().\n",
      "  self.model = self.model.fit(self.X, self.y) #make sure the hat the last period x is ignored\n"
     ]
    },
    {
     "name": "stdout",
     "output_type": "stream",
     "text": [
      "37174 1741 12 16164.0\n",
      "0.9983562869394033\n",
      "(204, 8) (204, 1)\n",
      "24\n",
      "npa 10.311754523689158\n"
     ]
    },
    {
     "name": "stderr",
     "output_type": "stream",
     "text": [
      "../sim/GELoadBalancer.py:90: DataConversionWarning: A column-vector y was passed when a 1d array was expected. Please change the shape of y to (n_samples,), for example using ravel().\n",
      "  self.model = self.model.fit(self.X, self.y) #make sure the hat the last period x is ignored\n"
     ]
    },
    {
     "name": "stdout",
     "output_type": "stream",
     "text": [
      "37322 4 24 30082.0\n",
      "0.9990361736657458\n",
      "(205, 8) (205, 1)\n",
      "15\n",
      "npa 10.353321718477968\n"
     ]
    },
    {
     "name": "stderr",
     "output_type": "stream",
     "text": [
      "../sim/GELoadBalancer.py:90: DataConversionWarning: A column-vector y was passed when a 1d array was expected. Please change the shape of y to (n_samples,), for example using ravel().\n",
      "  self.model = self.model.fit(self.X, self.y) #make sure the hat the last period x is ignored\n"
     ]
    },
    {
     "name": "stdout",
     "output_type": "stream",
     "text": [
      "37058 465 15 27908.0\n",
      "0.9982693014025019\n",
      "(206, 8) (206, 1)\n",
      "12\n",
      "npa 10.27450653287667\n"
     ]
    },
    {
     "name": "stderr",
     "output_type": "stream",
     "text": [
      "../sim/GELoadBalancer.py:90: DataConversionWarning: A column-vector y was passed when a 1d array was expected. Please change the shape of y to (n_samples,), for example using ravel().\n",
      "  self.model = self.model.fit(self.X, self.y) #make sure the hat the last period x is ignored\n"
     ]
    },
    {
     "name": "stdout",
     "output_type": "stream",
     "text": [
      "36685 1701 12 16075.0\n",
      "0.9987884358129933\n",
      "(207, 8) (207, 1)\n",
      "Max reward for 28001.5 17\n",
      "17\n",
      "npa 10.17501737553986\n"
     ]
    },
    {
     "name": "stderr",
     "output_type": "stream",
     "text": [
      "../sim/GELoadBalancer.py:90: DataConversionWarning: A column-vector y was passed when a 1d array was expected. Please change the shape of y to (n_samples,), for example using ravel().\n",
      "  self.model = self.model.fit(self.X, self.y) #make sure the hat the last period x is ignored\n"
     ]
    },
    {
     "name": "stdout",
     "output_type": "stream",
     "text": [
      "36656 18 17 31376.0\n",
      "0.9988809380179084\n",
      "(208, 8) (208, 1)\n",
      "Max reward for 27863.9 17\n",
      "17\n",
      "npa 10.194002363998328\n"
     ]
    },
    {
     "name": "stderr",
     "output_type": "stream",
     "text": [
      "../sim/GELoadBalancer.py:90: DataConversionWarning: A column-vector y was passed when a 1d array was expected. Please change the shape of y to (n_samples,), for example using ravel().\n",
      "  self.model = self.model.fit(self.X, self.y) #make sure the hat the last period x is ignored\n"
     ]
    },
    {
     "name": "stdout",
     "output_type": "stream",
     "text": [
      "36775 8 17 31595.0\n",
      "0.9987982752382485\n",
      "(209, 8) (209, 1)\n",
      "23\n",
      "npa 10.230066488185697\n"
     ]
    },
    {
     "name": "stderr",
     "output_type": "stream",
     "text": [
      "../sim/GELoadBalancer.py:90: DataConversionWarning: A column-vector y was passed when a 1d array was expected. Please change the shape of y to (n_samples,), for example using ravel().\n",
      "  self.model = self.model.fit(self.X, self.y) #make sure the hat the last period x is ignored\n"
     ]
    },
    {
     "name": "stdout",
     "output_type": "stream",
     "text": [
      "36862 0.0 23 29962.0\n",
      "0.9984460284681902\n",
      "(210, 8) (210, 1)\n",
      "24\n",
      "npa 10.229910746827606\n"
     ]
    },
    {
     "name": "stderr",
     "output_type": "stream",
     "text": [
      "../sim/GELoadBalancer.py:90: DataConversionWarning: A column-vector y was passed when a 1d array was expected. Please change the shape of y to (n_samples,), for example using ravel().\n",
      "  self.model = self.model.fit(self.X, self.y) #make sure the hat the last period x is ignored\n"
     ]
    },
    {
     "name": "stdout",
     "output_type": "stream",
     "text": [
      "37040 0.0 24 29840.0\n",
      "0.9986241396405415\n",
      "(211, 8) (211, 1)\n",
      "Max reward for 28670.7 17\n",
      "17\n",
      "npa 10.300001587581031\n"
     ]
    },
    {
     "name": "stderr",
     "output_type": "stream",
     "text": [
      "../sim/GELoadBalancer.py:90: DataConversionWarning: A column-vector y was passed when a 1d array was expected. Please change the shape of y to (n_samples,), for example using ravel().\n",
      "  self.model = self.model.fit(self.X, self.y) #make sure the hat the last period x is ignored\n"
     ]
    },
    {
     "name": "stdout",
     "output_type": "stream",
     "text": [
      "36826 2 17 31706.0\n",
      "0.9982727219472911\n",
      "(212, 8) (212, 1)\n",
      "Max reward for 28105.1 17\n",
      "17\n",
      "npa 10.198803513654825\n"
     ]
    },
    {
     "name": "stderr",
     "output_type": "stream",
     "text": [
      "../sim/GELoadBalancer.py:90: DataConversionWarning: A column-vector y was passed when a 1d array was expected. Please change the shape of y to (n_samples,), for example using ravel().\n",
      "  self.model = self.model.fit(self.X, self.y) #make sure the hat the last period x is ignored\n"
     ]
    },
    {
     "name": "stdout",
     "output_type": "stream",
     "text": [
      "36804 16 17 31544.0\n",
      "0.9986981264752436\n",
      "(213, 8) (213, 1)\n",
      "17\n",
      "npa 10.259369656540441\n"
     ]
    },
    {
     "name": "stderr",
     "output_type": "stream",
     "text": [
      "../sim/GELoadBalancer.py:90: DataConversionWarning: A column-vector y was passed when a 1d array was expected. Please change the shape of y to (n_samples,), for example using ravel().\n",
      "  self.model = self.model.fit(self.X, self.y) #make sure the hat the last period x is ignored\n"
     ]
    },
    {
     "name": "stdout",
     "output_type": "stream",
     "text": [
      "36613 5 17 31463.0\n",
      "0.9985773783996159\n",
      "(214, 8) (214, 1)\n",
      "Max reward for 27892.7 17\n",
      "17\n",
      "npa 10.157323351041919\n"
     ]
    },
    {
     "name": "stderr",
     "output_type": "stream",
     "text": [
      "../sim/GELoadBalancer.py:90: DataConversionWarning: A column-vector y was passed when a 1d array was expected. Please change the shape of y to (n_samples,), for example using ravel().\n",
      "  self.model = self.model.fit(self.X, self.y) #make sure the hat the last period x is ignored\n"
     ]
    },
    {
     "name": "stdout",
     "output_type": "stream",
     "text": [
      "36493 9 17 31303.0\n",
      "0.9989613109123867\n",
      "(215, 8) (215, 1)\n",
      "Max reward for 28013.8 17\n",
      "17\n",
      "npa 10.094876543913928\n"
     ]
    },
    {
     "name": "stderr",
     "output_type": "stream",
     "text": [
      "../sim/GELoadBalancer.py:90: DataConversionWarning: A column-vector y was passed when a 1d array was expected. Please change the shape of y to (n_samples,), for example using ravel().\n",
      "  self.model = self.model.fit(self.X, self.y) #make sure the hat the last period x is ignored\n"
     ]
    },
    {
     "name": "stdout",
     "output_type": "stream",
     "text": [
      "36036 4 17 30896.0\n",
      "0.9984266724488414\n",
      "(216, 8) (216, 1)\n",
      "Max reward for 27748.3 16\n",
      "16\n",
      "npa 10.041918795320896\n"
     ]
    },
    {
     "name": "stderr",
     "output_type": "stream",
     "text": [
      "../sim/GELoadBalancer.py:90: DataConversionWarning: A column-vector y was passed when a 1d array was expected. Please change the shape of y to (n_samples,), for example using ravel().\n",
      "  self.model = self.model.fit(self.X, self.y) #make sure the hat the last period x is ignored\n"
     ]
    },
    {
     "name": "stdout",
     "output_type": "stream",
     "text": [
      "36089 38 16 30909.0\n",
      "0.9987960774693371\n",
      "(217, 8) (217, 1)\n",
      "Max reward for 27873.6 17\n",
      "17\n",
      "npa 10.045218228959236\n"
     ]
    },
    {
     "name": "stderr",
     "output_type": "stream",
     "text": [
      "../sim/GELoadBalancer.py:90: DataConversionWarning: A column-vector y was passed when a 1d array was expected. Please change the shape of y to (n_samples,), for example using ravel().\n",
      "  self.model = self.model.fit(self.X, self.y) #make sure the hat the last period x is ignored\n"
     ]
    },
    {
     "name": "stdout",
     "output_type": "stream",
     "text": [
      "36209 1 17 31099.0\n",
      "0.9987957914117958\n",
      "(218, 8) (218, 1)\n",
      "20\n",
      "npa 10.025364935865955\n"
     ]
    },
    {
     "name": "stderr",
     "output_type": "stream",
     "text": [
      "../sim/GELoadBalancer.py:90: DataConversionWarning: A column-vector y was passed when a 1d array was expected. Please change the shape of y to (n_samples,), for example using ravel().\n",
      "  self.model = self.model.fit(self.X, self.y) #make sure the hat the last period x is ignored\n"
     ]
    },
    {
     "name": "stdout",
     "output_type": "stream",
     "text": [
      "36082 0.0 20 30082.0\n",
      "0.9990116121022141\n",
      "(219, 8) (219, 1)\n",
      "14\n",
      "npa 10.053288982199927\n"
     ]
    },
    {
     "name": "stderr",
     "output_type": "stream",
     "text": [
      "../sim/GELoadBalancer.py:90: DataConversionWarning: A column-vector y was passed when a 1d array was expected. Please change the shape of y to (n_samples,), for example using ravel().\n",
      "  self.model = self.model.fit(self.X, self.y) #make sure the hat the last period x is ignored\n"
     ]
    },
    {
     "name": "stdout",
     "output_type": "stream",
     "text": [
      "35993 713 14 24663.0\n",
      "0.9989375089031444\n",
      "(220, 8) (220, 1)\n",
      "Max reward for 27643.8 16\n",
      "16\n",
      "npa 9.978692017281318\n"
     ]
    },
    {
     "name": "stderr",
     "output_type": "stream",
     "text": [
      "../sim/GELoadBalancer.py:90: DataConversionWarning: A column-vector y was passed when a 1d array was expected. Please change the shape of y to (n_samples,), for example using ravel().\n",
      "  self.model = self.model.fit(self.X, self.y) #make sure the hat the last period x is ignored\n"
     ]
    },
    {
     "name": "stdout",
     "output_type": "stream",
     "text": [
      "35640 36 16 30480.0\n",
      "0.9987419785281597\n",
      "(221, 8) (221, 1)\n",
      "Max reward for 27574.9 18\n",
      "18\n",
      "npa 9.904923766390345\n"
     ]
    },
    {
     "name": "stderr",
     "output_type": "stream",
     "text": [
      "../sim/GELoadBalancer.py:90: DataConversionWarning: A column-vector y was passed when a 1d array was expected. Please change the shape of y to (n_samples,), for example using ravel().\n",
      "  self.model = self.model.fit(self.X, self.y) #make sure the hat the last period x is ignored\n"
     ]
    },
    {
     "name": "stdout",
     "output_type": "stream",
     "text": [
      "35772 0.0 18 30372.0\n",
      "0.9985477700252815\n",
      "(222, 8) (222, 1)\n",
      "Max reward for 27906.7 16\n",
      "16\n",
      "npa 9.9015464791817\n"
     ]
    },
    {
     "name": "stderr",
     "output_type": "stream",
     "text": [
      "../sim/GELoadBalancer.py:90: DataConversionWarning: A column-vector y was passed when a 1d array was expected. Please change the shape of y to (n_samples,), for example using ravel().\n",
      "  self.model = self.model.fit(self.X, self.y) #make sure the hat the last period x is ignored\n"
     ]
    },
    {
     "name": "stdout",
     "output_type": "stream",
     "text": [
      "35655 16 16 30695.0\n",
      "0.9988817334690993\n",
      "(223, 8) (223, 1)\n",
      "Max reward for 27691.8 16\n",
      "16\n",
      "npa 9.913341646333041\n"
     ]
    },
    {
     "name": "stderr",
     "output_type": "stream",
     "text": [
      "../sim/GELoadBalancer.py:90: DataConversionWarning: A column-vector y was passed when a 1d array was expected. Please change the shape of y to (n_samples,), for example using ravel().\n",
      "  self.model = self.model.fit(self.X, self.y) #make sure the hat the last period x is ignored\n"
     ]
    },
    {
     "name": "stdout",
     "output_type": "stream",
     "text": [
      "35730 32 16 30610.0\n",
      "0.9988347025669267\n",
      "(224, 8) (224, 1)\n",
      "Max reward for 27826.3 16\n",
      "16\n",
      "npa 9.941237606256921\n"
     ]
    },
    {
     "name": "stderr",
     "output_type": "stream",
     "text": [
      "../sim/GELoadBalancer.py:90: DataConversionWarning: A column-vector y was passed when a 1d array was expected. Please change the shape of y to (n_samples,), for example using ravel().\n",
      "  self.model = self.model.fit(self.X, self.y) #make sure the hat the last period x is ignored\n"
     ]
    },
    {
     "name": "stdout",
     "output_type": "stream",
     "text": [
      "35585 17 16 30615.0\n",
      "0.9988462209659588\n",
      "(225, 8) (225, 1)\n",
      "30\n",
      "npa 9.910851492008941\n"
     ]
    },
    {
     "name": "stderr",
     "output_type": "stream",
     "text": [
      "../sim/GELoadBalancer.py:90: DataConversionWarning: A column-vector y was passed when a 1d array was expected. Please change the shape of y to (n_samples,), for example using ravel().\n",
      "  self.model = self.model.fit(self.X, self.y) #make sure the hat the last period x is ignored\n"
     ]
    },
    {
     "name": "stdout",
     "output_type": "stream",
     "text": [
      "35538 0.0 30 26538.0\n",
      "0.9989664880872572\n",
      "(226, 8) (226, 1)\n",
      "Max reward for 27152.9 16\n",
      "16\n",
      "npa 9.914138630706896\n"
     ]
    },
    {
     "name": "stderr",
     "output_type": "stream",
     "text": [
      "../sim/GELoadBalancer.py:90: DataConversionWarning: A column-vector y was passed when a 1d array was expected. Please change the shape of y to (n_samples,), for example using ravel().\n",
      "  self.model = self.model.fit(self.X, self.y) #make sure the hat the last period x is ignored\n"
     ]
    },
    {
     "name": "stdout",
     "output_type": "stream",
     "text": [
      "35831 26 16 30771.0\n",
      "0.9988617629483442\n",
      "(227, 8) (227, 1)\n",
      "21\n",
      "npa 9.972310298999295\n"
     ]
    },
    {
     "name": "stderr",
     "output_type": "stream",
     "text": [
      "../sim/GELoadBalancer.py:90: DataConversionWarning: A column-vector y was passed when a 1d array was expected. Please change the shape of y to (n_samples,), for example using ravel().\n",
      "  self.model = self.model.fit(self.X, self.y) #make sure the hat the last period x is ignored\n"
     ]
    },
    {
     "name": "stdout",
     "output_type": "stream",
     "text": [
      "35820 0.0 21 29520.0\n",
      "0.998494630561206\n",
      "(228, 8) (228, 1)\n",
      "Max reward for 27430.3 16\n",
      "16\n",
      "npa 9.938854626006325\n"
     ]
    },
    {
     "name": "stderr",
     "output_type": "stream",
     "text": [
      "../sim/GELoadBalancer.py:90: DataConversionWarning: A column-vector y was passed when a 1d array was expected. Please change the shape of y to (n_samples,), for example using ravel().\n",
      "  self.model = self.model.fit(self.X, self.y) #make sure the hat the last period x is ignored\n"
     ]
    },
    {
     "name": "stdout",
     "output_type": "stream",
     "text": [
      "35531 4 16 30691.0\n",
      "0.9983034132237729\n",
      "(229, 8) (229, 1)\n",
      "12\n",
      "npa 9.913272992954518\n"
     ]
    },
    {
     "name": "stderr",
     "output_type": "stream",
     "text": [
      "../sim/GELoadBalancer.py:90: DataConversionWarning: A column-vector y was passed when a 1d array was expected. Please change the shape of y to (n_samples,), for example using ravel().\n",
      "  self.model = self.model.fit(self.X, self.y) #make sure the hat the last period x is ignored\n"
     ]
    },
    {
     "name": "stdout",
     "output_type": "stream",
     "text": [
      "36178 1654 12 16038.0\n",
      "0.9986679723875711\n",
      "(230, 8) (230, 1)\n",
      "Max reward for 27543.2 16\n",
      "16\n",
      "npa 10.056866523545269\n"
     ]
    },
    {
     "name": "stderr",
     "output_type": "stream",
     "text": [
      "../sim/GELoadBalancer.py:90: DataConversionWarning: A column-vector y was passed when a 1d array was expected. Please change the shape of y to (n_samples,), for example using ravel().\n",
      "  self.model = self.model.fit(self.X, self.y) #make sure the hat the last period x is ignored\n"
     ]
    },
    {
     "name": "stdout",
     "output_type": "stream",
     "text": [
      "36303 54 16 30963.0\n",
      "0.9990518328736445\n",
      "(231, 8) (231, 1)\n",
      "24\n",
      "npa 10.120423584557098\n"
     ]
    },
    {
     "name": "stderr",
     "output_type": "stream",
     "text": [
      "../sim/GELoadBalancer.py:90: DataConversionWarning: A column-vector y was passed when a 1d array was expected. Please change the shape of y to (n_samples,), for example using ravel().\n",
      "  self.model = self.model.fit(self.X, self.y) #make sure the hat the last period x is ignored\n"
     ]
    },
    {
     "name": "stdout",
     "output_type": "stream",
     "text": [
      "36373 0.0 24 29173.0\n",
      "0.9990235094661045\n",
      "(232, 8) (232, 1)\n",
      "17\n",
      "npa 10.128661647720229\n"
     ]
    },
    {
     "name": "stderr",
     "output_type": "stream",
     "text": [
      "../sim/GELoadBalancer.py:90: DataConversionWarning: A column-vector y was passed when a 1d array was expected. Please change the shape of y to (n_samples,), for example using ravel().\n",
      "  self.model = self.model.fit(self.X, self.y) #make sure the hat the last period x is ignored\n"
     ]
    },
    {
     "name": "stdout",
     "output_type": "stream",
     "text": [
      "36480 7 17 31310.0\n",
      "0.9987771566269781\n",
      "(233, 8) (233, 1)\n",
      "Max reward for 27847.3 16\n",
      "16\n",
      "npa 10.142391222240157\n"
     ]
    },
    {
     "name": "stderr",
     "output_type": "stream",
     "text": [
      "../sim/GELoadBalancer.py:90: DataConversionWarning: A column-vector y was passed when a 1d array was expected. Please change the shape of y to (n_samples,), for example using ravel().\n",
      "  self.model = self.model.fit(self.X, self.y) #make sure the hat the last period x is ignored\n"
     ]
    },
    {
     "name": "stdout",
     "output_type": "stream",
     "text": [
      "36819 78 16 31239.0\n",
      "0.9985660257147752\n",
      "(234, 8) (234, 1)\n",
      "Max reward for 28158.2 17\n",
      "17\n",
      "npa 10.196375685210633\n"
     ]
    },
    {
     "name": "stderr",
     "output_type": "stream",
     "text": [
      "../sim/GELoadBalancer.py:90: DataConversionWarning: A column-vector y was passed when a 1d array was expected. Please change the shape of y to (n_samples,), for example using ravel().\n",
      "  self.model = self.model.fit(self.X, self.y) #make sure the hat the last period x is ignored\n"
     ]
    },
    {
     "name": "stdout",
     "output_type": "stream",
     "text": [
      "36602 6 17 31442.0\n",
      "0.9986040028147471\n",
      "(235, 8) (235, 1)\n",
      "25\n",
      "npa 10.144882615925605\n"
     ]
    },
    {
     "name": "stderr",
     "output_type": "stream",
     "text": [
      "../sim/GELoadBalancer.py:90: DataConversionWarning: A column-vector y was passed when a 1d array was expected. Please change the shape of y to (n_samples,), for example using ravel().\n",
      "  self.model = self.model.fit(self.X, self.y) #make sure the hat the last period x is ignored\n"
     ]
    },
    {
     "name": "stdout",
     "output_type": "stream",
     "text": [
      "36616 0.0 25 29116.0\n",
      "0.9990558107861726\n",
      "(236, 8) (236, 1)\n",
      "Max reward for 28084.6 17\n",
      "17\n",
      "npa 10.146114006195754\n"
     ]
    },
    {
     "name": "stderr",
     "output_type": "stream",
     "text": [
      "../sim/GELoadBalancer.py:90: DataConversionWarning: A column-vector y was passed when a 1d array was expected. Please change the shape of y to (n_samples,), for example using ravel().\n",
      "  self.model = self.model.fit(self.X, self.y) #make sure the hat the last period x is ignored\n"
     ]
    },
    {
     "name": "stdout",
     "output_type": "stream",
     "text": [
      "36706 6 17 31546.0\n",
      "0.9990673206536137\n",
      "(237, 8) (237, 1)\n",
      "Max reward for 28114.9 17\n",
      "17\n",
      "npa 10.155318095655584\n"
     ]
    },
    {
     "name": "stderr",
     "output_type": "stream",
     "text": [
      "../sim/GELoadBalancer.py:90: DataConversionWarning: A column-vector y was passed when a 1d array was expected. Please change the shape of y to (n_samples,), for example using ravel().\n",
      "  self.model = self.model.fit(self.X, self.y) #make sure the hat the last period x is ignored\n"
     ]
    },
    {
     "name": "stdout",
     "output_type": "stream",
     "text": [
      "36647 6 17 31487.0\n",
      "0.9985754327788529\n",
      "(238, 8) (238, 1)\n",
      "Max reward for 28465.9 17\n",
      "17\n",
      "npa 10.19206571632156\n"
     ]
    },
    {
     "name": "stderr",
     "output_type": "stream",
     "text": [
      "../sim/GELoadBalancer.py:90: DataConversionWarning: A column-vector y was passed when a 1d array was expected. Please change the shape of y to (n_samples,), for example using ravel().\n",
      "  self.model = self.model.fit(self.X, self.y) #make sure the hat the last period x is ignored\n"
     ]
    },
    {
     "name": "stdout",
     "output_type": "stream",
     "text": [
      "36911 4 17 31771.0\n",
      "0.9985675127500565\n",
      "(239, 8) (239, 1)\n",
      "Max reward for 28731.9 17\n",
      "17\n",
      "npa 10.245515990943591\n"
     ]
    },
    {
     "name": "stderr",
     "output_type": "stream",
     "text": [
      "../sim/GELoadBalancer.py:90: DataConversionWarning: A column-vector y was passed when a 1d array was expected. Please change the shape of y to (n_samples,), for example using ravel().\n",
      "  self.model = self.model.fit(self.X, self.y) #make sure the hat the last period x is ignored\n"
     ]
    },
    {
     "data": {
      "text/plain": [
       "<sim.Environment.Environment at 0x7ff26bd2b9a0>"
      ]
     },
     "execution_count": 29,
     "metadata": {},
     "output_type": "execute_result"
    }
   ],
   "source": [
    "#from sklearn.linear_model import LinearRegression\n",
    "#from sklearn.tree import DecisionTreeRegressor\n",
    "#from sklearn.neural_network import MLPRegressor\n",
    "from sklearn.ensemble import RandomForestRegressor\n",
    "\n",
    "stopTime = 10*24*60*60\n",
    "env = Environment(stopTime=stopTime)\n",
    "\n",
    "#model = LinearRegression()\n",
    "#model = DecisionTreeRegressor()\n",
    "#model  = MLPRegressor(hidden_layer_sizes=[10], activation='tanh')\n",
    "model  = RandomForestRegressor(n_estimators=10)\n",
    "eta = lambda t: sigmoid(2-0.01*t)\n",
    "#eta = 0.4\n",
    "#sigmoid(2/(0.1*t+2)-0.5)\n",
    "periodLength = 1*60*60 #half an hour per period -> schedule repeated two times in 12 hours\n",
    "loadBalancer = GreedyEpsilonLoadBalancer(nServers=10, environment=env, model = model, eta=eta, nServerRange=[10,30], usePartialFit=False, periodLength=periodLength)\n",
    "\n",
    "requestTypes = [(0.5,1,0.1,10), (0.5,2,0.2,10)] #(prob, mu, sigma, cancelTime)\n",
    "arrivalsPerSecond = 10 #starting value\n",
    "source = ExponentialSource(arrivalsPerSecond, requestTypes, loadBalancer, env)\n",
    "\n",
    "schedule = np.array([arrivalsPerSecond]) #12 periods\n",
    "arrivalSchedule = AutoRegressiveArrivalSchedule(periodLength,arrivalSchedule=schedule, environment=env, loadBalancer=loadBalancer, source=source, maxArrivals=20, A=[0,1,0,0,0,0.1,0])\n",
    "env.run(debug=False)"
   ]
  },
  {
   "cell_type": "code",
   "execution_count": 9,
   "metadata": {},
   "outputs": [
    {
     "name": "stderr",
     "output_type": "stream",
     "text": [
      "/Users/julianvanmeggelen/opt/anaconda3/lib/python3.8/site-packages/pandas/core/computation/expressions.py:20: UserWarning: Pandas requires version '2.7.3' or newer of 'numexpr' (version '2.7.1' currently installed).\n",
      "  from pandas.core.computation.check import NUMEXPR_INSTALLED\n"
     ]
    },
    {
     "data": {
      "text/html": [
       "<div>\n",
       "<style scoped>\n",
       "    .dataframe tbody tr th:only-of-type {\n",
       "        vertical-align: middle;\n",
       "    }\n",
       "\n",
       "    .dataframe tbody tr th {\n",
       "        vertical-align: top;\n",
       "    }\n",
       "\n",
       "    .dataframe thead th {\n",
       "        text-align: right;\n",
       "    }\n",
       "</style>\n",
       "<table border=\"1\" class=\"dataframe\">\n",
       "  <thead>\n",
       "    <tr style=\"text-align: right;\">\n",
       "      <th></th>\n",
       "      <th>0</th>\n",
       "      <th>1</th>\n",
       "      <th>2</th>\n",
       "      <th>3</th>\n",
       "      <th>4</th>\n",
       "      <th>5</th>\n",
       "      <th>6</th>\n",
       "      <th>7</th>\n",
       "    </tr>\n",
       "  </thead>\n",
       "  <tbody>\n",
       "    <tr>\n",
       "      <th>0</th>\n",
       "      <td>41.914091</td>\n",
       "      <td>18115.0</td>\n",
       "      <td>18115.0</td>\n",
       "      <td>4.062483</td>\n",
       "      <td>18051.0</td>\n",
       "      <td>5.553448</td>\n",
       "      <td>1088.0</td>\n",
       "      <td>27.0</td>\n",
       "    </tr>\n",
       "    <tr>\n",
       "      <th>1</th>\n",
       "      <td>5.508725</td>\n",
       "      <td>17895.0</td>\n",
       "      <td>17895.0</td>\n",
       "      <td>0.027498</td>\n",
       "      <td>17944.0</td>\n",
       "      <td>1.530999</td>\n",
       "      <td>10.0</td>\n",
       "      <td>10.0</td>\n",
       "    </tr>\n",
       "    <tr>\n",
       "      <th>2</th>\n",
       "      <td>40.142458</td>\n",
       "      <td>17920.0</td>\n",
       "      <td>17920.0</td>\n",
       "      <td>3.941446</td>\n",
       "      <td>17874.0</td>\n",
       "      <td>5.440382</td>\n",
       "      <td>1011.0</td>\n",
       "      <td>24.0</td>\n",
       "    </tr>\n",
       "    <tr>\n",
       "      <th>3</th>\n",
       "      <td>1.605092</td>\n",
       "      <td>18251.0</td>\n",
       "      <td>18251.0</td>\n",
       "      <td>0.042047</td>\n",
       "      <td>18296.0</td>\n",
       "      <td>1.540913</td>\n",
       "      <td>8.0</td>\n",
       "      <td>25.0</td>\n",
       "    </tr>\n",
       "    <tr>\n",
       "      <th>4</th>\n",
       "      <td>0.872812</td>\n",
       "      <td>18023.0</td>\n",
       "      <td>18023.0</td>\n",
       "      <td>0.009199</td>\n",
       "      <td>18025.0</td>\n",
       "      <td>1.509962</td>\n",
       "      <td>0.0</td>\n",
       "      <td>14.0</td>\n",
       "    </tr>\n",
       "    <tr>\n",
       "      <th>5</th>\n",
       "      <td>36.463409</td>\n",
       "      <td>17906.0</td>\n",
       "      <td>17906.0</td>\n",
       "      <td>3.590861</td>\n",
       "      <td>17880.0</td>\n",
       "      <td>5.086693</td>\n",
       "      <td>314.0</td>\n",
       "      <td>10.0</td>\n",
       "    </tr>\n",
       "    <tr>\n",
       "      <th>6</th>\n",
       "      <td>40.740957</td>\n",
       "      <td>18028.0</td>\n",
       "      <td>18028.0</td>\n",
       "      <td>3.975512</td>\n",
       "      <td>18002.0</td>\n",
       "      <td>5.468232</td>\n",
       "      <td>1101.0</td>\n",
       "      <td>18.0</td>\n",
       "    </tr>\n",
       "    <tr>\n",
       "      <th>7</th>\n",
       "      <td>4.449338</td>\n",
       "      <td>17908.0</td>\n",
       "      <td>17908.0</td>\n",
       "      <td>0.343514</td>\n",
       "      <td>17954.0</td>\n",
       "      <td>1.847940</td>\n",
       "      <td>10.0</td>\n",
       "      <td>13.0</td>\n",
       "    </tr>\n",
       "    <tr>\n",
       "      <th>8</th>\n",
       "      <td>39.301820</td>\n",
       "      <td>17803.0</td>\n",
       "      <td>17803.0</td>\n",
       "      <td>3.915426</td>\n",
       "      <td>17766.0</td>\n",
       "      <td>5.415255</td>\n",
       "      <td>494.0</td>\n",
       "      <td>30.0</td>\n",
       "    </tr>\n",
       "    <tr>\n",
       "      <th>9</th>\n",
       "      <td>14.625000</td>\n",
       "      <td>17682.0</td>\n",
       "      <td>17682.0</td>\n",
       "      <td>0.018750</td>\n",
       "      <td>17725.0</td>\n",
       "      <td>1.520973</td>\n",
       "      <td>4.0</td>\n",
       "      <td>28.0</td>\n",
       "    </tr>\n",
       "  </tbody>\n",
       "</table>\n",
       "</div>"
      ],
      "text/plain": [
       "           0        1        2         3        4         5       6     7\n",
       "0  41.914091  18115.0  18115.0  4.062483  18051.0  5.553448  1088.0  27.0\n",
       "1   5.508725  17895.0  17895.0  0.027498  17944.0  1.530999    10.0  10.0\n",
       "2  40.142458  17920.0  17920.0  3.941446  17874.0  5.440382  1011.0  24.0\n",
       "3   1.605092  18251.0  18251.0  0.042047  18296.0  1.540913     8.0  25.0\n",
       "4   0.872812  18023.0  18023.0  0.009199  18025.0  1.509962     0.0  14.0\n",
       "5  36.463409  17906.0  17906.0  3.590861  17880.0  5.086693   314.0  10.0\n",
       "6  40.740957  18028.0  18028.0  3.975512  18002.0  5.468232  1101.0  18.0\n",
       "7   4.449338  17908.0  17908.0  0.343514  17954.0  1.847940    10.0  13.0\n",
       "8  39.301820  17803.0  17803.0  3.915426  17766.0  5.415255   494.0  30.0\n",
       "9  14.625000  17682.0  17682.0  0.018750  17725.0  1.520973     4.0  28.0"
      ]
     },
     "execution_count": 9,
     "metadata": {},
     "output_type": "execute_result"
    }
   ],
   "source": [
    "import pandas as pd\n",
    "pd.DataFrame(list(loadBalancer.X)).head(10)"
   ]
  },
  {
   "cell_type": "code",
   "execution_count": 24,
   "metadata": {},
   "outputs": [
    {
     "name": "stdout",
     "output_type": "stream",
     "text": [
      "(480, 8) (479, 1)\n"
     ]
    }
   ],
   "source": [
    "print(loadBalancer.X.shape, loadBalancer.y.shape)\n"
   ]
  },
  {
   "cell_type": "code",
   "execution_count": 30,
   "metadata": {},
   "outputs": [
    {
     "data": {
      "text/plain": [
       "[<matplotlib.lines.Line2D at 0x7ff26c8f9af0>]"
      ]
     },
     "execution_count": 30,
     "metadata": {},
     "output_type": "execute_result"
    },
    {
     "data": {
      "image/png": "[encoded data removed]",
      "text/plain": [
       "<Figure size 432x288 with 1 Axes>"
      ]
     },
     "metadata": {
      "needs_background": "light"
     },
     "output_type": "display_data"
    }
   ],
   "source": [
    "X = loadBalancer.X[-100,:]\n",
    "X\n",
    "pred = []\n",
    "for n  in range(0,40):\n",
    "    X_ = np.append(X[:-1], n)\n",
    "    rewardHat = loadBalancer.model.predict(X_[None,:])[0]\n",
    "    pred.append(rewardHat)\n",
    "\n",
    "plt.plot(range(0,40), pred)"
   ]
  },
  {
   "cell_type": "code",
   "execution_count": 31,
   "metadata": {},
   "outputs": [
    {
     "data": {
      "text/plain": [
       "<matplotlib.collections.PathCollection at 0x7ff26bc501c0>"
      ]
     },
     "execution_count": 31,
     "metadata": {},
     "output_type": "execute_result"
    },
    {
     "data": {
      "image/png": "[encoded data removed]",
      "text/plain": [
       "<Figure size 432x288 with 1 Axes>"
      ]
     },
     "metadata": {
      "needs_background": "light"
     },
     "output_type": "display_data"
    }
   ],
   "source": [
    "plt.scatter(env.log['numberOfServers'][::2], env.log['reward'])"
   ]
  },
  {
   "cell_type": "code",
   "execution_count": 32,
   "metadata": {},
   "outputs": [
    {
     "data": {
      "image/png": "[encoded data removed]",
      "text/plain": [
       "<Figure size 432x288 with 1 Axes>"
      ]
     },
     "metadata": {
      "needs_background": "light"
     },
     "output_type": "display_data"
    },
    {
     "data": {
      "image/png": "[encoded data removed]",
      "text/plain": [
       "<Figure size 432x288 with 1 Axes>"
      ]
     },
     "metadata": {
      "needs_background": "light"
     },
     "output_type": "display_data"
    },
    {
     "data": {
      "image/png": "[encoded data removed]",
      "text/plain": [
       "<Figure size 432x288 with 1 Axes>"
      ]
     },
     "metadata": {
      "needs_background": "light"
     },
     "output_type": "display_data"
    },
    {
     "data": {
      "image/png": "[encoded data removed]",
      "text/plain": [
       "<Figure size 432x288 with 1 Axes>"
      ]
     },
     "metadata": {
      "needs_background": "light"
     },
     "output_type": "display_data"
    },
    {
     "data": {
      "image/png": "[encoded data removed]",
      "text/plain": [
       "<Figure size 432x288 with 1 Axes>"
      ]
     },
     "metadata": {
      "needs_background": "light"
     },
     "output_type": "display_data"
    },
    {
     "data": {
      "image/png": "[encoded data removed]",
      "text/plain": [
       "<Figure size 432x288 with 1 Axes>"
      ]
     },
     "metadata": {
      "needs_background": "light"
     },
     "output_type": "display_data"
    },
    {
     "data": {
      "image/png": "[encoded data removed]",
      "text/plain": [
       "<Figure size 432x288 with 1 Axes>"
      ]
     },
     "metadata": {
      "needs_background": "light"
     },
     "output_type": "display_data"
    }
   ],
   "source": [
    "plt.plot(env.log['eta'])\n",
    "plt.figure()\n",
    "plt.plot(env.log['numberOfServers'])\n",
    "plt.figure()\n",
    "plt.plot(env.log['greedyEpsilonActionType'])\n",
    "plt.figure()\n",
    "plt.plot(env.log['reward'])\n",
    "plt.figure()\n",
    "plt.hist(env.logTime['arrivalEvent'], bins=int(stopTime/60/60));\n",
    "plt.figure()\n",
    "plt.hist(env.logTime['requestProcessed'], bins=int(stopTime/60/60));\n",
    "plt.figure()\n",
    "plt.hist(env.logTime['requestCancelled'], bins=int(stopTime/60/60));"
   ]
  },
  {
   "cell_type": "code",
   "execution_count": null,
   "metadata": {},
   "outputs": [],
   "source": [
    "plt.plot(np.array(env.log['reward'])[np.array(env.log['greedyEpsilonActionType'])==1.0])\n",
    "plt.plot(np.array(env.log['numberOfServers'])[np.array(env.log['greedyEpsilonActionType'])==1.0])"
   ]
  },
  {
   "cell_type": "code",
   "execution_count": 33,
   "metadata": {},
   "outputs": [
    {
     "data": {
      "text/plain": [
       "[<matplotlib.lines.Line2D at 0x7ff26a691880>]"
      ]
     },
     "execution_count": 33,
     "metadata": {},
     "output_type": "execute_result"
    },
    {
     "data": {
      "image/png": "[encoded data removed]",
      "text/plain": [
       "<Figure size 432x288 with 1 Axes>"
      ]
     },
     "metadata": {
      "needs_background": "light"
     },
     "output_type": "display_data"
    }
   ],
   "source": [
    "plt.plot(np.array(env.log['numberOfServers'][::2])[np.array(env.log['greedyEpsilonActionType'])==1.0])"
   ]
  },
  {
   "cell_type": "code",
   "execution_count": 36,
   "metadata": {},
   "outputs": [
    {
     "data": {
      "text/plain": [
       "[<matplotlib.lines.Line2D at 0x7ff26abe18e0>]"
      ]
     },
     "execution_count": 36,
     "metadata": {},
     "output_type": "execute_result"
    },
    {
     "data": {
      "image/png": "[encoded data removed]",
      "text/plain": [
       "<Figure size 432x288 with 1 Axes>"
      ]
     },
     "metadata": {
      "needs_background": "light"
     },
     "output_type": "display_data"
    }
   ],
   "source": [
    "plt.plot(env.log['arrivalsPerSecond'])"
   ]
  },
  {
   "cell_type": "code",
   "execution_count": 19,
   "metadata": {},
   "outputs": [
    {
     "data": {
      "text/plain": [
       "Text(0, 0.5, 'y')"
      ]
     },
     "execution_count": 19,
     "metadata": {},
     "output_type": "execute_result"
    },
    {
     "data": {
      "image/png": "[encoded data removed]",
      "text/plain": [
       "<Figure size 432x288 with 1 Axes>"
      ]
     },
     "metadata": {
      "needs_background": "light"
     },
     "output_type": "display_data"
    }
   ],
   "source": [
    "plt.scatter(loadBalancer.X[:-1,2],loadBalancer.y)\n",
    "plt.xlabel('x')\n",
    "plt.ylabel('y')"
   ]
  },
  {
   "cell_type": "code",
   "execution_count": 52,
   "metadata": {},
   "outputs": [
    {
     "data": {
      "text/plain": [
       "<matplotlib.collections.PathCollection at 0x7fcc143d57f0>"
      ]
     },
     "execution_count": 52,
     "metadata": {},
     "output_type": "execute_result"
    },
    {
     "data": {
      "image/png": "[encoded data removed]",
      "text/plain": [
       "<Figure size 432x288 with 1 Axes>"
      ]
     },
     "metadata": {
      "needs_background": "light"
     },
     "output_type": "display_data"
    }
   ],
   "source": [
    "plt.scatter(env.log['numberOfServers'][0::2],env.log['reward'])"
   ]
  },
  {
   "cell_type": "code",
   "execution_count": 31,
   "metadata": {},
   "outputs": [
    {
     "data": {
      "text/plain": [
       "[<matplotlib.lines.Line2D at 0x7fccd9696160>]"
      ]
     },
     "execution_count": 31,
     "metadata": {},
     "output_type": "execute_result"
    },
    {
     "data": {
      "image/png": "[encoded data removed]",
      "text/plain": [
       "<Figure size 432x288 with 1 Axes>"
      ]
     },
     "metadata": {
      "needs_background": "light"
     },
     "output_type": "display_data"
    }
   ],
   "source": [
    "\n",
    "def sigmoid(x):\n",
    "      return 1 / (1 + np.exp(-x))\n",
    "\n",
    "x = np.arange(0,120,1)\n",
    "plt.plot(x, sigmoid(2/(0.1*x+2)-0.5))\n",
    "plt.plot(x, sigmoid(1-0.1*x))"
   ]
  },
  {
   "cell_type": "code",
   "execution_count": 34,
   "metadata": {},
   "outputs": [
    {
     "data": {
      "text/plain": [
       "[<matplotlib.lines.Line2D at 0x7fe4ec0ab340>]"
      ]
     },
     "execution_count": 34,
     "metadata": {},
     "output_type": "execute_result"
    },
    {
     "data": {
      "image/png": "[encoded data removed]",
      "text/plain": [
       "<Figure size 432x288 with 1 Axes>"
      ]
     },
     "metadata": {
      "needs_background": "light"
     },
     "output_type": "display_data"
    }
   ],
   "source": [
    "x = np.arange(0,1000,1)\n",
    "plt.plot(x, sigmoid(2-0.01*x))"
   ]
  },
  {
   "cell_type": "code",
   "execution_count": null,
   "metadata": {},
   "outputs": [],
   "source": []
  }
 ],
 "metadata": {
  "kernelspec": {
   "display_name": "base",
   "language": "python",
   "name": "python3"
  },
  "language_info": {
   "codemirror_mode": {
    "name": "ipython",
    "version": 3
   },
   "file_extension": ".py",
   "mimetype": "text/x-python",
   "name": "python",
   "nbconvert_exporter": "python",
   "pygments_lexer": "ipython3",
   "version": "3.8.3"
  },
  "orig_nbformat": 4,
  "vscode": {
   "interpreter": {
    "hash": "2ed55c8a3b358c2f14bd6337b3a23ad56aa9692a3206675e532b0b29d35d2a5c"
   }
  }
 },
 "nbformat": 4,
 "nbformat_minor": 2
}
