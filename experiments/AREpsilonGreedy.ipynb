{
 "cells": [
  {
   "cell_type": "code",
   "execution_count": null,
   "metadata": {},
   "outputs": [],
   "source": [
    "%load_ext autoreload\n",
    "%autoreload 2\n",
    "import sys\n",
    "sys.path.insert(0, '..')\n",
    "\n",
    "from sim.LoadBalancer import LoadBalancer\n",
    "from sim.Source import AutoRegressiveArrivalSchedule, Source, ExponentialSource\n",
    "from sim.Environment import Environment\n",
    "from sim.GELoadBalancer import GreedyEpsilonLoadBalancer\n",
    "import numpy as np\n",
    "import random\n",
    "import matplotlib.pyplot as plt\n",
    "import math\n",
    "from optServers import getOptServer\n"
   ]
  },
  {
   "attachments": {},
   "cell_type": "markdown",
   "metadata": {},
   "source": [
    "## Arrival process\n",
    "use number of arrivals and number of cancelled to define autoregressive process"
   ]
  },
  {
   "cell_type": "code",
   "execution_count": null,
   "metadata": {},
   "outputs": [],
   "source": [
    "def sigmoid(x):\n",
    "      return 1 / (1 + np.exp(-x))"
   ]
  },
  {
   "cell_type": "code",
   "execution_count": null,
   "metadata": {},
   "outputs": [],
   "source": [
    "X0 = np.array([18000, 0])\n",
    "X = X0\n",
    "A = np.array([1,0.05])\n",
    "arrivalProcess = lambda X: X.T @ A \n",
    "\n",
    "arr = []\n",
    "canc = []\n",
    "for i in range(0,100):\n",
    "    arrs  = arrivalProcess(X) + random.normalvariate(0,100)\n",
    "    arr.append(arrs)\n",
    "    cancelled = max(arrs-18000,0)\n",
    "    canc.append(cancelled)\n",
    "    X = np.array([arrs, cancelled])\n",
    "\n",
    "plt.plot(arr)\n",
    "plt.figure()\n",
    "plt.plot(canc)\n"
   ]
  },
  {
   "attachments": {},
   "cell_type": "markdown",
   "metadata": {},
   "source": [
    "### Test the process"
   ]
  },
  {
   "cell_type": "code",
   "execution_count": null,
   "metadata": {},
   "outputs": [],
   "source": [
    "def sigmoid(x):\n",
    "      return 1 / (1 + np.exp(-x))"
   ]
  },
  {
   "cell_type": "code",
   "execution_count": 14,
   "metadata": {},
   "outputs": [
    {
     "name": "stdout",
     "output_type": "stream",
     "text": [
      "36231 2248 10 10751.0\n",
      "1\n",
      "npa 10.09394224223072\n",
      "36127 4783 1 -12003.0\n",
      "nan\n",
      "(1, 8) (1, 1)\n",
      "12\n",
      "npa 10.084446717056101\n"
     ]
    },
    {
     "name": "stderr",
     "output_type": "stream",
     "text": [
      "../sim/GELoadBalancer.py:90: DataConversionWarning: A column-vector y was passed when a 1d array was expected. Please change the shape of y to (n_samples,), for example using ravel().\n",
      "  self.model = self.model.fit(self.X, self.y) #make sure the hat the last period x is ignored\n",
      "/Users/julianvanmeggelen/opt/anaconda3/lib/python3.8/site-packages/sklearn/metrics/_regression.py:682: UndefinedMetricWarning: R^2 score is not well-defined with less than two samples.\n",
      "  warnings.warn(msg, UndefinedMetricWarning)\n"
     ]
    },
    {
     "name": "stdout",
     "output_type": "stream",
     "text": [
      "36366 1572 12 17046.0\n",
      "0.48\n",
      "(2, 8) (2, 1)\n",
      "Max reward for -6193.2 7\n",
      "7\n",
      "npa 10.087378595051515\n"
     ]
    },
    {
     "name": "stderr",
     "output_type": "stream",
     "text": [
      "../sim/GELoadBalancer.py:90: DataConversionWarning: A column-vector y was passed when a 1d array was expected. Please change the shape of y to (n_samples,), for example using ravel().\n",
      "  self.model = self.model.fit(self.X, self.y) #make sure the hat the last period x is ignored\n"
     ]
    },
    {
     "name": "stdout",
     "output_type": "stream",
     "text": [
      "36444 2343 7 10914.0\n",
      "0.8112048676270618\n",
      "(3, 8) (3, 1)\n",
      "8\n",
      "npa 10.104479949483535\n"
     ]
    },
    {
     "name": "stderr",
     "output_type": "stream",
     "text": [
      "../sim/GELoadBalancer.py:90: DataConversionWarning: A column-vector y was passed when a 1d array was expected. Please change the shape of y to (n_samples,), for example using ravel().\n",
      "  self.model = self.model.fit(self.X, self.y) #make sure the hat the last period x is ignored\n"
     ]
    },
    {
     "name": "stdout",
     "output_type": "stream",
     "text": [
      "36640 2182 8 12420.0\n",
      "0.5868429001902966\n",
      "(4, 8) (4, 1)\n",
      "Max reward for 4340.1 5\n",
      "5\n",
      "npa 10.070464144338073\n"
     ]
    },
    {
     "name": "stderr",
     "output_type": "stream",
     "text": [
      "../sim/GELoadBalancer.py:90: DataConversionWarning: A column-vector y was passed when a 1d array was expected. Please change the shape of y to (n_samples,), for example using ravel().\n",
      "  self.model = self.model.fit(self.X, self.y) #make sure the hat the last period x is ignored\n"
     ]
    },
    {
     "name": "stdout",
     "output_type": "stream",
     "text": [
      "35995 2521 5 9285.0\n",
      "0.6415431821862497\n",
      "(5, 8) (5, 1)\n",
      "21\n",
      "npa 9.937803867486409\n"
     ]
    },
    {
     "name": "stderr",
     "output_type": "stream",
     "text": [
      "../sim/GELoadBalancer.py:90: DataConversionWarning: A column-vector y was passed when a 1d array was expected. Please change the shape of y to (n_samples,), for example using ravel().\n",
      "  self.model = self.model.fit(self.X, self.y) #make sure the hat the last period x is ignored\n"
     ]
    },
    {
     "name": "stdout",
     "output_type": "stream",
     "text": [
      "35776 0.0 21 29476.0\n",
      "0.9268673850867033\n",
      "(6, 8) (6, 1)\n",
      "17\n",
      "npa 10.008066400598407\n"
     ]
    },
    {
     "name": "stderr",
     "output_type": "stream",
     "text": [
      "../sim/GELoadBalancer.py:90: DataConversionWarning: A column-vector y was passed when a 1d array was expected. Please change the shape of y to (n_samples,), for example using ravel().\n",
      "  self.model = self.model.fit(self.X, self.y) #make sure the hat the last period x is ignored\n"
     ]
    },
    {
     "name": "stdout",
     "output_type": "stream",
     "text": [
      "36052 1 17 30942.0\n",
      "0.9181011944446454\n",
      "(7, 8) (7, 1)\n",
      "10\n",
      "npa 9.984130192479675\n"
     ]
    },
    {
     "name": "stderr",
     "output_type": "stream",
     "text": [
      "../sim/GELoadBalancer.py:90: DataConversionWarning: A column-vector y was passed when a 1d array was expected. Please change the shape of y to (n_samples,), for example using ravel().\n",
      "  self.model = self.model.fit(self.X, self.y) #make sure the hat the last period x is ignored\n"
     ]
    },
    {
     "name": "stdout",
     "output_type": "stream",
     "text": [
      "35879 2303 10 9849.0\n",
      "0.8595643345825543\n",
      "(8, 8) (8, 1)\n",
      "24\n",
      "npa 10.034622394495686\n"
     ]
    },
    {
     "name": "stderr",
     "output_type": "stream",
     "text": [
      "../sim/GELoadBalancer.py:90: DataConversionWarning: A column-vector y was passed when a 1d array was expected. Please change the shape of y to (n_samples,), for example using ravel().\n",
      "  self.model = self.model.fit(self.X, self.y) #make sure the hat the last period x is ignored\n"
     ]
    },
    {
     "name": "stdout",
     "output_type": "stream",
     "text": [
      "36331 1 24 29121.0\n",
      "0.9295469410673661\n",
      "(9, 8) (9, 1)\n",
      "28\n",
      "npa 10.217685072792468\n"
     ]
    },
    {
     "name": "stderr",
     "output_type": "stream",
     "text": [
      "../sim/GELoadBalancer.py:90: DataConversionWarning: A column-vector y was passed when a 1d array was expected. Please change the shape of y to (n_samples,), for example using ravel().\n",
      "  self.model = self.model.fit(self.X, self.y) #make sure the hat the last period x is ignored\n"
     ]
    },
    {
     "name": "stdout",
     "output_type": "stream",
     "text": [
      "36716 0.0 28 28316.0\n",
      "0.9482439936226187\n",
      "(10, 8) (10, 1)\n",
      "Max reward for 25811.1 17\n",
      "17\n",
      "npa 10.275954672095969\n"
     ]
    },
    {
     "name": "stderr",
     "output_type": "stream",
     "text": [
      "../sim/GELoadBalancer.py:90: DataConversionWarning: A column-vector y was passed when a 1d array was expected. Please change the shape of y to (n_samples,), for example using ravel().\n",
      "  self.model = self.model.fit(self.X, self.y) #make sure the hat the last period x is ignored\n"
     ]
    },
    {
     "name": "stdout",
     "output_type": "stream",
     "text": [
      "36831 4 17 31691.0\n",
      "0.9497171555589933\n",
      "(11, 8) (11, 1)\n",
      "6\n",
      "npa 10.30696202066659\n"
     ]
    },
    {
     "name": "stderr",
     "output_type": "stream",
     "text": [
      "../sim/GELoadBalancer.py:90: DataConversionWarning: A column-vector y was passed when a 1d array was expected. Please change the shape of y to (n_samples,), for example using ravel().\n",
      "  self.model = self.model.fit(self.X, self.y) #make sure the hat the last period x is ignored\n"
     ]
    },
    {
     "name": "stdout",
     "output_type": "stream",
     "text": [
      "36528 3358 6 1148.0\n",
      "0.9306319559679201\n",
      "(12, 8) (12, 1)\n",
      "2\n",
      "npa 9.982610939829414\n"
     ]
    },
    {
     "name": "stderr",
     "output_type": "stream",
     "text": [
      "../sim/GELoadBalancer.py:90: DataConversionWarning: A column-vector y was passed when a 1d array was expected. Please change the shape of y to (n_samples,), for example using ravel().\n",
      "  self.model = self.model.fit(self.X, self.y) #make sure the hat the last period x is ignored\n"
     ]
    },
    {
     "name": "stdout",
     "output_type": "stream",
     "text": [
      "36033 4530 2 -9867.0\n",
      "0.9310341496504672\n",
      "(13, 8) (13, 1)\n",
      "14\n",
      "npa 9.90254381769455\n"
     ]
    },
    {
     "name": "stderr",
     "output_type": "stream",
     "text": [
      "../sim/GELoadBalancer.py:90: DataConversionWarning: A column-vector y was passed when a 1d array was expected. Please change the shape of y to (n_samples,), for example using ravel().\n",
      "  self.model = self.model.fit(self.X, self.y) #make sure the hat the last period x is ignored\n"
     ]
    },
    {
     "name": "stdout",
     "output_type": "stream",
     "text": [
      "35653 646 14 24993.0\n",
      "0.9538704377916416\n",
      "(14, 8) (14, 1)\n",
      "24\n",
      "npa 9.825525190363674\n"
     ]
    },
    {
     "name": "stderr",
     "output_type": "stream",
     "text": [
      "../sim/GELoadBalancer.py:90: DataConversionWarning: A column-vector y was passed when a 1d array was expected. Please change the shape of y to (n_samples,), for example using ravel().\n",
      "  self.model = self.model.fit(self.X, self.y) #make sure the hat the last period x is ignored\n"
     ]
    },
    {
     "name": "stdout",
     "output_type": "stream",
     "text": [
      "35468 0.0 24 28268.0\n",
      "0.9583531729286022\n",
      "(15, 8) (15, 1)\n",
      "8\n",
      "npa 9.757128673575648\n"
     ]
    },
    {
     "name": "stderr",
     "output_type": "stream",
     "text": [
      "../sim/GELoadBalancer.py:90: DataConversionWarning: A column-vector y was passed when a 1d array was expected. Please change the shape of y to (n_samples,), for example using ravel().\n",
      "  self.model = self.model.fit(self.X, self.y) #make sure the hat the last period x is ignored\n"
     ]
    },
    {
     "name": "stdout",
     "output_type": "stream",
     "text": [
      "34832 2338 8 9052.0\n",
      "0.9611917365798417\n",
      "(16, 8) (16, 1)\n",
      "24\n",
      "npa 9.762084948044777\n"
     ]
    },
    {
     "name": "stderr",
     "output_type": "stream",
     "text": [
      "../sim/GELoadBalancer.py:90: DataConversionWarning: A column-vector y was passed when a 1d array was expected. Please change the shape of y to (n_samples,), for example using ravel().\n",
      "  self.model = self.model.fit(self.X, self.y) #make sure the hat the last period x is ignored\n"
     ]
    },
    {
     "name": "stdout",
     "output_type": "stream",
     "text": [
      "35430 10 24 28130.0\n",
      "0.9693101094961901\n",
      "(17, 8) (17, 1)\n",
      "9\n",
      "npa 9.922233907821818\n"
     ]
    },
    {
     "name": "stderr",
     "output_type": "stream",
     "text": [
      "../sim/GELoadBalancer.py:90: DataConversionWarning: A column-vector y was passed when a 1d array was expected. Please change the shape of y to (n_samples,), for example using ravel().\n",
      "  self.model = self.model.fit(self.X, self.y) #make sure the hat the last period x is ignored\n"
     ]
    },
    {
     "name": "stdout",
     "output_type": "stream",
     "text": [
      "35266 2470 9 7866.0\n",
      "0.9798925469202864\n",
      "(18, 8) (18, 1)\n",
      "16\n",
      "npa 9.772111950975999\n"
     ]
    },
    {
     "name": "stderr",
     "output_type": "stream",
     "text": [
      "../sim/GELoadBalancer.py:90: DataConversionWarning: A column-vector y was passed when a 1d array was expected. Please change the shape of y to (n_samples,), for example using ravel().\n",
      "  self.model = self.model.fit(self.X, self.y) #make sure the hat the last period x is ignored\n"
     ]
    },
    {
     "name": "stdout",
     "output_type": "stream",
     "text": [
      "35118 31 16 30008.0\n",
      "0.9313328811598757\n",
      "(19, 8) (19, 1)\n",
      "11\n",
      "npa 9.983325035029717\n"
     ]
    },
    {
     "name": "stderr",
     "output_type": "stream",
     "text": [
      "../sim/GELoadBalancer.py:90: DataConversionWarning: A column-vector y was passed when a 1d array was expected. Please change the shape of y to (n_samples,), for example using ravel().\n",
      "  self.model = self.model.fit(self.X, self.y) #make sure the hat the last period x is ignored\n"
     ]
    },
    {
     "name": "stdout",
     "output_type": "stream",
     "text": [
      "35931 1849 11 14141.0\n",
      "0.9682255449321715\n",
      "(20, 8) (20, 1)\n",
      "27\n",
      "npa 10.18245984422582\n"
     ]
    },
    {
     "name": "stderr",
     "output_type": "stream",
     "text": [
      "../sim/GELoadBalancer.py:90: DataConversionWarning: A column-vector y was passed when a 1d array was expected. Please change the shape of y to (n_samples,), for example using ravel().\n",
      "  self.model = self.model.fit(self.X, self.y) #make sure the hat the last period x is ignored\n"
     ]
    },
    {
     "name": "stdout",
     "output_type": "stream",
     "text": [
      "36346 9 27 28156.0\n",
      "0.9773453426211722\n",
      "(21, 8) (21, 1)\n",
      "19\n",
      "npa 9.9859943600944\n"
     ]
    },
    {
     "name": "stderr",
     "output_type": "stream",
     "text": [
      "../sim/GELoadBalancer.py:90: DataConversionWarning: A column-vector y was passed when a 1d array was expected. Please change the shape of y to (n_samples,), for example using ravel().\n",
      "  self.model = self.model.fit(self.X, self.y) #make sure the hat the last period x is ignored\n"
     ]
    },
    {
     "name": "stdout",
     "output_type": "stream",
     "text": [
      "35949 0.0 19 30249.0\n",
      "0.9632454225999761\n",
      "(22, 8) (22, 1)\n",
      "10\n",
      "npa 10.04073041368527\n"
     ]
    },
    {
     "name": "stderr",
     "output_type": "stream",
     "text": [
      "../sim/GELoadBalancer.py:90: DataConversionWarning: A column-vector y was passed when a 1d array was expected. Please change the shape of y to (n_samples,), for example using ravel().\n",
      "  self.model = self.model.fit(self.X, self.y) #make sure the hat the last period x is ignored\n"
     ]
    },
    {
     "name": "stdout",
     "output_type": "stream",
     "text": [
      "36331 2339 10 9941.0\n",
      "0.9682212681053838\n",
      "(23, 8) (23, 1)\n",
      "23\n",
      "npa 10.026613417546086\n"
     ]
    },
    {
     "name": "stderr",
     "output_type": "stream",
     "text": [
      "../sim/GELoadBalancer.py:90: DataConversionWarning: A column-vector y was passed when a 1d array was expected. Please change the shape of y to (n_samples,), for example using ravel().\n",
      "  self.model = self.model.fit(self.X, self.y) #make sure the hat the last period x is ignored\n"
     ]
    },
    {
     "name": "stdout",
     "output_type": "stream",
     "text": [
      "36209 12 23 29189.0\n",
      "0.9061191756984392\n",
      "(24, 8) (24, 1)\n",
      "4\n",
      "npa 9.946822783951767\n"
     ]
    },
    {
     "name": "stderr",
     "output_type": "stream",
     "text": [
      "../sim/GELoadBalancer.py:90: DataConversionWarning: A column-vector y was passed when a 1d array was expected. Please change the shape of y to (n_samples,), for example using ravel().\n",
      "  self.model = self.model.fit(self.X, self.y) #make sure the hat the last period x is ignored\n"
     ]
    },
    {
     "name": "stdout",
     "output_type": "stream",
     "text": [
      "35778 4273 4 -8152.0\n",
      "0.9747086904422264\n",
      "(25, 8) (25, 1)\n",
      "Max reward for 25094.9 16\n",
      "16\n",
      "npa 9.911324544390135\n"
     ]
    },
    {
     "name": "stderr",
     "output_type": "stream",
     "text": [
      "../sim/GELoadBalancer.py:90: DataConversionWarning: A column-vector y was passed when a 1d array was expected. Please change the shape of y to (n_samples,), for example using ravel().\n",
      "  self.model = self.model.fit(self.X, self.y) #make sure the hat the last period x is ignored\n"
     ]
    },
    {
     "name": "stdout",
     "output_type": "stream",
     "text": [
      "35618 32 16 30498.0\n",
      "0.961740724271531\n",
      "(26, 8) (26, 1)\n",
      "Max reward for 28342.7 17\n",
      "17\n",
      "npa 10.105391114018301\n"
     ]
    },
    {
     "name": "stderr",
     "output_type": "stream",
     "text": [
      "../sim/GELoadBalancer.py:90: DataConversionWarning: A column-vector y was passed when a 1d array was expected. Please change the shape of y to (n_samples,), for example using ravel().\n",
      "  self.model = self.model.fit(self.X, self.y) #make sure the hat the last period x is ignored\n"
     ]
    },
    {
     "name": "stdout",
     "output_type": "stream",
     "text": [
      "36365 4 17 31225.0\n",
      "0.9578135866122567\n",
      "(27, 8) (27, 1)\n",
      "3\n",
      "npa 10.119876999547188\n"
     ]
    },
    {
     "name": "stderr",
     "output_type": "stream",
     "text": [
      "../sim/GELoadBalancer.py:90: DataConversionWarning: A column-vector y was passed when a 1d array was expected. Please change the shape of y to (n_samples,), for example using ravel().\n",
      "  self.model = self.model.fit(self.X, self.y) #make sure the hat the last period x is ignored\n"
     ]
    },
    {
     "name": "stdout",
     "output_type": "stream",
     "text": [
      "36425 4489 3 -9365.0\n",
      "0.990570433815494\n",
      "(28, 8) (28, 1)\n",
      "Max reward for 27247.1 16\n",
      "16\n",
      "npa 10.341120522714071\n"
     ]
    },
    {
     "name": "stderr",
     "output_type": "stream",
     "text": [
      "../sim/GELoadBalancer.py:90: DataConversionWarning: A column-vector y was passed when a 1d array was expected. Please change the shape of y to (n_samples,), for example using ravel().\n",
      "  self.model = self.model.fit(self.X, self.y) #make sure the hat the last period x is ignored\n"
     ]
    },
    {
     "name": "stdout",
     "output_type": "stream",
     "text": [
      "36885 145 16 30635.0\n",
      "0.9957915134996989\n",
      "(29, 8) (29, 1)\n",
      "16\n",
      "npa 10.246615925959293\n"
     ]
    },
    {
     "name": "stderr",
     "output_type": "stream",
     "text": [
      "../sim/GELoadBalancer.py:90: DataConversionWarning: A column-vector y was passed when a 1d array was expected. Please change the shape of y to (n_samples,), for example using ravel().\n",
      "  self.model = self.model.fit(self.X, self.y) #make sure the hat the last period x is ignored\n"
     ]
    },
    {
     "name": "stdout",
     "output_type": "stream",
     "text": [
      "36916 92 16 31196.0\n",
      "0.9818497239664321\n",
      "(30, 8) (30, 1)\n",
      "5\n",
      "npa 10.303417611630854\n"
     ]
    },
    {
     "name": "stderr",
     "output_type": "stream",
     "text": [
      "../sim/GELoadBalancer.py:90: DataConversionWarning: A column-vector y was passed when a 1d array was expected. Please change the shape of y to (n_samples,), for example using ravel().\n",
      "  self.model = self.model.fit(self.X, self.y) #make sure the hat the last period x is ignored\n"
     ]
    },
    {
     "name": "stdout",
     "output_type": "stream",
     "text": [
      "37145 3062 5 5025.0\n",
      "0.9906359014802457\n",
      "(31, 8) (31, 1)\n",
      "10\n",
      "npa 10.361728648181437\n"
     ]
    },
    {
     "name": "stderr",
     "output_type": "stream",
     "text": [
      "../sim/GELoadBalancer.py:90: DataConversionWarning: A column-vector y was passed when a 1d array was expected. Please change the shape of y to (n_samples,), for example using ravel().\n",
      "  self.model = self.model.fit(self.X, self.y) #make sure the hat the last period x is ignored\n"
     ]
    },
    {
     "name": "stdout",
     "output_type": "stream",
     "text": [
      "37131 2334 10 10791.0\n",
      "0.9913288810185732\n",
      "(32, 8) (32, 1)\n",
      "Max reward for 29198.2 16\n",
      "16\n",
      "npa 10.315541677561482\n"
     ]
    },
    {
     "name": "stderr",
     "output_type": "stream",
     "text": [
      "../sim/GELoadBalancer.py:90: DataConversionWarning: A column-vector y was passed when a 1d array was expected. Please change the shape of y to (n_samples,), for example using ravel().\n",
      "  self.model = self.model.fit(self.X, self.y) #make sure the hat the last period x is ignored\n"
     ]
    },
    {
     "name": "stdout",
     "output_type": "stream",
     "text": [
      "37403 151 16 31093.0\n",
      "0.9826560898209807\n",
      "(33, 8) (33, 1)\n",
      "15\n",
      "npa 10.164081292657741\n"
     ]
    },
    {
     "name": "stderr",
     "output_type": "stream",
     "text": [
      "../sim/GELoadBalancer.py:90: DataConversionWarning: A column-vector y was passed when a 1d array was expected. Please change the shape of y to (n_samples,), for example using ravel().\n",
      "  self.model = self.model.fit(self.X, self.y) #make sure the hat the last period x is ignored\n"
     ]
    },
    {
     "name": "stdout",
     "output_type": "stream",
     "text": [
      "36918 446 15 27958.0\n",
      "0.9920628584795861\n",
      "(34, 8) (34, 1)\n",
      "25\n",
      "npa 10.18916635198369\n"
     ]
    },
    {
     "name": "stderr",
     "output_type": "stream",
     "text": [
      "../sim/GELoadBalancer.py:90: DataConversionWarning: A column-vector y was passed when a 1d array was expected. Please change the shape of y to (n_samples,), for example using ravel().\n",
      "  self.model = self.model.fit(self.X, self.y) #make sure the hat the last period x is ignored\n"
     ]
    },
    {
     "name": "stdout",
     "output_type": "stream",
     "text": [
      "36960 0.0 25 29460.0\n",
      "0.9912942610167224\n",
      "(35, 8) (35, 1)\n",
      "16\n",
      "npa 10.17748826322793\n"
     ]
    },
    {
     "name": "stderr",
     "output_type": "stream",
     "text": [
      "../sim/GELoadBalancer.py:90: DataConversionWarning: A column-vector y was passed when a 1d array was expected. Please change the shape of y to (n_samples,), for example using ravel().\n",
      "  self.model = self.model.fit(self.X, self.y) #make sure the hat the last period x is ignored\n"
     ]
    },
    {
     "name": "stdout",
     "output_type": "stream",
     "text": [
      "36387 45 16 31137.0\n",
      "0.987523189575023\n",
      "(36, 8) (36, 1)\n",
      "7\n",
      "npa 10.312664160432062\n"
     ]
    },
    {
     "name": "stderr",
     "output_type": "stream",
     "text": [
      "../sim/GELoadBalancer.py:90: DataConversionWarning: A column-vector y was passed when a 1d array was expected. Please change the shape of y to (n_samples,), for example using ravel().\n",
      "  self.model = self.model.fit(self.X, self.y) #make sure the hat the last period x is ignored\n"
     ]
    },
    {
     "name": "stdout",
     "output_type": "stream",
     "text": [
      "37260 2662 7 8540.0\n",
      "0.9966729705512462\n",
      "(37, 8) (37, 1)\n"
     ]
    },
    {
     "name": "stderr",
     "output_type": "stream",
     "text": [
      "../sim/GELoadBalancer.py:90: DataConversionWarning: A column-vector y was passed when a 1d array was expected. Please change the shape of y to (n_samples,), for example using ravel().\n",
      "  self.model = self.model.fit(self.X, self.y) #make sure the hat the last period x is ignored\n"
     ]
    },
    {
     "name": "stdout",
     "output_type": "stream",
     "text": [
      "Max reward for 29360.4 17\n",
      "17\n",
      "npa 10.238973427690654\n",
      "36962 12 17 31742.0\n",
      "0.9947352765805253\n",
      "(38, 8) (38, 1)\n",
      "23\n",
      "npa 10.179203949727594\n"
     ]
    },
    {
     "name": "stderr",
     "output_type": "stream",
     "text": [
      "../sim/GELoadBalancer.py:90: DataConversionWarning: A column-vector y was passed when a 1d array was expected. Please change the shape of y to (n_samples,), for example using ravel().\n",
      "  self.model = self.model.fit(self.X, self.y) #make sure the hat the last period x is ignored\n"
     ]
    },
    {
     "name": "stdout",
     "output_type": "stream",
     "text": [
      "36383 0.0 23 29483.0\n",
      "0.985803421862884\n",
      "(39, 8) (39, 1)\n",
      "4\n",
      "npa 10.141170824634207\n"
     ]
    },
    {
     "name": "stderr",
     "output_type": "stream",
     "text": [
      "../sim/GELoadBalancer.py:90: DataConversionWarning: A column-vector y was passed when a 1d array was expected. Please change the shape of y to (n_samples,), for example using ravel().\n",
      "  self.model = self.model.fit(self.X, self.y) #make sure the hat the last period x is ignored\n"
     ]
    },
    {
     "name": "stdout",
     "output_type": "stream",
     "text": [
      "36374 4048 4 -5306.0\n",
      "0.9960914573548644\n",
      "(40, 8) (40, 1)\n",
      "Max reward for 28792.5 17\n",
      "17\n",
      "npa 10.118006096714359\n"
     ]
    },
    {
     "name": "stderr",
     "output_type": "stream",
     "text": [
      "../sim/GELoadBalancer.py:90: DataConversionWarning: A column-vector y was passed when a 1d array was expected. Please change the shape of y to (n_samples,), for example using ravel().\n",
      "  self.model = self.model.fit(self.X, self.y) #make sure the hat the last period x is ignored\n"
     ]
    },
    {
     "name": "stdout",
     "output_type": "stream",
     "text": [
      "36570 6 17 31410.0\n",
      "0.9934129183265796\n",
      "(41, 8) (41, 1)\n",
      "2\n",
      "npa 10.13407808087906\n"
     ]
    },
    {
     "name": "stderr",
     "output_type": "stream",
     "text": [
      "../sim/GELoadBalancer.py:90: DataConversionWarning: A column-vector y was passed when a 1d array was expected. Please change the shape of y to (n_samples,), for example using ravel().\n",
      "  self.model = self.model.fit(self.X, self.y) #make sure the hat the last period x is ignored\n"
     ]
    },
    {
     "name": "stdout",
     "output_type": "stream",
     "text": [
      "36621 5157 2 -15549.0\n",
      "0.9949285691369588\n",
      "(42, 8) (42, 1)\n",
      "1\n",
      "npa 10.181745452933395\n"
     ]
    },
    {
     "name": "stderr",
     "output_type": "stream",
     "text": [
      "../sim/GELoadBalancer.py:90: DataConversionWarning: A column-vector y was passed when a 1d array was expected. Please change the shape of y to (n_samples,), for example using ravel().\n",
      "  self.model = self.model.fit(self.X, self.y) #make sure the hat the last period x is ignored\n"
     ]
    },
    {
     "name": "stdout",
     "output_type": "stream",
     "text": [
      "36607 5637 1 -20063.0\n",
      "0.9948919342938266\n",
      "(43, 8) (43, 1)\n",
      "11\n",
      "npa 10.001405085355316\n"
     ]
    },
    {
     "name": "stderr",
     "output_type": "stream",
     "text": [
      "../sim/GELoadBalancer.py:90: DataConversionWarning: A column-vector y was passed when a 1d array was expected. Please change the shape of y to (n_samples,), for example using ravel().\n",
      "  self.model = self.model.fit(self.X, self.y) #make sure the hat the last period x is ignored\n"
     ]
    },
    {
     "name": "stdout",
     "output_type": "stream",
     "text": [
      "35870 1985 11 12720.0\n",
      "0.994380473852072\n",
      "(44, 8) (44, 1)\n",
      "Max reward for 28284.5 18\n",
      "18\n",
      "npa 9.924899827642406\n"
     ]
    },
    {
     "name": "stderr",
     "output_type": "stream",
     "text": [
      "../sim/GELoadBalancer.py:90: DataConversionWarning: A column-vector y was passed when a 1d array was expected. Please change the shape of y to (n_samples,), for example using ravel().\n",
      "  self.model = self.model.fit(self.X, self.y) #make sure the hat the last period x is ignored\n"
     ]
    },
    {
     "name": "stdout",
     "output_type": "stream",
     "text": [
      "35852 2 18 30432.0\n",
      "0.989149216462132\n",
      "(45, 8) (45, 1)\n",
      "18\n",
      "npa 9.914030191246404\n"
     ]
    },
    {
     "name": "stderr",
     "output_type": "stream",
     "text": [
      "../sim/GELoadBalancer.py:90: DataConversionWarning: A column-vector y was passed when a 1d array was expected. Please change the shape of y to (n_samples,), for example using ravel().\n",
      "  self.model = self.model.fit(self.X, self.y) #make sure the hat the last period x is ignored\n"
     ]
    },
    {
     "name": "stdout",
     "output_type": "stream",
     "text": [
      "35679 0.0 18 30279.0\n",
      "0.9951955380915908\n",
      "(46, 8) (46, 1)\n",
      "6\n",
      "npa 9.839125206407102\n"
     ]
    },
    {
     "name": "stderr",
     "output_type": "stream",
     "text": [
      "../sim/GELoadBalancer.py:90: DataConversionWarning: A column-vector y was passed when a 1d array was expected. Please change the shape of y to (n_samples,), for example using ravel().\n",
      "  self.model = self.model.fit(self.X, self.y) #make sure the hat the last period x is ignored\n"
     ]
    },
    {
     "name": "stdout",
     "output_type": "stream",
     "text": [
      "35370 3087 6 2700.0\n",
      "0.991232903573752\n",
      "(47, 8) (47, 1)\n",
      "Max reward for 28649.1 16\n",
      "16\n",
      "npa 9.81014266499414\n"
     ]
    },
    {
     "name": "stderr",
     "output_type": "stream",
     "text": [
      "../sim/GELoadBalancer.py:90: DataConversionWarning: A column-vector y was passed when a 1d array was expected. Please change the shape of y to (n_samples,), for example using ravel().\n",
      "  self.model = self.model.fit(self.X, self.y) #make sure the hat the last period x is ignored\n"
     ]
    },
    {
     "name": "stdout",
     "output_type": "stream",
     "text": [
      "35375 14 16 30435.0\n",
      "0.9899268487897938\n",
      "(48, 8) (48, 1)\n",
      "13\n",
      "npa 9.863022419918495\n"
     ]
    },
    {
     "name": "stderr",
     "output_type": "stream",
     "text": [
      "../sim/GELoadBalancer.py:90: DataConversionWarning: A column-vector y was passed when a 1d array was expected. Please change the shape of y to (n_samples,), for example using ravel().\n",
      "  self.model = self.model.fit(self.X, self.y) #make sure the hat the last period x is ignored\n"
     ]
    },
    {
     "name": "stdout",
     "output_type": "stream",
     "text": [
      "35755 1131 13 20545.0\n",
      "0.9949822253852223\n",
      "(49, 8) (49, 1)\n",
      "22\n",
      "npa 9.852292178702584\n"
     ]
    },
    {
     "name": "stderr",
     "output_type": "stream",
     "text": [
      "../sim/GELoadBalancer.py:90: DataConversionWarning: A column-vector y was passed when a 1d array was expected. Please change the shape of y to (n_samples,), for example using ravel().\n",
      "  self.model = self.model.fit(self.X, self.y) #make sure the hat the last period x is ignored\n"
     ]
    },
    {
     "name": "stdout",
     "output_type": "stream",
     "text": [
      "35894 10 22 29194.0\n",
      "0.9912215325460577\n",
      "(50, 8) (50, 1)\n",
      "Max reward for 28863.0 17\n",
      "17\n",
      "npa 9.875333913815481\n"
     ]
    },
    {
     "name": "stderr",
     "output_type": "stream",
     "text": [
      "../sim/GELoadBalancer.py:90: DataConversionWarning: A column-vector y was passed when a 1d array was expected. Please change the shape of y to (n_samples,), for example using ravel().\n",
      "  self.model = self.model.fit(self.X, self.y) #make sure the hat the last period x is ignored\n"
     ]
    },
    {
     "name": "stdout",
     "output_type": "stream",
     "text": [
      "35482 2 17 30362.0\n",
      "0.991969133996681\n",
      "(51, 8) (51, 1)\n",
      "24\n",
      "npa 9.745447478987257\n"
     ]
    },
    {
     "name": "stderr",
     "output_type": "stream",
     "text": [
      "../sim/GELoadBalancer.py:90: DataConversionWarning: A column-vector y was passed when a 1d array was expected. Please change the shape of y to (n_samples,), for example using ravel().\n",
      "  self.model = self.model.fit(self.X, self.y) #make sure the hat the last period x is ignored\n"
     ]
    },
    {
     "name": "stdout",
     "output_type": "stream",
     "text": [
      "35174 0.0 24 27974.0\n",
      "0.9890923965987793\n",
      "(52, 8) (52, 1)\n",
      "16\n",
      "npa 9.825592942920892\n"
     ]
    },
    {
     "name": "stderr",
     "output_type": "stream",
     "text": [
      "../sim/GELoadBalancer.py:90: DataConversionWarning: A column-vector y was passed when a 1d array was expected. Please change the shape of y to (n_samples,), for example using ravel().\n",
      "  self.model = self.model.fit(self.X, self.y) #make sure the hat the last period x is ignored\n"
     ]
    },
    {
     "name": "stdout",
     "output_type": "stream",
     "text": [
      "35510 33 16 30380.0\n",
      "0.991008083951305\n",
      "(53, 8) (53, 1)\n",
      "19\n",
      "npa 10.05652606629189\n"
     ]
    },
    {
     "name": "stderr",
     "output_type": "stream",
     "text": [
      "../sim/GELoadBalancer.py:90: DataConversionWarning: A column-vector y was passed when a 1d array was expected. Please change the shape of y to (n_samples,), for example using ravel().\n",
      "  self.model = self.model.fit(self.X, self.y) #make sure the hat the last period x is ignored\n"
     ]
    },
    {
     "name": "stdout",
     "output_type": "stream",
     "text": [
      "36159 0.0 19 30459.0\n",
      "0.9944077894622393\n",
      "(54, 8) (54, 1)\n",
      "22\n",
      "npa 10.14475248392267\n"
     ]
    },
    {
     "name": "stderr",
     "output_type": "stream",
     "text": [
      "../sim/GELoadBalancer.py:90: DataConversionWarning: A column-vector y was passed when a 1d array was expected. Please change the shape of y to (n_samples,), for example using ravel().\n",
      "  self.model = self.model.fit(self.X, self.y) #make sure the hat the last period x is ignored\n"
     ]
    },
    {
     "name": "stdout",
     "output_type": "stream",
     "text": [
      "36294 0.0 22 29694.0\n",
      "0.9965928488770324\n",
      "(55, 8) (55, 1)\n",
      "12\n",
      "npa 10.100504941185998\n"
     ]
    },
    {
     "name": "stderr",
     "output_type": "stream",
     "text": [
      "../sim/GELoadBalancer.py:90: DataConversionWarning: A column-vector y was passed when a 1d array was expected. Please change the shape of y to (n_samples,), for example using ravel().\n",
      "  self.model = self.model.fit(self.X, self.y) #make sure the hat the last period x is ignored\n"
     ]
    },
    {
     "name": "stdout",
     "output_type": "stream",
     "text": [
      "36032 1592 12 16512.0\n",
      "0.9936856762906197\n",
      "(56, 8) (56, 1)\n",
      "7\n",
      "npa 9.937646798699827\n"
     ]
    },
    {
     "name": "stderr",
     "output_type": "stream",
     "text": [
      "../sim/GELoadBalancer.py:90: DataConversionWarning: A column-vector y was passed when a 1d array was expected. Please change the shape of y to (n_samples,), for example using ravel().\n",
      "  self.model = self.model.fit(self.X, self.y) #make sure the hat the last period x is ignored\n"
     ]
    },
    {
     "name": "stdout",
     "output_type": "stream",
     "text": [
      "35676 2241 7 11166.0\n",
      "0.9957817501419083\n",
      "(57, 8) (57, 1)\n",
      "12\n",
      "npa 9.940935011263749\n"
     ]
    },
    {
     "name": "stderr",
     "output_type": "stream",
     "text": [
      "../sim/GELoadBalancer.py:90: DataConversionWarning: A column-vector y was passed when a 1d array was expected. Please change the shape of y to (n_samples,), for example using ravel().\n",
      "  self.model = self.model.fit(self.X, self.y) #make sure the hat the last period x is ignored\n"
     ]
    },
    {
     "name": "stdout",
     "output_type": "stream",
     "text": [
      "35671 1520 12 16871.0\n",
      "0.9921210155165275\n",
      "(58, 8) (58, 1)\n",
      "Max reward for 28269.7 19\n",
      "19\n",
      "npa 9.89017785373485\n"
     ]
    },
    {
     "name": "stderr",
     "output_type": "stream",
     "text": [
      "../sim/GELoadBalancer.py:90: DataConversionWarning: A column-vector y was passed when a 1d array was expected. Please change the shape of y to (n_samples,), for example using ravel().\n",
      "  self.model = self.model.fit(self.X, self.y) #make sure the hat the last period x is ignored\n"
     ]
    },
    {
     "name": "stdout",
     "output_type": "stream",
     "text": [
      "35565 6 19 29805.0\n",
      "0.9928695444481431\n",
      "(59, 8) (59, 1)\n",
      "24\n",
      "npa 10.005283007777155\n"
     ]
    },
    {
     "name": "stderr",
     "output_type": "stream",
     "text": [
      "../sim/GELoadBalancer.py:90: DataConversionWarning: A column-vector y was passed when a 1d array was expected. Please change the shape of y to (n_samples,), for example using ravel().\n",
      "  self.model = self.model.fit(self.X, self.y) #make sure the hat the last period x is ignored\n"
     ]
    },
    {
     "name": "stdout",
     "output_type": "stream",
     "text": [
      "36423 0.0 24 29223.0\n",
      "0.9936603078465482\n",
      "(60, 8) (60, 1)\n",
      "Max reward for 28647.8 17\n",
      "17\n",
      "npa 10.188751817864205\n"
     ]
    },
    {
     "name": "stderr",
     "output_type": "stream",
     "text": [
      "../sim/GELoadBalancer.py:90: DataConversionWarning: A column-vector y was passed when a 1d array was expected. Please change the shape of y to (n_samples,), for example using ravel().\n",
      "  self.model = self.model.fit(self.X, self.y) #make sure the hat the last period x is ignored\n"
     ]
    },
    {
     "name": "stdout",
     "output_type": "stream",
     "text": [
      "36856 3 17 31726.0\n",
      "0.9961130453170548\n",
      "(61, 8) (61, 1)\n",
      "13\n",
      "npa 10.292302077066033\n"
     ]
    },
    {
     "name": "stderr",
     "output_type": "stream",
     "text": [
      "../sim/GELoadBalancer.py:90: DataConversionWarning: A column-vector y was passed when a 1d array was expected. Please change the shape of y to (n_samples,), for example using ravel().\n",
      "  self.model = self.model.fit(self.X, self.y) #make sure the hat the last period x is ignored\n"
     ]
    },
    {
     "name": "stdout",
     "output_type": "stream",
     "text": [
      "37221 1373 13 19591.0\n",
      "0.9948452821600311\n",
      "(62, 8) (62, 1)\n",
      "24\n",
      "npa 10.54773382475824\n"
     ]
    },
    {
     "name": "stderr",
     "output_type": "stream",
     "text": [
      "../sim/GELoadBalancer.py:90: DataConversionWarning: A column-vector y was passed when a 1d array was expected. Please change the shape of y to (n_samples,), for example using ravel().\n",
      "  self.model = self.model.fit(self.X, self.y) #make sure the hat the last period x is ignored\n"
     ]
    },
    {
     "name": "stdout",
     "output_type": "stream",
     "text": [
      "38068 7 24 30798.0\n",
      "0.9939475363469852\n",
      "(63, 8) (63, 1)\n",
      "25\n",
      "npa 10.510880232140995\n"
     ]
    },
    {
     "name": "stderr",
     "output_type": "stream",
     "text": [
      "../sim/GELoadBalancer.py:90: DataConversionWarning: A column-vector y was passed when a 1d array was expected. Please change the shape of y to (n_samples,), for example using ravel().\n",
      "  self.model = self.model.fit(self.X, self.y) #make sure the hat the last period x is ignored\n"
     ]
    },
    {
     "name": "stdout",
     "output_type": "stream",
     "text": [
      "37998 0.0 25 30498.0\n",
      "0.9940359841780578\n",
      "(64, 8) (64, 1)\n",
      "Max reward for 29829.1 17\n",
      "17\n",
      "npa 10.698309681225396\n"
     ]
    },
    {
     "name": "stderr",
     "output_type": "stream",
     "text": [
      "../sim/GELoadBalancer.py:90: DataConversionWarning: A column-vector y was passed when a 1d array was expected. Please change the shape of y to (n_samples,), for example using ravel().\n",
      "  self.model = self.model.fit(self.X, self.y) #make sure the hat the last period x is ignored\n"
     ]
    },
    {
     "name": "stdout",
     "output_type": "stream",
     "text": [
      "38388 44 17 32848.0\n",
      "0.9938289453294076\n",
      "(65, 8) (65, 1)\n",
      "24\n",
      "npa 10.647921917806208\n"
     ]
    },
    {
     "name": "stderr",
     "output_type": "stream",
     "text": [
      "../sim/GELoadBalancer.py:90: DataConversionWarning: A column-vector y was passed when a 1d array was expected. Please change the shape of y to (n_samples,), for example using ravel().\n",
      "  self.model = self.model.fit(self.X, self.y) #make sure the hat the last period x is ignored\n"
     ]
    },
    {
     "name": "stdout",
     "output_type": "stream",
     "text": [
      "38459 0.0 24 31259.0\n",
      "0.9963756812881587\n",
      "(66, 8) (66, 1)\n",
      "7\n",
      "npa 10.473341853071458\n"
     ]
    },
    {
     "name": "stderr",
     "output_type": "stream",
     "text": [
      "../sim/GELoadBalancer.py:90: DataConversionWarning: A column-vector y was passed when a 1d array was expected. Please change the shape of y to (n_samples,), for example using ravel().\n",
      "  self.model = self.model.fit(self.X, self.y) #make sure the hat the last period x is ignored\n"
     ]
    },
    {
     "name": "stdout",
     "output_type": "stream",
     "text": [
      "37054 2425 7 10704.0\n",
      "0.9963428529728102\n",
      "(67, 8) (67, 1)\n",
      "5\n",
      "npa 10.312769281068098\n"
     ]
    },
    {
     "name": "stderr",
     "output_type": "stream",
     "text": [
      "../sim/GELoadBalancer.py:90: DataConversionWarning: A column-vector y was passed when a 1d array was expected. Please change the shape of y to (n_samples,), for example using ravel().\n",
      "  self.model = self.model.fit(self.X, self.y) #make sure the hat the last period x is ignored\n"
     ]
    },
    {
     "name": "stdout",
     "output_type": "stream",
     "text": [
      "36989 3169 5 3799.0\n",
      "0.9935671176730961\n",
      "(68, 8) (68, 1)\n",
      "8\n",
      "npa 10.23216280027556\n"
     ]
    },
    {
     "name": "stderr",
     "output_type": "stream",
     "text": [
      "../sim/GELoadBalancer.py:90: DataConversionWarning: A column-vector y was passed when a 1d array was expected. Please change the shape of y to (n_samples,), for example using ravel().\n",
      "  self.model = self.model.fit(self.X, self.y) #make sure the hat the last period x is ignored\n"
     ]
    },
    {
     "name": "stdout",
     "output_type": "stream",
     "text": [
      "36535 1968 8 14455.0\n",
      "0.9940317725889409\n",
      "(69, 8) (69, 1)\n",
      "21\n",
      "npa 9.984310805337426\n"
     ]
    },
    {
     "name": "stderr",
     "output_type": "stream",
     "text": [
      "../sim/GELoadBalancer.py:90: DataConversionWarning: A column-vector y was passed when a 1d array was expected. Please change the shape of y to (n_samples,), for example using ravel().\n",
      "  self.model = self.model.fit(self.X, self.y) #make sure the hat the last period x is ignored\n"
     ]
    },
    {
     "name": "stdout",
     "output_type": "stream",
     "text": [
      "36009 5 21 29659.0\n",
      "0.9893101135382513\n",
      "(70, 8) (70, 1)\n",
      "20\n",
      "npa 9.864338633598921\n"
     ]
    },
    {
     "name": "stderr",
     "output_type": "stream",
     "text": [
      "../sim/GELoadBalancer.py:90: DataConversionWarning: A column-vector y was passed when a 1d array was expected. Please change the shape of y to (n_samples,), for example using ravel().\n",
      "  self.model = self.model.fit(self.X, self.y) #make sure the hat the last period x is ignored\n"
     ]
    },
    {
     "name": "stdout",
     "output_type": "stream",
     "text": [
      "35680 0.0 20 29680.0\n",
      "0.9918735099846212\n",
      "(71, 8) (71, 1)\n",
      "Max reward for 28867.6 17\n",
      "17\n",
      "npa 9.76060346942731\n"
     ]
    },
    {
     "name": "stderr",
     "output_type": "stream",
     "text": [
      "../sim/GELoadBalancer.py:90: DataConversionWarning: A column-vector y was passed when a 1d array was expected. Please change the shape of y to (n_samples,), for example using ravel().\n",
      "  self.model = self.model.fit(self.X, self.y) #make sure the hat the last period x is ignored\n"
     ]
    },
    {
     "name": "stdout",
     "output_type": "stream",
     "text": [
      "35407 1 17 30297.0\n",
      "0.9952653554252163\n",
      "(72, 8) (72, 1)\n",
      "8\n",
      "npa 9.994270435261043\n"
     ]
    },
    {
     "name": "stderr",
     "output_type": "stream",
     "text": [
      "../sim/GELoadBalancer.py:90: DataConversionWarning: A column-vector y was passed when a 1d array was expected. Please change the shape of y to (n_samples,), for example using ravel().\n",
      "  self.model = self.model.fit(self.X, self.y) #make sure the hat the last period x is ignored\n"
     ]
    },
    {
     "name": "stdout",
     "output_type": "stream",
     "text": [
      "36013 2096 8 12653.0\n",
      "0.995917882465442\n",
      "(73, 8) (73, 1)\n",
      "1\n",
      "npa 10.043942210062685\n"
     ]
    },
    {
     "name": "stderr",
     "output_type": "stream",
     "text": [
      "../sim/GELoadBalancer.py:90: DataConversionWarning: A column-vector y was passed when a 1d array was expected. Please change the shape of y to (n_samples,), for example using ravel().\n",
      "  self.model = self.model.fit(self.X, self.y) #make sure the hat the last period x is ignored\n"
     ]
    },
    {
     "name": "stdout",
     "output_type": "stream",
     "text": [
      "36036 5706 1 -21324.0\n",
      "0.9944916897018109\n",
      "(74, 8) (74, 1)\n",
      "14\n",
      "npa 9.820004504114728\n"
     ]
    },
    {
     "name": "stderr",
     "output_type": "stream",
     "text": [
      "../sim/GELoadBalancer.py:90: DataConversionWarning: A column-vector y was passed when a 1d array was expected. Please change the shape of y to (n_samples,), for example using ravel().\n",
      "  self.model = self.model.fit(self.X, self.y) #make sure the hat the last period x is ignored\n"
     ]
    },
    {
     "name": "stdout",
     "output_type": "stream",
     "text": [
      "35547 598 14 25367.0\n",
      "0.9937408992365059\n",
      "(75, 8) (75, 1)\n",
      "Max reward for 28532.5 17\n",
      "17\n",
      "npa 9.654746049243982\n"
     ]
    },
    {
     "name": "stderr",
     "output_type": "stream",
     "text": [
      "../sim/GELoadBalancer.py:90: DataConversionWarning: A column-vector y was passed when a 1d array was expected. Please change the shape of y to (n_samples,), for example using ravel().\n",
      "  self.model = self.model.fit(self.X, self.y) #make sure the hat the last period x is ignored\n"
     ]
    },
    {
     "name": "stdout",
     "output_type": "stream",
     "text": [
      "34653 4 17 29513.0\n",
      "0.9949433552587834\n",
      "(76, 8) (76, 1)\n",
      "7\n",
      "npa 9.504214596030247\n"
     ]
    },
    {
     "name": "stderr",
     "output_type": "stream",
     "text": [
      "../sim/GELoadBalancer.py:90: DataConversionWarning: A column-vector y was passed when a 1d array was expected. Please change the shape of y to (n_samples,), for example using ravel().\n",
      "  self.model = self.model.fit(self.X, self.y) #make sure the hat the last period x is ignored\n"
     ]
    },
    {
     "name": "stdout",
     "output_type": "stream",
     "text": [
      "34379 1856 7 13719.0\n",
      "0.9966071932112105\n",
      "(77, 8) (77, 1)\n",
      "Max reward for 28218.7 16\n",
      "16\n",
      "npa 9.665991382915555\n"
     ]
    },
    {
     "name": "stderr",
     "output_type": "stream",
     "text": [
      "../sim/GELoadBalancer.py:90: DataConversionWarning: A column-vector y was passed when a 1d array was expected. Please change the shape of y to (n_samples,), for example using ravel().\n",
      "  self.model = self.model.fit(self.X, self.y) #make sure the hat the last period x is ignored\n"
     ]
    },
    {
     "name": "stdout",
     "output_type": "stream",
     "text": [
      "34363 7 16 29493.0\n",
      "0.9945246289572937\n",
      "(78, 8) (78, 1)\n",
      "9\n",
      "npa 9.595908509829195\n"
     ]
    },
    {
     "name": "stderr",
     "output_type": "stream",
     "text": [
      "../sim/GELoadBalancer.py:90: DataConversionWarning: A column-vector y was passed when a 1d array was expected. Please change the shape of y to (n_samples,), for example using ravel().\n",
      "  self.model = self.model.fit(self.X, self.y) #make sure the hat the last period x is ignored\n"
     ]
    },
    {
     "name": "stdout",
     "output_type": "stream",
     "text": [
      "34563 2380 9 8063.0\n",
      "0.9935680626037084\n",
      "(79, 8) (79, 1)\n",
      "Max reward for 28312.6 16\n",
      "16\n",
      "npa 9.467458906169202\n"
     ]
    },
    {
     "name": "stderr",
     "output_type": "stream",
     "text": [
      "../sim/GELoadBalancer.py:90: DataConversionWarning: A column-vector y was passed when a 1d array was expected. Please change the shape of y to (n_samples,), for example using ravel().\n",
      "  self.model = self.model.fit(self.X, self.y) #make sure the hat the last period x is ignored\n"
     ]
    },
    {
     "name": "stdout",
     "output_type": "stream",
     "text": [
      "33882 13 16 28952.0\n",
      "0.9946057482639463\n",
      "(80, 8) (80, 1)\n",
      "2\n",
      "npa 9.479158618871331\n"
     ]
    },
    {
     "name": "stderr",
     "output_type": "stream",
     "text": [
      "../sim/GELoadBalancer.py:90: DataConversionWarning: A column-vector y was passed when a 1d array was expected. Please change the shape of y to (n_samples,), for example using ravel().\n",
      "  self.model = self.model.fit(self.X, self.y) #make sure the hat the last period x is ignored\n"
     ]
    },
    {
     "name": "stdout",
     "output_type": "stream",
     "text": [
      "34109 4929 2 -15781.0\n",
      "0.9962018934801804\n",
      "(81, 8) (81, 1)\n",
      "13\n",
      "npa 9.385797371622337\n"
     ]
    },
    {
     "name": "stderr",
     "output_type": "stream",
     "text": [
      "../sim/GELoadBalancer.py:90: DataConversionWarning: A column-vector y was passed when a 1d array was expected. Please change the shape of y to (n_samples,), for example using ravel().\n",
      "  self.model = self.model.fit(self.X, self.y) #make sure the hat the last period x is ignored\n"
     ]
    },
    {
     "name": "stdout",
     "output_type": "stream",
     "text": [
      "33815 770 13 22215.0\n",
      "0.9938994985354985\n",
      "(82, 8) (82, 1)\n",
      "21\n",
      "npa 9.456573501039491\n"
     ]
    },
    {
     "name": "stderr",
     "output_type": "stream",
     "text": [
      "../sim/GELoadBalancer.py:90: DataConversionWarning: A column-vector y was passed when a 1d array was expected. Please change the shape of y to (n_samples,), for example using ravel().\n",
      "  self.model = self.model.fit(self.X, self.y) #make sure the hat the last period x is ignored\n"
     ]
    },
    {
     "name": "stdout",
     "output_type": "stream",
     "text": [
      "34103 0.0 21 27803.0\n",
      "0.9951443807451148\n",
      "(83, 8) (83, 1)\n",
      "8\n",
      "npa 9.493975075772202\n"
     ]
    },
    {
     "name": "stderr",
     "output_type": "stream",
     "text": [
      "../sim/GELoadBalancer.py:90: DataConversionWarning: A column-vector y was passed when a 1d array was expected. Please change the shape of y to (n_samples,), for example using ravel().\n",
      "  self.model = self.model.fit(self.X, self.y) #make sure the hat the last period x is ignored\n"
     ]
    },
    {
     "name": "stdout",
     "output_type": "stream",
     "text": [
      "33796 2190 8 9496.0\n",
      "0.9934570903965241\n",
      "(84, 8) (84, 1)\n",
      "12\n",
      "npa 9.536855599843568\n"
     ]
    },
    {
     "name": "stderr",
     "output_type": "stream",
     "text": [
      "../sim/GELoadBalancer.py:90: DataConversionWarning: A column-vector y was passed when a 1d array was expected. Please change the shape of y to (n_samples,), for example using ravel().\n",
      "  self.model = self.model.fit(self.X, self.y) #make sure the hat the last period x is ignored\n"
     ]
    },
    {
     "name": "stdout",
     "output_type": "stream",
     "text": [
      "34400 1300 12 17800.0\n",
      "0.9958112290530806\n",
      "(85, 8) (85, 1)\n",
      "8\n",
      "npa 9.490715936032526\n"
     ]
    },
    {
     "name": "stderr",
     "output_type": "stream",
     "text": [
      "../sim/GELoadBalancer.py:90: DataConversionWarning: A column-vector y was passed when a 1d array was expected. Please change the shape of y to (n_samples,), for example using ravel().\n",
      "  self.model = self.model.fit(self.X, self.y) #make sure the hat the last period x is ignored\n"
     ]
    },
    {
     "name": "stdout",
     "output_type": "stream",
     "text": [
      "34096 2288 8 8816.0\n",
      "0.9924444928412584\n",
      "(86, 8) (86, 1)\n",
      "1\n",
      "npa 9.47459838317857\n"
     ]
    },
    {
     "name": "stderr",
     "output_type": "stream",
     "text": [
      "../sim/GELoadBalancer.py:90: DataConversionWarning: A column-vector y was passed when a 1d array was expected. Please change the shape of y to (n_samples,), for example using ravel().\n",
      "  self.model = self.model.fit(self.X, self.y) #make sure the hat the last period x is ignored\n"
     ]
    },
    {
     "name": "stdout",
     "output_type": "stream",
     "text": [
      "34078 5577 1 -21992.0\n",
      "0.9952307029333597\n",
      "(87, 8) (87, 1)\n",
      "5\n",
      "npa 9.342308289873282\n"
     ]
    },
    {
     "name": "stderr",
     "output_type": "stream",
     "text": [
      "../sim/GELoadBalancer.py:90: DataConversionWarning: A column-vector y was passed when a 1d array was expected. Please change the shape of y to (n_samples,), for example using ravel().\n",
      "  self.model = self.model.fit(self.X, self.y) #make sure the hat the last period x is ignored\n"
     ]
    },
    {
     "name": "stdout",
     "output_type": "stream",
     "text": [
      "33621 3211 5 11.0\n",
      "0.9954727523515216\n",
      "(88, 8) (88, 1)\n",
      "Max reward for 28262.8 17\n",
      "17\n",
      "npa 9.395991420931379\n"
     ]
    },
    {
     "name": "stderr",
     "output_type": "stream",
     "text": [
      "../sim/GELoadBalancer.py:90: DataConversionWarning: A column-vector y was passed when a 1d array was expected. Please change the shape of y to (n_samples,), for example using ravel().\n",
      "  self.model = self.model.fit(self.X, self.y) #make sure the hat the last period x is ignored\n"
     ]
    },
    {
     "name": "stdout",
     "output_type": "stream",
     "text": [
      "33925 0.0 17 28825.0\n",
      "0.9943285065095615\n",
      "(89, 8) (89, 1)\n",
      "11\n",
      "npa 9.34737011447261\n"
     ]
    },
    {
     "name": "stderr",
     "output_type": "stream",
     "text": [
      "../sim/GELoadBalancer.py:90: DataConversionWarning: A column-vector y was passed when a 1d array was expected. Please change the shape of y to (n_samples,), for example using ravel().\n",
      "  self.model = self.model.fit(self.X, self.y) #make sure the hat the last period x is ignored\n"
     ]
    },
    {
     "name": "stdout",
     "output_type": "stream",
     "text": [
      "33503 1551 11 14693.0\n",
      "0.9927939642871542\n",
      "(90, 8) (90, 1)\n",
      "30\n",
      "npa 9.273764079931606\n"
     ]
    },
    {
     "name": "stderr",
     "output_type": "stream",
     "text": [
      "../sim/GELoadBalancer.py:90: DataConversionWarning: A column-vector y was passed when a 1d array was expected. Please change the shape of y to (n_samples,), for example using ravel().\n",
      "  self.model = self.model.fit(self.X, self.y) #make sure the hat the last period x is ignored\n"
     ]
    },
    {
     "name": "stdout",
     "output_type": "stream",
     "text": [
      "33375 12 30 24255.0\n",
      "0.9961726462205857\n",
      "(91, 8) (91, 1)\n",
      "13\n",
      "npa 9.186405266523632\n"
     ]
    },
    {
     "name": "stderr",
     "output_type": "stream",
     "text": [
      "../sim/GELoadBalancer.py:90: DataConversionWarning: A column-vector y was passed when a 1d array was expected. Please change the shape of y to (n_samples,), for example using ravel().\n",
      "  self.model = self.model.fit(self.X, self.y) #make sure the hat the last period x is ignored\n"
     ]
    },
    {
     "name": "stdout",
     "output_type": "stream",
     "text": [
      "33043 618 13 22963.0\n",
      "0.9969870592435927\n",
      "(92, 8) (92, 1)\n",
      "Max reward for 26509.5 16\n",
      "16\n",
      "npa 9.314764789777568\n"
     ]
    },
    {
     "name": "stderr",
     "output_type": "stream",
     "text": [
      "../sim/GELoadBalancer.py:90: DataConversionWarning: A column-vector y was passed when a 1d array was expected. Please change the shape of y to (n_samples,), for example using ravel().\n",
      "  self.model = self.model.fit(self.X, self.y) #make sure the hat the last period x is ignored\n"
     ]
    },
    {
     "name": "stdout",
     "output_type": "stream",
     "text": [
      "33413 0.0 16 28613.0\n",
      "0.995060131368289\n",
      "(93, 8) (93, 1)\n",
      "11\n",
      "npa 9.23212438810607\n"
     ]
    },
    {
     "name": "stderr",
     "output_type": "stream",
     "text": [
      "../sim/GELoadBalancer.py:90: DataConversionWarning: A column-vector y was passed when a 1d array was expected. Please change the shape of y to (n_samples,), for example using ravel().\n",
      "  self.model = self.model.fit(self.X, self.y) #make sure the hat the last period x is ignored\n"
     ]
    },
    {
     "name": "stdout",
     "output_type": "stream",
     "text": [
      "33305 1536 11 14645.0\n",
      "0.9934845136428221\n",
      "(94, 8) (94, 1)\n",
      "11\n",
      "npa 9.43557897309155\n"
     ]
    },
    {
     "name": "stderr",
     "output_type": "stream",
     "text": [
      "../sim/GELoadBalancer.py:90: DataConversionWarning: A column-vector y was passed when a 1d array was expected. Please change the shape of y to (n_samples,), for example using ravel().\n",
      "  self.model = self.model.fit(self.X, self.y) #make sure the hat the last period x is ignored\n"
     ]
    },
    {
     "name": "stdout",
     "output_type": "stream",
     "text": [
      "33590 1613 11 14160.0\n",
      "0.9946070987652775\n",
      "(95, 8) (95, 1)\n",
      "16\n",
      "npa 9.310333376345902\n"
     ]
    },
    {
     "name": "stderr",
     "output_type": "stream",
     "text": [
      "../sim/GELoadBalancer.py:90: DataConversionWarning: A column-vector y was passed when a 1d array was expected. Please change the shape of y to (n_samples,), for example using ravel().\n",
      "  self.model = self.model.fit(self.X, self.y) #make sure the hat the last period x is ignored\n"
     ]
    },
    {
     "name": "stdout",
     "output_type": "stream",
     "text": [
      "33553 12 16 28633.0\n",
      "0.9939007152291626\n",
      "(96, 8) (96, 1)\n",
      "4\n",
      "npa 9.207322185785118\n"
     ]
    },
    {
     "name": "stderr",
     "output_type": "stream",
     "text": [
      "../sim/GELoadBalancer.py:90: DataConversionWarning: A column-vector y was passed when a 1d array was expected. Please change the shape of y to (n_samples,), for example using ravel().\n",
      "  self.model = self.model.fit(self.X, self.y) #make sure the hat the last period x is ignored\n"
     ]
    },
    {
     "name": "stdout",
     "output_type": "stream",
     "text": [
      "33053 3325 4 -1397.0\n",
      "0.9943146413422868\n",
      "(97, 8) (97, 1)\n",
      "2\n",
      "npa 9.159334420066417\n"
     ]
    },
    {
     "name": "stderr",
     "output_type": "stream",
     "text": [
      "../sim/GELoadBalancer.py:90: DataConversionWarning: A column-vector y was passed when a 1d array was expected. Please change the shape of y to (n_samples,), for example using ravel().\n",
      "  self.model = self.model.fit(self.X, self.y) #make sure the hat the last period x is ignored\n"
     ]
    },
    {
     "name": "stdout",
     "output_type": "stream",
     "text": [
      "33367 4709 2 -14323.0\n",
      "0.9953477702507332\n",
      "(98, 8) (98, 1)\n",
      "5\n",
      "npa 9.14051010401039\n"
     ]
    },
    {
     "name": "stderr",
     "output_type": "stream",
     "text": [
      "../sim/GELoadBalancer.py:90: DataConversionWarning: A column-vector y was passed when a 1d array was expected. Please change the shape of y to (n_samples,), for example using ravel().\n",
      "  self.model = self.model.fit(self.X, self.y) #make sure the hat the last period x is ignored\n"
     ]
    },
    {
     "name": "stdout",
     "output_type": "stream",
     "text": [
      "32442 3042 5 522.0\n",
      "0.9944134121950603\n",
      "(99, 8) (99, 1)\n",
      "29\n",
      "npa 9.099206854078735\n"
     ]
    },
    {
     "name": "stderr",
     "output_type": "stream",
     "text": [
      "../sim/GELoadBalancer.py:90: DataConversionWarning: A column-vector y was passed when a 1d array was expected. Please change the shape of y to (n_samples,), for example using ravel().\n",
      "  self.model = self.model.fit(self.X, self.y) #make sure the hat the last period x is ignored\n"
     ]
    },
    {
     "name": "stdout",
     "output_type": "stream",
     "text": [
      "32882 1 29 24172.0\n",
      "0.9950024070602326\n",
      "(100, 8) (100, 1)\n",
      "17\n",
      "npa 9.135162739367576\n"
     ]
    },
    {
     "name": "stderr",
     "output_type": "stream",
     "text": [
      "../sim/GELoadBalancer.py:90: DataConversionWarning: A column-vector y was passed when a 1d array was expected. Please change the shape of y to (n_samples,), for example using ravel().\n",
      "  self.model = self.model.fit(self.X, self.y) #make sure the hat the last period x is ignored\n"
     ]
    },
    {
     "name": "stdout",
     "output_type": "stream",
     "text": [
      "32861 0.0 17 27761.0\n",
      "0.9948725426948539\n",
      "(101, 8) (101, 1)\n",
      "23\n",
      "npa 9.399573957556958\n"
     ]
    },
    {
     "name": "stderr",
     "output_type": "stream",
     "text": [
      "../sim/GELoadBalancer.py:90: DataConversionWarning: A column-vector y was passed when a 1d array was expected. Please change the shape of y to (n_samples,), for example using ravel().\n",
      "  self.model = self.model.fit(self.X, self.y) #make sure the hat the last period x is ignored\n"
     ]
    },
    {
     "name": "stdout",
     "output_type": "stream",
     "text": [
      "33849 0.0 23 26949.0\n",
      "0.9942511999535154\n",
      "(102, 8) (102, 1)\n",
      "15\n",
      "npa 9.377013099492014\n"
     ]
    },
    {
     "name": "stderr",
     "output_type": "stream",
     "text": [
      "../sim/GELoadBalancer.py:90: DataConversionWarning: A column-vector y was passed when a 1d array was expected. Please change the shape of y to (n_samples,), for example using ravel().\n",
      "  self.model = self.model.fit(self.X, self.y) #make sure the hat the last period x is ignored\n"
     ]
    },
    {
     "name": "stdout",
     "output_type": "stream",
     "text": [
      "33864 38 15 28984.0\n",
      "0.99337721470601\n",
      "(103, 8) (103, 1)\n",
      "Max reward for 26577.1 19\n",
      "19\n",
      "npa 9.572735782542434\n"
     ]
    },
    {
     "name": "stderr",
     "output_type": "stream",
     "text": [
      "../sim/GELoadBalancer.py:90: DataConversionWarning: A column-vector y was passed when a 1d array was expected. Please change the shape of y to (n_samples,), for example using ravel().\n",
      "  self.model = self.model.fit(self.X, self.y) #make sure the hat the last period x is ignored\n"
     ]
    },
    {
     "name": "stdout",
     "output_type": "stream",
     "text": [
      "34499 0.0 19 28799.0\n",
      "0.9945157878880206\n",
      "(104, 8) (104, 1)\n",
      "Max reward for 27542.1 17\n",
      "17\n",
      "npa 9.772935061848756\n"
     ]
    },
    {
     "name": "stderr",
     "output_type": "stream",
     "text": [
      "../sim/GELoadBalancer.py:90: DataConversionWarning: A column-vector y was passed when a 1d array was expected. Please change the shape of y to (n_samples,), for example using ravel().\n",
      "  self.model = self.model.fit(self.X, self.y) #make sure the hat the last period x is ignored\n"
     ]
    },
    {
     "name": "stdout",
     "output_type": "stream",
     "text": [
      "35347 0.0 17 30247.0\n",
      "0.994895156152875\n",
      "(105, 8) (105, 1)\n",
      "23\n",
      "npa 9.761871536532295\n"
     ]
    },
    {
     "name": "stderr",
     "output_type": "stream",
     "text": [
      "../sim/GELoadBalancer.py:90: DataConversionWarning: A column-vector y was passed when a 1d array was expected. Please change the shape of y to (n_samples,), for example using ravel().\n",
      "  self.model = self.model.fit(self.X, self.y) #make sure the hat the last period x is ignored\n"
     ]
    },
    {
     "name": "stdout",
     "output_type": "stream",
     "text": [
      "34939 0.0 23 28039.0\n",
      "0.9949024051189745\n",
      "(106, 8) (106, 1)\n",
      "28\n",
      "npa 9.721932281548222\n"
     ]
    },
    {
     "name": "stderr",
     "output_type": "stream",
     "text": [
      "../sim/GELoadBalancer.py:90: DataConversionWarning: A column-vector y was passed when a 1d array was expected. Please change the shape of y to (n_samples,), for example using ravel().\n",
      "  self.model = self.model.fit(self.X, self.y) #make sure the hat the last period x is ignored\n"
     ]
    },
    {
     "name": "stdout",
     "output_type": "stream",
     "text": [
      "35012 0.0 28 26612.0\n",
      "0.9938860743987463\n",
      "(107, 8) (107, 1)\n",
      "Max reward for 26532.5 16\n",
      "16\n",
      "npa 9.808418273325252\n"
     ]
    },
    {
     "name": "stderr",
     "output_type": "stream",
     "text": [
      "../sim/GELoadBalancer.py:90: DataConversionWarning: A column-vector y was passed when a 1d array was expected. Please change the shape of y to (n_samples,), for example using ravel().\n",
      "  self.model = self.model.fit(self.X, self.y) #make sure the hat the last period x is ignored\n"
     ]
    },
    {
     "name": "stdout",
     "output_type": "stream",
     "text": [
      "35521 27 16 30451.0\n",
      "0.9947616826648458\n",
      "(108, 8) (108, 1)\n",
      "3\n",
      "npa 9.742687786669732\n"
     ]
    },
    {
     "name": "stderr",
     "output_type": "stream",
     "text": [
      "../sim/GELoadBalancer.py:90: DataConversionWarning: A column-vector y was passed when a 1d array was expected. Please change the shape of y to (n_samples,), for example using ravel().\n",
      "  self.model = self.model.fit(self.X, self.y) #make sure the hat the last period x is ignored\n"
     ]
    },
    {
     "name": "stdout",
     "output_type": "stream",
     "text": [
      "35363 4492 3 -10457.0\n",
      "0.9941393269748847\n",
      "(109, 8) (109, 1)\n",
      "Max reward for 25706.8 16\n",
      "16\n",
      "npa 9.664466769519676\n"
     ]
    },
    {
     "name": "stderr",
     "output_type": "stream",
     "text": [
      "../sim/GELoadBalancer.py:90: DataConversionWarning: A column-vector y was passed when a 1d array was expected. Please change the shape of y to (n_samples,), for example using ravel().\n",
      "  self.model = self.model.fit(self.X, self.y) #make sure the hat the last period x is ignored\n"
     ]
    },
    {
     "name": "stdout",
     "output_type": "stream",
     "text": [
      "35011 38 16 29831.0\n",
      "0.9955634779847415\n",
      "(110, 8) (110, 1)\n",
      "Max reward for 26843.7 16\n",
      "16\n",
      "npa 9.665044112266365\n"
     ]
    },
    {
     "name": "stderr",
     "output_type": "stream",
     "text": [
      "../sim/GELoadBalancer.py:90: DataConversionWarning: A column-vector y was passed when a 1d array was expected. Please change the shape of y to (n_samples,), for example using ravel().\n",
      "  self.model = self.model.fit(self.X, self.y) #make sure the hat the last period x is ignored\n"
     ]
    },
    {
     "name": "stdout",
     "output_type": "stream",
     "text": [
      "35019 12 16 30099.0\n",
      "0.9947509354138959\n",
      "(111, 8) (111, 1)\n",
      "Max reward for 26957.3 18\n",
      "18\n",
      "npa 9.67667123635466\n"
     ]
    },
    {
     "name": "stderr",
     "output_type": "stream",
     "text": [
      "../sim/GELoadBalancer.py:90: DataConversionWarning: A column-vector y was passed when a 1d array was expected. Please change the shape of y to (n_samples,), for example using ravel().\n",
      "  self.model = self.model.fit(self.X, self.y) #make sure the hat the last period x is ignored\n"
     ]
    },
    {
     "name": "stdout",
     "output_type": "stream",
     "text": [
      "34712 0.0 18 29312.0\n",
      "0.9974177806318627\n",
      "(112, 8) (112, 1)\n",
      "22\n",
      "npa 9.6722496465962\n"
     ]
    },
    {
     "name": "stderr",
     "output_type": "stream",
     "text": [
      "../sim/GELoadBalancer.py:90: DataConversionWarning: A column-vector y was passed when a 1d array was expected. Please change the shape of y to (n_samples,), for example using ravel().\n",
      "  self.model = self.model.fit(self.X, self.y) #make sure the hat the last period x is ignored\n"
     ]
    },
    {
     "name": "stdout",
     "output_type": "stream",
     "text": [
      "34979 0.0 22 28379.0\n",
      "0.9939333890638844\n",
      "(113, 8) (113, 1)\n",
      "Max reward for 27520.0 16\n",
      "16\n",
      "npa 9.795998976582105\n"
     ]
    },
    {
     "name": "stderr",
     "output_type": "stream",
     "text": [
      "../sim/GELoadBalancer.py:90: DataConversionWarning: A column-vector y was passed when a 1d array was expected. Please change the shape of y to (n_samples,), for example using ravel().\n",
      "  self.model = self.model.fit(self.X, self.y) #make sure the hat the last period x is ignored\n"
     ]
    },
    {
     "name": "stdout",
     "output_type": "stream",
     "text": [
      "35144 27 16 30074.0\n",
      "0.9950826807932097\n",
      "(114, 8) (114, 1)\n",
      "15\n",
      "npa 9.80661890300604\n"
     ]
    },
    {
     "name": "stderr",
     "output_type": "stream",
     "text": [
      "../sim/GELoadBalancer.py:90: DataConversionWarning: A column-vector y was passed when a 1d array was expected. Please change the shape of y to (n_samples,), for example using ravel().\n",
      "  self.model = self.model.fit(self.X, self.y) #make sure the hat the last period x is ignored\n"
     ]
    },
    {
     "name": "stdout",
     "output_type": "stream",
     "text": [
      "35135 156 15 29075.0\n",
      "0.9946796040208423\n",
      "(115, 8) (115, 1)\n",
      "1\n",
      "npa 9.72165165301293\n"
     ]
    },
    {
     "name": "stderr",
     "output_type": "stream",
     "text": [
      "../sim/GELoadBalancer.py:90: DataConversionWarning: A column-vector y was passed when a 1d array was expected. Please change the shape of y to (n_samples,), for example using ravel().\n",
      "  self.model = self.model.fit(self.X, self.y) #make sure the hat the last period x is ignored\n"
     ]
    },
    {
     "name": "stdout",
     "output_type": "stream",
     "text": [
      "34950 5159 1 -16940.0\n",
      "0.9957231889521693\n",
      "(116, 8) (116, 1)\n",
      "Max reward for 25609.6 16\n",
      "16\n",
      "npa 9.862145543811458\n"
     ]
    },
    {
     "name": "stderr",
     "output_type": "stream",
     "text": [
      "../sim/GELoadBalancer.py:90: DataConversionWarning: A column-vector y was passed when a 1d array was expected. Please change the shape of y to (n_samples,), for example using ravel().\n",
      "  self.model = self.model.fit(self.X, self.y) #make sure the hat the last period x is ignored\n"
     ]
    },
    {
     "name": "stdout",
     "output_type": "stream",
     "text": [
      "35561 20 16 30561.0\n",
      "0.9938589124925572\n",
      "(117, 8) (117, 1)\n",
      "Max reward for 27400.9 16\n",
      "16\n",
      "npa 10.051257625909093\n"
     ]
    },
    {
     "name": "stderr",
     "output_type": "stream",
     "text": [
      "../sim/GELoadBalancer.py:90: DataConversionWarning: A column-vector y was passed when a 1d array was expected. Please change the shape of y to (n_samples,), for example using ravel().\n",
      "  self.model = self.model.fit(self.X, self.y) #make sure the hat the last period x is ignored\n"
     ]
    },
    {
     "name": "stdout",
     "output_type": "stream",
     "text": [
      "36435 74 16 30895.0\n",
      "0.9954833759170904\n",
      "(118, 8) (118, 1)\n",
      "9\n",
      "npa 10.139157172650036\n"
     ]
    },
    {
     "name": "stderr",
     "output_type": "stream",
     "text": [
      "../sim/GELoadBalancer.py:90: DataConversionWarning: A column-vector y was passed when a 1d array was expected. Please change the shape of y to (n_samples,), for example using ravel().\n",
      "  self.model = self.model.fit(self.X, self.y) #make sure the hat the last period x is ignored\n"
     ]
    },
    {
     "name": "stdout",
     "output_type": "stream",
     "text": [
      "36394 2279 9 10904.0\n",
      "0.9948015540969128\n",
      "(119, 8) (119, 1)\n",
      "Max reward for 28829.3 17\n",
      "17\n",
      "npa 10.192923176170671\n"
     ]
    },
    {
     "name": "stderr",
     "output_type": "stream",
     "text": [
      "../sim/GELoadBalancer.py:90: DataConversionWarning: A column-vector y was passed when a 1d array was expected. Please change the shape of y to (n_samples,), for example using ravel().\n",
      "  self.model = self.model.fit(self.X, self.y) #make sure the hat the last period x is ignored\n"
     ]
    },
    {
     "name": "stdout",
     "output_type": "stream",
     "text": [
      "36611 16 17 31351.0\n",
      "0.9961293509248788\n",
      "(120, 8) (120, 1)\n",
      "3\n",
      "npa 10.140561001565736\n"
     ]
    },
    {
     "name": "stderr",
     "output_type": "stream",
     "text": [
      "../sim/GELoadBalancer.py:90: DataConversionWarning: A column-vector y was passed when a 1d array was expected. Please change the shape of y to (n_samples,), for example using ravel().\n",
      "  self.model = self.model.fit(self.X, self.y) #make sure the hat the last period x is ignored\n"
     ]
    },
    {
     "name": "stdout",
     "output_type": "stream",
     "text": [
      "36320 4232 3 -6900.0\n",
      "0.9957061190072335\n",
      "(121, 8) (121, 1)\n",
      "11\n",
      "npa 10.077357691400685\n"
     ]
    },
    {
     "name": "stderr",
     "output_type": "stream",
     "text": [
      "../sim/GELoadBalancer.py:90: DataConversionWarning: A column-vector y was passed when a 1d array was expected. Please change the shape of y to (n_samples,), for example using ravel().\n",
      "  self.model = self.model.fit(self.X, self.y) #make sure the hat the last period x is ignored\n"
     ]
    },
    {
     "name": "stdout",
     "output_type": "stream",
     "text": [
      "36263 1933 11 13633.0\n",
      "0.9962011472936632\n",
      "(122, 8) (122, 1)\n",
      "10\n",
      "npa 9.976254468417453\n"
     ]
    },
    {
     "name": "stderr",
     "output_type": "stream",
     "text": [
      "../sim/GELoadBalancer.py:90: DataConversionWarning: A column-vector y was passed when a 1d array was expected. Please change the shape of y to (n_samples,), for example using ravel().\n",
      "  self.model = self.model.fit(self.X, self.y) #make sure the hat the last period x is ignored\n"
     ]
    },
    {
     "name": "stdout",
     "output_type": "stream",
     "text": [
      "35996 2244 10 10556.0\n",
      "0.9945492761206501\n",
      "(123, 8) (123, 1)\n",
      "27\n",
      "npa 10.015548742395723\n"
     ]
    },
    {
     "name": "stderr",
     "output_type": "stream",
     "text": [
      "../sim/GELoadBalancer.py:90: DataConversionWarning: A column-vector y was passed when a 1d array was expected. Please change the shape of y to (n_samples,), for example using ravel().\n",
      "  self.model = self.model.fit(self.X, self.y) #make sure the hat the last period x is ignored\n"
     ]
    },
    {
     "name": "stdout",
     "output_type": "stream",
     "text": [
      "36291 6 27 28131.0\n",
      "0.9963315285279708\n",
      "(124, 8) (124, 1)\n",
      "4\n",
      "npa 9.972598701477187\n"
     ]
    },
    {
     "name": "stderr",
     "output_type": "stream",
     "text": [
      "../sim/GELoadBalancer.py:90: DataConversionWarning: A column-vector y was passed when a 1d array was expected. Please change the shape of y to (n_samples,), for example using ravel().\n",
      "  self.model = self.model.fit(self.X, self.y) #make sure the hat the last period x is ignored\n"
     ]
    },
    {
     "name": "stdout",
     "output_type": "stream",
     "text": [
      "35862 4125 4 -6588.0\n",
      "0.9962469675851497\n",
      "(125, 8) (125, 1)\n",
      "Max reward for 26742.7 16\n",
      "16\n",
      "npa 10.069051258969056\n"
     ]
    },
    {
     "name": "stderr",
     "output_type": "stream",
     "text": [
      "../sim/GELoadBalancer.py:90: DataConversionWarning: A column-vector y was passed when a 1d array was expected. Please change the shape of y to (n_samples,), for example using ravel().\n",
      "  self.model = self.model.fit(self.X, self.y) #make sure the hat the last period x is ignored\n"
     ]
    },
    {
     "name": "stdout",
     "output_type": "stream",
     "text": [
      "36736 65 16 31286.0\n",
      "0.9951399635048827\n",
      "(126, 8) (126, 1)\n",
      "23\n",
      "npa 10.029405572745198\n"
     ]
    },
    {
     "name": "stderr",
     "output_type": "stream",
     "text": [
      "../sim/GELoadBalancer.py:90: DataConversionWarning: A column-vector y was passed when a 1d array was expected. Please change the shape of y to (n_samples,), for example using ravel().\n",
      "  self.model = self.model.fit(self.X, self.y) #make sure the hat the last period x is ignored\n"
     ]
    },
    {
     "name": "stdout",
     "output_type": "stream",
     "text": [
      "36358 0.0 23 29458.0\n",
      "0.9970063707483385\n",
      "(127, 8) (127, 1)\n",
      "25\n",
      "npa 10.23481259260106\n"
     ]
    },
    {
     "name": "stderr",
     "output_type": "stream",
     "text": [
      "../sim/GELoadBalancer.py:90: DataConversionWarning: A column-vector y was passed when a 1d array was expected. Please change the shape of y to (n_samples,), for example using ravel().\n",
      "  self.model = self.model.fit(self.X, self.y) #make sure the hat the last period x is ignored\n"
     ]
    },
    {
     "name": "stdout",
     "output_type": "stream",
     "text": [
      "36868 0.0 25 29368.0\n",
      "0.9958642260455295\n",
      "(128, 8) (128, 1)\n",
      "20\n",
      "npa 10.170351920559947\n"
     ]
    },
    {
     "name": "stderr",
     "output_type": "stream",
     "text": [
      "../sim/GELoadBalancer.py:90: DataConversionWarning: A column-vector y was passed when a 1d array was expected. Please change the shape of y to (n_samples,), for example using ravel().\n",
      "  self.model = self.model.fit(self.X, self.y) #make sure the hat the last period x is ignored\n"
     ]
    },
    {
     "name": "stdout",
     "output_type": "stream",
     "text": [
      "36580 0.0 20 30580.0\n",
      "0.994547720706064\n",
      "(129, 8) (129, 1)\n",
      "12\n",
      "npa 9.855491032290555\n"
     ]
    },
    {
     "name": "stderr",
     "output_type": "stream",
     "text": [
      "../sim/GELoadBalancer.py:90: DataConversionWarning: A column-vector y was passed when a 1d array was expected. Please change the shape of y to (n_samples,), for example using ravel().\n",
      "  self.model = self.model.fit(self.X, self.y) #make sure the hat the last period x is ignored\n"
     ]
    },
    {
     "name": "stdout",
     "output_type": "stream",
     "text": [
      "35496 1443 12 17466.0\n",
      "0.9966553096532714\n",
      "(130, 8) (130, 1)\n",
      "Max reward for 26622.9 16\n",
      "16\n",
      "npa 9.905419229597875\n"
     ]
    },
    {
     "name": "stderr",
     "output_type": "stream",
     "text": [
      "../sim/GELoadBalancer.py:90: DataConversionWarning: A column-vector y was passed when a 1d array was expected. Please change the shape of y to (n_samples,), for example using ravel().\n",
      "  self.model = self.model.fit(self.X, self.y) #make sure the hat the last period x is ignored\n"
     ]
    },
    {
     "name": "stdout",
     "output_type": "stream",
     "text": [
      "35718 31 16 30608.0\n",
      "0.9966000185766808\n",
      "(131, 8) (131, 1)\n",
      "10\n",
      "npa 9.882705037650853\n"
     ]
    },
    {
     "name": "stderr",
     "output_type": "stream",
     "text": [
      "../sim/GELoadBalancer.py:90: DataConversionWarning: A column-vector y was passed when a 1d array was expected. Please change the shape of y to (n_samples,), for example using ravel().\n",
      "  self.model = self.model.fit(self.X, self.y) #make sure the hat the last period x is ignored\n"
     ]
    },
    {
     "name": "stdout",
     "output_type": "stream",
     "text": [
      "35803 2231 10 10493.0\n",
      "0.9959778722315753\n",
      "(132, 8) (132, 1)\n",
      "1\n",
      "npa 9.767942938703529\n"
     ]
    },
    {
     "name": "stderr",
     "output_type": "stream",
     "text": [
      "../sim/GELoadBalancer.py:90: DataConversionWarning: A column-vector y was passed when a 1d array was expected. Please change the shape of y to (n_samples,), for example using ravel().\n",
      "  self.model = self.model.fit(self.X, self.y) #make sure the hat the last period x is ignored\n"
     ]
    },
    {
     "name": "stdout",
     "output_type": "stream",
     "text": [
      "35002 4988 1 -15178.0\n",
      "0.996579850129819\n",
      "(133, 8) (133, 1)\n",
      "1\n",
      "npa 9.6928349069453\n"
     ]
    },
    {
     "name": "stderr",
     "output_type": "stream",
     "text": [
      "../sim/GELoadBalancer.py:90: DataConversionWarning: A column-vector y was passed when a 1d array was expected. Please change the shape of y to (n_samples,), for example using ravel().\n",
      "  self.model = self.model.fit(self.X, self.y) #make sure the hat the last period x is ignored\n"
     ]
    },
    {
     "name": "stdout",
     "output_type": "stream",
     "text": [
      "35138 4691 1 -12072.0\n",
      "0.995279499800262\n",
      "(134, 8) (134, 1)\n",
      "28\n",
      "npa 9.67326279083051\n"
     ]
    },
    {
     "name": "stderr",
     "output_type": "stream",
     "text": [
      "../sim/GELoadBalancer.py:90: DataConversionWarning: A column-vector y was passed when a 1d array was expected. Please change the shape of y to (n_samples,), for example using ravel().\n",
      "  self.model = self.model.fit(self.X, self.y) #make sure the hat the last period x is ignored\n"
     ]
    },
    {
     "name": "stdout",
     "output_type": "stream",
     "text": [
      "34864 0.0 28 26464.0\n",
      "0.9937051469809818\n",
      "(135, 8) (135, 1)\n",
      "12\n",
      "npa 9.568547047458232\n"
     ]
    },
    {
     "name": "stderr",
     "output_type": "stream",
     "text": [
      "../sim/GELoadBalancer.py:90: DataConversionWarning: A column-vector y was passed when a 1d array was expected. Please change the shape of y to (n_samples,), for example using ravel().\n",
      "  self.model = self.model.fit(self.X, self.y) #make sure the hat the last period x is ignored\n"
     ]
    },
    {
     "name": "stdout",
     "output_type": "stream",
     "text": [
      "34242 1268 12 17962.0\n",
      "0.9949906408143678\n",
      "(136, 8) (136, 1)\n",
      "Max reward for 26504.0 16\n",
      "16\n",
      "npa 9.548874455611877\n"
     ]
    },
    {
     "name": "stderr",
     "output_type": "stream",
     "text": [
      "../sim/GELoadBalancer.py:90: DataConversionWarning: A column-vector y was passed when a 1d array was expected. Please change the shape of y to (n_samples,), for example using ravel().\n",
      "  self.model = self.model.fit(self.X, self.y) #make sure the hat the last period x is ignored\n"
     ]
    },
    {
     "name": "stdout",
     "output_type": "stream",
     "text": [
      "34316 19 16 29326.0\n",
      "0.9951301458087046\n",
      "(137, 8) (137, 1)\n",
      "21\n",
      "npa 9.442341242521804\n"
     ]
    },
    {
     "name": "stderr",
     "output_type": "stream",
     "text": [
      "../sim/GELoadBalancer.py:90: DataConversionWarning: A column-vector y was passed when a 1d array was expected. Please change the shape of y to (n_samples,), for example using ravel().\n",
      "  self.model = self.model.fit(self.X, self.y) #make sure the hat the last period x is ignored\n"
     ]
    },
    {
     "name": "stdout",
     "output_type": "stream",
     "text": [
      "33614 0.0 21 27314.0\n",
      "0.9951979154105808\n",
      "(138, 8) (138, 1)\n",
      "Max reward for 26648.8 16\n",
      "16\n",
      "npa 9.2673995510572\n"
     ]
    },
    {
     "name": "stderr",
     "output_type": "stream",
     "text": [
      "../sim/GELoadBalancer.py:90: DataConversionWarning: A column-vector y was passed when a 1d array was expected. Please change the shape of y to (n_samples,), for example using ravel().\n",
      "  self.model = self.model.fit(self.X, self.y) #make sure the hat the last period x is ignored\n"
     ]
    },
    {
     "name": "stdout",
     "output_type": "stream",
     "text": [
      "33634 3 16 28804.0\n",
      "0.9965545899541168\n",
      "(139, 8) (139, 1)\n",
      "20\n",
      "npa 9.483371182153975\n"
     ]
    },
    {
     "name": "stderr",
     "output_type": "stream",
     "text": [
      "../sim/GELoadBalancer.py:90: DataConversionWarning: A column-vector y was passed when a 1d array was expected. Please change the shape of y to (n_samples,), for example using ravel().\n",
      "  self.model = self.model.fit(self.X, self.y) #make sure the hat the last period x is ignored\n"
     ]
    },
    {
     "name": "stdout",
     "output_type": "stream",
     "text": [
      "34519 0.0 20 28519.0\n",
      "0.9961419974064645\n",
      "(140, 8) (140, 1)\n",
      "29\n",
      "npa 9.596171129597808\n"
     ]
    },
    {
     "name": "stderr",
     "output_type": "stream",
     "text": [
      "../sim/GELoadBalancer.py:90: DataConversionWarning: A column-vector y was passed when a 1d array was expected. Please change the shape of y to (n_samples,), for example using ravel().\n",
      "  self.model = self.model.fit(self.X, self.y) #make sure the hat the last period x is ignored\n"
     ]
    },
    {
     "name": "stdout",
     "output_type": "stream",
     "text": [
      "34436 0.0 29 25736.0\n",
      "0.9960260239071695\n",
      "(141, 8) (141, 1)\n",
      "16\n",
      "npa 9.519478248917933\n"
     ]
    },
    {
     "name": "stderr",
     "output_type": "stream",
     "text": [
      "../sim/GELoadBalancer.py:90: DataConversionWarning: A column-vector y was passed when a 1d array was expected. Please change the shape of y to (n_samples,), for example using ravel().\n",
      "  self.model = self.model.fit(self.X, self.y) #make sure the hat the last period x is ignored\n"
     ]
    },
    {
     "name": "stdout",
     "output_type": "stream",
     "text": [
      "34379 6 16 29519.0\n",
      "0.9964466884896086\n",
      "(142, 8) (142, 1)\n",
      "Max reward for 26260.5 17\n",
      "17\n",
      "npa 9.62027215182198\n"
     ]
    },
    {
     "name": "stderr",
     "output_type": "stream",
     "text": [
      "../sim/GELoadBalancer.py:90: DataConversionWarning: A column-vector y was passed when a 1d array was expected. Please change the shape of y to (n_samples,), for example using ravel().\n",
      "  self.model = self.model.fit(self.X, self.y) #make sure the hat the last period x is ignored\n"
     ]
    },
    {
     "name": "stdout",
     "output_type": "stream",
     "text": [
      "34528 0.0 17 29428.0\n",
      "0.9964537445777474\n",
      "(143, 8) (143, 1)\n",
      "Max reward for 26000.3 17\n",
      "17\n",
      "npa 9.405112919147905\n"
     ]
    },
    {
     "name": "stderr",
     "output_type": "stream",
     "text": [
      "../sim/GELoadBalancer.py:90: DataConversionWarning: A column-vector y was passed when a 1d array was expected. Please change the shape of y to (n_samples,), for example using ravel().\n",
      "  self.model = self.model.fit(self.X, self.y) #make sure the hat the last period x is ignored\n"
     ]
    },
    {
     "name": "stdout",
     "output_type": "stream",
     "text": [
      "33885 0.0 17 28785.0\n",
      "0.9960353791180321\n",
      "(144, 8) (144, 1)\n",
      "26\n",
      "npa 9.496353545202146\n"
     ]
    },
    {
     "name": "stderr",
     "output_type": "stream",
     "text": [
      "../sim/GELoadBalancer.py:90: DataConversionWarning: A column-vector y was passed when a 1d array was expected. Please change the shape of y to (n_samples,), for example using ravel().\n",
      "  self.model = self.model.fit(self.X, self.y) #make sure the hat the last period x is ignored\n"
     ]
    },
    {
     "name": "stdout",
     "output_type": "stream",
     "text": [
      "33962 0.0 26 26162.0\n",
      "0.9975110310084672\n",
      "(145, 8) (145, 1)\n",
      "3\n",
      "npa 9.327353565604351\n"
     ]
    },
    {
     "name": "stderr",
     "output_type": "stream",
     "text": [
      "../sim/GELoadBalancer.py:90: DataConversionWarning: A column-vector y was passed when a 1d array was expected. Please change the shape of y to (n_samples,), for example using ravel().\n",
      "  self.model = self.model.fit(self.X, self.y) #make sure the hat the last period x is ignored\n"
     ]
    },
    {
     "name": "stdout",
     "output_type": "stream",
     "text": [
      "33571 4166 3 -8989.0\n",
      "0.9964778710378576\n",
      "(146, 8) (146, 1)\n",
      "Max reward for 24641.7 15\n",
      "15\n",
      "npa 9.480783183846821\n"
     ]
    },
    {
     "name": "stderr",
     "output_type": "stream",
     "text": [
      "../sim/GELoadBalancer.py:90: DataConversionWarning: A column-vector y was passed when a 1d array was expected. Please change the shape of y to (n_samples,), for example using ravel().\n",
      "  self.model = self.model.fit(self.X, self.y) #make sure the hat the last period x is ignored\n"
     ]
    },
    {
     "name": "stdout",
     "output_type": "stream",
     "text": [
      "34354 73 15 29124.0\n",
      "0.9969929383334982\n",
      "(147, 8) (147, 1)\n",
      "14\n",
      "npa 9.633796419110729\n"
     ]
    },
    {
     "name": "stderr",
     "output_type": "stream",
     "text": [
      "../sim/GELoadBalancer.py:90: DataConversionWarning: A column-vector y was passed when a 1d array was expected. Please change the shape of y to (n_samples,), for example using ravel().\n",
      "  self.model = self.model.fit(self.X, self.y) #make sure the hat the last period x is ignored\n"
     ]
    },
    {
     "name": "stdout",
     "output_type": "stream",
     "text": [
      "34335 400 14 26135.0\n",
      "0.9975405308629308\n",
      "(148, 8) (148, 1)\n",
      "18\n",
      "npa 9.663700272260456\n"
     ]
    },
    {
     "name": "stderr",
     "output_type": "stream",
     "text": [
      "../sim/GELoadBalancer.py:90: DataConversionWarning: A column-vector y was passed when a 1d array was expected. Please change the shape of y to (n_samples,), for example using ravel().\n",
      "  self.model = self.model.fit(self.X, self.y) #make sure the hat the last period x is ignored\n"
     ]
    },
    {
     "name": "stdout",
     "output_type": "stream",
     "text": [
      "34865 6 18 29405.0\n",
      "0.996492287389857\n",
      "(149, 8) (149, 1)\n",
      "Max reward for 26277.5 16\n",
      "16\n",
      "npa 9.533177806285805\n"
     ]
    },
    {
     "name": "stderr",
     "output_type": "stream",
     "text": [
      "../sim/GELoadBalancer.py:90: DataConversionWarning: A column-vector y was passed when a 1d array was expected. Please change the shape of y to (n_samples,), for example using ravel().\n",
      "  self.model = self.model.fit(self.X, self.y) #make sure the hat the last period x is ignored\n"
     ]
    },
    {
     "name": "stdout",
     "output_type": "stream",
     "text": [
      "34206 6 16 29346.0\n",
      "0.9962028714655677\n",
      "(150, 8) (150, 1)\n",
      "28\n",
      "npa 9.632819705544119\n"
     ]
    },
    {
     "name": "stderr",
     "output_type": "stream",
     "text": [
      "../sim/GELoadBalancer.py:90: DataConversionWarning: A column-vector y was passed when a 1d array was expected. Please change the shape of y to (n_samples,), for example using ravel().\n",
      "  self.model = self.model.fit(self.X, self.y) #make sure the hat the last period x is ignored\n"
     ]
    },
    {
     "name": "stdout",
     "output_type": "stream",
     "text": [
      "34831 0.0 28 26431.0\n",
      "0.99672427007379\n",
      "(151, 8) (151, 1)\n",
      "9\n",
      "npa 9.816688541283936\n"
     ]
    },
    {
     "name": "stderr",
     "output_type": "stream",
     "text": [
      "../sim/GELoadBalancer.py:90: DataConversionWarning: A column-vector y was passed when a 1d array was expected. Please change the shape of y to (n_samples,), for example using ravel().\n",
      "  self.model = self.model.fit(self.X, self.y) #make sure the hat the last period x is ignored\n"
     ]
    },
    {
     "name": "stdout",
     "output_type": "stream",
     "text": [
      "35098 2402 9 8378.0\n",
      "0.9965721771293327\n",
      "(152, 8) (152, 1)\n",
      "Max reward for 25940.3 16\n",
      "16\n",
      "npa 9.864636088009291\n"
     ]
    },
    {
     "name": "stderr",
     "output_type": "stream",
     "text": [
      "../sim/GELoadBalancer.py:90: DataConversionWarning: A column-vector y was passed when a 1d array was expected. Please change the shape of y to (n_samples,), for example using ravel().\n",
      "  self.model = self.model.fit(self.X, self.y) #make sure the hat the last period x is ignored\n"
     ]
    },
    {
     "name": "stdout",
     "output_type": "stream",
     "text": [
      "35585 21 16 30575.0\n",
      "0.9962075639709346\n",
      "(153, 8) (153, 1)\n",
      "17\n",
      "npa 9.865735310959852\n"
     ]
    },
    {
     "name": "stderr",
     "output_type": "stream",
     "text": [
      "../sim/GELoadBalancer.py:90: DataConversionWarning: A column-vector y was passed when a 1d array was expected. Please change the shape of y to (n_samples,), for example using ravel().\n",
      "  self.model = self.model.fit(self.X, self.y) #make sure the hat the last period x is ignored\n"
     ]
    },
    {
     "name": "stdout",
     "output_type": "stream",
     "text": [
      "35685 0.0 17 30585.0\n",
      "0.9961111673681257\n",
      "(154, 8) (154, 1)\n",
      "23\n",
      "npa 10.020958211196303\n"
     ]
    },
    {
     "name": "stderr",
     "output_type": "stream",
     "text": [
      "../sim/GELoadBalancer.py:90: DataConversionWarning: A column-vector y was passed when a 1d array was expected. Please change the shape of y to (n_samples,), for example using ravel().\n",
      "  self.model = self.model.fit(self.X, self.y) #make sure the hat the last period x is ignored\n"
     ]
    },
    {
     "name": "stdout",
     "output_type": "stream",
     "text": [
      "36081 0.0 23 29181.0\n",
      "0.996279201377805\n",
      "(155, 8) (155, 1)\n",
      "5\n",
      "npa 10.109128442761335\n"
     ]
    },
    {
     "name": "stderr",
     "output_type": "stream",
     "text": [
      "../sim/GELoadBalancer.py:90: DataConversionWarning: A column-vector y was passed when a 1d array was expected. Please change the shape of y to (n_samples,), for example using ravel().\n",
      "  self.model = self.model.fit(self.X, self.y) #make sure the hat the last period x is ignored\n"
     ]
    },
    {
     "name": "stdout",
     "output_type": "stream",
     "text": [
      "36291 3138 5 3411.0\n",
      "0.9970532118067651\n",
      "(156, 8) (156, 1)\n",
      "17\n",
      "npa 10.101702961721283\n"
     ]
    },
    {
     "name": "stderr",
     "output_type": "stream",
     "text": [
      "../sim/GELoadBalancer.py:90: DataConversionWarning: A column-vector y was passed when a 1d array was expected. Please change the shape of y to (n_samples,), for example using ravel().\n",
      "  self.model = self.model.fit(self.X, self.y) #make sure the hat the last period x is ignored\n"
     ]
    },
    {
     "name": "stdout",
     "output_type": "stream",
     "text": [
      "36422 13 17 31192.0\n",
      "0.996737441365846\n",
      "(157, 8) (157, 1)\n",
      "18\n",
      "npa 10.027450574556756\n"
     ]
    },
    {
     "name": "stderr",
     "output_type": "stream",
     "text": [
      "../sim/GELoadBalancer.py:90: DataConversionWarning: A column-vector y was passed when a 1d array was expected. Please change the shape of y to (n_samples,), for example using ravel().\n",
      "  self.model = self.model.fit(self.X, self.y) #make sure the hat the last period x is ignored\n"
     ]
    },
    {
     "name": "stdout",
     "output_type": "stream",
     "text": [
      "36073 0.0 18 30673.0\n",
      "0.9971596015081776\n",
      "(158, 8) (158, 1)\n",
      "Max reward for 27048.2 16\n",
      "16\n",
      "npa 9.84794712852836\n"
     ]
    },
    {
     "name": "stderr",
     "output_type": "stream",
     "text": [
      "../sim/GELoadBalancer.py:90: DataConversionWarning: A column-vector y was passed when a 1d array was expected. Please change the shape of y to (n_samples,), for example using ravel().\n",
      "  self.model = self.model.fit(self.X, self.y) #make sure the hat the last period x is ignored\n"
     ]
    },
    {
     "name": "stdout",
     "output_type": "stream",
     "text": [
      "35748 32 16 30628.0\n",
      "0.9978085086852079\n",
      "(159, 8) (159, 1)\n",
      "Max reward for 27428.9 16\n",
      "16\n",
      "npa 9.981955866079897\n"
     ]
    },
    {
     "name": "stderr",
     "output_type": "stream",
     "text": [
      "../sim/GELoadBalancer.py:90: DataConversionWarning: A column-vector y was passed when a 1d array was expected. Please change the shape of y to (n_samples,), for example using ravel().\n",
      "  self.model = self.model.fit(self.X, self.y) #make sure the hat the last period x is ignored\n"
     ]
    },
    {
     "name": "stdout",
     "output_type": "stream",
     "text": [
      "36020 33 16 30890.0\n",
      "0.9969590934211227\n",
      "(160, 8) (160, 1)\n",
      "15\n",
      "npa 9.907113942171662\n"
     ]
    },
    {
     "name": "stderr",
     "output_type": "stream",
     "text": [
      "../sim/GELoadBalancer.py:90: DataConversionWarning: A column-vector y was passed when a 1d array was expected. Please change the shape of y to (n_samples,), for example using ravel().\n",
      "  self.model = self.model.fit(self.X, self.y) #make sure the hat the last period x is ignored\n"
     ]
    },
    {
     "name": "stdout",
     "output_type": "stream",
     "text": [
      "35510 191 15 29100.0\n",
      "0.9969504130615641\n",
      "(161, 8) (161, 1)\n",
      "Max reward for 27699.0 16\n",
      "16\n",
      "npa 9.834098279296326\n"
     ]
    },
    {
     "name": "stderr",
     "output_type": "stream",
     "text": [
      "../sim/GELoadBalancer.py:90: DataConversionWarning: A column-vector y was passed when a 1d array was expected. Please change the shape of y to (n_samples,), for example using ravel().\n",
      "  self.model = self.model.fit(self.X, self.y) #make sure the hat the last period x is ignored\n"
     ]
    },
    {
     "name": "stdout",
     "output_type": "stream",
     "text": [
      "35268 11 16 30358.0\n",
      "0.9972096171723108\n",
      "(162, 8) (162, 1)\n",
      "21\n",
      "npa 10.081263179867022\n"
     ]
    },
    {
     "name": "stderr",
     "output_type": "stream",
     "text": [
      "../sim/GELoadBalancer.py:90: DataConversionWarning: A column-vector y was passed when a 1d array was expected. Please change the shape of y to (n_samples,), for example using ravel().\n",
      "  self.model = self.model.fit(self.X, self.y) #make sure the hat the last period x is ignored\n"
     ]
    },
    {
     "name": "stdout",
     "output_type": "stream",
     "text": [
      "36362 0.0 21 30062.0\n",
      "0.9970798544239289\n",
      "(163, 8) (163, 1)\n",
      "8\n",
      "npa 10.185393366253706\n"
     ]
    },
    {
     "name": "stderr",
     "output_type": "stream",
     "text": [
      "../sim/GELoadBalancer.py:90: DataConversionWarning: A column-vector y was passed when a 1d array was expected. Please change the shape of y to (n_samples,), for example using ravel().\n",
      "  self.model = self.model.fit(self.X, self.y) #make sure the hat the last period x is ignored\n"
     ]
    },
    {
     "name": "stdout",
     "output_type": "stream",
     "text": [
      "36573 2311 8 11063.0\n",
      "0.9962588468250995\n",
      "(164, 8) (164, 1)\n",
      "17\n",
      "npa 9.913425075221102\n"
     ]
    },
    {
     "name": "stderr",
     "output_type": "stream",
     "text": [
      "../sim/GELoadBalancer.py:90: DataConversionWarning: A column-vector y was passed when a 1d array was expected. Please change the shape of y to (n_samples,), for example using ravel().\n",
      "  self.model = self.model.fit(self.X, self.y) #make sure the hat the last period x is ignored\n"
     ]
    },
    {
     "name": "stdout",
     "output_type": "stream",
     "text": [
      "35639 12 17 30419.0\n",
      "0.9973483687680956\n",
      "(165, 8) (165, 1)\n",
      "12\n",
      "npa 9.795376953844146\n"
     ]
    },
    {
     "name": "stderr",
     "output_type": "stream",
     "text": [
      "../sim/GELoadBalancer.py:90: DataConversionWarning: A column-vector y was passed when a 1d array was expected. Please change the shape of y to (n_samples,), for example using ravel().\n",
      "  self.model = self.model.fit(self.X, self.y) #make sure the hat the last period x is ignored\n"
     ]
    },
    {
     "name": "stdout",
     "output_type": "stream",
     "text": [
      "35406 1497 12 16836.0\n",
      "0.9967816225635066\n",
      "(166, 8) (166, 1)\n",
      "Max reward for 26417.7 16\n",
      "16\n",
      "npa 9.816228375463128\n"
     ]
    },
    {
     "name": "stderr",
     "output_type": "stream",
     "text": [
      "../sim/GELoadBalancer.py:90: DataConversionWarning: A column-vector y was passed when a 1d array was expected. Please change the shape of y to (n_samples,), for example using ravel().\n",
      "  self.model = self.model.fit(self.X, self.y) #make sure the hat the last period x is ignored\n"
     ]
    },
    {
     "name": "stdout",
     "output_type": "stream",
     "text": [
      "35439 10 16 30539.0\n",
      "0.9956975142823401\n",
      "(167, 8) (167, 1)\n",
      "3\n",
      "npa 9.90756365163239\n"
     ]
    },
    {
     "name": "stderr",
     "output_type": "stream",
     "text": [
      "../sim/GELoadBalancer.py:90: DataConversionWarning: A column-vector y was passed when a 1d array was expected. Please change the shape of y to (n_samples,), for example using ravel().\n",
      "  self.model = self.model.fit(self.X, self.y) #make sure the hat the last period x is ignored\n"
     ]
    },
    {
     "name": "stdout",
     "output_type": "stream",
     "text": [
      "35525 3932 3 -4695.0\n",
      "0.9964622210402624\n",
      "(168, 8) (168, 1)\n",
      "5\n",
      "npa 9.930527585750978\n"
     ]
    },
    {
     "name": "stderr",
     "output_type": "stream",
     "text": [
      "../sim/GELoadBalancer.py:90: DataConversionWarning: A column-vector y was passed when a 1d array was expected. Please change the shape of y to (n_samples,), for example using ravel().\n",
      "  self.model = self.model.fit(self.X, self.y) #make sure the hat the last period x is ignored\n"
     ]
    },
    {
     "name": "stdout",
     "output_type": "stream",
     "text": [
      "35922 3208 5 2342.0\n",
      "0.9966228746660561\n",
      "(169, 8) (169, 1)\n",
      "15\n",
      "npa 10.050059236288222\n"
     ]
    },
    {
     "name": "stderr",
     "output_type": "stream",
     "text": [
      "../sim/GELoadBalancer.py:90: DataConversionWarning: A column-vector y was passed when a 1d array was expected. Please change the shape of y to (n_samples,), for example using ravel().\n",
      "  self.model = self.model.fit(self.X, self.y) #make sure the hat the last period x is ignored\n"
     ]
    },
    {
     "name": "stdout",
     "output_type": "stream",
     "text": [
      "36455 350 15 28455.0\n",
      "0.9968815810803684\n",
      "(170, 8) (170, 1)\n",
      "9\n",
      "npa 10.150843386063807\n"
     ]
    },
    {
     "name": "stderr",
     "output_type": "stream",
     "text": [
      "../sim/GELoadBalancer.py:90: DataConversionWarning: A column-vector y was passed when a 1d array was expected. Please change the shape of y to (n_samples,), for example using ravel().\n",
      "  self.model = self.model.fit(self.X, self.y) #make sure the hat the last period x is ignored\n"
     ]
    },
    {
     "name": "stdout",
     "output_type": "stream",
     "text": [
      "36720 2464 9 9380.0\n",
      "0.9970985464378318\n",
      "(171, 8) (171, 1)\n",
      "Max reward for 27001.1 17\n",
      "17\n",
      "npa 10.301164554609645\n"
     ]
    },
    {
     "name": "stderr",
     "output_type": "stream",
     "text": [
      "../sim/GELoadBalancer.py:90: DataConversionWarning: A column-vector y was passed when a 1d array was expected. Please change the shape of y to (n_samples,), for example using ravel().\n",
      "  self.model = self.model.fit(self.X, self.y) #make sure the hat the last period x is ignored\n"
     ]
    },
    {
     "name": "stdout",
     "output_type": "stream",
     "text": [
      "37129 10 17 31929.0\n",
      "0.9962013527124124\n",
      "(172, 8) (172, 1)\n",
      "Max reward for 27579.0 17\n",
      "17\n",
      "npa 10.301003234037989\n"
     ]
    },
    {
     "name": "stderr",
     "output_type": "stream",
     "text": [
      "../sim/GELoadBalancer.py:90: DataConversionWarning: A column-vector y was passed when a 1d array was expected. Please change the shape of y to (n_samples,), for example using ravel().\n",
      "  self.model = self.model.fit(self.X, self.y) #make sure the hat the last period x is ignored\n"
     ]
    },
    {
     "name": "stdout",
     "output_type": "stream",
     "text": [
      "37458 35 17 32008.0\n",
      "0.9964753417611902\n",
      "(173, 8) (173, 1)\n",
      "26\n",
      "npa 10.458127262820504\n"
     ]
    },
    {
     "name": "stderr",
     "output_type": "stream",
     "text": [
      "../sim/GELoadBalancer.py:90: DataConversionWarning: A column-vector y was passed when a 1d array was expected. Please change the shape of y to (n_samples,), for example using ravel().\n",
      "  self.model = self.model.fit(self.X, self.y) #make sure the hat the last period x is ignored\n"
     ]
    },
    {
     "name": "stdout",
     "output_type": "stream",
     "text": [
      "37546 0.0 26 29746.0\n",
      "0.9963481391817707\n",
      "(174, 8) (174, 1)\n",
      "16\n",
      "npa 10.426341432324943\n"
     ]
    },
    {
     "name": "stderr",
     "output_type": "stream",
     "text": [
      "../sim/GELoadBalancer.py:90: DataConversionWarning: A column-vector y was passed when a 1d array was expected. Please change the shape of y to (n_samples,), for example using ravel().\n",
      "  self.model = self.model.fit(self.X, self.y) #make sure the hat the last period x is ignored\n"
     ]
    },
    {
     "name": "stdout",
     "output_type": "stream",
     "text": [
      "37358 124 16 31318.0\n",
      "0.9962179437711652\n",
      "(175, 8) (175, 1)\n",
      "Max reward for 27640.2 17\n",
      "17\n",
      "npa 10.243381564423393\n"
     ]
    },
    {
     "name": "stderr",
     "output_type": "stream",
     "text": [
      "../sim/GELoadBalancer.py:90: DataConversionWarning: A column-vector y was passed when a 1d array was expected. Please change the shape of y to (n_samples,), for example using ravel().\n",
      "  self.model = self.model.fit(self.X, self.y) #make sure the hat the last period x is ignored\n"
     ]
    },
    {
     "name": "stdout",
     "output_type": "stream",
     "text": [
      "37019 6 17 31859.0\n",
      "0.9976228067598146\n",
      "(176, 8) (176, 1)\n",
      "18\n",
      "npa 10.13915613543286\n"
     ]
    },
    {
     "name": "stderr",
     "output_type": "stream",
     "text": [
      "../sim/GELoadBalancer.py:90: DataConversionWarning: A column-vector y was passed when a 1d array was expected. Please change the shape of y to (n_samples,), for example using ravel().\n",
      "  self.model = self.model.fit(self.X, self.y) #make sure the hat the last period x is ignored\n"
     ]
    },
    {
     "name": "stdout",
     "output_type": "stream",
     "text": [
      "36555 0.0 18 31155.0\n",
      "0.9961945610988612\n",
      "(177, 8) (177, 1)\n",
      "Max reward for 27489.8 17\n",
      "17\n",
      "npa 10.320165893079746\n"
     ]
    },
    {
     "name": "stderr",
     "output_type": "stream",
     "text": [
      "../sim/GELoadBalancer.py:90: DataConversionWarning: A column-vector y was passed when a 1d array was expected. Please change the shape of y to (n_samples,), for example using ravel().\n",
      "  self.model = self.model.fit(self.X, self.y) #make sure the hat the last period x is ignored\n"
     ]
    },
    {
     "name": "stdout",
     "output_type": "stream",
     "text": [
      "37166 10 17 31966.0\n",
      "0.9965576493511571\n",
      "(178, 8) (178, 1)\n",
      "Max reward for 28560.5 17\n",
      "17\n",
      "npa 10.558174726957105\n"
     ]
    },
    {
     "name": "stderr",
     "output_type": "stream",
     "text": [
      "../sim/GELoadBalancer.py:90: DataConversionWarning: A column-vector y was passed when a 1d array was expected. Please change the shape of y to (n_samples,), for example using ravel().\n",
      "  self.model = self.model.fit(self.X, self.y) #make sure the hat the last period x is ignored\n"
     ]
    },
    {
     "name": "stdout",
     "output_type": "stream",
     "text": [
      "37986 32 17 32566.0\n",
      "0.9975052663589076\n",
      "(179, 8) (179, 1)\n",
      "Max reward for 29761.7 17\n",
      "17\n",
      "npa 10.583009103404637\n"
     ]
    },
    {
     "name": "stderr",
     "output_type": "stream",
     "text": [
      "../sim/GELoadBalancer.py:90: DataConversionWarning: A column-vector y was passed when a 1d array was expected. Please change the shape of y to (n_samples,), for example using ravel().\n",
      "  self.model = self.model.fit(self.X, self.y) #make sure the hat the last period x is ignored\n"
     ]
    },
    {
     "name": "stdout",
     "output_type": "stream",
     "text": [
      "38615 58 17 32935.0\n",
      "0.9965729513630156\n",
      "(180, 8) (180, 1)\n",
      "15\n",
      "npa 10.785132662977828\n"
     ]
    },
    {
     "name": "stderr",
     "output_type": "stream",
     "text": [
      "../sim/GELoadBalancer.py:90: DataConversionWarning: A column-vector y was passed when a 1d array was expected. Please change the shape of y to (n_samples,), for example using ravel().\n",
      "  self.model = self.model.fit(self.X, self.y) #make sure the hat the last period x is ignored\n"
     ]
    },
    {
     "name": "stdout",
     "output_type": "stream",
     "text": [
      "38586 781 15 26276.0\n",
      "0.9975398090229681\n",
      "(181, 8) (181, 1)\n",
      "Max reward for 29645.3 16\n",
      "16\n",
      "npa 10.742739971930215\n"
     ]
    },
    {
     "name": "stderr",
     "output_type": "stream",
     "text": [
      "../sim/GELoadBalancer.py:90: DataConversionWarning: A column-vector y was passed when a 1d array was expected. Please change the shape of y to (n_samples,), for example using ravel().\n",
      "  self.model = self.model.fit(self.X, self.y) #make sure the hat the last period x is ignored\n"
     ]
    },
    {
     "name": "stdout",
     "output_type": "stream",
     "text": [
      "38434 235 16 31284.0\n",
      "0.9968730395436483\n",
      "(182, 8) (182, 1)\n",
      "Max reward for 28064.8 17\n",
      "17\n",
      "npa 10.767536931878087\n"
     ]
    },
    {
     "name": "stderr",
     "output_type": "stream",
     "text": [
      "../sim/GELoadBalancer.py:90: DataConversionWarning: A column-vector y was passed when a 1d array was expected. Please change the shape of y to (n_samples,), for example using ravel().\n",
      "  self.model = self.model.fit(self.X, self.y) #make sure the hat the last period x is ignored\n"
     ]
    },
    {
     "name": "stdout",
     "output_type": "stream",
     "text": [
      "38481 51 17 32871.0\n",
      "0.9967903527430539\n",
      "(183, 8) (183, 1)\n",
      "16\n",
      "npa 10.633387082437237\n"
     ]
    },
    {
     "name": "stderr",
     "output_type": "stream",
     "text": [
      "../sim/GELoadBalancer.py:90: DataConversionWarning: A column-vector y was passed when a 1d array was expected. Please change the shape of y to (n_samples,), for example using ravel().\n",
      "  self.model = self.model.fit(self.X, self.y) #make sure the hat the last period x is ignored\n"
     ]
    },
    {
     "name": "stdout",
     "output_type": "stream",
     "text": [
      "38212 257 16 30842.0\n",
      "0.9972352571021716\n",
      "(184, 8) (184, 1)\n",
      "Max reward for 29613.1 17\n",
      "17\n",
      "npa 10.761211164355203\n"
     ]
    },
    {
     "name": "stderr",
     "output_type": "stream",
     "text": [
      "../sim/GELoadBalancer.py:90: DataConversionWarning: A column-vector y was passed when a 1d array was expected. Please change the shape of y to (n_samples,), for example using ravel().\n",
      "  self.model = self.model.fit(self.X, self.y) #make sure the hat the last period x is ignored\n"
     ]
    },
    {
     "name": "stdout",
     "output_type": "stream",
     "text": [
      "38945 95 17 32895.0\n",
      "0.9975089627113974\n",
      "(185, 8) (185, 1)\n",
      "28\n",
      "npa 10.689125481393061\n"
     ]
    },
    {
     "name": "stderr",
     "output_type": "stream",
     "text": [
      "../sim/GELoadBalancer.py:90: DataConversionWarning: A column-vector y was passed when a 1d array was expected. Please change the shape of y to (n_samples,), for example using ravel().\n",
      "  self.model = self.model.fit(self.X, self.y) #make sure the hat the last period x is ignored\n"
     ]
    },
    {
     "name": "stdout",
     "output_type": "stream",
     "text": [
      "38912 1 28 30502.0\n",
      "0.9979039646385903\n",
      "(186, 8) (186, 1)\n",
      "Max reward for 30079.7 17\n",
      "17\n",
      "npa 10.838206607469807\n"
     ]
    },
    {
     "name": "stderr",
     "output_type": "stream",
     "text": [
      "../sim/GELoadBalancer.py:90: DataConversionWarning: A column-vector y was passed when a 1d array was expected. Please change the shape of y to (n_samples,), for example using ravel().\n",
      "  self.model = self.model.fit(self.X, self.y) #make sure the hat the last period x is ignored\n"
     ]
    },
    {
     "name": "stdout",
     "output_type": "stream",
     "text": [
      "39002 92 17 32982.0\n",
      "0.9968621151444566\n",
      "(187, 8) (187, 1)\n",
      "Max reward for 29379.2 17\n",
      "17\n",
      "npa 10.798193897944378\n"
     ]
    },
    {
     "name": "stderr",
     "output_type": "stream",
     "text": [
      "../sim/GELoadBalancer.py:90: DataConversionWarning: A column-vector y was passed when a 1d array was expected. Please change the shape of y to (n_samples,), for example using ravel().\n",
      "  self.model = self.model.fit(self.X, self.y) #make sure the hat the last period x is ignored\n"
     ]
    },
    {
     "name": "stdout",
     "output_type": "stream",
     "text": [
      "38895 73 17 33065.0\n",
      "0.9964201468080249\n",
      "(188, 8) (188, 1)\n",
      "Max reward for 30176.8 17\n",
      "17\n",
      "npa 10.807177428668306\n"
     ]
    },
    {
     "name": "stderr",
     "output_type": "stream",
     "text": [
      "../sim/GELoadBalancer.py:90: DataConversionWarning: A column-vector y was passed when a 1d array was expected. Please change the shape of y to (n_samples,), for example using ravel().\n",
      "  self.model = self.model.fit(self.X, self.y) #make sure the hat the last period x is ignored\n"
     ]
    },
    {
     "name": "stdout",
     "output_type": "stream",
     "text": [
      "38633 78 17 32753.0\n",
      "0.9970001304352317\n",
      "(189, 8) (189, 1)\n",
      "Max reward for 30283.4 17\n",
      "17\n",
      "npa 10.741781313684003\n"
     ]
    },
    {
     "name": "stderr",
     "output_type": "stream",
     "text": [
      "../sim/GELoadBalancer.py:90: DataConversionWarning: A column-vector y was passed when a 1d array was expected. Please change the shape of y to (n_samples,), for example using ravel().\n",
      "  self.model = self.model.fit(self.X, self.y) #make sure the hat the last period x is ignored\n"
     ]
    },
    {
     "name": "stdout",
     "output_type": "stream",
     "text": [
      "39002 71 17 33192.0\n",
      "0.9976731873427479\n",
      "(190, 8) (190, 1)\n",
      "16\n",
      "npa 10.837098316582347\n"
     ]
    },
    {
     "name": "stderr",
     "output_type": "stream",
     "text": [
      "../sim/GELoadBalancer.py:90: DataConversionWarning: A column-vector y was passed when a 1d array was expected. Please change the shape of y to (n_samples,), for example using ravel().\n",
      "  self.model = self.model.fit(self.X, self.y) #make sure the hat the last period x is ignored\n"
     ]
    },
    {
     "name": "stdout",
     "output_type": "stream",
     "text": [
      "39119 400 16 30319.0\n",
      "0.9969781113696768\n",
      "(191, 8) (191, 1)\n",
      "27\n",
      "npa 11.032285678238589\n"
     ]
    },
    {
     "name": "stderr",
     "output_type": "stream",
     "text": [
      "../sim/GELoadBalancer.py:90: DataConversionWarning: A column-vector y was passed when a 1d array was expected. Please change the shape of y to (n_samples,), for example using ravel().\n",
      "  self.model = self.model.fit(self.X, self.y) #make sure the hat the last period x is ignored\n"
     ]
    },
    {
     "name": "stdout",
     "output_type": "stream",
     "text": [
      "39506 1 27 31396.0\n",
      "0.9974006714528451\n",
      "(192, 8) (192, 1)\n",
      "Max reward for 29569.8 17\n",
      "17\n",
      "npa 11.086767598725396\n"
     ]
    },
    {
     "name": "stderr",
     "output_type": "stream",
     "text": [
      "../sim/GELoadBalancer.py:90: DataConversionWarning: A column-vector y was passed when a 1d array was expected. Please change the shape of y to (n_samples,), for example using ravel().\n",
      "  self.model = self.model.fit(self.X, self.y) #make sure the hat the last period x is ignored\n"
     ]
    },
    {
     "name": "stdout",
     "output_type": "stream",
     "text": [
      "39844 137 17 33374.0\n",
      "0.9959819141593516\n",
      "(193, 8) (193, 1)\n",
      "7\n",
      "npa 11.134101406175025\n"
     ]
    },
    {
     "name": "stderr",
     "output_type": "stream",
     "text": [
      "../sim/GELoadBalancer.py:90: DataConversionWarning: A column-vector y was passed when a 1d array was expected. Please change the shape of y to (n_samples,), for example using ravel().\n",
      "  self.model = self.model.fit(self.X, self.y) #make sure the hat the last period x is ignored\n"
     ]
    },
    {
     "name": "stdout",
     "output_type": "stream",
     "text": [
      "40000 3341 7 4490.0\n",
      "0.9977917488943615\n",
      "(194, 8) (194, 1)\n",
      "30\n",
      "npa 11.000870224077625\n"
     ]
    },
    {
     "name": "stderr",
     "output_type": "stream",
     "text": [
      "../sim/GELoadBalancer.py:90: DataConversionWarning: A column-vector y was passed when a 1d array was expected. Please change the shape of y to (n_samples,), for example using ravel().\n",
      "  self.model = self.model.fit(self.X, self.y) #make sure the hat the last period x is ignored\n"
     ]
    },
    {
     "name": "stdout",
     "output_type": "stream",
     "text": [
      "39456 6 30 30396.0\n",
      "0.9971180815104437\n",
      "(195, 8) (195, 1)\n",
      "28\n",
      "npa 10.915220705780278\n"
     ]
    },
    {
     "name": "stderr",
     "output_type": "stream",
     "text": [
      "../sim/GELoadBalancer.py:90: DataConversionWarning: A column-vector y was passed when a 1d array was expected. Please change the shape of y to (n_samples,), for example using ravel().\n",
      "  self.model = self.model.fit(self.X, self.y) #make sure the hat the last period x is ignored\n"
     ]
    },
    {
     "name": "stdout",
     "output_type": "stream",
     "text": [
      "38654 0.0 28 30254.0\n",
      "0.9964288073316169\n",
      "(196, 8) (196, 1)\n",
      "8\n",
      "npa 10.715062134510964\n"
     ]
    },
    {
     "name": "stderr",
     "output_type": "stream",
     "text": [
      "../sim/GELoadBalancer.py:90: DataConversionWarning: A column-vector y was passed when a 1d array was expected. Please change the shape of y to (n_samples,), for example using ravel().\n",
      "  self.model = self.model.fit(self.X, self.y) #make sure the hat the last period x is ignored\n"
     ]
    },
    {
     "name": "stdout",
     "output_type": "stream",
     "text": [
      "38379 1762 8 18359.0\n",
      "0.9955008843260308\n",
      "(197, 8) (197, 1)\n",
      "7\n",
      "npa 10.431841610332135\n"
     ]
    },
    {
     "name": "stderr",
     "output_type": "stream",
     "text": [
      "../sim/GELoadBalancer.py:90: DataConversionWarning: A column-vector y was passed when a 1d array was expected. Please change the shape of y to (n_samples,), for example using ravel().\n",
      "  self.model = self.model.fit(self.X, self.y) #make sure the hat the last period x is ignored\n"
     ]
    },
    {
     "name": "stdout",
     "output_type": "stream",
     "text": [
      "37374 2712 7 8154.0\n",
      "0.9953481991561771\n",
      "(198, 8) (198, 1)\n",
      "Max reward for 29376.0 17\n",
      "17\n",
      "npa 10.529338041250535\n"
     ]
    },
    {
     "name": "stderr",
     "output_type": "stream",
     "text": [
      "../sim/GELoadBalancer.py:90: DataConversionWarning: A column-vector y was passed when a 1d array was expected. Please change the shape of y to (n_samples,), for example using ravel().\n",
      "  self.model = self.model.fit(self.X, self.y) #make sure the hat the last period x is ignored\n"
     ]
    },
    {
     "name": "stdout",
     "output_type": "stream",
     "text": [
      "38236 45 17 32686.0\n",
      "0.9965355146217832\n",
      "(199, 8) (199, 1)\n",
      "7\n",
      "npa 10.595965728374013\n"
     ]
    },
    {
     "name": "stderr",
     "output_type": "stream",
     "text": [
      "../sim/GELoadBalancer.py:90: DataConversionWarning: A column-vector y was passed when a 1d array was expected. Please change the shape of y to (n_samples,), for example using ravel().\n",
      "  self.model = self.model.fit(self.X, self.y) #make sure the hat the last period x is ignored\n"
     ]
    },
    {
     "name": "stdout",
     "output_type": "stream",
     "text": [
      "37952 2728 7 8572.0\n",
      "0.9961180707227151\n",
      "(200, 8) (200, 1)\n",
      "Max reward for 30590.4 17\n",
      "17\n",
      "npa 10.72694763249574\n"
     ]
    },
    {
     "name": "stderr",
     "output_type": "stream",
     "text": [
      "../sim/GELoadBalancer.py:90: DataConversionWarning: A column-vector y was passed when a 1d array was expected. Please change the shape of y to (n_samples,), for example using ravel().\n",
      "  self.model = self.model.fit(self.X, self.y) #make sure the hat the last period x is ignored\n"
     ]
    },
    {
     "name": "stdout",
     "output_type": "stream",
     "text": [
      "38686 36 17 33226.0\n",
      "0.9962996916674349\n",
      "(201, 8) (201, 1)\n",
      "Max reward for 30744.5 17\n",
      "17\n",
      "npa 10.710591453700822\n"
     ]
    },
    {
     "name": "stderr",
     "output_type": "stream",
     "text": [
      "../sim/GELoadBalancer.py:90: DataConversionWarning: A column-vector y was passed when a 1d array was expected. Please change the shape of y to (n_samples,), for example using ravel().\n",
      "  self.model = self.model.fit(self.X, self.y) #make sure the hat the last period x is ignored\n"
     ]
    },
    {
     "name": "stdout",
     "output_type": "stream",
     "text": [
      "38685 59 17 32995.0\n",
      "0.9956594861284468\n",
      "(202, 8) (202, 1)\n",
      "Max reward for 30466.2 17\n",
      "17\n",
      "npa 10.802795252535436\n"
     ]
    },
    {
     "name": "stderr",
     "output_type": "stream",
     "text": [
      "../sim/GELoadBalancer.py:90: DataConversionWarning: A column-vector y was passed when a 1d array was expected. Please change the shape of y to (n_samples,), for example using ravel().\n",
      "  self.model = self.model.fit(self.X, self.y) #make sure the hat the last period x is ignored\n"
     ]
    },
    {
     "name": "stdout",
     "output_type": "stream",
     "text": [
      "38685 63 17 32955.0\n",
      "0.996230029555789\n",
      "(203, 8) (203, 1)\n",
      "Max reward for 30666.7 17\n",
      "17\n",
      "npa 10.54188198986028\n"
     ]
    },
    {
     "name": "stderr",
     "output_type": "stream",
     "text": [
      "../sim/GELoadBalancer.py:90: DataConversionWarning: A column-vector y was passed when a 1d array was expected. Please change the shape of y to (n_samples,), for example using ravel().\n",
      "  self.model = self.model.fit(self.X, self.y) #make sure the hat the last period x is ignored\n"
     ]
    },
    {
     "name": "stdout",
     "output_type": "stream",
     "text": [
      "37838 14 17 32598.0\n",
      "0.9953627121176543\n",
      "(204, 8) (204, 1)\n",
      "29\n",
      "npa 10.444199121732101\n"
     ]
    },
    {
     "name": "stderr",
     "output_type": "stream",
     "text": [
      "../sim/GELoadBalancer.py:90: DataConversionWarning: A column-vector y was passed when a 1d array was expected. Please change the shape of y to (n_samples,), for example using ravel().\n",
      "  self.model = self.model.fit(self.X, self.y) #make sure the hat the last period x is ignored\n"
     ]
    },
    {
     "name": "stdout",
     "output_type": "stream",
     "text": [
      "37678 0.0 29 28978.0\n",
      "0.9962985766926622\n",
      "(205, 8) (205, 1)\n",
      "18\n",
      "npa 10.66475281471751\n"
     ]
    },
    {
     "name": "stderr",
     "output_type": "stream",
     "text": [
      "../sim/GELoadBalancer.py:90: DataConversionWarning: A column-vector y was passed when a 1d array was expected. Please change the shape of y to (n_samples,), for example using ravel().\n",
      "  self.model = self.model.fit(self.X, self.y) #make sure the hat the last period x is ignored\n"
     ]
    },
    {
     "name": "stdout",
     "output_type": "stream",
     "text": [
      "38198 0.0 18 32798.0\n",
      "0.9958550720083351\n",
      "(206, 8) (206, 1)\n",
      "15\n",
      "npa 10.762491722393817\n"
     ]
    },
    {
     "name": "stderr",
     "output_type": "stream",
     "text": [
      "../sim/GELoadBalancer.py:90: DataConversionWarning: A column-vector y was passed when a 1d array was expected. Please change the shape of y to (n_samples,), for example using ravel().\n",
      "  self.model = self.model.fit(self.X, self.y) #make sure the hat the last period x is ignored\n"
     ]
    },
    {
     "name": "stdout",
     "output_type": "stream",
     "text": [
      "38905 792 15 26485.0\n",
      "0.9967416466304683\n",
      "(207, 8) (207, 1)\n",
      "Max reward for 30775.5 17\n",
      "17\n",
      "npa 10.851979842890008\n"
     ]
    },
    {
     "name": "stderr",
     "output_type": "stream",
     "text": [
      "../sim/GELoadBalancer.py:90: DataConversionWarning: A column-vector y was passed when a 1d array was expected. Please change the shape of y to (n_samples,), for example using ravel().\n",
      "  self.model = self.model.fit(self.X, self.y) #make sure the hat the last period x is ignored\n"
     ]
    },
    {
     "name": "stdout",
     "output_type": "stream",
     "text": [
      "39348 107 17 33178.0\n",
      "0.9966208720247279\n",
      "(208, 8) (208, 1)\n",
      "16\n",
      "npa 10.836623622729208\n"
     ]
    },
    {
     "name": "stderr",
     "output_type": "stream",
     "text": [
      "../sim/GELoadBalancer.py:90: DataConversionWarning: A column-vector y was passed when a 1d array was expected. Please change the shape of y to (n_samples,), for example using ravel().\n",
      "  self.model = self.model.fit(self.X, self.y) #make sure the hat the last period x is ignored\n"
     ]
    },
    {
     "name": "stdout",
     "output_type": "stream",
     "text": [
      "38792 377 16 30222.0\n",
      "0.9963702352046141\n",
      "(209, 8) (209, 1)\n",
      "4\n",
      "npa 10.805441798547937\n"
     ]
    },
    {
     "name": "stderr",
     "output_type": "stream",
     "text": [
      "../sim/GELoadBalancer.py:90: DataConversionWarning: A column-vector y was passed when a 1d array was expected. Please change the shape of y to (n_samples,), for example using ravel().\n",
      "  self.model = self.model.fit(self.X, self.y) #make sure the hat the last period x is ignored\n"
     ]
    },
    {
     "name": "stdout",
     "output_type": "stream",
     "text": [
      "38844 3969 4 -2046.0\n",
      "0.9963384498237492\n",
      "(210, 8) (210, 1)\n",
      "Max reward for 30700.4 17\n",
      "17\n",
      "npa 10.857716456836938\n"
     ]
    },
    {
     "name": "stderr",
     "output_type": "stream",
     "text": [
      "../sim/GELoadBalancer.py:90: DataConversionWarning: A column-vector y was passed when a 1d array was expected. Please change the shape of y to (n_samples,), for example using ravel().\n",
      "  self.model = self.model.fit(self.X, self.y) #make sure the hat the last period x is ignored\n"
     ]
    },
    {
     "name": "stdout",
     "output_type": "stream",
     "text": [
      "39208 136 17 32748.0\n",
      "0.9964275695254121\n",
      "(211, 8) (211, 1)\n",
      "Max reward for 30580.8 17\n",
      "17\n",
      "npa 10.9064140165478\n"
     ]
    },
    {
     "name": "stderr",
     "output_type": "stream",
     "text": [
      "../sim/GELoadBalancer.py:90: DataConversionWarning: A column-vector y was passed when a 1d array was expected. Please change the shape of y to (n_samples,), for example using ravel().\n",
      "  self.model = self.model.fit(self.X, self.y) #make sure the hat the last period x is ignored\n"
     ]
    },
    {
     "name": "stdout",
     "output_type": "stream",
     "text": [
      "39364 93 17 33334.0\n",
      "0.9964264749510932\n",
      "(212, 8) (212, 1)\n",
      "7\n",
      "npa 10.978578323717208\n"
     ]
    },
    {
     "name": "stderr",
     "output_type": "stream",
     "text": [
      "../sim/GELoadBalancer.py:90: DataConversionWarning: A column-vector y was passed when a 1d array was expected. Please change the shape of y to (n_samples,), for example using ravel().\n",
      "  self.model = self.model.fit(self.X, self.y) #make sure the hat the last period x is ignored\n"
     ]
    },
    {
     "name": "stdout",
     "output_type": "stream",
     "text": [
      "39707 3076 7 6847.0\n",
      "0.9965226708811189\n",
      "(213, 8) (213, 1)\n",
      "Max reward for 30506.6 17\n",
      "17\n",
      "npa 11.20372726034456\n"
     ]
    },
    {
     "name": "stderr",
     "output_type": "stream",
     "text": [
      "../sim/GELoadBalancer.py:90: DataConversionWarning: A column-vector y was passed when a 1d array was expected. Please change the shape of y to (n_samples,), for example using ravel().\n",
      "  self.model = self.model.fit(self.X, self.y) #make sure the hat the last period x is ignored\n"
     ]
    },
    {
     "name": "stdout",
     "output_type": "stream",
     "text": [
      "40428 238 17 32948.0\n",
      "0.9967008615967307\n",
      "(214, 8) (214, 1)\n",
      "Max reward for 30749.0 17\n",
      "17\n",
      "npa 11.200784346899063\n"
     ]
    },
    {
     "name": "stderr",
     "output_type": "stream",
     "text": [
      "../sim/GELoadBalancer.py:90: DataConversionWarning: A column-vector y was passed when a 1d array was expected. Please change the shape of y to (n_samples,), for example using ravel().\n",
      "  self.model = self.model.fit(self.X, self.y) #make sure the hat the last period x is ignored\n"
     ]
    },
    {
     "name": "stdout",
     "output_type": "stream",
     "text": [
      "40417 232 17 32997.0\n",
      "0.9969271361604052\n",
      "(215, 8) (215, 1)\n",
      "11\n",
      "npa 11.28927451735394\n"
     ]
    },
    {
     "name": "stderr",
     "output_type": "stream",
     "text": [
      "../sim/GELoadBalancer.py:90: DataConversionWarning: A column-vector y was passed when a 1d array was expected. Please change the shape of y to (n_samples,), for example using ravel().\n",
      "  self.model = self.model.fit(self.X, self.y) #make sure the hat the last period x is ignored\n"
     ]
    },
    {
     "name": "stdout",
     "output_type": "stream",
     "text": [
      "40542 2659 11 10652.0\n",
      "0.995782395776006\n",
      "(216, 8) (216, 1)\n",
      "6\n",
      "npa 11.413171578200192\n"
     ]
    },
    {
     "name": "stderr",
     "output_type": "stream",
     "text": [
      "../sim/GELoadBalancer.py:90: DataConversionWarning: A column-vector y was passed when a 1d array was expected. Please change the shape of y to (n_samples,), for example using ravel().\n",
      "  self.model = self.model.fit(self.X, self.y) #make sure the hat the last period x is ignored\n"
     ]
    },
    {
     "name": "stdout",
     "output_type": "stream",
     "text": [
      "41218 3741 6 2008.0\n",
      "0.9960397536786513\n",
      "(217, 8) (217, 1)\n",
      "2\n",
      "npa 11.27311242487836\n"
     ]
    },
    {
     "name": "stderr",
     "output_type": "stream",
     "text": [
      "../sim/GELoadBalancer.py:90: DataConversionWarning: A column-vector y was passed when a 1d array was expected. Please change the shape of y to (n_samples,), for example using ravel().\n",
      "  self.model = self.model.fit(self.X, self.y) #make sure the hat the last period x is ignored\n"
     ]
    },
    {
     "name": "stdout",
     "output_type": "stream",
     "text": [
      "40354 5655 2 -16796.0\n",
      "0.9966997289229983\n",
      "(218, 8) (218, 1)\n",
      "30\n",
      "npa 11.283492057788798\n"
     ]
    },
    {
     "name": "stderr",
     "output_type": "stream",
     "text": [
      "../sim/GELoadBalancer.py:90: DataConversionWarning: A column-vector y was passed when a 1d array was expected. Please change the shape of y to (n_samples,), for example using ravel().\n",
      "  self.model = self.model.fit(self.X, self.y) #make sure the hat the last period x is ignored\n"
     ]
    },
    {
     "name": "stdout",
     "output_type": "stream",
     "text": [
      "40656 92 30 30736.0\n",
      "0.996990869173231\n",
      "(219, 8) (219, 1)\n",
      "15\n",
      "npa 11.35987155676189\n"
     ]
    },
    {
     "name": "stderr",
     "output_type": "stream",
     "text": [
      "../sim/GELoadBalancer.py:90: DataConversionWarning: A column-vector y was passed when a 1d array was expected. Please change the shape of y to (n_samples,), for example using ravel().\n",
      "  self.model = self.model.fit(self.X, self.y) #make sure the hat the last period x is ignored\n"
     ]
    },
    {
     "name": "stdout",
     "output_type": "stream",
     "text": [
      "40860 1182 15 24540.0\n",
      "0.997173471993369\n",
      "(220, 8) (220, 1)\n",
      "Max reward for 29735.0 17\n",
      "17\n",
      "npa 11.206049055627629\n"
     ]
    },
    {
     "name": "stderr",
     "output_type": "stream",
     "text": [
      "../sim/GELoadBalancer.py:90: DataConversionWarning: A column-vector y was passed when a 1d array was expected. Please change the shape of y to (n_samples,), for example using ravel().\n",
      "  self.model = self.model.fit(self.X, self.y) #make sure the hat the last period x is ignored\n"
     ]
    },
    {
     "name": "stdout",
     "output_type": "stream",
     "text": [
      "40648 264 17 32908.0\n",
      "0.9965818385629628\n",
      "(221, 8) (221, 1)\n",
      "22\n",
      "npa 11.20605262642176\n"
     ]
    },
    {
     "name": "stderr",
     "output_type": "stream",
     "text": [
      "../sim/GELoadBalancer.py:90: DataConversionWarning: A column-vector y was passed when a 1d array was expected. Please change the shape of y to (n_samples,), for example using ravel().\n",
      "  self.model = self.model.fit(self.X, self.y) #make sure the hat the last period x is ignored\n"
     ]
    },
    {
     "name": "stdout",
     "output_type": "stream",
     "text": [
      "40417 0.0 22 33817.0\n",
      "0.996371743890896\n",
      "(222, 8) (222, 1)\n",
      "12\n",
      "npa 11.230814392906517\n"
     ]
    },
    {
     "name": "stderr",
     "output_type": "stream",
     "text": [
      "../sim/GELoadBalancer.py:90: DataConversionWarning: A column-vector y was passed when a 1d array was expected. Please change the shape of y to (n_samples,), for example using ravel().\n",
      "  self.model = self.model.fit(self.X, self.y) #make sure the hat the last period x is ignored\n"
     ]
    },
    {
     "name": "stdout",
     "output_type": "stream",
     "text": [
      "40481 2257 12 14311.0\n",
      "0.9962417970692506\n",
      "(223, 8) (223, 1)\n",
      "8\n",
      "npa 10.86637340978669\n"
     ]
    },
    {
     "name": "stderr",
     "output_type": "stream",
     "text": [
      "../sim/GELoadBalancer.py:90: DataConversionWarning: A column-vector y was passed when a 1d array was expected. Please change the shape of y to (n_samples,), for example using ravel().\n",
      "  self.model = self.model.fit(self.X, self.y) #make sure the hat the last period x is ignored\n"
     ]
    },
    {
     "name": "stdout",
     "output_type": "stream",
     "text": [
      "39172 1875 8 18022.0\n",
      "0.9965973221143042\n",
      "(224, 8) (224, 1)\n",
      "Max reward for 30503.6 17\n",
      "17\n",
      "npa 10.86674034203582\n"
     ]
    },
    {
     "name": "stderr",
     "output_type": "stream",
     "text": [
      "../sim/GELoadBalancer.py:90: DataConversionWarning: A column-vector y was passed when a 1d array was expected. Please change the shape of y to (n_samples,), for example using ravel().\n",
      "  self.model = self.model.fit(self.X, self.y) #make sure the hat the last period x is ignored\n"
     ]
    },
    {
     "name": "stdout",
     "output_type": "stream",
     "text": [
      "38872 52 17 33252.0\n",
      "0.9966294063562499\n",
      "(225, 8) (225, 1)\n",
      "Max reward for 30910.5 17\n",
      "17\n",
      "npa 11.082004231450576\n"
     ]
    },
    {
     "name": "stderr",
     "output_type": "stream",
     "text": [
      "../sim/GELoadBalancer.py:90: DataConversionWarning: A column-vector y was passed when a 1d array was expected. Please change the shape of y to (n_samples,), for example using ravel().\n",
      "  self.model = self.model.fit(self.X, self.y) #make sure the hat the last period x is ignored\n"
     ]
    },
    {
     "name": "stdout",
     "output_type": "stream",
     "text": [
      "40000 162 17 33280.0\n",
      "0.9969441221037096\n",
      "(226, 8) (226, 1)\n",
      "Max reward for 30720.0 21\n",
      "21\n",
      "npa 11.067966430029774\n"
     ]
    },
    {
     "name": "stderr",
     "output_type": "stream",
     "text": [
      "../sim/GELoadBalancer.py:90: DataConversionWarning: A column-vector y was passed when a 1d array was expected. Please change the shape of y to (n_samples,), for example using ravel().\n",
      "  self.model = self.model.fit(self.X, self.y) #make sure the hat the last period x is ignored\n"
     ]
    },
    {
     "name": "stdout",
     "output_type": "stream",
     "text": [
      "40076 0.0 21 33776.0\n",
      "0.9959251168426106\n",
      "(227, 8) (227, 1)\n",
      "15\n",
      "npa 11.326650542912724\n"
     ]
    },
    {
     "name": "stderr",
     "output_type": "stream",
     "text": [
      "../sim/GELoadBalancer.py:90: DataConversionWarning: A column-vector y was passed when a 1d array was expected. Please change the shape of y to (n_samples,), for example using ravel().\n",
      "  self.model = self.model.fit(self.X, self.y) #make sure the hat the last period x is ignored\n"
     ]
    },
    {
     "name": "stdout",
     "output_type": "stream",
     "text": [
      "40667 1187 15 24297.0\n",
      "0.996865466385853\n",
      "(228, 8) (228, 1)\n",
      "Max reward for 30338.4 20\n",
      "20\n",
      "npa 11.218530550300699\n"
     ]
    },
    {
     "name": "stderr",
     "output_type": "stream",
     "text": [
      "../sim/GELoadBalancer.py:90: DataConversionWarning: A column-vector y was passed when a 1d array was expected. Please change the shape of y to (n_samples,), for example using ravel().\n",
      "  self.model = self.model.fit(self.X, self.y) #make sure the hat the last period x is ignored\n"
     ]
    },
    {
     "name": "stdout",
     "output_type": "stream",
     "text": [
      "40618 15 20 34468.0\n",
      "0.9971128354442719\n",
      "(229, 8) (229, 1)\n",
      "Max reward for 30774.4 20\n",
      "20\n",
      "npa 11.362555353190885\n"
     ]
    },
    {
     "name": "stderr",
     "output_type": "stream",
     "text": [
      "../sim/GELoadBalancer.py:90: DataConversionWarning: A column-vector y was passed when a 1d array was expected. Please change the shape of y to (n_samples,), for example using ravel().\n",
      "  self.model = self.model.fit(self.X, self.y) #make sure the hat the last period x is ignored\n"
     ]
    },
    {
     "name": "stdout",
     "output_type": "stream",
     "text": [
      "41040 1 20 35030.0\n",
      "0.995378732330656\n",
      "(230, 8) (230, 1)\n",
      "23\n",
      "npa 11.265449178644946\n"
     ]
    },
    {
     "name": "stderr",
     "output_type": "stream",
     "text": [
      "../sim/GELoadBalancer.py:90: DataConversionWarning: A column-vector y was passed when a 1d array was expected. Please change the shape of y to (n_samples,), for example using ravel().\n",
      "  self.model = self.model.fit(self.X, self.y) #make sure the hat the last period x is ignored\n"
     ]
    },
    {
     "name": "stdout",
     "output_type": "stream",
     "text": [
      "40342 0.0 23 33442.0\n",
      "0.9966006624495778\n",
      "(231, 8) (231, 1)\n",
      "Max reward for 30699.3 20\n",
      "20\n",
      "npa 11.304577042630667\n"
     ]
    },
    {
     "name": "stderr",
     "output_type": "stream",
     "text": [
      "../sim/GELoadBalancer.py:90: DataConversionWarning: A column-vector y was passed when a 1d array was expected. Please change the shape of y to (n_samples,), for example using ravel().\n",
      "  self.model = self.model.fit(self.X, self.y) #make sure the hat the last period x is ignored\n"
     ]
    },
    {
     "name": "stdout",
     "output_type": "stream",
     "text": [
      "40345 0.0 20 34345.0\n",
      "0.9973347192345653\n",
      "(232, 8) (232, 1)\n",
      "Max reward for 31242.8 20\n",
      "20\n",
      "npa 11.248539171542099\n"
     ]
    },
    {
     "name": "stderr",
     "output_type": "stream",
     "text": [
      "../sim/GELoadBalancer.py:90: DataConversionWarning: A column-vector y was passed when a 1d array was expected. Please change the shape of y to (n_samples,), for example using ravel().\n",
      "  self.model = self.model.fit(self.X, self.y) #make sure the hat the last period x is ignored\n"
     ]
    },
    {
     "name": "stdout",
     "output_type": "stream",
     "text": [
      "40686 0.0 20 34686.0\n",
      "0.9970876093973412\n",
      "(233, 8) (233, 1)\n",
      "14\n",
      "npa 11.26852156149113\n"
     ]
    },
    {
     "name": "stderr",
     "output_type": "stream",
     "text": [
      "../sim/GELoadBalancer.py:90: DataConversionWarning: A column-vector y was passed when a 1d array was expected. Please change the shape of y to (n_samples,), for example using ravel().\n",
      "  self.model = self.model.fit(self.X, self.y) #make sure the hat the last period x is ignored\n"
     ]
    },
    {
     "name": "stdout",
     "output_type": "stream",
     "text": [
      "40307 1499 14 21117.0\n",
      "0.9955486666647144\n",
      "(234, 8) (234, 1)\n",
      "Max reward for 31025.0 20\n",
      "20\n",
      "npa 11.165577301828929\n"
     ]
    },
    {
     "name": "stderr",
     "output_type": "stream",
     "text": [
      "../sim/GELoadBalancer.py:90: DataConversionWarning: A column-vector y was passed when a 1d array was expected. Please change the shape of y to (n_samples,), for example using ravel().\n",
      "  self.model = self.model.fit(self.X, self.y) #make sure the hat the last period x is ignored\n"
     ]
    },
    {
     "name": "stdout",
     "output_type": "stream",
     "text": [
      "40365 3 20 34335.0\n",
      "0.9960394464415109\n",
      "(235, 8) (235, 1)\n",
      "25\n",
      "npa 11.112870221324686\n"
     ]
    },
    {
     "name": "stderr",
     "output_type": "stream",
     "text": [
      "../sim/GELoadBalancer.py:90: DataConversionWarning: A column-vector y was passed when a 1d array was expected. Please change the shape of y to (n_samples,), for example using ravel().\n",
      "  self.model = self.model.fit(self.X, self.y) #make sure the hat the last period x is ignored\n"
     ]
    },
    {
     "name": "stdout",
     "output_type": "stream",
     "text": [
      "39833 0.0 25 32333.0\n",
      "0.9956796507800266\n",
      "(236, 8) (236, 1)\n",
      "20\n",
      "npa 11.051695656986103\n"
     ]
    },
    {
     "name": "stderr",
     "output_type": "stream",
     "text": [
      "../sim/GELoadBalancer.py:90: DataConversionWarning: A column-vector y was passed when a 1d array was expected. Please change the shape of y to (n_samples,), for example using ravel().\n",
      "  self.model = self.model.fit(self.X, self.y) #make sure the hat the last period x is ignored\n"
     ]
    },
    {
     "name": "stdout",
     "output_type": "stream",
     "text": [
      "40071 0.0 20 34071.0\n",
      "0.9954104720411672\n",
      "(237, 8) (237, 1)\n",
      "17\n",
      "npa 11.226415331160176\n"
     ]
    },
    {
     "name": "stderr",
     "output_type": "stream",
     "text": [
      "../sim/GELoadBalancer.py:90: DataConversionWarning: A column-vector y was passed when a 1d array was expected. Please change the shape of y to (n_samples,), for example using ravel().\n",
      "  self.model = self.model.fit(self.X, self.y) #make sure the hat the last period x is ignored\n"
     ]
    },
    {
     "name": "stdout",
     "output_type": "stream",
     "text": [
      "40636 258 17 32956.0\n",
      "0.995978526045908\n",
      "(238, 8) (238, 1)\n",
      "Max reward for 31408.4 20\n",
      "20\n",
      "npa 11.238986816879994\n"
     ]
    },
    {
     "name": "stderr",
     "output_type": "stream",
     "text": [
      "../sim/GELoadBalancer.py:90: DataConversionWarning: A column-vector y was passed when a 1d array was expected. Please change the shape of y to (n_samples,), for example using ravel().\n",
      "  self.model = self.model.fit(self.X, self.y) #make sure the hat the last period x is ignored\n"
     ]
    },
    {
     "name": "stdout",
     "output_type": "stream",
     "text": [
      "40306 5 20 34256.0\n",
      "0.9954238728822865\n",
      "(239, 8) (239, 1)\n",
      "1\n",
      "npa 11.059004341099541\n"
     ]
    },
    {
     "name": "stderr",
     "output_type": "stream",
     "text": [
      "../sim/GELoadBalancer.py:90: DataConversionWarning: A column-vector y was passed when a 1d array was expected. Please change the shape of y to (n_samples,), for example using ravel().\n",
      "  self.model = self.model.fit(self.X, self.y) #make sure the hat the last period x is ignored\n"
     ]
    },
    {
     "name": "stdout",
     "output_type": "stream",
     "text": [
      "39656 6576 1 -26404.0\n",
      "0.9943294253770057\n",
      "(240, 8) (240, 1)\n",
      "Max reward for 30631.8 20\n",
      "20\n",
      "npa 11.21105476091483\n"
     ]
    },
    {
     "name": "stderr",
     "output_type": "stream",
     "text": [
      "../sim/GELoadBalancer.py:90: DataConversionWarning: A column-vector y was passed when a 1d array was expected. Please change the shape of y to (n_samples,), for example using ravel().\n",
      "  self.model = self.model.fit(self.X, self.y) #make sure the hat the last period x is ignored\n"
     ]
    },
    {
     "name": "stdout",
     "output_type": "stream",
     "text": [
      "40360 0.0 20 34360.0\n",
      "0.996646840233152\n",
      "(241, 8) (241, 1)\n",
      "Max reward for 30677.2 20\n",
      "20\n",
      "npa 11.122341355320744\n"
     ]
    },
    {
     "name": "stderr",
     "output_type": "stream",
     "text": [
      "../sim/GELoadBalancer.py:90: DataConversionWarning: A column-vector y was passed when a 1d array was expected. Please change the shape of y to (n_samples,), for example using ravel().\n",
      "  self.model = self.model.fit(self.X, self.y) #make sure the hat the last period x is ignored\n"
     ]
    },
    {
     "name": "stdout",
     "output_type": "stream",
     "text": [
      "40086 0.0 20 34086.0\n",
      "0.9956182601976217\n",
      "(242, 8) (242, 1)\n",
      "Max reward for 31045.5 20\n",
      "20\n",
      "npa 10.961914992832018\n"
     ]
    },
    {
     "name": "stderr",
     "output_type": "stream",
     "text": [
      "../sim/GELoadBalancer.py:90: DataConversionWarning: A column-vector y was passed when a 1d array was expected. Please change the shape of y to (n_samples,), for example using ravel().\n",
      "  self.model = self.model.fit(self.X, self.y) #make sure the hat the last period x is ignored\n"
     ]
    },
    {
     "name": "stdout",
     "output_type": "stream",
     "text": [
      "39797 0.0 20 33797.0\n",
      "0.9963698704040601\n",
      "(243, 8) (243, 1)\n",
      "Max reward for 31099.8 20\n",
      "20\n",
      "npa 11.09478018681142\n"
     ]
    },
    {
     "name": "stderr",
     "output_type": "stream",
     "text": [
      "../sim/GELoadBalancer.py:90: DataConversionWarning: A column-vector y was passed when a 1d array was expected. Please change the shape of y to (n_samples,), for example using ravel().\n",
      "  self.model = self.model.fit(self.X, self.y) #make sure the hat the last period x is ignored\n"
     ]
    },
    {
     "name": "stdout",
     "output_type": "stream",
     "text": [
      "39844 0.0 20 33844.0\n",
      "0.9945525935662108\n",
      "(244, 8) (244, 1)\n",
      "Max reward for 31221.9 20\n",
      "20\n",
      "npa 11.093520075722196\n"
     ]
    },
    {
     "name": "stderr",
     "output_type": "stream",
     "text": [
      "../sim/GELoadBalancer.py:90: DataConversionWarning: A column-vector y was passed when a 1d array was expected. Please change the shape of y to (n_samples,), for example using ravel().\n",
      "  self.model = self.model.fit(self.X, self.y) #make sure the hat the last period x is ignored\n"
     ]
    },
    {
     "name": "stdout",
     "output_type": "stream",
     "text": [
      "40072 0.0 20 34072.0\n",
      "0.9964212016181123\n",
      "(245, 8) (245, 1)\n",
      "Max reward for 31073.6 20\n",
      "20\n",
      "npa 11.092950021816268\n"
     ]
    },
    {
     "name": "stderr",
     "output_type": "stream",
     "text": [
      "../sim/GELoadBalancer.py:90: DataConversionWarning: A column-vector y was passed when a 1d array was expected. Please change the shape of y to (n_samples,), for example using ravel().\n",
      "  self.model = self.model.fit(self.X, self.y) #make sure the hat the last period x is ignored\n"
     ]
    },
    {
     "name": "stdout",
     "output_type": "stream",
     "text": [
      "39575 0.0 20 33575.0\n",
      "0.9957584769455405\n",
      "(246, 8) (246, 1)\n",
      "Max reward for 31244.0 20\n",
      "20\n",
      "npa 11.067158538813217\n"
     ]
    },
    {
     "name": "stderr",
     "output_type": "stream",
     "text": [
      "../sim/GELoadBalancer.py:90: DataConversionWarning: A column-vector y was passed when a 1d array was expected. Please change the shape of y to (n_samples,), for example using ravel().\n",
      "  self.model = self.model.fit(self.X, self.y) #make sure the hat the last period x is ignored\n"
     ]
    },
    {
     "name": "stdout",
     "output_type": "stream",
     "text": [
      "39452 0.0 20 33452.0\n",
      "0.9965779905033882\n",
      "(247, 8) (247, 1)\n",
      "29\n",
      "npa 11.055503034535686\n"
     ]
    },
    {
     "name": "stderr",
     "output_type": "stream",
     "text": [
      "../sim/GELoadBalancer.py:90: DataConversionWarning: A column-vector y was passed when a 1d array was expected. Please change the shape of y to (n_samples,), for example using ravel().\n",
      "  self.model = self.model.fit(self.X, self.y) #make sure the hat the last period x is ignored\n"
     ]
    },
    {
     "name": "stdout",
     "output_type": "stream",
     "text": [
      "39826 0.0 29 31126.0\n",
      "0.9959553381322157\n",
      "(248, 8) (248, 1)\n",
      "3\n",
      "npa 11.165417687318456\n"
     ]
    },
    {
     "name": "stderr",
     "output_type": "stream",
     "text": [
      "../sim/GELoadBalancer.py:90: DataConversionWarning: A column-vector y was passed when a 1d array was expected. Please change the shape of y to (n_samples,), for example using ravel().\n",
      "  self.model = self.model.fit(self.X, self.y) #make sure the hat the last period x is ignored\n"
     ]
    },
    {
     "name": "stdout",
     "output_type": "stream",
     "text": [
      "39914 5133 3 -12316.0\n",
      "0.996559372903141\n",
      "(249, 8) (249, 1)\n",
      "25\n",
      "npa 11.148801722005397\n"
     ]
    },
    {
     "name": "stderr",
     "output_type": "stream",
     "text": [
      "../sim/GELoadBalancer.py:90: DataConversionWarning: A column-vector y was passed when a 1d array was expected. Please change the shape of y to (n_samples,), for example using ravel().\n",
      "  self.model = self.model.fit(self.X, self.y) #make sure the hat the last period x is ignored\n"
     ]
    },
    {
     "name": "stdout",
     "output_type": "stream",
     "text": [
      "39956 0.0 25 32456.0\n",
      "0.996368453302133\n",
      "(250, 8) (250, 1)\n",
      "Max reward for 30858.7 20\n",
      "20\n",
      "npa 11.114194201996998\n"
     ]
    },
    {
     "name": "stderr",
     "output_type": "stream",
     "text": [
      "../sim/GELoadBalancer.py:90: DataConversionWarning: A column-vector y was passed when a 1d array was expected. Please change the shape of y to (n_samples,), for example using ravel().\n",
      "  self.model = self.model.fit(self.X, self.y) #make sure the hat the last period x is ignored\n"
     ]
    },
    {
     "name": "stdout",
     "output_type": "stream",
     "text": [
      "40123 0.0 20 34123.0\n",
      "0.9965990824487259\n",
      "(251, 8) (251, 1)\n",
      "25\n",
      "npa 11.266155304156202\n"
     ]
    },
    {
     "name": "stderr",
     "output_type": "stream",
     "text": [
      "../sim/GELoadBalancer.py:90: DataConversionWarning: A column-vector y was passed when a 1d array was expected. Please change the shape of y to (n_samples,), for example using ravel().\n",
      "  self.model = self.model.fit(self.X, self.y) #make sure the hat the last period x is ignored\n"
     ]
    },
    {
     "name": "stdout",
     "output_type": "stream",
     "text": [
      "40421 0.0 25 32921.0\n",
      "0.9959021925147081\n",
      "(252, 8) (252, 1)\n",
      "Max reward for 31582.9 20\n",
      "20\n",
      "npa 11.358463528145167\n"
     ]
    },
    {
     "name": "stderr",
     "output_type": "stream",
     "text": [
      "../sim/GELoadBalancer.py:90: DataConversionWarning: A column-vector y was passed when a 1d array was expected. Please change the shape of y to (n_samples,), for example using ravel().\n",
      "  self.model = self.model.fit(self.X, self.y) #make sure the hat the last period x is ignored\n"
     ]
    },
    {
     "name": "stdout",
     "output_type": "stream",
     "text": [
      "40661 0.0 20 34661.0\n",
      "0.9964392316613572\n",
      "(253, 8) (253, 1)\n",
      "Max reward for 30818.5 19\n",
      "19\n",
      "npa 11.29795279726424\n"
     ]
    },
    {
     "name": "stderr",
     "output_type": "stream",
     "text": [
      "../sim/GELoadBalancer.py:90: DataConversionWarning: A column-vector y was passed when a 1d array was expected. Please change the shape of y to (n_samples,), for example using ravel().\n",
      "  self.model = self.model.fit(self.X, self.y) #make sure the hat the last period x is ignored\n"
     ]
    },
    {
     "name": "stdout",
     "output_type": "stream",
     "text": [
      "40793 6 19 35033.0\n",
      "0.9955522642534333\n",
      "(254, 8) (254, 1)\n",
      "Max reward for 31543.1 19\n",
      "19\n",
      "npa 11.082849803815368\n"
     ]
    },
    {
     "name": "stderr",
     "output_type": "stream",
     "text": [
      "../sim/GELoadBalancer.py:90: DataConversionWarning: A column-vector y was passed when a 1d array was expected. Please change the shape of y to (n_samples,), for example using ravel().\n",
      "  self.model = self.model.fit(self.X, self.y) #make sure the hat the last period x is ignored\n"
     ]
    },
    {
     "name": "stdout",
     "output_type": "stream",
     "text": [
      "39669 1 19 33959.0\n",
      "0.9964024511580243\n",
      "(255, 8) (255, 1)\n",
      "Max reward for 31251.1 20\n",
      "20\n",
      "npa 11.087461641750533\n"
     ]
    },
    {
     "name": "stderr",
     "output_type": "stream",
     "text": [
      "../sim/GELoadBalancer.py:90: DataConversionWarning: A column-vector y was passed when a 1d array was expected. Please change the shape of y to (n_samples,), for example using ravel().\n",
      "  self.model = self.model.fit(self.X, self.y) #make sure the hat the last period x is ignored\n"
     ]
    },
    {
     "name": "stdout",
     "output_type": "stream",
     "text": [
      "39767 0.0 20 33767.0\n",
      "0.9960478769612959\n",
      "(256, 8) (256, 1)\n",
      "Max reward for 31639.2 19\n",
      "19\n",
      "npa 11.138612928041262\n"
     ]
    },
    {
     "name": "stderr",
     "output_type": "stream",
     "text": [
      "../sim/GELoadBalancer.py:90: DataConversionWarning: A column-vector y was passed when a 1d array was expected. Please change the shape of y to (n_samples,), for example using ravel().\n",
      "  self.model = self.model.fit(self.X, self.y) #make sure the hat the last period x is ignored\n"
     ]
    },
    {
     "name": "stdout",
     "output_type": "stream",
     "text": [
      "40591 5 19 34841.0\n",
      "0.9949075382432225\n",
      "(257, 8) (257, 1)\n",
      "Max reward for 31557.4 19\n",
      "19\n",
      "npa 11.280848193158569\n"
     ]
    },
    {
     "name": "stderr",
     "output_type": "stream",
     "text": [
      "../sim/GELoadBalancer.py:90: DataConversionWarning: A column-vector y was passed when a 1d array was expected. Please change the shape of y to (n_samples,), for example using ravel().\n",
      "  self.model = self.model.fit(self.X, self.y) #make sure the hat the last period x is ignored\n"
     ]
    },
    {
     "name": "stdout",
     "output_type": "stream",
     "text": [
      "40489 1 19 34779.0\n",
      "0.9964049646588519\n",
      "(258, 8) (258, 1)\n",
      "3\n",
      "npa 11.13470011866595\n"
     ]
    },
    {
     "name": "stderr",
     "output_type": "stream",
     "text": [
      "../sim/GELoadBalancer.py:90: DataConversionWarning: A column-vector y was passed when a 1d array was expected. Please change the shape of y to (n_samples,), for example using ravel().\n",
      "  self.model = self.model.fit(self.X, self.y) #make sure the hat the last period x is ignored\n"
     ]
    },
    {
     "name": "stdout",
     "output_type": "stream",
     "text": [
      "39984 4822 3 -9136.0\n",
      "0.9966380565575623\n",
      "(259, 8) (259, 1)\n",
      "9\n",
      "npa 11.201402231970729\n"
     ]
    },
    {
     "name": "stderr",
     "output_type": "stream",
     "text": [
      "../sim/GELoadBalancer.py:90: DataConversionWarning: A column-vector y was passed when a 1d array was expected. Please change the shape of y to (n_samples,), for example using ravel().\n",
      "  self.model = self.model.fit(self.X, self.y) #make sure the hat the last period x is ignored\n"
     ]
    },
    {
     "name": "stdout",
     "output_type": "stream",
     "text": [
      "40420 2446 9 13260.0\n",
      "0.9967827487191621\n",
      "(260, 8) (260, 1)\n",
      "Max reward for 30946.9 19\n",
      "19\n",
      "npa 11.088269297039222\n"
     ]
    },
    {
     "name": "stderr",
     "output_type": "stream",
     "text": [
      "../sim/GELoadBalancer.py:90: DataConversionWarning: A column-vector y was passed when a 1d array was expected. Please change the shape of y to (n_samples,), for example using ravel().\n",
      "  self.model = self.model.fit(self.X, self.y) #make sure the hat the last period x is ignored\n"
     ]
    },
    {
     "name": "stdout",
     "output_type": "stream",
     "text": [
      "40148 12 19 34328.0\n",
      "0.9970188014073981\n",
      "(261, 8) (261, 1)\n",
      "12\n",
      "npa 11.174490567038037\n"
     ]
    },
    {
     "name": "stderr",
     "output_type": "stream",
     "text": [
      "../sim/GELoadBalancer.py:90: DataConversionWarning: A column-vector y was passed when a 1d array was expected. Please change the shape of y to (n_samples,), for example using ravel().\n",
      "  self.model = self.model.fit(self.X, self.y) #make sure the hat the last period x is ignored\n"
     ]
    },
    {
     "name": "stdout",
     "output_type": "stream",
     "text": [
      "40172 2187 12 14702.0\n",
      "0.9969495718668124\n",
      "(262, 8) (262, 1)\n"
     ]
    },
    {
     "name": "stderr",
     "output_type": "stream",
     "text": [
      "../sim/GELoadBalancer.py:90: DataConversionWarning: A column-vector y was passed when a 1d array was expected. Please change the shape of y to (n_samples,), for example using ravel().\n",
      "  self.model = self.model.fit(self.X, self.y) #make sure the hat the last period x is ignored\n"
     ]
    },
    {
     "name": "stdout",
     "output_type": "stream",
     "text": [
      "Max reward for 30802.3 19\n",
      "19\n",
      "npa 11.210671998093868\n",
      "40381 4 19 34641.0\n",
      "0.9964532975841636\n",
      "(263, 8) (263, 1)\n",
      "Max reward for 31456.0 19\n",
      "19\n",
      "npa 11.111465027732535\n"
     ]
    },
    {
     "name": "stderr",
     "output_type": "stream",
     "text": [
      "../sim/GELoadBalancer.py:90: DataConversionWarning: A column-vector y was passed when a 1d array was expected. Please change the shape of y to (n_samples,), for example using ravel().\n",
      "  self.model = self.model.fit(self.X, self.y) #make sure the hat the last period x is ignored\n"
     ]
    },
    {
     "name": "stdout",
     "output_type": "stream",
     "text": [
      "40102 0.0 19 34402.0\n",
      "0.9968079262458371\n",
      "(264, 8) (264, 1)\n",
      "Max reward for 31773.4 19\n",
      "19\n",
      "npa 10.950858572511368\n"
     ]
    },
    {
     "name": "stderr",
     "output_type": "stream",
     "text": [
      "../sim/GELoadBalancer.py:90: DataConversionWarning: A column-vector y was passed when a 1d array was expected. Please change the shape of y to (n_samples,), for example using ravel().\n",
      "  self.model = self.model.fit(self.X, self.y) #make sure the hat the last period x is ignored\n"
     ]
    },
    {
     "name": "stdout",
     "output_type": "stream",
     "text": [
      "39628 2 19 33908.0\n",
      "0.9968653314959759\n",
      "(265, 8) (265, 1)\n",
      "21\n",
      "npa 11.124355855944065\n"
     ]
    },
    {
     "name": "stderr",
     "output_type": "stream",
     "text": [
      "../sim/GELoadBalancer.py:90: DataConversionWarning: A column-vector y was passed when a 1d array was expected. Please change the shape of y to (n_samples,), for example using ravel().\n",
      "  self.model = self.model.fit(self.X, self.y) #make sure the hat the last period x is ignored\n"
     ]
    },
    {
     "name": "stdout",
     "output_type": "stream",
     "text": [
      "39891 0.0 21 33591.0\n",
      "0.9966519324034449\n",
      "(266, 8) (266, 1)\n",
      "Max reward for 31610.1 19\n",
      "19\n",
      "npa 11.109706248397062\n"
     ]
    },
    {
     "name": "stderr",
     "output_type": "stream",
     "text": [
      "../sim/GELoadBalancer.py:90: DataConversionWarning: A column-vector y was passed when a 1d array was expected. Please change the shape of y to (n_samples,), for example using ravel().\n",
      "  self.model = self.model.fit(self.X, self.y) #make sure the hat the last period x is ignored\n"
     ]
    },
    {
     "name": "stdout",
     "output_type": "stream",
     "text": [
      "39688 0.0 19 33988.0\n",
      "0.99677983687227\n",
      "(267, 8) (267, 1)\n",
      "Max reward for 30775.3 19\n",
      "19\n",
      "npa 11.035818890431836\n"
     ]
    },
    {
     "name": "stderr",
     "output_type": "stream",
     "text": [
      "../sim/GELoadBalancer.py:90: DataConversionWarning: A column-vector y was passed when a 1d array was expected. Please change the shape of y to (n_samples,), for example using ravel().\n",
      "  self.model = self.model.fit(self.X, self.y) #make sure the hat the last period x is ignored\n"
     ]
    },
    {
     "name": "stdout",
     "output_type": "stream",
     "text": [
      "39550 1 19 33840.0\n",
      "0.9947412102719273\n",
      "(268, 8) (268, 1)\n",
      "Max reward for 30949.8 19\n",
      "19\n",
      "npa 11.038655170458563\n"
     ]
    },
    {
     "name": "stderr",
     "output_type": "stream",
     "text": [
      "../sim/GELoadBalancer.py:90: DataConversionWarning: A column-vector y was passed when a 1d array was expected. Please change the shape of y to (n_samples,), for example using ravel().\n",
      "  self.model = self.model.fit(self.X, self.y) #make sure the hat the last period x is ignored\n"
     ]
    },
    {
     "name": "stdout",
     "output_type": "stream",
     "text": [
      "39531 3 19 33801.0\n",
      "0.996836467319148\n",
      "(269, 8) (269, 1)\n",
      "Max reward for 31139.3 19\n",
      "19\n",
      "npa 10.98541501059102\n"
     ]
    },
    {
     "name": "stderr",
     "output_type": "stream",
     "text": [
      "../sim/GELoadBalancer.py:90: DataConversionWarning: A column-vector y was passed when a 1d array was expected. Please change the shape of y to (n_samples,), for example using ravel().\n",
      "  self.model = self.model.fit(self.X, self.y) #make sure the hat the last period x is ignored\n"
     ]
    },
    {
     "name": "stdout",
     "output_type": "stream",
     "text": [
      "39379 0.0 19 33679.0\n",
      "0.9961567647002215\n",
      "(270, 8) (270, 1)\n",
      "Max reward for 30983.7 19\n",
      "19\n",
      "npa 10.959600870973542\n"
     ]
    },
    {
     "name": "stderr",
     "output_type": "stream",
     "text": [
      "../sim/GELoadBalancer.py:90: DataConversionWarning: A column-vector y was passed when a 1d array was expected. Please change the shape of y to (n_samples,), for example using ravel().\n",
      "  self.model = self.model.fit(self.X, self.y) #make sure the hat the last period x is ignored\n"
     ]
    },
    {
     "name": "stdout",
     "output_type": "stream",
     "text": [
      "39270 0.0 19 33570.0\n",
      "0.997189097261264\n",
      "(271, 8) (271, 1)\n",
      "Max reward for 30751.9 19\n",
      "19\n",
      "npa 10.934598480378193\n"
     ]
    },
    {
     "name": "stderr",
     "output_type": "stream",
     "text": [
      "../sim/GELoadBalancer.py:90: DataConversionWarning: A column-vector y was passed when a 1d array was expected. Please change the shape of y to (n_samples,), for example using ravel().\n",
      "  self.model = self.model.fit(self.X, self.y) #make sure the hat the last period x is ignored\n"
     ]
    },
    {
     "name": "stdout",
     "output_type": "stream",
     "text": [
      "39337 1 19 33627.0\n",
      "0.9965200491838625\n",
      "(272, 8) (272, 1)\n",
      "8\n",
      "npa 11.00494205408149\n"
     ]
    },
    {
     "name": "stderr",
     "output_type": "stream",
     "text": [
      "../sim/GELoadBalancer.py:90: DataConversionWarning: A column-vector y was passed when a 1d array was expected. Please change the shape of y to (n_samples,), for example using ravel().\n",
      "  self.model = self.model.fit(self.X, self.y) #make sure the hat the last period x is ignored\n"
     ]
    },
    {
     "name": "stdout",
     "output_type": "stream",
     "text": [
      "39319 1808 8 18839.0\n",
      "0.9971456262113912\n",
      "(273, 8) (273, 1)\n",
      "5\n",
      "npa 11.05059138545316\n"
     ]
    },
    {
     "name": "stderr",
     "output_type": "stream",
     "text": [
      "../sim/GELoadBalancer.py:90: DataConversionWarning: A column-vector y was passed when a 1d array was expected. Please change the shape of y to (n_samples,), for example using ravel().\n",
      "  self.model = self.model.fit(self.X, self.y) #make sure the hat the last period x is ignored\n"
     ]
    },
    {
     "name": "stdout",
     "output_type": "stream",
     "text": [
      "39707 3881 5 -603.0\n",
      "0.997178986780331\n",
      "(274, 8) (274, 1)\n",
      "Max reward for 31074.7 19\n",
      "19\n",
      "npa 10.841689959345159\n"
     ]
    },
    {
     "name": "stderr",
     "output_type": "stream",
     "text": [
      "../sim/GELoadBalancer.py:90: DataConversionWarning: A column-vector y was passed when a 1d array was expected. Please change the shape of y to (n_samples,), for example using ravel().\n",
      "  self.model = self.model.fit(self.X, self.y) #make sure the hat the last period x is ignored\n"
     ]
    },
    {
     "name": "stdout",
     "output_type": "stream",
     "text": [
      "38816 3 19 33086.0\n",
      "0.995369952454232\n",
      "(275, 8) (275, 1)\n",
      "Max reward for 30881.4 19\n",
      "19\n",
      "npa 10.773352445721832\n"
     ]
    },
    {
     "name": "stderr",
     "output_type": "stream",
     "text": [
      "../sim/GELoadBalancer.py:90: DataConversionWarning: A column-vector y was passed when a 1d array was expected. Please change the shape of y to (n_samples,), for example using ravel().\n",
      "  self.model = self.model.fit(self.X, self.y) #make sure the hat the last period x is ignored\n"
     ]
    },
    {
     "name": "stdout",
     "output_type": "stream",
     "text": [
      "38921 1 19 33211.0\n",
      "0.9961632085580368\n",
      "(276, 8) (276, 1)\n",
      "5\n",
      "npa 10.749316270773734\n"
     ]
    },
    {
     "name": "stderr",
     "output_type": "stream",
     "text": [
      "../sim/GELoadBalancer.py:90: DataConversionWarning: A column-vector y was passed when a 1d array was expected. Please change the shape of y to (n_samples,), for example using ravel().\n",
      "  self.model = self.model.fit(self.X, self.y) #make sure the hat the last period x is ignored\n"
     ]
    },
    {
     "name": "stdout",
     "output_type": "stream",
     "text": [
      "38581 3647 5 611.0\n",
      "0.9974334372992479\n",
      "(277, 8) (277, 1)\n",
      "Max reward for 30794.0 17\n",
      "17\n",
      "npa 10.863212565921785\n"
     ]
    },
    {
     "name": "stderr",
     "output_type": "stream",
     "text": [
      "../sim/GELoadBalancer.py:90: DataConversionWarning: A column-vector y was passed when a 1d array was expected. Please change the shape of y to (n_samples,), for example using ravel().\n",
      "  self.model = self.model.fit(self.X, self.y) #make sure the hat the last period x is ignored\n"
     ]
    },
    {
     "name": "stdout",
     "output_type": "stream",
     "text": [
      "38963 97 17 32893.0\n",
      "0.9965258447838122\n",
      "(278, 8) (278, 1)\n",
      "Max reward for 30718.9 19\n",
      "19\n",
      "npa 11.055292612372684\n"
     ]
    },
    {
     "name": "stderr",
     "output_type": "stream",
     "text": [
      "../sim/GELoadBalancer.py:90: DataConversionWarning: A column-vector y was passed when a 1d array was expected. Please change the shape of y to (n_samples,), for example using ravel().\n",
      "  self.model = self.model.fit(self.X, self.y) #make sure the hat the last period x is ignored\n"
     ]
    },
    {
     "name": "stdout",
     "output_type": "stream",
     "text": [
      "40096 0.0 19 34396.0\n",
      "0.996478964320123\n",
      "(279, 8) (279, 1)\n",
      "8\n",
      "npa 11.213283296238918\n"
     ]
    },
    {
     "name": "stderr",
     "output_type": "stream",
     "text": [
      "../sim/GELoadBalancer.py:90: DataConversionWarning: A column-vector y was passed when a 1d array was expected. Please change the shape of y to (n_samples,), for example using ravel().\n",
      "  self.model = self.model.fit(self.X, self.y) #make sure the hat the last period x is ignored\n"
     ]
    },
    {
     "name": "stdout",
     "output_type": "stream",
     "text": [
      "40504 2341 8 14694.0\n",
      "0.9971611749760819\n",
      "(280, 8) (280, 1)\n",
      "Max reward for 30957.0 19\n",
      "19\n",
      "npa 11.123665345398683\n"
     ]
    },
    {
     "name": "stderr",
     "output_type": "stream",
     "text": [
      "../sim/GELoadBalancer.py:90: DataConversionWarning: A column-vector y was passed when a 1d array was expected. Please change the shape of y to (n_samples,), for example using ravel().\n",
      "  self.model = self.model.fit(self.X, self.y) #make sure the hat the last period x is ignored\n"
     ]
    },
    {
     "name": "stdout",
     "output_type": "stream",
     "text": [
      "39707 9 19 33917.0\n",
      "0.9969673160410676\n",
      "(281, 8) (281, 1)\n",
      "20\n",
      "npa 11.159049949243169\n"
     ]
    },
    {
     "name": "stderr",
     "output_type": "stream",
     "text": [
      "../sim/GELoadBalancer.py:90: DataConversionWarning: A column-vector y was passed when a 1d array was expected. Please change the shape of y to (n_samples,), for example using ravel().\n",
      "  self.model = self.model.fit(self.X, self.y) #make sure the hat the last period x is ignored\n"
     ]
    },
    {
     "name": "stdout",
     "output_type": "stream",
     "text": [
      "40222 0.0 20 34222.0\n",
      "0.9959532934374029\n",
      "(282, 8) (282, 1)\n",
      "Max reward for 31207.3 19\n",
      "19\n",
      "npa 11.131121821030472\n"
     ]
    },
    {
     "name": "stderr",
     "output_type": "stream",
     "text": [
      "../sim/GELoadBalancer.py:90: DataConversionWarning: A column-vector y was passed when a 1d array was expected. Please change the shape of y to (n_samples,), for example using ravel().\n",
      "  self.model = self.model.fit(self.X, self.y) #make sure the hat the last period x is ignored\n"
     ]
    },
    {
     "name": "stdout",
     "output_type": "stream",
     "text": [
      "39807 0.0 19 34107.0\n",
      "0.9966881208856664\n",
      "(283, 8) (283, 1)\n",
      "Max reward for 31329.2 19\n",
      "19\n",
      "npa 10.863445826930255\n"
     ]
    },
    {
     "name": "stderr",
     "output_type": "stream",
     "text": [
      "../sim/GELoadBalancer.py:90: DataConversionWarning: A column-vector y was passed when a 1d array was expected. Please change the shape of y to (n_samples,), for example using ravel().\n",
      "  self.model = self.model.fit(self.X, self.y) #make sure the hat the last period x is ignored\n"
     ]
    },
    {
     "name": "stdout",
     "output_type": "stream",
     "text": [
      "39495 0.0 19 33795.0\n",
      "0.9972048685024558\n",
      "(284, 8) (284, 1)\n",
      "Max reward for 30951.6 19\n",
      "19\n",
      "npa 10.78824673127934\n"
     ]
    },
    {
     "name": "stderr",
     "output_type": "stream",
     "text": [
      "../sim/GELoadBalancer.py:90: DataConversionWarning: A column-vector y was passed when a 1d array was expected. Please change the shape of y to (n_samples,), for example using ravel().\n",
      "  self.model = self.model.fit(self.X, self.y) #make sure the hat the last period x is ignored\n"
     ]
    },
    {
     "name": "stdout",
     "output_type": "stream",
     "text": [
      "38766 0.0 19 33066.0\n",
      "0.9964595318375163\n",
      "(285, 8) (285, 1)\n",
      "Max reward for 30941.0 20\n",
      "20\n",
      "npa 10.761541482213499\n"
     ]
    },
    {
     "name": "stderr",
     "output_type": "stream",
     "text": [
      "../sim/GELoadBalancer.py:90: DataConversionWarning: A column-vector y was passed when a 1d array was expected. Please change the shape of y to (n_samples,), for example using ravel().\n",
      "  self.model = self.model.fit(self.X, self.y) #make sure the hat the last period x is ignored\n"
     ]
    },
    {
     "name": "stdout",
     "output_type": "stream",
     "text": [
      "39036 0.0 20 33036.0\n",
      "0.9973383509213922\n",
      "(286, 8) (286, 1)\n",
      "Max reward for 30916.2 19\n",
      "19\n",
      "npa 10.786111438410593\n"
     ]
    },
    {
     "name": "stderr",
     "output_type": "stream",
     "text": [
      "../sim/GELoadBalancer.py:90: DataConversionWarning: A column-vector y was passed when a 1d array was expected. Please change the shape of y to (n_samples,), for example using ravel().\n",
      "  self.model = self.model.fit(self.X, self.y) #make sure the hat the last period x is ignored\n"
     ]
    },
    {
     "name": "stdout",
     "output_type": "stream",
     "text": [
      "38748 0.0 19 33048.0\n",
      "0.9961889786055138\n",
      "(287, 8) (287, 1)\n",
      "Max reward for 31262.4 19\n",
      "19\n",
      "npa 10.821570490918825\n"
     ]
    },
    {
     "name": "stderr",
     "output_type": "stream",
     "text": [
      "../sim/GELoadBalancer.py:90: DataConversionWarning: A column-vector y was passed when a 1d array was expected. Please change the shape of y to (n_samples,), for example using ravel().\n",
      "  self.model = self.model.fit(self.X, self.y) #make sure the hat the last period x is ignored\n"
     ]
    },
    {
     "name": "stdout",
     "output_type": "stream",
     "text": [
      "38869 0.0 19 33169.0\n",
      "0.9962148716861529\n",
      "(288, 8) (288, 1)\n",
      "Max reward for 30941.0 20\n",
      "20\n",
      "npa 10.824956059906118\n"
     ]
    },
    {
     "name": "stderr",
     "output_type": "stream",
     "text": [
      "../sim/GELoadBalancer.py:90: DataConversionWarning: A column-vector y was passed when a 1d array was expected. Please change the shape of y to (n_samples,), for example using ravel().\n",
      "  self.model = self.model.fit(self.X, self.y) #make sure the hat the last period x is ignored\n"
     ]
    },
    {
     "name": "stdout",
     "output_type": "stream",
     "text": [
      "38848 0.0 20 32848.0\n",
      "0.9972655696942491\n",
      "(289, 8) (289, 1)\n",
      "5\n",
      "npa 10.724596191631202\n"
     ]
    },
    {
     "name": "stderr",
     "output_type": "stream",
     "text": [
      "../sim/GELoadBalancer.py:90: DataConversionWarning: A column-vector y was passed when a 1d array was expected. Please change the shape of y to (n_samples,), for example using ravel().\n",
      "  self.model = self.model.fit(self.X, self.y) #make sure the hat the last period x is ignored\n"
     ]
    },
    {
     "name": "stdout",
     "output_type": "stream",
     "text": [
      "38874 3401 5 3364.0\n",
      "0.9960053280933464\n",
      "(290, 8) (290, 1)\n",
      "Max reward for 30672.2 19\n",
      "19\n",
      "npa 10.821349481122745\n"
     ]
    },
    {
     "name": "stderr",
     "output_type": "stream",
     "text": [
      "../sim/GELoadBalancer.py:90: DataConversionWarning: A column-vector y was passed when a 1d array was expected. Please change the shape of y to (n_samples,), for example using ravel().\n",
      "  self.model = self.model.fit(self.X, self.y) #make sure the hat the last period x is ignored\n"
     ]
    },
    {
     "name": "stdout",
     "output_type": "stream",
     "text": [
      "39073 15 19 33223.0\n",
      "0.9966036834213619\n",
      "(291, 8) (291, 1)\n",
      "Max reward for 30494.0 19\n",
      "19\n",
      "npa 10.983546125495645\n"
     ]
    },
    {
     "name": "stderr",
     "output_type": "stream",
     "text": [
      "../sim/GELoadBalancer.py:90: DataConversionWarning: A column-vector y was passed when a 1d array was expected. Please change the shape of y to (n_samples,), for example using ravel().\n",
      "  self.model = self.model.fit(self.X, self.y) #make sure the hat the last period x is ignored\n"
     ]
    },
    {
     "name": "stdout",
     "output_type": "stream",
     "text": [
      "39904 2 19 34184.0\n",
      "0.9960536935420139\n",
      "(292, 8) (292, 1)\n",
      "Max reward for 30824.9 20\n",
      "20\n",
      "npa 10.997065788896954\n"
     ]
    },
    {
     "name": "stderr",
     "output_type": "stream",
     "text": [
      "../sim/GELoadBalancer.py:90: DataConversionWarning: A column-vector y was passed when a 1d array was expected. Please change the shape of y to (n_samples,), for example using ravel().\n",
      "  self.model = self.model.fit(self.X, self.y) #make sure the hat the last period x is ignored\n"
     ]
    },
    {
     "name": "stdout",
     "output_type": "stream",
     "text": [
      "39830 0.0 20 33830.0\n",
      "0.997363535538152\n",
      "(293, 8) (293, 1)\n",
      "8\n",
      "npa 11.060320625249082\n"
     ]
    },
    {
     "name": "stderr",
     "output_type": "stream",
     "text": [
      "../sim/GELoadBalancer.py:90: DataConversionWarning: A column-vector y was passed when a 1d array was expected. Please change the shape of y to (n_samples,), for example using ravel().\n",
      "  self.model = self.model.fit(self.X, self.y) #make sure the hat the last period x is ignored\n"
     ]
    },
    {
     "name": "stdout",
     "output_type": "stream",
     "text": [
      "39733 2016 8 17173.0\n",
      "0.9971651950673814\n",
      "(294, 8) (294, 1)\n",
      "Max reward for 30869.2 21\n",
      "21\n",
      "npa 11.008882718060864\n"
     ]
    },
    {
     "name": "stderr",
     "output_type": "stream",
     "text": [
      "../sim/GELoadBalancer.py:90: DataConversionWarning: A column-vector y was passed when a 1d array was expected. Please change the shape of y to (n_samples,), for example using ravel().\n",
      "  self.model = self.model.fit(self.X, self.y) #make sure the hat the last period x is ignored\n"
     ]
    },
    {
     "name": "stdout",
     "output_type": "stream",
     "text": [
      "39540 32 21 32920.0\n",
      "0.9971877229529214\n",
      "(295, 8) (295, 1)\n",
      "Max reward for 30735.8 19\n",
      "19\n",
      "npa 10.838669522180055\n"
     ]
    },
    {
     "name": "stderr",
     "output_type": "stream",
     "text": [
      "../sim/GELoadBalancer.py:90: DataConversionWarning: A column-vector y was passed when a 1d array was expected. Please change the shape of y to (n_samples,), for example using ravel().\n",
      "  self.model = self.model.fit(self.X, self.y) #make sure the hat the last period x is ignored\n"
     ]
    },
    {
     "name": "stdout",
     "output_type": "stream",
     "text": [
      "38953 0.0 19 33253.0\n",
      "0.9964055926896909\n",
      "(296, 8) (296, 1)\n",
      "Max reward for 30903.4 19\n",
      "19\n",
      "npa 10.688219244653668\n"
     ]
    },
    {
     "name": "stderr",
     "output_type": "stream",
     "text": [
      "../sim/GELoadBalancer.py:90: DataConversionWarning: A column-vector y was passed when a 1d array was expected. Please change the shape of y to (n_samples,), for example using ravel().\n",
      "  self.model = self.model.fit(self.X, self.y) #make sure the hat the last period x is ignored\n"
     ]
    },
    {
     "name": "stdout",
     "output_type": "stream",
     "text": [
      "38676 0.0 19 32976.0\n",
      "0.9960224213966941\n",
      "(297, 8) (297, 1)\n",
      "Max reward for 30463.8 19\n",
      "19\n",
      "npa 10.799114940197857\n"
     ]
    },
    {
     "name": "stderr",
     "output_type": "stream",
     "text": [
      "../sim/GELoadBalancer.py:90: DataConversionWarning: A column-vector y was passed when a 1d array was expected. Please change the shape of y to (n_samples,), for example using ravel().\n",
      "  self.model = self.model.fit(self.X, self.y) #make sure the hat the last period x is ignored\n"
     ]
    },
    {
     "name": "stdout",
     "output_type": "stream",
     "text": [
      "38769 0.0 19 33069.0\n",
      "0.9978750464863233\n",
      "(298, 8) (298, 1)\n",
      "Max reward for 31073.8 19\n",
      "19\n",
      "npa 10.773501235849576\n"
     ]
    },
    {
     "name": "stderr",
     "output_type": "stream",
     "text": [
      "../sim/GELoadBalancer.py:90: DataConversionWarning: A column-vector y was passed when a 1d array was expected. Please change the shape of y to (n_samples,), for example using ravel().\n",
      "  self.model = self.model.fit(self.X, self.y) #make sure the hat the last period x is ignored\n"
     ]
    },
    {
     "name": "stdout",
     "output_type": "stream",
     "text": [
      "38764 0.0 19 33064.0\n",
      "0.9971263771264026\n",
      "(299, 8) (299, 1)\n",
      "Max reward for 30730.8 19\n",
      "19\n",
      "npa 10.814818228217502\n"
     ]
    },
    {
     "name": "stderr",
     "output_type": "stream",
     "text": [
      "../sim/GELoadBalancer.py:90: DataConversionWarning: A column-vector y was passed when a 1d array was expected. Please change the shape of y to (n_samples,), for example using ravel().\n",
      "  self.model = self.model.fit(self.X, self.y) #make sure the hat the last period x is ignored\n"
     ]
    },
    {
     "name": "stdout",
     "output_type": "stream",
     "text": [
      "39056 0.0 19 33356.0\n",
      "0.9969322716804526\n",
      "(300, 8) (300, 1)\n",
      "Max reward for 31063.9 21\n",
      "21\n",
      "npa 10.811047087738576\n"
     ]
    },
    {
     "name": "stderr",
     "output_type": "stream",
     "text": [
      "../sim/GELoadBalancer.py:90: DataConversionWarning: A column-vector y was passed when a 1d array was expected. Please change the shape of y to (n_samples,), for example using ravel().\n",
      "  self.model = self.model.fit(self.X, self.y) #make sure the hat the last period x is ignored\n"
     ]
    },
    {
     "name": "stdout",
     "output_type": "stream",
     "text": [
      "38802 0.0 21 32502.0\n",
      "0.9966117053940988\n",
      "(301, 8) (301, 1)\n",
      "Max reward for 31041.5 20\n",
      "20\n",
      "npa 10.803938223446567\n"
     ]
    },
    {
     "name": "stderr",
     "output_type": "stream",
     "text": [
      "../sim/GELoadBalancer.py:90: DataConversionWarning: A column-vector y was passed when a 1d array was expected. Please change the shape of y to (n_samples,), for example using ravel().\n",
      "  self.model = self.model.fit(self.X, self.y) #make sure the hat the last period x is ignored\n"
     ]
    },
    {
     "name": "stdout",
     "output_type": "stream",
     "text": [
      "39115 0.0 20 33115.0\n",
      "0.9967111055011015\n",
      "(302, 8) (302, 1)\n",
      "Max reward for 30951.6 19\n",
      "19\n",
      "npa 10.836501240861121\n"
     ]
    },
    {
     "name": "stderr",
     "output_type": "stream",
     "text": [
      "../sim/GELoadBalancer.py:90: DataConversionWarning: A column-vector y was passed when a 1d array was expected. Please change the shape of y to (n_samples,), for example using ravel().\n",
      "  self.model = self.model.fit(self.X, self.y) #make sure the hat the last period x is ignored\n"
     ]
    },
    {
     "name": "stdout",
     "output_type": "stream",
     "text": [
      "38850 0.0 19 33150.0\n",
      "0.9972402067338074\n",
      "(303, 8) (303, 1)\n",
      "8\n",
      "npa 10.626476630044007\n"
     ]
    },
    {
     "name": "stderr",
     "output_type": "stream",
     "text": [
      "../sim/GELoadBalancer.py:90: DataConversionWarning: A column-vector y was passed when a 1d array was expected. Please change the shape of y to (n_samples,), for example using ravel().\n",
      "  self.model = self.model.fit(self.X, self.y) #make sure the hat the last period x is ignored\n"
     ]
    },
    {
     "name": "stdout",
     "output_type": "stream",
     "text": [
      "38141 1948 8 16261.0\n",
      "0.9974201638894886\n",
      "(304, 8) (304, 1)\n",
      "Max reward for 29428.5 17\n",
      "17\n",
      "npa 10.619200517670379\n"
     ]
    },
    {
     "name": "stderr",
     "output_type": "stream",
     "text": [
      "../sim/GELoadBalancer.py:90: DataConversionWarning: A column-vector y was passed when a 1d array was expected. Please change the shape of y to (n_samples,), for example using ravel().\n",
      "  self.model = self.model.fit(self.X, self.y) #make sure the hat the last period x is ignored\n"
     ]
    },
    {
     "name": "stdout",
     "output_type": "stream",
     "text": [
      "37808 14 17 32568.0\n",
      "0.9973943455887686\n",
      "(305, 8) (305, 1)\n",
      "Max reward for 29673.8 18\n",
      "18\n",
      "npa 10.577733966372435\n"
     ]
    },
    {
     "name": "stderr",
     "output_type": "stream",
     "text": [
      "../sim/GELoadBalancer.py:90: DataConversionWarning: A column-vector y was passed when a 1d array was expected. Please change the shape of y to (n_samples,), for example using ravel().\n",
      "  self.model = self.model.fit(self.X, self.y) #make sure the hat the last period x is ignored\n"
     ]
    },
    {
     "name": "stdout",
     "output_type": "stream",
     "text": [
      "37960 5 18 32510.0\n",
      "0.9966831414596468\n",
      "(306, 8) (306, 1)\n",
      "Max reward for 29428.1 17\n",
      "17\n",
      "npa 10.38801530817367\n"
     ]
    },
    {
     "name": "stderr",
     "output_type": "stream",
     "text": [
      "../sim/GELoadBalancer.py:90: DataConversionWarning: A column-vector y was passed when a 1d array was expected. Please change the shape of y to (n_samples,), for example using ravel().\n",
      "  self.model = self.model.fit(self.X, self.y) #make sure the hat the last period x is ignored\n"
     ]
    },
    {
     "name": "stdout",
     "output_type": "stream",
     "text": [
      "37447 3 17 32317.0\n",
      "0.9956448268582158\n",
      "(307, 8) (307, 1)\n",
      "19\n",
      "npa 10.366250458372857\n"
     ]
    },
    {
     "name": "stderr",
     "output_type": "stream",
     "text": [
      "../sim/GELoadBalancer.py:90: DataConversionWarning: A column-vector y was passed when a 1d array was expected. Please change the shape of y to (n_samples,), for example using ravel().\n",
      "  self.model = self.model.fit(self.X, self.y) #make sure the hat the last period x is ignored\n"
     ]
    },
    {
     "name": "stdout",
     "output_type": "stream",
     "text": [
      "37215 0.0 19 31515.0\n",
      "0.9973177680887252\n",
      "(308, 8) (308, 1)\n",
      "Max reward for 29460.5 17\n",
      "17\n",
      "npa 10.319527302042745\n"
     ]
    },
    {
     "name": "stderr",
     "output_type": "stream",
     "text": [
      "../sim/GELoadBalancer.py:90: DataConversionWarning: A column-vector y was passed when a 1d array was expected. Please change the shape of y to (n_samples,), for example using ravel().\n",
      "  self.model = self.model.fit(self.X, self.y) #make sure the hat the last period x is ignored\n"
     ]
    },
    {
     "name": "stdout",
     "output_type": "stream",
     "text": [
      "37048 19 17 31758.0\n",
      "0.9969705182841161\n",
      "(309, 8) (309, 1)\n",
      "Max reward for 29023.9 17\n",
      "17\n",
      "npa 10.377640429194088\n"
     ]
    },
    {
     "name": "stderr",
     "output_type": "stream",
     "text": [
      "../sim/GELoadBalancer.py:90: DataConversionWarning: A column-vector y was passed when a 1d array was expected. Please change the shape of y to (n_samples,), for example using ravel().\n",
      "  self.model = self.model.fit(self.X, self.y) #make sure the hat the last period x is ignored\n"
     ]
    },
    {
     "name": "stdout",
     "output_type": "stream",
     "text": [
      "37485 6 17 32325.0\n",
      "0.9967263410835996\n",
      "(310, 8) (310, 1)\n",
      "Max reward for 29335.7 17\n",
      "17\n",
      "npa 10.64620346212982\n"
     ]
    },
    {
     "name": "stderr",
     "output_type": "stream",
     "text": [
      "../sim/GELoadBalancer.py:90: DataConversionWarning: A column-vector y was passed when a 1d array was expected. Please change the shape of y to (n_samples,), for example using ravel().\n",
      "  self.model = self.model.fit(self.X, self.y) #make sure the hat the last period x is ignored\n"
     ]
    },
    {
     "name": "stdout",
     "output_type": "stream",
     "text": [
      "38320 50 17 32720.0\n",
      "0.9972771684384603\n",
      "(311, 8) (311, 1)\n",
      "Max reward for 30119.8 17\n",
      "17\n",
      "npa 10.608682185023246\n"
     ]
    },
    {
     "name": "stderr",
     "output_type": "stream",
     "text": [
      "../sim/GELoadBalancer.py:90: DataConversionWarning: A column-vector y was passed when a 1d array was expected. Please change the shape of y to (n_samples,), for example using ravel().\n",
      "  self.model = self.model.fit(self.X, self.y) #make sure the hat the last period x is ignored\n"
     ]
    },
    {
     "name": "stdout",
     "output_type": "stream",
     "text": [
      "38190 32 17 32770.0\n",
      "0.9977059776380264\n",
      "(312, 8) (312, 1)\n",
      "30\n",
      "npa 10.77632810175932\n"
     ]
    },
    {
     "name": "stderr",
     "output_type": "stream",
     "text": [
      "../sim/GELoadBalancer.py:90: DataConversionWarning: A column-vector y was passed when a 1d array was expected. Please change the shape of y to (n_samples,), for example using ravel().\n",
      "  self.model = self.model.fit(self.X, self.y) #make sure the hat the last period x is ignored\n"
     ]
    },
    {
     "name": "stdout",
     "output_type": "stream",
     "text": [
      "38950 0.0 30 29950.0\n",
      "0.9976594376953464\n",
      "(313, 8) (313, 1)\n",
      "Max reward for 30908.1 19\n",
      "19\n",
      "npa 10.836160003423048\n"
     ]
    },
    {
     "name": "stderr",
     "output_type": "stream",
     "text": [
      "../sim/GELoadBalancer.py:90: DataConversionWarning: A column-vector y was passed when a 1d array was expected. Please change the shape of y to (n_samples,), for example using ravel().\n",
      "  self.model = self.model.fit(self.X, self.y) #make sure the hat the last period x is ignored\n"
     ]
    },
    {
     "name": "stdout",
     "output_type": "stream",
     "text": [
      "38808 0.0 19 33108.0\n",
      "0.9965242029026424\n",
      "(314, 8) (314, 1)\n",
      "Max reward for 31068.3 19\n",
      "19\n",
      "npa 10.842119152621848\n"
     ]
    },
    {
     "name": "stderr",
     "output_type": "stream",
     "text": [
      "../sim/GELoadBalancer.py:90: DataConversionWarning: A column-vector y was passed when a 1d array was expected. Please change the shape of y to (n_samples,), for example using ravel().\n",
      "  self.model = self.model.fit(self.X, self.y) #make sure the hat the last period x is ignored\n"
     ]
    },
    {
     "name": "stdout",
     "output_type": "stream",
     "text": [
      "39357 0.0 19 33657.0\n",
      "0.9969990731720051\n",
      "(315, 8) (315, 1)\n",
      "Max reward for 31487.0 19\n",
      "19\n",
      "npa 10.986388787029902\n"
     ]
    },
    {
     "name": "stderr",
     "output_type": "stream",
     "text": [
      "../sim/GELoadBalancer.py:90: DataConversionWarning: A column-vector y was passed when a 1d array was expected. Please change the shape of y to (n_samples,), for example using ravel().\n",
      "  self.model = self.model.fit(self.X, self.y) #make sure the hat the last period x is ignored\n"
     ]
    },
    {
     "name": "stdout",
     "output_type": "stream",
     "text": [
      "39663 8 19 33883.0\n",
      "0.9975144249708949\n",
      "(316, 8) (316, 1)\n",
      "9\n",
      "npa 11.040255591112766\n"
     ]
    },
    {
     "name": "stderr",
     "output_type": "stream",
     "text": [
      "../sim/GELoadBalancer.py:90: DataConversionWarning: A column-vector y was passed when a 1d array was expected. Please change the shape of y to (n_samples,), for example using ravel().\n",
      "  self.model = self.model.fit(self.X, self.y) #make sure the hat the last period x is ignored\n"
     ]
    },
    {
     "name": "stdout",
     "output_type": "stream",
     "text": [
      "39657 2485 9 12107.0\n",
      "0.9967706751288283\n",
      "(317, 8) (317, 1)\n",
      "Max reward for 30446.2 20\n",
      "20\n",
      "npa 11.00243882758675\n"
     ]
    },
    {
     "name": "stderr",
     "output_type": "stream",
     "text": [
      "../sim/GELoadBalancer.py:90: DataConversionWarning: A column-vector y was passed when a 1d array was expected. Please change the shape of y to (n_samples,), for example using ravel().\n",
      "  self.model = self.model.fit(self.X, self.y) #make sure the hat the last period x is ignored\n"
     ]
    },
    {
     "name": "stdout",
     "output_type": "stream",
     "text": [
      "39641 0.0 20 33641.0\n",
      "0.9965931128200821\n",
      "(318, 8) (318, 1)\n",
      "Max reward for 30624.8 19\n",
      "19\n",
      "npa 11.144844198951558\n"
     ]
    },
    {
     "name": "stderr",
     "output_type": "stream",
     "text": [
      "../sim/GELoadBalancer.py:90: DataConversionWarning: A column-vector y was passed when a 1d array was expected. Please change the shape of y to (n_samples,), for example using ravel().\n",
      "  self.model = self.model.fit(self.X, self.y) #make sure the hat the last period x is ignored\n"
     ]
    },
    {
     "name": "stdout",
     "output_type": "stream",
     "text": [
      "39991 0.0 19 34291.0\n",
      "0.997343336370501\n",
      "(319, 8) (319, 1)\n",
      "Max reward for 30678.9 19\n",
      "19\n",
      "npa 10.946037454323918\n"
     ]
    },
    {
     "name": "stderr",
     "output_type": "stream",
     "text": [
      "../sim/GELoadBalancer.py:90: DataConversionWarning: A column-vector y was passed when a 1d array was expected. Please change the shape of y to (n_samples,), for example using ravel().\n",
      "  self.model = self.model.fit(self.X, self.y) #make sure the hat the last period x is ignored\n"
     ]
    },
    {
     "name": "stdout",
     "output_type": "stream",
     "text": [
      "39430 0.0 19 33730.0\n",
      "0.9971082666291282\n",
      "(320, 8) (320, 1)\n",
      "Max reward for 30994.3 19\n",
      "19\n",
      "npa 11.09701789123932\n"
     ]
    },
    {
     "name": "stderr",
     "output_type": "stream",
     "text": [
      "../sim/GELoadBalancer.py:90: DataConversionWarning: A column-vector y was passed when a 1d array was expected. Please change the shape of y to (n_samples,), for example using ravel().\n",
      "  self.model = self.model.fit(self.X, self.y) #make sure the hat the last period x is ignored\n"
     ]
    },
    {
     "name": "stdout",
     "output_type": "stream",
     "text": [
      "39794 0.0 19 34094.0\n",
      "0.9962320987780947\n",
      "(321, 8) (321, 1)\n",
      "12\n",
      "npa 11.039951991496915\n"
     ]
    },
    {
     "name": "stderr",
     "output_type": "stream",
     "text": [
      "../sim/GELoadBalancer.py:90: DataConversionWarning: A column-vector y was passed when a 1d array was expected. Please change the shape of y to (n_samples,), for example using ravel().\n",
      "  self.model = self.model.fit(self.X, self.y) #make sure the hat the last period x is ignored\n"
     ]
    },
    {
     "name": "stdout",
     "output_type": "stream",
     "text": [
      "40028 2223 12 14198.0\n",
      "0.9975627058549049\n",
      "(322, 8) (322, 1)\n",
      "Max reward for 30965.8 19\n",
      "19\n",
      "npa 11.341445267818212\n"
     ]
    },
    {
     "name": "stderr",
     "output_type": "stream",
     "text": [
      "../sim/GELoadBalancer.py:90: DataConversionWarning: A column-vector y was passed when a 1d array was expected. Please change the shape of y to (n_samples,), for example using ravel().\n",
      "  self.model = self.model.fit(self.X, self.y) #make sure the hat the last period x is ignored\n"
     ]
    },
    {
     "name": "stdout",
     "output_type": "stream",
     "text": [
      "40888 10 19 35088.0\n",
      "0.9965840865230143\n",
      "(323, 8) (323, 1)\n",
      "Max reward for 31301.8 20\n",
      "20\n",
      "npa 11.401201345463436\n"
     ]
    },
    {
     "name": "stderr",
     "output_type": "stream",
     "text": [
      "../sim/GELoadBalancer.py:90: DataConversionWarning: A column-vector y was passed when a 1d array was expected. Please change the shape of y to (n_samples,), for example using ravel().\n",
      "  self.model = self.model.fit(self.X, self.y) #make sure the hat the last period x is ignored\n"
     ]
    },
    {
     "name": "stdout",
     "output_type": "stream",
     "text": [
      "40888 0.0 20 34888.0\n",
      "0.9974981788576652\n",
      "(324, 8) (324, 1)\n",
      "Max reward for 31454.2 19\n",
      "19\n",
      "npa 11.41007441895188\n"
     ]
    },
    {
     "name": "stderr",
     "output_type": "stream",
     "text": [
      "../sim/GELoadBalancer.py:90: DataConversionWarning: A column-vector y was passed when a 1d array was expected. Please change the shape of y to (n_samples,), for example using ravel().\n",
      "  self.model = self.model.fit(self.X, self.y) #make sure the hat the last period x is ignored\n"
     ]
    },
    {
     "name": "stdout",
     "output_type": "stream",
     "text": [
      "40885 5 19 35135.0\n",
      "0.9978690401011143\n",
      "(325, 8) (325, 1)\n",
      "Max reward for 31418.8 19\n",
      "19\n",
      "npa 11.286989844656585\n"
     ]
    },
    {
     "name": "stderr",
     "output_type": "stream",
     "text": [
      "../sim/GELoadBalancer.py:90: DataConversionWarning: A column-vector y was passed when a 1d array was expected. Please change the shape of y to (n_samples,), for example using ravel().\n",
      "  self.model = self.model.fit(self.X, self.y) #make sure the hat the last period x is ignored\n"
     ]
    },
    {
     "name": "stdout",
     "output_type": "stream",
     "text": [
      "40330 2 19 34610.0\n",
      "0.9977710240515987\n",
      "(326, 8) (326, 1)\n",
      "29\n",
      "npa 10.983869841776444\n"
     ]
    },
    {
     "name": "stderr",
     "output_type": "stream",
     "text": [
      "../sim/GELoadBalancer.py:90: DataConversionWarning: A column-vector y was passed when a 1d array was expected. Please change the shape of y to (n_samples,), for example using ravel().\n",
      "  self.model = self.model.fit(self.X, self.y) #make sure the hat the last period x is ignored\n"
     ]
    },
    {
     "name": "stdout",
     "output_type": "stream",
     "text": [
      "39357 0.0 29 30657.0\n",
      "0.9972707348172906\n",
      "(327, 8) (327, 1)\n",
      "Max reward for 30889.2 19\n",
      "19\n",
      "npa 10.973627021757881\n"
     ]
    },
    {
     "name": "stderr",
     "output_type": "stream",
     "text": [
      "../sim/GELoadBalancer.py:90: DataConversionWarning: A column-vector y was passed when a 1d array was expected. Please change the shape of y to (n_samples,), for example using ravel().\n",
      "  self.model = self.model.fit(self.X, self.y) #make sure the hat the last period x is ignored\n"
     ]
    },
    {
     "name": "stdout",
     "output_type": "stream",
     "text": [
      "39571 1 19 33861.0\n",
      "0.9968074271536729\n",
      "(328, 8) (328, 1)\n",
      "Max reward for 30949.2 20\n",
      "20\n",
      "npa 11.050380076139696\n"
     ]
    },
    {
     "name": "stderr",
     "output_type": "stream",
     "text": [
      "../sim/GELoadBalancer.py:90: DataConversionWarning: A column-vector y was passed when a 1d array was expected. Please change the shape of y to (n_samples,), for example using ravel().\n",
      "  self.model = self.model.fit(self.X, self.y) #make sure the hat the last period x is ignored\n"
     ]
    },
    {
     "name": "stdout",
     "output_type": "stream",
     "text": [
      "40085 0.0 20 34085.0\n",
      "0.9969560456272719\n",
      "(329, 8) (329, 1)\n",
      "Max reward for 30715.6 19\n",
      "19\n",
      "npa 11.162114468032868\n"
     ]
    },
    {
     "name": "stderr",
     "output_type": "stream",
     "text": [
      "../sim/GELoadBalancer.py:90: DataConversionWarning: A column-vector y was passed when a 1d array was expected. Please change the shape of y to (n_samples,), for example using ravel().\n",
      "  self.model = self.model.fit(self.X, self.y) #make sure the hat the last period x is ignored\n"
     ]
    },
    {
     "name": "stdout",
     "output_type": "stream",
     "text": [
      "40188 2 19 34468.0\n",
      "0.9964379533287936\n",
      "(330, 8) (330, 1)\n",
      "Max reward for 31211.0 19\n",
      "19\n",
      "npa 11.328597748765542\n"
     ]
    },
    {
     "name": "stderr",
     "output_type": "stream",
     "text": [
      "../sim/GELoadBalancer.py:90: DataConversionWarning: A column-vector y was passed when a 1d array was expected. Please change the shape of y to (n_samples,), for example using ravel().\n",
      "  self.model = self.model.fit(self.X, self.y) #make sure the hat the last period x is ignored\n"
     ]
    },
    {
     "name": "stdout",
     "output_type": "stream",
     "text": [
      "40894 0.0 19 35194.0\n",
      "0.9973142641780962\n",
      "(331, 8) (331, 1)\n",
      "Max reward for 31012.0 19\n",
      "19\n",
      "npa 11.377263183011845\n"
     ]
    },
    {
     "name": "stderr",
     "output_type": "stream",
     "text": [
      "../sim/GELoadBalancer.py:90: DataConversionWarning: A column-vector y was passed when a 1d array was expected. Please change the shape of y to (n_samples,), for example using ravel().\n",
      "  self.model = self.model.fit(self.X, self.y) #make sure the hat the last period x is ignored\n"
     ]
    },
    {
     "name": "stdout",
     "output_type": "stream",
     "text": [
      "40795 5 19 35045.0\n",
      "0.9969377975228259\n",
      "(332, 8) (332, 1)\n"
     ]
    },
    {
     "name": "stderr",
     "output_type": "stream",
     "text": [
      "../sim/GELoadBalancer.py:90: DataConversionWarning: A column-vector y was passed when a 1d array was expected. Please change the shape of y to (n_samples,), for example using ravel().\n",
      "  self.model = self.model.fit(self.X, self.y) #make sure the hat the last period x is ignored\n"
     ]
    },
    {
     "name": "stdout",
     "output_type": "stream",
     "text": [
      "Max reward for 30583.0 19\n",
      "19\n",
      "npa 11.315960084109575\n",
      "40678 4 19 34938.0\n",
      "0.9966106050007069\n",
      "(333, 8) (333, 1)\n",
      "Max reward for 30688.6 19\n",
      "19\n",
      "npa 11.495434204569882\n"
     ]
    },
    {
     "name": "stderr",
     "output_type": "stream",
     "text": [
      "../sim/GELoadBalancer.py:90: DataConversionWarning: A column-vector y was passed when a 1d array was expected. Please change the shape of y to (n_samples,), for example using ravel().\n",
      "  self.model = self.model.fit(self.X, self.y) #make sure the hat the last period x is ignored\n"
     ]
    },
    {
     "name": "stdout",
     "output_type": "stream",
     "text": [
      "41264 5 19 35514.0\n",
      "0.9970006775273081\n",
      "(334, 8) (334, 1)\n",
      "Max reward for 31035.4 19\n",
      "19\n",
      "npa 11.574653161080263\n"
     ]
    },
    {
     "name": "stderr",
     "output_type": "stream",
     "text": [
      "../sim/GELoadBalancer.py:90: DataConversionWarning: A column-vector y was passed when a 1d array was expected. Please change the shape of y to (n_samples,), for example using ravel().\n",
      "  self.model = self.model.fit(self.X, self.y) #make sure the hat the last period x is ignored\n"
     ]
    },
    {
     "name": "stdout",
     "output_type": "stream",
     "text": [
      "41661 19 19 35771.0\n",
      "0.9971683040534478\n",
      "(335, 8) (335, 1)\n",
      "Max reward for 30918.9 20\n",
      "20\n",
      "npa 11.791985593436161\n"
     ]
    },
    {
     "name": "stderr",
     "output_type": "stream",
     "text": [
      "../sim/GELoadBalancer.py:90: DataConversionWarning: A column-vector y was passed when a 1d array was expected. Please change the shape of y to (n_samples,), for example using ravel().\n",
      "  self.model = self.model.fit(self.X, self.y) #make sure the hat the last period x is ignored\n"
     ]
    },
    {
     "name": "stdout",
     "output_type": "stream",
     "text": [
      "42359 7 20 36289.0\n",
      "0.9969562925888211\n",
      "(336, 8) (336, 1)\n",
      "14\n",
      "npa 11.750561951713822\n"
     ]
    },
    {
     "name": "stderr",
     "output_type": "stream",
     "text": [
      "../sim/GELoadBalancer.py:90: DataConversionWarning: A column-vector y was passed when a 1d array was expected. Please change the shape of y to (n_samples,), for example using ravel().\n",
      "  self.model = self.model.fit(self.X, self.y) #make sure the hat the last period x is ignored\n"
     ]
    },
    {
     "name": "stdout",
     "output_type": "stream",
     "text": [
      "42460 1812 14 20140.0\n",
      "0.9975225832338425\n",
      "(337, 8) (337, 1)\n",
      "Max reward for 30686.2 19\n",
      "19\n",
      "npa 11.93591925024577\n"
     ]
    },
    {
     "name": "stderr",
     "output_type": "stream",
     "text": [
      "../sim/GELoadBalancer.py:90: DataConversionWarning: A column-vector y was passed when a 1d array was expected. Please change the shape of y to (n_samples,), for example using ravel().\n",
      "  self.model = self.model.fit(self.X, self.y) #make sure the hat the last period x is ignored\n"
     ]
    },
    {
     "name": "stdout",
     "output_type": "stream",
     "text": [
      "42980 66 19 36620.0\n",
      "0.9964323985856367\n",
      "(338, 8) (338, 1)\n",
      "Max reward for 30657.3 19\n",
      "19\n",
      "npa 12.014179281240505\n"
     ]
    },
    {
     "name": "stderr",
     "output_type": "stream",
     "text": [
      "../sim/GELoadBalancer.py:90: DataConversionWarning: A column-vector y was passed when a 1d array was expected. Please change the shape of y to (n_samples,), for example using ravel().\n",
      "  self.model = self.model.fit(self.X, self.y) #make sure the hat the last period x is ignored\n"
     ]
    },
    {
     "name": "stdout",
     "output_type": "stream",
     "text": [
      "43284 38 19 37204.0\n",
      "0.9966739545116393\n",
      "(339, 8) (339, 1)\n",
      "Max reward for 32087.1 19\n",
      "19\n",
      "npa 12.004739230890564\n"
     ]
    },
    {
     "name": "stderr",
     "output_type": "stream",
     "text": [
      "../sim/GELoadBalancer.py:90: DataConversionWarning: A column-vector y was passed when a 1d array was expected. Please change the shape of y to (n_samples,), for example using ravel().\n",
      "  self.model = self.model.fit(self.X, self.y) #make sure the hat the last period x is ignored\n"
     ]
    },
    {
     "name": "stdout",
     "output_type": "stream",
     "text": [
      "42778 42 19 36658.0\n",
      "0.9966610184370399\n",
      "(340, 8) (340, 1)\n",
      "Max reward for 33330.7 17\n",
      "17\n",
      "npa 11.75223212132194\n"
     ]
    },
    {
     "name": "stderr",
     "output_type": "stream",
     "text": [
      "../sim/GELoadBalancer.py:90: DataConversionWarning: A column-vector y was passed when a 1d array was expected. Please change the shape of y to (n_samples,), for example using ravel().\n",
      "  self.model = self.model.fit(self.X, self.y) #make sure the hat the last period x is ignored\n"
     ]
    },
    {
     "name": "stdout",
     "output_type": "stream",
     "text": [
      "42204 574 17 31364.0\n",
      "0.9969064792971903\n",
      "(341, 8) (341, 1)\n",
      "Max reward for 33794.7 19\n",
      "19\n",
      "npa 11.737002883577679\n"
     ]
    },
    {
     "name": "stderr",
     "output_type": "stream",
     "text": [
      "../sim/GELoadBalancer.py:90: DataConversionWarning: A column-vector y was passed when a 1d array was expected. Please change the shape of y to (n_samples,), for example using ravel().\n",
      "  self.model = self.model.fit(self.X, self.y) #make sure the hat the last period x is ignored\n"
     ]
    },
    {
     "name": "stdout",
     "output_type": "stream",
     "text": [
      "42121 32 19 36101.0\n",
      "0.9970056697822433\n",
      "(342, 8) (342, 1)\n",
      "Max reward for 31212.2 20\n",
      "20\n",
      "npa 11.669520539978487\n"
     ]
    },
    {
     "name": "stderr",
     "output_type": "stream",
     "text": [
      "../sim/GELoadBalancer.py:90: DataConversionWarning: A column-vector y was passed when a 1d array was expected. Please change the shape of y to (n_samples,), for example using ravel().\n",
      "  self.model = self.model.fit(self.X, self.y) #make sure the hat the last period x is ignored\n"
     ]
    },
    {
     "name": "stdout",
     "output_type": "stream",
     "text": [
      "41941 0.0 20 35941.0\n",
      "0.9969894461429424\n",
      "(343, 8) (343, 1)\n",
      "Max reward for 33176.9 19\n",
      "19\n",
      "npa 11.678932551613094\n"
     ]
    },
    {
     "name": "stderr",
     "output_type": "stream",
     "text": [
      "../sim/GELoadBalancer.py:90: DataConversionWarning: A column-vector y was passed when a 1d array was expected. Please change the shape of y to (n_samples,), for example using ravel().\n",
      "  self.model = self.model.fit(self.X, self.y) #make sure the hat the last period x is ignored\n"
     ]
    },
    {
     "name": "stdout",
     "output_type": "stream",
     "text": [
      "42124 17 19 36254.0\n",
      "0.9971478073908069\n",
      "(344, 8) (344, 1)\n",
      "Max reward for 32968.3 19\n",
      "19\n",
      "npa 11.62999448538884\n"
     ]
    },
    {
     "name": "stderr",
     "output_type": "stream",
     "text": [
      "../sim/GELoadBalancer.py:90: DataConversionWarning: A column-vector y was passed when a 1d array was expected. Please change the shape of y to (n_samples,), for example using ravel().\n",
      "  self.model = self.model.fit(self.X, self.y) #make sure the hat the last period x is ignored\n"
     ]
    },
    {
     "name": "stdout",
     "output_type": "stream",
     "text": [
      "41717 4 19 35977.0\n",
      "0.9974746366378461\n",
      "(345, 8) (345, 1)\n",
      "Max reward for 33045.9 19\n",
      "19\n",
      "npa 11.641142859476258\n"
     ]
    },
    {
     "name": "stderr",
     "output_type": "stream",
     "text": [
      "../sim/GELoadBalancer.py:90: DataConversionWarning: A column-vector y was passed when a 1d array was expected. Please change the shape of y to (n_samples,), for example using ravel().\n",
      "  self.model = self.model.fit(self.X, self.y) #make sure the hat the last period x is ignored\n"
     ]
    },
    {
     "name": "stdout",
     "output_type": "stream",
     "text": [
      "41646 20 19 35746.0\n",
      "0.9961675890517686\n",
      "(346, 8) (346, 1)\n",
      "Max reward for 33914.2 19\n",
      "19\n",
      "npa 11.402257833217506\n"
     ]
    },
    {
     "name": "stderr",
     "output_type": "stream",
     "text": [
      "../sim/GELoadBalancer.py:90: DataConversionWarning: A column-vector y was passed when a 1d array was expected. Please change the shape of y to (n_samples,), for example using ravel().\n",
      "  self.model = self.model.fit(self.X, self.y) #make sure the hat the last period x is ignored\n"
     ]
    },
    {
     "name": "stdout",
     "output_type": "stream",
     "text": [
      "41109 6 19 35349.0\n",
      "0.9971871374951691\n",
      "(347, 8) (347, 1)\n",
      "3\n",
      "npa 11.555125943762906\n"
     ]
    },
    {
     "name": "stderr",
     "output_type": "stream",
     "text": [
      "../sim/GELoadBalancer.py:90: DataConversionWarning: A column-vector y was passed when a 1d array was expected. Please change the shape of y to (n_samples,), for example using ravel().\n",
      "  self.model = self.model.fit(self.X, self.y) #make sure the hat the last period x is ignored\n"
     ]
    },
    {
     "name": "stdout",
     "output_type": "stream",
     "text": [
      "41529 5344 3 -12811.0\n",
      "0.9969918223044185\n",
      "(348, 8) (348, 1)\n",
      "Max reward for 33299.2 19\n",
      "19\n",
      "npa 11.52053664222802\n"
     ]
    },
    {
     "name": "stderr",
     "output_type": "stream",
     "text": [
      "../sim/GELoadBalancer.py:90: DataConversionWarning: A column-vector y was passed when a 1d array was expected. Please change the shape of y to (n_samples,), for example using ravel().\n",
      "  self.model = self.model.fit(self.X, self.y) #make sure the hat the last period x is ignored\n"
     ]
    },
    {
     "name": "stdout",
     "output_type": "stream",
     "text": [
      "41680 16 19 35820.0\n",
      "0.9972572698269699\n",
      "(349, 8) (349, 1)\n",
      "Max reward for 32092.2 19\n",
      "19\n",
      "npa 11.379598555112771\n"
     ]
    },
    {
     "name": "stderr",
     "output_type": "stream",
     "text": [
      "../sim/GELoadBalancer.py:90: DataConversionWarning: A column-vector y was passed when a 1d array was expected. Please change the shape of y to (n_samples,), for example using ravel().\n",
      "  self.model = self.model.fit(self.X, self.y) #make sure the hat the last period x is ignored\n"
     ]
    },
    {
     "name": "stdout",
     "output_type": "stream",
     "text": [
      "40957 3 19 35227.0\n",
      "0.9978648276953683\n",
      "(350, 8) (350, 1)\n",
      "30\n",
      "npa 11.330344044655176\n"
     ]
    },
    {
     "name": "stderr",
     "output_type": "stream",
     "text": [
      "../sim/GELoadBalancer.py:90: DataConversionWarning: A column-vector y was passed when a 1d array was expected. Please change the shape of y to (n_samples,), for example using ravel().\n",
      "  self.model = self.model.fit(self.X, self.y) #make sure the hat the last period x is ignored\n"
     ]
    },
    {
     "name": "stdout",
     "output_type": "stream",
     "text": [
      "40558 0.0 30 31558.0\n",
      "0.9970293911844357\n",
      "(351, 8) (351, 1)\n",
      "Max reward for 30695.2 19\n",
      "19\n",
      "npa 11.140660536454934\n"
     ]
    },
    {
     "name": "stderr",
     "output_type": "stream",
     "text": [
      "../sim/GELoadBalancer.py:90: DataConversionWarning: A column-vector y was passed when a 1d array was expected. Please change the shape of y to (n_samples,), for example using ravel().\n",
      "  self.model = self.model.fit(self.X, self.y) #make sure the hat the last period x is ignored\n"
     ]
    },
    {
     "name": "stdout",
     "output_type": "stream",
     "text": [
      "40450 5 19 34700.0\n",
      "0.9975645253959698\n",
      "(352, 8) (352, 1)\n",
      "Max reward for 30894.9 19\n",
      "19\n",
      "npa 11.21454578915377\n"
     ]
    },
    {
     "name": "stderr",
     "output_type": "stream",
     "text": [
      "../sim/GELoadBalancer.py:90: DataConversionWarning: A column-vector y was passed when a 1d array was expected. Please change the shape of y to (n_samples,), for example using ravel().\n",
      "  self.model = self.model.fit(self.X, self.y) #make sure the hat the last period x is ignored\n"
     ]
    },
    {
     "name": "stdout",
     "output_type": "stream",
     "text": [
      "40637 1 19 34927.0\n",
      "0.9971441310394701\n",
      "(353, 8) (353, 1)\n",
      "Max reward for 31651.3 19\n",
      "19\n",
      "npa 11.46261740659742\n"
     ]
    },
    {
     "name": "stderr",
     "output_type": "stream",
     "text": [
      "../sim/GELoadBalancer.py:90: DataConversionWarning: A column-vector y was passed when a 1d array was expected. Please change the shape of y to (n_samples,), for example using ravel().\n",
      "  self.model = self.model.fit(self.X, self.y) #make sure the hat the last period x is ignored\n"
     ]
    },
    {
     "name": "stdout",
     "output_type": "stream",
     "text": [
      "41273 1 19 35563.0\n",
      "0.9966400862543282\n",
      "(354, 8) (354, 1)\n",
      "Max reward for 33432.3 20\n",
      "20\n",
      "npa 11.342013777594659\n"
     ]
    },
    {
     "name": "stderr",
     "output_type": "stream",
     "text": [
      "../sim/GELoadBalancer.py:90: DataConversionWarning: A column-vector y was passed when a 1d array was expected. Please change the shape of y to (n_samples,), for example using ravel().\n",
      "  self.model = self.model.fit(self.X, self.y) #make sure the hat the last period x is ignored\n"
     ]
    },
    {
     "name": "stdout",
     "output_type": "stream",
     "text": [
      "41097 0.0 20 35097.0\n",
      "0.9962650811509551\n",
      "(355, 8) (355, 1)\n",
      "Max reward for 32141.8 19\n",
      "19\n",
      "npa 11.72143177104766\n"
     ]
    },
    {
     "name": "stderr",
     "output_type": "stream",
     "text": [
      "../sim/GELoadBalancer.py:90: DataConversionWarning: A column-vector y was passed when a 1d array was expected. Please change the shape of y to (n_samples,), for example using ravel().\n",
      "  self.model = self.model.fit(self.X, self.y) #make sure the hat the last period x is ignored\n"
     ]
    },
    {
     "name": "stdout",
     "output_type": "stream",
     "text": [
      "42146 36 19 36086.0\n",
      "0.9968206209814009\n",
      "(356, 8) (356, 1)\n",
      "Max reward for 34785.4 20\n",
      "20\n",
      "npa 11.666947196140065\n"
     ]
    },
    {
     "name": "stderr",
     "output_type": "stream",
     "text": [
      "../sim/GELoadBalancer.py:90: DataConversionWarning: A column-vector y was passed when a 1d array was expected. Please change the shape of y to (n_samples,), for example using ravel().\n",
      "  self.model = self.model.fit(self.X, self.y) #make sure the hat the last period x is ignored\n"
     ]
    },
    {
     "name": "stdout",
     "output_type": "stream",
     "text": [
      "42013 1 20 36003.0\n",
      "0.9972990837165449\n",
      "(357, 8) (357, 1)\n",
      "Max reward for 32627.7 19\n",
      "19\n",
      "npa 11.463651867803767\n"
     ]
    },
    {
     "name": "stderr",
     "output_type": "stream",
     "text": [
      "../sim/GELoadBalancer.py:90: DataConversionWarning: A column-vector y was passed when a 1d array was expected. Please change the shape of y to (n_samples,), for example using ravel().\n",
      "  self.model = self.model.fit(self.X, self.y) #make sure the hat the last period x is ignored\n"
     ]
    },
    {
     "name": "stdout",
     "output_type": "stream",
     "text": [
      "41411 9 19 35621.0\n",
      "0.9979254565034128\n",
      "(358, 8) (358, 1)\n",
      "Max reward for 35132.8 19\n",
      "19\n",
      "npa 11.411639135225757\n"
     ]
    },
    {
     "name": "stderr",
     "output_type": "stream",
     "text": [
      "../sim/GELoadBalancer.py:90: DataConversionWarning: A column-vector y was passed when a 1d array was expected. Please change the shape of y to (n_samples,), for example using ravel().\n",
      "  self.model = self.model.fit(self.X, self.y) #make sure the hat the last period x is ignored\n"
     ]
    },
    {
     "name": "stdout",
     "output_type": "stream",
     "text": [
      "41063 7 19 35293.0\n",
      "0.9975587955062086\n",
      "(359, 8) (359, 1)\n",
      "15\n",
      "npa 11.52087111611985\n"
     ]
    },
    {
     "name": "stderr",
     "output_type": "stream",
     "text": [
      "../sim/GELoadBalancer.py:90: DataConversionWarning: A column-vector y was passed when a 1d array was expected. Please change the shape of y to (n_samples,), for example using ravel().\n",
      "  self.model = self.model.fit(self.X, self.y) #make sure the hat the last period x is ignored\n"
     ]
    },
    {
     "name": "stdout",
     "output_type": "stream",
     "text": [
      "41769 1399 15 23279.0\n",
      "0.9967197259568021\n",
      "(360, 8) (360, 1)\n",
      "Max reward for 34092.8 19\n",
      "19\n",
      "npa 11.514254371144249\n"
     ]
    },
    {
     "name": "stderr",
     "output_type": "stream",
     "text": [
      "../sim/GELoadBalancer.py:90: DataConversionWarning: A column-vector y was passed when a 1d array was expected. Please change the shape of y to (n_samples,), for example using ravel().\n",
      "  self.model = self.model.fit(self.X, self.y) #make sure the hat the last period x is ignored\n"
     ]
    },
    {
     "name": "stdout",
     "output_type": "stream",
     "text": [
      "41133 12 19 35313.0\n",
      "0.9974211326144777\n",
      "(361, 8) (361, 1)\n",
      "Max reward for 32717.1 19\n",
      "19\n",
      "npa 11.510321033345566\n"
     ]
    },
    {
     "name": "stderr",
     "output_type": "stream",
     "text": [
      "../sim/GELoadBalancer.py:90: DataConversionWarning: A column-vector y was passed when a 1d array was expected. Please change the shape of y to (n_samples,), for example using ravel().\n",
      "  self.model = self.model.fit(self.X, self.y) #make sure the hat the last period x is ignored\n"
     ]
    },
    {
     "name": "stdout",
     "output_type": "stream",
     "text": [
      "41777 11 19 35967.0\n",
      "0.9966635372938532\n",
      "(362, 8) (362, 1)\n",
      "Max reward for 33257.8 19\n",
      "19\n",
      "npa 11.667447107803145\n"
     ]
    },
    {
     "name": "stderr",
     "output_type": "stream",
     "text": [
      "../sim/GELoadBalancer.py:90: DataConversionWarning: A column-vector y was passed when a 1d array was expected. Please change the shape of y to (n_samples,), for example using ravel().\n",
      "  self.model = self.model.fit(self.X, self.y) #make sure the hat the last period x is ignored\n"
     ]
    },
    {
     "name": "stdout",
     "output_type": "stream",
     "text": [
      "41845 16 19 35985.0\n",
      "0.9970208354781966\n",
      "(363, 8) (363, 1)\n",
      "Max reward for 34220.7 19\n",
      "19\n",
      "npa 11.752809037475409\n"
     ]
    },
    {
     "name": "stderr",
     "output_type": "stream",
     "text": [
      "../sim/GELoadBalancer.py:90: DataConversionWarning: A column-vector y was passed when a 1d array was expected. Please change the shape of y to (n_samples,), for example using ravel().\n",
      "  self.model = self.model.fit(self.X, self.y) #make sure the hat the last period x is ignored\n"
     ]
    },
    {
     "name": "stdout",
     "output_type": "stream",
     "text": [
      "42705 25 19 36755.0\n",
      "0.9975621104770799\n",
      "(364, 8) (364, 1)\n",
      "Max reward for 35724.9 19\n",
      "19\n",
      "npa 11.950833751015818\n"
     ]
    },
    {
     "name": "stderr",
     "output_type": "stream",
     "text": [
      "../sim/GELoadBalancer.py:90: DataConversionWarning: A column-vector y was passed when a 1d array was expected. Please change the shape of y to (n_samples,), for example using ravel().\n",
      "  self.model = self.model.fit(self.X, self.y) #make sure the hat the last period x is ignored\n"
     ]
    },
    {
     "name": "stdout",
     "output_type": "stream",
     "text": [
      "43071 54 19 36831.0\n",
      "0.9956499127039907\n",
      "(365, 8) (365, 1)\n",
      "Max reward for 36263.6 19\n",
      "19\n",
      "npa 11.7996968651653\n"
     ]
    },
    {
     "name": "stderr",
     "output_type": "stream",
     "text": [
      "../sim/GELoadBalancer.py:90: DataConversionWarning: A column-vector y was passed when a 1d array was expected. Please change the shape of y to (n_samples,), for example using ravel().\n",
      "  self.model = self.model.fit(self.X, self.y) #make sure the hat the last period x is ignored\n"
     ]
    },
    {
     "name": "stdout",
     "output_type": "stream",
     "text": [
      "42441 34 19 36401.0\n",
      "0.9967652309589414\n",
      "(366, 8) (366, 1)\n",
      "Max reward for 36610.0 19\n",
      "19\n",
      "npa 11.685590381990114\n"
     ]
    },
    {
     "name": "stderr",
     "output_type": "stream",
     "text": [
      "../sim/GELoadBalancer.py:90: DataConversionWarning: A column-vector y was passed when a 1d array was expected. Please change the shape of y to (n_samples,), for example using ravel().\n",
      "  self.model = self.model.fit(self.X, self.y) #make sure the hat the last period x is ignored\n"
     ]
    },
    {
     "name": "stdout",
     "output_type": "stream",
     "text": [
      "42064 27 19 36094.0\n",
      "0.9966928238446323\n",
      "(367, 8) (367, 1)\n",
      "Max reward for 35970.8 19\n",
      "19\n",
      "npa 11.832074742009267\n"
     ]
    },
    {
     "name": "stderr",
     "output_type": "stream",
     "text": [
      "../sim/GELoadBalancer.py:90: DataConversionWarning: A column-vector y was passed when a 1d array was expected. Please change the shape of y to (n_samples,), for example using ravel().\n",
      "  self.model = self.model.fit(self.X, self.y) #make sure the hat the last period x is ignored\n"
     ]
    },
    {
     "name": "stdout",
     "output_type": "stream",
     "text": [
      "42805 35 19 36755.0\n",
      "0.9974071935400127\n",
      "(368, 8) (368, 1)\n",
      "Max reward for 35849.2 19\n",
      "19\n",
      "npa 12.024819440669384\n"
     ]
    },
    {
     "name": "stderr",
     "output_type": "stream",
     "text": [
      "../sim/GELoadBalancer.py:90: DataConversionWarning: A column-vector y was passed when a 1d array was expected. Please change the shape of y to (n_samples,), for example using ravel().\n",
      "  self.model = self.model.fit(self.X, self.y) #make sure the hat the last period x is ignored\n"
     ]
    },
    {
     "name": "stdout",
     "output_type": "stream",
     "text": [
      "43085 54 19 36845.0\n",
      "0.9975781056670731\n",
      "(369, 8) (369, 1)\n",
      "Max reward for 35947.0 19\n",
      "19\n",
      "npa 12.096900425677253\n"
     ]
    },
    {
     "name": "stderr",
     "output_type": "stream",
     "text": [
      "../sim/GELoadBalancer.py:90: DataConversionWarning: A column-vector y was passed when a 1d array was expected. Please change the shape of y to (n_samples,), for example using ravel().\n",
      "  self.model = self.model.fit(self.X, self.y) #make sure the hat the last period x is ignored\n"
     ]
    },
    {
     "name": "stdout",
     "output_type": "stream",
     "text": [
      "43798 106 19 37038.0\n",
      "0.9967393713962478\n",
      "(370, 8) (370, 1)\n",
      "Max reward for 36227.2 19\n",
      "19\n",
      "npa 12.064080480634928\n"
     ]
    },
    {
     "name": "stderr",
     "output_type": "stream",
     "text": [
      "../sim/GELoadBalancer.py:90: DataConversionWarning: A column-vector y was passed when a 1d array was expected. Please change the shape of y to (n_samples,), for example using ravel().\n",
      "  self.model = self.model.fit(self.X, self.y) #make sure the hat the last period x is ignored\n"
     ]
    },
    {
     "name": "stdout",
     "output_type": "stream",
     "text": [
      "42982 43 19 36852.0\n",
      "0.9961791431970312\n",
      "(371, 8) (371, 1)\n",
      "Max reward for 36290.6 19\n",
      "19\n",
      "npa 12.023019667153685\n"
     ]
    },
    {
     "name": "stderr",
     "output_type": "stream",
     "text": [
      "../sim/GELoadBalancer.py:90: DataConversionWarning: A column-vector y was passed when a 1d array was expected. Please change the shape of y to (n_samples,), for example using ravel().\n",
      "  self.model = self.model.fit(self.X, self.y) #make sure the hat the last period x is ignored\n"
     ]
    },
    {
     "name": "stdout",
     "output_type": "stream",
     "text": [
      "43537 84 19 36997.0\n",
      "0.99703959080498\n",
      "(372, 8) (372, 1)\n",
      "Max reward for 36100.6 19\n",
      "19\n",
      "npa 12.130860592097067\n"
     ]
    },
    {
     "name": "stderr",
     "output_type": "stream",
     "text": [
      "../sim/GELoadBalancer.py:90: DataConversionWarning: A column-vector y was passed when a 1d array was expected. Please change the shape of y to (n_samples,), for example using ravel().\n",
      "  self.model = self.model.fit(self.X, self.y) #make sure the hat the last period x is ignored\n"
     ]
    },
    {
     "name": "stdout",
     "output_type": "stream",
     "text": [
      "43106 50 19 36906.0\n",
      "0.9975501517137527\n",
      "(373, 8) (373, 1)\n",
      "Max reward for 36552.3 19\n",
      "19\n",
      "npa 12.008749233000207\n"
     ]
    },
    {
     "name": "stderr",
     "output_type": "stream",
     "text": [
      "../sim/GELoadBalancer.py:90: DataConversionWarning: A column-vector y was passed when a 1d array was expected. Please change the shape of y to (n_samples,), for example using ravel().\n",
      "  self.model = self.model.fit(self.X, self.y) #make sure the hat the last period x is ignored\n"
     ]
    },
    {
     "name": "stdout",
     "output_type": "stream",
     "text": [
      "43124 48 19 36944.0\n",
      "0.9971318951973067\n",
      "(374, 8) (374, 1)\n",
      "Max reward for 36691.0 19\n",
      "19\n",
      "npa 12.069902018176576\n"
     ]
    },
    {
     "name": "stderr",
     "output_type": "stream",
     "text": [
      "../sim/GELoadBalancer.py:90: DataConversionWarning: A column-vector y was passed when a 1d array was expected. Please change the shape of y to (n_samples,), for example using ravel().\n",
      "  self.model = self.model.fit(self.X, self.y) #make sure the hat the last period x is ignored\n"
     ]
    },
    {
     "name": "stdout",
     "output_type": "stream",
     "text": [
      "43453 73 19 37023.0\n",
      "0.9971901625198968\n",
      "(375, 8) (375, 1)\n",
      "Max reward for 35772.9 19\n",
      "19\n",
      "npa 12.195902743718067\n"
     ]
    },
    {
     "name": "stderr",
     "output_type": "stream",
     "text": [
      "../sim/GELoadBalancer.py:90: DataConversionWarning: A column-vector y was passed when a 1d array was expected. Please change the shape of y to (n_samples,), for example using ravel().\n",
      "  self.model = self.model.fit(self.X, self.y) #make sure the hat the last period x is ignored\n"
     ]
    },
    {
     "name": "stdout",
     "output_type": "stream",
     "text": [
      "43514 79 19 37024.0\n",
      "0.9975705597462661\n",
      "(376, 8) (376, 1)\n",
      "Max reward for 36857.5 19\n",
      "19\n",
      "npa 12.046986979972067\n"
     ]
    },
    {
     "name": "stderr",
     "output_type": "stream",
     "text": [
      "../sim/GELoadBalancer.py:90: DataConversionWarning: A column-vector y was passed when a 1d array was expected. Please change the shape of y to (n_samples,), for example using ravel().\n",
      "  self.model = self.model.fit(self.X, self.y) #make sure the hat the last period x is ignored\n"
     ]
    },
    {
     "name": "stdout",
     "output_type": "stream",
     "text": [
      "43881 104 19 37141.0\n",
      "0.9970032704449516\n",
      "(377, 8) (377, 1)\n",
      "Max reward for 36902.5 19\n",
      "19\n",
      "npa 12.331460828171329\n"
     ]
    },
    {
     "name": "stderr",
     "output_type": "stream",
     "text": [
      "../sim/GELoadBalancer.py:90: DataConversionWarning: A column-vector y was passed when a 1d array was expected. Please change the shape of y to (n_samples,), for example using ravel().\n",
      "  self.model = self.model.fit(self.X, self.y) #make sure the hat the last period x is ignored\n"
     ]
    },
    {
     "name": "stdout",
     "output_type": "stream",
     "text": [
      "44449 150 19 37249.0\n",
      "0.9965949905511919\n",
      "(378, 8) (378, 1)\n",
      "Max reward for 37066.7 19\n",
      "19\n",
      "npa 12.361182518541348\n"
     ]
    },
    {
     "name": "stderr",
     "output_type": "stream",
     "text": [
      "../sim/GELoadBalancer.py:90: DataConversionWarning: A column-vector y was passed when a 1d array was expected. Please change the shape of y to (n_samples,), for example using ravel().\n",
      "  self.model = self.model.fit(self.X, self.y) #make sure the hat the last period x is ignored\n"
     ]
    },
    {
     "name": "stdout",
     "output_type": "stream",
     "text": [
      "44671 172 19 37251.0\n",
      "0.997328448584296\n",
      "(379, 8) (379, 1)\n",
      "Max reward for 37130.7 19\n",
      "19\n",
      "npa 12.427387750699337\n"
     ]
    },
    {
     "name": "stderr",
     "output_type": "stream",
     "text": [
      "../sim/GELoadBalancer.py:90: DataConversionWarning: A column-vector y was passed when a 1d array was expected. Please change the shape of y to (n_samples,), for example using ravel().\n",
      "  self.model = self.model.fit(self.X, self.y) #make sure the hat the last period x is ignored\n"
     ]
    },
    {
     "name": "stdout",
     "output_type": "stream",
     "text": [
      "44639 182 19 37119.0\n",
      "0.997584440653539\n",
      "(380, 8) (380, 1)\n",
      "Max reward for 37184.8 19\n",
      "19\n",
      "npa 12.35131699301226\n"
     ]
    },
    {
     "name": "stderr",
     "output_type": "stream",
     "text": [
      "../sim/GELoadBalancer.py:90: DataConversionWarning: A column-vector y was passed when a 1d array was expected. Please change the shape of y to (n_samples,), for example using ravel().\n",
      "  self.model = self.model.fit(self.X, self.y) #make sure the hat the last period x is ignored\n"
     ]
    },
    {
     "name": "stdout",
     "output_type": "stream",
     "text": [
      "44183 116 19 37323.0\n",
      "0.9972078637038652\n",
      "(381, 8) (381, 1)\n",
      "7\n",
      "npa 12.335455648604475\n"
     ]
    },
    {
     "name": "stderr",
     "output_type": "stream",
     "text": [
      "../sim/GELoadBalancer.py:90: DataConversionWarning: A column-vector y was passed when a 1d array was expected. Please change the shape of y to (n_samples,), for example using ravel().\n",
      "  self.model = self.model.fit(self.X, self.y) #make sure the hat the last period x is ignored\n"
     ]
    },
    {
     "name": "stdout",
     "output_type": "stream",
     "text": [
      "44614 4038 7 2134.0\n",
      "0.9978881423284444\n",
      "(382, 8) (382, 1)\n",
      "Max reward for 37021.3 19\n",
      "19\n",
      "npa 12.483229553978354\n"
     ]
    },
    {
     "name": "stderr",
     "output_type": "stream",
     "text": [
      "../sim/GELoadBalancer.py:90: DataConversionWarning: A column-vector y was passed when a 1d array was expected. Please change the shape of y to (n_samples,), for example using ravel().\n",
      "  self.model = self.model.fit(self.X, self.y) #make sure the hat the last period x is ignored\n"
     ]
    },
    {
     "name": "stdout",
     "output_type": "stream",
     "text": [
      "44810 215 19 36960.0\n",
      "0.9977148051290736\n",
      "(383, 8) (383, 1)\n",
      "Max reward for 37212.6 19\n",
      "19\n",
      "npa 12.34547836075849\n"
     ]
    },
    {
     "name": "stderr",
     "output_type": "stream",
     "text": [
      "../sim/GELoadBalancer.py:90: DataConversionWarning: A column-vector y was passed when a 1d array was expected. Please change the shape of y to (n_samples,), for example using ravel().\n",
      "  self.model = self.model.fit(self.X, self.y) #make sure the hat the last period x is ignored\n"
     ]
    },
    {
     "name": "stdout",
     "output_type": "stream",
     "text": [
      "44102 132 19 37082.0\n",
      "0.997308091103723\n",
      "(384, 8) (384, 1)\n",
      "Max reward for 37130.3 19\n",
      "19\n",
      "npa 12.178468339489857\n"
     ]
    },
    {
     "name": "stderr",
     "output_type": "stream",
     "text": [
      "../sim/GELoadBalancer.py:90: DataConversionWarning: A column-vector y was passed when a 1d array was expected. Please change the shape of y to (n_samples,), for example using ravel().\n",
      "  self.model = self.model.fit(self.X, self.y) #make sure the hat the last period x is ignored\n"
     ]
    },
    {
     "name": "stdout",
     "output_type": "stream",
     "text": [
      "43978 141 19 36868.0\n",
      "0.9975005338829548\n",
      "(385, 8) (385, 1)\n",
      "3\n",
      "npa 12.33068146600861\n"
     ]
    },
    {
     "name": "stderr",
     "output_type": "stream",
     "text": [
      "../sim/GELoadBalancer.py:90: DataConversionWarning: A column-vector y was passed when a 1d array was expected. Please change the shape of y to (n_samples,), for example using ravel().\n",
      "  self.model = self.model.fit(self.X, self.y) #make sure the hat the last period x is ignored\n"
     ]
    },
    {
     "name": "stdout",
     "output_type": "stream",
     "text": [
      "44150 5605 3 -12800.0\n",
      "0.9966495256716417\n",
      "(386, 8) (386, 1)\n",
      "Max reward for 37015.0 19\n",
      "19\n",
      "npa 12.384695219714914\n"
     ]
    },
    {
     "name": "stderr",
     "output_type": "stream",
     "text": [
      "../sim/GELoadBalancer.py:90: DataConversionWarning: A column-vector y was passed when a 1d array was expected. Please change the shape of y to (n_samples,), for example using ravel().\n",
      "  self.model = self.model.fit(self.X, self.y) #make sure the hat the last period x is ignored\n"
     ]
    },
    {
     "name": "stdout",
     "output_type": "stream",
     "text": [
      "44577 164 19 37237.0\n",
      "0.9968605913107632\n",
      "(387, 8) (387, 1)\n",
      "15\n",
      "npa 12.324222325841422\n"
     ]
    },
    {
     "name": "stderr",
     "output_type": "stream",
     "text": [
      "../sim/GELoadBalancer.py:90: DataConversionWarning: A column-vector y was passed when a 1d array was expected. Please change the shape of y to (n_samples,), for example using ravel().\n",
      "  self.model = self.model.fit(self.X, self.y) #make sure the hat the last period x is ignored\n"
     ]
    },
    {
     "name": "stdout",
     "output_type": "stream",
     "text": [
      "44427 1908 15 20847.0\n",
      "0.9976760860635973\n",
      "(388, 8) (388, 1)\n",
      "Max reward for 37117.1 19\n",
      "19\n",
      "npa 12.212231139019128\n"
     ]
    },
    {
     "name": "stderr",
     "output_type": "stream",
     "text": [
      "../sim/GELoadBalancer.py:90: DataConversionWarning: A column-vector y was passed when a 1d array was expected. Please change the shape of y to (n_samples,), for example using ravel().\n",
      "  self.model = self.model.fit(self.X, self.y) #make sure the hat the last period x is ignored\n"
     ]
    },
    {
     "name": "stdout",
     "output_type": "stream",
     "text": [
      "44223 129 19 37233.0\n",
      "0.9969199880221041\n",
      "(389, 8) (389, 1)\n",
      "22\n",
      "npa 12.250743070135991\n"
     ]
    },
    {
     "name": "stderr",
     "output_type": "stream",
     "text": [
      "../sim/GELoadBalancer.py:90: DataConversionWarning: A column-vector y was passed when a 1d array was expected. Please change the shape of y to (n_samples,), for example using ravel().\n",
      "  self.model = self.model.fit(self.X, self.y) #make sure the hat the last period x is ignored\n"
     ]
    },
    {
     "name": "stdout",
     "output_type": "stream",
     "text": [
      "43758 2 22 37138.0\n",
      "0.9971433058810703\n",
      "(390, 8) (390, 1)\n",
      "Max reward for 36827.0 19\n",
      "19\n",
      "npa 12.070772724302424\n"
     ]
    },
    {
     "name": "stderr",
     "output_type": "stream",
     "text": [
      "../sim/GELoadBalancer.py:90: DataConversionWarning: A column-vector y was passed when a 1d array was expected. Please change the shape of y to (n_samples,), for example using ravel().\n",
      "  self.model = self.model.fit(self.X, self.y) #make sure the hat the last period x is ignored\n"
     ]
    },
    {
     "name": "stdout",
     "output_type": "stream",
     "text": [
      "43707 84 19 37167.0\n",
      "0.9963992733263154\n",
      "(391, 8) (391, 1)\n",
      "Max reward for 37007.7 19\n",
      "19\n",
      "npa 12.077823800367561\n"
     ]
    },
    {
     "name": "stderr",
     "output_type": "stream",
     "text": [
      "../sim/GELoadBalancer.py:90: DataConversionWarning: A column-vector y was passed when a 1d array was expected. Please change the shape of y to (n_samples,), for example using ravel().\n",
      "  self.model = self.model.fit(self.X, self.y) #make sure the hat the last period x is ignored\n"
     ]
    },
    {
     "name": "stdout",
     "output_type": "stream",
     "text": [
      "43418 73 19 36988.0\n",
      "0.9970560486978851\n",
      "(392, 8) (392, 1)\n",
      "Max reward for 37055.5 19\n",
      "19\n",
      "npa 11.979139751184386\n"
     ]
    },
    {
     "name": "stderr",
     "output_type": "stream",
     "text": [
      "../sim/GELoadBalancer.py:90: DataConversionWarning: A column-vector y was passed when a 1d array was expected. Please change the shape of y to (n_samples,), for example using ravel().\n",
      "  self.model = self.model.fit(self.X, self.y) #make sure the hat the last period x is ignored\n"
     ]
    },
    {
     "name": "stdout",
     "output_type": "stream",
     "text": [
      "43180 35 19 37130.0\n",
      "0.9975052810435855\n",
      "(393, 8) (393, 1)\n",
      "Max reward for 36817.8 19\n",
      "19\n",
      "npa 11.940748594456803\n"
     ]
    },
    {
     "name": "stderr",
     "output_type": "stream",
     "text": [
      "../sim/GELoadBalancer.py:90: DataConversionWarning: A column-vector y was passed when a 1d array was expected. Please change the shape of y to (n_samples,), for example using ravel().\n",
      "  self.model = self.model.fit(self.X, self.y) #make sure the hat the last period x is ignored\n"
     ]
    },
    {
     "name": "stdout",
     "output_type": "stream",
     "text": [
      "42848 27 19 36878.0\n",
      "0.9963462430134267\n",
      "(394, 8) (394, 1)\n",
      "Max reward for 36872.6 19\n",
      "19\n",
      "npa 11.827522815471486\n"
     ]
    },
    {
     "name": "stderr",
     "output_type": "stream",
     "text": [
      "../sim/GELoadBalancer.py:90: DataConversionWarning: A column-vector y was passed when a 1d array was expected. Please change the shape of y to (n_samples,), for example using ravel().\n",
      "  self.model = self.model.fit(self.X, self.y) #make sure the hat the last period x is ignored\n"
     ]
    },
    {
     "name": "stdout",
     "output_type": "stream",
     "text": [
      "42554 45 19 36404.0\n",
      "0.9973239263179992\n",
      "(395, 8) (395, 1)\n",
      "Max reward for 36466.0 19\n",
      "19\n",
      "npa 11.79180053749697\n"
     ]
    },
    {
     "name": "stderr",
     "output_type": "stream",
     "text": [
      "../sim/GELoadBalancer.py:90: DataConversionWarning: A column-vector y was passed when a 1d array was expected. Please change the shape of y to (n_samples,), for example using ravel().\n",
      "  self.model = self.model.fit(self.X, self.y) #make sure the hat the last period x is ignored\n"
     ]
    },
    {
     "name": "stdout",
     "output_type": "stream",
     "text": [
      "42346 28 19 36366.0\n",
      "0.9965374952784872\n",
      "(396, 8) (396, 1)\n",
      "Max reward for 36203.2 19\n",
      "19\n",
      "npa 11.661023331330938\n"
     ]
    },
    {
     "name": "stderr",
     "output_type": "stream",
     "text": [
      "../sim/GELoadBalancer.py:90: DataConversionWarning: A column-vector y was passed when a 1d array was expected. Please change the shape of y to (n_samples,), for example using ravel().\n",
      "  self.model = self.model.fit(self.X, self.y) #make sure the hat the last period x is ignored\n"
     ]
    },
    {
     "name": "stdout",
     "output_type": "stream",
     "text": [
      "41583 12 19 35763.0\n",
      "0.9972240725766527\n",
      "(397, 8) (397, 1)\n",
      "18\n",
      "npa 11.565807716031943\n"
     ]
    },
    {
     "name": "stderr",
     "output_type": "stream",
     "text": [
      "../sim/GELoadBalancer.py:90: DataConversionWarning: A column-vector y was passed when a 1d array was expected. Please change the shape of y to (n_samples,), for example using ravel().\n",
      "  self.model = self.model.fit(self.X, self.y) #make sure the hat the last period x is ignored\n"
     ]
    },
    {
     "name": "stdout",
     "output_type": "stream",
     "text": [
      "41931 131 18 35221.0\n",
      "0.9968253268151179\n",
      "(398, 8) (398, 1)\n",
      "Max reward for 36352.6 20\n",
      "20\n",
      "npa 11.754282607095073\n"
     ]
    },
    {
     "name": "stderr",
     "output_type": "stream",
     "text": [
      "../sim/GELoadBalancer.py:90: DataConversionWarning: A column-vector y was passed when a 1d array was expected. Please change the shape of y to (n_samples,), for example using ravel().\n",
      "  self.model = self.model.fit(self.X, self.y) #make sure the hat the last period x is ignored\n"
     ]
    },
    {
     "name": "stdout",
     "output_type": "stream",
     "text": [
      "42237 5 20 36187.0\n",
      "0.997313344838194\n",
      "(399, 8) (399, 1)\n",
      "Max reward for 35857.0 19\n",
      "19\n",
      "npa 11.720269007248115\n"
     ]
    },
    {
     "name": "stderr",
     "output_type": "stream",
     "text": [
      "../sim/GELoadBalancer.py:90: DataConversionWarning: A column-vector y was passed when a 1d array was expected. Please change the shape of y to (n_samples,), for example using ravel().\n",
      "  self.model = self.model.fit(self.X, self.y) #make sure the hat the last period x is ignored\n"
     ]
    },
    {
     "name": "stdout",
     "output_type": "stream",
     "text": [
      "42473 24 19 36533.0\n",
      "0.9966473411883713\n",
      "(400, 8) (400, 1)\n",
      "Max reward for 36530.6 19\n",
      "19\n",
      "npa 11.773407654623494\n"
     ]
    },
    {
     "name": "stderr",
     "output_type": "stream",
     "text": [
      "../sim/GELoadBalancer.py:90: DataConversionWarning: A column-vector y was passed when a 1d array was expected. Please change the shape of y to (n_samples,), for example using ravel().\n",
      "  self.model = self.model.fit(self.X, self.y) #make sure the hat the last period x is ignored\n"
     ]
    },
    {
     "name": "stdout",
     "output_type": "stream",
     "text": [
      "42255 20 19 36355.0\n",
      "0.9969996323052809\n",
      "(401, 8) (401, 1)\n",
      "Max reward for 36276.0 19\n",
      "19\n",
      "npa 11.840851048433079\n"
     ]
    },
    {
     "name": "stderr",
     "output_type": "stream",
     "text": [
      "../sim/GELoadBalancer.py:90: DataConversionWarning: A column-vector y was passed when a 1d array was expected. Please change the shape of y to (n_samples,), for example using ravel().\n",
      "  self.model = self.model.fit(self.X, self.y) #make sure the hat the last period x is ignored\n"
     ]
    },
    {
     "name": "stdout",
     "output_type": "stream",
     "text": [
      "42676 52 19 36456.0\n",
      "0.9974796010680717\n",
      "(402, 8) (402, 1)\n",
      "Max reward for 36563.8 19\n",
      "19\n",
      "npa 11.67223434896269\n"
     ]
    },
    {
     "name": "stderr",
     "output_type": "stream",
     "text": [
      "../sim/GELoadBalancer.py:90: DataConversionWarning: A column-vector y was passed when a 1d array was expected. Please change the shape of y to (n_samples,), for example using ravel().\n",
      "  self.model = self.model.fit(self.X, self.y) #make sure the hat the last period x is ignored\n"
     ]
    },
    {
     "name": "stdout",
     "output_type": "stream",
     "text": [
      "41851 38 19 35771.0\n",
      "0.9970739891576378\n",
      "(403, 8) (403, 1)\n",
      "Max reward for 36488.8 20\n",
      "20\n",
      "npa 11.603558893004138\n"
     ]
    },
    {
     "name": "stderr",
     "output_type": "stream",
     "text": [
      "../sim/GELoadBalancer.py:90: DataConversionWarning: A column-vector y was passed when a 1d array was expected. Please change the shape of y to (n_samples,), for example using ravel().\n",
      "  self.model = self.model.fit(self.X, self.y) #make sure the hat the last period x is ignored\n"
     ]
    },
    {
     "name": "stdout",
     "output_type": "stream",
     "text": [
      "41812 0.0 20 35812.0\n",
      "0.9972714040130007\n",
      "(404, 8) (404, 1)\n",
      "Max reward for 36035.2 19\n",
      "19\n",
      "npa 11.720156535890006\n"
     ]
    },
    {
     "name": "stderr",
     "output_type": "stream",
     "text": [
      "../sim/GELoadBalancer.py:90: DataConversionWarning: A column-vector y was passed when a 1d array was expected. Please change the shape of y to (n_samples,), for example using ravel().\n",
      "  self.model = self.model.fit(self.X, self.y) #make sure the hat the last period x is ignored\n"
     ]
    },
    {
     "name": "stdout",
     "output_type": "stream",
     "text": [
      "42227 17 19 36357.0\n",
      "0.9964139244543757\n",
      "(405, 8) (405, 1)\n",
      "28\n",
      "npa 11.847859674799624\n"
     ]
    },
    {
     "name": "stderr",
     "output_type": "stream",
     "text": [
      "../sim/GELoadBalancer.py:90: DataConversionWarning: A column-vector y was passed when a 1d array was expected. Please change the shape of y to (n_samples,), for example using ravel().\n",
      "  self.model = self.model.fit(self.X, self.y) #make sure the hat the last period x is ignored\n"
     ]
    },
    {
     "name": "stdout",
     "output_type": "stream",
     "text": [
      "42627 0.0 28 34227.0\n",
      "0.996411977620441\n",
      "(406, 8) (406, 1)\n",
      "Max reward for 35870.9 19\n",
      "19\n",
      "npa 11.745784280642695\n"
     ]
    },
    {
     "name": "stderr",
     "output_type": "stream",
     "text": [
      "../sim/GELoadBalancer.py:90: DataConversionWarning: A column-vector y was passed when a 1d array was expected. Please change the shape of y to (n_samples,), for example using ravel().\n",
      "  self.model = self.model.fit(self.X, self.y) #make sure the hat the last period x is ignored\n"
     ]
    },
    {
     "name": "stdout",
     "output_type": "stream",
     "text": [
      "42391 20 19 36491.0\n",
      "0.9961474667412376\n",
      "(407, 8) (407, 1)\n",
      "Max reward for 35072.3 18\n",
      "18\n",
      "npa 11.952284392339722\n"
     ]
    },
    {
     "name": "stderr",
     "output_type": "stream",
     "text": [
      "../sim/GELoadBalancer.py:90: DataConversionWarning: A column-vector y was passed when a 1d array was expected. Please change the shape of y to (n_samples,), for example using ravel().\n",
      "  self.model = self.model.fit(self.X, self.y) #make sure the hat the last period x is ignored\n"
     ]
    },
    {
     "name": "stdout",
     "output_type": "stream",
     "text": [
      "43165 269 18 35075.0\n",
      "0.9972886403938823\n",
      "(408, 8) (408, 1)\n",
      "Max reward for 37079.2 18\n",
      "18\n",
      "npa 12.074340827611623\n"
     ]
    },
    {
     "name": "stderr",
     "output_type": "stream",
     "text": [
      "../sim/GELoadBalancer.py:90: DataConversionWarning: A column-vector y was passed when a 1d array was expected. Please change the shape of y to (n_samples,), for example using ravel().\n",
      "  self.model = self.model.fit(self.X, self.y) #make sure the hat the last period x is ignored\n"
     ]
    },
    {
     "name": "stdout",
     "output_type": "stream",
     "text": [
      "43721 376 18 34561.0\n",
      "0.997724567996513\n",
      "(409, 8) (409, 1)\n",
      "7\n",
      "npa 12.108327094583371\n"
     ]
    },
    {
     "name": "stderr",
     "output_type": "stream",
     "text": [
      "../sim/GELoadBalancer.py:90: DataConversionWarning: A column-vector y was passed when a 1d array was expected. Please change the shape of y to (n_samples,), for example using ravel().\n",
      "  self.model = self.model.fit(self.X, self.y) #make sure the hat the last period x is ignored\n"
     ]
    },
    {
     "name": "stdout",
     "output_type": "stream",
     "text": [
      "43572 3888 7 2592.0\n",
      "0.9979724601613196\n",
      "(410, 8) (410, 1)\n",
      "Max reward for 37090.1 19\n",
      "19\n",
      "npa 12.094198091435812\n"
     ]
    },
    {
     "name": "stderr",
     "output_type": "stream",
     "text": [
      "../sim/GELoadBalancer.py:90: DataConversionWarning: A column-vector y was passed when a 1d array was expected. Please change the shape of y to (n_samples,), for example using ravel().\n",
      "  self.model = self.model.fit(self.X, self.y) #make sure the hat the last period x is ignored\n"
     ]
    },
    {
     "name": "stdout",
     "output_type": "stream",
     "text": [
      "43391 82 19 36871.0\n",
      "0.9972798973500402\n",
      "(411, 8) (411, 1)\n",
      "Max reward for 37019.5 19\n",
      "19\n",
      "npa 12.216235779878984\n"
     ]
    },
    {
     "name": "stderr",
     "output_type": "stream",
     "text": [
      "../sim/GELoadBalancer.py:90: DataConversionWarning: A column-vector y was passed when a 1d array was expected. Please change the shape of y to (n_samples,), for example using ravel().\n",
      "  self.model = self.model.fit(self.X, self.y) #make sure the hat the last period x is ignored\n"
     ]
    },
    {
     "name": "stdout",
     "output_type": "stream",
     "text": [
      "43564 82 19 37044.0\n",
      "0.99770618074261\n",
      "(412, 8) (412, 1)\n",
      "Max reward for 37051.3 19\n",
      "19\n",
      "npa 12.088335568776584\n"
     ]
    },
    {
     "name": "stderr",
     "output_type": "stream",
     "text": [
      "../sim/GELoadBalancer.py:90: DataConversionWarning: A column-vector y was passed when a 1d array was expected. Please change the shape of y to (n_samples,), for example using ravel().\n",
      "  self.model = self.model.fit(self.X, self.y) #make sure the hat the last period x is ignored\n"
     ]
    },
    {
     "name": "stdout",
     "output_type": "stream",
     "text": [
      "43218 52 19 36998.0\n",
      "0.9968800691586872\n",
      "(413, 8) (413, 1)\n",
      "Max reward for 36662.5 19\n",
      "19\n",
      "npa 11.97350454690051\n"
     ]
    },
    {
     "name": "stderr",
     "output_type": "stream",
     "text": [
      "../sim/GELoadBalancer.py:90: DataConversionWarning: A column-vector y was passed when a 1d array was expected. Please change the shape of y to (n_samples,), for example using ravel().\n",
      "  self.model = self.model.fit(self.X, self.y) #make sure the hat the last period x is ignored\n"
     ]
    },
    {
     "name": "stdout",
     "output_type": "stream",
     "text": [
      "43296 73 19 36866.0\n",
      "0.997080999709181\n",
      "(414, 8) (414, 1)\n",
      "Max reward for 36974.4 19\n",
      "19\n",
      "npa 12.002807257050527\n"
     ]
    },
    {
     "name": "stderr",
     "output_type": "stream",
     "text": [
      "../sim/GELoadBalancer.py:90: DataConversionWarning: A column-vector y was passed when a 1d array was expected. Please change the shape of y to (n_samples,), for example using ravel().\n",
      "  self.model = self.model.fit(self.X, self.y) #make sure the hat the last period x is ignored\n"
     ]
    },
    {
     "name": "stdout",
     "output_type": "stream",
     "text": [
      "43478 82 19 36958.0\n",
      "0.9966075850719903\n",
      "(415, 8) (415, 1)\n",
      "Max reward for 37022.6 19\n",
      "19\n",
      "npa 12.110683662133185\n"
     ]
    },
    {
     "name": "stderr",
     "output_type": "stream",
     "text": [
      "../sim/GELoadBalancer.py:90: DataConversionWarning: A column-vector y was passed when a 1d array was expected. Please change the shape of y to (n_samples,), for example using ravel().\n",
      "  self.model = self.model.fit(self.X, self.y) #make sure the hat the last period x is ignored\n"
     ]
    },
    {
     "name": "stdout",
     "output_type": "stream",
     "text": [
      "43692 88 19 37112.0\n",
      "0.9970006001184061\n",
      "(416, 8) (416, 1)\n",
      "22\n",
      "npa 12.288537155593776\n"
     ]
    },
    {
     "name": "stderr",
     "output_type": "stream",
     "text": [
      "../sim/GELoadBalancer.py:90: DataConversionWarning: A column-vector y was passed when a 1d array was expected. Please change the shape of y to (n_samples,), for example using ravel().\n",
      "  self.model = self.model.fit(self.X, self.y) #make sure the hat the last period x is ignored\n"
     ]
    },
    {
     "name": "stdout",
     "output_type": "stream",
     "text": [
      "44052 3 22 37422.0\n",
      "0.9976220768137006\n",
      "(417, 8) (417, 1)\n",
      "Max reward for 37094.6 21\n",
      "21\n",
      "npa 12.23330295509754\n"
     ]
    },
    {
     "name": "stderr",
     "output_type": "stream",
     "text": [
      "../sim/GELoadBalancer.py:90: DataConversionWarning: A column-vector y was passed when a 1d array was expected. Please change the shape of y to (n_samples,), for example using ravel().\n",
      "  self.model = self.model.fit(self.X, self.y) #make sure the hat the last period x is ignored\n"
     ]
    },
    {
     "name": "stdout",
     "output_type": "stream",
     "text": [
      "44200 0.0 21 37900.0\n",
      "0.9975457785451884\n",
      "(418, 8) (418, 1)\n",
      "Max reward for 37674.4 21\n",
      "21\n",
      "npa 12.294229111969312\n"
     ]
    },
    {
     "name": "stderr",
     "output_type": "stream",
     "text": [
      "../sim/GELoadBalancer.py:90: DataConversionWarning: A column-vector y was passed when a 1d array was expected. Please change the shape of y to (n_samples,), for example using ravel().\n",
      "  self.model = self.model.fit(self.X, self.y) #make sure the hat the last period x is ignored\n"
     ]
    },
    {
     "name": "stdout",
     "output_type": "stream",
     "text": [
      "43805 0.0 21 37505.0\n",
      "0.9964572442038057\n",
      "(419, 8) (419, 1)\n",
      "Max reward for 37460.3 21\n",
      "21\n",
      "npa 12.073641829983332\n"
     ]
    },
    {
     "name": "stderr",
     "output_type": "stream",
     "text": [
      "../sim/GELoadBalancer.py:90: DataConversionWarning: A column-vector y was passed when a 1d array was expected. Please change the shape of y to (n_samples,), for example using ravel().\n",
      "  self.model = self.model.fit(self.X, self.y) #make sure the hat the last period x is ignored\n"
     ]
    },
    {
     "name": "stdout",
     "output_type": "stream",
     "text": [
      "43047 2 21 36727.0\n",
      "0.9976945222957443\n",
      "(420, 8) (420, 1)\n",
      "Max reward for 37025.8 21\n",
      "21\n",
      "npa 12.188934091345372\n"
     ]
    },
    {
     "name": "stderr",
     "output_type": "stream",
     "text": [
      "../sim/GELoadBalancer.py:90: DataConversionWarning: A column-vector y was passed when a 1d array was expected. Please change the shape of y to (n_samples,), for example using ravel().\n",
      "  self.model = self.model.fit(self.X, self.y) #make sure the hat the last period x is ignored\n"
     ]
    },
    {
     "name": "stdout",
     "output_type": "stream",
     "text": [
      "43982 0.0 21 37682.0\n",
      "0.9969913656465409\n",
      "(421, 8) (421, 1)\n",
      "Max reward for 37168.0 22\n",
      "22\n",
      "npa 12.094846966232087\n"
     ]
    },
    {
     "name": "stderr",
     "output_type": "stream",
     "text": [
      "../sim/GELoadBalancer.py:90: DataConversionWarning: A column-vector y was passed when a 1d array was expected. Please change the shape of y to (n_samples,), for example using ravel().\n",
      "  self.model = self.model.fit(self.X, self.y) #make sure the hat the last period x is ignored\n"
     ]
    },
    {
     "name": "stdout",
     "output_type": "stream",
     "text": [
      "43569 0.0 22 36969.0\n",
      "0.9973117581238089\n",
      "(422, 8) (422, 1)\n",
      "Max reward for 37489.9 21\n",
      "21\n",
      "npa 12.13685823633257\n"
     ]
    },
    {
     "name": "stderr",
     "output_type": "stream",
     "text": [
      "../sim/GELoadBalancer.py:90: DataConversionWarning: A column-vector y was passed when a 1d array was expected. Please change the shape of y to (n_samples,), for example using ravel().\n",
      "  self.model = self.model.fit(self.X, self.y) #make sure the hat the last period x is ignored\n"
     ]
    },
    {
     "name": "stdout",
     "output_type": "stream",
     "text": [
      "43741 0.0 21 37441.0\n",
      "0.9974552571206553\n",
      "(423, 8) (423, 1)\n",
      "27\n",
      "npa 12.247105119916192\n"
     ]
    },
    {
     "name": "stderr",
     "output_type": "stream",
     "text": [
      "../sim/GELoadBalancer.py:90: DataConversionWarning: A column-vector y was passed when a 1d array was expected. Please change the shape of y to (n_samples,), for example using ravel().\n",
      "  self.model = self.model.fit(self.X, self.y) #make sure the hat the last period x is ignored\n"
     ]
    },
    {
     "name": "stdout",
     "output_type": "stream",
     "text": [
      "44424 0.0 27 36324.0\n",
      "0.9971702589999247\n",
      "(424, 8) (424, 1)\n",
      "Max reward for 37242.0 19\n",
      "19\n",
      "npa 12.591763651848437\n"
     ]
    },
    {
     "name": "stderr",
     "output_type": "stream",
     "text": [
      "../sim/GELoadBalancer.py:90: DataConversionWarning: A column-vector y was passed when a 1d array was expected. Please change the shape of y to (n_samples,), for example using ravel().\n",
      "  self.model = self.model.fit(self.X, self.y) #make sure the hat the last period x is ignored\n"
     ]
    },
    {
     "name": "stdout",
     "output_type": "stream",
     "text": [
      "45441 284 19 36901.0\n",
      "0.9974727583233661\n",
      "(425, 8) (425, 1)\n",
      "Max reward for 36863.6 21\n",
      "21\n",
      "npa 12.75387230841669\n"
     ]
    },
    {
     "name": "stderr",
     "output_type": "stream",
     "text": [
      "../sim/GELoadBalancer.py:90: DataConversionWarning: A column-vector y was passed when a 1d array was expected. Please change the shape of y to (n_samples,), for example using ravel().\n",
      "  self.model = self.model.fit(self.X, self.y) #make sure the hat the last period x is ignored\n"
     ]
    },
    {
     "name": "stdout",
     "output_type": "stream",
     "text": [
      "46169 36 21 39509.0\n",
      "0.9973934831860934\n",
      "(426, 8) (426, 1)\n",
      "Max reward for 38417.6 21\n",
      "21\n",
      "npa 12.871777016977962\n"
     ]
    },
    {
     "name": "stderr",
     "output_type": "stream",
     "text": [
      "../sim/GELoadBalancer.py:90: DataConversionWarning: A column-vector y was passed when a 1d array was expected. Please change the shape of y to (n_samples,), for example using ravel().\n",
      "  self.model = self.model.fit(self.X, self.y) #make sure the hat the last period x is ignored\n"
     ]
    },
    {
     "name": "stdout",
     "output_type": "stream",
     "text": [
      "46401 17 21 39931.0\n",
      "0.996450106851196\n",
      "(427, 8) (427, 1)\n",
      "3\n",
      "npa 12.803287794816782\n"
     ]
    },
    {
     "name": "stderr",
     "output_type": "stream",
     "text": [
      "../sim/GELoadBalancer.py:90: DataConversionWarning: A column-vector y was passed when a 1d array was expected. Please change the shape of y to (n_samples,), for example using ravel().\n",
      "  self.model = self.model.fit(self.X, self.y) #make sure the hat the last period x is ignored\n"
     ]
    },
    {
     "name": "stdout",
     "output_type": "stream",
     "text": [
      "46088 5999 3 -14802.0\n",
      "0.9973753333382481\n",
      "(428, 8) (428, 1)\n",
      "Max reward for 39384.7 21\n",
      "21\n",
      "npa 12.680679107582282\n"
     ]
    },
    {
     "name": "stderr",
     "output_type": "stream",
     "text": [
      "../sim/GELoadBalancer.py:90: DataConversionWarning: A column-vector y was passed when a 1d array was expected. Please change the shape of y to (n_samples,), for example using ravel().\n",
      "  self.model = self.model.fit(self.X, self.y) #make sure the hat the last period x is ignored\n"
     ]
    },
    {
     "name": "stdout",
     "output_type": "stream",
     "text": [
      "45954 37 21 39284.0\n",
      "0.9976227158340465\n",
      "(429, 8) (429, 1)\n",
      "2\n",
      "npa 12.499731981375232\n"
     ]
    },
    {
     "name": "stderr",
     "output_type": "stream",
     "text": [
      "../sim/GELoadBalancer.py:90: DataConversionWarning: A column-vector y was passed when a 1d array was expected. Please change the shape of y to (n_samples,), for example using ravel().\n",
      "  self.model = self.model.fit(self.X, self.y) #make sure the hat the last period x is ignored\n"
     ]
    },
    {
     "name": "stdout",
     "output_type": "stream",
     "text": [
      "45031 6668 2 -22249.0\n",
      "0.9970555315680697\n",
      "(430, 8) (430, 1)\n",
      "11\n",
      "npa 12.480228197263576\n"
     ]
    },
    {
     "name": "stderr",
     "output_type": "stream",
     "text": [
      "../sim/GELoadBalancer.py:90: DataConversionWarning: A column-vector y was passed when a 1d array was expected. Please change the shape of y to (n_samples,), for example using ravel().\n",
      "  self.model = self.model.fit(self.X, self.y) #make sure the hat the last period x is ignored\n"
     ]
    },
    {
     "name": "stdout",
     "output_type": "stream",
     "text": [
      "44786 2799 11 13496.0\n",
      "0.9974761372562616\n",
      "(431, 8) (431, 1)\n",
      "Max reward for 36956.0 21\n",
      "21\n",
      "npa 12.326214597252346\n"
     ]
    },
    {
     "name": "stderr",
     "output_type": "stream",
     "text": [
      "../sim/GELoadBalancer.py:90: DataConversionWarning: A column-vector y was passed when a 1d array was expected. Please change the shape of y to (n_samples,), for example using ravel().\n",
      "  self.model = self.model.fit(self.X, self.y) #make sure the hat the last period x is ignored\n"
     ]
    },
    {
     "name": "stdout",
     "output_type": "stream",
     "text": [
      "44500 3 21 38170.0\n",
      "0.9979048525755033\n",
      "(432, 8) (432, 1)\n",
      "Max reward for 37043.5 21\n",
      "21\n",
      "npa 12.13483515313328\n"
     ]
    },
    {
     "name": "stderr",
     "output_type": "stream",
     "text": [
      "../sim/GELoadBalancer.py:90: DataConversionWarning: A column-vector y was passed when a 1d array was expected. Please change the shape of y to (n_samples,), for example using ravel().\n",
      "  self.model = self.model.fit(self.X, self.y) #make sure the hat the last period x is ignored\n"
     ]
    },
    {
     "name": "stdout",
     "output_type": "stream",
     "text": [
      "44011 2 21 37691.0\n",
      "0.9978511391582069\n",
      "(433, 8) (433, 1)\n",
      "Max reward for 36893.2 21\n",
      "21\n",
      "npa 12.260982664486596\n"
     ]
    },
    {
     "name": "stderr",
     "output_type": "stream",
     "text": [
      "../sim/GELoadBalancer.py:90: DataConversionWarning: A column-vector y was passed when a 1d array was expected. Please change the shape of y to (n_samples,), for example using ravel().\n",
      "  self.model = self.model.fit(self.X, self.y) #make sure the hat the last period x is ignored\n"
     ]
    },
    {
     "name": "stdout",
     "output_type": "stream",
     "text": [
      "44115 0.0 21 37815.0\n",
      "0.9973455048060929\n",
      "(434, 8) (434, 1)\n",
      "Max reward for 36804.9 21\n",
      "21\n",
      "npa 12.310973306341731\n"
     ]
    },
    {
     "name": "stderr",
     "output_type": "stream",
     "text": [
      "../sim/GELoadBalancer.py:90: DataConversionWarning: A column-vector y was passed when a 1d array was expected. Please change the shape of y to (n_samples,), for example using ravel().\n",
      "  self.model = self.model.fit(self.X, self.y) #make sure the hat the last period x is ignored\n"
     ]
    },
    {
     "name": "stdout",
     "output_type": "stream",
     "text": [
      "44104 0.0 21 37804.0\n",
      "0.9977317268322111\n",
      "(435, 8) (435, 1)\n",
      "Max reward for 37271.3 21\n",
      "21\n",
      "npa 12.179264512102245\n"
     ]
    },
    {
     "name": "stderr",
     "output_type": "stream",
     "text": [
      "../sim/GELoadBalancer.py:90: DataConversionWarning: A column-vector y was passed when a 1d array was expected. Please change the shape of y to (n_samples,), for example using ravel().\n",
      "  self.model = self.model.fit(self.X, self.y) #make sure the hat the last period x is ignored\n"
     ]
    },
    {
     "name": "stdout",
     "output_type": "stream",
     "text": [
      "43911 1 21 37601.0\n",
      "0.9976847361638868\n",
      "(436, 8) (436, 1)\n",
      "Max reward for 36582.0 21\n",
      "21\n",
      "npa 12.527346026366441\n"
     ]
    },
    {
     "name": "stderr",
     "output_type": "stream",
     "text": [
      "../sim/GELoadBalancer.py:90: DataConversionWarning: A column-vector y was passed when a 1d array was expected. Please change the shape of y to (n_samples,), for example using ravel().\n",
      "  self.model = self.model.fit(self.X, self.y) #make sure the hat the last period x is ignored\n"
     ]
    },
    {
     "name": "stdout",
     "output_type": "stream",
     "text": [
      "44920 3 21 38590.0\n",
      "0.9976077269401274\n",
      "(437, 8) (437, 1)\n",
      "Max reward for 37673.7 21\n",
      "21\n",
      "npa 12.491046772240622\n"
     ]
    },
    {
     "name": "stderr",
     "output_type": "stream",
     "text": [
      "../sim/GELoadBalancer.py:90: DataConversionWarning: A column-vector y was passed when a 1d array was expected. Please change the shape of y to (n_samples,), for example using ravel().\n",
      "  self.model = self.model.fit(self.X, self.y) #make sure the hat the last period x is ignored\n"
     ]
    },
    {
     "name": "stdout",
     "output_type": "stream",
     "text": [
      "44932 2 21 38612.0\n",
      "0.99770025252842\n",
      "(438, 8) (438, 1)\n",
      "Max reward for 38567.8 21\n",
      "21\n",
      "npa 12.599082630054067\n"
     ]
    },
    {
     "name": "stderr",
     "output_type": "stream",
     "text": [
      "../sim/GELoadBalancer.py:90: DataConversionWarning: A column-vector y was passed when a 1d array was expected. Please change the shape of y to (n_samples,), for example using ravel().\n",
      "  self.model = self.model.fit(self.X, self.y) #make sure the hat the last period x is ignored\n"
     ]
    },
    {
     "name": "stdout",
     "output_type": "stream",
     "text": [
      "45816 3 21 39486.0\n",
      "0.9966360458854855\n",
      "(439, 8) (439, 1)\n",
      "Max reward for 39456.6 21\n",
      "21\n",
      "npa 12.570002654636601\n"
     ]
    },
    {
     "name": "stderr",
     "output_type": "stream",
     "text": [
      "../sim/GELoadBalancer.py:90: DataConversionWarning: A column-vector y was passed when a 1d array was expected. Please change the shape of y to (n_samples,), for example using ravel().\n",
      "  self.model = self.model.fit(self.X, self.y) #make sure the hat the last period x is ignored\n"
     ]
    },
    {
     "name": "stdout",
     "output_type": "stream",
     "text": [
      "45653 10 21 39253.0\n",
      "0.9977135211715455\n",
      "(440, 8) (440, 1)\n",
      "Max reward for 39509.7 17\n",
      "17\n",
      "npa 12.670422266331466\n"
     ]
    },
    {
     "name": "stderr",
     "output_type": "stream",
     "text": [
      "../sim/GELoadBalancer.py:90: DataConversionWarning: A column-vector y was passed when a 1d array was expected. Please change the shape of y to (n_samples,), for example using ravel().\n",
      "  self.model = self.model.fit(self.X, self.y) #make sure the hat the last period x is ignored\n"
     ]
    },
    {
     "name": "stdout",
     "output_type": "stream",
     "text": [
      "45755 1236 17 28295.0\n",
      "0.997240448902843\n",
      "(441, 8) (441, 1)\n",
      "Max reward for 39378.2 18\n",
      "18\n",
      "npa 12.78488397804973\n"
     ]
    },
    {
     "name": "stderr",
     "output_type": "stream",
     "text": [
      "../sim/GELoadBalancer.py:90: DataConversionWarning: A column-vector y was passed when a 1d array was expected. Please change the shape of y to (n_samples,), for example using ravel().\n",
      "  self.model = self.model.fit(self.X, self.y) #make sure the hat the last period x is ignored\n"
     ]
    },
    {
     "name": "stdout",
     "output_type": "stream",
     "text": [
      "46064 859 18 32074.0\n",
      "0.9972297703229843\n",
      "(442, 8) (442, 1)\n",
      "Max reward for 39145.3 21\n",
      "21\n",
      "npa 12.801556532614178\n"
     ]
    },
    {
     "name": "stderr",
     "output_type": "stream",
     "text": [
      "../sim/GELoadBalancer.py:90: DataConversionWarning: A column-vector y was passed when a 1d array was expected. Please change the shape of y to (n_samples,), for example using ravel().\n",
      "  self.model = self.model.fit(self.X, self.y) #make sure the hat the last period x is ignored\n"
     ]
    },
    {
     "name": "stdout",
     "output_type": "stream",
     "text": [
      "46162 12 21 39742.0\n",
      "0.9977676142865436\n",
      "(443, 8) (443, 1)\n",
      "Max reward for 39691.6 19\n",
      "19\n",
      "npa 12.75267006937431\n"
     ]
    },
    {
     "name": "stderr",
     "output_type": "stream",
     "text": [
      "../sim/GELoadBalancer.py:90: DataConversionWarning: A column-vector y was passed when a 1d array was expected. Please change the shape of y to (n_samples,), for example using ravel().\n",
      "  self.model = self.model.fit(self.X, self.y) #make sure the hat the last period x is ignored\n"
     ]
    },
    {
     "name": "stdout",
     "output_type": "stream",
     "text": [
      "45975 378 19 36495.0\n",
      "0.996950623035145\n",
      "(444, 8) (444, 1)\n",
      "Max reward for 39565.3 21\n",
      "21\n",
      "npa 12.628029185883937\n"
     ]
    },
    {
     "name": "stderr",
     "output_type": "stream",
     "text": [
      "../sim/GELoadBalancer.py:90: DataConversionWarning: A column-vector y was passed when a 1d array was expected. Please change the shape of y to (n_samples,), for example using ravel().\n",
      "  self.model = self.model.fit(self.X, self.y) #make sure the hat the last period x is ignored\n"
     ]
    },
    {
     "name": "stdout",
     "output_type": "stream",
     "text": [
      "45555 9 21 39165.0\n",
      "0.9969712816671102\n",
      "(445, 8) (445, 1)\n",
      "Max reward for 39425.3 21\n",
      "21\n",
      "npa 12.734924075927125\n"
     ]
    },
    {
     "name": "stderr",
     "output_type": "stream",
     "text": [
      "../sim/GELoadBalancer.py:90: DataConversionWarning: A column-vector y was passed when a 1d array was expected. Please change the shape of y to (n_samples,), for example using ravel().\n",
      "  self.model = self.model.fit(self.X, self.y) #make sure the hat the last period x is ignored\n"
     ]
    },
    {
     "name": "stdout",
     "output_type": "stream",
     "text": [
      "45405 6 21 39045.0\n",
      "0.9971121738737942\n",
      "(446, 8) (446, 1)\n",
      "Max reward for 39288.6 21\n",
      "21\n",
      "npa 12.712368958871222\n"
     ]
    },
    {
     "name": "stderr",
     "output_type": "stream",
     "text": [
      "../sim/GELoadBalancer.py:90: DataConversionWarning: A column-vector y was passed when a 1d array was expected. Please change the shape of y to (n_samples,), for example using ravel().\n",
      "  self.model = self.model.fit(self.X, self.y) #make sure the hat the last period x is ignored\n"
     ]
    },
    {
     "name": "stdout",
     "output_type": "stream",
     "text": [
      "46155 21 21 39645.0\n",
      "0.9971611672762641\n",
      "(447, 8) (447, 1)\n",
      "Max reward for 39179.1 21\n",
      "21\n",
      "npa 12.867247583615612\n"
     ]
    },
    {
     "name": "stderr",
     "output_type": "stream",
     "text": [
      "../sim/GELoadBalancer.py:90: DataConversionWarning: A column-vector y was passed when a 1d array was expected. Please change the shape of y to (n_samples,), for example using ravel().\n",
      "  self.model = self.model.fit(self.X, self.y) #make sure the hat the last period x is ignored\n"
     ]
    },
    {
     "name": "stdout",
     "output_type": "stream",
     "text": [
      "46263 15 21 39813.0\n",
      "0.9966823463501883\n",
      "(448, 8) (448, 1)\n",
      "Max reward for 39475.2 21\n",
      "21\n",
      "npa 13.045443561095853\n"
     ]
    },
    {
     "name": "stderr",
     "output_type": "stream",
     "text": [
      "../sim/GELoadBalancer.py:90: DataConversionWarning: A column-vector y was passed when a 1d array was expected. Please change the shape of y to (n_samples,), for example using ravel().\n",
      "  self.model = self.model.fit(self.X, self.y) #make sure the hat the last period x is ignored\n"
     ]
    },
    {
     "name": "stdout",
     "output_type": "stream",
     "text": [
      "47008 30 21 40408.0\n",
      "0.9976942221692032\n",
      "(449, 8) (449, 1)\n",
      "Max reward for 40205.4 21\n",
      "21\n",
      "npa 12.959556161042158\n"
     ]
    },
    {
     "name": "stderr",
     "output_type": "stream",
     "text": [
      "../sim/GELoadBalancer.py:90: DataConversionWarning: A column-vector y was passed when a 1d array was expected. Please change the shape of y to (n_samples,), for example using ravel().\n",
      "  self.model = self.model.fit(self.X, self.y) #make sure the hat the last period x is ignored\n"
     ]
    },
    {
     "name": "stdout",
     "output_type": "stream",
     "text": [
      "46734 11 21 40324.0\n",
      "0.9973286863038177\n",
      "(450, 8) (450, 1)\n",
      "Max reward for 40139.8 21\n",
      "21\n",
      "npa 12.970388990191372\n"
     ]
    },
    {
     "name": "stderr",
     "output_type": "stream",
     "text": [
      "../sim/GELoadBalancer.py:90: DataConversionWarning: A column-vector y was passed when a 1d array was expected. Please change the shape of y to (n_samples,), for example using ravel().\n",
      "  self.model = self.model.fit(self.X, self.y) #make sure the hat the last period x is ignored\n"
     ]
    },
    {
     "name": "stdout",
     "output_type": "stream",
     "text": [
      "46568 26 21 40008.0\n",
      "0.9976231982419381\n",
      "(451, 8) (451, 1)\n",
      "Max reward for 40124.0 21\n",
      "21\n",
      "npa 13.017130331550169\n"
     ]
    },
    {
     "name": "stderr",
     "output_type": "stream",
     "text": [
      "../sim/GELoadBalancer.py:90: DataConversionWarning: A column-vector y was passed when a 1d array was expected. Please change the shape of y to (n_samples,), for example using ravel().\n",
      "  self.model = self.model.fit(self.X, self.y) #make sure the hat the last period x is ignored\n"
     ]
    },
    {
     "name": "stdout",
     "output_type": "stream",
     "text": [
      "46624 22 21 40104.0\n",
      "0.9968719909930216\n",
      "(452, 8) (452, 1)\n",
      "Max reward for 40185.6 21\n",
      "21\n",
      "npa 13.004525030727429\n"
     ]
    },
    {
     "name": "stderr",
     "output_type": "stream",
     "text": [
      "../sim/GELoadBalancer.py:90: DataConversionWarning: A column-vector y was passed when a 1d array was expected. Please change the shape of y to (n_samples,), for example using ravel().\n",
      "  self.model = self.model.fit(self.X, self.y) #make sure the hat the last period x is ignored\n"
     ]
    },
    {
     "name": "stdout",
     "output_type": "stream",
     "text": [
      "46523 13 21 40093.0\n",
      "0.9971847058803768\n",
      "(453, 8) (453, 1)\n",
      "Max reward for 40056.5 21\n",
      "21\n",
      "npa 13.007850849548255\n"
     ]
    },
    {
     "name": "stderr",
     "output_type": "stream",
     "text": [
      "../sim/GELoadBalancer.py:90: DataConversionWarning: A column-vector y was passed when a 1d array was expected. Please change the shape of y to (n_samples,), for example using ravel().\n",
      "  self.model = self.model.fit(self.X, self.y) #make sure the hat the last period x is ignored\n"
     ]
    },
    {
     "name": "stdout",
     "output_type": "stream",
     "text": [
      "46555 34 21 39915.0\n",
      "0.9973912108216483\n",
      "(454, 8) (454, 1)\n",
      "Max reward for 40117.8 21\n",
      "21\n",
      "npa 12.855756070155904\n"
     ]
    },
    {
     "name": "stderr",
     "output_type": "stream",
     "text": [
      "../sim/GELoadBalancer.py:90: DataConversionWarning: A column-vector y was passed when a 1d array was expected. Please change the shape of y to (n_samples,), for example using ravel().\n",
      "  self.model = self.model.fit(self.X, self.y) #make sure the hat the last period x is ignored\n"
     ]
    },
    {
     "name": "stdout",
     "output_type": "stream",
     "text": [
      "46378 24 21 39838.0\n",
      "0.997589357742106\n",
      "(455, 8) (455, 1)\n",
      "Max reward for 39978.4 21\n",
      "21\n",
      "npa 12.893062928005167\n"
     ]
    },
    {
     "name": "stderr",
     "output_type": "stream",
     "text": [
      "../sim/GELoadBalancer.py:90: DataConversionWarning: A column-vector y was passed when a 1d array was expected. Please change the shape of y to (n_samples,), for example using ravel().\n",
      "  self.model = self.model.fit(self.X, self.y) #make sure the hat the last period x is ignored\n"
     ]
    },
    {
     "name": "stdout",
     "output_type": "stream",
     "text": [
      "46577 20 21 40077.0\n",
      "0.9974705603957846\n",
      "(456, 8) (456, 1)\n",
      "Max reward for 40122.3 21\n",
      "21\n",
      "npa 13.106515173904608\n"
     ]
    },
    {
     "name": "stderr",
     "output_type": "stream",
     "text": [
      "../sim/GELoadBalancer.py:90: DataConversionWarning: A column-vector y was passed when a 1d array was expected. Please change the shape of y to (n_samples,), for example using ravel().\n",
      "  self.model = self.model.fit(self.X, self.y) #make sure the hat the last period x is ignored\n"
     ]
    },
    {
     "name": "stdout",
     "output_type": "stream",
     "text": [
      "46918 35 21 40268.0\n",
      "0.9976346388709444\n",
      "(457, 8) (457, 1)\n",
      "Max reward for 40221.2 21\n",
      "21\n",
      "npa 12.899238987356197\n"
     ]
    },
    {
     "name": "stderr",
     "output_type": "stream",
     "text": [
      "../sim/GELoadBalancer.py:90: DataConversionWarning: A column-vector y was passed when a 1d array was expected. Please change the shape of y to (n_samples,), for example using ravel().\n",
      "  self.model = self.model.fit(self.X, self.y) #make sure the hat the last period x is ignored\n"
     ]
    },
    {
     "name": "stdout",
     "output_type": "stream",
     "text": [
      "46273 10 21 39873.0\n",
      "0.9974073788209372\n",
      "(458, 8) (458, 1)\n",
      "Max reward for 39926.7 21\n",
      "21\n",
      "npa 12.744378904699948\n"
     ]
    },
    {
     "name": "stderr",
     "output_type": "stream",
     "text": [
      "../sim/GELoadBalancer.py:90: DataConversionWarning: A column-vector y was passed when a 1d array was expected. Please change the shape of y to (n_samples,), for example using ravel().\n",
      "  self.model = self.model.fit(self.X, self.y) #make sure the hat the last period x is ignored\n"
     ]
    },
    {
     "name": "stdout",
     "output_type": "stream",
     "text": [
      "46129 8 21 39749.0\n",
      "0.9976915766476945\n",
      "(459, 8) (459, 1)\n",
      "Max reward for 39854.1 21\n",
      "21\n",
      "npa 12.784622462712251\n"
     ]
    },
    {
     "name": "stderr",
     "output_type": "stream",
     "text": [
      "../sim/GELoadBalancer.py:90: DataConversionWarning: A column-vector y was passed when a 1d array was expected. Please change the shape of y to (n_samples,), for example using ravel().\n",
      "  self.model = self.model.fit(self.X, self.y) #make sure the hat the last period x is ignored\n"
     ]
    },
    {
     "name": "stdout",
     "output_type": "stream",
     "text": [
      "45928 10 21 39528.0\n",
      "0.9973517170271546\n",
      "(460, 8) (460, 1)\n",
      "Max reward for 39396.0 21\n",
      "21\n",
      "npa 12.70195585363142\n"
     ]
    },
    {
     "name": "stderr",
     "output_type": "stream",
     "text": [
      "../sim/GELoadBalancer.py:90: DataConversionWarning: A column-vector y was passed when a 1d array was expected. Please change the shape of y to (n_samples,), for example using ravel().\n",
      "  self.model = self.model.fit(self.X, self.y) #make sure the hat the last period x is ignored\n"
     ]
    },
    {
     "name": "stdout",
     "output_type": "stream",
     "text": [
      "45994 4 21 39654.0\n",
      "0.9972938965523271\n",
      "(461, 8) (461, 1)\n",
      "Max reward for 39439.8 21\n",
      "21\n",
      "npa 12.64448262610791\n"
     ]
    },
    {
     "name": "stderr",
     "output_type": "stream",
     "text": [
      "../sim/GELoadBalancer.py:90: DataConversionWarning: A column-vector y was passed when a 1d array was expected. Please change the shape of y to (n_samples,), for example using ravel().\n",
      "  self.model = self.model.fit(self.X, self.y) #make sure the hat the last period x is ignored\n"
     ]
    },
    {
     "name": "stdout",
     "output_type": "stream",
     "text": [
      "45398 7 21 39028.0\n",
      "0.9975241622144865\n",
      "(462, 8) (462, 1)\n",
      "Max reward for 39285.8 21\n",
      "21\n",
      "npa 12.604259273987592\n"
     ]
    },
    {
     "name": "stderr",
     "output_type": "stream",
     "text": [
      "../sim/GELoadBalancer.py:90: DataConversionWarning: A column-vector y was passed when a 1d array was expected. Please change the shape of y to (n_samples,), for example using ravel().\n",
      "  self.model = self.model.fit(self.X, self.y) #make sure the hat the last period x is ignored\n"
     ]
    },
    {
     "name": "stdout",
     "output_type": "stream",
     "text": [
      "45517 3 21 39187.0\n",
      "0.9967605398450032\n",
      "(463, 8) (463, 1)\n",
      "Max reward for 39269.2 21\n",
      "21\n",
      "npa 12.65520061231109\n"
     ]
    },
    {
     "name": "stderr",
     "output_type": "stream",
     "text": [
      "../sim/GELoadBalancer.py:90: DataConversionWarning: A column-vector y was passed when a 1d array was expected. Please change the shape of y to (n_samples,), for example using ravel().\n",
      "  self.model = self.model.fit(self.X, self.y) #make sure the hat the last period x is ignored\n"
     ]
    },
    {
     "name": "stdout",
     "output_type": "stream",
     "text": [
      "45616 6 21 39256.0\n",
      "0.9971195435445539\n",
      "(464, 8) (464, 1)\n",
      "9\n",
      "npa 12.67948949838288\n"
     ]
    },
    {
     "name": "stderr",
     "output_type": "stream",
     "text": [
      "../sim/GELoadBalancer.py:90: DataConversionWarning: A column-vector y was passed when a 1d array was expected. Please change the shape of y to (n_samples,), for example using ravel().\n",
      "  self.model = self.model.fit(self.X, self.y) #make sure the hat the last period x is ignored\n"
     ]
    },
    {
     "name": "stdout",
     "output_type": "stream",
     "text": [
      "45599 2528 9 17619.0\n",
      "0.9973133014064355\n",
      "(465, 8) (465, 1)\n",
      "20\n",
      "npa 12.696193426865086\n"
     ]
    },
    {
     "name": "stderr",
     "output_type": "stream",
     "text": [
      "../sim/GELoadBalancer.py:90: DataConversionWarning: A column-vector y was passed when a 1d array was expected. Please change the shape of y to (n_samples,), for example using ravel().\n",
      "  self.model = self.model.fit(self.X, self.y) #make sure the hat the last period x is ignored\n"
     ]
    },
    {
     "name": "stdout",
     "output_type": "stream",
     "text": [
      "45852 107 20 38782.0\n",
      "0.9964919139980001\n",
      "(466, 8) (466, 1)\n",
      "Max reward for 39359.2 21\n",
      "21\n",
      "npa 12.870835216801591\n"
     ]
    },
    {
     "name": "stderr",
     "output_type": "stream",
     "text": [
      "../sim/GELoadBalancer.py:90: DataConversionWarning: A column-vector y was passed when a 1d array was expected. Please change the shape of y to (n_samples,), for example using ravel().\n",
      "  self.model = self.model.fit(self.X, self.y) #make sure the hat the last period x is ignored\n"
     ]
    },
    {
     "name": "stdout",
     "output_type": "stream",
     "text": [
      "46473 14 21 40033.0\n",
      "0.9974346576703228\n",
      "(467, 8) (467, 1)\n",
      "Max reward for 40073.7 21\n",
      "21\n",
      "npa 12.871543763224377\n"
     ]
    },
    {
     "name": "stderr",
     "output_type": "stream",
     "text": [
      "../sim/GELoadBalancer.py:90: DataConversionWarning: A column-vector y was passed when a 1d array was expected. Please change the shape of y to (n_samples,), for example using ravel().\n",
      "  self.model = self.model.fit(self.X, self.y) #make sure the hat the last period x is ignored\n"
     ]
    },
    {
     "name": "stdout",
     "output_type": "stream",
     "text": [
      "46664 16 21 40204.0\n",
      "0.9968364507925669\n",
      "(468, 8) (468, 1)\n",
      "Max reward for 40113.1 21\n",
      "21\n",
      "npa 13.036551551806902\n"
     ]
    },
    {
     "name": "stderr",
     "output_type": "stream",
     "text": [
      "../sim/GELoadBalancer.py:90: DataConversionWarning: A column-vector y was passed when a 1d array was expected. Please change the shape of y to (n_samples,), for example using ravel().\n",
      "  self.model = self.model.fit(self.X, self.y) #make sure the hat the last period x is ignored\n"
     ]
    },
    {
     "name": "stdout",
     "output_type": "stream",
     "text": [
      "47028 29 21 40438.0\n",
      "0.997186857729201\n",
      "(469, 8) (469, 1)\n",
      "Max reward for 40122.3 21\n",
      "21\n",
      "npa 13.018931566067769\n"
     ]
    },
    {
     "name": "stderr",
     "output_type": "stream",
     "text": [
      "../sim/GELoadBalancer.py:90: DataConversionWarning: A column-vector y was passed when a 1d array was expected. Please change the shape of y to (n_samples,), for example using ravel().\n",
      "  self.model = self.model.fit(self.X, self.y) #make sure the hat the last period x is ignored\n"
     ]
    },
    {
     "name": "stdout",
     "output_type": "stream",
     "text": [
      "46628 16 21 40168.0\n",
      "0.9964949693510413\n",
      "(470, 8) (470, 1)\n",
      "Max reward for 40167.2 21\n",
      "21\n",
      "npa 12.862177731688531\n"
     ]
    },
    {
     "name": "stderr",
     "output_type": "stream",
     "text": [
      "../sim/GELoadBalancer.py:90: DataConversionWarning: A column-vector y was passed when a 1d array was expected. Please change the shape of y to (n_samples,), for example using ravel().\n",
      "  self.model = self.model.fit(self.X, self.y) #make sure the hat the last period x is ignored\n"
     ]
    },
    {
     "name": "stdout",
     "output_type": "stream",
     "text": [
      "46428 20 21 39928.0\n",
      "0.9975543688308588\n",
      "(471, 8) (471, 1)\n",
      "Max reward for 40130.0 21\n",
      "21\n",
      "npa 12.779744074004594\n"
     ]
    },
    {
     "name": "stderr",
     "output_type": "stream",
     "text": [
      "../sim/GELoadBalancer.py:90: DataConversionWarning: A column-vector y was passed when a 1d array was expected. Please change the shape of y to (n_samples,), for example using ravel().\n",
      "  self.model = self.model.fit(self.X, self.y) #make sure the hat the last period x is ignored\n"
     ]
    },
    {
     "name": "stdout",
     "output_type": "stream",
     "text": [
      "46170 10 21 39770.0\n",
      "0.9977260960165099\n",
      "(472, 8) (472, 1)\n",
      "Max reward for 39855.6 21\n",
      "21\n",
      "npa 12.811783533009216\n"
     ]
    },
    {
     "name": "stderr",
     "output_type": "stream",
     "text": [
      "../sim/GELoadBalancer.py:90: DataConversionWarning: A column-vector y was passed when a 1d array was expected. Please change the shape of y to (n_samples,), for example using ravel().\n",
      "  self.model = self.model.fit(self.X, self.y) #make sure the hat the last period x is ignored\n"
     ]
    },
    {
     "name": "stdout",
     "output_type": "stream",
     "text": [
      "46104 17 21 39634.0\n",
      "0.9970497461895885\n",
      "(473, 8) (473, 1)\n",
      "Max reward for 39199.6 21\n",
      "21\n",
      "npa 12.786802779224091\n"
     ]
    },
    {
     "name": "stderr",
     "output_type": "stream",
     "text": [
      "../sim/GELoadBalancer.py:90: DataConversionWarning: A column-vector y was passed when a 1d array was expected. Please change the shape of y to (n_samples,), for example using ravel().\n",
      "  self.model = self.model.fit(self.X, self.y) #make sure the hat the last period x is ignored\n"
     ]
    },
    {
     "name": "stdout",
     "output_type": "stream",
     "text": [
      "46195 11 21 39785.0\n",
      "0.9972996161125135\n",
      "(474, 8) (474, 1)\n",
      "Max reward for 39764.3 21\n",
      "21\n",
      "npa 12.791418557461924\n"
     ]
    },
    {
     "name": "stderr",
     "output_type": "stream",
     "text": [
      "../sim/GELoadBalancer.py:90: DataConversionWarning: A column-vector y was passed when a 1d array was expected. Please change the shape of y to (n_samples,), for example using ravel().\n",
      "  self.model = self.model.fit(self.X, self.y) #make sure the hat the last period x is ignored\n"
     ]
    },
    {
     "name": "stdout",
     "output_type": "stream",
     "text": [
      "46333 23 21 39803.0\n",
      "0.9974278613596673\n",
      "(475, 8) (475, 1)\n",
      "Max reward for 40174.6 21\n",
      "21\n",
      "npa 12.887336630669594\n"
     ]
    },
    {
     "name": "stderr",
     "output_type": "stream",
     "text": [
      "../sim/GELoadBalancer.py:90: DataConversionWarning: A column-vector y was passed when a 1d array was expected. Please change the shape of y to (n_samples,), for example using ravel().\n",
      "  self.model = self.model.fit(self.X, self.y) #make sure the hat the last period x is ignored\n"
     ]
    },
    {
     "name": "stdout",
     "output_type": "stream",
     "text": [
      "46415 8 21 40035.0\n",
      "0.9975714136932744\n",
      "(476, 8) (476, 1)\n",
      "Max reward for 39787.2 21\n",
      "21\n",
      "npa 13.081924760023261\n"
     ]
    },
    {
     "name": "stderr",
     "output_type": "stream",
     "text": [
      "../sim/GELoadBalancer.py:90: DataConversionWarning: A column-vector y was passed when a 1d array was expected. Please change the shape of y to (n_samples,), for example using ravel().\n",
      "  self.model = self.model.fit(self.X, self.y) #make sure the hat the last period x is ignored\n"
     ]
    },
    {
     "name": "stdout",
     "output_type": "stream",
     "text": [
      "47089 24 21 40549.0\n",
      "0.9974039561243018\n",
      "(477, 8) (477, 1)\n",
      "Max reward for 40136.3 21\n",
      "21\n",
      "npa 13.016849080082755\n"
     ]
    },
    {
     "name": "stderr",
     "output_type": "stream",
     "text": [
      "../sim/GELoadBalancer.py:90: DataConversionWarning: A column-vector y was passed when a 1d array was expected. Please change the shape of y to (n_samples,), for example using ravel().\n",
      "  self.model = self.model.fit(self.X, self.y) #make sure the hat the last period x is ignored\n"
     ]
    },
    {
     "name": "stdout",
     "output_type": "stream",
     "text": [
      "46705 34 21 40065.0\n",
      "0.9963578618769914\n",
      "(478, 8) (478, 1)\n",
      "Max reward for 40154.1 21\n",
      "21\n",
      "npa 12.815669051073096\n"
     ]
    },
    {
     "name": "stderr",
     "output_type": "stream",
     "text": [
      "../sim/GELoadBalancer.py:90: DataConversionWarning: A column-vector y was passed when a 1d array was expected. Please change the shape of y to (n_samples,), for example using ravel().\n",
      "  self.model = self.model.fit(self.X, self.y) #make sure the hat the last period x is ignored\n"
     ]
    },
    {
     "name": "stdout",
     "output_type": "stream",
     "text": [
      "46382 21 21 39872.0\n",
      "0.9969706980991574\n",
      "(479, 8) (479, 1)\n",
      "Max reward for 40059.4 21\n",
      "21\n",
      "npa 12.938548271277305\n"
     ]
    },
    {
     "name": "stderr",
     "output_type": "stream",
     "text": [
      "../sim/GELoadBalancer.py:90: DataConversionWarning: A column-vector y was passed when a 1d array was expected. Please change the shape of y to (n_samples,), for example using ravel().\n",
      "  self.model = self.model.fit(self.X, self.y) #make sure the hat the last period x is ignored\n"
     ]
    },
    {
     "name": "stdout",
     "output_type": "stream",
     "text": [
      "46770 17 21 40300.0\n",
      "0.9975949700123111\n",
      "(480, 8) (480, 1)\n",
      "Max reward for 40216.5 21\n",
      "21\n",
      "npa 12.956292390850578\n"
     ]
    },
    {
     "name": "stderr",
     "output_type": "stream",
     "text": [
      "../sim/GELoadBalancer.py:90: DataConversionWarning: A column-vector y was passed when a 1d array was expected. Please change the shape of y to (n_samples,), for example using ravel().\n",
      "  self.model = self.model.fit(self.X, self.y) #make sure the hat the last period x is ignored\n"
     ]
    },
    {
     "name": "stdout",
     "output_type": "stream",
     "text": [
      "46686 9 21 40296.0\n",
      "0.9973318991604597\n",
      "(481, 8) (481, 1)\n",
      "Max reward for 40200.0 21\n",
      "21\n",
      "npa 12.814850637369952\n"
     ]
    },
    {
     "name": "stderr",
     "output_type": "stream",
     "text": [
      "../sim/GELoadBalancer.py:90: DataConversionWarning: A column-vector y was passed when a 1d array was expected. Please change the shape of y to (n_samples,), for example using ravel().\n",
      "  self.model = self.model.fit(self.X, self.y) #make sure the hat the last period x is ignored\n"
     ]
    },
    {
     "name": "stdout",
     "output_type": "stream",
     "text": [
      "46533 15 21 40083.0\n",
      "0.9971260242053235\n",
      "(482, 8) (482, 1)\n",
      "Max reward for 40145.1 21\n",
      "21\n",
      "npa 12.912053523983246\n"
     ]
    },
    {
     "name": "stderr",
     "output_type": "stream",
     "text": [
      "../sim/GELoadBalancer.py:90: DataConversionWarning: A column-vector y was passed when a 1d array was expected. Please change the shape of y to (n_samples,), for example using ravel().\n",
      "  self.model = self.model.fit(self.X, self.y) #make sure the hat the last period x is ignored\n"
     ]
    },
    {
     "name": "stdout",
     "output_type": "stream",
     "text": [
      "46559 16 21 40099.0\n",
      "0.997217426867114\n",
      "(483, 8) (483, 1)\n",
      "Max reward for 40095.9 21\n",
      "21\n",
      "npa 12.780723293851441\n"
     ]
    },
    {
     "name": "stderr",
     "output_type": "stream",
     "text": [
      "../sim/GELoadBalancer.py:90: DataConversionWarning: A column-vector y was passed when a 1d array was expected. Please change the shape of y to (n_samples,), for example using ravel().\n",
      "  self.model = self.model.fit(self.X, self.y) #make sure the hat the last period x is ignored\n"
     ]
    },
    {
     "name": "stdout",
     "output_type": "stream",
     "text": [
      "45916 10 21 39516.0\n",
      "0.9970452615587646\n",
      "(484, 8) (484, 1)\n",
      "Max reward for 39697.5 21\n",
      "21\n",
      "npa 12.906868393194015\n"
     ]
    },
    {
     "name": "stderr",
     "output_type": "stream",
     "text": [
      "../sim/GELoadBalancer.py:90: DataConversionWarning: A column-vector y was passed when a 1d array was expected. Please change the shape of y to (n_samples,), for example using ravel().\n",
      "  self.model = self.model.fit(self.X, self.y) #make sure the hat the last period x is ignored\n"
     ]
    },
    {
     "name": "stdout",
     "output_type": "stream",
     "text": [
      "46663 25 21 40113.0\n",
      "0.9976925510333379\n",
      "(485, 8) (485, 1)\n",
      "Max reward for 39985.9 21\n",
      "21\n",
      "npa 12.945205832546371\n"
     ]
    },
    {
     "name": "stderr",
     "output_type": "stream",
     "text": [
      "../sim/GELoadBalancer.py:90: DataConversionWarning: A column-vector y was passed when a 1d array was expected. Please change the shape of y to (n_samples,), for example using ravel().\n",
      "  self.model = self.model.fit(self.X, self.y) #make sure the hat the last period x is ignored\n"
     ]
    },
    {
     "name": "stdout",
     "output_type": "stream",
     "text": [
      "46337 9 21 39947.0\n",
      "0.9963964427196862\n",
      "(486, 8) (486, 1)\n",
      "Max reward for 40082.0 21\n",
      "21\n",
      "npa 12.897029235356737\n"
     ]
    },
    {
     "name": "stderr",
     "output_type": "stream",
     "text": [
      "../sim/GELoadBalancer.py:90: DataConversionWarning: A column-vector y was passed when a 1d array was expected. Please change the shape of y to (n_samples,), for example using ravel().\n",
      "  self.model = self.model.fit(self.X, self.y) #make sure the hat the last period x is ignored\n"
     ]
    },
    {
     "name": "stdout",
     "output_type": "stream",
     "text": [
      "46469 10 21 40069.0\n",
      "0.9971075530563778\n",
      "(487, 8) (487, 1)\n",
      "Max reward for 40027.1 21\n",
      "21\n",
      "npa 12.920905422157006\n"
     ]
    },
    {
     "name": "stderr",
     "output_type": "stream",
     "text": [
      "../sim/GELoadBalancer.py:90: DataConversionWarning: A column-vector y was passed when a 1d array was expected. Please change the shape of y to (n_samples,), for example using ravel().\n",
      "  self.model = self.model.fit(self.X, self.y) #make sure the hat the last period x is ignored\n"
     ]
    },
    {
     "name": "stdout",
     "output_type": "stream",
     "text": [
      "46473 12 21 40053.0\n",
      "0.9970776312744964\n",
      "(488, 8) (488, 1)\n",
      "Max reward for 40121.6 21\n",
      "21\n",
      "npa 12.859953182150917\n"
     ]
    },
    {
     "name": "stderr",
     "output_type": "stream",
     "text": [
      "../sim/GELoadBalancer.py:90: DataConversionWarning: A column-vector y was passed when a 1d array was expected. Please change the shape of y to (n_samples,), for example using ravel().\n",
      "  self.model = self.model.fit(self.X, self.y) #make sure the hat the last period x is ignored\n"
     ]
    },
    {
     "name": "stdout",
     "output_type": "stream",
     "text": [
      "46209 6 21 39849.0\n",
      "0.9971011400095552\n",
      "(489, 8) (489, 1)\n",
      "Max reward for 39676.6 21\n",
      "21\n",
      "npa 12.835664870467246\n"
     ]
    },
    {
     "name": "stderr",
     "output_type": "stream",
     "text": [
      "../sim/GELoadBalancer.py:90: DataConversionWarning: A column-vector y was passed when a 1d array was expected. Please change the shape of y to (n_samples,), for example using ravel().\n",
      "  self.model = self.model.fit(self.X, self.y) #make sure the hat the last period x is ignored\n"
     ]
    },
    {
     "name": "stdout",
     "output_type": "stream",
     "text": [
      "46093 3 21 39763.0\n",
      "0.998214582536446\n",
      "(490, 8) (490, 1)\n",
      "Max reward for 39428.7 21\n",
      "21\n",
      "npa 12.79435783192744\n"
     ]
    },
    {
     "name": "stderr",
     "output_type": "stream",
     "text": [
      "../sim/GELoadBalancer.py:90: DataConversionWarning: A column-vector y was passed when a 1d array was expected. Please change the shape of y to (n_samples,), for example using ravel().\n",
      "  self.model = self.model.fit(self.X, self.y) #make sure the hat the last period x is ignored\n"
     ]
    },
    {
     "name": "stdout",
     "output_type": "stream",
     "text": [
      "46104 14 21 39664.0\n",
      "0.9967251845545259\n",
      "(491, 8) (491, 1)\n",
      "Max reward for 39773.5 21\n",
      "21\n",
      "npa 12.784385483986936\n"
     ]
    },
    {
     "name": "stderr",
     "output_type": "stream",
     "text": [
      "../sim/GELoadBalancer.py:90: DataConversionWarning: A column-vector y was passed when a 1d array was expected. Please change the shape of y to (n_samples,), for example using ravel().\n",
      "  self.model = self.model.fit(self.X, self.y) #make sure the hat the last period x is ignored\n"
     ]
    },
    {
     "name": "stdout",
     "output_type": "stream",
     "text": [
      "45949 3 21 39619.0\n",
      "0.9970058202725889\n",
      "(492, 8) (492, 1)\n",
      "Max reward for 39652.1 21\n",
      "21\n",
      "npa 12.66267947177242\n"
     ]
    },
    {
     "name": "stderr",
     "output_type": "stream",
     "text": [
      "../sim/GELoadBalancer.py:90: DataConversionWarning: A column-vector y was passed when a 1d array was expected. Please change the shape of y to (n_samples,), for example using ravel().\n",
      "  self.model = self.model.fit(self.X, self.y) #make sure the hat the last period x is ignored\n"
     ]
    },
    {
     "name": "stdout",
     "output_type": "stream",
     "text": [
      "45164 3 21 38834.0\n",
      "0.9967389650067023\n",
      "(493, 8) (493, 1)\n",
      "Max reward for 39124.6 21\n",
      "21\n",
      "npa 12.667123843887376\n"
     ]
    },
    {
     "name": "stderr",
     "output_type": "stream",
     "text": [
      "../sim/GELoadBalancer.py:90: DataConversionWarning: A column-vector y was passed when a 1d array was expected. Please change the shape of y to (n_samples,), for example using ravel().\n",
      "  self.model = self.model.fit(self.X, self.y) #make sure the hat the last period x is ignored\n"
     ]
    },
    {
     "name": "stdout",
     "output_type": "stream",
     "text": [
      "45544 2 21 39224.0\n",
      "0.9979012726647298\n",
      "(494, 8) (494, 1)\n",
      "Max reward for 39271.3 21\n",
      "21\n",
      "npa 12.899338661179963\n"
     ]
    },
    {
     "name": "stderr",
     "output_type": "stream",
     "text": [
      "../sim/GELoadBalancer.py:90: DataConversionWarning: A column-vector y was passed when a 1d array was expected. Please change the shape of y to (n_samples,), for example using ravel().\n",
      "  self.model = self.model.fit(self.X, self.y) #make sure the hat the last period x is ignored\n"
     ]
    },
    {
     "name": "stdout",
     "output_type": "stream",
     "text": [
      "46066 8 21 39686.0\n",
      "0.9971406126618175\n",
      "(495, 8) (495, 1)\n",
      "Max reward for 39476.5 21\n",
      "21\n",
      "npa 12.811958552335522\n"
     ]
    },
    {
     "name": "stderr",
     "output_type": "stream",
     "text": [
      "../sim/GELoadBalancer.py:90: DataConversionWarning: A column-vector y was passed when a 1d array was expected. Please change the shape of y to (n_samples,), for example using ravel().\n",
      "  self.model = self.model.fit(self.X, self.y) #make sure the hat the last period x is ignored\n"
     ]
    },
    {
     "name": "stdout",
     "output_type": "stream",
     "text": [
      "46054 10 21 39654.0\n",
      "0.9977695443970759\n",
      "(496, 8) (496, 1)\n",
      "Max reward for 39660.2 21\n",
      "21\n",
      "npa 12.907002726053049\n"
     ]
    },
    {
     "name": "stderr",
     "output_type": "stream",
     "text": [
      "../sim/GELoadBalancer.py:90: DataConversionWarning: A column-vector y was passed when a 1d array was expected. Please change the shape of y to (n_samples,), for example using ravel().\n",
      "  self.model = self.model.fit(self.X, self.y) #make sure the hat the last period x is ignored\n"
     ]
    },
    {
     "name": "stdout",
     "output_type": "stream",
     "text": [
      "46616 26 21 40056.0\n",
      "0.9976073918882749\n",
      "(497, 8) (497, 1)\n",
      "Max reward for 39934.9 21\n",
      "21\n",
      "npa 12.929803608817599\n"
     ]
    },
    {
     "name": "stderr",
     "output_type": "stream",
     "text": [
      "../sim/GELoadBalancer.py:90: DataConversionWarning: A column-vector y was passed when a 1d array was expected. Please change the shape of y to (n_samples,), for example using ravel().\n",
      "  self.model = self.model.fit(self.X, self.y) #make sure the hat the last period x is ignored\n"
     ]
    },
    {
     "name": "stdout",
     "output_type": "stream",
     "text": [
      "46215 24 21 39675.0\n",
      "0.9969990733041103\n",
      "(498, 8) (498, 1)\n",
      "Max reward for 39840.8 21\n",
      "21\n",
      "npa 12.828623972470186\n"
     ]
    },
    {
     "name": "stderr",
     "output_type": "stream",
     "text": [
      "../sim/GELoadBalancer.py:90: DataConversionWarning: A column-vector y was passed when a 1d array was expected. Please change the shape of y to (n_samples,), for example using ravel().\n",
      "  self.model = self.model.fit(self.X, self.y) #make sure the hat the last period x is ignored\n"
     ]
    },
    {
     "name": "stdout",
     "output_type": "stream",
     "text": [
      "46313 11 21 39903.0\n",
      "0.9976095836316298\n",
      "(499, 8) (499, 1)\n",
      "Max reward for 39821.5 21\n",
      "21\n",
      "npa 12.90585201212741\n"
     ]
    },
    {
     "name": "stderr",
     "output_type": "stream",
     "text": [
      "../sim/GELoadBalancer.py:90: DataConversionWarning: A column-vector y was passed when a 1d array was expected. Please change the shape of y to (n_samples,), for example using ravel().\n",
      "  self.model = self.model.fit(self.X, self.y) #make sure the hat the last period x is ignored\n"
     ]
    },
    {
     "name": "stdout",
     "output_type": "stream",
     "text": [
      "46486 12 21 40066.0\n",
      "0.9978823603623878\n",
      "(500, 8) (500, 1)\n",
      "Max reward for 40095.7 21\n",
      "21\n",
      "npa 12.970682759509543\n"
     ]
    },
    {
     "name": "stderr",
     "output_type": "stream",
     "text": [
      "../sim/GELoadBalancer.py:90: DataConversionWarning: A column-vector y was passed when a 1d array was expected. Please change the shape of y to (n_samples,), for example using ravel().\n",
      "  self.model = self.model.fit(self.X, self.y) #make sure the hat the last period x is ignored\n"
     ]
    },
    {
     "name": "stdout",
     "output_type": "stream",
     "text": [
      "46731 22 21 40211.0\n",
      "0.9974183427314384\n",
      "(501, 8) (501, 1)\n",
      "Max reward for 40193.9 21\n",
      "21\n",
      "npa 12.956005498174687\n"
     ]
    },
    {
     "name": "stderr",
     "output_type": "stream",
     "text": [
      "../sim/GELoadBalancer.py:90: DataConversionWarning: A column-vector y was passed when a 1d array was expected. Please change the shape of y to (n_samples,), for example using ravel().\n",
      "  self.model = self.model.fit(self.X, self.y) #make sure the hat the last period x is ignored\n"
     ]
    },
    {
     "name": "stdout",
     "output_type": "stream",
     "text": [
      "46378 32 21 39758.0\n",
      "0.997202385476245\n",
      "(502, 8) (502, 1)\n",
      "Max reward for 40002.6 21\n",
      "21\n",
      "npa 13.03653344927972\n"
     ]
    },
    {
     "name": "stderr",
     "output_type": "stream",
     "text": [
      "../sim/GELoadBalancer.py:90: DataConversionWarning: A column-vector y was passed when a 1d array was expected. Please change the shape of y to (n_samples,), for example using ravel().\n",
      "  self.model = self.model.fit(self.X, self.y) #make sure the hat the last period x is ignored\n"
     ]
    },
    {
     "name": "stdout",
     "output_type": "stream",
     "text": [
      "47223 24 21 40683.0\n",
      "0.9970582978083427\n",
      "(503, 8) (503, 1)\n",
      "Max reward for 40054.6 21\n",
      "21\n",
      "npa 13.130348834963469\n"
     ]
    },
    {
     "name": "stderr",
     "output_type": "stream",
     "text": [
      "../sim/GELoadBalancer.py:90: DataConversionWarning: A column-vector y was passed when a 1d array was expected. Please change the shape of y to (n_samples,), for example using ravel().\n",
      "  self.model = self.model.fit(self.X, self.y) #make sure the hat the last period x is ignored\n"
     ]
    },
    {
     "name": "stdout",
     "output_type": "stream",
     "text": [
      "47584 55 21 40734.0\n",
      "0.9977261679531314\n",
      "(504, 8) (504, 1)\n",
      "Max reward for 40489.8 21\n",
      "21\n",
      "npa 13.177374783387474\n"
     ]
    },
    {
     "name": "stderr",
     "output_type": "stream",
     "text": [
      "../sim/GELoadBalancer.py:90: DataConversionWarning: A column-vector y was passed when a 1d array was expected. Please change the shape of y to (n_samples,), for example using ravel().\n",
      "  self.model = self.model.fit(self.X, self.y) #make sure the hat the last period x is ignored\n"
     ]
    },
    {
     "name": "stdout",
     "output_type": "stream",
     "text": [
      "47714 66 21 40754.0\n",
      "0.9974945435230527\n",
      "(505, 8) (505, 1)\n",
      "Max reward for 40748.0 21\n",
      "21\n",
      "npa 13.181283767879275\n"
     ]
    },
    {
     "name": "stderr",
     "output_type": "stream",
     "text": [
      "../sim/GELoadBalancer.py:90: DataConversionWarning: A column-vector y was passed when a 1d array was expected. Please change the shape of y to (n_samples,), for example using ravel().\n",
      "  self.model = self.model.fit(self.X, self.y) #make sure the hat the last period x is ignored\n"
     ]
    },
    {
     "name": "stdout",
     "output_type": "stream",
     "text": [
      "47379 38 21 40699.0\n",
      "0.9982399435361801\n",
      "(506, 8) (506, 1)\n",
      "Max reward for 40603.4 21\n",
      "21\n",
      "npa 12.893046523112536\n"
     ]
    },
    {
     "name": "stderr",
     "output_type": "stream",
     "text": [
      "../sim/GELoadBalancer.py:90: DataConversionWarning: A column-vector y was passed when a 1d array was expected. Please change the shape of y to (n_samples,), for example using ravel().\n",
      "  self.model = self.model.fit(self.X, self.y) #make sure the hat the last period x is ignored\n"
     ]
    },
    {
     "name": "stdout",
     "output_type": "stream",
     "text": [
      "46190 11 21 39780.0\n",
      "0.9970560028754691\n",
      "(507, 8) (507, 1)\n",
      "Max reward for 39718.9 21\n",
      "21\n",
      "npa 12.84161808597586\n"
     ]
    },
    {
     "name": "stderr",
     "output_type": "stream",
     "text": [
      "../sim/GELoadBalancer.py:90: DataConversionWarning: A column-vector y was passed when a 1d array was expected. Please change the shape of y to (n_samples,), for example using ravel().\n",
      "  self.model = self.model.fit(self.X, self.y) #make sure the hat the last period x is ignored\n"
     ]
    },
    {
     "name": "stdout",
     "output_type": "stream",
     "text": [
      "46444 14 21 40004.0\n",
      "0.9970272653928283\n",
      "(508, 8) (508, 1)\n",
      "Max reward for 39933.4 21\n",
      "21\n",
      "npa 12.847286147894163\n"
     ]
    },
    {
     "name": "stderr",
     "output_type": "stream",
     "text": [
      "../sim/GELoadBalancer.py:90: DataConversionWarning: A column-vector y was passed when a 1d array was expected. Please change the shape of y to (n_samples,), for example using ravel().\n",
      "  self.model = self.model.fit(self.X, self.y) #make sure the hat the last period x is ignored\n"
     ]
    },
    {
     "name": "stdout",
     "output_type": "stream",
     "text": [
      "46386 10 21 39986.0\n",
      "0.9977937466330675\n",
      "(509, 8) (509, 1)\n",
      "Max reward for 40282.9 21\n",
      "21\n",
      "npa 12.83375738465248\n"
     ]
    },
    {
     "name": "stderr",
     "output_type": "stream",
     "text": [
      "../sim/GELoadBalancer.py:90: DataConversionWarning: A column-vector y was passed when a 1d array was expected. Please change the shape of y to (n_samples,), for example using ravel().\n",
      "  self.model = self.model.fit(self.X, self.y) #make sure the hat the last period x is ignored\n"
     ]
    },
    {
     "name": "stdout",
     "output_type": "stream",
     "text": [
      "46108 34 21 39468.0\n",
      "0.9968990072889865\n",
      "(510, 8) (510, 1)\n",
      "Max reward for 39806.2 21\n",
      "21\n",
      "npa 12.833331040868527\n"
     ]
    },
    {
     "name": "stderr",
     "output_type": "stream",
     "text": [
      "../sim/GELoadBalancer.py:90: DataConversionWarning: A column-vector y was passed when a 1d array was expected. Please change the shape of y to (n_samples,), for example using ravel().\n",
      "  self.model = self.model.fit(self.X, self.y) #make sure the hat the last period x is ignored\n"
     ]
    },
    {
     "name": "stdout",
     "output_type": "stream",
     "text": [
      "46309 17 21 39839.0\n",
      "0.997346134536955\n",
      "(511, 8) (511, 1)\n",
      "Max reward for 40163.2 21\n",
      "21\n",
      "npa 12.82016817585762\n"
     ]
    },
    {
     "name": "stderr",
     "output_type": "stream",
     "text": [
      "../sim/GELoadBalancer.py:90: DataConversionWarning: A column-vector y was passed when a 1d array was expected. Please change the shape of y to (n_samples,), for example using ravel().\n",
      "  self.model = self.model.fit(self.X, self.y) #make sure the hat the last period x is ignored\n"
     ]
    },
    {
     "name": "stdout",
     "output_type": "stream",
     "text": [
      "46481 23 21 39951.0\n",
      "0.9967582184425895\n",
      "(512, 8) (512, 1)\n",
      "Max reward for 40071.5 21\n",
      "21\n",
      "npa 12.789956016194225\n"
     ]
    },
    {
     "name": "stderr",
     "output_type": "stream",
     "text": [
      "../sim/GELoadBalancer.py:90: DataConversionWarning: A column-vector y was passed when a 1d array was expected. Please change the shape of y to (n_samples,), for example using ravel().\n",
      "  self.model = self.model.fit(self.X, self.y) #make sure the hat the last period x is ignored\n"
     ]
    },
    {
     "name": "stdout",
     "output_type": "stream",
     "text": [
      "46076 5 21 39726.0\n",
      "0.9973654253985355\n",
      "(513, 8) (513, 1)\n",
      "Max reward for 39627.7 21\n",
      "21\n",
      "npa 12.663264989709935\n"
     ]
    },
    {
     "name": "stderr",
     "output_type": "stream",
     "text": [
      "../sim/GELoadBalancer.py:90: DataConversionWarning: A column-vector y was passed when a 1d array was expected. Please change the shape of y to (n_samples,), for example using ravel().\n",
      "  self.model = self.model.fit(self.X, self.y) #make sure the hat the last period x is ignored\n"
     ]
    },
    {
     "name": "stdout",
     "output_type": "stream",
     "text": [
      "45449 0.0 21 39149.0\n",
      "0.9971950368198024\n",
      "(514, 8) (514, 1)\n",
      "Max reward for 39438.9 21\n",
      "21\n",
      "npa 12.463540851492324\n"
     ]
    },
    {
     "name": "stderr",
     "output_type": "stream",
     "text": [
      "../sim/GELoadBalancer.py:90: DataConversionWarning: A column-vector y was passed when a 1d array was expected. Please change the shape of y to (n_samples,), for example using ravel().\n",
      "  self.model = self.model.fit(self.X, self.y) #make sure the hat the last period x is ignored\n"
     ]
    },
    {
     "name": "stdout",
     "output_type": "stream",
     "text": [
      "45064 5 21 38714.0\n",
      "0.9970156510907748\n",
      "(515, 8) (515, 1)\n",
      "Max reward for 39193.7 21\n",
      "21\n",
      "npa 12.440177578112435\n"
     ]
    },
    {
     "name": "stderr",
     "output_type": "stream",
     "text": [
      "../sim/GELoadBalancer.py:90: DataConversionWarning: A column-vector y was passed when a 1d array was expected. Please change the shape of y to (n_samples,), for example using ravel().\n",
      "  self.model = self.model.fit(self.X, self.y) #make sure the hat the last period x is ignored\n"
     ]
    },
    {
     "name": "stdout",
     "output_type": "stream",
     "text": [
      "45119 4 21 38779.0\n",
      "0.9975629588058632\n",
      "(516, 8) (516, 1)\n",
      "Max reward for 39038.8 21\n",
      "21\n",
      "npa 12.333628383377556\n"
     ]
    },
    {
     "name": "stderr",
     "output_type": "stream",
     "text": [
      "../sim/GELoadBalancer.py:90: DataConversionWarning: A column-vector y was passed when a 1d array was expected. Please change the shape of y to (n_samples,), for example using ravel().\n",
      "  self.model = self.model.fit(self.X, self.y) #make sure the hat the last period x is ignored\n"
     ]
    },
    {
     "name": "stdout",
     "output_type": "stream",
     "text": [
      "44354 4 21 38014.0\n",
      "0.9973136817791886\n",
      "(517, 8) (517, 1)\n",
      "Max reward for 37071.2 21\n",
      "21\n",
      "npa 12.294851143390968\n"
     ]
    },
    {
     "name": "stderr",
     "output_type": "stream",
     "text": [
      "../sim/GELoadBalancer.py:90: DataConversionWarning: A column-vector y was passed when a 1d array was expected. Please change the shape of y to (n_samples,), for example using ravel().\n",
      "  self.model = self.model.fit(self.X, self.y) #make sure the hat the last period x is ignored\n"
     ]
    },
    {
     "name": "stdout",
     "output_type": "stream",
     "text": [
      "44373 3 21 38043.0\n",
      "0.997373510803528\n",
      "(518, 8) (518, 1)\n",
      "Max reward for 37750.5 21\n",
      "21\n",
      "npa 12.422588746329966\n"
     ]
    },
    {
     "name": "stderr",
     "output_type": "stream",
     "text": [
      "../sim/GELoadBalancer.py:90: DataConversionWarning: A column-vector y was passed when a 1d array was expected. Please change the shape of y to (n_samples,), for example using ravel().\n",
      "  self.model = self.model.fit(self.X, self.y) #make sure the hat the last period x is ignored\n"
     ]
    },
    {
     "name": "stdout",
     "output_type": "stream",
     "text": [
      "44853 4 21 38513.0\n",
      "0.9972667113728798\n",
      "(519, 8) (519, 1)\n",
      "Max reward for 37745.6 21\n",
      "21\n",
      "npa 12.447731597793966\n"
     ]
    },
    {
     "name": "stderr",
     "output_type": "stream",
     "text": [
      "../sim/GELoadBalancer.py:90: DataConversionWarning: A column-vector y was passed when a 1d array was expected. Please change the shape of y to (n_samples,), for example using ravel().\n",
      "  self.model = self.model.fit(self.X, self.y) #make sure the hat the last period x is ignored\n"
     ]
    },
    {
     "name": "stdout",
     "output_type": "stream",
     "text": [
      "44928 4 21 38588.0\n",
      "0.997544995399613\n",
      "(520, 8) (520, 1)\n",
      "Max reward for 38223.9 21\n",
      "21\n",
      "npa 12.314937073507828\n"
     ]
    },
    {
     "name": "stderr",
     "output_type": "stream",
     "text": [
      "../sim/GELoadBalancer.py:90: DataConversionWarning: A column-vector y was passed when a 1d array was expected. Please change the shape of y to (n_samples,), for example using ravel().\n",
      "  self.model = self.model.fit(self.X, self.y) #make sure the hat the last period x is ignored\n"
     ]
    },
    {
     "name": "stdout",
     "output_type": "stream",
     "text": [
      "44512 2 21 38192.0\n",
      "0.9970873304644671\n",
      "(521, 8) (521, 1)\n",
      "Max reward for 37967.7 21\n",
      "21\n",
      "npa 12.41061350233251\n"
     ]
    },
    {
     "name": "stderr",
     "output_type": "stream",
     "text": [
      "../sim/GELoadBalancer.py:90: DataConversionWarning: A column-vector y was passed when a 1d array was expected. Please change the shape of y to (n_samples,), for example using ravel().\n",
      "  self.model = self.model.fit(self.X, self.y) #make sure the hat the last period x is ignored\n"
     ]
    },
    {
     "name": "stdout",
     "output_type": "stream",
     "text": [
      "44850 1 21 38540.0\n",
      "0.9975825761006435\n",
      "(522, 8) (522, 1)\n",
      "Max reward for 38611.5 21\n",
      "21\n",
      "npa 12.289214103263681\n"
     ]
    },
    {
     "name": "stderr",
     "output_type": "stream",
     "text": [
      "../sim/GELoadBalancer.py:90: DataConversionWarning: A column-vector y was passed when a 1d array was expected. Please change the shape of y to (n_samples,), for example using ravel().\n",
      "  self.model = self.model.fit(self.X, self.y) #make sure the hat the last period x is ignored\n"
     ]
    },
    {
     "name": "stdout",
     "output_type": "stream",
     "text": [
      "44107 0.0 21 37807.0\n",
      "0.9970603098043589\n",
      "(523, 8) (523, 1)\n",
      "26\n",
      "npa 12.291524318413453\n"
     ]
    },
    {
     "name": "stderr",
     "output_type": "stream",
     "text": [
      "../sim/GELoadBalancer.py:90: DataConversionWarning: A column-vector y was passed when a 1d array was expected. Please change the shape of y to (n_samples,), for example using ravel().\n",
      "  self.model = self.model.fit(self.X, self.y) #make sure the hat the last period x is ignored\n"
     ]
    },
    {
     "name": "stdout",
     "output_type": "stream",
     "text": [
      "44395 0.0 26 36595.0\n",
      "0.9976525945071224\n",
      "(524, 8) (524, 1)\n",
      "Max reward for 37404.4 21\n",
      "21\n",
      "npa 12.310399111333654\n"
     ]
    },
    {
     "name": "stderr",
     "output_type": "stream",
     "text": [
      "../sim/GELoadBalancer.py:90: DataConversionWarning: A column-vector y was passed when a 1d array was expected. Please change the shape of y to (n_samples,), for example using ravel().\n",
      "  self.model = self.model.fit(self.X, self.y) #make sure the hat the last period x is ignored\n"
     ]
    },
    {
     "name": "stdout",
     "output_type": "stream",
     "text": [
      "44192 2 21 37872.0\n",
      "0.9979732364153912\n",
      "(525, 8) (525, 1)\n",
      "Max reward for 36980.0 21\n",
      "21\n",
      "npa 12.268377229651774\n"
     ]
    },
    {
     "name": "stderr",
     "output_type": "stream",
     "text": [
      "../sim/GELoadBalancer.py:90: DataConversionWarning: A column-vector y was passed when a 1d array was expected. Please change the shape of y to (n_samples,), for example using ravel().\n",
      "  self.model = self.model.fit(self.X, self.y) #make sure the hat the last period x is ignored\n"
     ]
    },
    {
     "name": "stdout",
     "output_type": "stream",
     "text": [
      "43635 0.0 21 37335.0\n",
      "0.9977665912898678\n",
      "(526, 8) (526, 1)\n",
      "Max reward for 36567.5 20\n",
      "20\n",
      "npa 12.252623679497873\n"
     ]
    },
    {
     "name": "stderr",
     "output_type": "stream",
     "text": [
      "../sim/GELoadBalancer.py:90: DataConversionWarning: A column-vector y was passed when a 1d array was expected. Please change the shape of y to (n_samples,), for example using ravel().\n",
      "  self.model = self.model.fit(self.X, self.y) #make sure the hat the last period x is ignored\n"
     ]
    },
    {
     "name": "stdout",
     "output_type": "stream",
     "text": [
      "43995 11 20 37885.0\n",
      "0.9976639311889067\n",
      "(527, 8) (527, 1)\n",
      "Max reward for 36827.3 20\n",
      "20\n",
      "npa 12.351774447627905\n"
     ]
    },
    {
     "name": "stderr",
     "output_type": "stream",
     "text": [
      "../sim/GELoadBalancer.py:90: DataConversionWarning: A column-vector y was passed when a 1d array was expected. Please change the shape of y to (n_samples,), for example using ravel().\n",
      "  self.model = self.model.fit(self.X, self.y) #make sure the hat the last period x is ignored\n"
     ]
    },
    {
     "name": "stdout",
     "output_type": "stream",
     "text": [
      "44561 23 20 38331.0\n",
      "0.9972497652606547\n",
      "(528, 8) (528, 1)\n",
      "Max reward for 38035.1 21\n",
      "21\n",
      "npa 12.341976091463891\n"
     ]
    },
    {
     "name": "stderr",
     "output_type": "stream",
     "text": [
      "../sim/GELoadBalancer.py:90: DataConversionWarning: A column-vector y was passed when a 1d array was expected. Please change the shape of y to (n_samples,), for example using ravel().\n",
      "  self.model = self.model.fit(self.X, self.y) #make sure the hat the last period x is ignored\n"
     ]
    },
    {
     "name": "stdout",
     "output_type": "stream",
     "text": [
      "44121 0.0 21 37821.0\n",
      "0.9972983001714589\n",
      "(529, 8) (529, 1)\n",
      "Max reward for 37019.1 21\n",
      "21\n",
      "npa 12.131285960883945\n"
     ]
    },
    {
     "name": "stderr",
     "output_type": "stream",
     "text": [
      "../sim/GELoadBalancer.py:90: DataConversionWarning: A column-vector y was passed when a 1d array was expected. Please change the shape of y to (n_samples,), for example using ravel().\n",
      "  self.model = self.model.fit(self.X, self.y) #make sure the hat the last period x is ignored\n"
     ]
    },
    {
     "name": "stdout",
     "output_type": "stream",
     "text": [
      "43618 1 21 37308.0\n",
      "0.9974150028814762\n",
      "(530, 8) (530, 1)\n",
      "Max reward for 36748.4 20\n",
      "20\n",
      "npa 12.004416299376233\n"
     ]
    },
    {
     "name": "stderr",
     "output_type": "stream",
     "text": [
      "../sim/GELoadBalancer.py:90: DataConversionWarning: A column-vector y was passed when a 1d array was expected. Please change the shape of y to (n_samples,), for example using ravel().\n",
      "  self.model = self.model.fit(self.X, self.y) #make sure the hat the last period x is ignored\n"
     ]
    },
    {
     "name": "stdout",
     "output_type": "stream",
     "text": [
      "43476 8 20 37396.0\n",
      "0.9972769849533375\n",
      "(531, 8) (531, 1)\n",
      "Max reward for 36859.0 20\n",
      "20\n",
      "npa 11.972533627607282\n"
     ]
    },
    {
     "name": "stderr",
     "output_type": "stream",
     "text": [
      "../sim/GELoadBalancer.py:90: DataConversionWarning: A column-vector y was passed when a 1d array was expected. Please change the shape of y to (n_samples,), for example using ravel().\n",
      "  self.model = self.model.fit(self.X, self.y) #make sure the hat the last period x is ignored\n"
     ]
    },
    {
     "name": "stdout",
     "output_type": "stream",
     "text": [
      "42683 2 20 36663.0\n",
      "0.9976576302473313\n",
      "(532, 8) (532, 1)\n",
      "Max reward for 35293.5 19\n",
      "19\n",
      "npa 11.81620053931456\n"
     ]
    },
    {
     "name": "stderr",
     "output_type": "stream",
     "text": [
      "../sim/GELoadBalancer.py:90: DataConversionWarning: A column-vector y was passed when a 1d array was expected. Please change the shape of y to (n_samples,), for example using ravel().\n",
      "  self.model = self.model.fit(self.X, self.y) #make sure the hat the last period x is ignored\n"
     ]
    },
    {
     "name": "stdout",
     "output_type": "stream",
     "text": [
      "42564 36 19 36504.0\n",
      "0.9977724676345782\n",
      "(533, 8) (533, 1)\n",
      "Max reward for 36009.4 21\n",
      "21\n",
      "npa 11.74494063200385\n"
     ]
    },
    {
     "name": "stderr",
     "output_type": "stream",
     "text": [
      "../sim/GELoadBalancer.py:90: DataConversionWarning: A column-vector y was passed when a 1d array was expected. Please change the shape of y to (n_samples,), for example using ravel().\n",
      "  self.model = self.model.fit(self.X, self.y) #make sure the hat the last period x is ignored\n"
     ]
    },
    {
     "name": "stdout",
     "output_type": "stream",
     "text": [
      "42143 0.0 21 35843.0\n",
      "0.9976491636714012\n",
      "(534, 8) (534, 1)\n",
      "Max reward for 34628.5 21\n",
      "21\n",
      "npa 11.623218534196743\n"
     ]
    },
    {
     "name": "stderr",
     "output_type": "stream",
     "text": [
      "../sim/GELoadBalancer.py:90: DataConversionWarning: A column-vector y was passed when a 1d array was expected. Please change the shape of y to (n_samples,), for example using ravel().\n",
      "  self.model = self.model.fit(self.X, self.y) #make sure the hat the last period x is ignored\n"
     ]
    },
    {
     "name": "stdout",
     "output_type": "stream",
     "text": [
      "42242 0.0 21 35942.0\n",
      "0.9979242858606278\n",
      "(535, 8) (535, 1)\n",
      "Max reward for 34726.8 19\n",
      "19\n",
      "npa 11.821216990797113\n"
     ]
    },
    {
     "name": "stderr",
     "output_type": "stream",
     "text": [
      "../sim/GELoadBalancer.py:90: DataConversionWarning: A column-vector y was passed when a 1d array was expected. Please change the shape of y to (n_samples,), for example using ravel().\n",
      "  self.model = self.model.fit(self.X, self.y) #make sure the hat the last period x is ignored\n"
     ]
    },
    {
     "name": "stdout",
     "output_type": "stream",
     "text": [
      "42756 44 19 36616.0\n",
      "0.9970529918743137\n",
      "(536, 8) (536, 1)\n",
      "Max reward for 35912.1 20\n",
      "20\n",
      "npa 11.837485195427657\n"
     ]
    },
    {
     "name": "stderr",
     "output_type": "stream",
     "text": [
      "../sim/GELoadBalancer.py:90: DataConversionWarning: A column-vector y was passed when a 1d array was expected. Please change the shape of y to (n_samples,), for example using ravel().\n",
      "  self.model = self.model.fit(self.X, self.y) #make sure the hat the last period x is ignored\n"
     ]
    },
    {
     "name": "stdout",
     "output_type": "stream",
     "text": [
      "42348 2 20 36328.0\n",
      "0.9975088936103876\n",
      "(537, 8) (537, 1)\n",
      "Max reward for 35413.6 19\n",
      "19\n",
      "npa 11.962416755803936\n"
     ]
    },
    {
     "name": "stderr",
     "output_type": "stream",
     "text": [
      "../sim/GELoadBalancer.py:90: DataConversionWarning: A column-vector y was passed when a 1d array was expected. Please change the shape of y to (n_samples,), for example using ravel().\n",
      "  self.model = self.model.fit(self.X, self.y) #make sure the hat the last period x is ignored\n"
     ]
    },
    {
     "name": "stdout",
     "output_type": "stream",
     "text": [
      "42845 41 19 36735.0\n",
      "0.9979729008277085\n",
      "(538, 8) (538, 1)\n",
      "Max reward for 36700.2 22\n",
      "22\n",
      "npa 12.076214413536773\n"
     ]
    },
    {
     "name": "stderr",
     "output_type": "stream",
     "text": [
      "../sim/GELoadBalancer.py:90: DataConversionWarning: A column-vector y was passed when a 1d array was expected. Please change the shape of y to (n_samples,), for example using ravel().\n",
      "  self.model = self.model.fit(self.X, self.y) #make sure the hat the last period x is ignored\n"
     ]
    },
    {
     "name": "stdout",
     "output_type": "stream",
     "text": [
      "43680 3 22 37050.0\n",
      "0.9972114989778149\n",
      "(539, 8) (539, 1)\n",
      "Max reward for 36702.7 21\n",
      "21\n",
      "npa 12.060393343543643\n"
     ]
    },
    {
     "name": "stderr",
     "output_type": "stream",
     "text": [
      "../sim/GELoadBalancer.py:90: DataConversionWarning: A column-vector y was passed when a 1d array was expected. Please change the shape of y to (n_samples,), for example using ravel().\n",
      "  self.model = self.model.fit(self.X, self.y) #make sure the hat the last period x is ignored\n"
     ]
    },
    {
     "name": "stdout",
     "output_type": "stream",
     "text": [
      "43928 3 21 37598.0\n",
      "0.9968365478491962\n",
      "(540, 8) (540, 1)\n",
      "Max reward for 37176.0 21\n",
      "21\n",
      "npa 12.24765481619855\n"
     ]
    },
    {
     "name": "stderr",
     "output_type": "stream",
     "text": [
      "../sim/GELoadBalancer.py:90: DataConversionWarning: A column-vector y was passed when a 1d array was expected. Please change the shape of y to (n_samples,), for example using ravel().\n",
      "  self.model = self.model.fit(self.X, self.y) #make sure the hat the last period x is ignored\n"
     ]
    },
    {
     "name": "stdout",
     "output_type": "stream",
     "text": [
      "44006 1 21 37696.0\n",
      "0.9965238054945349\n",
      "(541, 8) (541, 1)\n",
      "Max reward for 36955.3 21\n",
      "21\n",
      "npa 12.30804162341499\n"
     ]
    },
    {
     "name": "stderr",
     "output_type": "stream",
     "text": [
      "../sim/GELoadBalancer.py:90: DataConversionWarning: A column-vector y was passed when a 1d array was expected. Please change the shape of y to (n_samples,), for example using ravel().\n",
      "  self.model = self.model.fit(self.X, self.y) #make sure the hat the last period x is ignored\n"
     ]
    },
    {
     "name": "stdout",
     "output_type": "stream",
     "text": [
      "44221 2 21 37901.0\n",
      "0.9975877075802984\n",
      "(542, 8) (542, 1)\n",
      "Max reward for 36942.5 21\n",
      "21\n",
      "npa 12.303679593745974\n"
     ]
    },
    {
     "name": "stderr",
     "output_type": "stream",
     "text": [
      "../sim/GELoadBalancer.py:90: DataConversionWarning: A column-vector y was passed when a 1d array was expected. Please change the shape of y to (n_samples,), for example using ravel().\n",
      "  self.model = self.model.fit(self.X, self.y) #make sure the hat the last period x is ignored\n"
     ]
    },
    {
     "name": "stdout",
     "output_type": "stream",
     "text": [
      "44614 2 21 38294.0\n",
      "0.9973995954348743\n",
      "(543, 8) (543, 1)\n",
      "Max reward for 37403.7 21\n",
      "21\n",
      "npa 12.384909047067708\n"
     ]
    },
    {
     "name": "stderr",
     "output_type": "stream",
     "text": [
      "../sim/GELoadBalancer.py:90: DataConversionWarning: A column-vector y was passed when a 1d array was expected. Please change the shape of y to (n_samples,), for example using ravel().\n",
      "  self.model = self.model.fit(self.X, self.y) #make sure the hat the last period x is ignored\n"
     ]
    },
    {
     "name": "stdout",
     "output_type": "stream",
     "text": [
      "44568 1 21 38258.0\n",
      "0.9978153715470329\n",
      "(544, 8) (544, 1)\n",
      "Max reward for 37166.5 21\n",
      "21\n",
      "npa 12.505190697325409\n"
     ]
    },
    {
     "name": "stderr",
     "output_type": "stream",
     "text": [
      "../sim/GELoadBalancer.py:90: DataConversionWarning: A column-vector y was passed when a 1d array was expected. Please change the shape of y to (n_samples,), for example using ravel().\n",
      "  self.model = self.model.fit(self.X, self.y) #make sure the hat the last period x is ignored\n"
     ]
    },
    {
     "name": "stdout",
     "output_type": "stream",
     "text": [
      "45107 1 21 38797.0\n",
      "0.9977729933906152\n",
      "(545, 8) (545, 1)\n",
      "Max reward for 38721.4 21\n",
      "21\n",
      "npa 12.561513379390298\n"
     ]
    },
    {
     "name": "stderr",
     "output_type": "stream",
     "text": [
      "../sim/GELoadBalancer.py:90: DataConversionWarning: A column-vector y was passed when a 1d array was expected. Please change the shape of y to (n_samples,), for example using ravel().\n",
      "  self.model = self.model.fit(self.X, self.y) #make sure the hat the last period x is ignored\n"
     ]
    },
    {
     "name": "stdout",
     "output_type": "stream",
     "text": [
      "45385 0.0 21 39085.0\n",
      "0.9969152112385588\n",
      "(546, 8) (546, 1)\n",
      "Max reward for 39138.9 21\n",
      "21\n",
      "npa 12.622756467937565\n"
     ]
    },
    {
     "name": "stderr",
     "output_type": "stream",
     "text": [
      "../sim/GELoadBalancer.py:90: DataConversionWarning: A column-vector y was passed when a 1d array was expected. Please change the shape of y to (n_samples,), for example using ravel().\n",
      "  self.model = self.model.fit(self.X, self.y) #make sure the hat the last period x is ignored\n"
     ]
    },
    {
     "name": "stdout",
     "output_type": "stream",
     "text": [
      "45386 2 21 39066.0\n",
      "0.9967163334971939\n",
      "(547, 8) (547, 1)\n",
      "Max reward for 39216.1 21\n",
      "21\n",
      "npa 12.578914189385536\n"
     ]
    },
    {
     "name": "stderr",
     "output_type": "stream",
     "text": [
      "../sim/GELoadBalancer.py:90: DataConversionWarning: A column-vector y was passed when a 1d array was expected. Please change the shape of y to (n_samples,), for example using ravel().\n",
      "  self.model = self.model.fit(self.X, self.y) #make sure the hat the last period x is ignored\n"
     ]
    },
    {
     "name": "stdout",
     "output_type": "stream",
     "text": [
      "45057 5 21 38707.0\n",
      "0.9975209100424224\n",
      "(548, 8) (548, 1)\n",
      "Max reward for 38347.5 21\n",
      "21\n",
      "npa 12.524009657361196\n"
     ]
    },
    {
     "name": "stderr",
     "output_type": "stream",
     "text": [
      "../sim/GELoadBalancer.py:90: DataConversionWarning: A column-vector y was passed when a 1d array was expected. Please change the shape of y to (n_samples,), for example using ravel().\n",
      "  self.model = self.model.fit(self.X, self.y) #make sure the hat the last period x is ignored\n"
     ]
    },
    {
     "name": "stdout",
     "output_type": "stream",
     "text": [
      "45343 0.0 21 39043.0\n",
      "0.9979279559167052\n",
      "(549, 8) (549, 1)\n",
      "Max reward for 39034.2 21\n",
      "21\n",
      "npa 12.664639372154653\n"
     ]
    },
    {
     "name": "stderr",
     "output_type": "stream",
     "text": [
      "../sim/GELoadBalancer.py:90: DataConversionWarning: A column-vector y was passed when a 1d array was expected. Please change the shape of y to (n_samples,), for example using ravel().\n",
      "  self.model = self.model.fit(self.X, self.y) #make sure the hat the last period x is ignored\n"
     ]
    },
    {
     "name": "stdout",
     "output_type": "stream",
     "text": [
      "45357 2 21 39037.0\n",
      "0.9977109843172979\n",
      "(550, 8) (550, 1)\n",
      "Max reward for 39005.3 21\n",
      "21\n",
      "npa 12.45857545391961\n"
     ]
    },
    {
     "name": "stderr",
     "output_type": "stream",
     "text": [
      "../sim/GELoadBalancer.py:90: DataConversionWarning: A column-vector y was passed when a 1d array was expected. Please change the shape of y to (n_samples,), for example using ravel().\n",
      "  self.model = self.model.fit(self.X, self.y) #make sure the hat the last period x is ignored\n"
     ]
    },
    {
     "name": "stdout",
     "output_type": "stream",
     "text": [
      "44348 3 21 38018.0\n",
      "0.9978114802683027\n",
      "(551, 8) (551, 1)\n",
      "Max reward for 37858.6 21\n",
      "21\n",
      "npa 12.28295010033357\n"
     ]
    },
    {
     "name": "stderr",
     "output_type": "stream",
     "text": [
      "../sim/GELoadBalancer.py:90: DataConversionWarning: A column-vector y was passed when a 1d array was expected. Please change the shape of y to (n_samples,), for example using ravel().\n",
      "  self.model = self.model.fit(self.X, self.y) #make sure the hat the last period x is ignored\n"
     ]
    },
    {
     "name": "stdout",
     "output_type": "stream",
     "text": [
      "44213 1 21 37903.0\n",
      "0.997539743406081\n",
      "(552, 8) (552, 1)\n",
      "Max reward for 37350.0 21\n",
      "21\n",
      "npa 12.195087728614396\n"
     ]
    },
    {
     "name": "stderr",
     "output_type": "stream",
     "text": [
      "../sim/GELoadBalancer.py:90: DataConversionWarning: A column-vector y was passed when a 1d array was expected. Please change the shape of y to (n_samples,), for example using ravel().\n",
      "  self.model = self.model.fit(self.X, self.y) #make sure the hat the last period x is ignored\n"
     ]
    },
    {
     "name": "stdout",
     "output_type": "stream",
     "text": [
      "43737 2 21 37417.0\n",
      "0.997612511503588\n",
      "(553, 8) (553, 1)\n",
      "Max reward for 36589.9 21\n",
      "21\n",
      "npa 12.020856228759428\n"
     ]
    },
    {
     "name": "stderr",
     "output_type": "stream",
     "text": [
      "../sim/GELoadBalancer.py:90: DataConversionWarning: A column-vector y was passed when a 1d array was expected. Please change the shape of y to (n_samples,), for example using ravel().\n",
      "  self.model = self.model.fit(self.X, self.y) #make sure the hat the last period x is ignored\n"
     ]
    },
    {
     "name": "stdout",
     "output_type": "stream",
     "text": [
      "43413 0.0 21 37113.0\n",
      "0.9974427756233726\n",
      "(554, 8) (554, 1)\n",
      "Max reward for 36462.8 20\n",
      "20\n",
      "npa 11.873783654564454\n"
     ]
    },
    {
     "name": "stderr",
     "output_type": "stream",
     "text": [
      "../sim/GELoadBalancer.py:90: DataConversionWarning: A column-vector y was passed when a 1d array was expected. Please change the shape of y to (n_samples,), for example using ravel().\n",
      "  self.model = self.model.fit(self.X, self.y) #make sure the hat the last period x is ignored\n"
     ]
    },
    {
     "name": "stdout",
     "output_type": "stream",
     "text": [
      "42857 3 20 36827.0\n",
      "0.997359838014997\n",
      "(555, 8) (555, 1)\n",
      "Max reward for 36583.8 21\n",
      "21\n",
      "npa 11.915587532807072\n"
     ]
    },
    {
     "name": "stderr",
     "output_type": "stream",
     "text": [
      "../sim/GELoadBalancer.py:90: DataConversionWarning: A column-vector y was passed when a 1d array was expected. Please change the shape of y to (n_samples,), for example using ravel().\n",
      "  self.model = self.model.fit(self.X, self.y) #make sure the hat the last period x is ignored\n"
     ]
    },
    {
     "name": "stdout",
     "output_type": "stream",
     "text": [
      "43299 0.0 21 36999.0\n",
      "0.9978949065129644\n",
      "(556, 8) (556, 1)\n",
      "Max reward for 36626.9 21\n",
      "21\n",
      "npa 11.979312092233787\n"
     ]
    },
    {
     "name": "stderr",
     "output_type": "stream",
     "text": [
      "../sim/GELoadBalancer.py:90: DataConversionWarning: A column-vector y was passed when a 1d array was expected. Please change the shape of y to (n_samples,), for example using ravel().\n",
      "  self.model = self.model.fit(self.X, self.y) #make sure the hat the last period x is ignored\n"
     ]
    },
    {
     "name": "stdout",
     "output_type": "stream",
     "text": [
      "43396 0.0 21 37096.0\n",
      "0.9974453738223279\n",
      "(557, 8) (557, 1)\n",
      "Max reward for 36423.3 21\n",
      "21\n",
      "npa 11.968557190500697\n"
     ]
    },
    {
     "name": "stderr",
     "output_type": "stream",
     "text": [
      "../sim/GELoadBalancer.py:90: DataConversionWarning: A column-vector y was passed when a 1d array was expected. Please change the shape of y to (n_samples,), for example using ravel().\n",
      "  self.model = self.model.fit(self.X, self.y) #make sure the hat the last period x is ignored\n"
     ]
    },
    {
     "name": "stdout",
     "output_type": "stream",
     "text": [
      "43062 0.0 21 36762.0\n",
      "0.9975415285636706\n",
      "(558, 8) (558, 1)\n",
      "Max reward for 37002.0 21\n",
      "21\n",
      "npa 12.069703424942288\n"
     ]
    },
    {
     "name": "stderr",
     "output_type": "stream",
     "text": [
      "../sim/GELoadBalancer.py:90: DataConversionWarning: A column-vector y was passed when a 1d array was expected. Please change the shape of y to (n_samples,), for example using ravel().\n",
      "  self.model = self.model.fit(self.X, self.y) #make sure the hat the last period x is ignored\n"
     ]
    },
    {
     "name": "stdout",
     "output_type": "stream",
     "text": [
      "43176 0.0 21 36876.0\n",
      "0.9974199462885279\n",
      "(559, 8) (559, 1)\n",
      "Max reward for 36295.8 20\n",
      "20\n",
      "npa 12.117039824888801\n"
     ]
    },
    {
     "name": "stderr",
     "output_type": "stream",
     "text": [
      "../sim/GELoadBalancer.py:90: DataConversionWarning: A column-vector y was passed when a 1d array was expected. Please change the shape of y to (n_samples,), for example using ravel().\n",
      "  self.model = self.model.fit(self.X, self.y) #make sure the hat the last period x is ignored\n"
     ]
    },
    {
     "name": "stdout",
     "output_type": "stream",
     "text": [
      "43921 9 20 37831.0\n",
      "0.9961164423741582\n",
      "(560, 8) (560, 1)\n",
      "Max reward for 37290.4 21\n",
      "21\n",
      "npa 12.28603634914241\n"
     ]
    },
    {
     "name": "stderr",
     "output_type": "stream",
     "text": [
      "../sim/GELoadBalancer.py:90: DataConversionWarning: A column-vector y was passed when a 1d array was expected. Please change the shape of y to (n_samples,), for example using ravel().\n",
      "  self.model = self.model.fit(self.X, self.y) #make sure the hat the last period x is ignored\n"
     ]
    },
    {
     "name": "stdout",
     "output_type": "stream",
     "text": [
      "44162 2 21 37842.0\n",
      "0.9970805298386787\n",
      "(561, 8) (561, 1)\n",
      "Max reward for 36605.3 20\n",
      "20\n",
      "npa 12.352011336193867\n"
     ]
    },
    {
     "name": "stderr",
     "output_type": "stream",
     "text": [
      "../sim/GELoadBalancer.py:90: DataConversionWarning: A column-vector y was passed when a 1d array was expected. Please change the shape of y to (n_samples,), for example using ravel().\n",
      "  self.model = self.model.fit(self.X, self.y) #make sure the hat the last period x is ignored\n"
     ]
    },
    {
     "name": "stdout",
     "output_type": "stream",
     "text": [
      "43957 24 20 37717.0\n",
      "0.9964500670695643\n",
      "(562, 8) (562, 1)\n",
      "Max reward for 37147.1 21\n",
      "21\n",
      "npa 12.066617963577078\n"
     ]
    },
    {
     "name": "stderr",
     "output_type": "stream",
     "text": [
      "../sim/GELoadBalancer.py:90: DataConversionWarning: A column-vector y was passed when a 1d array was expected. Please change the shape of y to (n_samples,), for example using ravel().\n",
      "  self.model = self.model.fit(self.X, self.y) #make sure the hat the last period x is ignored\n"
     ]
    },
    {
     "name": "stdout",
     "output_type": "stream",
     "text": [
      "43714 0.0 21 37414.0\n",
      "0.9972893007772401\n",
      "(563, 8) (563, 1)\n",
      "Max reward for 36563.1 20\n",
      "20\n",
      "npa 12.27627065281326\n"
     ]
    },
    {
     "name": "stderr",
     "output_type": "stream",
     "text": [
      "../sim/GELoadBalancer.py:90: DataConversionWarning: A column-vector y was passed when a 1d array was expected. Please change the shape of y to (n_samples,), for example using ravel().\n",
      "  self.model = self.model.fit(self.X, self.y) #make sure the hat the last period x is ignored\n"
     ]
    },
    {
     "name": "stdout",
     "output_type": "stream",
     "text": [
      "44553 27 20 38283.0\n",
      "0.997561762868339\n",
      "(564, 8) (564, 1)\n",
      "Max reward for 37935.3 21\n",
      "21\n",
      "npa 12.385354503835146\n"
     ]
    },
    {
     "name": "stderr",
     "output_type": "stream",
     "text": [
      "../sim/GELoadBalancer.py:90: DataConversionWarning: A column-vector y was passed when a 1d array was expected. Please change the shape of y to (n_samples,), for example using ravel().\n",
      "  self.model = self.model.fit(self.X, self.y) #make sure the hat the last period x is ignored\n"
     ]
    },
    {
     "name": "stdout",
     "output_type": "stream",
     "text": [
      "44579 0.0 21 38279.0\n",
      "0.9974005446522362\n",
      "(565, 8) (565, 1)\n",
      "Max reward for 37525.7 21\n",
      "21\n",
      "npa 12.351613928788547\n"
     ]
    },
    {
     "name": "stderr",
     "output_type": "stream",
     "text": [
      "../sim/GELoadBalancer.py:90: DataConversionWarning: A column-vector y was passed when a 1d array was expected. Please change the shape of y to (n_samples,), for example using ravel().\n",
      "  self.model = self.model.fit(self.X, self.y) #make sure the hat the last period x is ignored\n"
     ]
    },
    {
     "name": "stdout",
     "output_type": "stream",
     "text": [
      "44179 0.0 21 37879.0\n",
      "0.9978598310786858\n",
      "(566, 8) (566, 1)\n",
      "Max reward for 36587.6 20\n",
      "20\n",
      "npa 12.129497470594975\n"
     ]
    },
    {
     "name": "stderr",
     "output_type": "stream",
     "text": [
      "../sim/GELoadBalancer.py:90: DataConversionWarning: A column-vector y was passed when a 1d array was expected. Please change the shape of y to (n_samples,), for example using ravel().\n",
      "  self.model = self.model.fit(self.X, self.y) #make sure the hat the last period x is ignored\n"
     ]
    },
    {
     "name": "stdout",
     "output_type": "stream",
     "text": [
      "43761 16 20 37601.0\n",
      "0.9977930939253582\n",
      "(567, 8) (567, 1)\n",
      "Max reward for 36939.9 20\n",
      "20\n",
      "npa 12.218595518848812\n"
     ]
    },
    {
     "name": "stderr",
     "output_type": "stream",
     "text": [
      "../sim/GELoadBalancer.py:90: DataConversionWarning: A column-vector y was passed when a 1d array was expected. Please change the shape of y to (n_samples,), for example using ravel().\n",
      "  self.model = self.model.fit(self.X, self.y) #make sure the hat the last period x is ignored\n"
     ]
    },
    {
     "name": "stdout",
     "output_type": "stream",
     "text": [
      "44157 16 20 37997.0\n",
      "0.9981101335064575\n",
      "(568, 8) (568, 1)\n",
      "Max reward for 37435.2 20\n",
      "20\n",
      "npa 12.195101621603225\n"
     ]
    },
    {
     "name": "stderr",
     "output_type": "stream",
     "text": [
      "../sim/GELoadBalancer.py:90: DataConversionWarning: A column-vector y was passed when a 1d array was expected. Please change the shape of y to (n_samples,), for example using ravel().\n",
      "  self.model = self.model.fit(self.X, self.y) #make sure the hat the last period x is ignored\n"
     ]
    },
    {
     "name": "stdout",
     "output_type": "stream",
     "text": [
      "44282 25 20 38032.0\n",
      "0.9974398004344321\n",
      "(569, 8) (569, 1)\n",
      "28\n",
      "npa 12.226478893841024\n"
     ]
    },
    {
     "name": "stderr",
     "output_type": "stream",
     "text": [
      "../sim/GELoadBalancer.py:90: DataConversionWarning: A column-vector y was passed when a 1d array was expected. Please change the shape of y to (n_samples,), for example using ravel().\n",
      "  self.model = self.model.fit(self.X, self.y) #make sure the hat the last period x is ignored\n"
     ]
    },
    {
     "name": "stdout",
     "output_type": "stream",
     "text": [
      "43736 0.0 28 35336.0\n",
      "0.9976153191477964\n",
      "(570, 8) (570, 1)\n",
      "Max reward for 36638.6 20\n",
      "20\n",
      "npa 12.28396305614595\n"
     ]
    },
    {
     "name": "stderr",
     "output_type": "stream",
     "text": [
      "../sim/GELoadBalancer.py:90: DataConversionWarning: A column-vector y was passed when a 1d array was expected. Please change the shape of y to (n_samples,), for example using ravel().\n",
      "  self.model = self.model.fit(self.X, self.y) #make sure the hat the last period x is ignored\n"
     ]
    },
    {
     "name": "stdout",
     "output_type": "stream",
     "text": [
      "43827 24 20 37587.0\n",
      "0.9968538657513091\n",
      "(571, 8) (571, 1)\n",
      "Max reward for 36326.8 20\n",
      "20\n",
      "npa 12.212887154007712\n"
     ]
    },
    {
     "name": "stderr",
     "output_type": "stream",
     "text": [
      "../sim/GELoadBalancer.py:90: DataConversionWarning: A column-vector y was passed when a 1d array was expected. Please change the shape of y to (n_samples,), for example using ravel().\n",
      "  self.model = self.model.fit(self.X, self.y) #make sure the hat the last period x is ignored\n"
     ]
    },
    {
     "name": "stdout",
     "output_type": "stream",
     "text": [
      "44123 18 20 37943.0\n",
      "0.9975563347931679\n",
      "(572, 8) (572, 1)\n",
      "Max reward for 36568.8 20\n",
      "20\n",
      "npa 12.047027648206754\n"
     ]
    },
    {
     "name": "stderr",
     "output_type": "stream",
     "text": [
      "../sim/GELoadBalancer.py:90: DataConversionWarning: A column-vector y was passed when a 1d array was expected. Please change the shape of y to (n_samples,), for example using ravel().\n",
      "  self.model = self.model.fit(self.X, self.y) #make sure the hat the last period x is ignored\n"
     ]
    },
    {
     "name": "stdout",
     "output_type": "stream",
     "text": [
      "43131 3 20 37101.0\n",
      "0.9975370774813698\n",
      "(573, 8) (573, 1)\n",
      "Max reward for 36520.3 20\n",
      "20\n",
      "npa 11.920160983048216\n"
     ]
    },
    {
     "name": "stderr",
     "output_type": "stream",
     "text": [
      "../sim/GELoadBalancer.py:90: DataConversionWarning: A column-vector y was passed when a 1d array was expected. Please change the shape of y to (n_samples,), for example using ravel().\n",
      "  self.model = self.model.fit(self.X, self.y) #make sure the hat the last period x is ignored\n"
     ]
    },
    {
     "name": "stdout",
     "output_type": "stream",
     "text": [
      "42744 4 20 36704.0\n",
      "0.9960696186423329\n",
      "(574, 8) (574, 1)\n",
      "Max reward for 35402.1 19\n",
      "19\n",
      "npa 12.050853553922874\n"
     ]
    },
    {
     "name": "stderr",
     "output_type": "stream",
     "text": [
      "../sim/GELoadBalancer.py:90: DataConversionWarning: A column-vector y was passed when a 1d array was expected. Please change the shape of y to (n_samples,), for example using ravel().\n",
      "  self.model = self.model.fit(self.X, self.y) #make sure the hat the last period x is ignored\n"
     ]
    },
    {
     "name": "stdout",
     "output_type": "stream",
     "text": [
      "43589 81 19 37079.0\n",
      "0.9976737602269493\n",
      "(575, 8) (575, 1)\n",
      "Max reward for 35868.3 22\n",
      "22\n",
      "npa 12.015672172878622\n"
     ]
    },
    {
     "name": "stderr",
     "output_type": "stream",
     "text": [
      "../sim/GELoadBalancer.py:90: DataConversionWarning: A column-vector y was passed when a 1d array was expected. Please change the shape of y to (n_samples,), for example using ravel().\n",
      "  self.model = self.model.fit(self.X, self.y) #make sure the hat the last period x is ignored\n"
     ]
    },
    {
     "name": "stdout",
     "output_type": "stream",
     "text": [
      "43120 0.0 22 36520.0\n",
      "0.9974246749639226\n",
      "(576, 8) (576, 1)\n",
      "Max reward for 36894.5 21\n",
      "21\n",
      "npa 12.058736121755373\n"
     ]
    },
    {
     "name": "stderr",
     "output_type": "stream",
     "text": [
      "../sim/GELoadBalancer.py:90: DataConversionWarning: A column-vector y was passed when a 1d array was expected. Please change the shape of y to (n_samples,), for example using ravel().\n",
      "  self.model = self.model.fit(self.X, self.y) #make sure the hat the last period x is ignored\n"
     ]
    },
    {
     "name": "stdout",
     "output_type": "stream",
     "text": [
      "43503 0.0 21 37203.0\n",
      "0.9980573349974514\n",
      "(577, 8) (577, 1)\n",
      "Max reward for 36876.8 21\n",
      "21\n",
      "npa 12.092798431278453\n"
     ]
    },
    {
     "name": "stderr",
     "output_type": "stream",
     "text": [
      "../sim/GELoadBalancer.py:90: DataConversionWarning: A column-vector y was passed when a 1d array was expected. Please change the shape of y to (n_samples,), for example using ravel().\n",
      "  self.model = self.model.fit(self.X, self.y) #make sure the hat the last period x is ignored\n"
     ]
    },
    {
     "name": "stdout",
     "output_type": "stream",
     "text": [
      "43536 0.0 21 37236.0\n",
      "0.9976024370025496\n",
      "(578, 8) (578, 1)\n",
      "Max reward for 36582.1 19\n",
      "19\n",
      "npa 12.011794127126059\n"
     ]
    },
    {
     "name": "stderr",
     "output_type": "stream",
     "text": [
      "../sim/GELoadBalancer.py:90: DataConversionWarning: A column-vector y was passed when a 1d array was expected. Please change the shape of y to (n_samples,), for example using ravel().\n",
      "  self.model = self.model.fit(self.X, self.y) #make sure the hat the last period x is ignored\n"
     ]
    },
    {
     "name": "stdout",
     "output_type": "stream",
     "text": [
      "43427 70 19 37027.0\n",
      "0.9977977539858631\n",
      "(579, 8) (579, 1)\n",
      "Max reward for 36558.1 19\n",
      "19\n",
      "npa 11.960256187310435\n"
     ]
    },
    {
     "name": "stderr",
     "output_type": "stream",
     "text": [
      "../sim/GELoadBalancer.py:90: DataConversionWarning: A column-vector y was passed when a 1d array was expected. Please change the shape of y to (n_samples,), for example using ravel().\n",
      "  self.model = self.model.fit(self.X, self.y) #make sure the hat the last period x is ignored\n"
     ]
    },
    {
     "name": "stdout",
     "output_type": "stream",
     "text": [
      "43402 64 19 37062.0\n",
      "0.997405195369139\n",
      "(580, 8) (580, 1)\n",
      "Max reward for 36357.4 19\n",
      "19\n",
      "npa 12.160882457760652\n"
     ]
    },
    {
     "name": "stderr",
     "output_type": "stream",
     "text": [
      "../sim/GELoadBalancer.py:90: DataConversionWarning: A column-vector y was passed when a 1d array was expected. Please change the shape of y to (n_samples,), for example using ravel().\n",
      "  self.model = self.model.fit(self.X, self.y) #make sure the hat the last period x is ignored\n"
     ]
    },
    {
     "name": "stdout",
     "output_type": "stream",
     "text": [
      "44054 120 19 37154.0\n",
      "0.9977802758193937\n",
      "(581, 8) (581, 1)\n",
      "Max reward for 36359.8 20\n",
      "20\n",
      "npa 12.114949090509251\n"
     ]
    },
    {
     "name": "stderr",
     "output_type": "stream",
     "text": [
      "../sim/GELoadBalancer.py:90: DataConversionWarning: A column-vector y was passed when a 1d array was expected. Please change the shape of y to (n_samples,), for example using ravel().\n",
      "  self.model = self.model.fit(self.X, self.y) #make sure the hat the last period x is ignored\n"
     ]
    },
    {
     "name": "stdout",
     "output_type": "stream",
     "text": [
      "43560 9 20 37470.0\n",
      "0.9971587948196663\n",
      "(582, 8) (582, 1)\n",
      "Max reward for 36510.4 21\n",
      "21\n",
      "npa 12.1118016673989\n"
     ]
    },
    {
     "name": "stderr",
     "output_type": "stream",
     "text": [
      "../sim/GELoadBalancer.py:90: DataConversionWarning: A column-vector y was passed when a 1d array was expected. Please change the shape of y to (n_samples,), for example using ravel().\n",
      "  self.model = self.model.fit(self.X, self.y) #make sure the hat the last period x is ignored\n"
     ]
    },
    {
     "name": "stdout",
     "output_type": "stream",
     "text": [
      "43519 0.0 21 37219.0\n",
      "0.9979300515537495\n",
      "(583, 8) (583, 1)\n",
      "Max reward for 36623.4 19\n",
      "19\n",
      "npa 11.990934484489808\n"
     ]
    },
    {
     "name": "stderr",
     "output_type": "stream",
     "text": [
      "../sim/GELoadBalancer.py:90: DataConversionWarning: A column-vector y was passed when a 1d array was expected. Please change the shape of y to (n_samples,), for example using ravel().\n",
      "  self.model = self.model.fit(self.X, self.y) #make sure the hat the last period x is ignored\n"
     ]
    },
    {
     "name": "stdout",
     "output_type": "stream",
     "text": [
      "43227 50 19 37027.0\n",
      "0.9972689520077177\n",
      "(584, 8) (584, 1)\n",
      "Max reward for 36621.8 19\n",
      "19\n",
      "npa 12.30819243255212\n"
     ]
    },
    {
     "name": "stderr",
     "output_type": "stream",
     "text": [
      "../sim/GELoadBalancer.py:90: DataConversionWarning: A column-vector y was passed when a 1d array was expected. Please change the shape of y to (n_samples,), for example using ravel().\n",
      "  self.model = self.model.fit(self.X, self.y) #make sure the hat the last period x is ignored\n"
     ]
    },
    {
     "name": "stdout",
     "output_type": "stream",
     "text": [
      "44502 156 19 37242.0\n",
      "0.9970682276428232\n",
      "(585, 8) (585, 1)\n",
      "Max reward for 36311.5 21\n",
      "21\n",
      "npa 12.198799969245295\n"
     ]
    },
    {
     "name": "stderr",
     "output_type": "stream",
     "text": [
      "../sim/GELoadBalancer.py:90: DataConversionWarning: A column-vector y was passed when a 1d array was expected. Please change the shape of y to (n_samples,), for example using ravel().\n",
      "  self.model = self.model.fit(self.X, self.y) #make sure the hat the last period x is ignored\n"
     ]
    },
    {
     "name": "stdout",
     "output_type": "stream",
     "text": [
      "43710 4 21 37370.0\n",
      "0.9970243568637703\n",
      "(586, 8) (586, 1)\n",
      "Max reward for 36687.7 20\n",
      "20\n",
      "npa 12.16996169508885\n"
     ]
    },
    {
     "name": "stderr",
     "output_type": "stream",
     "text": [
      "../sim/GELoadBalancer.py:90: DataConversionWarning: A column-vector y was passed when a 1d array was expected. Please change the shape of y to (n_samples,), for example using ravel().\n",
      "  self.model = self.model.fit(self.X, self.y) #make sure the hat the last period x is ignored\n"
     ]
    },
    {
     "name": "stdout",
     "output_type": "stream",
     "text": [
      "43815 10 20 37715.0\n",
      "0.997012934258664\n",
      "(587, 8) (587, 1)\n"
     ]
    },
    {
     "name": "stderr",
     "output_type": "stream",
     "text": [
      "../sim/GELoadBalancer.py:90: DataConversionWarning: A column-vector y was passed when a 1d array was expected. Please change the shape of y to (n_samples,), for example using ravel().\n",
      "  self.model = self.model.fit(self.X, self.y) #make sure the hat the last period x is ignored\n"
     ]
    },
    {
     "name": "stdout",
     "output_type": "stream",
     "text": [
      "Max reward for 36520.1 21\n",
      "21\n",
      "npa 12.090200598601504\n",
      "43545 0.0 21 37245.0\n",
      "0.9963567433634362\n",
      "(588, 8) (588, 1)\n",
      "Max reward for 36481.9 19\n",
      "19\n",
      "npa 11.994402821749953\n"
     ]
    },
    {
     "name": "stderr",
     "output_type": "stream",
     "text": [
      "../sim/GELoadBalancer.py:90: DataConversionWarning: A column-vector y was passed when a 1d array was expected. Please change the shape of y to (n_samples,), for example using ravel().\n",
      "  self.model = self.model.fit(self.X, self.y) #make sure the hat the last period x is ignored\n"
     ]
    },
    {
     "name": "stdout",
     "output_type": "stream",
     "text": [
      "42824 41 19 36714.0\n",
      "0.9978595330209884\n",
      "(589, 8) (589, 1)\n",
      "Max reward for 36146.9 20\n",
      "20\n",
      "npa 11.672840647494594\n"
     ]
    },
    {
     "name": "stderr",
     "output_type": "stream",
     "text": [
      "../sim/GELoadBalancer.py:90: DataConversionWarning: A column-vector y was passed when a 1d array was expected. Please change the shape of y to (n_samples,), for example using ravel().\n",
      "  self.model = self.model.fit(self.X, self.y) #make sure the hat the last period x is ignored\n"
     ]
    },
    {
     "name": "stdout",
     "output_type": "stream",
     "text": [
      "41789 0.0 20 35789.0\n",
      "0.9971050845856781\n",
      "(590, 8) (590, 1)\n",
      "Max reward for 35424.3 20\n",
      "20\n",
      "npa 11.386181897162857\n"
     ]
    },
    {
     "name": "stderr",
     "output_type": "stream",
     "text": [
      "../sim/GELoadBalancer.py:90: DataConversionWarning: A column-vector y was passed when a 1d array was expected. Please change the shape of y to (n_samples,), for example using ravel().\n",
      "  self.model = self.model.fit(self.X, self.y) #make sure the hat the last period x is ignored\n"
     ]
    },
    {
     "name": "stdout",
     "output_type": "stream",
     "text": [
      "41115 0.0 20 35115.0\n",
      "0.9975113296730213\n",
      "(591, 8) (591, 1)\n",
      "Max reward for 34394.0 19\n",
      "19\n",
      "npa 11.456347308981206\n"
     ]
    },
    {
     "name": "stderr",
     "output_type": "stream",
     "text": [
      "../sim/GELoadBalancer.py:90: DataConversionWarning: A column-vector y was passed when a 1d array was expected. Please change the shape of y to (n_samples,), for example using ravel().\n",
      "  self.model = self.model.fit(self.X, self.y) #make sure the hat the last period x is ignored\n"
     ]
    },
    {
     "name": "stdout",
     "output_type": "stream",
     "text": [
      "41239 6 19 35479.0\n",
      "0.9979009447436008\n",
      "(592, 8) (592, 1)\n",
      "19\n",
      "npa 11.321660212439824\n"
     ]
    },
    {
     "name": "stderr",
     "output_type": "stream",
     "text": [
      "../sim/GELoadBalancer.py:90: DataConversionWarning: A column-vector y was passed when a 1d array was expected. Please change the shape of y to (n_samples,), for example using ravel().\n",
      "  self.model = self.model.fit(self.X, self.y) #make sure the hat the last period x is ignored\n"
     ]
    },
    {
     "name": "stdout",
     "output_type": "stream",
     "text": [
      "40817 4 19 35077.0\n",
      "0.9964919860649243\n",
      "(593, 8) (593, 1)\n",
      "Max reward for 32411.9 20\n",
      "20\n",
      "npa 11.323909874512864\n"
     ]
    },
    {
     "name": "stderr",
     "output_type": "stream",
     "text": [
      "../sim/GELoadBalancer.py:90: DataConversionWarning: A column-vector y was passed when a 1d array was expected. Please change the shape of y to (n_samples,), for example using ravel().\n",
      "  self.model = self.model.fit(self.X, self.y) #make sure the hat the last period x is ignored\n"
     ]
    },
    {
     "name": "stdout",
     "output_type": "stream",
     "text": [
      "40705 0.0 20 34705.0\n",
      "0.9978440918038756\n",
      "(594, 8) (594, 1)\n",
      "Max reward for 31468.2 19\n",
      "19\n",
      "npa 11.307624827428528\n"
     ]
    },
    {
     "name": "stderr",
     "output_type": "stream",
     "text": [
      "../sim/GELoadBalancer.py:90: DataConversionWarning: A column-vector y was passed when a 1d array was expected. Please change the shape of y to (n_samples,), for example using ravel().\n",
      "  self.model = self.model.fit(self.X, self.y) #make sure the hat the last period x is ignored\n"
     ]
    },
    {
     "name": "stdout",
     "output_type": "stream",
     "text": [
      "40657 5 19 34907.0\n",
      "0.9976404808942033\n",
      "(595, 8) (595, 1)\n",
      "Max reward for 31521.2 19\n",
      "19\n",
      "npa 11.435089396309015\n"
     ]
    },
    {
     "name": "stderr",
     "output_type": "stream",
     "text": [
      "../sim/GELoadBalancer.py:90: DataConversionWarning: A column-vector y was passed when a 1d array was expected. Please change the shape of y to (n_samples,), for example using ravel().\n",
      "  self.model = self.model.fit(self.X, self.y) #make sure the hat the last period x is ignored\n"
     ]
    },
    {
     "name": "stdout",
     "output_type": "stream",
     "text": [
      "41362 8 19 35582.0\n",
      "0.9977067884342091\n",
      "(596, 8) (596, 1)\n",
      "Max reward for 34750.9 20\n",
      "20\n",
      "npa 11.790505182047177\n"
     ]
    },
    {
     "name": "stderr",
     "output_type": "stream",
     "text": [
      "../sim/GELoadBalancer.py:90: DataConversionWarning: A column-vector y was passed when a 1d array was expected. Please change the shape of y to (n_samples,), for example using ravel().\n",
      "  self.model = self.model.fit(self.X, self.y) #make sure the hat the last period x is ignored\n"
     ]
    },
    {
     "name": "stdout",
     "output_type": "stream",
     "text": [
      "42371 0.0 20 36371.0\n",
      "0.9980452593944353\n",
      "(597, 8) (597, 1)\n",
      "Max reward for 35420.7 19\n",
      "19\n",
      "npa 11.71329358111985\n"
     ]
    },
    {
     "name": "stderr",
     "output_type": "stream",
     "text": [
      "../sim/GELoadBalancer.py:90: DataConversionWarning: A column-vector y was passed when a 1d array was expected. Please change the shape of y to (n_samples,), for example using ravel().\n",
      "  self.model = self.model.fit(self.X, self.y) #make sure the hat the last period x is ignored\n"
     ]
    },
    {
     "name": "stdout",
     "output_type": "stream",
     "text": [
      "42129 17 19 36259.0\n",
      "0.9967676463764994\n",
      "(598, 8) (598, 1)\n",
      "Max reward for 35154.2 19\n",
      "19\n",
      "npa 11.901282191627192\n"
     ]
    },
    {
     "name": "stderr",
     "output_type": "stream",
     "text": [
      "../sim/GELoadBalancer.py:90: DataConversionWarning: A column-vector y was passed when a 1d array was expected. Please change the shape of y to (n_samples,), for example using ravel().\n",
      "  self.model = self.model.fit(self.X, self.y) #make sure the hat the last period x is ignored\n"
     ]
    },
    {
     "name": "stdout",
     "output_type": "stream",
     "text": [
      "42886 46 19 36726.0\n",
      "0.9970274134306107\n",
      "(599, 8) (599, 1)\n",
      "Max reward for 36521.4 19\n",
      "19\n",
      "npa 11.686360423872156\n"
     ]
    },
    {
     "name": "stderr",
     "output_type": "stream",
     "text": [
      "../sim/GELoadBalancer.py:90: DataConversionWarning: A column-vector y was passed when a 1d array was expected. Please change the shape of y to (n_samples,), for example using ravel().\n",
      "  self.model = self.model.fit(self.X, self.y) #make sure the hat the last period x is ignored\n"
     ]
    },
    {
     "name": "stdout",
     "output_type": "stream",
     "text": [
      "41836 21 19 35926.0\n",
      "0.9976922462783376\n",
      "(600, 8) (600, 1)\n",
      "30\n",
      "npa 11.639825290785332\n"
     ]
    },
    {
     "name": "stderr",
     "output_type": "stream",
     "text": [
      "../sim/GELoadBalancer.py:90: DataConversionWarning: A column-vector y was passed when a 1d array was expected. Please change the shape of y to (n_samples,), for example using ravel().\n",
      "  self.model = self.model.fit(self.X, self.y) #make sure the hat the last period x is ignored\n"
     ]
    },
    {
     "name": "stdout",
     "output_type": "stream",
     "text": [
      "42082 0.0 30 33082.0\n",
      "0.9978390214568735\n",
      "(601, 8) (601, 1)\n",
      "Max reward for 34512.5 20\n",
      "20\n",
      "npa 11.960103559211651\n"
     ]
    },
    {
     "name": "stderr",
     "output_type": "stream",
     "text": [
      "../sim/GELoadBalancer.py:90: DataConversionWarning: A column-vector y was passed when a 1d array was expected. Please change the shape of y to (n_samples,), for example using ravel().\n",
      "  self.model = self.model.fit(self.X, self.y) #make sure the hat the last period x is ignored\n"
     ]
    },
    {
     "name": "stdout",
     "output_type": "stream",
     "text": [
      "43337 11 20 37227.0\n",
      "0.9979973880685818\n",
      "(602, 8) (602, 1)\n",
      "Max reward for 36291.2 19\n",
      "19\n",
      "npa 12.023449006450067\n"
     ]
    },
    {
     "name": "stderr",
     "output_type": "stream",
     "text": [
      "../sim/GELoadBalancer.py:90: DataConversionWarning: A column-vector y was passed when a 1d array was expected. Please change the shape of y to (n_samples,), for example using ravel().\n",
      "  self.model = self.model.fit(self.X, self.y) #make sure the hat the last period x is ignored\n"
     ]
    },
    {
     "name": "stdout",
     "output_type": "stream",
     "text": [
      "42823 57 19 36553.0\n",
      "0.9973291605280561\n",
      "(603, 8) (603, 1)\n",
      "Max reward for 34606.4 22\n",
      "22\n",
      "npa 11.9120146389886\n"
     ]
    },
    {
     "name": "stderr",
     "output_type": "stream",
     "text": [
      "../sim/GELoadBalancer.py:90: DataConversionWarning: A column-vector y was passed when a 1d array was expected. Please change the shape of y to (n_samples,), for example using ravel().\n",
      "  self.model = self.model.fit(self.X, self.y) #make sure the hat the last period x is ignored\n"
     ]
    },
    {
     "name": "stdout",
     "output_type": "stream",
     "text": [
      "43181 0.0 22 36581.0\n",
      "0.9976625242369405\n",
      "(604, 8) (604, 1)\n",
      "Max reward for 36603.2 20\n",
      "20\n",
      "npa 11.867295470670177\n"
     ]
    },
    {
     "name": "stderr",
     "output_type": "stream",
     "text": [
      "../sim/GELoadBalancer.py:90: DataConversionWarning: A column-vector y was passed when a 1d array was expected. Please change the shape of y to (n_samples,), for example using ravel().\n",
      "  self.model = self.model.fit(self.X, self.y) #make sure the hat the last period x is ignored\n"
     ]
    },
    {
     "name": "stdout",
     "output_type": "stream",
     "text": [
      "42492 2 20 36472.0\n",
      "0.99766962083673\n",
      "(605, 8) (605, 1)\n",
      "Max reward for 34870.7 19\n",
      "19\n",
      "npa 11.693298463331162\n"
     ]
    },
    {
     "name": "stderr",
     "output_type": "stream",
     "text": [
      "../sim/GELoadBalancer.py:90: DataConversionWarning: A column-vector y was passed when a 1d array was expected. Please change the shape of y to (n_samples,), for example using ravel().\n",
      "  self.model = self.model.fit(self.X, self.y) #make sure the hat the last period x is ignored\n"
     ]
    },
    {
     "name": "stdout",
     "output_type": "stream",
     "text": [
      "42231 20 19 36331.0\n",
      "0.9971085460885992\n",
      "(606, 8) (606, 1)\n",
      "Max reward for 33883.5 19\n",
      "19\n",
      "npa 11.753346212756986\n"
     ]
    },
    {
     "name": "stderr",
     "output_type": "stream",
     "text": [
      "../sim/GELoadBalancer.py:90: DataConversionWarning: A column-vector y was passed when a 1d array was expected. Please change the shape of y to (n_samples,), for example using ravel().\n",
      "  self.model = self.model.fit(self.X, self.y) #make sure the hat the last period x is ignored\n"
     ]
    },
    {
     "name": "stdout",
     "output_type": "stream",
     "text": [
      "42255 42 19 36135.0\n",
      "0.9977372286454091\n",
      "(607, 8) (607, 1)\n",
      "Max reward for 34727.8 19\n",
      "19\n",
      "npa 11.85327476527613\n"
     ]
    },
    {
     "name": "stderr",
     "output_type": "stream",
     "text": [
      "../sim/GELoadBalancer.py:90: DataConversionWarning: A column-vector y was passed when a 1d array was expected. Please change the shape of y to (n_samples,), for example using ravel().\n",
      "  self.model = self.model.fit(self.X, self.y) #make sure the hat the last period x is ignored\n"
     ]
    },
    {
     "name": "stdout",
     "output_type": "stream",
     "text": [
      "42670 36 19 36610.0\n",
      "0.9964509595657696\n",
      "(608, 8) (608, 1)\n",
      "Max reward for 33998.0 19\n",
      "19\n",
      "npa 11.831180253649604\n"
     ]
    },
    {
     "name": "stderr",
     "output_type": "stream",
     "text": [
      "../sim/GELoadBalancer.py:90: DataConversionWarning: A column-vector y was passed when a 1d array was expected. Please change the shape of y to (n_samples,), for example using ravel().\n",
      "  self.model = self.model.fit(self.X, self.y) #make sure the hat the last period x is ignored\n"
     ]
    },
    {
     "name": "stdout",
     "output_type": "stream",
     "text": [
      "42913 50 19 36713.0\n",
      "0.9976461834527107\n",
      "(609, 8) (609, 1)\n",
      "Max reward for 35304.7 22\n",
      "22\n",
      "npa 12.030167644153215\n"
     ]
    },
    {
     "name": "stderr",
     "output_type": "stream",
     "text": [
      "../sim/GELoadBalancer.py:90: DataConversionWarning: A column-vector y was passed when a 1d array was expected. Please change the shape of y to (n_samples,), for example using ravel().\n",
      "  self.model = self.model.fit(self.X, self.y) #make sure the hat the last period x is ignored\n"
     ]
    },
    {
     "name": "stdout",
     "output_type": "stream",
     "text": [
      "43228 0.0 22 36628.0\n",
      "0.9972800028416382\n",
      "(610, 8) (610, 1)\n",
      "Max reward for 36678.0 21\n",
      "21\n",
      "npa 11.895983240289498\n"
     ]
    },
    {
     "name": "stderr",
     "output_type": "stream",
     "text": [
      "../sim/GELoadBalancer.py:90: DataConversionWarning: A column-vector y was passed when a 1d array was expected. Please change the shape of y to (n_samples,), for example using ravel().\n",
      "  self.model = self.model.fit(self.X, self.y) #make sure the hat the last period x is ignored\n"
     ]
    },
    {
     "name": "stdout",
     "output_type": "stream",
     "text": [
      "43177 2 21 36857.0\n",
      "0.9977706115164178\n",
      "(611, 8) (611, 1)\n",
      "Max reward for 36345.9 21\n",
      "21\n",
      "npa 12.23155827908438\n"
     ]
    },
    {
     "name": "stderr",
     "output_type": "stream",
     "text": [
      "../sim/GELoadBalancer.py:90: DataConversionWarning: A column-vector y was passed when a 1d array was expected. Please change the shape of y to (n_samples,), for example using ravel().\n",
      "  self.model = self.model.fit(self.X, self.y) #make sure the hat the last period x is ignored\n"
     ]
    },
    {
     "name": "stdout",
     "output_type": "stream",
     "text": [
      "43941 0.0 21 37641.0\n",
      "0.9977587568264675\n",
      "(612, 8) (612, 1)\n",
      "Max reward for 36362.6 21\n",
      "21\n",
      "npa 12.106711949566238\n"
     ]
    },
    {
     "name": "stderr",
     "output_type": "stream",
     "text": [
      "../sim/GELoadBalancer.py:90: DataConversionWarning: A column-vector y was passed when a 1d array was expected. Please change the shape of y to (n_samples,), for example using ravel().\n",
      "  self.model = self.model.fit(self.X, self.y) #make sure the hat the last period x is ignored\n"
     ]
    },
    {
     "name": "stdout",
     "output_type": "stream",
     "text": [
      "43503 0.0 21 37203.0\n",
      "0.9976016750412422\n",
      "(613, 8) (613, 1)\n",
      "Max reward for 36717.5 21\n",
      "21\n",
      "npa 12.142458813415585\n"
     ]
    },
    {
     "name": "stderr",
     "output_type": "stream",
     "text": [
      "../sim/GELoadBalancer.py:90: DataConversionWarning: A column-vector y was passed when a 1d array was expected. Please change the shape of y to (n_samples,), for example using ravel().\n",
      "  self.model = self.model.fit(self.X, self.y) #make sure the hat the last period x is ignored\n"
     ]
    },
    {
     "name": "stdout",
     "output_type": "stream",
     "text": [
      "43827 0.0 21 37527.0\n",
      "0.9972115709780922\n",
      "(614, 8) (614, 1)\n",
      "Max reward for 35857.1 20\n",
      "20\n",
      "npa 12.189434478967103\n"
     ]
    },
    {
     "name": "stderr",
     "output_type": "stream",
     "text": [
      "../sim/GELoadBalancer.py:90: DataConversionWarning: A column-vector y was passed when a 1d array was expected. Please change the shape of y to (n_samples,), for example using ravel().\n",
      "  self.model = self.model.fit(self.X, self.y) #make sure the hat the last period x is ignored\n"
     ]
    },
    {
     "name": "stdout",
     "output_type": "stream",
     "text": [
      "43906 16 20 37746.0\n",
      "0.9977241811692136\n",
      "(615, 8) (615, 1)\n",
      "Max reward for 36279.3 20\n",
      "20\n",
      "npa 12.119176521907317\n"
     ]
    },
    {
     "name": "stderr",
     "output_type": "stream",
     "text": [
      "../sim/GELoadBalancer.py:90: DataConversionWarning: A column-vector y was passed when a 1d array was expected. Please change the shape of y to (n_samples,), for example using ravel().\n",
      "  self.model = self.model.fit(self.X, self.y) #make sure the hat the last period x is ignored\n"
     ]
    },
    {
     "name": "stdout",
     "output_type": "stream",
     "text": [
      "43918 8 20 37838.0\n",
      "0.9976130417341007\n",
      "(616, 8) (616, 1)\n",
      "Max reward for 36176.5 20\n",
      "20\n",
      "npa 12.128125742764022\n"
     ]
    },
    {
     "name": "stderr",
     "output_type": "stream",
     "text": [
      "../sim/GELoadBalancer.py:90: DataConversionWarning: A column-vector y was passed when a 1d array was expected. Please change the shape of y to (n_samples,), for example using ravel().\n",
      "  self.model = self.model.fit(self.X, self.y) #make sure the hat the last period x is ignored\n"
     ]
    },
    {
     "name": "stdout",
     "output_type": "stream",
     "text": [
      "43350 3 20 37320.0\n",
      "0.9979515332815823\n",
      "(617, 8) (617, 1)\n",
      "6\n",
      "npa 12.085456578455476\n"
     ]
    },
    {
     "name": "stderr",
     "output_type": "stream",
     "text": [
      "../sim/GELoadBalancer.py:90: DataConversionWarning: A column-vector y was passed when a 1d array was expected. Please change the shape of y to (n_samples,), for example using ravel().\n",
      "  self.model = self.model.fit(self.X, self.y) #make sure the hat the last period x is ignored\n"
     ]
    },
    {
     "name": "stdout",
     "output_type": "stream",
     "text": [
      "43307 3312 6 8387.0\n",
      "0.9966463016822072\n",
      "(618, 8) (618, 1)\n",
      "Max reward for 36322.2 21\n",
      "21\n",
      "npa 11.91223032543052\n"
     ]
    },
    {
     "name": "stderr",
     "output_type": "stream",
     "text": [
      "../sim/GELoadBalancer.py:90: DataConversionWarning: A column-vector y was passed when a 1d array was expected. Please change the shape of y to (n_samples,), for example using ravel().\n",
      "  self.model = self.model.fit(self.X, self.y) #make sure the hat the last period x is ignored\n"
     ]
    },
    {
     "name": "stdout",
     "output_type": "stream",
     "text": [
      "42793 8 21 36413.0\n",
      "0.9975000187600985\n",
      "(619, 8) (619, 1)\n",
      "Max reward for 35557.4 20\n",
      "20\n",
      "npa 11.953373406059718\n"
     ]
    },
    {
     "name": "stderr",
     "output_type": "stream",
     "text": [
      "../sim/GELoadBalancer.py:90: DataConversionWarning: A column-vector y was passed when a 1d array was expected. Please change the shape of y to (n_samples,), for example using ravel().\n",
      "  self.model = self.model.fit(self.X, self.y) #make sure the hat the last period x is ignored\n"
     ]
    },
    {
     "name": "stdout",
     "output_type": "stream",
     "text": [
      "42797 5 20 36747.0\n",
      "0.9973737723945488\n",
      "(620, 8) (620, 1)\n",
      "Max reward for 35413.7 20\n",
      "20\n",
      "npa 11.90426978418974\n"
     ]
    },
    {
     "name": "stderr",
     "output_type": "stream",
     "text": [
      "../sim/GELoadBalancer.py:90: DataConversionWarning: A column-vector y was passed when a 1d array was expected. Please change the shape of y to (n_samples,), for example using ravel().\n",
      "  self.model = self.model.fit(self.X, self.y) #make sure the hat the last period x is ignored\n"
     ]
    },
    {
     "name": "stdout",
     "output_type": "stream",
     "text": [
      "42701 1 20 36691.0\n",
      "0.9980736161639759\n",
      "(621, 8) (621, 1)\n",
      "Max reward for 35004.4 19\n",
      "19\n",
      "npa 11.8104225401613\n"
     ]
    },
    {
     "name": "stderr",
     "output_type": "stream",
     "text": [
      "../sim/GELoadBalancer.py:90: DataConversionWarning: A column-vector y was passed when a 1d array was expected. Please change the shape of y to (n_samples,), for example using ravel().\n",
      "  self.model = self.model.fit(self.X, self.y) #make sure the hat the last period x is ignored\n"
     ]
    },
    {
     "name": "stdout",
     "output_type": "stream",
     "text": [
      "42576 35 19 36526.0\n",
      "0.9981902342613895\n",
      "(622, 8) (622, 1)\n",
      "Max reward for 34322.0 19\n",
      "19\n",
      "npa 12.114538225661223\n"
     ]
    },
    {
     "name": "stderr",
     "output_type": "stream",
     "text": [
      "../sim/GELoadBalancer.py:90: DataConversionWarning: A column-vector y was passed when a 1d array was expected. Please change the shape of y to (n_samples,), for example using ravel().\n",
      "  self.model = self.model.fit(self.X, self.y) #make sure the hat the last period x is ignored\n"
     ]
    },
    {
     "name": "stdout",
     "output_type": "stream",
     "text": [
      "43578 88 19 36998.0\n",
      "0.9965660624182865\n",
      "(623, 8) (623, 1)\n",
      "Max reward for 36594.5 19\n",
      "19\n",
      "npa 11.825805650612066\n"
     ]
    },
    {
     "name": "stderr",
     "output_type": "stream",
     "text": [
      "../sim/GELoadBalancer.py:90: DataConversionWarning: A column-vector y was passed when a 1d array was expected. Please change the shape of y to (n_samples,), for example using ravel().\n",
      "  self.model = self.model.fit(self.X, self.y) #make sure the hat the last period x is ignored\n"
     ]
    },
    {
     "name": "stdout",
     "output_type": "stream",
     "text": [
      "42419 15 19 36569.0\n",
      "0.9970514722711233\n",
      "(624, 8) (624, 1)\n",
      "Max reward for 34471.7 19\n",
      "19\n",
      "npa 11.663093112832968\n"
     ]
    },
    {
     "name": "stderr",
     "output_type": "stream",
     "text": [
      "../sim/GELoadBalancer.py:90: DataConversionWarning: A column-vector y was passed when a 1d array was expected. Please change the shape of y to (n_samples,), for example using ravel().\n",
      "  self.model = self.model.fit(self.X, self.y) #make sure the hat the last period x is ignored\n"
     ]
    },
    {
     "name": "stdout",
     "output_type": "stream",
     "text": [
      "41654 8 19 35874.0\n",
      "0.9973205913320696\n",
      "(625, 8) (625, 1)\n",
      "Max reward for 33631.7 22\n",
      "22\n",
      "npa 11.554775018295146\n"
     ]
    },
    {
     "name": "stderr",
     "output_type": "stream",
     "text": [
      "../sim/GELoadBalancer.py:90: DataConversionWarning: A column-vector y was passed when a 1d array was expected. Please change the shape of y to (n_samples,), for example using ravel().\n",
      "  self.model = self.model.fit(self.X, self.y) #make sure the hat the last period x is ignored\n"
     ]
    },
    {
     "name": "stdout",
     "output_type": "stream",
     "text": [
      "41339 0.0 22 34739.0\n",
      "0.9968879788409017\n",
      "(626, 8) (626, 1)\n",
      "Max reward for 34184.0 20\n",
      "20\n",
      "npa 11.450917716023381\n"
     ]
    },
    {
     "name": "stderr",
     "output_type": "stream",
     "text": [
      "../sim/GELoadBalancer.py:90: DataConversionWarning: A column-vector y was passed when a 1d array was expected. Please change the shape of y to (n_samples,), for example using ravel().\n",
      "  self.model = self.model.fit(self.X, self.y) #make sure the hat the last period x is ignored\n"
     ]
    },
    {
     "name": "stdout",
     "output_type": "stream",
     "text": [
      "41340 0.0 20 35340.0\n",
      "0.9976685356821039\n",
      "(627, 8) (627, 1)\n",
      "Max reward for 34271.2 18\n",
      "18\n",
      "npa 11.319494243556191\n"
     ]
    },
    {
     "name": "stderr",
     "output_type": "stream",
     "text": [
      "../sim/GELoadBalancer.py:90: DataConversionWarning: A column-vector y was passed when a 1d array was expected. Please change the shape of y to (n_samples,), for example using ravel().\n",
      "  self.model = self.model.fit(self.X, self.y) #make sure the hat the last period x is ignored\n"
     ]
    },
    {
     "name": "stdout",
     "output_type": "stream",
     "text": [
      "40845 49 18 34955.0\n",
      "0.9975245284446376\n",
      "(628, 8) (628, 1)\n",
      "Max reward for 32013.2 20\n",
      "20\n",
      "npa 11.366719306449195\n"
     ]
    },
    {
     "name": "stderr",
     "output_type": "stream",
     "text": [
      "../sim/GELoadBalancer.py:90: DataConversionWarning: A column-vector y was passed when a 1d array was expected. Please change the shape of y to (n_samples,), for example using ravel().\n",
      "  self.model = self.model.fit(self.X, self.y) #make sure the hat the last period x is ignored\n"
     ]
    },
    {
     "name": "stdout",
     "output_type": "stream",
     "text": [
      "40911 2 20 34891.0\n",
      "0.9980001650769701\n",
      "(629, 8) (629, 1)\n",
      "22\n",
      "npa 11.226923494609018\n"
     ]
    },
    {
     "name": "stderr",
     "output_type": "stream",
     "text": [
      "../sim/GELoadBalancer.py:90: DataConversionWarning: A column-vector y was passed when a 1d array was expected. Please change the shape of y to (n_samples,), for example using ravel().\n",
      "  self.model = self.model.fit(self.X, self.y) #make sure the hat the last period x is ignored\n"
     ]
    },
    {
     "name": "stdout",
     "output_type": "stream",
     "text": [
      "40515 0.0 22 33915.0\n",
      "0.9976143201280401\n",
      "(630, 8) (630, 1)\n",
      "Max reward for 31598.9 19\n",
      "19\n",
      "npa 11.22848453262483\n"
     ]
    },
    {
     "name": "stderr",
     "output_type": "stream",
     "text": [
      "../sim/GELoadBalancer.py:90: DataConversionWarning: A column-vector y was passed when a 1d array was expected. Please change the shape of y to (n_samples,), for example using ravel().\n",
      "  self.model = self.model.fit(self.X, self.y) #make sure the hat the last period x is ignored\n"
     ]
    },
    {
     "name": "stdout",
     "output_type": "stream",
     "text": [
      "40747 2 19 35027.0\n",
      "0.997295737810986\n",
      "(631, 8) (631, 1)\n",
      "Max reward for 31603.7 19\n",
      "19\n",
      "npa 11.343316615707385\n"
     ]
    },
    {
     "name": "stderr",
     "output_type": "stream",
     "text": [
      "../sim/GELoadBalancer.py:90: DataConversionWarning: A column-vector y was passed when a 1d array was expected. Please change the shape of y to (n_samples,), for example using ravel().\n",
      "  self.model = self.model.fit(self.X, self.y) #make sure the hat the last period x is ignored\n"
     ]
    },
    {
     "name": "stdout",
     "output_type": "stream",
     "text": [
      "40649 3 19 34919.0\n",
      "0.9972562308727939\n",
      "(632, 8) (632, 1)\n",
      "Max reward for 30907.8 19\n",
      "19\n",
      "npa 11.061663665902309\n"
     ]
    },
    {
     "name": "stderr",
     "output_type": "stream",
     "text": [
      "../sim/GELoadBalancer.py:90: DataConversionWarning: A column-vector y was passed when a 1d array was expected. Please change the shape of y to (n_samples,), for example using ravel().\n",
      "  self.model = self.model.fit(self.X, self.y) #make sure the hat the last period x is ignored\n"
     ]
    },
    {
     "name": "stdout",
     "output_type": "stream",
     "text": [
      "40215 0.0 19 34515.0\n",
      "0.997506914984424\n",
      "(633, 8) (633, 1)\n",
      "Max reward for 30801.9 19\n",
      "19\n",
      "npa 11.107053000075892\n"
     ]
    },
    {
     "name": "stderr",
     "output_type": "stream",
     "text": [
      "../sim/GELoadBalancer.py:90: DataConversionWarning: A column-vector y was passed when a 1d array was expected. Please change the shape of y to (n_samples,), for example using ravel().\n",
      "  self.model = self.model.fit(self.X, self.y) #make sure the hat the last period x is ignored\n"
     ]
    },
    {
     "name": "stdout",
     "output_type": "stream",
     "text": [
      "39728 0.0 19 34028.0\n",
      "0.9981679436544877\n",
      "(634, 8) (634, 1)\n",
      "Max reward for 30863.8 19\n",
      "19\n",
      "npa 11.160581359896133\n"
     ]
    },
    {
     "name": "stderr",
     "output_type": "stream",
     "text": [
      "../sim/GELoadBalancer.py:90: DataConversionWarning: A column-vector y was passed when a 1d array was expected. Please change the shape of y to (n_samples,), for example using ravel().\n",
      "  self.model = self.model.fit(self.X, self.y) #make sure the hat the last period x is ignored\n"
     ]
    },
    {
     "name": "stdout",
     "output_type": "stream",
     "text": [
      "40143 1 19 34433.0\n",
      "0.9976353043470545\n",
      "(635, 8) (635, 1)\n",
      "Max reward for 31023.9 19\n",
      "19\n",
      "npa 11.11458759400487\n"
     ]
    },
    {
     "name": "stderr",
     "output_type": "stream",
     "text": [
      "../sim/GELoadBalancer.py:90: DataConversionWarning: A column-vector y was passed when a 1d array was expected. Please change the shape of y to (n_samples,), for example using ravel().\n",
      "  self.model = self.model.fit(self.X, self.y) #make sure the hat the last period x is ignored\n"
     ]
    },
    {
     "name": "stdout",
     "output_type": "stream",
     "text": [
      "40161 3 19 34431.0\n",
      "0.9974175739566676\n",
      "(636, 8) (636, 1)\n",
      "Max reward for 30858.1 19\n",
      "19\n",
      "npa 11.083433827898101\n"
     ]
    },
    {
     "name": "stderr",
     "output_type": "stream",
     "text": [
      "../sim/GELoadBalancer.py:90: DataConversionWarning: A column-vector y was passed when a 1d array was expected. Please change the shape of y to (n_samples,), for example using ravel().\n",
      "  self.model = self.model.fit(self.X, self.y) #make sure the hat the last period x is ignored\n"
     ]
    },
    {
     "name": "stdout",
     "output_type": "stream",
     "text": [
      "39884 0.0 19 34184.0\n",
      "0.9973977839963741\n",
      "(637, 8) (637, 1)\n",
      "Max reward for 31201.6 19\n",
      "19\n",
      "npa 11.044593835968175\n"
     ]
    },
    {
     "name": "stderr",
     "output_type": "stream",
     "text": [
      "../sim/GELoadBalancer.py:90: DataConversionWarning: A column-vector y was passed when a 1d array was expected. Please change the shape of y to (n_samples,), for example using ravel().\n",
      "  self.model = self.model.fit(self.X, self.y) #make sure the hat the last period x is ignored\n"
     ]
    },
    {
     "name": "stdout",
     "output_type": "stream",
     "text": [
      "39842 2 19 34122.0\n",
      "0.9977471560990239\n",
      "(638, 8) (638, 1)\n",
      "Max reward for 31389.3 19\n",
      "19\n",
      "npa 11.068829887555003\n"
     ]
    },
    {
     "name": "stderr",
     "output_type": "stream",
     "text": [
      "../sim/GELoadBalancer.py:90: DataConversionWarning: A column-vector y was passed when a 1d array was expected. Please change the shape of y to (n_samples,), for example using ravel().\n",
      "  self.model = self.model.fit(self.X, self.y) #make sure the hat the last period x is ignored\n"
     ]
    },
    {
     "name": "stdout",
     "output_type": "stream",
     "text": [
      "39785 3 19 34055.0\n",
      "0.9978384307258253\n",
      "(639, 8) (639, 1)\n",
      "Max reward for 30926.6 19\n",
      "19\n",
      "npa 11.027901675533299\n"
     ]
    },
    {
     "name": "stderr",
     "output_type": "stream",
     "text": [
      "../sim/GELoadBalancer.py:90: DataConversionWarning: A column-vector y was passed when a 1d array was expected. Please change the shape of y to (n_samples,), for example using ravel().\n",
      "  self.model = self.model.fit(self.X, self.y) #make sure the hat the last period x is ignored\n"
     ]
    },
    {
     "name": "stdout",
     "output_type": "stream",
     "text": [
      "39544 0.0 19 33844.0\n",
      "0.9974789186391821\n",
      "(640, 8) (640, 1)\n",
      "Max reward for 31089.0 19\n",
      "19\n",
      "npa 10.859525341978241\n"
     ]
    },
    {
     "name": "stderr",
     "output_type": "stream",
     "text": [
      "../sim/GELoadBalancer.py:90: DataConversionWarning: A column-vector y was passed when a 1d array was expected. Please change the shape of y to (n_samples,), for example using ravel().\n",
      "  self.model = self.model.fit(self.X, self.y) #make sure the hat the last period x is ignored\n"
     ]
    },
    {
     "name": "stdout",
     "output_type": "stream",
     "text": [
      "38699 1 19 32989.0\n",
      "0.9978145297802178\n",
      "(641, 8) (641, 1)\n",
      "Max reward for 31062.1 17\n",
      "17\n",
      "npa 10.623823319384373\n"
     ]
    },
    {
     "name": "stderr",
     "output_type": "stream",
     "text": [
      "../sim/GELoadBalancer.py:90: DataConversionWarning: A column-vector y was passed when a 1d array was expected. Please change the shape of y to (n_samples,), for example using ravel().\n",
      "  self.model = self.model.fit(self.X, self.y) #make sure the hat the last period x is ignored\n"
     ]
    },
    {
     "name": "stdout",
     "output_type": "stream",
     "text": [
      "38450 59 17 32760.0\n",
      "0.997483597080207\n",
      "(642, 8) (642, 1)\n",
      "Max reward for 30433.0 17\n",
      "17\n",
      "npa 10.970862036400197\n"
     ]
    },
    {
     "name": "stderr",
     "output_type": "stream",
     "text": [
      "../sim/GELoadBalancer.py:90: DataConversionWarning: A column-vector y was passed when a 1d array was expected. Please change the shape of y to (n_samples,), for example using ravel().\n",
      "  self.model = self.model.fit(self.X, self.y) #make sure the hat the last period x is ignored\n"
     ]
    },
    {
     "name": "stdout",
     "output_type": "stream",
     "text": [
      "39041 89 17 33051.0\n",
      "0.9974242587393725\n",
      "(643, 8) (643, 1)\n",
      "Max reward for 30786.4 19\n",
      "19\n",
      "npa 10.566261620492677\n"
     ]
    },
    {
     "name": "stderr",
     "output_type": "stream",
     "text": [
      "../sim/GELoadBalancer.py:90: DataConversionWarning: A column-vector y was passed when a 1d array was expected. Please change the shape of y to (n_samples,), for example using ravel().\n",
      "  self.model = self.model.fit(self.X, self.y) #make sure the hat the last period x is ignored\n"
     ]
    },
    {
     "name": "stdout",
     "output_type": "stream",
     "text": [
      "38272 1 19 32562.0\n",
      "0.9969917635615423\n",
      "(644, 8) (644, 1)\n",
      "Max reward for 30421.9 17\n",
      "17\n",
      "npa 10.626886545469638\n"
     ]
    },
    {
     "name": "stderr",
     "output_type": "stream",
     "text": [
      "../sim/GELoadBalancer.py:90: DataConversionWarning: A column-vector y was passed when a 1d array was expected. Please change the shape of y to (n_samples,), for example using ravel().\n",
      "  self.model = self.model.fit(self.X, self.y) #make sure the hat the last period x is ignored\n"
     ]
    },
    {
     "name": "stdout",
     "output_type": "stream",
     "text": [
      "38658 60 17 32958.0\n",
      "0.9970897019230912\n",
      "(645, 8) (645, 1)\n",
      "Max reward for 30721.8 19\n",
      "19\n",
      "npa 10.849795388705802\n"
     ]
    },
    {
     "name": "stderr",
     "output_type": "stream",
     "text": [
      "../sim/GELoadBalancer.py:90: DataConversionWarning: A column-vector y was passed when a 1d array was expected. Please change the shape of y to (n_samples,), for example using ravel().\n",
      "  self.model = self.model.fit(self.X, self.y) #make sure the hat the last period x is ignored\n"
     ]
    },
    {
     "name": "stdout",
     "output_type": "stream",
     "text": [
      "38892 0.0 19 33192.0\n",
      "0.997532712762676\n",
      "(646, 8) (646, 1)\n",
      "Max reward for 30765.8 19\n",
      "19\n",
      "npa 10.715113634080852\n"
     ]
    },
    {
     "name": "stderr",
     "output_type": "stream",
     "text": [
      "../sim/GELoadBalancer.py:90: DataConversionWarning: A column-vector y was passed when a 1d array was expected. Please change the shape of y to (n_samples,), for example using ravel().\n",
      "  self.model = self.model.fit(self.X, self.y) #make sure the hat the last period x is ignored\n"
     ]
    },
    {
     "name": "stdout",
     "output_type": "stream",
     "text": [
      "38805 0.0 19 33105.0\n",
      "0.9974786746021359\n",
      "(647, 8) (647, 1)\n",
      "Max reward for 31189.6 19\n",
      "19\n",
      "npa 10.999908775307116\n"
     ]
    },
    {
     "name": "stderr",
     "output_type": "stream",
     "text": [
      "../sim/GELoadBalancer.py:90: DataConversionWarning: A column-vector y was passed when a 1d array was expected. Please change the shape of y to (n_samples,), for example using ravel().\n",
      "  self.model = self.model.fit(self.X, self.y) #make sure the hat the last period x is ignored\n"
     ]
    },
    {
     "name": "stdout",
     "output_type": "stream",
     "text": [
      "39581 6 19 33821.0\n",
      "0.9978494579062269\n",
      "(648, 8) (648, 1)\n",
      "Max reward for 30857.3 20\n",
      "20\n",
      "npa 11.016131379711027\n"
     ]
    },
    {
     "name": "stderr",
     "output_type": "stream",
     "text": [
      "../sim/GELoadBalancer.py:90: DataConversionWarning: A column-vector y was passed when a 1d array was expected. Please change the shape of y to (n_samples,), for example using ravel().\n",
      "  self.model = self.model.fit(self.X, self.y) #make sure the hat the last period x is ignored\n"
     ]
    },
    {
     "name": "stdout",
     "output_type": "stream",
     "text": [
      "39820 0.0 20 33820.0\n",
      "0.9976997618268424\n",
      "(649, 8) (649, 1)\n",
      "Max reward for 31203.6 19\n",
      "19\n",
      "npa 11.049637678045695\n"
     ]
    },
    {
     "name": "stderr",
     "output_type": "stream",
     "text": [
      "../sim/GELoadBalancer.py:90: DataConversionWarning: A column-vector y was passed when a 1d array was expected. Please change the shape of y to (n_samples,), for example using ravel().\n",
      "  self.model = self.model.fit(self.X, self.y) #make sure the hat the last period x is ignored\n"
     ]
    },
    {
     "name": "stdout",
     "output_type": "stream",
     "text": [
      "39953 1 19 34243.0\n",
      "0.9976123684506859\n",
      "(650, 8) (650, 1)\n",
      "Max reward for 31015.1 19\n",
      "19\n",
      "npa 11.210827797334437\n"
     ]
    },
    {
     "name": "stderr",
     "output_type": "stream",
     "text": [
      "../sim/GELoadBalancer.py:90: DataConversionWarning: A column-vector y was passed when a 1d array was expected. Please change the shape of y to (n_samples,), for example using ravel().\n",
      "  self.model = self.model.fit(self.X, self.y) #make sure the hat the last period x is ignored\n"
     ]
    },
    {
     "name": "stdout",
     "output_type": "stream",
     "text": [
      "40425 2 19 34705.0\n",
      "0.9977978716230577\n",
      "(651, 8) (651, 1)\n",
      "Max reward for 30864.1 19\n",
      "19\n",
      "npa 11.16031845400019\n"
     ]
    },
    {
     "name": "stderr",
     "output_type": "stream",
     "text": [
      "../sim/GELoadBalancer.py:90: DataConversionWarning: A column-vector y was passed when a 1d array was expected. Please change the shape of y to (n_samples,), for example using ravel().\n",
      "  self.model = self.model.fit(self.X, self.y) #make sure the hat the last period x is ignored\n"
     ]
    },
    {
     "name": "stdout",
     "output_type": "stream",
     "text": [
      "40317 1 19 34607.0\n",
      "0.9973489338138742\n",
      "(652, 8) (652, 1)\n",
      "Max reward for 30939.2 19\n",
      "19\n",
      "npa 10.996613952798125\n"
     ]
    },
    {
     "name": "stderr",
     "output_type": "stream",
     "text": [
      "../sim/GELoadBalancer.py:90: DataConversionWarning: A column-vector y was passed when a 1d array was expected. Please change the shape of y to (n_samples,), for example using ravel().\n",
      "  self.model = self.model.fit(self.X, self.y) #make sure the hat the last period x is ignored\n"
     ]
    },
    {
     "name": "stdout",
     "output_type": "stream",
     "text": [
      "39615 1 19 33905.0\n",
      "0.9980042661927656\n",
      "(653, 8) (653, 1)\n",
      "Max reward for 31540.8 19\n",
      "19\n",
      "npa 10.963456684378873\n"
     ]
    },
    {
     "name": "stderr",
     "output_type": "stream",
     "text": [
      "../sim/GELoadBalancer.py:90: DataConversionWarning: A column-vector y was passed when a 1d array was expected. Please change the shape of y to (n_samples,), for example using ravel().\n",
      "  self.model = self.model.fit(self.X, self.y) #make sure the hat the last period x is ignored\n"
     ]
    },
    {
     "name": "stdout",
     "output_type": "stream",
     "text": [
      "39647 0.0 19 33947.0\n",
      "0.9969653250109817\n",
      "(654, 8) (654, 1)\n",
      "Max reward for 31112.6 19\n",
      "19\n",
      "npa 11.162758208376982\n"
     ]
    },
    {
     "name": "stderr",
     "output_type": "stream",
     "text": [
      "../sim/GELoadBalancer.py:90: DataConversionWarning: A column-vector y was passed when a 1d array was expected. Please change the shape of y to (n_samples,), for example using ravel().\n",
      "  self.model = self.model.fit(self.X, self.y) #make sure the hat the last period x is ignored\n"
     ]
    },
    {
     "name": "stdout",
     "output_type": "stream",
     "text": [
      "40289 0.0 19 34589.0\n",
      "0.9976112875308247\n",
      "(655, 8) (655, 1)\n",
      "Max reward for 31131.3 20\n",
      "20\n",
      "npa 11.155217986485502\n"
     ]
    },
    {
     "name": "stderr",
     "output_type": "stream",
     "text": [
      "../sim/GELoadBalancer.py:90: DataConversionWarning: A column-vector y was passed when a 1d array was expected. Please change the shape of y to (n_samples,), for example using ravel().\n",
      "  self.model = self.model.fit(self.X, self.y) #make sure the hat the last period x is ignored\n"
     ]
    },
    {
     "name": "stdout",
     "output_type": "stream",
     "text": [
      "40302 0.0 20 34302.0\n",
      "0.9970930060504981\n",
      "(656, 8) (656, 1)\n",
      "Max reward for 31300.5 19\n",
      "19\n",
      "npa 11.317552820190114\n"
     ]
    },
    {
     "name": "stderr",
     "output_type": "stream",
     "text": [
      "../sim/GELoadBalancer.py:90: DataConversionWarning: A column-vector y was passed when a 1d array was expected. Please change the shape of y to (n_samples,), for example using ravel().\n",
      "  self.model = self.model.fit(self.X, self.y) #make sure the hat the last period x is ignored\n"
     ]
    },
    {
     "name": "stdout",
     "output_type": "stream",
     "text": [
      "40954 5 19 35204.0\n",
      "0.997397329665711\n",
      "(657, 8) (657, 1)\n",
      "Max reward for 31287.7 19\n",
      "19\n",
      "npa 11.219570204245757\n"
     ]
    },
    {
     "name": "stderr",
     "output_type": "stream",
     "text": [
      "../sim/GELoadBalancer.py:90: DataConversionWarning: A column-vector y was passed when a 1d array was expected. Please change the shape of y to (n_samples,), for example using ravel().\n",
      "  self.model = self.model.fit(self.X, self.y) #make sure the hat the last period x is ignored\n"
     ]
    },
    {
     "name": "stdout",
     "output_type": "stream",
     "text": [
      "40090 6 19 34330.0\n",
      "0.9974365110096172\n",
      "(658, 8) (658, 1)\n",
      "Max reward for 30442.3 19\n",
      "19\n",
      "npa 11.143215827267635\n"
     ]
    },
    {
     "name": "stderr",
     "output_type": "stream",
     "text": [
      "../sim/GELoadBalancer.py:90: DataConversionWarning: A column-vector y was passed when a 1d array was expected. Please change the shape of y to (n_samples,), for example using ravel().\n",
      "  self.model = self.model.fit(self.X, self.y) #make sure the hat the last period x is ignored\n"
     ]
    },
    {
     "name": "stdout",
     "output_type": "stream",
     "text": [
      "40290 4 19 34550.0\n",
      "0.9970192025874448\n",
      "(659, 8) (659, 1)\n",
      "Max reward for 31223.0 20\n",
      "20\n",
      "npa 11.26940915610231\n"
     ]
    },
    {
     "name": "stderr",
     "output_type": "stream",
     "text": [
      "../sim/GELoadBalancer.py:90: DataConversionWarning: A column-vector y was passed when a 1d array was expected. Please change the shape of y to (n_samples,), for example using ravel().\n",
      "  self.model = self.model.fit(self.X, self.y) #make sure the hat the last period x is ignored\n"
     ]
    },
    {
     "name": "stdout",
     "output_type": "stream",
     "text": [
      "40219 0.0 20 34219.0\n",
      "0.9974596092251393\n",
      "(660, 8) (660, 1)\n",
      "Max reward for 31747.1 19\n",
      "19\n",
      "npa 11.195520777347165\n"
     ]
    },
    {
     "name": "stderr",
     "output_type": "stream",
     "text": [
      "../sim/GELoadBalancer.py:90: DataConversionWarning: A column-vector y was passed when a 1d array was expected. Please change the shape of y to (n_samples,), for example using ravel().\n",
      "  self.model = self.model.fit(self.X, self.y) #make sure the hat the last period x is ignored\n"
     ]
    },
    {
     "name": "stdout",
     "output_type": "stream",
     "text": [
      "40429 2 19 34709.0\n",
      "0.9976692690109279\n",
      "(661, 8) (661, 1)\n",
      "Max reward for 31795.6 19\n",
      "19\n",
      "npa 11.263689676382736\n"
     ]
    },
    {
     "name": "stderr",
     "output_type": "stream",
     "text": [
      "../sim/GELoadBalancer.py:90: DataConversionWarning: A column-vector y was passed when a 1d array was expected. Please change the shape of y to (n_samples,), for example using ravel().\n",
      "  self.model = self.model.fit(self.X, self.y) #make sure the hat the last period x is ignored\n"
     ]
    },
    {
     "name": "stdout",
     "output_type": "stream",
     "text": [
      "40591 0.0 19 34891.0\n",
      "0.9981020822599201\n",
      "(662, 8) (662, 1)\n",
      "Max reward for 31291.9 20\n",
      "20\n",
      "npa 11.332050651239678\n"
     ]
    },
    {
     "name": "stderr",
     "output_type": "stream",
     "text": [
      "../sim/GELoadBalancer.py:90: DataConversionWarning: A column-vector y was passed when a 1d array was expected. Please change the shape of y to (n_samples,), for example using ravel().\n",
      "  self.model = self.model.fit(self.X, self.y) #make sure the hat the last period x is ignored\n"
     ]
    },
    {
     "name": "stdout",
     "output_type": "stream",
     "text": [
      "41149 1 20 35139.0\n",
      "0.9970278642802141\n",
      "(663, 8) (663, 1)\n",
      "Max reward for 34191.8 19\n",
      "19\n",
      "npa 11.261895870252083\n"
     ]
    },
    {
     "name": "stderr",
     "output_type": "stream",
     "text": [
      "../sim/GELoadBalancer.py:90: DataConversionWarning: A column-vector y was passed when a 1d array was expected. Please change the shape of y to (n_samples,), for example using ravel().\n",
      "  self.model = self.model.fit(self.X, self.y) #make sure the hat the last period x is ignored\n"
     ]
    },
    {
     "name": "stdout",
     "output_type": "stream",
     "text": [
      "40345 1 19 34635.0\n",
      "0.9976323624769153\n",
      "(664, 8) (664, 1)\n",
      "Max reward for 31020.4 19\n",
      "19\n",
      "npa 11.43746359349275\n"
     ]
    },
    {
     "name": "stderr",
     "output_type": "stream",
     "text": [
      "../sim/GELoadBalancer.py:90: DataConversionWarning: A column-vector y was passed when a 1d array was expected. Please change the shape of y to (n_samples,), for example using ravel().\n",
      "  self.model = self.model.fit(self.X, self.y) #make sure the hat the last period x is ignored\n"
     ]
    },
    {
     "name": "stdout",
     "output_type": "stream",
     "text": [
      "41297 0.0 19 35597.0\n",
      "0.9972012256916678\n",
      "(665, 8) (665, 1)\n",
      "Max reward for 34177.1 20\n",
      "20\n",
      "npa 11.451265777827247\n"
     ]
    },
    {
     "name": "stderr",
     "output_type": "stream",
     "text": [
      "../sim/GELoadBalancer.py:90: DataConversionWarning: A column-vector y was passed when a 1d array was expected. Please change the shape of y to (n_samples,), for example using ravel().\n",
      "  self.model = self.model.fit(self.X, self.y) #make sure the hat the last period x is ignored\n"
     ]
    },
    {
     "name": "stdout",
     "output_type": "stream",
     "text": [
      "41463 0.0 20 35463.0\n",
      "0.9969845364924027\n",
      "(666, 8) (666, 1)\n",
      "Max reward for 33728.5 20\n",
      "20\n",
      "npa 11.393403967630036\n"
     ]
    },
    {
     "name": "stderr",
     "output_type": "stream",
     "text": [
      "../sim/GELoadBalancer.py:90: DataConversionWarning: A column-vector y was passed when a 1d array was expected. Please change the shape of y to (n_samples,), for example using ravel().\n",
      "  self.model = self.model.fit(self.X, self.y) #make sure the hat the last period x is ignored\n"
     ]
    },
    {
     "name": "stdout",
     "output_type": "stream",
     "text": [
      "40912 0.0 20 34912.0\n",
      "0.997224280742731\n",
      "(667, 8) (667, 1)\n",
      "Max reward for 31715.9 20\n",
      "20\n",
      "npa 11.407387238009708\n"
     ]
    },
    {
     "name": "stderr",
     "output_type": "stream",
     "text": [
      "../sim/GELoadBalancer.py:90: DataConversionWarning: A column-vector y was passed when a 1d array was expected. Please change the shape of y to (n_samples,), for example using ravel().\n",
      "  self.model = self.model.fit(self.X, self.y) #make sure the hat the last period x is ignored\n"
     ]
    },
    {
     "name": "stdout",
     "output_type": "stream",
     "text": [
      "40812 0.0 20 34812.0\n",
      "0.9975541357598269\n",
      "(668, 8) (668, 1)\n",
      "Max reward for 31955.0 19\n",
      "19\n",
      "npa 11.288536632619643\n"
     ]
    },
    {
     "name": "stderr",
     "output_type": "stream",
     "text": [
      "../sim/GELoadBalancer.py:90: DataConversionWarning: A column-vector y was passed when a 1d array was expected. Please change the shape of y to (n_samples,), for example using ravel().\n",
      "  self.model = self.model.fit(self.X, self.y) #make sure the hat the last period x is ignored\n"
     ]
    },
    {
     "name": "stdout",
     "output_type": "stream",
     "text": [
      "40898 2 19 35178.0\n",
      "0.9975472813698654\n",
      "(669, 8) (669, 1)\n",
      "Max reward for 31676.5 19\n",
      "19\n",
      "npa 11.407681609247048\n"
     ]
    },
    {
     "name": "stderr",
     "output_type": "stream",
     "text": [
      "../sim/GELoadBalancer.py:90: DataConversionWarning: A column-vector y was passed when a 1d array was expected. Please change the shape of y to (n_samples,), for example using ravel().\n",
      "  self.model = self.model.fit(self.X, self.y) #make sure the hat the last period x is ignored\n"
     ]
    },
    {
     "name": "stdout",
     "output_type": "stream",
     "text": [
      "41225 3 19 35495.0\n",
      "0.9976203138524754\n",
      "(670, 8) (670, 1)\n",
      "Max reward for 33913.3 20\n",
      "20\n",
      "npa 11.496198311272751\n"
     ]
    },
    {
     "name": "stderr",
     "output_type": "stream",
     "text": [
      "../sim/GELoadBalancer.py:90: DataConversionWarning: A column-vector y was passed when a 1d array was expected. Please change the shape of y to (n_samples,), for example using ravel().\n",
      "  self.model = self.model.fit(self.X, self.y) #make sure the hat the last period x is ignored\n"
     ]
    },
    {
     "name": "stdout",
     "output_type": "stream",
     "text": [
      "41827 0.0 20 35827.0\n",
      "0.9975083989598491\n",
      "(671, 8) (671, 1)\n",
      "Max reward for 33586.3 19\n",
      "19\n",
      "npa 11.51827208487999\n"
     ]
    },
    {
     "name": "stderr",
     "output_type": "stream",
     "text": [
      "../sim/GELoadBalancer.py:90: DataConversionWarning: A column-vector y was passed when a 1d array was expected. Please change the shape of y to (n_samples,), for example using ravel().\n",
      "  self.model = self.model.fit(self.X, self.y) #make sure the hat the last period x is ignored\n"
     ]
    },
    {
     "data": {
      "text/plain": [
       "<sim.Environment.Environment at 0x7fd91dfcb6d0>"
      ]
     },
     "execution_count": 14,
     "metadata": {},
     "output_type": "execute_result"
    }
   ],
   "source": [
    "#from sklearn.linear_model import LinearRegression\n",
    "#from sklearn.tree import DecisionTreeRegressor\n",
    "#from sklearn.neural_network import MLPRegressor\n",
    "from sklearn.ensemble import RandomForestRegressor\n",
    "\n",
    "stopTime = 4*7*24*60*60\n",
    "env = Environment(stopTime=stopTime)\n",
    "\n",
    "#model = LinearRegression()\n",
    "#model = DecisionTreeRegressor()\n",
    "#model  = MLPRegressor(hidden_layer_sizes=[10], activation='tanh')\n",
    "model  = RandomForestRegressor(n_estimators=10)\n",
    "eta = lambda t: sigmoid(2-0.01*t)\n",
    "#eta = 0.4\n",
    "#sigmoid(2/(0.1*t+2)-0.5)\n",
    "periodLength = 1*60*60 #half an hour per period -> schedule repeated two times in 12 hours\n",
    "loadBalancer = GreedyEpsilonLoadBalancer(nServers=10, environment=env, model = model, eta=eta, nServerRange=[1,30], usePartialFit=False, periodLength=periodLength)\n",
    "\n",
    "requestTypes = [(0.5,1,0.1,10), (0.5,2,0.2,10)] #(prob, mu, sigma, cancelTime)\n",
    "arrivalsPerSecond = 10 #starting value\n",
    "source = ExponentialSource(arrivalsPerSecond, requestTypes, loadBalancer, env)\n",
    "\n",
    "schedule = np.array([arrivalsPerSecond]) #12 periods\n",
    "arrivalSchedule = AutoRegressiveArrivalSchedule(periodLength,arrivalSchedule=schedule, environment=env, loadBalancer=loadBalancer, source=source, maxArrivals=20, A=[0,1,0,0,0,0.3,0])\n",
    "env.run(debug=False)"
   ]
  },
  {
   "cell_type": "code",
   "execution_count": null,
   "metadata": {},
   "outputs": [],
   "source": [
    "import pandas as pd\n",
    "pd.DataFrame(list(loadBalancer.X)).head(10)"
   ]
  },
  {
   "cell_type": "code",
   "execution_count": null,
   "metadata": {},
   "outputs": [],
   "source": [
    "print(loadBalancer.X.shape, loadBalancer.y.shape)\n"
   ]
  },
  {
   "cell_type": "code",
   "execution_count": null,
   "metadata": {},
   "outputs": [],
   "source": [
    "X = loadBalancer.X[-1,:]\n",
    "X\n",
    "pred = []\n",
    "for n  in range(0,40):\n",
    "    X_ = np.append(X[:-1], n)\n",
    "    rewardHat = loadBalancer.model.predict(X_[None,:])[0]\n",
    "    pred.append(rewardHat)\n",
    "\n",
    "plt.plot(range(0,40), pred)"
   ]
  },
  {
   "cell_type": "code",
   "execution_count": null,
   "metadata": {},
   "outputs": [],
   "source": [
    "plt.scatter(env.log['numberOfServers'][::2], env.log['reward'])"
   ]
  },
  {
   "cell_type": "code",
   "execution_count": null,
   "metadata": {},
   "outputs": [],
   "source": [
    "plt.plot(env.log['numberOfServers'])\n"
   ]
  },
  {
   "cell_type": "code",
   "execution_count": null,
   "metadata": {},
   "outputs": [],
   "source": [
    "plt.plot(env.log['arrivalsPerSecond'])\n",
    "plt.ylabel('Arrivals')\n",
    "plt.xlabel('Time (seconds)')\n",
    "\n"
   ]
  },
  {
   "cell_type": "code",
   "execution_count": 16,
   "metadata": {},
   "outputs": [
    {
     "name": "stdout",
     "output_type": "stream",
     "text": [
      "672 672\n"
     ]
    },
    {
     "data": {
      "text/plain": [
       "Text(0, 0.5, '#servers')"
      ]
     },
     "execution_count": 16,
     "metadata": {},
     "output_type": "execute_result"
    },
    {
     "data": {
      "image/png": "[encoded data removed]",
      "text/plain": [
       "<Figure size 1080x360 with 1 Axes>"
      ]
     },
     "metadata": {
      "needs_background": "light"
     },
     "output_type": "display_data"
    }
   ],
   "source": [
    "pred = np.array(env.log['numberOfServers'][::2])\n",
    "real = np.array([getOptServer(_) for _ in env.log['arrivalsPerSecond'][1:-1]])\n",
    "ged = np.array(env.log['greedyEpsilonActionType'])\n",
    "print(len(pred), len(real))\n",
    "plt.figure(figsize=(15,5))\n",
    "plt.plot(pred, label='Chosen #servers')\n",
    "plt.plot(real, color='red', label='Optimal #servers')\n",
    "plt.legend()\n",
    "plt.ylim(10,30)\n",
    "plt.xlabel('Time (seconds)')\n",
    "plt.ylabel('#servers')\n",
    "\n",
    "#plt.scatter(pred[ged==1],real[ged==1])"
   ]
  },
  {
   "cell_type": "code",
   "execution_count": null,
   "metadata": {},
   "outputs": [],
   "source": [
    "pred = np.array(env.log['numberOfServers'][::2])\n",
    "real = np.array([getOptServer(_) for _ in env.log['arrivalsPerSecond'][1:-1]])\n",
    "ged = np.array(env.log['greedyEpsilonActionType'])\n",
    "print(len(pred), len(real))\n",
    "plt.figure(figsize=(15,5))\n",
    "plt.plot(pred, label='Chosen #servers')\n",
    "plt.plot(real, color='red', label='Optimal #servers')\n",
    "plt.legend()\n",
    "plt.xlabel('Time (seconds)')\n",
    "plt.ylabel('#servers')\n",
    "\n",
    "#plt.scatter(pred[ged==1],real[ged==1])"
   ]
  },
  {
   "cell_type": "code",
   "execution_count": 17,
   "metadata": {},
   "outputs": [
    {
     "name": "stdout",
     "output_type": "stream",
     "text": [
      "672 672\n"
     ]
    },
    {
     "data": {
      "text/plain": [
       "<matplotlib.collections.PathCollection at 0x7fd69093be50>"
      ]
     },
     "execution_count": 17,
     "metadata": {},
     "output_type": "execute_result"
    },
    {
     "data": {
      "image/png": "[encoded data removed]",
      "text/plain": [
       "<Figure size 1080x360 with 1 Axes>"
      ]
     },
     "metadata": {
      "needs_background": "light"
     },
     "output_type": "display_data"
    },
    {
     "data": {
      "image/png": "[encoded data removed]",
      "text/plain": [
       "<Figure size 432x288 with 1 Axes>"
      ]
     },
     "metadata": {
      "needs_background": "light"
     },
     "output_type": "display_data"
    }
   ],
   "source": [
    "pred = np.array(env.log['numberOfServers'][::2])\n",
    "real = np.array([getOptServer(_) for _ in env.log['arrivalsPerSecond'][1:-1]])\n",
    "ged = np.array(env.log['greedyEpsilonActionType'])\n",
    "print(len(pred), len(real))\n",
    "plt.figure(figsize=(15,5))\n",
    "plt.plot(pred[ged==1], label='Chosen #servers')\n",
    "plt.plot(real[ged==1], color='red', label='Optimal #servers')\n",
    "plt.legend()\n",
    "plt.xlabel('Time (seconds)')\n",
    "plt.ylabel('#servers')\n",
    "plt.figure()\n",
    "plt.scatter(pred[ged==1],real[ged==1])"
   ]
  },
  {
   "cell_type": "code",
   "execution_count": null,
   "metadata": {},
   "outputs": [],
   "source": [
    "plt.plot(env.log['eta'])\n",
    "plt.ylabel('$\\eta$')\n",
    "plt.xlabel('Period')"
   ]
  },
  {
   "cell_type": "code",
   "execution_count": null,
   "metadata": {},
   "outputs": [],
   "source": [
    "plt.plot(env.log['eta'])\n",
    "plt.figure()\n",
    "plt.plot(env.log['numberOfServers'])\n",
    "plt.figure()\n",
    "plt.plot(env.log['greedyEpsilonActionType'])\n",
    "plt.figure()\n",
    "plt.plot(env.log['reward'])\n",
    "plt.figure()\n",
    "plt.hist(env.logTime['arrivalEvent'], bins=int(stopTime/60/60));\n",
    "plt.figure()\n",
    "plt.hist(env.logTime['requestProcessed'], bins=int(stopTime/60/60));\n",
    "plt.figure()\n",
    "plt.hist(env.logTime['requestCancelled'], bins=int(stopTime/60/60));"
   ]
  },
  {
   "cell_type": "code",
   "execution_count": null,
   "metadata": {},
   "outputs": [],
   "source": [
    "plt.plot(np.array(env.log['reward'])[np.array(env.log['greedyEpsilonActionType'])==1.0])\n",
    "plt.plot(np.array(env.log['numberOfServers'])[np.array(env.log['greedyEpsilonActionType'])==1.0])"
   ]
  },
  {
   "cell_type": "code",
   "execution_count": null,
   "metadata": {},
   "outputs": [],
   "source": [
    "plt.plot(np.array(env.log['numberOfServers'][::2])[np.array(env.log['greedyEpsilonActionType'])==1.0])"
   ]
  },
  {
   "cell_type": "code",
   "execution_count": null,
   "metadata": {},
   "outputs": [],
   "source": [
    "plt.plot(env.log['arrivalsPerSecond'])"
   ]
  },
  {
   "cell_type": "code",
   "execution_count": null,
   "metadata": {},
   "outputs": [],
   "source": [
    "plt.scatter(loadBalancer.X[:-1,2],loadBalancer.y)\n",
    "plt.xlabel('x')\n",
    "plt.ylabel('y')"
   ]
  },
  {
   "cell_type": "code",
   "execution_count": null,
   "metadata": {},
   "outputs": [],
   "source": [
    "plt.scatter(env.log['numberOfServers'][0::2],env.log['reward'])"
   ]
  },
  {
   "cell_type": "code",
   "execution_count": null,
   "metadata": {},
   "outputs": [],
   "source": [
    "\n",
    "def sigmoid(x):\n",
    "      return 1 / (1 + np.exp(-x))\n",
    "\n",
    "x = np.arange(0,120,1)\n",
    "plt.plot(x, sigmoid(2/(0.1*x+2)-0.5))\n",
    "plt.plot(x, sigmoid(1-0.1*x))"
   ]
  },
  {
   "cell_type": "code",
   "execution_count": null,
   "metadata": {},
   "outputs": [],
   "source": [
    "x = np.arange(0,1000,1)\n",
    "plt.plot(x, sigmoid(2-0.01*x))"
   ]
  },
  {
   "cell_type": "code",
   "execution_count": null,
   "metadata": {},
   "outputs": [],
   "source": []
  }
 ],
 "metadata": {
  "kernelspec": {
   "display_name": "base",
   "language": "python",
   "name": "python3"
  },
  "language_info": {
   "codemirror_mode": {
    "name": "ipython",
    "version": 3
   },
   "file_extension": ".py",
   "mimetype": "text/x-python",
   "name": "python",
   "nbconvert_exporter": "python",
   "pygments_lexer": "ipython3",
   "version": "3.8.3"
  },
  "orig_nbformat": 4,
  "vscode": {
   "interpreter": {
    "hash": "2ed55c8a3b358c2f14bd6337b3a23ad56aa9692a3206675e532b0b29d35d2a5c"
   }
  }
 },
 "nbformat": 4,
 "nbformat_minor": 2
}
