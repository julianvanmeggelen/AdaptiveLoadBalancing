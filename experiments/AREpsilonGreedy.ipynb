{
 "cells": [
  {
   "cell_type": "code",
   "execution_count": null,
   "metadata": {},
   "outputs": [],
   "source": [
    "%load_ext autoreload\n",
    "%autoreload 2\n",
    "import sys\n",
    "sys.path.insert(0, '..')\n",
    "\n",
    "from sim.LoadBalancer import LoadBalancer\n",
    "from sim.Source import AutoRegressiveArrivalSchedule, Source, ExponentialSource\n",
    "from sim.Environment import Environment\n",
    "from sim.GELoadBalancer import GreedyEpsilonLoadBalancer\n",
    "import numpy as np\n",
    "import random\n",
    "import matplotlib.pyplot as plt\n",
    "import math\n",
    "from optServers import getOptServer\n"
   ]
  },
  {
   "attachments": {},
   "cell_type": "markdown",
   "metadata": {},
   "source": [
    "## Arrival process\n",
    "use number of arrivals and number of cancelled to define autoregressive process"
   ]
  },
  {
   "cell_type": "code",
   "execution_count": null,
   "metadata": {},
   "outputs": [],
   "source": [
    "def sigmoid(x):\n",
    "      return 1 / (1 + np.exp(-x))"
   ]
  },
  {
   "cell_type": "code",
   "execution_count": null,
   "metadata": {},
   "outputs": [],
   "source": [
    "X0 = np.array([18000, 0])\n",
    "X = X0\n",
    "A = np.array([1,0.05])\n",
    "arrivalProcess = lambda X: X.T @ A \n",
    "\n",
    "arr = []\n",
    "canc = []\n",
    "for i in range(0,100):\n",
    "    arrs  = arrivalProcess(X) + random.normalvariate(0,100)\n",
    "    arr.append(arrs)\n",
    "    cancelled = max(arrs-18000,0)\n",
    "    canc.append(cancelled)\n",
    "    X = np.array([arrs, cancelled])\n",
    "\n",
    "plt.plot(arr)\n",
    "plt.figure()\n",
    "plt.plot(canc)\n"
   ]
  },
  {
   "attachments": {},
   "cell_type": "markdown",
   "metadata": {},
   "source": [
    "### Test the process"
   ]
  },
  {
   "cell_type": "code",
   "execution_count": null,
   "metadata": {},
   "outputs": [],
   "source": [
    "def sigmoid(x):\n",
    "      return 1 / (1 + np.exp(-x))"
   ]
  },
  {
   "cell_type": "code",
   "execution_count": null,
   "metadata": {},
   "outputs": [],
   "source": [
    "#from sklearn.linear_model import LinearRegression\n",
    "#from sklearn.tree import DecisionTreeRegressor\n",
    "#from sklearn.neural_network import MLPRegressor\n",
    "from sklearn.ensemble import RandomForestRegressor\n",
    "\n",
    "stopTime = 4*7*24*60*60\n",
    "env = Environment(stopTime=stopTime)\n",
    "\n",
    "#model = LinearRegression()\n",
    "#model = DecisionTreeRegressor()\n",
    "#model  = MLPRegressor(hidden_layer_sizes=[10], activation='tanh')\n",
    "model  = RandomForestRegressor(n_estimators=10)\n",
    "eta = lambda t: sigmoid(2-0.01*t)\n",
    "#eta = 0.4\n",
    "#sigmoid(2/(0.1*t+2)-0.5)\n",
    "periodLength = 1*60*60 #half an hour per period -> schedule repeated two times in 12 hours\n",
    "loadBalancer = GreedyEpsilonLoadBalancer(nServers=10, environment=env, model = model, eta=eta, nServerRange=[10,30], usePartialFit=False, periodLength=periodLength)\n",
    "\n",
    "requestTypes = [(0.5,1,0.1,10), (0.5,2,0.2,10)] #(prob, mu, sigma, cancelTime)\n",
    "arrivalsPerSecond = 10 #starting value\n",
    "source = ExponentialSource(arrivalsPerSecond, requestTypes, loadBalancer, env)\n",
    "\n",
    "schedule = np.array([arrivalsPerSecond]) #12 periods\n",
    "arrivalSchedule = AutoRegressiveArrivalSchedule(periodLength,arrivalSchedule=schedule, environment=env, loadBalancer=loadBalancer, source=source, maxArrivals=20, A=[0,1,0,0,0,0.3,0])\n",
    "env.run(debug=False)"
   ]
  },
  {
   "cell_type": "code",
   "execution_count": null,
   "metadata": {},
   "outputs": [],
   "source": [
    "import pandas as pd\n",
    "pd.DataFrame(list(loadBalancer.X)).head(10)"
   ]
  },
  {
   "cell_type": "code",
   "execution_count": null,
   "metadata": {},
   "outputs": [],
   "source": [
    "print(loadBalancer.X.shape, loadBalancer.y.shape)\n"
   ]
  },
  {
   "cell_type": "code",
   "execution_count": null,
   "metadata": {},
   "outputs": [],
   "source": [
    "X = loadBalancer.X[-1,:]\n",
    "X\n",
    "pred = []\n",
    "for n  in range(0,40):\n",
    "    X_ = np.append(X[:-1], n)\n",
    "    rewardHat = loadBalancer.model.predict(X_[None,:])[0]\n",
    "    pred.append(rewardHat)\n",
    "\n",
    "plt.plot(range(0,40), pred)"
   ]
  },
  {
   "cell_type": "code",
   "execution_count": null,
   "metadata": {},
   "outputs": [],
   "source": [
    "plt.scatter(env.log['numberOfServers'][::2], env.log['reward'])"
   ]
  },
  {
   "cell_type": "code",
   "execution_count": null,
   "metadata": {},
   "outputs": [],
   "source": [
    "plt.plot(env.log['numberOfServers'])\n"
   ]
  },
  {
   "cell_type": "code",
   "execution_count": null,
   "metadata": {},
   "outputs": [],
   "source": [
    "plt.plot(env.log['arrivalsPerSecond'])\n",
    "plt.ylabel('Arrivals')\n",
    "plt.xlabel('Time (seconds)')\n",
    "\n"
   ]
  },
  {
   "cell_type": "code",
   "execution_count": null,
   "metadata": {},
   "outputs": [],
   "source": [
    "pred = np.array(env.log['numberOfServers'][::2])\n",
    "real = np.array([getOptServer(_) for _ in env.log['arrivalsPerSecond'][1:-1]])\n",
    "ged = np.array(env.log['greedyEpsilonActionType'])\n",
    "print(len(pred), len(real))\n",
    "plt.figure(figsize=(15,5))\n",
    "plt.plot(pred, label='Chosen #servers')\n",
    "plt.plot(real, color='red', label='Optimal #servers')\n",
    "plt.legend()\n",
    "plt.xlabel('Time (seconds)')\n",
    "plt.ylabel('#servers')\n",
    "plt.figure()\n",
    "plt.scatter(pred[ged==1],real[ged==1])"
   ]
  },
  {
   "cell_type": "code",
   "execution_count": null,
   "metadata": {},
   "outputs": [],
   "source": [
    "pred = np.array(env.log['numberOfServers'][::2])\n",
    "real = np.array([getOptServer(_) for _ in env.log['arrivalsPerSecond'][1:-1]])\n",
    "ged = np.array(env.log['greedyEpsilonActionType'])\n",
    "print(len(pred), len(real))\n",
    "plt.figure(figsize=(15,5))\n",
    "plt.plot(pred[ged==1], label='Chosen #servers')\n",
    "plt.plot(real[ged==1], color='red', label='Optimal #servers')\n",
    "plt.legend()\n",
    "plt.xlabel('Time (seconds)')\n",
    "plt.ylabel('#servers')\n",
    "plt.figure()\n",
    "plt.scatter(pred[ged==1],real[ged==1])"
   ]
  },
  {
   "cell_type": "code",
   "execution_count": null,
   "metadata": {},
   "outputs": [],
   "source": [
    "plt.plot(env.log['eta'])\n",
    "plt.ylabel('$\\eta$')\n",
    "plt.xlabel('Period')"
   ]
  },
  {
   "cell_type": "code",
   "execution_count": null,
   "metadata": {},
   "outputs": [],
   "source": [
    "plt.plot(env.log['eta'])\n",
    "plt.figure()\n",
    "plt.plot(env.log['numberOfServers'])\n",
    "plt.figure()\n",
    "plt.plot(env.log['greedyEpsilonActionType'])\n",
    "plt.figure()\n",
    "plt.plot(env.log['reward'])\n",
    "plt.figure()\n",
    "plt.hist(env.logTime['arrivalEvent'], bins=int(stopTime/60/60));\n",
    "plt.figure()\n",
    "plt.hist(env.logTime['requestProcessed'], bins=int(stopTime/60/60));\n",
    "plt.figure()\n",
    "plt.hist(env.logTime['requestCancelled'], bins=int(stopTime/60/60));"
   ]
  },
  {
   "cell_type": "code",
   "execution_count": null,
   "metadata": {},
   "outputs": [],
   "source": [
    "plt.plot(np.array(env.log['reward'])[np.array(env.log['greedyEpsilonActionType'])==1.0])\n",
    "plt.plot(np.array(env.log['numberOfServers'])[np.array(env.log['greedyEpsilonActionType'])==1.0])"
   ]
  },
  {
   "cell_type": "code",
   "execution_count": null,
   "metadata": {},
   "outputs": [],
   "source": [
    "plt.plot(np.array(env.log['numberOfServers'][::2])[np.array(env.log['greedyEpsilonActionType'])==1.0])"
   ]
  },
  {
   "cell_type": "code",
   "execution_count": null,
   "metadata": {},
   "outputs": [],
   "source": [
    "plt.plot(env.log['arrivalsPerSecond'])"
   ]
  },
  {
   "cell_type": "code",
   "execution_count": null,
   "metadata": {},
   "outputs": [],
   "source": [
    "plt.scatter(loadBalancer.X[:-1,2],loadBalancer.y)\n",
    "plt.xlabel('x')\n",
    "plt.ylabel('y')"
   ]
  },
  {
   "cell_type": "code",
   "execution_count": null,
   "metadata": {},
   "outputs": [],
   "source": [
    "plt.scatter(env.log['numberOfServers'][0::2],env.log['reward'])"
   ]
  },
  {
   "cell_type": "code",
   "execution_count": null,
   "metadata": {},
   "outputs": [],
   "source": [
    "\n",
    "def sigmoid(x):\n",
    "      return 1 / (1 + np.exp(-x))\n",
    "\n",
    "x = np.arange(0,120,1)\n",
    "plt.plot(x, sigmoid(2/(0.1*x+2)-0.5))\n",
    "plt.plot(x, sigmoid(1-0.1*x))"
   ]
  },
  {
   "cell_type": "code",
   "execution_count": null,
   "metadata": {},
   "outputs": [],
   "source": [
    "x = np.arange(0,1000,1)\n",
    "plt.plot(x, sigmoid(2-0.01*x))"
   ]
  },
  {
   "cell_type": "code",
   "execution_count": null,
   "metadata": {},
   "outputs": [],
   "source": []
  }
 ],
 "metadata": {
  "kernelspec": {
   "display_name": "base",
   "language": "python",
   "name": "python3"
  },
  "language_info": {
   "codemirror_mode": {
    "name": "ipython",
    "version": 3
   },
   "file_extension": ".py",
   "mimetype": "text/x-python",
   "name": "python",
   "nbconvert_exporter": "python",
   "pygments_lexer": "ipython3",
   "version": "3.8.3"
  },
  "orig_nbformat": 4,
  "vscode": {
   "interpreter": {
    "hash": "2ed55c8a3b358c2f14bd6337b3a23ad56aa9692a3206675e532b0b29d35d2a5c"
   }
  }
 },
 "nbformat": 4,
 "nbformat_minor": 2
}
