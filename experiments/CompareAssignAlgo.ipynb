{
 "cells": [
  {
   "attachments": {},
   "cell_type": "markdown",
   "metadata": {},
   "source": [
    "## Compare assignment algorithms"
   ]
  },
  {
   "cell_type": "code",
   "execution_count": 1,
   "metadata": {},
   "outputs": [
    {
     "name": "stderr",
     "output_type": "stream",
     "text": [
      "/Users/julianvanmeggelen/opt/anaconda3/lib/python3.8/site-packages/pandas/core/computation/expressions.py:20: UserWarning: Pandas requires version '2.7.3' or newer of 'numexpr' (version '2.7.1' currently installed).\n",
      "  from pandas.core.computation.check import NUMEXPR_INSTALLED\n"
     ]
    }
   ],
   "source": [
    "%load_ext autoreload\n",
    "%autoreload 2\n",
    "import sys\n",
    "sys.path.insert(0, '..')\n",
    "from sim.Environment import Environment\n",
    "from sim.LoadBalancer import LoadBalancer, LoadBalancerShortestQueue\n",
    "from sim.LoadBalancerRandom import LoadBalancerRandom\n",
    "from sim.Source import Source, ArrivalSchedule, BatchedSource, ExponentialSource\n",
    "from scipy.stats import beta\n",
    "\n",
    "import seaborn as sns\n",
    "import matplotlib.pyplot as plt\n",
    "import pandas as pd\n",
    "import numpy as np\n",
    "sns.set()"
   ]
  },
  {
   "cell_type": "code",
   "execution_count": 2,
   "metadata": {},
   "outputs": [],
   "source": [
    "#config\n",
    "stopTime = 12*60*60\n",
    "requestTypes = [(0.5,1,0.1,10), (0.5,2,0.2,10)] #(prob, mu, sigma, cancelTime)\n",
    "arrivalsPerSecond = 20"
   ]
  },
  {
   "cell_type": "code",
   "execution_count": 3,
   "metadata": {},
   "outputs": [],
   "source": [
    "def waitingTimeCI(env):\n",
    "    plt.hist(env.log['requestWaitingTime'])\n",
    "    print(np.mean(env.log['requestWaitingTime']))\n",
    "    mean = np.mean(env.log['requestWaitingTime'])\n",
    "    print(np.std(env.log['requestWaitingTime']))\n",
    "    se = np.std(env.log['requestWaitingTime'])/np.sqrt(len(env.log['requestWaitingTime']))\n",
    "    print(\"mean: \", mean, \"95% ci for the waitingTime: \", (mean-1.96*se, mean+1.96*se), \"Number of samples: \", len(env.log['requestWaitingTime'])) \n",
    "\n",
    "\n",
    "def pCancelledCI(env):\n",
    "    k = len(env.log['requestCancelled'])\n",
    "    n = len(env.log['arrivalEvent'])\n",
    "    alpha = 0.05\n",
    "    p_u, p_o = beta.ppf([alpha/2, 1 - alpha/2], [k, k + 1], [n - k + 1, n - k])\n",
    "    print(\"p(cancelled) \", k/n ,\"95% ci for the p(cancelled) \", (p_u,p_o), \"Number of samples: \", len(env.log['requestCancelled'])) \n",
    "\n"
   ]
  },
  {
   "cell_type": "code",
   "execution_count": 41,
   "metadata": {},
   "outputs": [
    {
     "name": "stdout",
     "output_type": "stream",
     "text": [
      "4.049266687672799\n",
      "2.705797668497012\n",
      "mean:  4.049266687672799 95% ci for the waitingTime:  (4.043560417483711, 4.054972957861887) Number of samples:  863770\n",
      "p(cancelled)  0.06660353791140289 95% ci for the p(cancelled)  (0.06607862275791719, 0.0671313614903821) Number of samples:  57535\n"
     ]
    },
    {
     "data": {
      "image/png": "[encoded data removed]",
      "text/plain": [
       "<Figure size 432x288 with 1 Axes>"
      ]
     },
     "metadata": {},
     "output_type": "display_data"
    }
   ],
   "source": [
    "# Round robin\n",
    "env = Environment(stopTime=stopTime)\n",
    "loadBalancer = LoadBalancer(nServers=10, environment=env) #roundrobin\n",
    "source = Source(arrivalsPerSecond, requestTypes, loadBalancer, env)\n",
    "env.run(debug=False, showProgress=False)\n",
    "waitingTimeCI(env)\n",
    "pCancelledCI(env)"
   ]
  },
  {
   "cell_type": "code",
   "execution_count": 42,
   "metadata": {},
   "outputs": [
    {
     "name": "stdout",
     "output_type": "stream",
     "text": [
      "4.653424984407925\n",
      "2.952143837108573\n",
      "mean:  4.653424984407925 95% ci for the waitingTime:  (4.647198995334953, 4.659650973480898) Number of samples:  863715\n",
      "p(cancelled)  0.1277170641352165 95% ci for the p(cancelled)  (0.1270138608372387, 0.12842276494290344) Number of samples:  110322\n"
     ]
    },
    {
     "data": {
      "image/png": "[encoded data removed]",
      "text/plain": [
       "<Figure size 432x288 with 1 Axes>"
      ]
     },
     "metadata": {},
     "output_type": "display_data"
    }
   ],
   "source": [
    "# random\n",
    "env = Environment(stopTime=stopTime)\n",
    "loadBalancer = LoadBalancerRandom(nServers=10, environment=env) #roundrobin\n",
    "source = Source(arrivalsPerSecond, requestTypes, loadBalancer, env)\n",
    "env.run(debug=False, showProgress=False)\n",
    "waitingTimeCI(env)\n",
    "pCancelledCI(env)"
   ]
  },
  {
   "cell_type": "code",
   "execution_count": 4,
   "metadata": {},
   "outputs": [
    {
     "name": "stdout",
     "output_type": "stream",
     "text": [
      "4.9806914197288\n",
      "2.8849551439369963\n",
      "mean:  4.9806914197288 95% ci for the waitingTime:  (4.974608492356287, 4.9867743471013135) Number of samples:  864102\n",
      "p(cancelled)  0.14968910963731194 95% ci for the p(cancelled)  (0.14893749056440947, 0.15044307775195565) Number of samples:  129351\n"
     ]
    },
    {
     "data": {
      "image/png": "[encoded data removed]",
      "text/plain": [
       "<Figure size 432x288 with 1 Axes>"
      ]
     },
     "metadata": {},
     "output_type": "display_data"
    }
   ],
   "source": [
    "# shortest queue\n",
    "env = Environment(stopTime=stopTime)\n",
    "loadBalancer = LoadBalancerShortestQueue(nServers=10, environment=env) #roundrobin\n",
    "source = Source(arrivalsPerSecond, requestTypes, loadBalancer, env)\n",
    "env.run(debug=False, showProgress=False)\n",
    "waitingTimeCI(env)\n",
    "pCancelledCI(env)"
   ]
  }
 ],
 "metadata": {
  "kernelspec": {
   "display_name": "base",
   "language": "python",
   "name": "python3"
  },
  "language_info": {
   "codemirror_mode": {
    "name": "ipython",
    "version": 3
   },
   "file_extension": ".py",
   "mimetype": "text/x-python",
   "name": "python",
   "nbconvert_exporter": "python",
   "pygments_lexer": "ipython3",
   "version": "3.8.3"
  },
  "orig_nbformat": 4,
  "vscode": {
   "interpreter": {
    "hash": "2ed55c8a3b358c2f14bd6337b3a23ad56aa9692a3206675e532b0b29d35d2a5c"
   }
  }
 },
 "nbformat": 4,
 "nbformat_minor": 2
}
